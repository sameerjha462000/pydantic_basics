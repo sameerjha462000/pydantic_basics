{
 "cells": [
  {
   "cell_type": "markdown",
   "id": "f5f9ce38-9460-4009-a6f5-928e0098d4c4",
   "metadata": {},
   "source": [
    "# Validating Assignments"
   ]
  },
  {
   "cell_type": "markdown",
   "id": "b198c4a5-c9e2-4873-8c3f-4a2f300fd631",
   "metadata": {},
   "source": [
    "As we saw earlier, while Pydantic will validate data as it is deserializing it, by default it does not perform validation when we modify the data in a an existing model instance:"
   ]
  },
  {
   "cell_type": "code",
   "execution_count": 1,
   "id": "768bd0a1-94be-41d9-9d61-afb110f743ee",
   "metadata": {},
   "outputs": [],
   "source": [
    "from pydantic import BaseModel, ConfigDict, ValidationError"
   ]
  },
  {
   "cell_type": "code",
   "execution_count": 2,
   "id": "1cc984e1-4eec-4fa4-8c62-8b3ce65f09d0",
   "metadata": {},
   "outputs": [],
   "source": [
    "class Model(BaseModel):\n",
    "    field: int"
   ]
  },
  {
   "cell_type": "code",
   "execution_count": 3,
   "id": "7b64542f-84ab-4db7-a5ca-d2eecde64d96",
   "metadata": {},
   "outputs": [],
   "source": [
    "m = Model(field=10)"
   ]
  },
  {
   "cell_type": "code",
   "execution_count": 4,
   "id": "733b68d6-0e26-4f18-bc4a-05a01252fe9f",
   "metadata": {},
   "outputs": [],
   "source": [
    "m.field = \"Python\""
   ]
  },
  {
   "cell_type": "code",
   "execution_count": 5,
   "id": "0143f426-e9e6-481d-a257-33854fa3765c",
   "metadata": {},
   "outputs": [
    {
     "data": {
      "text/plain": [
       "Model(field='Python')"
      ]
     },
     "execution_count": 5,
     "metadata": {},
     "output_type": "execute_result"
    }
   ],
   "source": [
    "m"
   ]
  },
  {
   "cell_type": "markdown",
   "id": "d6b46911-4873-4924-8c64-a83e9e518f7f",
   "metadata": {},
   "source": [
    "As you can see, we were able to change a `field` to a value that does not conform to the field specifications.\n",
    "\n",
    "Just like not validating defaults, Pydantic does not validate assignments once the model has been created. In most cases this is OK, as we can control the values we set in an existing model. But in some cases, we might want to enable this feature.\n",
    "\n",
    "We can enable it at the model level (so applies to all fields), using `model_config`:"
   ]
  },
  {
   "cell_type": "code",
   "execution_count": 6,
   "id": "d52f55cd-78d9-49f2-8c13-153ad7e258eb",
   "metadata": {},
   "outputs": [],
   "source": [
    "class Model(BaseModel):\n",
    "    model_config = ConfigDict(validate_assignment=True)\n",
    "    \n",
    "    field: int"
   ]
  },
  {
   "cell_type": "code",
   "execution_count": 7,
   "id": "35946e16-82a1-4176-b7a5-1bd075008188",
   "metadata": {},
   "outputs": [],
   "source": [
    "m = Model(field=10)"
   ]
  },
  {
   "cell_type": "code",
   "execution_count": 8,
   "id": "2e714f4e-93be-4ed4-bb83-60f61a9b9b34",
   "metadata": {},
   "outputs": [
    {
     "name": "stdout",
     "output_type": "stream",
     "text": [
      "1 validation error for Model\n",
      "field\n",
      "  Input should be a valid integer, unable to parse string as an integer [type=int_parsing, input_value='Python', input_type=str]\n",
      "    For further information visit https://errors.pydantic.dev/2.5/v/int_parsing\n"
     ]
    }
   ],
   "source": [
    "try:\n",
    "    m.field = \"Python\"\n",
    "except ValidationError as ex:\n",
    "    print(ex)"
   ]
  },
  {
   "cell_type": "code",
   "execution_count": null,
   "id": "81dad10c-e6c0-4922-b3cf-1c83cf4b92f9",
   "metadata": {},
   "outputs": [],
   "source": []
  }
 ],
 "metadata": {
  "kernelspec": {
   "display_name": "Python 3 (ipykernel)",
   "language": "python",
   "name": "python3"
  },
  "language_info": {
   "codemirror_mode": {
    "name": "ipython",
    "version": 3
   },
   "file_extension": ".py",
   "mimetype": "text/x-python",
   "name": "python",
   "nbconvert_exporter": "python",
   "pygments_lexer": "ipython3",
   "version": "3.12.0"
  }
 },
 "nbformat": 4,
 "nbformat_minor": 5
}
