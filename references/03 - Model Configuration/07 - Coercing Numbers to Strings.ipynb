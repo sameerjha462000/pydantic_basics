{
 "cells": [
  {
   "cell_type": "markdown",
   "id": "30199f32-1be3-40d8-b8ac-16410d62dbab",
   "metadata": {},
   "source": [
    "# Coercing Numbers to Strings"
   ]
  },
  {
   "cell_type": "markdown",
   "id": "e50f1ac4-6c9e-4909-b3ea-1b56f35b69f3",
   "metadata": {},
   "source": [
    "We've already discussed that objects, although they have a string representation (`str()`), will not be coerced to strings in Pydantic models."
   ]
  },
  {
   "cell_type": "code",
   "execution_count": 1,
   "id": "a2c56e4c-a78e-44b3-893c-4cdace23390c",
   "metadata": {},
   "outputs": [],
   "source": [
    "from pydantic import BaseModel, ConfigDict, ValidationError"
   ]
  },
  {
   "cell_type": "code",
   "execution_count": 2,
   "id": "a720abc8-ae94-45a5-adde-9afe09304494",
   "metadata": {},
   "outputs": [],
   "source": [
    "class Model(BaseModel):\n",
    "    field: str"
   ]
  },
  {
   "cell_type": "code",
   "execution_count": 3,
   "id": "6034457d-ffa6-428c-84b7-ed3c0ed279ff",
   "metadata": {},
   "outputs": [
    {
     "name": "stdout",
     "output_type": "stream",
     "text": [
      "1 validation error for Model\n",
      "field\n",
      "  Input should be a valid string [type=string_type, input_value=100, input_type=int]\n",
      "    For further information visit https://errors.pydantic.dev/2.5/v/string_type\n"
     ]
    }
   ],
   "source": [
    "try:\n",
    "    Model(field=100)\n",
    "except ValidationError as ex:\n",
    "    print(ex)"
   ]
  },
  {
   "cell_type": "markdown",
   "id": "bbb7d96d-27cf-4508-a8e8-c8a0c3c70625",
   "metadata": {},
   "source": [
    "There are times however, when we **do** want numbers to be coerced to strings."
   ]
  },
  {
   "cell_type": "markdown",
   "id": "6450e9b4-5495-44fb-aedb-af61c2c7714c",
   "metadata": {},
   "source": [
    "To achieve this, we can configure our model to enable automatic coercion of numbers to strings. For other object types, we can also use custom validators, which we'll cover later in the course."
   ]
  },
  {
   "cell_type": "code",
   "execution_count": 4,
   "id": "b5aa585b-f643-4049-9e72-3ba20e557e84",
   "metadata": {},
   "outputs": [],
   "source": [
    "class Model(BaseModel):\n",
    "    model_config = ConfigDict(coerce_numbers_to_str=True)\n",
    "    \n",
    "    field: str"
   ]
  },
  {
   "cell_type": "markdown",
   "id": "e17579d8-e3c2-45f6-b1cc-2f349828764f",
   "metadata": {},
   "source": [
    "And now the previous example will work just fine:"
   ]
  },
  {
   "cell_type": "code",
   "execution_count": 5,
   "id": "da433f26-1c78-45e9-b7d2-41ef876502b6",
   "metadata": {},
   "outputs": [
    {
     "data": {
      "text/plain": [
       "Model(field='100')"
      ]
     },
     "execution_count": 5,
     "metadata": {},
     "output_type": "execute_result"
    }
   ],
   "source": [
    "Model(field=100)"
   ]
  },
  {
   "cell_type": "code",
   "execution_count": null,
   "id": "bda40ca0-8208-4cc0-b8a1-922ed2d27da7",
   "metadata": {},
   "outputs": [],
   "source": []
  }
 ],
 "metadata": {
  "kernelspec": {
   "display_name": "Python 3 (ipykernel)",
   "language": "python",
   "name": "python3"
  },
  "language_info": {
   "codemirror_mode": {
    "name": "ipython",
    "version": 3
   },
   "file_extension": ".py",
   "mimetype": "text/x-python",
   "name": "python",
   "nbconvert_exporter": "python",
   "pygments_lexer": "ipython3",
   "version": "3.12.0"
  }
 },
 "nbformat": 4,
 "nbformat_minor": 5
}
