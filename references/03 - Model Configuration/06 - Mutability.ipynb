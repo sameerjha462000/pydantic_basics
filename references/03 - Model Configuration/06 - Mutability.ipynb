{
 "cells": [
  {
   "cell_type": "markdown",
   "id": "050d4ba7-ec79-45da-90f3-88b8c3f07d9c",
   "metadata": {},
   "source": [
    "# Mutability"
   ]
  },
  {
   "cell_type": "markdown",
   "id": "c366871c-d368-44c5-b1b4-85c6f3b5bea6",
   "metadata": {},
   "source": [
    "By default, Pydantic models are mutable, i.e. we can modify the values in a model instance after the model instance has been created."
   ]
  },
  {
   "cell_type": "code",
   "execution_count": 1,
   "id": "d498652d-e304-41f5-bce4-0a65ce6d0ba9",
   "metadata": {},
   "outputs": [],
   "source": [
    "from pydantic import BaseModel, ConfigDict, ValidationError"
   ]
  },
  {
   "cell_type": "code",
   "execution_count": 2,
   "id": "2e5927e9-4431-41f8-97a1-ebed9e8a813a",
   "metadata": {},
   "outputs": [],
   "source": [
    "class Model(BaseModel):\n",
    "    field: int"
   ]
  },
  {
   "cell_type": "code",
   "execution_count": 3,
   "id": "b1874931-d5e5-4a14-bf04-c431ca80128c",
   "metadata": {},
   "outputs": [],
   "source": [
    "m = Model(field=10)"
   ]
  },
  {
   "cell_type": "markdown",
   "id": "1975d0d4-7743-4491-b333-a33e6ae48e16",
   "metadata": {},
   "source": [
    "And we can mutate the model instance:"
   ]
  },
  {
   "cell_type": "code",
   "execution_count": 4,
   "id": "ca6ced5c-ddd5-4f60-8e08-0739f5b1901a",
   "metadata": {},
   "outputs": [],
   "source": [
    "m.field=20"
   ]
  },
  {
   "cell_type": "code",
   "execution_count": 5,
   "id": "22e59039-0afc-4b7f-a7a7-b4e4b87f19df",
   "metadata": {},
   "outputs": [
    {
     "data": {
      "text/plain": [
       "Model(field=20)"
      ]
     },
     "execution_count": 5,
     "metadata": {},
     "output_type": "execute_result"
    }
   ],
   "source": [
    "m"
   ]
  },
  {
   "cell_type": "markdown",
   "id": "cf0c6137-f213-470a-9e53-6eb8e84e60a4",
   "metadata": {},
   "source": [
    "We can actually control whether the model is mutable or not using `model_config`:"
   ]
  },
  {
   "cell_type": "code",
   "execution_count": 6,
   "id": "bcb7bdb9-263a-47a5-ada4-e88445dead5f",
   "metadata": {},
   "outputs": [],
   "source": [
    "class Model(BaseModel):\n",
    "    model_config = ConfigDict(frozen=True)\n",
    "\n",
    "    field: int"
   ]
  },
  {
   "cell_type": "code",
   "execution_count": 7,
   "id": "7605fa1e-d1dd-454a-b688-f608ba878563",
   "metadata": {},
   "outputs": [],
   "source": [
    "m = Model(field=10)"
   ]
  },
  {
   "cell_type": "code",
   "execution_count": 8,
   "id": "20f496d8-b456-4243-b49f-eaab17a1bea9",
   "metadata": {},
   "outputs": [
    {
     "name": "stdout",
     "output_type": "stream",
     "text": [
      "1 validation error for Model\n",
      "field\n",
      "  Instance is frozen [type=frozen_instance, input_value=20, input_type=int]\n",
      "    For further information visit https://errors.pydantic.dev/2.5/v/frozen_instance\n"
     ]
    }
   ],
   "source": [
    "try:\n",
    "    m.field=20\n",
    "except ValidationError as ex:\n",
    "    print(ex)"
   ]
  },
  {
   "cell_type": "markdown",
   "id": "94354a84-b24f-41b0-b370-6d227aac4803",
   "metadata": {},
   "source": [
    "Apart from the obvious implication that we can create models that we know will be immutable, one important side-effect of this is that we can now use a model as a key in a dictionary (remember that dictionary keys cannot be mutable objects)."
   ]
  },
  {
   "cell_type": "code",
   "execution_count": 9,
   "id": "f48c737e-90a6-4cc0-bfc8-4ad4ba3e4535",
   "metadata": {},
   "outputs": [],
   "source": [
    "class Model(BaseModel):\n",
    "    model_config = ConfigDict(frozen=False)  # the default\n",
    "\n",
    "    field: int"
   ]
  },
  {
   "cell_type": "code",
   "execution_count": 10,
   "id": "1d0fc765-dd64-4aee-aa4a-f450abdd91c8",
   "metadata": {},
   "outputs": [],
   "source": [
    "m = Model(field=10)"
   ]
  },
  {
   "cell_type": "markdown",
   "id": "7a9587aa-9ae4-4c84-94ca-e078df156dbf",
   "metadata": {},
   "source": [
    "And if we attempt to use `m` as a key in a dictionary:"
   ]
  },
  {
   "cell_type": "code",
   "execution_count": 11,
   "id": "3ecc43d2-8ab3-4e4c-a339-2713c0b57a47",
   "metadata": {},
   "outputs": [
    {
     "name": "stdout",
     "output_type": "stream",
     "text": [
      "unhashable type: 'Model'\n"
     ]
    }
   ],
   "source": [
    "try:\n",
    "    d = {m: \"not gonna work!\"}\n",
    "except TypeError as ex:\n",
    "    print(ex)"
   ]
  },
  {
   "cell_type": "markdown",
   "id": "4df90d66-5e44-487d-902f-25920574c1b5",
   "metadata": {},
   "source": [
    "Note that this is not a validation error - the exception here has nothing to do with Pydantic, bur rather with Python dictionaries itself.\n",
    "\n",
    "If we make the model immutable:"
   ]
  },
  {
   "cell_type": "code",
   "execution_count": 12,
   "id": "42ba7662-5401-47d0-a9e5-aff95e4502f0",
   "metadata": {},
   "outputs": [],
   "source": [
    "class Model(BaseModel):\n",
    "    model_config = ConfigDict(frozen=True)\n",
    "\n",
    "    field: int"
   ]
  },
  {
   "cell_type": "code",
   "execution_count": 13,
   "id": "aa58bdbc-428a-4661-9b90-1231daf535a9",
   "metadata": {},
   "outputs": [],
   "source": [
    "m = Model(field=10)"
   ]
  },
  {
   "cell_type": "markdown",
   "id": "3cf2e3fb-96ce-4aaa-805d-36fb07c7f7d2",
   "metadata": {},
   "source": [
    "We can now use `m` as key in a dictionary:"
   ]
  },
  {
   "cell_type": "code",
   "execution_count": 14,
   "id": "65c0b69b-9eb8-43ee-b9b8-c5c1982b2c9e",
   "metadata": {},
   "outputs": [],
   "source": [
    "d = {m: \"all's good!\"}"
   ]
  },
  {
   "cell_type": "code",
   "execution_count": 15,
   "id": "d5f3cb07-8187-4a23-a363-5900ea4b4481",
   "metadata": {},
   "outputs": [
    {
     "data": {
      "text/plain": [
       "{Model(field=10): \"all's good!\"}"
      ]
     },
     "execution_count": 15,
     "metadata": {},
     "output_type": "execute_result"
    }
   ],
   "source": [
    "d"
   ]
  },
  {
   "cell_type": "code",
   "execution_count": null,
   "id": "2017969c-64a1-495a-bf75-bbff511d9f4a",
   "metadata": {},
   "outputs": [],
   "source": []
  }
 ],
 "metadata": {
  "kernelspec": {
   "display_name": "Python 3 (ipykernel)",
   "language": "python",
   "name": "python3"
  },
  "language_info": {
   "codemirror_mode": {
    "name": "ipython",
    "version": 3
   },
   "file_extension": ".py",
   "mimetype": "text/x-python",
   "name": "python",
   "nbconvert_exporter": "python",
   "pygments_lexer": "ipython3",
   "version": "3.12.0"
  }
 },
 "nbformat": 4,
 "nbformat_minor": 5
}
