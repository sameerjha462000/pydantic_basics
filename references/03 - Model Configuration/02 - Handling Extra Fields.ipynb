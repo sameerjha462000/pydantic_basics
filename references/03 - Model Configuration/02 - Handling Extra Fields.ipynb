{
 "cells": [
  {
   "cell_type": "markdown",
   "id": "5a56c3af-285b-4b30-bd8f-54b93cab6d7c",
   "metadata": {},
   "source": [
    "# Handling Extra Fields"
   ]
  },
  {
   "cell_type": "markdown",
   "id": "d1310e57-6b40-4cea-9349-2cdd72904fc9",
   "metadata": {},
   "source": [
    "We'll start looking at the various model configuration options available starting with how Pydantic handles fields present in the data being deserialized that are not defined in the model itself. These are called \"extra\" fields.\n",
    "\n",
    "There are a ton of different configuration options, which can be found [here](https://docs.pydantic.dev/latest/api/config)"
   ]
  },
  {
   "cell_type": "code",
   "execution_count": 1,
   "id": "d6b48210-2bd2-4200-b484-e465026428fa",
   "metadata": {},
   "outputs": [],
   "source": [
    "from pydantic import BaseModel, ConfigDict, ValidationError"
   ]
  },
  {
   "cell_type": "code",
   "execution_count": 2,
   "id": "a6971ce5-bb30-45db-bd24-d12804cd494c",
   "metadata": {},
   "outputs": [],
   "source": [
    "class Model(BaseModel):\n",
    "    field_1: int"
   ]
  },
  {
   "cell_type": "code",
   "execution_count": 3,
   "id": "2769a44a-3fa5-4c65-922a-237e011e9116",
   "metadata": {},
   "outputs": [
    {
     "data": {
      "text/plain": [
       "Model(field_1=10)"
      ]
     },
     "execution_count": 3,
     "metadata": {},
     "output_type": "execute_result"
    }
   ],
   "source": [
    "m = Model(field_1=10, field_2=20)\n",
    "m"
   ]
  },
  {
   "cell_type": "markdown",
   "id": "062cabf1-7ed4-430f-835b-c5306e534c79",
   "metadata": {},
   "source": [
    "As you can see, `field_2` is not present in the representation, and is in fact not present in the model instance dictionary either:"
   ]
  },
  {
   "cell_type": "code",
   "execution_count": 4,
   "id": "645e5d01-aee5-4988-9d5b-cac35744a3bd",
   "metadata": {},
   "outputs": [
    {
     "data": {
      "text/plain": [
       "{'field_1': 10}"
      ]
     },
     "execution_count": 4,
     "metadata": {},
     "output_type": "execute_result"
    }
   ],
   "source": [
    "dict(m)"
   ]
  },
  {
   "cell_type": "markdown",
   "id": "a6c173bc-9174-48e9-8935-0bf669bf358a",
   "metadata": {},
   "source": [
    "Pydantic provides us a way to see what fields were provided in the data, but that were not defined in the model:"
   ]
  },
  {
   "cell_type": "code",
   "execution_count": 5,
   "id": "fa3c2ebc-fdc3-4aa4-b8cd-d8353db10b82",
   "metadata": {},
   "outputs": [],
   "source": [
    "m.model_extra"
   ]
  },
  {
   "cell_type": "markdown",
   "id": "e4ae9ebc-fcb4-4c3a-9a85-dff7aefa394f",
   "metadata": {},
   "source": [
    "As you can see, even that is empty.\n",
    "\n",
    "So, the default is for Pydantic to totally ignore extra fields present in the data."
   ]
  },
  {
   "cell_type": "markdown",
   "id": "9a774d0a-369e-4c3d-b299-90d669e7c2fd",
   "metadata": {},
   "source": [
    "We can modify this behavior by configuring our model."
   ]
  },
  {
   "cell_type": "markdown",
   "id": "7299988a-5a28-4c2c-91e9-0d2aca8dea6e",
   "metadata": {},
   "source": [
    "The configuration option we are looking for here, is called `extra`.\n",
    "\n",
    "Specific documentation for this option, is in the page I linked above, or can be directly accessed [here](https://docs.pydantic.dev/latest/api/config/#pydantic.config.ConfigDict.extra)"
   ]
  },
  {
   "cell_type": "markdown",
   "id": "5f546ba9-1ae0-4e30-ada1-de59aa83ac3e",
   "metadata": {},
   "source": [
    "From the documentation we see that this `extra` option can be set to one of three possible values:\n",
    "- `ignore` - the default behavior\n",
    "- `forbid` - this will cause a validation error is extra fields are encountered in the data\n",
    "- `allow` - this will actually add the field and it's value to the model, but of course without any validation."
   ]
  },
  {
   "cell_type": "markdown",
   "id": "ea137037-20ce-477f-b15b-bda9140240cf",
   "metadata": {},
   "source": [
    "Let's look at how to explicitly set the behavior to `ignore` (which is the default, so we don't really need to do this - just illustrating)."
   ]
  },
  {
   "cell_type": "code",
   "execution_count": 6,
   "id": "c1e4d5d7-a77c-4080-9a23-b5f5196047ec",
   "metadata": {},
   "outputs": [],
   "source": [
    "class Model(BaseModel):\n",
    "    model_config = ConfigDict(extra=\"ignore\")\n",
    "\n",
    "    field_1: int = 0"
   ]
  },
  {
   "cell_type": "code",
   "execution_count": 7,
   "id": "e9bc6f73-2fe9-480f-bb2e-bd58ed538802",
   "metadata": {},
   "outputs": [
    {
     "data": {
      "text/plain": [
       "Model(field_1=10)"
      ]
     },
     "execution_count": 7,
     "metadata": {},
     "output_type": "execute_result"
    }
   ],
   "source": [
    "Model(field_1=10, extra_1=\"data\")"
   ]
  },
  {
   "cell_type": "markdown",
   "id": "5b72a92c-ec9d-4689-b484-36ef60095788",
   "metadata": {},
   "source": [
    "Now let's change the behavior to raise a validation exception if extra fields are present."
   ]
  },
  {
   "cell_type": "code",
   "execution_count": 8,
   "id": "b8d1e6a9-11c5-40bb-aca5-0255518b0e17",
   "metadata": {},
   "outputs": [],
   "source": [
    "class Model(BaseModel):\n",
    "    model_config = ConfigDict(extra=\"forbid\")\n",
    "\n",
    "    field_1: int = 0"
   ]
  },
  {
   "cell_type": "code",
   "execution_count": 9,
   "id": "218de419-5fd4-4191-af15-54388139d2a3",
   "metadata": {},
   "outputs": [
    {
     "name": "stdout",
     "output_type": "stream",
     "text": [
      "1 validation error for Model\n",
      "extra_1\n",
      "  Extra inputs are not permitted [type=extra_forbidden, input_value='data', input_type=str]\n",
      "    For further information visit https://errors.pydantic.dev/2.5/v/extra_forbidden\n"
     ]
    }
   ],
   "source": [
    "try:\n",
    "    Model(field_1=10, extra_1=\"data\")\n",
    "except ValidationError as ex:\n",
    "    print(ex)"
   ]
  },
  {
   "cell_type": "markdown",
   "id": "5c2283a5-99fb-47e4-a843-428d41547f5e",
   "metadata": {},
   "source": [
    "As you can see, we now get a validation exception. This is typically used in REST APIs where you want to ensure that request payloads do not contain extra data - it is better to be strict about it and let the caller know there is something wrong with their request payload, as they may not realize they have a problem on their end."
   ]
  },
  {
   "cell_type": "markdown",
   "id": "8f51b457-197d-4f94-9f9e-834fdb37e428",
   "metadata": {},
   "source": [
    "The last option is to actually allow (and handle) extra fields:"
   ]
  },
  {
   "cell_type": "code",
   "execution_count": 10,
   "id": "63df3e98-d0f8-4f2c-8552-537599594397",
   "metadata": {},
   "outputs": [],
   "source": [
    "class Model(BaseModel):\n",
    "    model_config = ConfigDict(extra=\"allow\")\n",
    "\n",
    "    field_1: int = 0"
   ]
  },
  {
   "cell_type": "markdown",
   "id": "18f1a4cd-525b-4c8f-9680-2ddd0f9e60b9",
   "metadata": {},
   "source": [
    "Now we can specify additional (undefined) fields in the data, and Pydantic will add it to the model **instance** (so no common schema here, the **model** schema still stays what it was)"
   ]
  },
  {
   "cell_type": "code",
   "execution_count": 11,
   "id": "363d5d9a-c088-4cde-840c-9f4d168251d1",
   "metadata": {},
   "outputs": [
    {
     "data": {
      "text/plain": [
       "Model(field_1=10, extra_1='data')"
      ]
     },
     "execution_count": 11,
     "metadata": {},
     "output_type": "execute_result"
    }
   ],
   "source": [
    "m = Model(field_1=10, extra_1=\"data\")\n",
    "m"
   ]
  },
  {
   "cell_type": "markdown",
   "id": "d8bc46c1-a323-4e85-a004-b828a21d1239",
   "metadata": {},
   "source": [
    "As you can see, the ad-hoc field is present in the representation, as well as the instance dictionary:"
   ]
  },
  {
   "cell_type": "code",
   "execution_count": 12,
   "id": "4877ddd8-387a-4327-bbd1-cf13424596fa",
   "metadata": {},
   "outputs": [
    {
     "data": {
      "text/plain": [
       "{'field_1': 10, 'extra_1': 'data'}"
      ]
     },
     "execution_count": 12,
     "metadata": {},
     "output_type": "execute_result"
    }
   ],
   "source": [
    "dict(m)"
   ]
  },
  {
   "cell_type": "markdown",
   "id": "cae174ca-c2c7-4a84-b75e-5b0c76562594",
   "metadata": {},
   "source": [
    "The model fields have not changed :"
   ]
  },
  {
   "cell_type": "code",
   "execution_count": 13,
   "id": "737578e5-757f-4aaf-a32c-86a3f17cbebe",
   "metadata": {},
   "outputs": [
    {
     "data": {
      "text/plain": [
       "{'field_1': FieldInfo(annotation=int, required=False, default=0)}"
      ]
     },
     "execution_count": 13,
     "metadata": {},
     "output_type": "execute_result"
    }
   ],
   "source": [
    "m.model_fields"
   ]
  },
  {
   "cell_type": "markdown",
   "id": "95db2999-d755-419c-939b-74921abed8d8",
   "metadata": {},
   "source": [
    "When we serialize the instance, that data will be present:"
   ]
  },
  {
   "cell_type": "code",
   "execution_count": 14,
   "id": "98306fe4-58d7-4415-bb56-eaadad1ac27a",
   "metadata": {},
   "outputs": [
    {
     "data": {
      "text/plain": [
       "{'field_1': 10, 'extra_1': 'data'}"
      ]
     },
     "execution_count": 14,
     "metadata": {},
     "output_type": "execute_result"
    }
   ],
   "source": [
    "m.model_dump()"
   ]
  },
  {
   "cell_type": "markdown",
   "id": "83dbb9b8-04ba-4534-b098-55f9e42997e1",
   "metadata": {},
   "source": [
    "We can perform some inspection like we covered in an earlier video to see what's going on."
   ]
  },
  {
   "cell_type": "code",
   "execution_count": 15,
   "id": "536cf8fb-ab4f-4f05-9ee6-3f998ef3a6eb",
   "metadata": {},
   "outputs": [
    {
     "data": {
      "text/plain": [
       "{'extra_1', 'field_1'}"
      ]
     },
     "execution_count": 15,
     "metadata": {},
     "output_type": "execute_result"
    }
   ],
   "source": [
    "m.model_fields_set"
   ]
  },
  {
   "cell_type": "markdown",
   "id": "5c121e7d-3c05-4afd-8d82-ac2a55a93075",
   "metadata": {},
   "source": [
    "As you can see, the field name `extra_1` is present in this view of the data - that's becuase it **has** been set on the model, and was set from the data, not from a default."
   ]
  },
  {
   "cell_type": "markdown",
   "id": "050b6181-92c3-4391-9521-16214524baa1",
   "metadata": {},
   "source": [
    "We also have a property to list just those extra fields:"
   ]
  },
  {
   "cell_type": "code",
   "execution_count": 16,
   "id": "68faa774-9d88-466b-aee4-8f01bb3bc6e4",
   "metadata": {},
   "outputs": [
    {
     "data": {
      "text/plain": [
       "{'extra_1': 'data'}"
      ]
     },
     "execution_count": 16,
     "metadata": {},
     "output_type": "execute_result"
    }
   ],
   "source": [
    "m.model_extra"
   ]
  },
  {
   "cell_type": "markdown",
   "id": "f226658e-3473-4580-8917-5dd0f02e6691",
   "metadata": {},
   "source": [
    "And here we get a dictionary contain those extra fields - can prove useful in some cases.\n",
    "\n",
    "For example, you may query an API that returns a rather complex JSON object. Out of that object, you are only interested in a few pieces of information, but you need to retain the other information for some other purpose (maybe logging). Instead of defining the entire JSON schema with a Pydantic model, you would only define the pieces you need in your Pydantic model, set the model to `allow` and now you have the option of validating only the portions you are interested in, and just taking in the rest of the data as-is. This can also reduce your validation burden - don't validate what you are not going to use."
   ]
  },
  {
   "cell_type": "markdown",
   "id": "66b9fe83-9e55-417d-97e7-5616ceced4e2",
   "metadata": {},
   "source": [
    "One last piece of information regarding model configs, we can always recover the specific configuration for a model (or an instance of it) if we need to (often for debugging purposes):"
   ]
  },
  {
   "cell_type": "code",
   "execution_count": 17,
   "id": "162cddc6-f7fe-4798-9381-8da4b15bc89f",
   "metadata": {},
   "outputs": [
    {
     "data": {
      "text/plain": [
       "{'extra': 'allow'}"
      ]
     },
     "execution_count": 17,
     "metadata": {},
     "output_type": "execute_result"
    }
   ],
   "source": [
    "Model.model_config"
   ]
  },
  {
   "cell_type": "code",
   "execution_count": 18,
   "id": "40cd38a1-d0dc-4f42-81ad-7ed4b8347bf9",
   "metadata": {},
   "outputs": [
    {
     "data": {
      "text/plain": [
       "{'extra': 'allow'}"
      ]
     },
     "execution_count": 18,
     "metadata": {},
     "output_type": "execute_result"
    }
   ],
   "source": [
    "m.model_config"
   ]
  },
  {
   "cell_type": "markdown",
   "id": "189915ff-5cc3-4784-9446-a093a06efbcc",
   "metadata": {},
   "source": [
    "As you can see from the above, the `model_config` attribute is a simply `dict` object, not a `ConfigDict` object."
   ]
  },
  {
   "cell_type": "markdown",
   "id": "b6a7606b-5dd4-4a81-ab43-b673bd2da9ba",
   "metadata": {},
   "source": [
    "You can certainly use a plain dictionary to configure your model:"
   ]
  },
  {
   "cell_type": "code",
   "execution_count": 19,
   "id": "f2c058d9-f624-4262-a7b7-cbacd7391c31",
   "metadata": {},
   "outputs": [],
   "source": [
    "class Model(BaseModel):\n",
    "    model_config = {\"extra\": \"allow\"}\n",
    "\n",
    "    field_1: int = 0"
   ]
  },
  {
   "cell_type": "code",
   "execution_count": 20,
   "id": "6640fb7f-f9fb-47df-8c38-4537c76a9640",
   "metadata": {},
   "outputs": [
    {
     "data": {
      "text/plain": [
       "Model(field_1=0, extra_1=100)"
      ]
     },
     "execution_count": 20,
     "metadata": {},
     "output_type": "execute_result"
    }
   ],
   "source": [
    "Model(extra_1=100)"
   ]
  },
  {
   "cell_type": "markdown",
   "id": "50a9afd9-f3a9-46a3-8916-df4dc5ca440a",
   "metadata": {},
   "source": [
    "The reason you should probably not do that is because `ConfigDict` is a `typedict`, and so offers some protections against messing up your configuration. And type checkers (and your IDE) should pick up on that before you even run your code. Like providing a string value for a config that actually expects a boolean for example."
   ]
  },
  {
   "cell_type": "code",
   "execution_count": null,
   "id": "74bb35d0-d586-4688-aa93-94d8c6219ea4",
   "metadata": {},
   "outputs": [],
   "source": []
  }
 ],
 "metadata": {
  "kernelspec": {
   "display_name": "Python 3 (ipykernel)",
   "language": "python",
   "name": "python3"
  },
  "language_info": {
   "codemirror_mode": {
    "name": "ipython",
    "version": 3
   },
   "file_extension": ".py",
   "mimetype": "text/x-python",
   "name": "python",
   "nbconvert_exporter": "python",
   "pygments_lexer": "ipython3",
   "version": "3.12.0"
  }
 },
 "nbformat": 4,
 "nbformat_minor": 5
}
