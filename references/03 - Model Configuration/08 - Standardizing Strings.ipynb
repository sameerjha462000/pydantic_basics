{
 "cells": [
  {
   "cell_type": "markdown",
   "id": "671f766e-89f8-464d-a9dd-6f5197f03a45",
   "metadata": {},
   "source": [
    "# Standardizing Strings"
   ]
  },
  {
   "cell_type": "markdown",
   "id": "f531c224-1b0e-4665-a9b0-81f037856f28",
   "metadata": {},
   "source": [
    "Often, when dealing with strings, we have to worry about things like case or leading/trailing whitespace."
   ]
  },
  {
   "cell_type": "markdown",
   "id": "cc99c423-852c-4e1a-9676-dac212b31597",
   "metadata": {},
   "source": [
    "For example, if we were to receive the following two strings in data:"
   ]
  },
  {
   "cell_type": "code",
   "execution_count": 1,
   "id": "945c71e7-9b8d-4d77-83b3-5bb85490d7b1",
   "metadata": {},
   "outputs": [],
   "source": [
    "s1 = \"   python\"\n",
    "s2 = \" python   \\t\""
   ]
  },
  {
   "cell_type": "markdown",
   "id": "9da4b5eb-6de6-483e-a676-ec41eeb36548",
   "metadata": {},
   "source": [
    "Obviously, these strings are not equal:"
   ]
  },
  {
   "cell_type": "code",
   "execution_count": 2,
   "id": "747e31da-0224-4631-8312-70ad7fc251a7",
   "metadata": {},
   "outputs": [
    {
     "data": {
      "text/plain": [
       "False"
      ]
     },
     "execution_count": 2,
     "metadata": {},
     "output_type": "execute_result"
    }
   ],
   "source": [
    "s1 == s2"
   ]
  },
  {
   "cell_type": "markdown",
   "id": "55b99956-ddbf-4336-a2b9-644dd69cb00c",
   "metadata": {},
   "source": [
    "The question becomes, do we want `s1` and `s2` to compare equal or not?"
   ]
  },
  {
   "cell_type": "markdown",
   "id": "220931b7-5911-40e9-9131-89ac60511495",
   "metadata": {},
   "source": [
    "Usually, the answer is yes, and we want to \"ignore\" the white space.\n",
    "\n",
    "In plain Python we would do this:"
   ]
  },
  {
   "cell_type": "code",
   "execution_count": 3,
   "id": "dce10900-ebc5-43b9-98e2-e6b48f96ccbd",
   "metadata": {},
   "outputs": [
    {
     "data": {
      "text/plain": [
       "True"
      ]
     },
     "execution_count": 3,
     "metadata": {},
     "output_type": "execute_result"
    }
   ],
   "source": [
    "s1.strip() == s2.strip()"
   ]
  },
  {
   "cell_type": "markdown",
   "id": "a14ff281-7461-431c-b951-f64c22eb22ae",
   "metadata": {},
   "source": [
    "We could use custom validators to help work around this issue, but Pydantic offers us a way to set this up at the model level:"
   ]
  },
  {
   "cell_type": "code",
   "execution_count": 4,
   "id": "046e9e79-0dc9-4792-bbd3-74a392aa2844",
   "metadata": {},
   "outputs": [],
   "source": [
    "from pydantic import BaseModel, ConfigDict"
   ]
  },
  {
   "cell_type": "code",
   "execution_count": 5,
   "id": "41b558ec-dbdd-4776-9a78-9f9850d50cb8",
   "metadata": {},
   "outputs": [],
   "source": [
    "class Model(BaseModel):\n",
    "    model_config = ConfigDict(str_strip_whitespace=True)\n",
    "\n",
    "    field: str"
   ]
  },
  {
   "cell_type": "code",
   "execution_count": 6,
   "id": "9b42fa36-19a4-4aae-8739-f026587e5b24",
   "metadata": {},
   "outputs": [],
   "source": [
    "m1 = Model(field=\"   python\")\n",
    "m2 = Model(field=\"  python   \\t\")"
   ]
  },
  {
   "cell_type": "code",
   "execution_count": 7,
   "id": "00cded09-e727-4015-b8ff-272788362fd5",
   "metadata": {},
   "outputs": [
    {
     "data": {
      "text/plain": [
       "Model(field='python')"
      ]
     },
     "execution_count": 7,
     "metadata": {},
     "output_type": "execute_result"
    }
   ],
   "source": [
    "m1"
   ]
  },
  {
   "cell_type": "code",
   "execution_count": 8,
   "id": "9d05c0f5-6dc9-46f9-b96c-e30110335cdf",
   "metadata": {},
   "outputs": [
    {
     "data": {
      "text/plain": [
       "Model(field='python')"
      ]
     },
     "execution_count": 8,
     "metadata": {},
     "output_type": "execute_result"
    }
   ],
   "source": [
    "m2"
   ]
  },
  {
   "cell_type": "code",
   "execution_count": 9,
   "id": "7e57fe29-c009-48ce-b777-111971bed19f",
   "metadata": {},
   "outputs": [
    {
     "data": {
      "text/plain": [
       "True"
      ]
     },
     "execution_count": 9,
     "metadata": {},
     "output_type": "execute_result"
    }
   ],
   "source": [
    "m1 == m2"
   ]
  },
  {
   "cell_type": "markdown",
   "id": "91afcb92-666a-4d8e-9a6d-b03bc233a592",
   "metadata": {},
   "source": [
    "As you can see, the whitespace was stripped, and we can now easily compare strings with automatic whitespace stripping."
   ]
  },
  {
   "cell_type": "markdown",
   "id": "721a13d9-0bab-4009-a38a-a656b48849ac",
   "metadata": {},
   "source": [
    "Another issue we may face, is whether we want to standardize certain string fields to be all lower case or upper case."
   ]
  },
  {
   "cell_type": "markdown",
   "id": "878a89b8-1f54-4a69-bfaa-b219904f5b28",
   "metadata": {},
   "source": [
    "Pydantic has a way to specify that all string types in a model should be converted to either lowercase or uppercase.\n",
    "\n",
    "If we want a different standardization, then we'll have to use custom validators, which we'll look at soon!\n",
    "\n",
    "But depending on your needs, using Pydantic's built-in auto lower or upper case conversions might be helpful."
   ]
  },
  {
   "cell_type": "code",
   "execution_count": 10,
   "id": "70983a2c-73b8-42ae-8b42-55d21f82bf3a",
   "metadata": {},
   "outputs": [],
   "source": [
    "class Model(BaseModel):\n",
    "    model_config=ConfigDict(str_to_lower=True)\n",
    "\n",
    "    field: str"
   ]
  },
  {
   "cell_type": "code",
   "execution_count": 11,
   "id": "e2b4ad74-80f8-42dd-9e3f-7533a1b0e7b6",
   "metadata": {},
   "outputs": [
    {
     "data": {
      "text/plain": [
       "Model(field='python')"
      ]
     },
     "execution_count": 11,
     "metadata": {},
     "output_type": "execute_result"
    }
   ],
   "source": [
    "m = Model(field=\"PYTHON\")\n",
    "m"
   ]
  },
  {
   "cell_type": "markdown",
   "id": "3890e4e8-2666-4ad6-abff-da4da68cec21",
   "metadata": {},
   "source": [
    "As you can see, the string was converted to lower case when the data was deserialized."
   ]
  },
  {
   "cell_type": "markdown",
   "id": "fdeb17ef-6e80-48e9-b511-2d5470196fa9",
   "metadata": {},
   "source": [
    "We can choose uppercase conversion instead as well:"
   ]
  },
  {
   "cell_type": "code",
   "execution_count": 12,
   "id": "4ecb8cf8-02b9-49c1-9615-da092724f2b0",
   "metadata": {},
   "outputs": [],
   "source": [
    "class Model(BaseModel):\n",
    "    model_config=ConfigDict(str_to_upper=True)\n",
    "\n",
    "    field: str"
   ]
  },
  {
   "cell_type": "code",
   "execution_count": 13,
   "id": "108ff834-269e-4e76-a38d-bc46af848c23",
   "metadata": {},
   "outputs": [
    {
     "data": {
      "text/plain": [
       "Model(field='PYTHON')"
      ]
     },
     "execution_count": 13,
     "metadata": {},
     "output_type": "execute_result"
    }
   ],
   "source": [
    "m = Model(field=\"Python\")\n",
    "m"
   ]
  },
  {
   "cell_type": "code",
   "execution_count": null,
   "id": "efa703f3-ab62-42cd-b2f3-1b41465a9cff",
   "metadata": {},
   "outputs": [],
   "source": []
  }
 ],
 "metadata": {
  "kernelspec": {
   "display_name": "Python 3 (ipykernel)",
   "language": "python",
   "name": "python3"
  },
  "language_info": {
   "codemirror_mode": {
    "name": "ipython",
    "version": 3
   },
   "file_extension": ".py",
   "mimetype": "text/x-python",
   "name": "python",
   "nbconvert_exporter": "python",
   "pygments_lexer": "ipython3",
   "version": "3.12.0"
  }
 },
 "nbformat": 4,
 "nbformat_minor": 5
}
