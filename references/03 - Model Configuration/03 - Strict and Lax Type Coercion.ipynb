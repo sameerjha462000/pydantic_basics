{
 "cells": [
  {
   "cell_type": "markdown",
   "id": "56ad5669-b4dd-4fc2-8300-a63e7841350f",
   "metadata": {},
   "source": [
    "# Strict and Lax Type Coercion"
   ]
  },
  {
   "cell_type": "markdown",
   "id": "3042cb40-1423-4c80-8281-f6bc6970d115",
   "metadata": {},
   "source": [
    "As we saw earlier, Pydantic performs a lax type coercion."
   ]
  },
  {
   "cell_type": "code",
   "execution_count": 1,
   "id": "9f25f9bc-8d8e-40f9-a899-31517403237b",
   "metadata": {},
   "outputs": [],
   "source": [
    "from pydantic import BaseModel, ConfigDict, ValidationError"
   ]
  },
  {
   "cell_type": "code",
   "execution_count": 2,
   "id": "320c506a-8123-4b68-b606-45db3e4cba88",
   "metadata": {},
   "outputs": [],
   "source": [
    "class Model(BaseModel):\n",
    "    field_1: str\n",
    "    field_2: float\n",
    "    field_3: list\n",
    "    field_4: tuple"
   ]
  },
  {
   "cell_type": "markdown",
   "id": "4a842955-d968-450e-8b54-82f02a0185cc",
   "metadata": {},
   "source": [
    "Let's see how lax coercion handles some data:"
   ]
  },
  {
   "cell_type": "code",
   "execution_count": 3,
   "id": "ebf45ff8-e9e1-4bc8-96ed-1f06882feeec",
   "metadata": {},
   "outputs": [
    {
     "name": "stdout",
     "output_type": "stream",
     "text": [
      "1 validation error for Model\n",
      "field_1\n",
      "  Input should be a valid string [type=string_type, input_value=100, input_type=int]\n",
      "    For further information visit https://errors.pydantic.dev/2.5/v/string_type\n"
     ]
    }
   ],
   "source": [
    "try:\n",
    "    Model(field_1=100, field_2=1, field_3=(1, 2, 3), field_4=[1, 2, 3])\n",
    "except ValidationError as ex:\n",
    "    print(ex)"
   ]
  },
  {
   "cell_type": "markdown",
   "id": "24e03f6e-794e-4c3c-ba7b-3c667a26d2d2",
   "metadata": {},
   "source": [
    "As you can see, with lax coercion, Pydantic was happy with coercing a tuple into a list, a list into a tuple, and an integer into a float."
   ]
  },
  {
   "cell_type": "markdown",
   "id": "871db68b-4350-45f7-b107-696180c419ce",
   "metadata": {},
   "source": [
    "So, if we just fix that one field, let's see what we get:"
   ]
  },
  {
   "cell_type": "code",
   "execution_count": 4,
   "id": "9a09965b-4521-454a-aa95-fb22f3d5dd6d",
   "metadata": {},
   "outputs": [
    {
     "data": {
      "text/plain": [
       "Model(field_1='abc', field_2=1.0, field_3=[1, 2, 3], field_4=(1, 2, 3))"
      ]
     },
     "execution_count": 4,
     "metadata": {},
     "output_type": "execute_result"
    }
   ],
   "source": [
    "Model(field_1=\"abc\", field_2=1, field_3=(1, 2, 3), field_4=[1, 2, 3])"
   ]
  },
  {
   "cell_type": "markdown",
   "id": "efb27e6f-dcbf-4e2d-8026-d1cef8441f74",
   "metadata": {},
   "source": [
    "As you can see the list and tuples were coerced just fine, as was the integer to a float."
   ]
  },
  {
   "cell_type": "markdown",
   "id": "b6f17e9b-219f-4ed8-be2d-581f05d0ae4b",
   "metadata": {},
   "source": [
    "This may not be the behavior we want. We can of course write custom validators if we need specialized type validation beyond what Pydantic offers us. We could also set lax (or strict conversion) on the model in general (or, as we'll see laterm, we could also set it on a field by field basis.)"
   ]
  },
  {
   "cell_type": "markdown",
   "id": "d7e82aee-e4c6-4813-a362-0ba0ee40c960",
   "metadata": {},
   "source": [
    "For now, we're going to set the model, overall, to be in strict coercion mode."
   ]
  },
  {
   "cell_type": "markdown",
   "id": "29f204ec-a3cb-4195-a8cf-18d904df1b9f",
   "metadata": {},
   "source": [
    "This is done via `model_config` as well."
   ]
  },
  {
   "cell_type": "code",
   "execution_count": 5,
   "id": "fd65263c-6293-43ee-b65f-5840073d1609",
   "metadata": {},
   "outputs": [],
   "source": [
    "class Model(BaseModel):\n",
    "    model_config = ConfigDict(strict=True)  # default is False\n",
    "    \n",
    "    field_1: str\n",
    "    field_2: float\n",
    "    field_3: list\n",
    "    field_4: tuple"
   ]
  },
  {
   "cell_type": "markdown",
   "id": "1affdec2-0b16-453c-9c62-711b45a14103",
   "metadata": {},
   "source": [
    "And now, if we try our sample example again:"
   ]
  },
  {
   "cell_type": "code",
   "execution_count": 6,
   "id": "7e286991-0ff1-478a-be3d-76eaa8b88e91",
   "metadata": {},
   "outputs": [
    {
     "name": "stdout",
     "output_type": "stream",
     "text": [
      "2 validation errors for Model\n",
      "field_1\n",
      "  Input should be a valid string [type=string_type, input_value=100, input_type=int]\n",
      "    For further information visit https://errors.pydantic.dev/2.5/v/string_type\n",
      "field_4\n",
      "  Input should be a valid tuple [type=tuple_type, input_value=[1, 2, 3], input_type=list]\n",
      "    For further information visit https://errors.pydantic.dev/2.5/v/tuple_type\n"
     ]
    }
   ],
   "source": [
    "try:\n",
    "    Model(field_1=100, field_2=1, field_3=(1, 2, 3), field_4=[1, 2, 3])\n",
    "except ValidationError as ex:\n",
    "    print(ex)"
   ]
  },
  {
   "cell_type": "markdown",
   "id": "a651164a-72ce-478b-af26-30fbb9b4195e",
   "metadata": {},
   "source": [
    "You'll notice that the validation exceptions are slightly different.\n",
    "\n",
    "We have one extra one, coercing of a list into a tuple was not possible. But coercing a tuple into a list is still acceptable.\n",
    "\n",
    "Again, beware of assuming that no type coercion will take place when you set the mode to strict. Some still will, not as much as lax mode, but still some.\n",
    "\n",
    "For specific information on what lax and strict coercion means, we can look at the Pydantic docs [here](https://docs.pydantic.dev/latest/concepts/conversion_table/)\n",
    "\n",
    "Look at the list type, and see if coercing a tuple to a list is supported in strict mode. What about lax mode?\n",
    "\n",
    "Now do the same for coercing to tuples - see what the documentation say is supported for both lax and strict mode."
   ]
  },
  {
   "cell_type": "markdown",
   "id": "5bce94f0-d8aa-4994-8aac-7a766b686f69",
   "metadata": {},
   "source": [
    "So far, we have only really looked at type coercions for Python data types."
   ]
  },
  {
   "cell_type": "markdown",
   "id": "136adcf8-0ac8-4644-8ee1-f6ad5159a071",
   "metadata": {},
   "source": [
    "But, when deserializing JSON data, the behavior is slightly different.\n",
    "\n",
    "JSON is quite simple, it does not have many different types like Python does.\n",
    "\n",
    "Basically JSON understands these data types:\n",
    "- **boolean**: `true` or `false` (Note the lower case)\n",
    "- **number** (float or integer does not actually matter)\n",
    "- **string** (enclosed by double quotes)\n",
    "- a **null** value (represented by the characters `null`, no surrounding quotes)\n",
    "- an **array** (square brackets, comma separated values of any JSON type, including arrays or objects)\n",
    "- an **object** (basically a dictionary, delimited by curly braces, with key: value pairs, where keys must be strings, and values can be any JSON type, including an object itself)"
   ]
  },
  {
   "cell_type": "markdown",
   "id": "e17b345d-3f1a-4950-905b-df74f020dafe",
   "metadata": {},
   "source": [
    "For example:"
   ]
  },
  {
   "cell_type": "code",
   "execution_count": 7,
   "id": "f7adacdf-cecc-45a1-9670-db9c0bd499c6",
   "metadata": {},
   "outputs": [],
   "source": [
    "json_data = '''\n",
    "{\n",
    "    \"field_1\": true,\n",
    "    \"field_2\": 10.5,\n",
    "    \"field_3\": 10,\n",
    "    \"field_4\": null,\n",
    "    \"field_5\": [1, 2, 3],\n",
    "    \"field_6\": {\n",
    "        \"a\": 1,\n",
    "        \"b\": 2,\n",
    "        \"c\": [3, 4, 5]\n",
    "    },\n",
    "    \"field_7\": [\n",
    "        [1, 0, 0],\n",
    "        [0, 1, 0],\n",
    "        [0, 0, 1]\n",
    "    ]\n",
    "}\n",
    "'''"
   ]
  },
  {
   "cell_type": "markdown",
   "id": "8011c847-7ef3-48b6-b342-65962e5b7553",
   "metadata": {},
   "source": [
    "Python supports json deserialization (from JSON to dictionary) natively with the `json` module's `loads()` function."
   ]
  },
  {
   "cell_type": "code",
   "execution_count": 8,
   "id": "d7913555-0da9-48b0-9557-a937e45f74b7",
   "metadata": {},
   "outputs": [
    {
     "name": "stdout",
     "output_type": "stream",
     "text": [
      "{'field_1': True,\n",
      " 'field_2': 10.5,\n",
      " 'field_3': 10,\n",
      " 'field_4': None,\n",
      " 'field_5': [1, 2, 3],\n",
      " 'field_6': {'a': 1, 'b': 2, 'c': [3, 4, 5]},\n",
      " 'field_7': [[1, 0, 0], [0, 1, 0], [0, 0, 1]]}\n"
     ]
    }
   ],
   "source": [
    "import json\n",
    "from pprint import pprint\n",
    "\n",
    "data = json.loads(json_data)\n",
    "pprint(data)"
   ]
  },
  {
   "cell_type": "markdown",
   "id": "40acff43-51d5-4af7-9181-a55281e801f1",
   "metadata": {},
   "source": [
    "You'll notice that Python had to make certain assumptions about the data types - it also does it's own form of type coercion.\n",
    "\n",
    "But the coercion Python does may not be exactly what we want.\n",
    "\n",
    "For example, notice that all those arrays in the JSON were coerced into lists - maybe we want tuples.\n",
    "\n",
    "That value `10` was coerced into an `int` - maybe we actually want it to be a float.\n",
    "\n",
    "Also, the objects (dictionaries), were coerced into Python dictionaries - maybe we want them to be deserialized into a Pydantic model instead of a dictionary! (We'll see nested Pydantic models later in the course)."
   ]
  },
  {
   "cell_type": "code",
   "execution_count": 9,
   "id": "32d96fa6-c201-4366-9603-b857c384bc6b",
   "metadata": {},
   "outputs": [
    {
     "data": {
      "text/plain": [
       "int"
      ]
     },
     "execution_count": 9,
     "metadata": {},
     "output_type": "execute_result"
    }
   ],
   "source": [
    "type(data['field_3'])"
   ]
  },
  {
   "cell_type": "markdown",
   "id": "dedd29ab-4496-48bc-b102-a25b026c0630",
   "metadata": {},
   "source": [
    "So, we could turn this into a Pydantic model instead, and get the specific types we want.\n",
    "\n",
    "Remember that with Python types the coercion was unable to coerce a list into a tuple.\n",
    "\n",
    "However, when deseriaizing with Pydantic this is not the case. If you look at the documentation I linked above, you'll see that JSON arrays for example can be coerced into lists, tuples, sets, and a few more. And again, there will be slightly stricter coercion rules when using strict coercion mode."
   ]
  },
  {
   "cell_type": "markdown",
   "id": "c1e5b596-d974-43b4-8064-dbcf60e83b44",
   "metadata": {},
   "source": [
    "Let's create a model for this JSON data:"
   ]
  },
  {
   "cell_type": "code",
   "execution_count": 10,
   "id": "a1978e13-66e9-4177-b35f-232e3ed93f67",
   "metadata": {},
   "outputs": [],
   "source": [
    "json_data = '''\n",
    "{\n",
    "    \"field_1\": true,\n",
    "    \"field_2\": 10,\n",
    "    \"field_3\": 1,\n",
    "    \"field_4\": null,\n",
    "    \"field_5\": [1, 2, 3],\n",
    "    \"field_6\": [\"a\", \"b\", \"c\"],\n",
    "    \"field_7\": {\"a\": 1, \"b\": 2}\n",
    "}\n",
    "'''"
   ]
  },
  {
   "cell_type": "markdown",
   "id": "583e0a24-f609-4845-9855-137a0aedf80d",
   "metadata": {},
   "source": [
    "We want the following types for the fields:\n",
    "- `field_1`: bool\n",
    "- `field_2`: float\n",
    "- `field_3`: int\n",
    "- `field_4`: nullable string\n",
    "- `field_5`: tuple of integers\n",
    "- `field_6`: set of strings\n",
    "- `field_7`: dictionary"
   ]
  },
  {
   "cell_type": "code",
   "execution_count": 11,
   "id": "3c1b056d-291d-4d49-ba6f-b4c951f7a439",
   "metadata": {},
   "outputs": [],
   "source": [
    "class Model(BaseModel):\n",
    "    field_1: bool\n",
    "    field_2: float\n",
    "    field_3: int\n",
    "    field_4: str | None\n",
    "    field_5: tuple[int, ...]\n",
    "    field_6: set[str]\n",
    "    field_7: dict"
   ]
  },
  {
   "cell_type": "markdown",
   "id": "d01998f6-e944-464d-88f6-8525728c1b22",
   "metadata": {},
   "source": [
    "We can even use strict mode if we prefer:"
   ]
  },
  {
   "cell_type": "code",
   "execution_count": 12,
   "id": "f1416dfe-1168-4706-93ad-653b402fc0e7",
   "metadata": {},
   "outputs": [],
   "source": [
    "class Model(BaseModel):\n",
    "    model_config = ConfigDict(strict=True)\n",
    "    \n",
    "    field_1: bool\n",
    "    field_2: float\n",
    "    field_3: int\n",
    "    field_4: str | None\n",
    "    field_5: tuple[int, ...]\n",
    "    field_6: set[str]\n",
    "    field_7: dict"
   ]
  },
  {
   "cell_type": "code",
   "execution_count": 13,
   "id": "30e0c3a7-be75-48d7-9458-6111460ca86a",
   "metadata": {},
   "outputs": [],
   "source": [
    "data = Model.model_validate_json(json_data)"
   ]
  },
  {
   "cell_type": "markdown",
   "id": "ebe995c7-1ad7-47af-ac3d-981277565539",
   "metadata": {},
   "source": [
    "And now, not only have we deserialized the JSON data, but we have the corrcet types, and we validated the data (like the fact that we only accept a tuple of integers, or values that can be coerced to integers)."
   ]
  },
  {
   "cell_type": "code",
   "execution_count": 14,
   "id": "9a5270c5-7a12-4a85-8d7c-4c08c109ca2f",
   "metadata": {},
   "outputs": [
    {
     "data": {
      "text/plain": [
       "Model(field_1=True, field_2=10.0, field_3=1, field_4=None, field_5=(1, 2, 3), field_6={'a', 'b', 'c'}, field_7={'a': 1, 'b': 2})"
      ]
     },
     "execution_count": 14,
     "metadata": {},
     "output_type": "execute_result"
    }
   ],
   "source": [
    "data"
   ]
  },
  {
   "cell_type": "code",
   "execution_count": 15,
   "id": "a8e7aae8-9ed3-4f20-9d4b-47ed77710ae0",
   "metadata": {},
   "outputs": [
    {
     "data": {
      "text/plain": [
       "tuple"
      ]
     },
     "execution_count": 15,
     "metadata": {},
     "output_type": "execute_result"
    }
   ],
   "source": [
    "type(data.field_5)"
   ]
  },
  {
   "cell_type": "code",
   "execution_count": 16,
   "id": "e9a3e4a2-3887-4fb9-9f78-3c91c72bf112",
   "metadata": {},
   "outputs": [
    {
     "data": {
      "text/plain": [
       "set"
      ]
     },
     "execution_count": 16,
     "metadata": {},
     "output_type": "execute_result"
    }
   ],
   "source": [
    "type(data.field_6)"
   ]
  },
  {
   "cell_type": "code",
   "execution_count": 17,
   "id": "06f3bf4d-d72e-45ac-bd2d-11e97d17c6bd",
   "metadata": {},
   "outputs": [
    {
     "data": {
      "text/plain": [
       "dict"
      ]
     },
     "execution_count": 17,
     "metadata": {},
     "output_type": "execute_result"
    }
   ],
   "source": [
    "type(data.field_7)"
   ]
  },
  {
   "cell_type": "markdown",
   "id": "c56dafc0-486a-4a1e-93e3-5864048bcc67",
   "metadata": {},
   "source": [
    "If we try to load a JSON object that does not conform to our model schema, for example a float in the tuple, or an integer in the set:"
   ]
  },
  {
   "cell_type": "code",
   "execution_count": 18,
   "id": "9383617f-063f-4f54-89ea-5cc0426dd643",
   "metadata": {},
   "outputs": [
    {
     "name": "stdout",
     "output_type": "stream",
     "text": [
      "2 validation errors for Model\n",
      "field_5.2\n",
      "  Input should be a valid integer [type=int_type, input_value=3.5, input_type=float]\n",
      "    For further information visit https://errors.pydantic.dev/2.5/v/int_type\n",
      "field_6.2\n",
      "  Input should be a valid string [type=string_type, input_value=100, input_type=int]\n",
      "    For further information visit https://errors.pydantic.dev/2.5/v/string_type\n"
     ]
    }
   ],
   "source": [
    "json_data = '''\n",
    "{\n",
    "    \"field_1\": true,\n",
    "    \"field_2\": 10,\n",
    "    \"field_3\": 1,\n",
    "    \"field_4\": null,\n",
    "    \"field_5\": [1, 2, 3.5],\n",
    "    \"field_6\": [\"a\", \"b\", 100],\n",
    "    \"field_7\": {\"a\": 1, \"b\": 2}\n",
    "}\n",
    "'''\n",
    "\n",
    "try:\n",
    "    Model.model_validate_json(json_data)\n",
    "except ValidationError as ex:\n",
    "    print(ex)\n",
    "    "
   ]
  },
  {
   "cell_type": "code",
   "execution_count": null,
   "id": "12754ba3-cbed-423f-9dc8-ab12630b3fba",
   "metadata": {},
   "outputs": [],
   "source": []
  }
 ],
 "metadata": {
  "kernelspec": {
   "display_name": "Python 3 (ipykernel)",
   "language": "python",
   "name": "python3"
  },
  "language_info": {
   "codemirror_mode": {
    "name": "ipython",
    "version": 3
   },
   "file_extension": ".py",
   "mimetype": "text/x-python",
   "name": "python",
   "nbconvert_exporter": "python",
   "pygments_lexer": "ipython3",
   "version": "3.12.0"
  }
 },
 "nbformat": 4,
 "nbformat_minor": 5
}
