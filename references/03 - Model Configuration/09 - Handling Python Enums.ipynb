{
 "cells": [
  {
   "cell_type": "markdown",
   "id": "44ef6b59-7010-4615-87f4-e9b48c689007",
   "metadata": {},
   "source": [
    "# Handling Python Enums"
   ]
  },
  {
   "cell_type": "markdown",
   "id": "6ba1a32c-4728-4283-a3dd-9b463cb37797",
   "metadata": {},
   "source": [
    "Very often we use Enums in our models in order to restrict fields to only certain values."
   ]
  },
  {
   "cell_type": "markdown",
   "id": "303fb570-155d-47b1-b5bd-00993dc922da",
   "metadata": {},
   "source": [
    "For example, we might have a field that should be a list of pre-defined colors."
   ]
  },
  {
   "cell_type": "markdown",
   "id": "023dc72f-bf5c-4847-8171-c583cbffb441",
   "metadata": {},
   "source": [
    "In our Python code, we don't want to use just string literals - that's prone to error (typos), so we use enumerations."
   ]
  },
  {
   "cell_type": "code",
   "execution_count": 1,
   "id": "03c656eb-4830-4998-909a-3e904f633e3a",
   "metadata": {},
   "outputs": [],
   "source": [
    "from enum import Enum"
   ]
  },
  {
   "cell_type": "code",
   "execution_count": 2,
   "id": "bb3384df-1913-494d-9005-e4dcaec6d9da",
   "metadata": {},
   "outputs": [],
   "source": [
    "class Color(Enum):\n",
    "    red = \"Red\"\n",
    "    green = \"Green\"\n",
    "    blue = \"Blue\"\n",
    "    orange = \"Orange\"\n",
    "    yellow = \"Yellow\"\n",
    "    cyan = \"Cyan\"\n",
    "    white = \"White\"\n",
    "    black = \"Black\""
   ]
  },
  {
   "cell_type": "markdown",
   "id": "01270ec3-5316-474d-bd80-8bfbcb557cfb",
   "metadata": {},
   "source": [
    "In our Python code we then simply use these colors by using their enumeration values:"
   ]
  },
  {
   "cell_type": "code",
   "execution_count": 3,
   "id": "57792db1-aa82-4799-86b5-286de1f9d7d9",
   "metadata": {},
   "outputs": [
    {
     "data": {
      "text/plain": [
       "<Color.red: 'Red'>"
      ]
     },
     "execution_count": 3,
     "metadata": {},
     "output_type": "execute_result"
    }
   ],
   "source": [
    "Color.red"
   ]
  },
  {
   "cell_type": "markdown",
   "id": "5bc08525-423f-485c-a5b3-7d0382dc3f7d",
   "metadata": {},
   "source": [
    "We can recover the associated value:"
   ]
  },
  {
   "cell_type": "code",
   "execution_count": 4,
   "id": "26938be2-4287-4400-a352-4c37d3d6b13a",
   "metadata": {},
   "outputs": [
    {
     "data": {
      "text/plain": [
       "'Orange'"
      ]
     },
     "execution_count": 4,
     "metadata": {},
     "output_type": "execute_result"
    }
   ],
   "source": [
    "Color.orange.value"
   ]
  },
  {
   "cell_type": "markdown",
   "id": "98469ca3-7b8c-41cf-b608-51366a0459a4",
   "metadata": {},
   "source": [
    "Suppose we have an API endpoint where the request body requires one of these colors to be specified.\n",
    "\n",
    "We would like to use that enumeration in our model, to impose a constraint as to what values can be passed in, **and** map it back to our enumeration when the data gets deserialized."
   ]
  },
  {
   "cell_type": "markdown",
   "id": "3f8b1281-7378-4de2-8d62-b1dfa0185785",
   "metadata": {},
   "source": [
    "We can simply specify the enumeration as the field type:"
   ]
  },
  {
   "cell_type": "code",
   "execution_count": 5,
   "id": "0ca6254c-588f-4211-a501-d2fcbe183443",
   "metadata": {},
   "outputs": [],
   "source": [
    "from pydantic import BaseModel, ConfigDict, ValidationError"
   ]
  },
  {
   "cell_type": "code",
   "execution_count": 6,
   "id": "b5f08b03-211c-4fe2-92c1-091c4c81ed37",
   "metadata": {},
   "outputs": [],
   "source": [
    "class Model(BaseModel):\n",
    "    color: Color"
   ]
  },
  {
   "cell_type": "markdown",
   "id": "c3a0e1af-5745-48bf-8610-4ba35de0354c",
   "metadata": {},
   "source": [
    "Now let's try deserializing using Python objects:"
   ]
  },
  {
   "cell_type": "code",
   "execution_count": 7,
   "id": "ab29f468-1448-49f5-87b8-690ce77a9294",
   "metadata": {},
   "outputs": [
    {
     "data": {
      "text/plain": [
       "Model(color=<Color.red: 'Red'>)"
      ]
     },
     "execution_count": 7,
     "metadata": {},
     "output_type": "execute_result"
    }
   ],
   "source": [
    "Model(color=Color.red)"
   ]
  },
  {
   "cell_type": "markdown",
   "id": "5773d928-2007-461e-82b7-212e0c5e9a28",
   "metadata": {},
   "source": [
    "And what about deserializing a JSON string?"
   ]
  },
  {
   "cell_type": "code",
   "execution_count": 8,
   "id": "291ba90f-c9b2-41dc-9d21-eb8e46a35502",
   "metadata": {},
   "outputs": [
    {
     "data": {
      "text/plain": [
       "Model(color=<Color.red: 'Red'>)"
      ]
     },
     "execution_count": 8,
     "metadata": {},
     "output_type": "execute_result"
    }
   ],
   "source": [
    "data = \"\"\"\n",
    "{\n",
    "    \"color\": \"Red\"\n",
    "}\n",
    "\"\"\"\n",
    "\n",
    "Model.model_validate_json(data)"
   ]
  },
  {
   "cell_type": "markdown",
   "id": "db6bd56f-df34-4f42-910d-c3fee79630f2",
   "metadata": {},
   "source": [
    "And if we choose a value that is not in our enumeration:"
   ]
  },
  {
   "cell_type": "code",
   "execution_count": 9,
   "id": "20b7c5cc-19d7-4c1f-8aed-9aa19603a07f",
   "metadata": {},
   "outputs": [
    {
     "name": "stdout",
     "output_type": "stream",
     "text": [
      "1 validation error for Model\n",
      "color\n",
      "  Input should be 'Red', 'Green', 'Blue', 'Orange', 'Yellow', 'Cyan', 'White' or 'Black' [type=enum, input_value='Magenta', input_type=str]\n"
     ]
    }
   ],
   "source": [
    "data = \"\"\"\n",
    "{\n",
    "    \"color\": \"Magenta\"\n",
    "}\n",
    "\"\"\"\n",
    "\n",
    "try:\n",
    "    Model.model_validate_json(data)\n",
    "except ValidationError as ex:\n",
    "    print(ex)"
   ]
  },
  {
   "cell_type": "markdown",
   "id": "41f804bf-22cc-4e4d-9637-f3d7ce424b9d",
   "metadata": {},
   "source": [
    "What about serializing the model? If we serialize to a Python dictionary, we would expect the enumeration type to be kept in the serializtion:"
   ]
  },
  {
   "cell_type": "code",
   "execution_count": 10,
   "id": "52a00a19-981f-4e24-8da9-fbc95a8c0d5d",
   "metadata": {},
   "outputs": [],
   "source": [
    "data = \"\"\"\n",
    "{\n",
    "    \"color\": \"Red\"\n",
    "}\n",
    "\"\"\"\n",
    "\n",
    "m = Model.model_validate_json(data)"
   ]
  },
  {
   "cell_type": "code",
   "execution_count": 11,
   "id": "500b0c19-ee21-4f6d-ba78-aeb098f5162f",
   "metadata": {},
   "outputs": [
    {
     "data": {
      "text/plain": [
       "{'color': <Color.red: 'Red'>}"
      ]
     },
     "execution_count": 11,
     "metadata": {},
     "output_type": "execute_result"
    }
   ],
   "source": [
    "m.model_dump()"
   ]
  },
  {
   "cell_type": "markdown",
   "id": "6258a18a-eb92-4fd6-a43b-3102f5eabfcb",
   "metadata": {},
   "source": [
    "And if we serialize to JSON:"
   ]
  },
  {
   "cell_type": "code",
   "execution_count": 12,
   "id": "412720f3-6e37-4352-b978-9b52bd348efb",
   "metadata": {},
   "outputs": [
    {
     "data": {
      "text/plain": [
       "'{\"color\":\"Red\"}'"
      ]
     },
     "execution_count": 12,
     "metadata": {},
     "output_type": "execute_result"
    }
   ],
   "source": [
    "m.model_dump_json()"
   ]
  },
  {
   "cell_type": "markdown",
   "id": "a56b4e7c-e509-46e5-9402-c21d0b3d4c3a",
   "metadata": {},
   "source": [
    "So, we see that when we deserialize the data, the field is populated with a enum member."
   ]
  },
  {
   "cell_type": "markdown",
   "id": "7f38afd2-a59a-4b5b-9b8d-ad28b5440281",
   "metadata": {},
   "source": [
    "But what if we actually just want the value of the enum, instead of the enum member itself - i.e. we want to use an enum in our model to just limit the values that will be accepted, and keep the values as they are, not as enum members?"
   ]
  },
  {
   "cell_type": "markdown",
   "id": "de0d0716-b3ed-4864-b852-bdc1f105d21a",
   "metadata": {},
   "source": [
    "We can do this by setting a configuration on our model: `use_enum_values`, which by default is `False`."
   ]
  },
  {
   "cell_type": "code",
   "execution_count": 13,
   "id": "caab460b-1e43-4945-9ccc-24908777087b",
   "metadata": {},
   "outputs": [],
   "source": [
    "class Model(BaseModel):\n",
    "    model_config = ConfigDict(use_enum_values=True)\n",
    "\n",
    "    color: Color"
   ]
  },
  {
   "cell_type": "code",
   "execution_count": 14,
   "id": "7ed9b336-9715-45cb-a8ab-e0950cc08282",
   "metadata": {},
   "outputs": [],
   "source": [
    "m = Model(color=Color.cyan)"
   ]
  },
  {
   "cell_type": "code",
   "execution_count": 15,
   "id": "07c3ab34-10e0-42a8-8b42-ac730ebe304d",
   "metadata": {},
   "outputs": [
    {
     "data": {
      "text/plain": [
       "'Cyan'"
      ]
     },
     "execution_count": 15,
     "metadata": {},
     "output_type": "execute_result"
    }
   ],
   "source": [
    "m.color"
   ]
  },
  {
   "cell_type": "code",
   "execution_count": 16,
   "id": "a4a0c3bf-d9e9-46b9-a6e0-d5a700474ae1",
   "metadata": {},
   "outputs": [
    {
     "data": {
      "text/plain": [
       "str"
      ]
     },
     "execution_count": 16,
     "metadata": {},
     "output_type": "execute_result"
    }
   ],
   "source": [
    "type(m.color)"
   ]
  },
  {
   "cell_type": "markdown",
   "id": "d69cee18-5838-44a3-8e01-d5695de70759",
   "metadata": {},
   "source": [
    "As you can see, our field is now a string, not an enumeration member."
   ]
  },
  {
   "cell_type": "markdown",
   "id": "e20bfbef-6661-4987-8e9d-29cbb67fb19f",
   "metadata": {},
   "source": [
    "And of course, serializing to a Python dict will also serialize the field as a string:"
   ]
  },
  {
   "cell_type": "code",
   "execution_count": 17,
   "id": "fee970ba-ef8c-4ec4-872a-47549db0ef2b",
   "metadata": {},
   "outputs": [
    {
     "data": {
      "text/plain": [
       "{'color': 'Cyan'}"
      ]
     },
     "execution_count": 17,
     "metadata": {},
     "output_type": "execute_result"
    }
   ],
   "source": [
    "m.model_dump()"
   ]
  },
  {
   "cell_type": "markdown",
   "id": "6a451bc0-cc31-4ce4-b214-ce466d6711e0",
   "metadata": {},
   "source": [
    "But, our validation still holds:"
   ]
  },
  {
   "cell_type": "code",
   "execution_count": 18,
   "id": "26fe306d-7331-4c16-8218-d8e3d4fa0ad5",
   "metadata": {},
   "outputs": [
    {
     "name": "stdout",
     "output_type": "stream",
     "text": [
      "1 validation error for Model\n",
      "color\n",
      "  Input should be 'Red', 'Green', 'Blue', 'Orange', 'Yellow', 'Cyan', 'White' or 'Black' [type=enum, input_value='Magenta', input_type=str]\n"
     ]
    }
   ],
   "source": [
    "data = \"\"\"\n",
    "{\n",
    "    \"color\": \"Magenta\"\n",
    "}\n",
    "\"\"\"\n",
    "\n",
    "try:\n",
    "    Model.model_validate_json(data)\n",
    "except ValidationError as ex:\n",
    "    print(ex)"
   ]
  },
  {
   "cell_type": "markdown",
   "id": "03cac123-7602-45ce-85cd-08259276420c",
   "metadata": {},
   "source": [
    "There is a small caveat though - and that's when we set a default value."
   ]
  },
  {
   "cell_type": "markdown",
   "id": "d679154d-1108-45ec-ab2b-d3d9e4605800",
   "metadata": {},
   "source": [
    "Let's take a look:"
   ]
  },
  {
   "cell_type": "code",
   "execution_count": 19,
   "id": "9a7980b7-f92b-4fa4-acc3-0df6c9d188ce",
   "metadata": {},
   "outputs": [],
   "source": [
    "class Model(BaseModel):\n",
    "    model_config = ConfigDict(use_enum_values=True)\n",
    "\n",
    "    color: Color = Color.red"
   ]
  },
  {
   "cell_type": "markdown",
   "id": "2b49b11b-af6f-4c2f-9089-677396d3d5e5",
   "metadata": {},
   "source": [
    "Now, let's create a model instance with the default - it **should** be a string with value `\"Red\"`:"
   ]
  },
  {
   "cell_type": "code",
   "execution_count": 20,
   "id": "6fcc07b7-f87a-4764-9941-7c42e72f5f13",
   "metadata": {},
   "outputs": [
    {
     "data": {
      "text/plain": [
       "(<Color.red: 'Red'>, <enum 'Color'>)"
      ]
     },
     "execution_count": 20,
     "metadata": {},
     "output_type": "execute_result"
    }
   ],
   "source": [
    "m = Model()\n",
    "m.color, type(m.color)"
   ]
  },
  {
   "cell_type": "markdown",
   "id": "29c48298-dcf5-4443-917f-0b59f18f35f5",
   "metadata": {},
   "source": [
    "And that's not at all what we expected!"
   ]
  },
  {
   "cell_type": "markdown",
   "id": "27c82bbd-5e8d-4a52-8320-1f38ca2a7241",
   "metadata": {},
   "source": [
    "If we pass a value when deseralizing things work as expected:"
   ]
  },
  {
   "cell_type": "code",
   "execution_count": 21,
   "id": "888f76cf-7740-4966-be6c-4e1017f7d8e3",
   "metadata": {},
   "outputs": [
    {
     "data": {
      "text/plain": [
       "('Red', str)"
      ]
     },
     "execution_count": 21,
     "metadata": {},
     "output_type": "execute_result"
    }
   ],
   "source": [
    "m = Model(color=Color.red)\n",
    "m.color, type(m.color)"
   ]
  },
  {
   "cell_type": "markdown",
   "id": "fd5f78a0-c9d7-49c5-a822-8cc7ca2702d1",
   "metadata": {},
   "source": [
    "Even with JSON deserialization:"
   ]
  },
  {
   "cell_type": "code",
   "execution_count": 22,
   "id": "76a30756-cddf-4861-b3aa-bc8aed8538ff",
   "metadata": {},
   "outputs": [
    {
     "data": {
      "text/plain": [
       "(<Color.red: 'Red'>, <enum 'Color'>)"
      ]
     },
     "execution_count": 22,
     "metadata": {},
     "output_type": "execute_result"
    }
   ],
   "source": [
    "data = \"\"\"{}\"\"\"\n",
    "\n",
    "m = Model.model_validate_json(data)\n",
    "m.color, type(m.color)"
   ]
  },
  {
   "cell_type": "markdown",
   "id": "a673c1cb-891d-439f-9f4e-730d3946690d",
   "metadata": {},
   "source": [
    "And the problem is one we've seen before - default values do not get validated - they are used as-is (by default)."
   ]
  },
  {
   "cell_type": "markdown",
   "id": "05b555b4-10b7-4fa8-a9d0-ff6de54b5160",
   "metadata": {},
   "source": [
    "So, we can fix this behavior by setting a model level configuration to validate defaults (later we'll see that we can do this at the field level, rather than at the model level, which applies to every field)."
   ]
  },
  {
   "cell_type": "code",
   "execution_count": 23,
   "id": "16e2c9e6-b961-4c81-8724-5563f41b5cd6",
   "metadata": {},
   "outputs": [],
   "source": [
    "class Model(BaseModel):\n",
    "    model_config = ConfigDict(use_enum_values=True, validate_default=True)\n",
    "\n",
    "    color: Color = Color.red"
   ]
  },
  {
   "cell_type": "code",
   "execution_count": 24,
   "id": "276a2116-0b4f-45c0-bdd7-5059b838d035",
   "metadata": {},
   "outputs": [
    {
     "data": {
      "text/plain": [
       "('Red', str)"
      ]
     },
     "execution_count": 24,
     "metadata": {},
     "output_type": "execute_result"
    }
   ],
   "source": [
    "m = Model()\n",
    "m.color, type(m.color)"
   ]
  },
  {
   "cell_type": "markdown",
   "id": "5b452181-a65b-4e9a-be69-51dc83c91ba4",
   "metadata": {},
   "source": [
    "As you can see, our default value was deserialized to a string."
   ]
  },
  {
   "cell_type": "markdown",
   "id": "e6c31299-1995-4d21-a84b-80cc31cd0963",
   "metadata": {},
   "source": [
    "So, just something to keep in mind when you choose to use `use_enum_values`.\n",
    "\n",
    "Is there any reason to use that option?\n",
    "\n",
    "Not really, the reasons, as far as my experience goes, is very limited. It usually has to do with trying to serialize the result of a `model_dump()` to JSON ourselves - since we would not be utilizing Pydantic to do that serialization, having an Enum member in that dictionary would need us to handle it specially, since enums are not serializable by default when using the `json.dumps()` function.\n",
    "\n",
    "Apart from that, and there are ways to deal with that problem, I do not really see a use for that option. However, it is available if you need it."
   ]
  },
  {
   "cell_type": "code",
   "execution_count": null,
   "id": "362526d8-83a7-40ab-a7f7-d5da9ad8b872",
   "metadata": {},
   "outputs": [],
   "source": []
  }
 ],
 "metadata": {
  "kernelspec": {
   "display_name": "Python 3 (ipykernel)",
   "language": "python",
   "name": "python3"
  },
  "language_info": {
   "codemirror_mode": {
    "name": "ipython",
    "version": 3
   },
   "file_extension": ".py",
   "mimetype": "text/x-python",
   "name": "python",
   "nbconvert_exporter": "python",
   "pygments_lexer": "ipython3",
   "version": "3.12.0"
  }
 },
 "nbformat": 4,
 "nbformat_minor": 5
}
