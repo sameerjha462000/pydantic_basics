{
 "cells": [
  {
   "cell_type": "markdown",
   "id": "e3a8d472-4571-4938-99c9-0a7d685ef5ab",
   "metadata": {},
   "source": [
    "# Validating Default Values"
   ]
  },
  {
   "cell_type": "markdown",
   "id": "bb768ae0-fe33-4d1b-a471-4ab0be608641",
   "metadata": {},
   "source": [
    "We saw earlier that Pydantic, by default does not validate default values.\n",
    "\n",
    "This means that the onus is on us, the developers creating the Pydantic model to ensure that the default values we set conform to the type and validations specified for the field."
   ]
  },
  {
   "cell_type": "markdown",
   "id": "c7ff375c-e547-4103-812e-4fcaa838c57d",
   "metadata": {},
   "source": [
    "We can however, indicate, both at the model level, or at the field (level we'll see this later), that default values should be validated too."
   ]
  },
  {
   "cell_type": "markdown",
   "id": "bafcbb29-cbbb-4542-b147-986f3f4c028b",
   "metadata": {},
   "source": [
    "This is usually useful in cases where the validation of the default leads to some transformation of the data, or the population of another field based on that data, and where we want the same transformations to occur whether the value ceoms from the data being deserialized or from the default."
   ]
  },
  {
   "cell_type": "markdown",
   "id": "d681534c-f2d4-4fed-a4a4-fe72f30b7300",
   "metadata": {},
   "source": [
    "The default of not validating default values could lead us to, mistakenly define a field in this way:"
   ]
  },
  {
   "cell_type": "code",
   "execution_count": 1,
   "id": "cfac304c-0c9e-432a-92d0-1e9c63b1914b",
   "metadata": {},
   "outputs": [],
   "source": [
    "from pydantic import BaseModel, ConfigDict, ValidationError\n",
    "\n",
    "class Model(BaseModel):\n",
    "    field_1: int = None\n",
    "    field_2: str = 100"
   ]
  },
  {
   "cell_type": "markdown",
   "id": "a12be317-ea96-4243-a581-d825f0efaf2e",
   "metadata": {},
   "source": [
    "The field `field_1` is not nullable, yet we define the default as `None` - an no exception is triggered when the default is applied. Same happens with `field_2`:"
   ]
  },
  {
   "cell_type": "code",
   "execution_count": 2,
   "id": "68ab79f0-7ae6-40dc-b10f-b6ba791c3ea5",
   "metadata": {},
   "outputs": [
    {
     "data": {
      "text/plain": [
       "Model(field_1=None, field_2=100)"
      ]
     },
     "execution_count": 2,
     "metadata": {},
     "output_type": "execute_result"
    }
   ],
   "source": [
    "Model()"
   ]
  },
  {
   "cell_type": "raw",
   "id": "8555a975-3464-4418-9c79-53cd9a8a24ce",
   "metadata": {},
   "source": [
    "However, we cannot specify a null value in the data being deserialized for `field_1`, or an integer as a value for `field_2`:"
   ]
  },
  {
   "cell_type": "code",
   "execution_count": 3,
   "id": "403ada09-bb61-47cc-8d2b-d40c7f91ef4d",
   "metadata": {},
   "outputs": [
    {
     "name": "stdout",
     "output_type": "stream",
     "text": [
      "2 validation errors for Model\n",
      "field_1\n",
      "  Input should be a valid integer [type=int_type, input_value=None, input_type=NoneType]\n",
      "    For further information visit https://errors.pydantic.dev/2.5/v/int_type\n",
      "field_2\n",
      "  Input should be a valid string [type=string_type, input_value=100, input_type=int]\n",
      "    For further information visit https://errors.pydantic.dev/2.5/v/string_type\n"
     ]
    }
   ],
   "source": [
    "try:\n",
    "    Model(field_1=None, field_2=100)\n",
    "except ValidationError as ex:\n",
    "    print(ex)"
   ]
  },
  {
   "cell_type": "markdown",
   "id": "94af2787-d513-4fc0-83f1-07b35e426c55",
   "metadata": {},
   "source": [
    "We can enable default value validation at the model level (which means it will apply to all fields in the model, unless it is specifically turned off for specific fields), using `model_config`."
   ]
  },
  {
   "cell_type": "code",
   "execution_count": 4,
   "id": "b9818055-f8ea-4a4e-977c-df0f2dbcbbd9",
   "metadata": {},
   "outputs": [],
   "source": [
    "class Model(BaseModel):\n",
    "    model_config = ConfigDict(validate_default=True)\n",
    "    \n",
    "    field_1: int = None\n",
    "    field_2: str = 100"
   ]
  },
  {
   "cell_type": "code",
   "execution_count": 5,
   "id": "49fe1280-8cae-4aaa-8903-7b4b4164e3d7",
   "metadata": {},
   "outputs": [
    {
     "name": "stdout",
     "output_type": "stream",
     "text": [
      "2 validation errors for Model\n",
      "field_1\n",
      "  Input should be a valid integer [type=int_type, input_value=None, input_type=NoneType]\n",
      "    For further information visit https://errors.pydantic.dev/2.5/v/int_type\n",
      "field_2\n",
      "  Input should be a valid string [type=string_type, input_value=100, input_type=int]\n",
      "    For further information visit https://errors.pydantic.dev/2.5/v/string_type\n"
     ]
    }
   ],
   "source": [
    "try:\n",
    "    Model()\n",
    "except ValidationError as ex:\n",
    "    print(ex)"
   ]
  },
  {
   "cell_type": "code",
   "execution_count": null,
   "id": "48c3ca99-f3ac-41ef-913f-2cf614899ee7",
   "metadata": {},
   "outputs": [],
   "source": []
  }
 ],
 "metadata": {
  "kernelspec": {
   "display_name": "Python 3 (ipykernel)",
   "language": "python",
   "name": "python3"
  },
  "language_info": {
   "codemirror_mode": {
    "name": "ipython",
    "version": 3
   },
   "file_extension": ".py",
   "mimetype": "text/x-python",
   "name": "python",
   "nbconvert_exporter": "python",
   "pygments_lexer": "ipython3",
   "version": "3.12.0"
  }
 },
 "nbformat": 4,
 "nbformat_minor": 5
}
