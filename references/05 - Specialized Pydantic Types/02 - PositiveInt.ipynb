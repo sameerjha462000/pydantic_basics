{
 "cells": [
  {
   "cell_type": "markdown",
   "id": "68e8b3f9-ad38-444e-9b58-c0adec926963",
   "metadata": {},
   "source": [
    "# PositiveInt"
   ]
  },
  {
   "cell_type": "markdown",
   "id": "f415fca5-61d8-41f6-9afd-404439864672",
   "metadata": {},
   "source": [
    "This specialized type will restrict our field to be a positive integer (strictly greater than zero). Other variants such as `NegativeInt`, `NonNegativeInt`, etc are also available, as well as float variants.\n",
    "\n",
    "See Pydantic docs for a full list [here](https://docs.pydantic.dev/latest/api/types/)"
   ]
  },
  {
   "cell_type": "code",
   "execution_count": 1,
   "id": "a736ccbd-01e8-482f-b423-6a371fa9926b",
   "metadata": {},
   "outputs": [],
   "source": [
    "from pydantic import BaseModel, PositiveInt, ValidationError"
   ]
  },
  {
   "cell_type": "code",
   "execution_count": 2,
   "id": "5b9525f7-ae48-4076-a72e-985d643e58a7",
   "metadata": {},
   "outputs": [],
   "source": [
    "class Circle(BaseModel):\n",
    "    center: tuple[int, int] = (0, 0)\n",
    "    radius: PositiveInt = 1"
   ]
  },
  {
   "cell_type": "markdown",
   "id": "2f60648c-f12e-47fc-a093-ff30e5031e3b",
   "metadata": {},
   "source": [
    "We now have a `Circle` model that will only accept an integer 2-element tuple for the center, and a positive integer only for the radius."
   ]
  },
  {
   "cell_type": "code",
   "execution_count": 3,
   "id": "d6a474b6-f3e7-49d4-8efc-47548fd46df3",
   "metadata": {},
   "outputs": [
    {
     "data": {
      "text/plain": [
       "Circle(center=(0, 0), radius=1)"
      ]
     },
     "execution_count": 3,
     "metadata": {},
     "output_type": "execute_result"
    }
   ],
   "source": [
    "Circle()"
   ]
  },
  {
   "cell_type": "code",
   "execution_count": 4,
   "id": "f1627602-20d5-4ad1-abc1-1be864d73409",
   "metadata": {},
   "outputs": [
    {
     "data": {
      "text/plain": [
       "Circle(center=(1, 1), radius=10)"
      ]
     },
     "execution_count": 4,
     "metadata": {},
     "output_type": "execute_result"
    }
   ],
   "source": [
    "Circle(center=(1, 1), radius=10)"
   ]
  },
  {
   "cell_type": "code",
   "execution_count": 5,
   "id": "99e4bdf5-73ef-4a0e-81e8-32893451e51a",
   "metadata": {},
   "outputs": [
    {
     "name": "stdout",
     "output_type": "stream",
     "text": [
      "3 validation errors for Circle\n",
      "center.0\n",
      "  Input should be a valid integer, got a number with a fractional part [type=int_from_float, input_value=0.5, input_type=float]\n",
      "    For further information visit https://errors.pydantic.dev/2.5/v/int_from_float\n",
      "center.1\n",
      "  Input should be a valid integer, got a number with a fractional part [type=int_from_float, input_value=0.5, input_type=float]\n",
      "    For further information visit https://errors.pydantic.dev/2.5/v/int_from_float\n",
      "radius\n",
      "  Input should be greater than 0 [type=greater_than, input_value=0, input_type=int]\n",
      "    For further information visit https://errors.pydantic.dev/2.5/v/greater_than\n"
     ]
    }
   ],
   "source": [
    "try:\n",
    "    Circle(center=(0.5, 0.5), radius = 0)\n",
    "except ValidationError as ex:\n",
    "    print(ex)"
   ]
  },
  {
   "cell_type": "markdown",
   "id": "82d29e92-6ce5-4da1-b165-51a76f3fb698",
   "metadata": {},
   "source": [
    "Let's see what that looks like in our model fields:"
   ]
  },
  {
   "cell_type": "code",
   "execution_count": 6,
   "id": "4f2f0d6a-dd91-4b03-8812-7f3bfebd5f4c",
   "metadata": {},
   "outputs": [
    {
     "data": {
      "text/plain": [
       "{'center': FieldInfo(annotation=tuple[int, int], required=False, default=(0, 0)),\n",
       " 'radius': FieldInfo(annotation=int, required=False, default=1, metadata=[Gt(gt=0)])}"
      ]
     },
     "execution_count": 6,
     "metadata": {},
     "output_type": "execute_result"
    }
   ],
   "source": [
    "Circle.model_fields"
   ]
  },
  {
   "cell_type": "markdown",
   "id": "9a357747-9e8a-4ad0-892f-51e109bae8b1",
   "metadata": {},
   "source": [
    "Note how the `radius` property looks:\n",
    "    - there's an `annotation` in there (we'll dig into this a lot more later)\n",
    "    - `metadata` with a `Gt` definition (for greater than, and a value of 0, so greather than 0)"
   ]
  },
  {
   "cell_type": "markdown",
   "id": "b57f5eb3-bbd0-4987-9208-d8d93c07a5ef",
   "metadata": {},
   "source": [
    "We'll see later, that we can actually define this `PositiveInt` directly using annotations and `Field` constraints.\n",
    "\n",
    "For now, keep in mind that this `PositiveInt`, and indeed many other Pydantic types, though not all, are actually annotated types."
   ]
  },
  {
   "cell_type": "code",
   "execution_count": null,
   "id": "addf4297-82f0-4fb2-8817-f67a19f20fd6",
   "metadata": {},
   "outputs": [],
   "source": []
  }
 ],
 "metadata": {
  "kernelspec": {
   "display_name": "Python 3 (ipykernel)",
   "language": "python",
   "name": "python3"
  },
  "language_info": {
   "codemirror_mode": {
    "name": "ipython",
    "version": 3
   },
   "file_extension": ".py",
   "mimetype": "text/x-python",
   "name": "python",
   "nbconvert_exporter": "python",
   "pygments_lexer": "ipython3",
   "version": "3.12.0"
  }
 },
 "nbformat": 4,
 "nbformat_minor": 5
}
