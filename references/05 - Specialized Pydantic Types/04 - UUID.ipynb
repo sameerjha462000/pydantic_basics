{
 "cells": [
  {
   "cell_type": "markdown",
   "id": "6a3bf99c-326c-4756-9e08-04064851c240",
   "metadata": {},
   "source": [
    "# UUID Related Types"
   ]
  },
  {
   "cell_type": "markdown",
   "id": "7ef68455-3e90-49d4-bf56-c822623712e3",
   "metadata": {},
   "source": [
    "We often use UUIDs as keys for our data (often in databases)."
   ]
  },
  {
   "cell_type": "markdown",
   "id": "d715fc2e-c706-40b6-8043-a269e2765824",
   "metadata": {},
   "source": [
    "Python has several UUID related functions, the most common of which is UUID4."
   ]
  },
  {
   "cell_type": "code",
   "execution_count": 1,
   "id": "a534f723-8701-43c5-8cef-384ad512a9fe",
   "metadata": {},
   "outputs": [],
   "source": [
    "from uuid import uuid4"
   ]
  },
  {
   "cell_type": "code",
   "execution_count": 2,
   "id": "6dd50977-3971-4ed4-8e4a-72bc046d95a2",
   "metadata": {},
   "outputs": [
    {
     "data": {
      "text/plain": [
       "UUID('35b4b12b-8202-483c-9635-84dee6cef719')"
      ]
     },
     "execution_count": 2,
     "metadata": {},
     "output_type": "execute_result"
    }
   ],
   "source": [
    "uuid4()"
   ]
  },
  {
   "cell_type": "markdown",
   "id": "bfc9d352-40bf-4e0b-914b-2d618a29432f",
   "metadata": {},
   "source": [
    "We can easily specify fields to be of that type:"
   ]
  },
  {
   "cell_type": "code",
   "execution_count": 3,
   "id": "5b8ca52c-4709-4ae6-961b-c380448c3cfd",
   "metadata": {},
   "outputs": [],
   "source": [
    "from pydantic import BaseModel, Field, UUID4, ValidationError"
   ]
  },
  {
   "cell_type": "code",
   "execution_count": 4,
   "id": "89622cb1-095a-4d5a-b8fe-072dc918ebfa",
   "metadata": {},
   "outputs": [],
   "source": [
    "class Person(BaseModel):\n",
    "    id: UUID4"
   ]
  },
  {
   "cell_type": "code",
   "execution_count": 5,
   "id": "224d021a-cf82-4f61-ac27-7ea3ddaa3859",
   "metadata": {},
   "outputs": [
    {
     "data": {
      "text/plain": [
       "Person(id=UUID('ffc70feb-3836-4300-9939-3cdb93e2c9dd'))"
      ]
     },
     "execution_count": 5,
     "metadata": {},
     "output_type": "execute_result"
    }
   ],
   "source": [
    "p = Person(id=uuid4())\n",
    "p"
   ]
  },
  {
   "cell_type": "markdown",
   "id": "3db81740-bbda-4d69-8dda-a4c0c43a2bf2",
   "metadata": {},
   "source": [
    "And when serialize the data:"
   ]
  },
  {
   "cell_type": "code",
   "execution_count": 6,
   "id": "106990b6-007f-46e9-9f29-d5d5a7e5c3ea",
   "metadata": {},
   "outputs": [
    {
     "data": {
      "text/plain": [
       "{'id': UUID('ffc70feb-3836-4300-9939-3cdb93e2c9dd')}"
      ]
     },
     "execution_count": 6,
     "metadata": {},
     "output_type": "execute_result"
    }
   ],
   "source": [
    "p.model_dump()"
   ]
  },
  {
   "cell_type": "code",
   "execution_count": 7,
   "id": "9aae57e9-09ea-4998-8d7c-d28ce48cfe30",
   "metadata": {},
   "outputs": [
    {
     "data": {
      "text/plain": [
       "'{\"id\":\"ffc70feb-3836-4300-9939-3cdb93e2c9dd\"}'"
      ]
     },
     "execution_count": 7,
     "metadata": {},
     "output_type": "execute_result"
    }
   ],
   "source": [
    "p.model_dump_json()"
   ]
  },
  {
   "cell_type": "markdown",
   "id": "5a2c61ae-81d7-4b45-a9b6-c4994cc7e180",
   "metadata": {},
   "source": [
    "Now, how about setting a default value for `id`?"
   ]
  },
  {
   "cell_type": "markdown",
   "id": "5cdac166-723b-4e6a-aa0e-23fd44a9e46b",
   "metadata": {},
   "source": [
    "Can we just do this?"
   ]
  },
  {
   "cell_type": "code",
   "execution_count": 8,
   "id": "aa109eb4-2dc3-43e3-8ee4-ff5aeb8a475f",
   "metadata": {},
   "outputs": [],
   "source": [
    "class Person(BaseModel):\n",
    "    id: UUID4 = uuid4()"
   ]
  },
  {
   "cell_type": "code",
   "execution_count": 9,
   "id": "c29b035b-080e-4253-a858-fb69ae5f3741",
   "metadata": {},
   "outputs": [
    {
     "data": {
      "text/plain": [
       "Person(id=UUID('8d42d71d-e768-4533-a986-36bba0d9c744'))"
      ]
     },
     "execution_count": 9,
     "metadata": {},
     "output_type": "execute_result"
    }
   ],
   "source": [
    "p1 = Person()\n",
    "p1"
   ]
  },
  {
   "cell_type": "code",
   "execution_count": 10,
   "id": "e68bc694-a874-4159-85a7-cfc874c08921",
   "metadata": {},
   "outputs": [
    {
     "data": {
      "text/plain": [
       "Person(id=UUID('8d42d71d-e768-4533-a986-36bba0d9c744'))"
      ]
     },
     "execution_count": 10,
     "metadata": {},
     "output_type": "execute_result"
    }
   ],
   "source": [
    "p2 = Person()\n",
    "p2"
   ]
  },
  {
   "cell_type": "markdown",
   "id": "55a90f34-b35a-4620-b856-f96c92ec47a9",
   "metadata": {},
   "source": [
    "See the problem there? We are getting the same UUID4 for different instances.\n",
    "\n",
    "We'll come back to this in greater detail, but let's look at it quickly here."
   ]
  },
  {
   "cell_type": "markdown",
   "id": "26138dd0-789a-429a-b668-a14dc94619c1",
   "metadata": {},
   "source": [
    "The other thing that you may not like, is using `id` as a field name (and even if you don't mind, linters will!)"
   ]
  },
  {
   "cell_type": "markdown",
   "id": "6d38951d-8877-43c7-bed0-55b4e093d4ae",
   "metadata": {},
   "source": [
    "So, we should use an alias - to do so we'll have to use a `Field` object, and we can see if using `default` in the `Field` will maybe fix the issue:"
   ]
  },
  {
   "cell_type": "code",
   "execution_count": 11,
   "id": "ec0ae8e0-2375-48f0-94c2-d4a4d9591009",
   "metadata": {},
   "outputs": [],
   "source": [
    "class Person(BaseModel):\n",
    "    id_: UUID4 = Field(alias=\"id\", default=uuid4())"
   ]
  },
  {
   "cell_type": "code",
   "execution_count": 12,
   "id": "297b61d5-4c5d-43e6-b108-976820d85a46",
   "metadata": {},
   "outputs": [
    {
     "data": {
      "text/plain": [
       "Person(id_=UUID('eb6aa05c-79fe-4a77-b2fc-f58042c5f57d'))"
      ]
     },
     "execution_count": 12,
     "metadata": {},
     "output_type": "execute_result"
    }
   ],
   "source": [
    "p1 = Person()\n",
    "p1"
   ]
  },
  {
   "cell_type": "code",
   "execution_count": 13,
   "id": "bb73aa7e-6680-47cb-afc3-434927dab60f",
   "metadata": {},
   "outputs": [
    {
     "data": {
      "text/plain": [
       "Person(id_=UUID('eb6aa05c-79fe-4a77-b2fc-f58042c5f57d'))"
      ]
     },
     "execution_count": 13,
     "metadata": {},
     "output_type": "execute_result"
    }
   ],
   "source": [
    "p2 = Person()\n",
    "p2"
   ]
  },
  {
   "cell_type": "markdown",
   "id": "87149fa3-b8e2-4a3a-85f1-80b12b3e29a3",
   "metadata": {},
   "source": [
    "So, using a `Field` default did not fix the problem.\n",
    "\n",
    "The issue is the same as using using a function call to generate a default value for a function parameter.\n",
    "\n",
    "The default gets created once when the function is compiled (created). Same with `Field` - it gets created once when the model is compiled, hence why we see the same uuid."
   ]
  },
  {
   "cell_type": "markdown",
   "id": "cb8f2600-eaf1-4c4e-a6f7-1a671f63acfe",
   "metadata": {},
   "source": [
    "What we need is a way to have that default generated **every time** an instance is created."
   ]
  },
  {
   "cell_type": "markdown",
   "id": "c3493c43-5fdf-4457-9a9e-e7c1aa3fbed6",
   "metadata": {},
   "source": [
    "We can do this by using the `default_factory` argument in `Field`.\n",
    "\n",
    "This allows us to specify a callable, that Pydantic will call for every instance that needs to generate a default.\n",
    "\n",
    "Let's try it:"
   ]
  },
  {
   "cell_type": "code",
   "execution_count": 14,
   "id": "90dc7c3d-79e4-4726-833e-373111238044",
   "metadata": {},
   "outputs": [],
   "source": [
    "class Person(BaseModel):\n",
    "    id_: UUID4 = Field(alias=\"id\", default_factory=uuid4)"
   ]
  },
  {
   "cell_type": "markdown",
   "id": "c5270124-9e49-4fd1-bcdd-29de885baabd",
   "metadata": {},
   "source": [
    "Note that we specify a callable for `default_factory`, we do **not** call the function. Pydantic will call it when it needs to generate a new default value."
   ]
  },
  {
   "cell_type": "code",
   "execution_count": 15,
   "id": "12770d77-dfdc-4112-8262-fccb9dfd0e63",
   "metadata": {},
   "outputs": [
    {
     "data": {
      "text/plain": [
       "Person(id_=UUID('21dbd0d0-9a2e-4126-a06a-b2429aa05112'))"
      ]
     },
     "execution_count": 15,
     "metadata": {},
     "output_type": "execute_result"
    }
   ],
   "source": [
    "p1 = Person()\n",
    "p1"
   ]
  },
  {
   "cell_type": "code",
   "execution_count": 16,
   "id": "83816764-a1a6-4aab-8fbb-4a528d6c64a1",
   "metadata": {},
   "outputs": [
    {
     "data": {
      "text/plain": [
       "Person(id_=UUID('a70f8130-def5-4e22-ad30-ec3a602c62cd'))"
      ]
     },
     "execution_count": 16,
     "metadata": {},
     "output_type": "execute_result"
    }
   ],
   "source": [
    "p2 = Person()\n",
    "p2"
   ]
  },
  {
   "cell_type": "markdown",
   "id": "13c1976c-d287-44f3-a749-8fae086331ee",
   "metadata": {},
   "source": [
    "Success!"
   ]
  },
  {
   "cell_type": "markdown",
   "id": "ceb68c2f-70c1-4453-acee-4ed52d6b6d78",
   "metadata": {},
   "source": [
    "Pydantic supports other UUID types as well, such as UUID1, UUID3 and UUID5."
   ]
  },
  {
   "cell_type": "code",
   "execution_count": null,
   "id": "9969e182-a122-4971-a230-f4bded807d93",
   "metadata": {},
   "outputs": [],
   "source": []
  }
 ],
 "metadata": {
  "kernelspec": {
   "display_name": "Python 3 (ipykernel)",
   "language": "python",
   "name": "python3"
  },
  "language_info": {
   "codemirror_mode": {
    "name": "ipython",
    "version": 3
   },
   "file_extension": ".py",
   "mimetype": "text/x-python",
   "name": "python",
   "nbconvert_exporter": "python",
   "pygments_lexer": "ipython3",
   "version": "3.12.0"
  }
 },
 "nbformat": 4,
 "nbformat_minor": 5
}
