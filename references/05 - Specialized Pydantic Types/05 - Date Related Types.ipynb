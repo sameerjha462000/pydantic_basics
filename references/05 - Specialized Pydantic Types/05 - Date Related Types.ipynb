{
 "cells": [
  {
   "cell_type": "markdown",
   "id": "1e759ad3-fb76-4aec-a507-277fc096d7ca",
   "metadata": {},
   "source": [
    "# Date Related Types"
   ]
  },
  {
   "cell_type": "markdown",
   "id": "405ba70d-b27e-46b3-930e-b2a130a79035",
   "metadata": {},
   "source": [
    "Pydantic offers us a number of date related types.\n",
    "\n",
    "Let's look at a few."
   ]
  },
  {
   "cell_type": "code",
   "execution_count": 1,
   "id": "649a19c3-cf11-46b7-b831-cda4954dfc10",
   "metadata": {},
   "outputs": [],
   "source": [
    "from pydantic import (\n",
    "    BaseModel, \n",
    "    ConfigDict, \n",
    "    PastDatetime, \n",
    "    PastDate, \n",
    "    AwareDatetime, \n",
    "    NaiveDatetime, \n",
    "    ValidationError,\n",
    ")"
   ]
  },
  {
   "cell_type": "markdown",
   "id": "7f69051e-d92e-4aaf-a5d9-de316ed1bab4",
   "metadata": {},
   "source": [
    "`PastDatetime` will restrict a field to be a valid datetime object, and also to be in the past compared to your local current time."
   ]
  },
  {
   "cell_type": "markdown",
   "id": "280d5f31-5a9e-483f-8a8e-18dc6bc3c431",
   "metadata": {},
   "source": [
    "The docs are not exactly very forthcoming about this, but how are naive datetimes interpreted when determining if they are past or not?"
   ]
  },
  {
   "cell_type": "markdown",
   "id": "74cf8ea0-ca12-4b73-b055-de54d876665c",
   "metadata": {},
   "source": [
    "Turns out they assume naive datetimes to be local, not UTC."
   ]
  },
  {
   "cell_type": "markdown",
   "id": "3a67a978-26ce-422b-ad33-575b0dfd777f",
   "metadata": {},
   "source": [
    "Let's test this out..."
   ]
  },
  {
   "cell_type": "code",
   "execution_count": 2,
   "id": "fbd3d8e7-3e0f-4f43-8e8c-3f21e86e9afa",
   "metadata": {},
   "outputs": [
    {
     "data": {
      "text/plain": [
       "datetime.datetime(2023, 12, 2, 10, 18, 54, 126047)"
      ]
     },
     "execution_count": 2,
     "metadata": {},
     "output_type": "execute_result"
    }
   ],
   "source": [
    "from datetime import datetime, timedelta\n",
    "\n",
    "import pytz\n",
    "\n",
    "local_one_hour_ago = datetime.now() - timedelta(hours=1)\n",
    "local_one_hour_ago"
   ]
  },
  {
   "cell_type": "markdown",
   "id": "03145cbd-a221-443a-b3e3-2e76d5b44a4b",
   "metadata": {},
   "source": [
    "Now, according to my timezone in AZ (we have no DST), this time, in UTC, would be:"
   ]
  },
  {
   "cell_type": "code",
   "execution_count": 3,
   "id": "520b2d61-2675-4280-809f-6c8b5c35966e",
   "metadata": {},
   "outputs": [],
   "source": [
    "utc_one_hour_ago = local_one_hour_ago.astimezone(pytz.utc)"
   ]
  },
  {
   "cell_type": "markdown",
   "id": "1e873667-cc7f-47e4-b984-2834df8d41df",
   "metadata": {},
   "source": [
    "But I want this datetime to be naive, not aware, so we can see how Pydantic handles it in relation to local time."
   ]
  },
  {
   "cell_type": "code",
   "execution_count": 4,
   "id": "7764075c-afad-4d98-92e7-6071b3d367b0",
   "metadata": {},
   "outputs": [
    {
     "data": {
      "text/plain": [
       "datetime.datetime(2023, 12, 2, 17, 18, 54, 126047)"
      ]
     },
     "execution_count": 4,
     "metadata": {},
     "output_type": "execute_result"
    }
   ],
   "source": [
    "utc_naive_one_hour_ago = utc_one_hour_ago.replace(tzinfo=None)\n",
    "utc_naive_one_hour_ago"
   ]
  },
  {
   "cell_type": "markdown",
   "id": "381729f3-2eca-49f3-840d-935a237e3dbf",
   "metadata": {},
   "source": [
    "Ok, so now let's try using `PastDatetime`."
   ]
  },
  {
   "cell_type": "code",
   "execution_count": 5,
   "id": "e72be3c8-df69-4986-908e-3e742750f47c",
   "metadata": {},
   "outputs": [],
   "source": [
    "class Model(BaseModel):\n",
    "    dt: PastDatetime"
   ]
  },
  {
   "cell_type": "code",
   "execution_count": 6,
   "id": "a9103d97-c6c2-4135-9dd2-1f5e0e533e6c",
   "metadata": {},
   "outputs": [
    {
     "data": {
      "text/plain": [
       "Model(dt=datetime.datetime(2023, 12, 2, 10, 18, 54, 126047))"
      ]
     },
     "execution_count": 6,
     "metadata": {},
     "output_type": "execute_result"
    }
   ],
   "source": [
    "m = Model(dt=local_one_hour_ago)\n",
    "m"
   ]
  },
  {
   "cell_type": "code",
   "execution_count": 7,
   "id": "b8a36567-b0db-4284-bf4f-6a20f7471284",
   "metadata": {},
   "outputs": [
    {
     "data": {
      "text/plain": [
       "Model(dt=datetime.datetime(2023, 12, 2, 17, 18, 54, 126047, tzinfo=<UTC>))"
      ]
     },
     "execution_count": 7,
     "metadata": {},
     "output_type": "execute_result"
    }
   ],
   "source": [
    "m = Model(dt=utc_one_hour_ago)\n",
    "m"
   ]
  },
  {
   "cell_type": "markdown",
   "id": "85010681-53a0-45ad-8918-f1da9e8fb531",
   "metadata": {},
   "source": [
    "So, both of these work fine. \n",
    "\n",
    "And to see that Pydantic will interpret a naive datetime as a local time:"
   ]
  },
  {
   "cell_type": "code",
   "execution_count": 8,
   "id": "cba968ce-6b2f-4700-bf6a-fb327d5c3673",
   "metadata": {},
   "outputs": [
    {
     "name": "stdout",
     "output_type": "stream",
     "text": [
      "1 validation error for Model\n",
      "dt\n",
      "  Input should be in the past [type=datetime_past, input_value=datetime.datetime(2023, 12, 2, 17, 18, 54, 126047), input_type=datetime]\n",
      "    For further information visit https://errors.pydantic.dev/2.5/v/datetime_past\n"
     ]
    }
   ],
   "source": [
    "try:\n",
    "    Model(dt=utc_naive_one_hour_ago)\n",
    "except ValidationError as ex:\n",
    "    print(ex)"
   ]
  },
  {
   "cell_type": "markdown",
   "id": "7b7b6acc-b055-47a4-b526-07cd10e9d67a",
   "metadata": {},
   "source": [
    "Let's look at some of the other datetime types.\n",
    "\n",
    "We have the NaiveDatetime type - this basically requires the datetime passed in to be naive."
   ]
  },
  {
   "cell_type": "code",
   "execution_count": 9,
   "id": "0a529dc8-7f0f-458e-b7a9-53f680bbef82",
   "metadata": {},
   "outputs": [],
   "source": [
    "class Model(BaseModel):\n",
    "    dt: NaiveDatetime"
   ]
  },
  {
   "cell_type": "code",
   "execution_count": 10,
   "id": "c1a701e0-c032-43bd-8de1-29181f68cb3d",
   "metadata": {},
   "outputs": [
    {
     "data": {
      "text/plain": [
       "datetime.datetime(2023, 12, 2, 10, 18, 54, 126047)"
      ]
     },
     "execution_count": 10,
     "metadata": {},
     "output_type": "execute_result"
    }
   ],
   "source": [
    "local_one_hour_ago"
   ]
  },
  {
   "cell_type": "code",
   "execution_count": 11,
   "id": "f1b3b4d5-d2b4-476e-9440-29d7fe0ecd4f",
   "metadata": {},
   "outputs": [
    {
     "data": {
      "text/plain": [
       "Model(dt=datetime.datetime(2023, 12, 2, 10, 18, 54, 126047))"
      ]
     },
     "execution_count": 11,
     "metadata": {},
     "output_type": "execute_result"
    }
   ],
   "source": [
    "Model(dt=local_one_hour_ago)"
   ]
  },
  {
   "cell_type": "markdown",
   "id": "e3a057ed-8c56-4353-aa25-e43680257d4f",
   "metadata": {},
   "source": [
    "But, if we try to pass in an aware datetime:"
   ]
  },
  {
   "cell_type": "code",
   "execution_count": 12,
   "id": "01c7fd1d-ff94-4e97-9b90-22c7beacb1bb",
   "metadata": {},
   "outputs": [
    {
     "data": {
      "text/plain": [
       "datetime.datetime(2023, 12, 2, 17, 18, 54, 126047, tzinfo=<UTC>)"
      ]
     },
     "execution_count": 12,
     "metadata": {},
     "output_type": "execute_result"
    }
   ],
   "source": [
    "utc_one_hour_ago"
   ]
  },
  {
   "cell_type": "code",
   "execution_count": 13,
   "id": "e755e08e-0fd9-47ea-a6ff-b3b205f47fb7",
   "metadata": {},
   "outputs": [
    {
     "name": "stdout",
     "output_type": "stream",
     "text": [
      "1 validation error for Model\n",
      "dt\n",
      "  Input should not have timezone info [type=timezone_naive, input_value=datetime.datetime(2023, 1...4, 126047, tzinfo=<UTC>), input_type=datetime]\n",
      "    For further information visit https://errors.pydantic.dev/2.5/v/timezone_naive\n"
     ]
    }
   ],
   "source": [
    "try:\n",
    "    Model(dt=utc_one_hour_ago)\n",
    "except ValidationError as ex:\n",
    "    print(ex)"
   ]
  },
  {
   "cell_type": "markdown",
   "id": "e0423610-fd7b-48db-ad34-4d5ddfaf23a8",
   "metadata": {},
   "source": [
    "And then we have the flip side of this, where we might require our datetime to be aware:"
   ]
  },
  {
   "cell_type": "code",
   "execution_count": 14,
   "id": "65cc9ab5-c82b-4555-b005-1edbf015d056",
   "metadata": {},
   "outputs": [],
   "source": [
    "class Model(BaseModel):\n",
    "    dt: AwareDatetime"
   ]
  },
  {
   "cell_type": "code",
   "execution_count": 15,
   "id": "a4758b8f-2677-45c8-8087-eb2b3633674d",
   "metadata": {},
   "outputs": [
    {
     "data": {
      "text/plain": [
       "Model(dt=datetime.datetime(2023, 12, 2, 17, 18, 54, 126047, tzinfo=<UTC>))"
      ]
     },
     "execution_count": 15,
     "metadata": {},
     "output_type": "execute_result"
    }
   ],
   "source": [
    "Model(dt=utc_one_hour_ago)"
   ]
  },
  {
   "cell_type": "markdown",
   "id": "87c17eb7-9df3-4773-98ad-f3523bf0c77a",
   "metadata": {},
   "source": [
    "But validation will fail if we pass in a naive datetime:"
   ]
  },
  {
   "cell_type": "code",
   "execution_count": 16,
   "id": "e777eafb-90c2-4268-8c64-5af8b96a4400",
   "metadata": {},
   "outputs": [
    {
     "name": "stdout",
     "output_type": "stream",
     "text": [
      "1 validation error for Model\n",
      "dt\n",
      "  Input should have timezone info [type=timezone_aware, input_value=datetime.datetime(2023, 12, 2, 10, 18, 54, 126047), input_type=datetime]\n",
      "    For further information visit https://errors.pydantic.dev/2.5/v/timezone_aware\n"
     ]
    }
   ],
   "source": [
    "try:\n",
    "    Model(dt=local_one_hour_ago)\n",
    "except ValidationError as ex:\n",
    "    print(ex)"
   ]
  },
  {
   "cell_type": "markdown",
   "id": "8c8c7294-5475-4b32-9e07-03194151ae52",
   "metadata": {},
   "source": [
    "Very often, since datetime arithmetic is **not** especially easy, we end up writing custom validators and serializers."
   ]
  },
  {
   "cell_type": "markdown",
   "id": "64f6c940-bb0c-4536-bdf3-6d0ab55adb45",
   "metadata": {},
   "source": [
    "For example, the recommened way to work with datetimes in our Python apps, is to convert everything to UTC (often as naive datetimes). This way arithmetic is much easier, since UTC does not use DST. And then we only convert to some localized (usually aware) datetime when \"displaying\" the data to our users."
   ]
  },
  {
   "cell_type": "markdown",
   "id": "8e68570e-735c-41ab-90ba-a8b30571a89f",
   "metadata": {},
   "source": [
    "For that, we may end up writing a custom validator that will deserialize any datetime into a UTC datetime, with some assumptions made as to what timezone should be assumed if the input datetime is naive, and do timezone conversion if it is aware. We'll circle back to this later."
   ]
  },
  {
   "cell_type": "code",
   "execution_count": null,
   "id": "4d2904ca-0ccd-4b67-bb36-dfc5389c2d12",
   "metadata": {},
   "outputs": [],
   "source": []
  }
 ],
 "metadata": {
  "kernelspec": {
   "display_name": "Python 3 (ipykernel)",
   "language": "python",
   "name": "python3"
  },
  "language_info": {
   "codemirror_mode": {
    "name": "ipython",
    "version": 3
   },
   "file_extension": ".py",
   "mimetype": "text/x-python",
   "name": "python",
   "nbconvert_exporter": "python",
   "pygments_lexer": "ipython3",
   "version": "3.12.0"
  }
 },
 "nbformat": 4,
 "nbformat_minor": 5
}
