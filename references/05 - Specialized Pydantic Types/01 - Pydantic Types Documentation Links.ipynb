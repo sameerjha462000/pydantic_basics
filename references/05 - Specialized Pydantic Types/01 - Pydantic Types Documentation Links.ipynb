{
 "cells": [
  {
   "cell_type": "markdown",
   "id": "51ae9193-f53b-401f-9a55-83f425848539",
   "metadata": {},
   "source": [
    "# Pydantic Documentation Links"
   ]
  },
  {
   "cell_type": "markdown",
   "id": "02bbf48e-25c1-479e-8660-eb47082c0c43",
   "metadata": {},
   "source": [
    "Specialized types in Pydantic can be found in these two primary locations:\n",
    "\n",
    "- [Pydantic Types](https://docs.pydantic.dev/latest/api/types/)\n",
    "- [Network Types](https://docs.pydantic.dev/latest/api/networks/)"
   ]
  },
  {
   "cell_type": "code",
   "execution_count": null,
   "id": "c9a961bd-2ad1-42d8-aa74-83748b31e7b7",
   "metadata": {},
   "outputs": [],
   "source": []
  }
 ],
 "metadata": {
  "kernelspec": {
   "display_name": "Python 3 (ipykernel)",
   "language": "python",
   "name": "python3"
  },
  "language_info": {
   "codemirror_mode": {
    "name": "ipython",
    "version": 3
   },
   "file_extension": ".py",
   "mimetype": "text/x-python",
   "name": "python",
   "nbconvert_exporter": "python",
   "pygments_lexer": "ipython3",
   "version": "3.12.0"
  }
 },
 "nbformat": 4,
 "nbformat_minor": 5
}
