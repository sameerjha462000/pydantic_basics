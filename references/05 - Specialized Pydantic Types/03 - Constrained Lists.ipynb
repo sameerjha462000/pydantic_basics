{
 "cells": [
  {
   "cell_type": "markdown",
   "id": "08600692-85eb-4bac-bb7c-616435c9b55a",
   "metadata": {},
   "source": [
    "# Constrained Lists"
   ]
  },
  {
   "cell_type": "markdown",
   "id": "de6eb52b-d3b5-4871-bb06-024fb10cde50",
   "metadata": {},
   "source": [
    "Recall the example we had in the last video:"
   ]
  },
  {
   "cell_type": "code",
   "execution_count": 1,
   "id": "b2fd166a-6d07-4a7f-80b5-7fc20125fd03",
   "metadata": {},
   "outputs": [],
   "source": [
    "from pydantic import BaseModel, PositiveInt, ValidationError\n",
    "\n",
    "class Circle(BaseModel):\n",
    "    center: tuple[int, int] = (0, 0)\n",
    "    radius: PositiveInt = 1"
   ]
  },
  {
   "cell_type": "markdown",
   "id": "a390ce19-9c9a-47be-b704-53b07c79a482",
   "metadata": {},
   "source": [
    "Our `center` point can only be defined a a point in 2D space.\n",
    "\n",
    "But what if we wanted to allow specifying a 2D point (2 element coordinate), or a 3D point (3 element coordinate)?"
   ]
  },
  {
   "cell_type": "markdown",
   "id": "e5885deb-46cf-491a-844d-a15de5af2b54",
   "metadata": {},
   "source": [
    "One approach might be this:"
   ]
  },
  {
   "cell_type": "code",
   "execution_count": 2,
   "id": "e0d773ff-09dc-497b-84e7-36e6b9fd1356",
   "metadata": {},
   "outputs": [],
   "source": [
    "class Sphere(BaseModel):\n",
    "    center: tuple[int, int] | tuple[int, int, int] = (0, 0)\n",
    "    radius: PositiveInt = 1"
   ]
  },
  {
   "cell_type": "markdown",
   "id": "88ed7613-cd80-4009-a792-bc31548e8c77",
   "metadata": {},
   "source": [
    "Then we can define a 2D sphere (a circle, so choice of model name is not ideal):"
   ]
  },
  {
   "cell_type": "code",
   "execution_count": 3,
   "id": "0d6bfbed-c16d-4021-8644-cf7e23cf7eaf",
   "metadata": {},
   "outputs": [
    {
     "data": {
      "text/plain": [
       "Sphere(center=(1, 1), radius=10)"
      ]
     },
     "execution_count": 3,
     "metadata": {},
     "output_type": "execute_result"
    }
   ],
   "source": [
    "Sphere(center=(1, 1), radius=10)"
   ]
  },
  {
   "cell_type": "markdown",
   "id": "06fe2bc2-6c01-4102-8e88-725725b98276",
   "metadata": {},
   "source": [
    "or a 3D sphere:"
   ]
  },
  {
   "cell_type": "code",
   "execution_count": 4,
   "id": "958e6d0d-8c25-4aed-89e3-f86516daf360",
   "metadata": {},
   "outputs": [
    {
     "data": {
      "text/plain": [
       "Sphere(center=(1, 2, 3), radius=5)"
      ]
     },
     "execution_count": 4,
     "metadata": {},
     "output_type": "execute_result"
    }
   ],
   "source": [
    "Sphere(center=(1, 2, 3), radius=5)"
   ]
  },
  {
   "cell_type": "markdown",
   "id": "3e940a12-e777-4dc1-ab36-7d39100da763",
   "metadata": {},
   "source": [
    "If we try to specify a 4D tuple, we'll get an exception:"
   ]
  },
  {
   "cell_type": "code",
   "execution_count": 5,
   "id": "303cca0f-f4f4-4a43-ae38-e57c848197d8",
   "metadata": {},
   "outputs": [
    {
     "name": "stdout",
     "output_type": "stream",
     "text": [
      "2 validation errors for Sphere\n",
      "center.tuple[int, int]\n",
      "  Tuple should have at most 2 items after validation, not 4 [type=too_long, input_value=(1, 2, 3, 4), input_type=tuple]\n",
      "    For further information visit https://errors.pydantic.dev/2.5/v/too_long\n",
      "center.tuple[int, int, int]\n",
      "  Tuple should have at most 3 items after validation, not 4 [type=too_long, input_value=(1, 2, 3, 4), input_type=tuple]\n",
      "    For further information visit https://errors.pydantic.dev/2.5/v/too_long\n"
     ]
    }
   ],
   "source": [
    "try:\n",
    "    Sphere(center=(1, 2, 3, 4))\n",
    "except ValidationError as ex:\n",
    "    print(ex)"
   ]
  },
  {
   "cell_type": "markdown",
   "id": "4207d52e-8cbb-4adc-a2a1-5cf35efde78b",
   "metadata": {},
   "source": [
    "So, we get an exception, but the error reporting is a bit funky and not very easy to even understand."
   ]
  },
  {
   "cell_type": "markdown",
   "id": "03c70c16-b21d-4862-8db5-812242f5066e",
   "metadata": {},
   "source": [
    "For now, let's ignore the fact that we specified we wanted a tuple, and suppose we are OK with a list instead.\n",
    "\n",
    "Then we can use Pydantic's constrained list, to contrains our list to a minum of 2 elements, and a maximum of 3 elements:"
   ]
  },
  {
   "cell_type": "code",
   "execution_count": 6,
   "id": "02ab1a27-25d4-4401-ace5-9d1de832e3c3",
   "metadata": {},
   "outputs": [],
   "source": [
    "from pydantic import conlist \n",
    "\n",
    "\n",
    "class Sphere(BaseModel):\n",
    "    center: conlist(int, min_length=2, max_length=3) = [0, 0]\n",
    "    radius: PositiveInt = 1"
   ]
  },
  {
   "cell_type": "code",
   "execution_count": 7,
   "id": "99397a50-bb19-427e-8e0d-715fbe67ce3d",
   "metadata": {},
   "outputs": [
    {
     "data": {
      "text/plain": [
       "Sphere(center=[1, 2], radius=1)"
      ]
     },
     "execution_count": 7,
     "metadata": {},
     "output_type": "execute_result"
    }
   ],
   "source": [
    "Sphere(center=(1, 2))"
   ]
  },
  {
   "cell_type": "code",
   "execution_count": 8,
   "id": "8f2ce1a4-418a-46da-a9ac-a8fb3906de5f",
   "metadata": {},
   "outputs": [
    {
     "data": {
      "text/plain": [
       "Sphere(center=[1, 2, 3], radius=1)"
      ]
     },
     "execution_count": 8,
     "metadata": {},
     "output_type": "execute_result"
    }
   ],
   "source": [
    "Sphere(center=[1, 2, 3])"
   ]
  },
  {
   "cell_type": "markdown",
   "id": "4e7bfe93-1adc-4d87-beec-ad82b13cfffb",
   "metadata": {},
   "source": [
    "And let's see what the exception looks like if we do not have the required number of elements for `center`:"
   ]
  },
  {
   "cell_type": "code",
   "execution_count": 9,
   "id": "1acde6ff-c043-441e-8b57-898ed5132d77",
   "metadata": {},
   "outputs": [
    {
     "name": "stdout",
     "output_type": "stream",
     "text": [
      "1 validation error for Sphere\n",
      "center\n",
      "  List should have at most 3 items after validation, not 4 [type=too_long, input_value=(1, 2, 3, 4), input_type=tuple]\n",
      "    For further information visit https://errors.pydantic.dev/2.5/v/too_long\n"
     ]
    }
   ],
   "source": [
    "try:\n",
    "    Sphere(center=(1, 2, 3, 4))\n",
    "except ValidationError as ex:\n",
    "    print(ex)"
   ]
  },
  {
   "cell_type": "code",
   "execution_count": 10,
   "id": "9313f038-b00a-444c-94ee-8531343a021c",
   "metadata": {},
   "outputs": [
    {
     "name": "stdout",
     "output_type": "stream",
     "text": [
      "1 validation error for Sphere\n",
      "center\n",
      "  List should have at least 2 items after validation, not 1 [type=too_short, input_value=(1,), input_type=tuple]\n",
      "    For further information visit https://errors.pydantic.dev/2.5/v/too_short\n"
     ]
    }
   ],
   "source": [
    "try:\n",
    "    Sphere(center=(1, ))\n",
    "except ValidationError as ex:\n",
    "    print(ex)"
   ]
  },
  {
   "cell_type": "markdown",
   "id": "a096de78-3d0a-43ba-9486-5823d1a47a13",
   "metadata": {},
   "source": [
    "As you can see the exception is much clearer."
   ]
  },
  {
   "cell_type": "markdown",
   "id": "adaeeadb-16a8-452b-bba4-30a8389c51fb",
   "metadata": {},
   "source": [
    "Notice by the way how Pydantic coerced the tuple we specified for `center` into a list object."
   ]
  },
  {
   "cell_type": "code",
   "execution_count": 11,
   "id": "186bd97c-50fd-42fb-9434-2363344b3412",
   "metadata": {},
   "outputs": [
    {
     "name": "stdout",
     "output_type": "stream",
     "text": [
      "`unique_items` is removed, use `Set` instead(this feature is discussed in https://github.com/pydantic/pydantic-core/issues/296)\n",
      "\n",
      "For further information visit https://errors.pydantic.dev/2.5/u/removed-kwargs\n"
     ]
    }
   ],
   "source": [
    "from pydantic import PydanticUserError\n",
    "\n",
    "\n",
    "try:\n",
    "    class Model(BaseModel):\n",
    "        unique_elements: conlist(int, min_length=1, max_length=10, unique_items=True)\n",
    "except PydanticUserError as ex:\n",
    "    print(ex)"
   ]
  },
  {
   "cell_type": "markdown",
   "id": "768288f6-b30c-4661-b20c-9743b73f254d",
   "metadata": {},
   "source": [
    "If you look at Pydantic's documentation for `conlist`, you'll notice that it states there is an additional constrain we can place on lists: a uniqueness constraint that forces all the elements of the provided list to be unique.\n",
    "\n",
    "The documentation states that this parameter has been deprecated (which means if you are writing new code you should **not** use it), and in fact as of the recording of this video, it has been removed! Let that serve as a warning to all of us not to use deprecated functionality!\n",
    "\n",
    "(and, a pet peeve of mine, it is **deprecated**, not depreciated - depreciated is for accountants, deprecated is for developers!)"
   ]
  },
  {
   "cell_type": "markdown",
   "id": "8531c7ed-4afa-4955-9ddc-e3fcf493bcf9",
   "metadata": {},
   "source": [
    "I do not agree with their recommendation to use `Set` - a set does contain unique elements only, but a set is not a sequence type - so, if we want a sequence type (such as a list) of unique elements, we'll have to find a different way (and we will, when we get to custom validators)."
   ]
  },
  {
   "cell_type": "code",
   "execution_count": null,
   "id": "b936ac6f-889f-4573-b7c5-c45dd2f22f8d",
   "metadata": {},
   "outputs": [],
   "source": []
  }
 ],
 "metadata": {
  "kernelspec": {
   "display_name": "Python 3 (ipykernel)",
   "language": "python",
   "name": "python3"
  },
  "language_info": {
   "codemirror_mode": {
    "name": "ipython",
    "version": 3
   },
   "file_extension": ".py",
   "mimetype": "text/x-python",
   "name": "python",
   "nbconvert_exporter": "python",
   "pygments_lexer": "ipython3",
   "version": "3.12.0"
  }
 },
 "nbformat": 4,
 "nbformat_minor": 5
}
