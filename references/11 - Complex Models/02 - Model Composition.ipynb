{
 "cells": [
  {
   "cell_type": "markdown",
   "id": "f4876658-9fc7-4422-86fa-bd40a9151710",
   "metadata": {},
   "source": [
    "# Model Composition"
   ]
  },
  {
   "cell_type": "markdown",
   "id": "8fb99484-0704-4666-b495-43228b6e7937",
   "metadata": {},
   "source": [
    "Model composition is basically defining Pydantic models where one or more fields are themselves Pydantic models.\n",
    "\n",
    "This is no different than regular composition (since Pydantic classes are Python classes) - the main difference being that Pydantic knows how to serialize and deserialize these fields, since they are Pydantic models."
   ]
  },
  {
   "cell_type": "markdown",
   "id": "51dfee4c-b82d-4174-8ae8-5de810d910ac",
   "metadata": {},
   "source": [
    "Let's take a look at a few examples."
   ]
  },
  {
   "cell_type": "markdown",
   "id": "4a901c6d-c359-4b54-8834-b8f1adce87d9",
   "metadata": {},
   "source": [
    "Le's say we want a `Circle` class, that has a `center` field and a `radius` field. Previously we just defined the `center` field as a tuple.\n",
    "\n",
    "In this case, we want a 2D circle, and we want to explicitly name the orgin coordinates as `x` and `y`:"
   ]
  },
  {
   "cell_type": "code",
   "execution_count": 1,
   "id": "ada6de07-3fef-41ee-8ee4-e19b4dd2fd9e",
   "metadata": {},
   "outputs": [],
   "source": [
    "from pydantic import BaseModel, ConfigDict, Field, ValidationError\n",
    "\n",
    "\n",
    "class Point2D(BaseModel):\n",
    "    x: float = 0\n",
    "    y: float = 0\n",
    "\n",
    "class Circle2D(BaseModel):\n",
    "    center: Point2D\n",
    "    radius: float = Field(default=1, gt=0)"
   ]
  },
  {
   "cell_type": "markdown",
   "id": "c40e47fe-077f-4db3-94cd-a8572457df6d",
   "metadata": {},
   "source": [
    "To create a `Circle` instance using class-based approach, we will need to specify our center point using the `Point2D` model explicitly:"
   ]
  },
  {
   "cell_type": "code",
   "execution_count": 2,
   "id": "46719d51-7125-43c8-bb46-d31cd0e8ed77",
   "metadata": {},
   "outputs": [],
   "source": [
    "c = Circle2D(center=Point2D(x=1, y=1), radius=2)"
   ]
  },
  {
   "cell_type": "markdown",
   "id": "8e92c42a-fbb7-4662-a4b2-213aecce40d8",
   "metadata": {},
   "source": [
    "Now let's look at the representation:"
   ]
  },
  {
   "cell_type": "code",
   "execution_count": 3,
   "id": "0e03b601-dcf3-4c59-b77d-923584c5137e",
   "metadata": {},
   "outputs": [
    {
     "data": {
      "text/plain": [
       "Circle2D(center=Point2D(x=1.0, y=1.0), radius=2.0)"
      ]
     },
     "execution_count": 3,
     "metadata": {},
     "output_type": "execute_result"
    }
   ],
   "source": [
    "c"
   ]
  },
  {
   "cell_type": "markdown",
   "id": "114acb4b-eaa8-441d-a714-3d60573291c8",
   "metadata": {},
   "source": [
    "As you can see, Pydantic shows us the nested model, and the same happens when serializing the data, if will create nested serialized data structures.\n",
    "\n",
    "Serializing to Python objects:"
   ]
  },
  {
   "cell_type": "code",
   "execution_count": 4,
   "id": "1f60440d-5261-4ef7-82c8-410788d37606",
   "metadata": {},
   "outputs": [
    {
     "data": {
      "text/plain": [
       "{'center': {'x': 1.0, 'y': 1.0}, 'radius': 2.0}"
      ]
     },
     "execution_count": 4,
     "metadata": {},
     "output_type": "execute_result"
    }
   ],
   "source": [
    "c.model_dump()"
   ]
  },
  {
   "cell_type": "markdown",
   "id": "4b0c2baf-9607-456e-9f7b-ffcf6ba45a42",
   "metadata": {},
   "source": [
    "Notice how `Point2D` was serialized to a dictionary, so our entire serialized data is a dictionary with `center` being another dictionary.\n",
    "\n",
    "Same with JSON serialization:"
   ]
  },
  {
   "cell_type": "code",
   "execution_count": 5,
   "id": "bda9fb45-06da-4a20-aa6c-ea9fac311c52",
   "metadata": {},
   "outputs": [
    {
     "data": {
      "text/plain": [
       "'{\"center\":{\"x\":1.0,\"y\":1.0},\"radius\":2.0}'"
      ]
     },
     "execution_count": 5,
     "metadata": {},
     "output_type": "execute_result"
    }
   ],
   "source": [
    "c.model_dump_json()"
   ]
  },
  {
   "cell_type": "markdown",
   "id": "a2b74364-c5f5-462a-a9ba-1e4f774f5856",
   "metadata": {},
   "source": [
    "So this should give you an idea that deserialization using dictionaries or JSON is going to work the same way:"
   ]
  },
  {
   "cell_type": "code",
   "execution_count": 6,
   "id": "b2ffc5a2-3280-40e3-bbdf-e6bd8bf04cf6",
   "metadata": {},
   "outputs": [
    {
     "data": {
      "text/plain": [
       "Circle2D(center=Point2D(x=5.0, y=-5.0), radius=10.0)"
      ]
     },
     "execution_count": 6,
     "metadata": {},
     "output_type": "execute_result"
    }
   ],
   "source": [
    "data = {\n",
    "    \"center\": {\n",
    "        \"x\": 5, \n",
    "        \"y\": -5\n",
    "    },\n",
    "    \"radius\": 10\n",
    "}\n",
    "\n",
    "c = Circle2D.model_validate(data)\n",
    "c"
   ]
  },
  {
   "cell_type": "markdown",
   "id": "a50287dd-a7aa-4980-9b41-cbe5b0cf7a73",
   "metadata": {},
   "source": [
    "And similarly with JSON data:"
   ]
  },
  {
   "cell_type": "code",
   "execution_count": 7,
   "id": "e44d45cb-64ab-4ae4-ac14-6821b9a564fe",
   "metadata": {},
   "outputs": [
    {
     "data": {
      "text/plain": [
       "Circle2D(center=Point2D(x=5.0, y=-5.0), radius=10.0)"
      ]
     },
     "execution_count": 7,
     "metadata": {},
     "output_type": "execute_result"
    }
   ],
   "source": [
    "data = \"\"\"\n",
    "{\n",
    "    \"center\": {\n",
    "        \"x\": 5, \n",
    "        \"y\": -5\n",
    "    },\n",
    "    \"radius\": 10\n",
    "}\n",
    "\"\"\"\n",
    "\n",
    "c = Circle2D.model_validate_json(data)\n",
    "c"
   ]
  },
  {
   "cell_type": "markdown",
   "id": "feb59040-e616-473a-ba5d-1e10a8756829",
   "metadata": {},
   "source": [
    "And of course we can access our field using dot notation, just like regular classes:"
   ]
  },
  {
   "cell_type": "code",
   "execution_count": 8,
   "id": "30fca269-acdf-407a-a268-d6462e8ed4bb",
   "metadata": {},
   "outputs": [
    {
     "data": {
      "text/plain": [
       "Point2D(x=5.0, y=-5.0)"
      ]
     },
     "execution_count": 8,
     "metadata": {},
     "output_type": "execute_result"
    }
   ],
   "source": [
    "c.center"
   ]
  },
  {
   "cell_type": "code",
   "execution_count": 9,
   "id": "401681ad-dcef-470a-9fa5-8f3fafb0520b",
   "metadata": {},
   "outputs": [
    {
     "data": {
      "text/plain": [
       "5.0"
      ]
     },
     "execution_count": 9,
     "metadata": {},
     "output_type": "execute_result"
    }
   ],
   "source": [
    "c.center.x"
   ]
  },
  {
   "cell_type": "markdown",
   "id": "6e831126-3990-4021-b228-4a1fff906f1d",
   "metadata": {},
   "source": [
    "One of the useful things about model composition, is that each model used can be independently configured."
   ]
  },
  {
   "cell_type": "markdown",
   "id": "bd279dbc-3f70-4f38-9c4b-db5a8dc2f7eb",
   "metadata": {},
   "source": [
    "For example, suppose we have this piece of JSON we are receiving from some API call.\n",
    "\n",
    "We are interested in only a subset of the information, so we can easily create models that can ignore these extra pieces of data."
   ]
  },
  {
   "cell_type": "code",
   "execution_count": 10,
   "id": "87fe403f-6c2e-40ac-b484-031a21480a4f",
   "metadata": {},
   "outputs": [],
   "source": [
    "json_data = \"\"\"\n",
    "{\n",
    "    \"firstName\": \"David\",\n",
    "    \"lastName\": \"Hilbert\",\n",
    "    \"contactInfo\": {\n",
    "        \"email\": \"d.hilbert@spectral-theory.com\",\n",
    "        \"homePhone\": {\n",
    "            \"countryCode\": 49,\n",
    "            \"areaCode\": 551,\n",
    "            \"localPhoneNumber\": 123456789\n",
    "        }\n",
    "    },\n",
    "    \"personalInfo\": {\n",
    "        \"nationality\": \"German\",\n",
    "        \"born\": {\n",
    "            \"date\": \"1862-01-23\",\n",
    "            \"place\": {\n",
    "                \"city\": \"Konigsberg\",\n",
    "                \"country\": \"Prussia\"\n",
    "            }\n",
    "        },\n",
    "        \"died\": {\n",
    "            \"date\": \"1943-02-14\",\n",
    "            \"place\": {\n",
    "                \"city\": \"Gottingen\",\n",
    "                \"country\": \"Germany\"\n",
    "            }\n",
    "        }\n",
    "    },\n",
    "    \"awards\": [\"Lobachevsky Prize\", \"Bolyai Prize\", \"ForMemRS\"],\n",
    "    \"notableStudents\": [\"von Neumann\", \"Weyl\", \"Courant\", \"Zermelo\"]\n",
    "}\n",
    "\"\"\""
   ]
  },
  {
   "cell_type": "markdown",
   "id": "d3000366-c845-4c37-b2e9-b7d6dbd4776b",
   "metadata": {},
   "source": [
    "Suppose that we are only interested in the first name, last name, email, born info, awards and notable students.\n",
    "\n",
    "To model this using Pydantic we would break things down using decomposition:"
   ]
  },
  {
   "cell_type": "code",
   "execution_count": 11,
   "id": "99e61ec4-597b-4a09-90b0-b6586de75575",
   "metadata": {},
   "outputs": [],
   "source": [
    "from pydantic import EmailStr, PastDate\n",
    "from pydantic.alias_generators import to_camel\n",
    "\n",
    "\n",
    "class ContactInfo(BaseModel):\n",
    "    model_config = ConfigDict(extra=\"ignore\")\n",
    "\n",
    "    email: EmailStr | None = None\n",
    "\n",
    "class PlaceInfo(BaseModel):\n",
    "    city: str\n",
    "    country: str\n",
    "    \n",
    "class PlaceDateInfo(BaseModel):\n",
    "    model_config = ConfigDict(populate_by_name=True)\n",
    "    \n",
    "    date_: PastDate = Field(alias=\"date\")\n",
    "    place: PlaceInfo\n",
    "    \n",
    "class PersonalInfo(BaseModel):\n",
    "    model_config = ConfigDict(extra=\"ignore\")\n",
    "\n",
    "    nationality: str\n",
    "    born: PlaceDateInfo\n",
    "\n",
    "class Person(BaseModel):\n",
    "    model_config = ConfigDict(alias_generator=to_camel, populate_by_name=True, extra=\"ignore\")\n",
    "    \n",
    "    first_name: str\n",
    "    last_name: str\n",
    "    contact_info: ContactInfo\n",
    "    personal_info: PersonalInfo\n",
    "    notable_students: list[str] = []"
   ]
  },
  {
   "cell_type": "code",
   "execution_count": 12,
   "id": "14bb4d5e-9647-4183-baa6-2bf53d8e57e9",
   "metadata": {},
   "outputs": [
    {
     "data": {
      "text/plain": [
       "Person(first_name='David', last_name='Hilbert', contact_info=ContactInfo(email='d.hilbert@spectral-theory.com'), personal_info=PersonalInfo(nationality='German', born=PlaceDateInfo(date_=datetime.date(1862, 1, 23), place=PlaceInfo(city='Konigsberg', country='Prussia'))), notable_students=['von Neumann', 'Weyl', 'Courant', 'Zermelo'])"
      ]
     },
     "execution_count": 12,
     "metadata": {},
     "output_type": "execute_result"
    }
   ],
   "source": [
    "p = Person.model_validate_json(json_data)\n",
    "p"
   ]
  },
  {
   "cell_type": "markdown",
   "id": "c619ad96-7fa6-43f7-a2cc-700fab16ab8e",
   "metadata": {},
   "source": [
    "And when we serialize our model, you'll see that not only does everything get nested (like the input data), but we also have ignored extra fields in that JSON object our app did not need:"
   ]
  },
  {
   "cell_type": "code",
   "execution_count": 13,
   "id": "09f1a1ef-911f-4fb3-b844-40271361231a",
   "metadata": {},
   "outputs": [
    {
     "name": "stdout",
     "output_type": "stream",
     "text": [
      "{\n",
      "  \"firstName\": \"David\",\n",
      "  \"lastName\": \"Hilbert\",\n",
      "  \"contactInfo\": {\n",
      "    \"email\": \"d.hilbert@spectral-theory.com\"\n",
      "  },\n",
      "  \"personalInfo\": {\n",
      "    \"nationality\": \"German\",\n",
      "    \"born\": {\n",
      "      \"date\": \"1862-01-23\",\n",
      "      \"place\": {\n",
      "        \"city\": \"Konigsberg\",\n",
      "        \"country\": \"Prussia\"\n",
      "      }\n",
      "    }\n",
      "  },\n",
      "  \"notableStudents\": [\n",
      "    \"von Neumann\",\n",
      "    \"Weyl\",\n",
      "    \"Courant\",\n",
      "    \"Zermelo\"\n",
      "  ]\n",
      "}\n"
     ]
    }
   ],
   "source": [
    "print(p.model_dump_json(by_alias=True, indent=2))"
   ]
  },
  {
   "cell_type": "markdown",
   "id": "e194f365-7be7-48c0-b827-78f1d1b84bbb",
   "metadata": {},
   "source": [
    "Just as an exercise, let's add some code so that our `notableStudents` list is always sorted alphabetically.\n",
    "\n",
    "We do that by adding a custom validator - and I'll use an annotated type, since I might want to re-use a sorted list of strings in other places in my app."
   ]
  },
  {
   "cell_type": "code",
   "execution_count": 14,
   "id": "42b1b94e-68c2-492b-a6b3-cfe5069f3320",
   "metadata": {},
   "outputs": [],
   "source": [
    "from typing import Annotated\n",
    "from pydantic import AfterValidator\n",
    "\n",
    "\n",
    "# using an AfterValidator, so guaranteed value will be a list (empty or strings)\n",
    "SortedStringList = Annotated[list[str], AfterValidator(lambda value: sorted(value, key=str.casefold))]\n",
    "\n",
    "class Person(BaseModel):\n",
    "    model_config = ConfigDict(alias_generator=to_camel, populate_by_name=True, extra=\"ignore\")\n",
    "    \n",
    "    first_name: str\n",
    "    last_name: str\n",
    "    contact_info: ContactInfo\n",
    "    personal_info: PersonalInfo\n",
    "    notable_students: SortedStringList = []"
   ]
  },
  {
   "cell_type": "code",
   "execution_count": 15,
   "id": "739616f6-6af6-49ad-87af-98cdd706de78",
   "metadata": {},
   "outputs": [
    {
     "data": {
      "text/plain": [
       "Person(first_name='David', last_name='Hilbert', contact_info=ContactInfo(email='d.hilbert@spectral-theory.com'), personal_info=PersonalInfo(nationality='German', born=PlaceDateInfo(date_=datetime.date(1862, 1, 23), place=PlaceInfo(city='Konigsberg', country='Prussia'))), notable_students=['Courant', 'von Neumann', 'Weyl', 'Zermelo'])"
      ]
     },
     "execution_count": 15,
     "metadata": {},
     "output_type": "execute_result"
    }
   ],
   "source": [
    "p = Person.model_validate_json(json_data)\n",
    "p"
   ]
  },
  {
   "cell_type": "code",
   "execution_count": 16,
   "id": "a411ae28-c81d-4f4f-adc8-422018d7f7e8",
   "metadata": {},
   "outputs": [
    {
     "name": "stdout",
     "output_type": "stream",
     "text": [
      "{\n",
      "  \"firstName\": \"David\",\n",
      "  \"lastName\": \"Hilbert\",\n",
      "  \"contactInfo\": {\n",
      "    \"email\": \"d.hilbert@spectral-theory.com\"\n",
      "  },\n",
      "  \"personalInfo\": {\n",
      "    \"nationality\": \"German\",\n",
      "    \"born\": {\n",
      "      \"date\": \"1862-01-23\",\n",
      "      \"place\": {\n",
      "        \"city\": \"Konigsberg\",\n",
      "        \"country\": \"Prussia\"\n",
      "      }\n",
      "    }\n",
      "  },\n",
      "  \"notableStudents\": [\n",
      "    \"Courant\",\n",
      "    \"von Neumann\",\n",
      "    \"Weyl\",\n",
      "    \"Zermelo\"\n",
      "  ]\n",
      "}\n"
     ]
    }
   ],
   "source": [
    "print(p.model_dump_json(by_alias=True, indent=2))"
   ]
  },
  {
   "cell_type": "markdown",
   "id": "1c16eac5-3548-47a1-b124-2a159f6c9cac",
   "metadata": {},
   "source": [
    "This is a \"trick\" I find myself using often when I have some API query that returns way more information than I need - I can eliminate all the extra data using `extra=\"ignore\"` in any of the models used in the main model."
   ]
  },
  {
   "cell_type": "code",
   "execution_count": null,
   "id": "0c74ae7a-f200-4e27-8b9c-99fcf42e0397",
   "metadata": {},
   "outputs": [],
   "source": []
  }
 ],
 "metadata": {
  "kernelspec": {
   "display_name": "Python 3 (ipykernel)",
   "language": "python",
   "name": "python3"
  },
  "language_info": {
   "codemirror_mode": {
    "name": "ipython",
    "version": 3
   },
   "file_extension": ".py",
   "mimetype": "text/x-python",
   "name": "python",
   "nbconvert_exporter": "python",
   "pygments_lexer": "ipython3",
   "version": "3.12.0"
  }
 },
 "nbformat": 4,
 "nbformat_minor": 5
}
