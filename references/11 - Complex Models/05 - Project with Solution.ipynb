{
 "cells": [
  {
   "cell_type": "markdown",
   "id": "34fc11a1-6613-473d-9c69-a4ad95511206",
   "metadata": {},
   "source": [
    "# Project with Solution (Section 11)"
   ]
  },
  {
   "cell_type": "markdown",
   "id": "b7b2cd27-8d6a-42a0-9498-f56e23b629a3",
   "metadata": {
    "jp-MarkdownHeadingCollapsed": true
   },
   "source": [
    "## Project Specs"
   ]
  },
  {
   "cell_type": "markdown",
   "id": "26f8869a-29c3-4476-a23c-451ad4ca33b4",
   "metadata": {},
   "source": [
    "Here is where we left off in the previous section code:"
   ]
  },
  {
   "cell_type": "code",
   "execution_count": 1,
   "id": "31f378ef-ace3-4245-96ab-904075c211da",
   "metadata": {},
   "outputs": [],
   "source": [
    "countries = {\n",
    "    \"australia\": (\"Australia\", \"AUS\"),\n",
    "    \"canada\": (\"Canada\", \"CAN\"),\n",
    "    \"china\": (\"China\", \"CHN\"),\n",
    "    \"france\": (\"France\", \"FRA\"),\n",
    "    \"germany\": (\"Germany\", \"DEU\"),\n",
    "    \"india\": (\"India\", \"IND\"),\n",
    "    \"mexico\": (\"Mexico\", \"MEX\"),\n",
    "    \"norway\": (\"Norway\", \"NOR\"),\n",
    "    \"pakistan\": (\"Pakistan\", \"PAK\"),\n",
    "    \"san marino\": (\"San Marino\", \"SMR\"),\n",
    "    \"sanmarino\": (\"San Marino\", \"SMR\"),\n",
    "    \"spain\": (\"Spain\", \"ESP\"),\n",
    "    \"sweden\": (\"Sweden\", \"SWE\"),\n",
    "    \"united kingdom\": (\"United Kingdom\", \"GBR\"),\n",
    "    \"uk\": (\"United Kingdom\", \"GBR\"),\n",
    "    \"great britain\": (\"United Kingdom\", \"GBR\"),\n",
    "    \"britain\": (\"United Kingdom\", \"GBR\"),\n",
    "    \"us\": (\"United States of America\", \"USA\"),\n",
    "    \"united states\": (\"United States of America\", \"USA\"),\n",
    "    \"usa\": (\"United States of America\", \"USA\"),\n",
    "}\n",
    "valid_country_names = sorted(countries.keys())\n",
    "\n",
    "def lookup_country(name: str) -> tuple[str, str]:\n",
    "    name = name.strip().casefold()\n",
    "    \n",
    "    try:\n",
    "        return countries[name]\n",
    "    except KeyError:\n",
    "        raise ValueError(\n",
    "            \"Unknown country name. \"\n",
    "            f\"Country name must be one of: {','.join(valid_country_names)}\"\n",
    "        )\n",
    "\n",
    "country_code_lookup = {\n",
    "    name: code\n",
    "    for name, code in countries.values()\n",
    "}"
   ]
  },
  {
   "cell_type": "code",
   "execution_count": 2,
   "id": "19a11345-a23f-4c1a-8c2d-882a51766b51",
   "metadata": {},
   "outputs": [],
   "source": [
    "from datetime import date\n",
    "from enum import Enum\n",
    "from functools import cached_property\n",
    "from typing import Annotated, TypeVar\n",
    "from uuid import uuid4\n",
    "from pydantic import (\n",
    "    AfterValidator, \n",
    "    BaseModel, \n",
    "    ConfigDict, \n",
    "    computed_field,\n",
    "    Field, \n",
    "    field_serializer, \n",
    "    field_validator,\n",
    "    PlainSerializer,\n",
    "    UUID4,\n",
    "    ValidationInfo,\n",
    ")\n",
    "from pydantic.alias_generators import to_camel\n",
    "\n",
    "\n",
    "class AutomobileType(Enum):\n",
    "    sedan = \"Sedan\"\n",
    "    coupe = \"Coupe\"\n",
    "    convertible = \"Convertible\"\n",
    "    suv = \"SUV\"\n",
    "    truck = \"Truck\"\n",
    "\n",
    "\n",
    "T = TypeVar('T')\n",
    "BoundedString = Annotated[str, Field(min_length=2, max_length=50)]\n",
    "BoundedList = Annotated[list[T], Field(min_length=1, max_length=5)]\n",
    "Country = Annotated[str, AfterValidator(lambda name: lookup_country(name)[0])]\n",
    "\n",
    "\n",
    "def serialize_date(value: date) -> str:\n",
    "        return value.strftime(\"%Y/%m/%d\")\n",
    "\n",
    "\n",
    "CustomDate = Annotated[\n",
    "    date, \n",
    "    PlainSerializer(serialize_date, when_used=\"json-unless-none\")\n",
    "]\n",
    "\n",
    "class Automobile(BaseModel):\n",
    "    model_config = ConfigDict(\n",
    "        extra=\"forbid\",\n",
    "        str_strip_whitespace=True,\n",
    "        validate_default=True,\n",
    "        validate_assignment=True,\n",
    "        alias_generator=to_camel,\n",
    "    )\n",
    "\n",
    "    id_: UUID4 | None = Field(alias=\"id\", default_factory=uuid4) \n",
    "    manufacturer: BoundedString\n",
    "    series_name: BoundedString\n",
    "    type_: AutomobileType = Field(alias=\"type\")\n",
    "    is_electric: bool = Field(default=False, repr=False)\n",
    "    manufactured_date: CustomDate = Field(\n",
    "        validation_alias=\"completionDate\", \n",
    "        ge=date(1980, 1, 1), \n",
    "        repr=False\n",
    "    )\n",
    "    base_msrp_usd: float = Field(\n",
    "        validation_alias=\"msrpUSD\", \n",
    "        serialization_alias=\"baseMSRPUSD\",\n",
    "        repr=False,\n",
    "    )\n",
    "    top_features: BoundedList[BoundedString] | None = Field(default=None, repr=False)\n",
    "    vin: BoundedString = Field(repr=False)\n",
    "    number_of_doors: int = Field(\n",
    "        default=4, \n",
    "        validation_alias=\"doors\",\n",
    "        ge=2,\n",
    "        le=4,\n",
    "        multiple_of=2,\n",
    "        repr=False,\n",
    "    )\n",
    "    registration_country: Country | None = Field(default=None, repr=False)\n",
    "\n",
    "    @computed_field(repr=False)\n",
    "    @cached_property\n",
    "    def registration_country_code(self) -> str:\n",
    "        return country_code_lookup[self.registration_country] \n",
    "    \n",
    "    registration_date: CustomDate | None = Field(default=None, repr=False)\n",
    "    license_plate: BoundedString | None = Field(default=None, repr=False)\n",
    "        \n",
    "    @field_validator(\"registration_date\")\n",
    "    @classmethod\n",
    "    def validate_registration_date(cls, value:date, values: ValidationInfo):\n",
    "        data = values.data\n",
    "        if \"manufactured_date\" in data and data[\"manufactured_date\"] > value:\n",
    "            raise ValueError(\"Automobile cannot be registered prior to manufacture date.\")\n",
    "        return value"
   ]
  },
  {
   "cell_type": "markdown",
   "id": "c098e119-1896-42da-bdca-838ada4f78f8",
   "metadata": {},
   "source": [
    "Here we are going to refactor our model and put the registration country information into a separate model, that we'll then include in our main model via composition."
   ]
  },
  {
   "cell_type": "markdown",
   "id": "55903c7d-2429-4c2f-b89c-17d876108c5a",
   "metadata": {},
   "source": [
    "But before we do that, we'll want to apply the same model configurations to all our models.\n",
    "\n",
    "So, first create a new custom base model (call it `CamelBaseModel`), and define the same model config as our current `Automobile` model.\n",
    "\n",
    "Then, use inheritance to remove the model configs from `Automobile`, and instead inherit them from our new `CamelBaseModel`."
   ]
  },
  {
   "cell_type": "markdown",
   "id": "ef662118-227a-48d6-9849-0930375f423b",
   "metadata": {},
   "source": [
    "Next, we are going to make a separate model (use the `CamelBaseModel` for this one too), that should move these fields from `Automobile` into it (including any validators). You may also want to clean up the representation settings for this model when you copy things over.\n",
    "\n",
    "- implement the `registration_country` field in this new model - but rename the field to simply `name`.\n",
    "- implement the computed field `registration_country_code` in this new model - but rename the field to simply `code3`."
   ]
  },
  {
   "cell_type": "markdown",
   "id": "629c5099-2d52-43ce-b90c-3f61b9882471",
   "metadata": {},
   "source": [
    "Once you have that model defined (and removed the `registration_country` and `registration_country_code` fields from the `Automobile` model), create a single new replacement field, also named `registration_country`, but this time use the submodel as the type. Of course, this field should still have a default of `None`."
   ]
  },
  {
   "cell_type": "markdown",
   "id": "b262e6b7-5877-4454-8671-b98b48ff5e02",
   "metadata": {},
   "source": [
    "## Solution"
   ]
  },
  {
   "cell_type": "markdown",
   "id": "c7c2f3a9-c0ce-4cd5-b5bb-e7528131a848",
   "metadata": {},
   "source": [
    "First we define our custom base model:"
   ]
  },
  {
   "cell_type": "code",
   "execution_count": 3,
   "id": "4f707cbb-ab92-4d04-8a69-edd03cb2730d",
   "metadata": {},
   "outputs": [],
   "source": [
    "class CamelBaseModel(BaseModel):\n",
    "    model_config = ConfigDict(\n",
    "        extra=\"forbid\",\n",
    "        str_strip_whitespace=True,\n",
    "        validate_default=True,\n",
    "        validate_assignment=True,\n",
    "        alias_generator=to_camel,\n",
    "    )"
   ]
  },
  {
   "cell_type": "markdown",
   "id": "7720e97b-f360-44fc-a52f-a8e10a1c1f8c",
   "metadata": {},
   "source": [
    "Then we can redefine our `Automobile` class this way:"
   ]
  },
  {
   "cell_type": "code",
   "execution_count": 4,
   "id": "e6035573-dea7-4d9c-b23f-49a91cc65f38",
   "metadata": {},
   "outputs": [],
   "source": [
    "class Automobile(CamelBaseModel):\n",
    "    id_: UUID4 | None = Field(alias=\"id\", default_factory=uuid4) \n",
    "    manufacturer: BoundedString\n",
    "    series_name: BoundedString\n",
    "    type_: AutomobileType = Field(alias=\"type\")\n",
    "    is_electric: bool = Field(default=False, repr=False)\n",
    "    manufactured_date: CustomDate = Field(\n",
    "        validation_alias=\"completionDate\", \n",
    "        ge=date(1980, 1, 1), \n",
    "        repr=False\n",
    "    )\n",
    "    base_msrp_usd: float = Field(\n",
    "        validation_alias=\"msrpUSD\", \n",
    "        serialization_alias=\"baseMSRPUSD\",\n",
    "        repr=False,\n",
    "    )\n",
    "    top_features: BoundedList[BoundedString] | None = Field(default=None, repr=False)\n",
    "    vin: BoundedString = Field(repr=False)\n",
    "    number_of_doors: int = Field(\n",
    "        default=4, \n",
    "        validation_alias=\"doors\",\n",
    "        ge=2,\n",
    "        le=4,\n",
    "        multiple_of=2,\n",
    "        repr=False,\n",
    "    )\n",
    "    registration_country: Country | None = Field(default=None, repr=False)\n",
    "\n",
    "    @computed_field(repr=False)\n",
    "    @cached_property\n",
    "    def registration_country_code(self) -> str:\n",
    "        return country_code_lookup[self.registration_country] \n",
    "    \n",
    "    registration_date: CustomDate | None = Field(default=None, repr=False)\n",
    "    license_plate: BoundedString | None = Field(default=None, repr=False)\n",
    "        \n",
    "    @field_validator(\"registration_date\")\n",
    "    @classmethod\n",
    "    def validate_registration_date(cls, value:date, values: ValidationInfo):\n",
    "        data = values.data\n",
    "        if \"manufactured_date\" in data and data[\"manufactured_date\"] > value:\n",
    "            raise ValueError(\"Automobile cannot be registered prior to manufacture date.\")\n",
    "        return value"
   ]
  },
  {
   "cell_type": "markdown",
   "id": "a2c0cb63-37d3-4671-99a5-e8dec0ee0f01",
   "metadata": {},
   "source": [
    "Next, we define a new model for registration country:"
   ]
  },
  {
   "cell_type": "code",
   "execution_count": 5,
   "id": "7cee8388-3110-4497-b04a-a85924804a98",
   "metadata": {},
   "outputs": [],
   "source": [
    "class RegistrationCountry(CamelBaseModel):\n",
    "    name: Country | None = Field(default=None)\n",
    "\n",
    "    @computed_field\n",
    "    @cached_property\n",
    "    def code3(self) -> str:\n",
    "        return country_code_lookup[self.name]"
   ]
  },
  {
   "cell_type": "markdown",
   "id": "be0fe03b-76ab-49a0-bfe3-77ac67d2bdc0",
   "metadata": {},
   "source": [
    "And now, using composition let's refactor the fields in `Automobile`:"
   ]
  },
  {
   "cell_type": "code",
   "execution_count": 6,
   "id": "f4aed6ed-1bf9-402e-835c-b6421b1e0c1f",
   "metadata": {},
   "outputs": [],
   "source": [
    "class Automobile(CamelBaseModel):\n",
    "    id_: UUID4 | None = Field(alias=\"id\", default_factory=uuid4) \n",
    "    manufacturer: BoundedString\n",
    "    series_name: BoundedString\n",
    "    type_: AutomobileType = Field(alias=\"type\")\n",
    "    is_electric: bool = Field(default=False, repr=False)\n",
    "    manufactured_date: CustomDate = Field(\n",
    "        validation_alias=\"completionDate\", \n",
    "        ge=date(1980, 1, 1), \n",
    "        repr=False\n",
    "    )\n",
    "    base_msrp_usd: float = Field(\n",
    "        validation_alias=\"msrpUSD\", \n",
    "        serialization_alias=\"baseMSRPUSD\",\n",
    "        repr=False,\n",
    "    )\n",
    "    top_features: BoundedList[BoundedString] | None = Field(default=None, repr=False)\n",
    "    vin: BoundedString = Field(repr=False)\n",
    "    number_of_doors: int = Field(\n",
    "        default=4, \n",
    "        validation_alias=\"doors\",\n",
    "        ge=2,\n",
    "        le=4,\n",
    "        multiple_of=2,\n",
    "        repr=False,\n",
    "    )\n",
    "    registration_country: RegistrationCountry | None = Field(default=None, repr=False)\n",
    "    registration_date: CustomDate | None = Field(default=None, repr=False)\n",
    "    license_plate: BoundedString | None = Field(default=None, repr=False)\n",
    "        \n",
    "    @field_validator(\"registration_date\")\n",
    "    @classmethod\n",
    "    def validate_registration_date(cls, value:date, values: ValidationInfo):\n",
    "        data = values.data\n",
    "        if \"manufactured_date\" in data and data[\"manufactured_date\"] > value:\n",
    "            raise ValueError(\"Automobile cannot be registered prior to manufacture date.\")\n",
    "        return value"
   ]
  },
  {
   "cell_type": "markdown",
   "id": "44f75e20-a8ac-435f-ad9d-ef4231f97fa6",
   "metadata": {},
   "source": [
    "Finally, let's deserialize some data:"
   ]
  },
  {
   "cell_type": "code",
   "execution_count": 7,
   "id": "d7b7f92f-623c-459a-8de9-485da9b5fd6d",
   "metadata": {},
   "outputs": [],
   "source": [
    "from uuid import UUID\n",
    "\n",
    "data = {\n",
    "    \"id\": \"c4e60f4a-3c7f-4da5-9b3f-07aee50b23e7\",\n",
    "    \"manufacturer\": \"BMW\",\n",
    "    \"seriesName\": \"M4 Competition xDrive\",\n",
    "    \"type\": \"Convertible\",\n",
    "    \"isElectric\": False,\n",
    "    \"completionDate\": \"2023-01-01\",\n",
    "    \"msrpUSD\": 93_300,\n",
    "    \"topFeatures\": [\"6 cylinders\", \"all-wheel drive\", \"convertible\"],\n",
    "    \"vin\": \"1234567890\",\n",
    "    \"doors\": 2,\n",
    "    \"registrationCountry\": {\"name\": \"us\"},\n",
    "    \"registrationDate\": \"2023-06-01\",\n",
    "    \"licensePlate\": \"AAA-BBB\"\n",
    "}\n",
    "\n",
    "expected_serialized_by_alias = {\n",
    "    'id': UUID('c4e60f4a-3c7f-4da5-9b3f-07aee50b23e7'),\n",
    "    'manufacturer': 'BMW',\n",
    "    'seriesName': 'M4 Competition xDrive',\n",
    "    'type': AutomobileType.convertible,\n",
    "    'isElectric': False,\n",
    "    'manufacturedDate': date(2023, 1, 1),\n",
    "    'baseMSRPUSD': 93300.0,\n",
    "    'topFeatures': ['6 cylinders', 'all-wheel drive', 'convertible'],\n",
    "    'vin': '1234567890',\n",
    "    'numberOfDoors': 2,\n",
    "    'registrationCountry': {\n",
    "        'name': 'United States of America', \n",
    "        'code3': 'USA'\n",
    "    },\n",
    "    'registrationDate': date(2023, 6, 1),\n",
    "    'licensePlate': 'AAA-BBB'\n",
    "}"
   ]
  },
  {
   "cell_type": "code",
   "execution_count": 8,
   "id": "568c7be6-ca51-4745-a9b4-67a033c158c3",
   "metadata": {},
   "outputs": [
    {
     "data": {
      "text/plain": [
       "Automobile(id_=UUID('c4e60f4a-3c7f-4da5-9b3f-07aee50b23e7'), manufacturer='BMW', series_name='M4 Competition xDrive', type_=<AutomobileType.convertible: 'Convertible'>)"
      ]
     },
     "execution_count": 8,
     "metadata": {},
     "output_type": "execute_result"
    }
   ],
   "source": [
    "car = Automobile.model_validate(data)\n",
    "car"
   ]
  },
  {
   "cell_type": "code",
   "execution_count": 9,
   "id": "149e1b56-557e-4110-9c9f-2fb43ea9b1fe",
   "metadata": {},
   "outputs": [
    {
     "data": {
      "text/plain": [
       "RegistrationCountry(name='United States of America', code3='USA')"
      ]
     },
     "execution_count": 9,
     "metadata": {},
     "output_type": "execute_result"
    }
   ],
   "source": [
    "car.registration_country"
   ]
  },
  {
   "cell_type": "markdown",
   "id": "dc55d432-cf17-49c2-97e5-81cd161c7845",
   "metadata": {},
   "source": [
    "And let's deserialize:"
   ]
  },
  {
   "cell_type": "code",
   "execution_count": 10,
   "id": "adfc7197-982a-4121-80a0-dd0fcd6920a5",
   "metadata": {},
   "outputs": [
    {
     "data": {
      "text/plain": [
       "{'id': UUID('c4e60f4a-3c7f-4da5-9b3f-07aee50b23e7'),\n",
       " 'manufacturer': 'BMW',\n",
       " 'seriesName': 'M4 Competition xDrive',\n",
       " 'type': <AutomobileType.convertible: 'Convertible'>,\n",
       " 'isElectric': False,\n",
       " 'manufacturedDate': datetime.date(2023, 1, 1),\n",
       " 'baseMSRPUSD': 93300.0,\n",
       " 'topFeatures': ['6 cylinders', 'all-wheel drive', 'convertible'],\n",
       " 'vin': '1234567890',\n",
       " 'numberOfDoors': 2,\n",
       " 'registrationCountry': {'name': 'United States of America', 'code3': 'USA'},\n",
       " 'registrationDate': datetime.date(2023, 6, 1),\n",
       " 'licensePlate': 'AAA-BBB'}"
      ]
     },
     "execution_count": 10,
     "metadata": {},
     "output_type": "execute_result"
    }
   ],
   "source": [
    "car.model_dump(by_alias=True)"
   ]
  },
  {
   "cell_type": "code",
   "execution_count": 11,
   "id": "8795eed1-1929-4e93-986c-cc311f686c28",
   "metadata": {},
   "outputs": [],
   "source": [
    "assert car.model_dump(by_alias=True) == expected_serialized_by_alias"
   ]
  },
  {
   "cell_type": "code",
   "execution_count": null,
   "id": "fe05046d-5df6-4ccd-a7a5-72f46f1f8923",
   "metadata": {},
   "outputs": [],
   "source": []
  }
 ],
 "metadata": {
  "kernelspec": {
   "display_name": "Python 3 (ipykernel)",
   "language": "python",
   "name": "python3"
  },
  "language_info": {
   "codemirror_mode": {
    "name": "ipython",
    "version": 3
   },
   "file_extension": ".py",
   "mimetype": "text/x-python",
   "name": "python",
   "nbconvert_exporter": "python",
   "pygments_lexer": "ipython3",
   "version": "3.12.0"
  }
 },
 "nbformat": 4,
 "nbformat_minor": 5
}
