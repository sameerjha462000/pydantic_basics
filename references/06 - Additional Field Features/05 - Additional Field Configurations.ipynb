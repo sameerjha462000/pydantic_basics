{
 "cells": [
  {
   "cell_type": "markdown",
   "id": "3044f6bd-7ae4-4fa5-96a4-466da62dfe22",
   "metadata": {},
   "source": [
    "# Additional Field Configurations"
   ]
  },
  {
   "cell_type": "markdown",
   "id": "9378185f-f5d5-427f-99b8-2b28921692a9",
   "metadata": {},
   "source": [
    "We saw various model configurations that applied to all the fields in the model."
   ]
  },
  {
   "cell_type": "code",
   "execution_count": 1,
   "id": "2be194e6-dbff-47f0-b9c4-93978ffb6fcb",
   "metadata": {},
   "outputs": [],
   "source": [
    "from pydantic import BaseModel, ConfigDict, Field, ValidationError"
   ]
  },
  {
   "cell_type": "markdown",
   "id": "bf2fd8eb-2d0c-4d63-baa3-04ac8c7810e0",
   "metadata": {},
   "source": [
    "## Strict vs Lax Coercion"
   ]
  },
  {
   "cell_type": "code",
   "execution_count": 2,
   "id": "221bf517-5719-4a3f-8c63-34e3f72f658a",
   "metadata": {},
   "outputs": [],
   "source": [
    "class Model(BaseModel):\n",
    "    model_config = ConfigDict(strict=True)\n",
    "\n",
    "    field_1: bool = False\n",
    "    field_2: bool = False"
   ]
  },
  {
   "cell_type": "markdown",
   "id": "2895014d-f320-48a9-9f3a-f8998559dbf3",
   "metadata": {},
   "source": [
    "This means that strict coercion mode will be enforced for **all** model fields."
   ]
  },
  {
   "cell_type": "code",
   "execution_count": 3,
   "id": "d2ffa27b-423b-468a-b75d-b0b9aa30cd08",
   "metadata": {},
   "outputs": [
    {
     "name": "stdout",
     "output_type": "stream",
     "text": [
      "2 validation errors for Model\n",
      "field_1\n",
      "  Input should be a valid boolean [type=bool_type, input_value=1.0, input_type=float]\n",
      "    For further information visit https://errors.pydantic.dev/2.5/v/bool_type\n",
      "field_2\n",
      "  Input should be a valid boolean [type=bool_type, input_value=1.0, input_type=float]\n",
      "    For further information visit https://errors.pydantic.dev/2.5/v/bool_type\n"
     ]
    }
   ],
   "source": [
    "try:\n",
    "    Model(field_1=1.0, field_2=1.0)\n",
    "except ValidationError as ex:\n",
    "    print(ex)"
   ]
  },
  {
   "cell_type": "markdown",
   "id": "db0708bf-83ef-4aea-a4f7-b4c815317b76",
   "metadata": {},
   "source": [
    "In strict mode, Pydantic will not convert the floats `1.0` to `True` (or `0.0` to `False`).\n",
    "\n",
    "Sometimes, we may want most of our fields to be in lax mode, and only some fields in strict mode. Or the other way around."
   ]
  },
  {
   "cell_type": "markdown",
   "id": "3021dd33-99d9-47b3-8614-a18fe7f3a9ca",
   "metadata": {},
   "source": [
    "So, let's set our model to lax (the default), and only specify strict for some of the fields:"
   ]
  },
  {
   "cell_type": "code",
   "execution_count": 4,
   "id": "b60ac06c-c253-4e59-a5bb-8a45bad5f151",
   "metadata": {},
   "outputs": [],
   "source": [
    "class Model(BaseModel):\n",
    "    model_config = ConfigDict(\n",
    "        strict=False, \n",
    "        validate_default=True,\n",
    "    )\n",
    "\n",
    "    field_1: bool = Field(strict=True, default=False)\n",
    "    field_2: bool = False"
   ]
  },
  {
   "cell_type": "code",
   "execution_count": 5,
   "id": "29634062-9d4e-47a4-9729-4f4ebddffa52",
   "metadata": {},
   "outputs": [
    {
     "data": {
      "text/plain": [
       "Model(field_1=True, field_2=True)"
      ]
     },
     "execution_count": 5,
     "metadata": {},
     "output_type": "execute_result"
    }
   ],
   "source": [
    "Model(field_1=True, field_2=1.0)"
   ]
  },
  {
   "cell_type": "markdown",
   "id": "2b6d5ffc-09e6-4605-be06-2d640f5ad26c",
   "metadata": {},
   "source": [
    "But this will not work:"
   ]
  },
  {
   "cell_type": "code",
   "execution_count": 6,
   "id": "de23b9d5-6d88-4c76-86cd-4e607190ffb5",
   "metadata": {},
   "outputs": [
    {
     "name": "stdout",
     "output_type": "stream",
     "text": [
      "1 validation error for Model\n",
      "field_1\n",
      "  Input should be a valid boolean [type=bool_type, input_value=1.0, input_type=float]\n",
      "    For further information visit https://errors.pydantic.dev/2.5/v/bool_type\n"
     ]
    }
   ],
   "source": [
    "try:\n",
    "    Model(field_1=1.0, field_2=0.0)\n",
    "except ValidationError as ex:\n",
    "    print(ex)"
   ]
  },
  {
   "cell_type": "markdown",
   "id": "cc31213c-8a5d-427d-af0d-9428c9072935",
   "metadata": {},
   "source": [
    "Or, we could do it the other way around, set our entire model to be strict, and some fields to be lax:"
   ]
  },
  {
   "cell_type": "code",
   "execution_count": 7,
   "id": "7a8076a4-f0df-452f-bc32-490bc92591d0",
   "metadata": {},
   "outputs": [],
   "source": [
    "class Model(BaseModel):\n",
    "    model_config = ConfigDict(\n",
    "        strict=True, \n",
    "        validate_default=True,\n",
    "    )\n",
    "\n",
    "    field_1: bool = Field(strict=False, default=False)\n",
    "    field_2: bool = False"
   ]
  },
  {
   "cell_type": "code",
   "execution_count": 8,
   "id": "4f8eff9a-7728-47a0-ab0e-07718d54128c",
   "metadata": {},
   "outputs": [
    {
     "data": {
      "text/plain": [
       "Model(field_1=True, field_2=True)"
      ]
     },
     "execution_count": 8,
     "metadata": {},
     "output_type": "execute_result"
    }
   ],
   "source": [
    "Model(field_1=1.0, field_2=True)"
   ]
  },
  {
   "cell_type": "markdown",
   "id": "bddc63f7-c774-4670-ab49-cf11a6fe7d8a",
   "metadata": {},
   "source": [
    "But this will not work:"
   ]
  },
  {
   "cell_type": "code",
   "execution_count": 9,
   "id": "78e10941-171d-40cf-822c-731c218d510a",
   "metadata": {},
   "outputs": [
    {
     "name": "stdout",
     "output_type": "stream",
     "text": [
      "1 validation error for Model\n",
      "field_2\n",
      "  Input should be a valid boolean [type=bool_type, input_value=1.0, input_type=float]\n",
      "    For further information visit https://errors.pydantic.dev/2.5/v/bool_type\n"
     ]
    }
   ],
   "source": [
    "try:\n",
    "    Model(field_1=1.0, field_2=1.0)\n",
    "except ValidationError as ex:\n",
    "    print(ex)"
   ]
  },
  {
   "cell_type": "markdown",
   "id": "bd44bff0-5e9d-4109-af1a-110885968306",
   "metadata": {},
   "source": [
    "## Validate Defaults"
   ]
  },
  {
   "cell_type": "markdown",
   "id": "7d8caabe-db2a-4300-aa43-97dc4e4b2ce7",
   "metadata": {},
   "source": [
    "The same thing can be done with `validate_default` - we can specify it at the model level, or we can override the model level configuration at the field level."
   ]
  },
  {
   "cell_type": "code",
   "execution_count": 10,
   "id": "1c7dfaec-4ca8-4120-ae3c-247a9974c504",
   "metadata": {},
   "outputs": [],
   "source": [
    "class Model(BaseModel):\n",
    "    model_config = ConfigDict(\n",
    "        strict=False, \n",
    "        validate_default=True,\n",
    "    )\n",
    "\n",
    "    field_1: bool = Field(strict=True, default=1.0, validate_default=False)\n",
    "    field_2: bool = False"
   ]
  },
  {
   "cell_type": "markdown",
   "id": "7943eed6-0a0e-43d2-9b1a-97fac7554774",
   "metadata": {},
   "source": [
    "And now, even though `field_1` is set to strict, because we skip default validation explicitly for `field_1` we end up with inconsistent data:"
   ]
  },
  {
   "cell_type": "code",
   "execution_count": 11,
   "id": "3d846fca-9a1c-43be-8468-116951e64438",
   "metadata": {},
   "outputs": [
    {
     "data": {
      "text/plain": [
       "Model(field_1=1.0, field_2=False)"
      ]
     },
     "execution_count": 11,
     "metadata": {},
     "output_type": "execute_result"
    }
   ],
   "source": [
    "Model()"
   ]
  },
  {
   "cell_type": "markdown",
   "id": "dffeaffb-40a4-474e-98f5-934b3486e2b1",
   "metadata": {},
   "source": [
    "## Frozen Fields"
   ]
  },
  {
   "cell_type": "markdown",
   "id": "ef27068d-9abd-4cf1-b2e9-fd95df3b6745",
   "metadata": {},
   "source": [
    "We saw how we could freeze our entire model:"
   ]
  },
  {
   "cell_type": "code",
   "execution_count": 12,
   "id": "f6d015e7-5896-4a3d-963c-93d37830d139",
   "metadata": {},
   "outputs": [],
   "source": [
    "class Model(BaseModel):\n",
    "    model_config = ConfigDict(frozen=True)\n",
    "\n",
    "    field_1: int\n",
    "    field_2: int"
   ]
  },
  {
   "cell_type": "code",
   "execution_count": 13,
   "id": "29ddf56c-fb83-46c0-b762-6a9d47a526a0",
   "metadata": {},
   "outputs": [],
   "source": [
    "m = Model(field_1=1, field_2=2)"
   ]
  },
  {
   "cell_type": "code",
   "execution_count": 14,
   "id": "29006d5c-6bc5-4b75-aa4d-8513c542c614",
   "metadata": {},
   "outputs": [
    {
     "name": "stdout",
     "output_type": "stream",
     "text": [
      "1 validation error for Model\n",
      "field_1\n",
      "  Instance is frozen [type=frozen_instance, input_value=10, input_type=int]\n",
      "    For further information visit https://errors.pydantic.dev/2.5/v/frozen_instance\n"
     ]
    }
   ],
   "source": [
    "try:\n",
    "    m.field_1=10\n",
    "except ValidationError as ex:\n",
    "    print(ex)"
   ]
  },
  {
   "cell_type": "markdown",
   "id": "81f89b7e-3485-4853-887b-3d230d5177c2",
   "metadata": {},
   "source": [
    "We could alternatively, choose to only freeze certain fields.\n",
    "\n",
    "Note that you cannot set the model as a whole to be frozen and then set individual fields to not be frozen - if you set the model as frozen, then the entire model is frozen."
   ]
  },
  {
   "cell_type": "code",
   "execution_count": 15,
   "id": "5ae0ee97-ff4b-45d4-a31a-ca897b8ffdc7",
   "metadata": {},
   "outputs": [],
   "source": [
    "class Model(BaseModel):\n",
    "    field_1: int = Field(frozen=True)\n",
    "    field_2: int"
   ]
  },
  {
   "cell_type": "code",
   "execution_count": 16,
   "id": "6bc3f495-90a5-48b5-a1e6-d0bb58e0c993",
   "metadata": {},
   "outputs": [
    {
     "data": {
      "text/plain": [
       "Model(field_1=1, field_2=2)"
      ]
     },
     "execution_count": 16,
     "metadata": {},
     "output_type": "execute_result"
    }
   ],
   "source": [
    "m = Model(field_1=1, field_2=2)\n",
    "m"
   ]
  },
  {
   "cell_type": "code",
   "execution_count": 17,
   "id": "8647ac79-cae9-4e4a-8773-ec84a49d9193",
   "metadata": {},
   "outputs": [
    {
     "data": {
      "text/plain": [
       "Model(field_1=1, field_2=20)"
      ]
     },
     "execution_count": 17,
     "metadata": {},
     "output_type": "execute_result"
    }
   ],
   "source": [
    "m.field_2 = 20\n",
    "m"
   ]
  },
  {
   "cell_type": "code",
   "execution_count": 18,
   "id": "d950181a-a740-424a-88d8-f3d4f60702f2",
   "metadata": {},
   "outputs": [
    {
     "name": "stdout",
     "output_type": "stream",
     "text": [
      "1 validation error for Model\n",
      "field_1\n",
      "  Field is frozen [type=frozen_field, input_value=10, input_type=int]\n",
      "    For further information visit https://errors.pydantic.dev/2.5/v/frozen_field\n"
     ]
    }
   ],
   "source": [
    "try:\n",
    "    m.field_1 = 10\n",
    "except ValidationError as ex:\n",
    "    print(ex)"
   ]
  },
  {
   "cell_type": "markdown",
   "id": "ef670a83-9205-4b93-bd79-8264a8042b7b",
   "metadata": {},
   "source": [
    "## Excluding Fields from Serialization"
   ]
  },
  {
   "cell_type": "markdown",
   "id": "4729a907-0fc8-4119-8762-0cb61c4060e8",
   "metadata": {},
   "source": [
    "We saw earlier how we could provide arguments to `model_dump()` and `model_dump_json()` to specify fields to include or exclude from being serialized."
   ]
  },
  {
   "cell_type": "code",
   "execution_count": 19,
   "id": "f227b2c1-067b-420f-a67f-c1f936f70561",
   "metadata": {},
   "outputs": [],
   "source": [
    "class Model(BaseModel):\n",
    "    field_1: int = 1\n",
    "    field_2: int = 2\n",
    "    field_3: int = 3"
   ]
  },
  {
   "cell_type": "code",
   "execution_count": 20,
   "id": "50b4903a-c5fd-4ae3-94d2-4b867ed18fbc",
   "metadata": {},
   "outputs": [],
   "source": [
    "m = Model()"
   ]
  },
  {
   "cell_type": "code",
   "execution_count": 21,
   "id": "39a9cbaa-ffc8-40f3-a1e0-f444f207ef69",
   "metadata": {},
   "outputs": [
    {
     "data": {
      "text/plain": [
       "{'field_2': 2, 'field_3': 3}"
      ]
     },
     "execution_count": 21,
     "metadata": {},
     "output_type": "execute_result"
    }
   ],
   "source": [
    "m.model_dump(exclude=['field_1'])"
   ]
  },
  {
   "cell_type": "markdown",
   "id": "8a86ba85-7ad8-4d7a-9fb3-81cb1199f0c7",
   "metadata": {},
   "source": [
    "Sometimes, we want to always exclude a field from serialization - maybe some secret value that we need in our model, but that we do not want to accidentally serialize in the output of a REST endpoint for example.\n",
    "\n",
    "Instead on relying to remembering to exclude that field from serialization every time we call one of the dump methods, we can set it at the field level:"
   ]
  },
  {
   "cell_type": "code",
   "execution_count": 22,
   "id": "4e7cbb42-ad79-4464-a16c-abfa7c7e1c31",
   "metadata": {},
   "outputs": [],
   "source": [
    "class Model(BaseModel):\n",
    "    key: str = Field(default='python', exclude=True)\n",
    "    field_1: int = 1\n",
    "    field_2: int = 2\n",
    "    field_3: int = 3"
   ]
  },
  {
   "cell_type": "code",
   "execution_count": 23,
   "id": "34a40e1a-e2b6-4b57-9cce-50d865ecc946",
   "metadata": {},
   "outputs": [
    {
     "data": {
      "text/plain": [
       "Model(key='python', field_1=1, field_2=2, field_3=3)"
      ]
     },
     "execution_count": 23,
     "metadata": {},
     "output_type": "execute_result"
    }
   ],
   "source": [
    "m = Model()\n",
    "m"
   ]
  },
  {
   "cell_type": "code",
   "execution_count": 24,
   "id": "1d02378c-f530-4dbb-8caf-538cecfdbe3d",
   "metadata": {},
   "outputs": [
    {
     "data": {
      "text/plain": [
       "{'field_1': 1, 'field_2': 2, 'field_3': 3}"
      ]
     },
     "execution_count": 24,
     "metadata": {},
     "output_type": "execute_result"
    }
   ],
   "source": [
    "m.model_dump()"
   ]
  },
  {
   "cell_type": "markdown",
   "id": "131e07b1-2cf6-48ae-9005-4ff3ac4d668c",
   "metadata": {},
   "source": [
    "Note that once you have excluded a field using a field level definition, you cannot \"un-exclude\" it when serializing:"
   ]
  },
  {
   "cell_type": "code",
   "execution_count": 25,
   "id": "70bac59c-d727-4ae6-b746-b2685fe7d324",
   "metadata": {},
   "outputs": [
    {
     "data": {
      "text/plain": [
       "{'field_1': 1, 'field_2': 2, 'field_3': 3}"
      ]
     },
     "execution_count": 25,
     "metadata": {},
     "output_type": "execute_result"
    }
   ],
   "source": [
    "m.model_dump(include=['key', 'field_1', 'field_2', 'field_3'])"
   ]
  },
  {
   "cell_type": "markdown",
   "id": "f9355263-5743-476f-98c1-15dbd7850e36",
   "metadata": {},
   "source": [
    "As you can see, `key` was not serialized."
   ]
  },
  {
   "cell_type": "code",
   "execution_count": null,
   "id": "69f01cfe-5eb5-4531-83fb-094048e5b0c4",
   "metadata": {},
   "outputs": [],
   "source": []
  }
 ],
 "metadata": {
  "kernelspec": {
   "display_name": "Python 3 (ipykernel)",
   "language": "python",
   "name": "python3"
  },
  "language_info": {
   "codemirror_mode": {
    "name": "ipython",
    "version": 3
   },
   "file_extension": ".py",
   "mimetype": "text/x-python",
   "name": "python",
   "nbconvert_exporter": "python",
   "pygments_lexer": "ipython3",
   "version": "3.12.0"
  }
 },
 "nbformat": 4,
 "nbformat_minor": 5
}
