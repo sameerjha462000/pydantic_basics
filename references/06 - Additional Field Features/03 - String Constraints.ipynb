{
 "cells": [
  {
   "cell_type": "markdown",
   "id": "59d9a838-02cc-410e-b6bd-cb6e219b072d",
   "metadata": {},
   "source": [
    "# String Constraints"
   ]
  },
  {
   "cell_type": "markdown",
   "id": "7f6dde43-f12e-4f64-bf3b-a578bb0f30ee",
   "metadata": {},
   "source": [
    "Similarly to numerical constraints defined with the `Field` object, we also have constraints that are applicable to strings, and in fact, are applicable to sequence types in general, not just strings, even though the documentation does not seem to mention that.\n",
    "\n",
    "These constraints are:\n",
    "- `min_length` -> minimum length of string (or sequence)\n",
    "- `max_length` -> maximum length of string (or sequence)\n",
    "\n",
    "(Docs are located [here](https://docs.pydantic.dev/latest/api/fields/))"
   ]
  },
  {
   "cell_type": "code",
   "execution_count": 1,
   "id": "8028965f-a6e7-4216-867a-ab3d5fdeb8a3",
   "metadata": {},
   "outputs": [],
   "source": [
    "from pydantic import BaseModel, Field, ValidationError"
   ]
  },
  {
   "cell_type": "code",
   "execution_count": 2,
   "id": "cf23eb01-0bc5-472a-b39b-5a0ed888dc1c",
   "metadata": {},
   "outputs": [],
   "source": [
    "class Model(BaseModel):\n",
    "    name: str = Field(min_length=1, max_length=20)"
   ]
  },
  {
   "cell_type": "code",
   "execution_count": 3,
   "id": "a7f026ee-83ff-4a61-9f7d-3afdbea91ac6",
   "metadata": {},
   "outputs": [
    {
     "data": {
      "text/plain": [
       "Model(name='Richard')"
      ]
     },
     "execution_count": 3,
     "metadata": {},
     "output_type": "execute_result"
    }
   ],
   "source": [
    "Model(name=\"Richard\")"
   ]
  },
  {
   "cell_type": "code",
   "execution_count": 4,
   "id": "ebfcd355-094d-46f6-951c-734c2f6d7a41",
   "metadata": {},
   "outputs": [
    {
     "name": "stdout",
     "output_type": "stream",
     "text": [
      "1 validation error for Model\n",
      "name\n",
      "  String should have at least 1 character [type=string_too_short, input_value='', input_type=str]\n",
      "    For further information visit https://errors.pydantic.dev/2.5/v/string_too_short\n"
     ]
    }
   ],
   "source": [
    "try:\n",
    "    Model(name=\"\")\n",
    "except ValidationError as ex:\n",
    "    print(ex)"
   ]
  },
  {
   "cell_type": "code",
   "execution_count": 5,
   "id": "fd659274-337b-43b0-b257-73dd4c7f10fa",
   "metadata": {},
   "outputs": [
    {
     "name": "stdout",
     "output_type": "stream",
     "text": [
      "1 validation error for Model\n",
      "name\n",
      "  String should have at most 20 characters [type=string_too_long, input_value='*********************', input_type=str]\n",
      "    For further information visit https://errors.pydantic.dev/2.5/v/string_too_long\n"
     ]
    }
   ],
   "source": [
    "try:\n",
    "    Model(name=\"*\" * 21)\n",
    "except ValidationError as ex:\n",
    "    print(ex)"
   ]
  },
  {
   "cell_type": "markdown",
   "id": "67e083b0-c7be-4aaf-9e27-0b1863e42b08",
   "metadata": {},
   "source": [
    "These constraints also apply to sequence types, such as lists and tuples:"
   ]
  },
  {
   "cell_type": "code",
   "execution_count": 6,
   "id": "938910ea-f4ad-4edc-afb7-28adadf57f85",
   "metadata": {},
   "outputs": [],
   "source": [
    "class Model(BaseModel):\n",
    "    items: list[float] = Field(min_length=3, max_length=5, default=[1.0, 2.0, 3.0])"
   ]
  },
  {
   "cell_type": "code",
   "execution_count": 7,
   "id": "760915cd-a9b8-44f8-8565-9ad57483b73b",
   "metadata": {},
   "outputs": [
    {
     "data": {
      "text/plain": [
       "Model(items=[1.0, 2.0, 3.0])"
      ]
     },
     "execution_count": 7,
     "metadata": {},
     "output_type": "execute_result"
    }
   ],
   "source": [
    "Model()"
   ]
  },
  {
   "cell_type": "code",
   "execution_count": 8,
   "id": "8bd0192f-de5a-40c7-9af6-788f290a12dd",
   "metadata": {},
   "outputs": [
    {
     "data": {
      "text/plain": [
       "Model(items=[2.0, 3.5, 4.0])"
      ]
     },
     "execution_count": 8,
     "metadata": {},
     "output_type": "execute_result"
    }
   ],
   "source": [
    "Model(items=[2, 3.5, 4])"
   ]
  },
  {
   "cell_type": "code",
   "execution_count": 9,
   "id": "9049176c-0c00-40a7-aeae-4efbc5c9c27d",
   "metadata": {},
   "outputs": [
    {
     "name": "stdout",
     "output_type": "stream",
     "text": [
      "1 validation error for Model\n",
      "items\n",
      "  List should have at least 3 items after validation, not 2 [type=too_short, input_value=[1, 2], input_type=list]\n",
      "    For further information visit https://errors.pydantic.dev/2.5/v/too_short\n"
     ]
    }
   ],
   "source": [
    "try:\n",
    "    Model(items=[1, 2])\n",
    "except ValidationError as ex:\n",
    "    print(ex)"
   ]
  },
  {
   "cell_type": "markdown",
   "id": "b477d3a2-32e4-471c-93ef-6dbbb8690e17",
   "metadata": {},
   "source": [
    "We can even use this approach (although we'll see shortly a slightly simpler way of doing this) to get back to an example we looked at previously. We wanted to define a `Circle` class, where the `center` had to be a 2 or 3 element tuple.\n",
    "\n",
    "We ended up using `conlist`, but this meant having to setlle for a list type instead of a tuple."
   ]
  },
  {
   "cell_type": "markdown",
   "id": "e5f4fe05-29a9-475f-abdb-4f2fe4649c29",
   "metadata": {},
   "source": [
    "We can use the above approach, as long as we can somehow specify a variadic tuple - e.g. a tuple where we can specify the type of the elements and the fact that there can be as many as we want (which we'll then restrict using `Field`)."
   ]
  },
  {
   "cell_type": "markdown",
   "id": "15a33af4-17ae-4a53-8d36-f2e0075a320b",
   "metadata": {},
   "source": [
    "So, this will not work, because the type hint we use indicates that the tuple can only contain a single integer element:"
   ]
  },
  {
   "cell_type": "code",
   "execution_count": 10,
   "id": "bca190ba-c2c3-469a-a9a1-e22bcbadfc7d",
   "metadata": {},
   "outputs": [],
   "source": [
    "class Circle(BaseModel):\n",
    "    center: tuple[int]\n",
    "    radius: int = Field(gt=0, default=1)"
   ]
  },
  {
   "cell_type": "code",
   "execution_count": 11,
   "id": "a304d232-dc8b-4db3-a824-51ee089fb68e",
   "metadata": {},
   "outputs": [
    {
     "name": "stdout",
     "output_type": "stream",
     "text": [
      "1 validation error for Circle\n",
      "center\n",
      "  Tuple should have at most 1 item after validation, not 2 [type=too_long, input_value=(1, 1), input_type=tuple]\n",
      "    For further information visit https://errors.pydantic.dev/2.5/v/too_long\n"
     ]
    }
   ],
   "source": [
    "try:\n",
    "    Circle(center=(1, 1), radius=1)\n",
    "except ValidationError as ex:\n",
    "    print(ex)"
   ]
  },
  {
   "cell_type": "markdown",
   "id": "54523fab-80d5-416e-bb28-ad5e1c5e43db",
   "metadata": {},
   "source": [
    "As you can see, the way type hinting works with tuples is not quite the same as with lists - so we just need to modify our type hint to indicate the tuple has a variable length."
   ]
  },
  {
   "cell_type": "code",
   "execution_count": 12,
   "id": "974aa6e2-8ba2-42c8-a4b3-a32098401554",
   "metadata": {},
   "outputs": [],
   "source": [
    "class Circle(BaseModel):\n",
    "    center: tuple[int, ...]\n",
    "    radius: int = Field(gt=0, default=1)"
   ]
  },
  {
   "cell_type": "code",
   "execution_count": 13,
   "id": "49072cf2-6c21-48ea-bc58-dd0b2fbeaf51",
   "metadata": {},
   "outputs": [
    {
     "data": {
      "text/plain": [
       "Circle(center=(1, 1), radius=1)"
      ]
     },
     "execution_count": 13,
     "metadata": {},
     "output_type": "execute_result"
    }
   ],
   "source": [
    "Circle(center=(1, 1))"
   ]
  },
  {
   "cell_type": "code",
   "execution_count": 14,
   "id": "08b96d1d-35d0-4350-8419-3a6eed90bfd3",
   "metadata": {},
   "outputs": [
    {
     "data": {
      "text/plain": [
       "Circle(center=(1, 1, 1), radius=1)"
      ]
     },
     "execution_count": 14,
     "metadata": {},
     "output_type": "execute_result"
    }
   ],
   "source": [
    "Circle(center=(1, 1, 1))"
   ]
  },
  {
   "cell_type": "code",
   "execution_count": 15,
   "id": "69623475-9ad3-48ae-b117-56b8a3239990",
   "metadata": {},
   "outputs": [
    {
     "data": {
      "text/plain": [
       "Circle(center=(1, 2, 3, 4, 5), radius=1)"
      ]
     },
     "execution_count": 15,
     "metadata": {},
     "output_type": "execute_result"
    }
   ],
   "source": [
    "Circle(center=(1, 2, 3, 4, 5))"
   ]
  },
  {
   "cell_type": "markdown",
   "id": "cff8ade3-9d33-4756-9985-d34029f333c0",
   "metadata": {},
   "source": [
    "That seems to work, and all we now need to do is constrain the tuple length:"
   ]
  },
  {
   "cell_type": "code",
   "execution_count": 16,
   "id": "7ce8467d-aced-44b1-8105-b69f4cce904d",
   "metadata": {},
   "outputs": [],
   "source": [
    "class Circle(BaseModel):\n",
    "    center: tuple[int, ...] = Field(min_length=2, max_length=3, default=(0, 0))\n",
    "    radius: int = Field(gt=0, default=1)"
   ]
  },
  {
   "cell_type": "code",
   "execution_count": 17,
   "id": "3334fbe7-1753-4d69-82d2-f796c13c2cec",
   "metadata": {},
   "outputs": [
    {
     "data": {
      "text/plain": [
       "Circle(center=(0, 0), radius=1)"
      ]
     },
     "execution_count": 17,
     "metadata": {},
     "output_type": "execute_result"
    }
   ],
   "source": [
    "Circle()"
   ]
  },
  {
   "cell_type": "code",
   "execution_count": 18,
   "id": "64339308-95d1-4daf-9f74-50da79953208",
   "metadata": {},
   "outputs": [
    {
     "data": {
      "text/plain": [
       "Circle(center=(1, 2, 3), radius=1)"
      ]
     },
     "execution_count": 18,
     "metadata": {},
     "output_type": "execute_result"
    }
   ],
   "source": [
    "Circle(center=(1, 2, 3))"
   ]
  },
  {
   "cell_type": "code",
   "execution_count": 19,
   "id": "29f65ee0-2aca-46ba-98b7-f7fad1dabb8e",
   "metadata": {},
   "outputs": [
    {
     "name": "stdout",
     "output_type": "stream",
     "text": [
      "1 validation error for Circle\n",
      "center\n",
      "  Value should have at least 2 items after validation, not 1 [type=too_short, input_value=(1,), input_type=tuple]\n",
      "    For further information visit https://errors.pydantic.dev/2.5/v/too_short\n"
     ]
    }
   ],
   "source": [
    "try:\n",
    "    Circle(center=(1, ))\n",
    "except ValidationError as ex:\n",
    "    print(ex)"
   ]
  },
  {
   "cell_type": "code",
   "execution_count": 20,
   "id": "ce17a6dd-52a8-4ab0-aaaf-8a955c496ebf",
   "metadata": {},
   "outputs": [
    {
     "name": "stdout",
     "output_type": "stream",
     "text": [
      "1 validation error for Circle\n",
      "center\n",
      "  Value should have at most 3 items after validation, not 4 [type=too_long, input_value=(1, 2, 3, 4), input_type=tuple]\n",
      "    For further information visit https://errors.pydantic.dev/2.5/v/too_long\n"
     ]
    }
   ],
   "source": [
    "try:\n",
    "    Circle(center=(1, 2, 3, 4))\n",
    "except ValidationError as ex:\n",
    "    print(ex)"
   ]
  },
  {
   "cell_type": "code",
   "execution_count": null,
   "id": "e65e6ac4-0bd0-4707-aebb-f198d25957dd",
   "metadata": {},
   "outputs": [],
   "source": []
  },
  {
   "cell_type": "markdown",
   "id": "164b70d8-aa5b-4e63-addb-1395ecd22a2d",
   "metadata": {},
   "source": [
    "One additional feature in the `Field` class that is available, and for strings, not more general sequence types, is a constraint based on regular expressions.\n",
    "\n",
    "I am not going to get into regex in this course (and I will not be making a course or YouTube videos on regex - I know the basics, but find anything else confusing).\n",
    "\n",
    "However, if you are familiar with regex, let me show you how you can use it in string constraints."
   ]
  },
  {
   "cell_type": "markdown",
   "id": "db0ae048-cb66-4b82-be05-dc5152b10e8c",
   "metadata": {},
   "source": [
    "We can specify a regex for a string constraint using the `pattern` argument in the `Field` class."
   ]
  },
  {
   "cell_type": "code",
   "execution_count": 21,
   "id": "5942dd8d-bb76-429f-8efa-042e78947d21",
   "metadata": {},
   "outputs": [],
   "source": [
    "class Model(BaseModel):\n",
    "    zip_code: str = Field(pattern=r\"^[0-9]{5}(?:-[0-9]{4})?$\")"
   ]
  },
  {
   "cell_type": "code",
   "execution_count": 22,
   "id": "1fea0190-c7d9-465e-b857-0bba62f3b1d0",
   "metadata": {},
   "outputs": [
    {
     "data": {
      "text/plain": [
       "Model(zip_code='12345')"
      ]
     },
     "execution_count": 22,
     "metadata": {},
     "output_type": "execute_result"
    }
   ],
   "source": [
    "Model(zip_code=\"12345\")"
   ]
  },
  {
   "cell_type": "code",
   "execution_count": 23,
   "id": "37f038ca-5650-4983-aff3-f7554da7bb4e",
   "metadata": {},
   "outputs": [
    {
     "data": {
      "text/plain": [
       "Model(zip_code='12345-1234')"
      ]
     },
     "execution_count": 23,
     "metadata": {},
     "output_type": "execute_result"
    }
   ],
   "source": [
    "Model(zip_code=\"12345-1234\")"
   ]
  },
  {
   "cell_type": "code",
   "execution_count": 24,
   "id": "c5502222-759e-4db2-a0bd-ca51a766f029",
   "metadata": {},
   "outputs": [
    {
     "name": "stdout",
     "output_type": "stream",
     "text": [
      "1 validation error for Model\n",
      "zip_code\n",
      "  String should match pattern '^[0-9]{5}(?:-[0-9]{4})?$' [type=string_pattern_mismatch, input_value='12345-12345', input_type=str]\n",
      "    For further information visit https://errors.pydantic.dev/2.5/v/string_pattern_mismatch\n"
     ]
    }
   ],
   "source": [
    "try:\n",
    "    Model(zip_code=\"12345-12345\")\n",
    "except ValidationError as ex:\n",
    "    print(ex)"
   ]
  },
  {
   "cell_type": "code",
   "execution_count": null,
   "id": "3b30fe7c-8851-4d92-89af-8b3aaebabfce",
   "metadata": {},
   "outputs": [],
   "source": []
  }
 ],
 "metadata": {
  "kernelspec": {
   "display_name": "Python 3 (ipykernel)",
   "language": "python",
   "name": "python3"
  },
  "language_info": {
   "codemirror_mode": {
    "name": "ipython",
    "version": 3
   },
   "file_extension": ".py",
   "mimetype": "text/x-python",
   "name": "python",
   "nbconvert_exporter": "python",
   "pygments_lexer": "ipython3",
   "version": "3.12.0"
  }
 },
 "nbformat": 4,
 "nbformat_minor": 5
}
