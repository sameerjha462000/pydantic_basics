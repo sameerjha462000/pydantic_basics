{
 "cells": [
  {
   "cell_type": "markdown",
   "id": "470cd8b3-ee12-4bb4-bc25-5eb42e1a95c2",
   "metadata": {},
   "source": [
    "# Default Factories"
   ]
  },
  {
   "cell_type": "markdown",
   "id": "63749738-029f-407f-9b51-020b0d66af6b",
   "metadata": {},
   "source": [
    "We've actually already seen this before, but let's make sure we understand how to deal with mutable defaults, or, more generally, how to create defaults that might require calling a function to define the default."
   ]
  },
  {
   "cell_type": "markdown",
   "id": "0e764a16-a3bc-4316-afab-59d534909b4c",
   "metadata": {},
   "source": [
    "Let's talk Python first."
   ]
  },
  {
   "cell_type": "markdown",
   "id": "73b0f896-3a09-480e-8a20-3a08d68059b3",
   "metadata": {},
   "source": [
    "When we define default values for a function:"
   ]
  },
  {
   "cell_type": "code",
   "execution_count": 1,
   "id": "d046c550-29a8-4eda-ae10-4bbf1cacc6f7",
   "metadata": {},
   "outputs": [],
   "source": [
    "def my_func(a=1, b=2):\n",
    "    pass"
   ]
  },
  {
   "cell_type": "markdown",
   "id": "a56779fd-5853-48eb-9eb4-ce124ed5ba23",
   "metadata": {},
   "source": [
    "The way this works, is that `my_func` is compiled (once when the module containing the function is loaded for the first time each time your app is run).\n",
    "\n",
    "Functions are objects, and they have state. In particular they have the code that the function will execute when it is called. But, it also stores the default values in that state.\n",
    "\n",
    "This means, that the defaults are calculated once, when the function is compiled. Thereafter, every the time the function is called, the defaults are pulled from the function's state - so they do not get recalculated every time the function is called.\n",
    "\n",
    "This is really important to understand, as it can lead to bugs if you don't understand that."
   ]
  },
  {
   "cell_type": "markdown",
   "id": "11242828-cc00-4f5c-8751-ca4542d458d9",
   "metadata": {},
   "source": [
    "Let's look at this function, where we want to output some string to the console, but want to prefix the function wih a provided datetime, or default to the current datetime if it was not provided."
   ]
  },
  {
   "cell_type": "markdown",
   "id": "a771bd5b-9a73-4f10-aaa0-525225933283",
   "metadata": {},
   "source": [
    "You might be tempted to do this:"
   ]
  },
  {
   "cell_type": "code",
   "execution_count": 2,
   "id": "507f0c3c-6408-4502-a2ff-a939af97a025",
   "metadata": {},
   "outputs": [],
   "source": [
    "from datetime import datetime, UTC\n",
    "\n",
    "def log(text: str, dt: datetime = datetime.now(UTC)):\n",
    "    print(f\"{dt.isoformat()}: {text}\")"
   ]
  },
  {
   "cell_type": "markdown",
   "id": "06f31032-a740-4dad-bf0d-89aa7f063443",
   "metadata": {},
   "source": [
    "Now let's try it out:"
   ]
  },
  {
   "cell_type": "code",
   "execution_count": 3,
   "id": "9229dcec-924c-4f93-8864-6ea9fb51301f",
   "metadata": {},
   "outputs": [
    {
     "name": "stdout",
     "output_type": "stream",
     "text": [
      "2020-01-01T15:00:00: line 1\n"
     ]
    }
   ],
   "source": [
    "log(\"line 1\", dt=datetime(2020, 1, 1, 15, 0, 0))"
   ]
  },
  {
   "cell_type": "markdown",
   "id": "ca1a36d1-402c-4462-bafd-ae83fc9ed50e",
   "metadata": {},
   "source": [
    "And if we don't provide `dt`:"
   ]
  },
  {
   "cell_type": "code",
   "execution_count": 4,
   "id": "d0ca7000-c7f3-459a-8c7a-a0df733c29b2",
   "metadata": {},
   "outputs": [
    {
     "name": "stdout",
     "output_type": "stream",
     "text": [
      "2023-12-02T18:21:05.316346+00:00: line 2\n"
     ]
    }
   ],
   "source": [
    "log(\"line 2\")"
   ]
  },
  {
   "cell_type": "markdown",
   "id": "52aa1110-6f73-4161-9549-4373d5f1c0dc",
   "metadata": {},
   "source": [
    "Let's wait a few seconds, and try that again:"
   ]
  },
  {
   "cell_type": "code",
   "execution_count": 5,
   "id": "5ace749d-74b9-4d72-a0a6-ffcd14dc0da6",
   "metadata": {},
   "outputs": [
    {
     "name": "stdout",
     "output_type": "stream",
     "text": [
      "2023-12-02T18:21:05.316346+00:00: line 3\n"
     ]
    }
   ],
   "source": [
    "log(\"line 3\")"
   ]
  },
  {
   "cell_type": "markdown",
   "id": "1e298ff6-0ed5-4f9b-bdec-1d253dd59907",
   "metadata": {},
   "source": [
    "Notice something odd? That time has **not changed**!"
   ]
  },
  {
   "cell_type": "markdown",
   "id": "01749f36-fbe6-4e7c-931e-6425772835ec",
   "metadata": {},
   "source": [
    "This is because the default was calculated when the function was compiled (when I executed the cell containing the `def` statement). \n",
    "\n",
    "After that, every time the function is called, it retrieves that value from the function's state, hence we see the same value again and again."
   ]
  },
  {
   "cell_type": "markdown",
   "id": "4c5f90c6-6c60-4f6c-9c92-53a8ec9a0334",
   "metadata": {},
   "source": [
    "This is the same reason why using a mutable default as a function argument can lead to bugs - I won't get into the details, but basically, you should, probably never, do this:"
   ]
  },
  {
   "cell_type": "code",
   "execution_count": 6,
   "id": "75866d6e-1b5f-4545-b5a8-fd556379e2a4",
   "metadata": {},
   "outputs": [],
   "source": [
    "def my_func(items=[]):\n",
    "    pass"
   ]
  },
  {
   "cell_type": "markdown",
   "id": "93fbb1ca-d88a-4c2d-bbb6-dcdaf491bcbe",
   "metadata": {},
   "source": [
    "Instead, the solution for both this and the preceding example is to set the default to `None`, and **inside** the function (hence code that runs every time the function is called), create the empty list, or get the current datetime if the argument was `None`."
   ]
  },
  {
   "cell_type": "markdown",
   "id": "3bfc42af-4e73-4661-8e55-26a8e3b96402",
   "metadata": {},
   "source": [
    "The next issue, is not exactly the same, but is related.\n",
    "\n",
    "When we look at Pydantic models, remember that we blighthely used code such as this:"
   ]
  },
  {
   "cell_type": "code",
   "execution_count": 7,
   "id": "83038a4b-473e-4e36-a798-8bc834c48825",
   "metadata": {},
   "outputs": [],
   "source": [
    "from pydantic import BaseModel"
   ]
  },
  {
   "cell_type": "code",
   "execution_count": 8,
   "id": "076cd0b2-0392-4e70-afae-d29dc976ce05",
   "metadata": {},
   "outputs": [],
   "source": [
    "class Model(BaseModel):\n",
    "    elements: list[int] = []"
   ]
  },
  {
   "cell_type": "markdown",
   "id": "68ff220d-93a1-40d0-b788-49c0f33d0624",
   "metadata": {},
   "source": [
    "In a regular class this would not be a good idea:"
   ]
  },
  {
   "cell_type": "code",
   "execution_count": 9,
   "id": "0ca54dbd-4255-4d3c-8fd1-57d493cff221",
   "metadata": {},
   "outputs": [],
   "source": [
    "class Model:\n",
    "    elements: list[int] = []"
   ]
  },
  {
   "cell_type": "code",
   "execution_count": 10,
   "id": "9051f50e-dcb8-4694-9c86-f5ce79cc728b",
   "metadata": {},
   "outputs": [
    {
     "data": {
      "text/plain": [
       "<__main__.Model at 0x1149d6510>"
      ]
     },
     "execution_count": 10,
     "metadata": {},
     "output_type": "execute_result"
    }
   ],
   "source": [
    "m = Model()\n",
    "m"
   ]
  },
  {
   "cell_type": "code",
   "execution_count": 11,
   "id": "26e1f365-c265-4daf-86cd-e0b1d8c79367",
   "metadata": {},
   "outputs": [
    {
     "data": {
      "text/plain": [
       "[1]"
      ]
     },
     "execution_count": 11,
     "metadata": {},
     "output_type": "execute_result"
    }
   ],
   "source": [
    "m.elements.append(1)\n",
    "m.elements"
   ]
  },
  {
   "cell_type": "code",
   "execution_count": 12,
   "id": "d1c0b20f-19b3-4979-910a-1842eee5cd2f",
   "metadata": {},
   "outputs": [
    {
     "data": {
      "text/plain": [
       "<__main__.Model at 0x1149d6150>"
      ]
     },
     "execution_count": 12,
     "metadata": {},
     "output_type": "execute_result"
    }
   ],
   "source": [
    "m2 = Model()\n",
    "m2"
   ]
  },
  {
   "cell_type": "code",
   "execution_count": 13,
   "id": "758f049c-b23c-4338-9e9d-5944c958c215",
   "metadata": {},
   "outputs": [
    {
     "data": {
      "text/plain": [
       "[1]"
      ]
     },
     "execution_count": 13,
     "metadata": {},
     "output_type": "execute_result"
    }
   ],
   "source": [
    "m2.elements"
   ]
  },
  {
   "cell_type": "markdown",
   "id": "294e0359-9397-4657-bdfd-ee7ff0f39cf3",
   "metadata": {},
   "source": [
    "You probably noticed that the difference here is that we are dealing with a class attribute, not an instance attribute. \n",
    "\n",
    "Good!\n",
    "\n",
    "But, we actually have the same issue with dataclasses, where we use class attributes to define instance attributes. In fact, dataclasses will prevent us from even doing this:"
   ]
  },
  {
   "cell_type": "code",
   "execution_count": 14,
   "id": "8c06bc01-eb9a-404b-bf6f-5a311d12ef08",
   "metadata": {},
   "outputs": [],
   "source": [
    "from dataclasses import dataclass"
   ]
  },
  {
   "cell_type": "code",
   "execution_count": 15,
   "id": "e5703143-9f99-4aa6-afdb-012a08c424d6",
   "metadata": {},
   "outputs": [
    {
     "name": "stdout",
     "output_type": "stream",
     "text": [
      "mutable default <class 'list'> for field elements is not allowed: use default_factory\n"
     ]
    }
   ],
   "source": [
    "try:\n",
    "    @dataclass\n",
    "    class Model:\n",
    "        elements: list[int] = []\n",
    "except ValueError as ex:\n",
    "    print(ex)"
   ]
  },
  {
   "cell_type": "markdown",
   "id": "339451d2-2f30-42f1-998d-3b27c4a192ef",
   "metadata": {},
   "source": [
    "Note the exception hint: `use default_factory`. We'll get back to that in a second."
   ]
  },
  {
   "cell_type": "markdown",
   "id": "d429331c-d548-4f92-99c4-dea19c64ff6b",
   "metadata": {},
   "source": [
    "Pydantic however, **does** allow us to set mutable defaults, as we just saw. So why do they work without causing issues?"
   ]
  },
  {
   "cell_type": "code",
   "execution_count": 16,
   "id": "d386c753-a74a-4ab9-a78f-e0816f5eb83f",
   "metadata": {},
   "outputs": [],
   "source": [
    "class Model(BaseModel):\n",
    "    elements: list[int] = []"
   ]
  },
  {
   "cell_type": "markdown",
   "id": "0f3abc85-b114-426a-ab22-856252190680",
   "metadata": {},
   "source": [
    "The secret is that Pydantic recognizes a mutable default when it sees one, and **replaces** it with somethign else - a function that will be called to generate a new empty list every time a new instance of the model is created."
   ]
  },
  {
   "cell_type": "markdown",
   "id": "a2682472-32f4-4fd7-8b85-74431c33bf57",
   "metadata": {},
   "source": [
    "And so, we come to default factories, and why we need them (whether they are implicitly created via mutable defaults, or explicitly using the `Field` class)."
   ]
  },
  {
   "cell_type": "markdown",
   "id": "2e079f57-c1eb-4854-af96-fdba1e05eb1e",
   "metadata": {},
   "source": [
    "Let's say we want our default for some field to always be the current UTC date?"
   ]
  },
  {
   "cell_type": "markdown",
   "id": "05505056-19eb-4c5c-a4f6-c722b8a928cd",
   "metadata": {},
   "source": [
    "If we were to try this:"
   ]
  },
  {
   "cell_type": "code",
   "execution_count": 17,
   "id": "9439d6e5-7961-404f-b303-68626654279b",
   "metadata": {},
   "outputs": [],
   "source": [
    "class Log(BaseModel):\n",
    "    dt: datetime = datetime.now(UTC)\n",
    "    message: str"
   ]
  },
  {
   "cell_type": "markdown",
   "id": "a0b48fe0-a981-4f98-84cc-d041b954831a",
   "metadata": {},
   "source": [
    "We'll run into the same issue as with the Python fucntions - that default datetime is calculated **once**, when the model class is compiled."
   ]
  },
  {
   "cell_type": "code",
   "execution_count": 18,
   "id": "6de77b95-e0ab-48fb-b4ca-f490e25d3367",
   "metadata": {},
   "outputs": [
    {
     "data": {
      "text/plain": [
       "Log(dt=datetime.datetime(2023, 12, 2, 18, 21, 5, 409467, tzinfo=datetime.timezone.utc), message='line 1')"
      ]
     },
     "execution_count": 18,
     "metadata": {},
     "output_type": "execute_result"
    }
   ],
   "source": [
    "Log(message=\"line 1\")"
   ]
  },
  {
   "cell_type": "code",
   "execution_count": 19,
   "id": "edb517fc-2145-4870-a9ad-6aeccdd2a75a",
   "metadata": {},
   "outputs": [
    {
     "data": {
      "text/plain": [
       "Log(dt=datetime.datetime(2023, 12, 2, 18, 21, 5, 409467, tzinfo=datetime.timezone.utc), message='line 2')"
      ]
     },
     "execution_count": 19,
     "metadata": {},
     "output_type": "execute_result"
    }
   ],
   "source": [
    "Log(message=\"line 2\")"
   ]
  },
  {
   "cell_type": "markdown",
   "id": "2576a921-8ef7-42ef-9a98-4bd5effb0972",
   "metadata": {},
   "source": [
    "As you can see, the exact same datetime."
   ]
  },
  {
   "cell_type": "markdown",
   "id": "851faad3-5aa0-48be-a13d-9052defaf09c",
   "metadata": {},
   "source": [
    "So, instead, we can use the `default_factory` argument in the `Field` class to assign a function that Pydantic needs to call every time an instance is created and a default is needed.\n",
    "\n",
    "This function does not take any arguments, and should return a value compatible with the field type."
   ]
  },
  {
   "cell_type": "code",
   "execution_count": 20,
   "id": "9707e951-856f-4689-bca0-cbe6965c4baa",
   "metadata": {},
   "outputs": [],
   "source": [
    "from pydantic import Field\n",
    "\n",
    "class Log(BaseModel):\n",
    "    dt: datetime = Field(default_factory=lambda: datetime.now(UTC))\n",
    "    message: str"
   ]
  },
  {
   "cell_type": "markdown",
   "id": "828fb179-2b52-4914-84bc-e7105f93dbd4",
   "metadata": {},
   "source": [
    "And now we have the desired result:"
   ]
  },
  {
   "cell_type": "code",
   "execution_count": 21,
   "id": "22ff5408-473e-4256-acd8-a78fad647ac5",
   "metadata": {},
   "outputs": [
    {
     "data": {
      "text/plain": [
       "Log(dt=datetime.datetime(2023, 12, 2, 18, 21, 5, 421543, tzinfo=datetime.timezone.utc), message='line 1')"
      ]
     },
     "execution_count": 21,
     "metadata": {},
     "output_type": "execute_result"
    }
   ],
   "source": [
    "Log(message=\"line 1\")"
   ]
  },
  {
   "cell_type": "code",
   "execution_count": 22,
   "id": "b3a14057-12ef-4408-ae02-2527812aa834",
   "metadata": {},
   "outputs": [
    {
     "data": {
      "text/plain": [
       "Log(dt=datetime.datetime(2023, 12, 2, 18, 21, 5, 424267, tzinfo=datetime.timezone.utc), message='line 2')"
      ]
     },
     "execution_count": 22,
     "metadata": {},
     "output_type": "execute_result"
    }
   ],
   "source": [
    "Log(message=\"line 2\")"
   ]
  },
  {
   "cell_type": "markdown",
   "id": "53df00bb-19a1-467f-b79f-c0af3b6eee96",
   "metadata": {},
   "source": [
    "As you can see, the default datetime is re-calculated both times."
   ]
  },
  {
   "cell_type": "markdown",
   "id": "f503e056-611c-49b6-9c81-c972faa695e4",
   "metadata": {},
   "source": [
    "For other mutable defaults, for example an empty list, we could use a default factory:"
   ]
  },
  {
   "cell_type": "code",
   "execution_count": 23,
   "id": "bac72596-e5bc-44f5-9238-54dd1f063fca",
   "metadata": {},
   "outputs": [],
   "source": [
    "class Model(BaseModel):\n",
    "    elements: list[int] = Field(default_factory=lambda: [])"
   ]
  },
  {
   "cell_type": "markdown",
   "id": "3fe89813-29bd-41fa-8407-4e1a38c06b04",
   "metadata": {},
   "source": [
    "or, since Pydantic supports it, we can simply use the mutable default directly in the class like we started off with:"
   ]
  },
  {
   "cell_type": "code",
   "execution_count": 24,
   "id": "3e4b5787-66aa-4ad9-a3c3-3b29bd693471",
   "metadata": {},
   "outputs": [],
   "source": [
    "class Model(BaseModel):\n",
    "    elements: list[int] = []"
   ]
  },
  {
   "cell_type": "code",
   "execution_count": null,
   "id": "eeb1b692-e180-48a9-92a9-422e95c4e5b8",
   "metadata": {},
   "outputs": [],
   "source": []
  }
 ],
 "metadata": {
  "kernelspec": {
   "display_name": "Python 3 (ipykernel)",
   "language": "python",
   "name": "python3"
  },
  "language_info": {
   "codemirror_mode": {
    "name": "ipython",
    "version": 3
   },
   "file_extension": ".py",
   "mimetype": "text/x-python",
   "name": "python",
   "nbconvert_exporter": "python",
   "pygments_lexer": "ipython3",
   "version": "3.12.0"
  }
 },
 "nbformat": 4,
 "nbformat_minor": 5
}
