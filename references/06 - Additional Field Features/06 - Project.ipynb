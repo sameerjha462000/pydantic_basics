{
 "cells": [
  {
   "cell_type": "markdown",
   "id": "798bd450-7b48-4280-9a58-6a0bed9ea53d",
   "metadata": {},
   "source": [
    "# Project (Section 6)"
   ]
  },
  {
   "cell_type": "markdown",
   "id": "0be630f5-4c95-4eaf-97d8-19b482e420bb",
   "metadata": {},
   "source": [
    "This is where we left off in the previous section project:"
   ]
  },
  {
   "cell_type": "code",
   "execution_count": 1,
   "id": "5612f44a-e4a6-44f8-931d-cb2a1ee1965a",
   "metadata": {},
   "outputs": [],
   "source": [
    "from datetime import date\n",
    "from enum import Enum\n",
    "from pydantic import BaseModel, ConfigDict, Field, field_serializer\n",
    "from pydantic.alias_generators import to_camel\n",
    "from pydantic import UUID4\n",
    "\n",
    "class AutomobileType(Enum):\n",
    "    sedan = \"Sedan\"\n",
    "    coupe = \"Coupe\"\n",
    "    convertible = \"Convertible\"\n",
    "    suv = \"SUV\"\n",
    "    truck = \"Truck\"\n",
    "\n",
    "\n",
    "class Automobile(BaseModel):\n",
    "    model_config = ConfigDict(\n",
    "        extra=\"forbid\",\n",
    "        str_strip_whitespace=True,\n",
    "        validate_default=True,\n",
    "        validate_assignment=True,\n",
    "        alias_generator=to_camel,\n",
    "    )\n",
    "\n",
    "    id_: UUID4 | None = Field(alias=\"id\", default=None) \n",
    "    manufacturer: str\n",
    "    series_name: str\n",
    "    type_: AutomobileType = Field(alias=\"type\")\n",
    "    is_electric: bool = False\n",
    "    manufactured_date: date = Field(validation_alias=\"completionDate\")\n",
    "    base_msrp_usd: float = Field(\n",
    "        validation_alias=\"msrpUSD\", \n",
    "        serialization_alias=\"baseMSRPUSD\"\n",
    "    )\n",
    "    vin: str\n",
    "    number_of_doors: int = Field(default=4, validation_alias=\"doors\")\n",
    "    registration_country: str | None = None\n",
    "    license_plate: str | None = None\n",
    "\n",
    "    @field_serializer(\"manufactured_date\", when_used=\"json-unless-none\")\n",
    "    def serialize_date(self, value: date) -> str:\n",
    "        return value.strftime(\"%Y/%m/%d\")"
   ]
  },
  {
   "cell_type": "markdown",
   "id": "231f322d-d6e4-4a9d-aae9-c7bcd019f862",
   "metadata": {},
   "source": [
    "Modify your `Automobile` model to implement the following:\n",
    "- constrain the manufactured date to be no earlier than `1980-01-01` (Hint: how did you constrain numbers using `Field`? works the same with dates)\n",
    "- numbers of doors should be constrained to be a min of 2, a max of 4, and a multiple of 2 (so 2 doors, or 4 doors)\n",
    "- change `id` to no longer be nullable, and provide a uuid4 as a default (make sure the default is not always the same when creating multiple models)"
   ]
  },
  {
   "cell_type": "markdown",
   "id": "6df50f49-1362-408e-8b0e-cf4c183527c6",
   "metadata": {},
   "source": [
    "Use these data sets to test your model:"
   ]
  },
  {
   "cell_type": "code",
   "execution_count": 2,
   "id": "d957f617-a63f-49ec-9357-b374bd7e6972",
   "metadata": {},
   "outputs": [],
   "source": [
    "data = {\n",
    "    \"id\": \"c4e60f4a-3c7f-4da5-9b3f-07aee50b23e7\",\n",
    "    \"manufacturer\": \"BMW\",\n",
    "    \"seriesName\": \"M4\",\n",
    "    \"type\": \"Convertible\",\n",
    "    \"isElectric\": False,\n",
    "    \"completionDate\": \"2023-01-01\",\n",
    "    \"msrpUSD\": 93_300,\n",
    "    \"vin\": \"1234567890\",\n",
    "    \"doors\": 2,\n",
    "    \"registrationCountry\": \"France\",\n",
    "    \"licensePlate\": \"AAA-BBB\"\n",
    "}"
   ]
  },
  {
   "cell_type": "code",
   "execution_count": 3,
   "id": "b1a6d026-9e60-4aef-a951-eda0875fd48c",
   "metadata": {},
   "outputs": [],
   "source": [
    "from uuid import UUID\n",
    "\n",
    "expected_serialized_by_alias = {\n",
    "    'id': UUID('c4e60f4a-3c7f-4da5-9b3f-07aee50b23e7'),\n",
    "    'manufacturer': 'BMW',\n",
    "    'seriesName': 'M4',\n",
    "    'type': AutomobileType.convertible,\n",
    "    'isElectric': False,\n",
    "    'manufacturedDate': date(2023, 1, 1),\n",
    "    'baseMSRPUSD': 93300.0,\n",
    "    'vin': '1234567890',\n",
    "    'numberOfDoors': 2,\n",
    "    'registrationCountry': 'France',\n",
    "    'licensePlate': 'AAA-BBB'\n",
    "}"
   ]
  },
  {
   "cell_type": "markdown",
   "id": "b8f8272f-5552-4768-bb09-ed5d583a6ac5",
   "metadata": {},
   "source": [
    "In addition, you should test that the default UUID4 generation works properly (so create at least two models, without specifying the `id` value, and verify that a default uuid4 has been generated for both models, and that the uuids are **not** the same).\n",
    "\n",
    "You can use the sample source data below, but I cannot provide you a serialized result to test against since the UUID is going to be unique each time a model is created."
   ]
  },
  {
   "cell_type": "code",
   "execution_count": 4,
   "id": "75e09bc1-1c83-4bcb-a515-f7e3736a40c2",
   "metadata": {},
   "outputs": [],
   "source": [
    "data_no_id = {\n",
    "    \"manufacturer\": \"BMW\",\n",
    "    \"seriesName\": \"M4\",\n",
    "    \"type\": \"Convertible\",\n",
    "    \"isElectric\": False,\n",
    "    \"completionDate\": \"2023-01-01\",\n",
    "    \"msrpUSD\": 93_300,\n",
    "    \"vin\": \"1234567890\",\n",
    "    \"doors\": 2,\n",
    "    \"registrationCountry\": \"France\",\n",
    "    \"licensePlate\": \"AAA-BBB\"\n",
    "}"
   ]
  }
 ],
 "metadata": {
  "kernelspec": {
   "display_name": "Python 3 (ipykernel)",
   "language": "python",
   "name": "python3"
  },
  "language_info": {
   "codemirror_mode": {
    "name": "ipython",
    "version": 3
   },
   "file_extension": ".py",
   "mimetype": "text/x-python",
   "name": "python",
   "nbconvert_exporter": "python",
   "pygments_lexer": "ipython3",
   "version": "3.12.0"
  }
 },
 "nbformat": 4,
 "nbformat_minor": 5
}
