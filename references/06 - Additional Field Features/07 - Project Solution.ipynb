{
 "cells": [
  {
   "cell_type": "markdown",
   "id": "d1f3c831-07ec-40c4-a9e2-6ed46048ca9e",
   "metadata": {},
   "source": [
    "# Project with Solution (Section 6)"
   ]
  },
  {
   "cell_type": "markdown",
   "id": "f9983309-9318-408a-a4bd-afdba00b23e2",
   "metadata": {
    "jp-MarkdownHeadingCollapsed": true
   },
   "source": [
    "## Project Specs"
   ]
  },
  {
   "cell_type": "markdown",
   "id": "4b3dd86d-e809-4b1f-a4f0-898a6b095ab6",
   "metadata": {},
   "source": [
    "This is where we left off in the previous section project:"
   ]
  },
  {
   "cell_type": "code",
   "execution_count": 1,
   "id": "da957bca-6bb7-49fc-bbc5-6077e13f3428",
   "metadata": {},
   "outputs": [],
   "source": [
    "from datetime import date\n",
    "from enum import Enum\n",
    "from pydantic import BaseModel, ConfigDict, Field, field_serializer\n",
    "from pydantic.alias_generators import to_camel\n",
    "from pydantic import UUID4\n",
    "\n",
    "class AutomobileType(Enum):\n",
    "    sedan = \"Sedan\"\n",
    "    coupe = \"Coupe\"\n",
    "    convertible = \"Convertible\"\n",
    "    suv = \"SUV\"\n",
    "    truck = \"Truck\"\n",
    "\n",
    "\n",
    "class Automobile(BaseModel):\n",
    "    model_config = ConfigDict(\n",
    "        extra=\"forbid\",\n",
    "        str_strip_whitespace=True,\n",
    "        validate_default=True,\n",
    "        validate_assignment=True,\n",
    "        alias_generator=to_camel,\n",
    "    )\n",
    "\n",
    "    id_: UUID4 | None = Field(alias=\"id\", default=None) \n",
    "    manufacturer: str\n",
    "    series_name: str\n",
    "    type_: AutomobileType = Field(alias=\"type\")\n",
    "    is_electric: bool = False\n",
    "    manufactured_date: date = Field(validation_alias=\"completionDate\")\n",
    "    base_msrp_usd: float = Field(\n",
    "        validation_alias=\"msrpUSD\", \n",
    "        serialization_alias=\"baseMSRPUSD\"\n",
    "    )\n",
    "    vin: str\n",
    "    number_of_doors: int = Field(default=4, validation_alias=\"doors\")\n",
    "    registration_country: str | None = None\n",
    "    license_plate: str | None = None\n",
    "\n",
    "    @field_serializer(\"manufactured_date\", when_used=\"json-unless-none\")\n",
    "    def serialize_date(self, value: date) -> str:\n",
    "        return value.strftime(\"%Y/%m/%d\")"
   ]
  },
  {
   "cell_type": "markdown",
   "id": "b508ea29-4a8a-4774-bada-13c11f4e5a74",
   "metadata": {},
   "source": [
    "Modify your `Automobile` model to implement the following:\n",
    "- constrain the manufactured date to be no earlier than `1980-01-01` (Hint: how did you constrain numbers using `Field`? works the same with dates)\n",
    "- numbers of doors should be constrained to be a min of 2, a max of 4, and a multiple of 2 (so 2 doors, or 4 doors)\n",
    "- change `id` to no longer be nullable, and provide a uuid4 as a default (make sure the default is not always the same when creating multiple models)"
   ]
  },
  {
   "cell_type": "markdown",
   "id": "28621e4f-ca38-4b79-8373-932b879f7b4f",
   "metadata": {},
   "source": [
    "Use these data sets to test your model:"
   ]
  },
  {
   "cell_type": "code",
   "execution_count": 2,
   "id": "0dc568e1-220e-4af6-8018-e842fdd4a298",
   "metadata": {},
   "outputs": [],
   "source": [
    "data = {\n",
    "    \"id\": \"c4e60f4a-3c7f-4da5-9b3f-07aee50b23e7\",\n",
    "    \"manufacturer\": \"BMW\",\n",
    "    \"seriesName\": \"M4\",\n",
    "    \"type\": \"Convertible\",\n",
    "    \"isElectric\": False,\n",
    "    \"completionDate\": \"2023-01-01\",\n",
    "    \"msrpUSD\": 93_300,\n",
    "    \"vin\": \"1234567890\",\n",
    "    \"doors\": 2,\n",
    "    \"registrationCountry\": \"France\",\n",
    "    \"licensePlate\": \"AAA-BBB\"\n",
    "}"
   ]
  },
  {
   "cell_type": "code",
   "execution_count": 3,
   "id": "5ed1d9e3-22eb-4936-aa38-41892b76e184",
   "metadata": {},
   "outputs": [],
   "source": [
    "from uuid import UUID\n",
    "\n",
    "expected_serialized_by_alias = {\n",
    "    'id': UUID('c4e60f4a-3c7f-4da5-9b3f-07aee50b23e7'),\n",
    "    'manufacturer': 'BMW',\n",
    "    'seriesName': 'M4',\n",
    "    'type': AutomobileType.convertible,\n",
    "    'isElectric': False,\n",
    "    'manufacturedDate': date(2023, 1, 1),\n",
    "    'baseMSRPUSD': 93300.0,\n",
    "    'vin': '1234567890',\n",
    "    'numberOfDoors': 2,\n",
    "    'registrationCountry': 'France',\n",
    "    'licensePlate': 'AAA-BBB'\n",
    "}"
   ]
  },
  {
   "cell_type": "markdown",
   "id": "8033f298-eaa6-4b41-b1dd-c1b89b3c161a",
   "metadata": {},
   "source": [
    "In addition, you should test that the default UUID4 generation works properly (so create at least two models, without specifying the `id` value, and verify that a default uuid4 has been generated for both models, and that the uuids are **not** the same).\n",
    "\n",
    "You can use the sample source data below, but I cannot provide you a serialized result to test against since the UUID is going to be unique each time a model is created."
   ]
  },
  {
   "cell_type": "code",
   "execution_count": 4,
   "id": "e0e82be8-c01b-4d06-a77e-c0e38656d22d",
   "metadata": {},
   "outputs": [],
   "source": [
    "data_no_id = {\n",
    "    \"manufacturer\": \"BMW\",\n",
    "    \"seriesName\": \"M4\",\n",
    "    \"type\": \"Convertible\",\n",
    "    \"isElectric\": False,\n",
    "    \"completionDate\": \"2023-01-01\",\n",
    "    \"msrpUSD\": 93_300,\n",
    "    \"vin\": \"1234567890\",\n",
    "    \"doors\": 2,\n",
    "    \"registrationCountry\": \"France\",\n",
    "    \"licensePlate\": \"AAA-BBB\"\n",
    "}"
   ]
  },
  {
   "cell_type": "markdown",
   "id": "cb0267ea-88ed-4ea8-8aba-4b01f2d12fe6",
   "metadata": {},
   "source": [
    "## Solution"
   ]
  },
  {
   "cell_type": "code",
   "execution_count": 5,
   "id": "81847631-e569-4908-921b-55363b0d467c",
   "metadata": {},
   "outputs": [],
   "source": [
    "from uuid import uuid4\n",
    "\n",
    "class Automobile(BaseModel):\n",
    "    model_config = ConfigDict(\n",
    "        extra=\"forbid\",\n",
    "        str_strip_whitespace=True,\n",
    "        validate_default=True,\n",
    "        validate_assignment=True,\n",
    "        alias_generator=to_camel,\n",
    "    )\n",
    "\n",
    "    id_: UUID4 = Field(alias=\"id\", default_factory=uuid4) \n",
    "    manufacturer: str\n",
    "    series_name: str\n",
    "    type_: AutomobileType = Field(alias=\"type\")\n",
    "    is_electric: bool = False\n",
    "    manufactured_date: date = Field(validation_alias=\"completionDate\", ge=date(1980, 1, 1))\n",
    "    base_msrp_usd: float = Field(\n",
    "        validation_alias=\"msrpUSD\", \n",
    "        serialization_alias=\"baseMSRPUSD\"\n",
    "    )\n",
    "    vin: str\n",
    "    number_of_doors: int = Field(\n",
    "        default=4, \n",
    "        validation_alias=\"doors\",\n",
    "        ge=2,\n",
    "        le=4,\n",
    "        multiple_of=2,\n",
    "    )\n",
    "    registration_country: str | None = None\n",
    "    license_plate: str | None = None\n",
    "\n",
    "    @field_serializer(\"manufactured_date\", when_used=\"json-unless-none\")\n",
    "    def serialize_date(self, value: date) -> str:\n",
    "        return value.strftime(\"%Y/%m/%d\")"
   ]
  },
  {
   "cell_type": "code",
   "execution_count": 6,
   "id": "17de6c65-d75c-4bfc-8f77-7cfb29d4f293",
   "metadata": {},
   "outputs": [
    {
     "data": {
      "text/plain": [
       "Automobile(id_=UUID('c4e60f4a-3c7f-4da5-9b3f-07aee50b23e7'), manufacturer='BMW', series_name='M4', type_=<AutomobileType.convertible: 'Convertible'>, is_electric=False, manufactured_date=datetime.date(2023, 1, 1), base_msrp_usd=93300.0, vin='1234567890', number_of_doors=2, registration_country='France', license_plate='AAA-BBB')"
      ]
     },
     "execution_count": 6,
     "metadata": {},
     "output_type": "execute_result"
    }
   ],
   "source": [
    "car = Automobile.model_validate(data)\n",
    "car"
   ]
  },
  {
   "cell_type": "code",
   "execution_count": 7,
   "id": "bf3156a4-4131-400b-8708-ec5cb0c6f2f0",
   "metadata": {},
   "outputs": [],
   "source": [
    "assert car.model_dump(by_alias=True) == expected_serialized_by_alias"
   ]
  },
  {
   "cell_type": "code",
   "execution_count": 8,
   "id": "140bff6d-5dfc-4556-a9f1-2ff9bc3b913d",
   "metadata": {},
   "outputs": [
    {
     "data": {
      "text/plain": [
       "Automobile(id_=UUID('70f34747-4022-4c7a-be79-bf3a360f909b'), manufacturer='BMW', series_name='M4', type_=<AutomobileType.convertible: 'Convertible'>, is_electric=False, manufactured_date=datetime.date(2023, 1, 1), base_msrp_usd=93300.0, vin='1234567890', number_of_doors=2, registration_country='France', license_plate='AAA-BBB')"
      ]
     },
     "execution_count": 8,
     "metadata": {},
     "output_type": "execute_result"
    }
   ],
   "source": [
    "car1 = Automobile.model_validate(data_no_id)\n",
    "car1"
   ]
  },
  {
   "cell_type": "code",
   "execution_count": 9,
   "id": "2a032020-8553-448a-8f2b-7e003881df7e",
   "metadata": {},
   "outputs": [
    {
     "data": {
      "text/plain": [
       "Automobile(id_=UUID('0d491c29-7dcc-46a8-a562-e1b46cacc8aa'), manufacturer='BMW', series_name='M4', type_=<AutomobileType.convertible: 'Convertible'>, is_electric=False, manufactured_date=datetime.date(2023, 1, 1), base_msrp_usd=93300.0, vin='1234567890', number_of_doors=2, registration_country='France', license_plate='AAA-BBB')"
      ]
     },
     "execution_count": 9,
     "metadata": {},
     "output_type": "execute_result"
    }
   ],
   "source": [
    "car2 = Automobile.model_validate(data_no_id)\n",
    "car2"
   ]
  },
  {
   "cell_type": "code",
   "execution_count": 10,
   "id": "ea64415c-c2ca-4797-87e8-834027ddc46e",
   "metadata": {},
   "outputs": [],
   "source": [
    "assert car1.id_ is not None\n",
    "assert car1.id_ != car2.id_"
   ]
  },
  {
   "cell_type": "markdown",
   "id": "c7800461-e98d-45d9-859b-303c0987dc58",
   "metadata": {},
   "source": [
    "And let's just make sure our validation for doors works as expected:"
   ]
  },
  {
   "cell_type": "code",
   "execution_count": 11,
   "id": "85b3a550-43b9-44a4-a918-78c8defd062a",
   "metadata": {},
   "outputs": [],
   "source": [
    "data = {\n",
    "    \"id\": \"c4e60f4a-3c7f-4da5-9b3f-07aee50b23e7\",\n",
    "    \"manufacturer\": \"BMW\",\n",
    "    \"seriesName\": \"M4\",\n",
    "    \"type\": \"Convertible\",\n",
    "    \"isElectric\": False,\n",
    "    \"completionDate\": \"1960-01-01\",\n",
    "    \"msrpUSD\": 93_300,\n",
    "    \"vin\": \"1234567890\",\n",
    "    \"doors\": 3,\n",
    "    \"registrationCountry\": \"France\",\n",
    "    \"licensePlate\": \"AAA-BBB\"\n",
    "}"
   ]
  },
  {
   "cell_type": "code",
   "execution_count": 12,
   "id": "dedb096b-de79-4596-94c2-c9b43eca4201",
   "metadata": {},
   "outputs": [
    {
     "name": "stdout",
     "output_type": "stream",
     "text": [
      "2 validation errors for Automobile\n",
      "completionDate\n",
      "  Input should be greater than or equal to 1980-01-01 [type=greater_than_equal, input_value='1960-01-01', input_type=str]\n",
      "    For further information visit https://errors.pydantic.dev/2.5/v/greater_than_equal\n",
      "doors\n",
      "  Input should be a multiple of 2 [type=multiple_of, input_value=3, input_type=int]\n",
      "    For further information visit https://errors.pydantic.dev/2.5/v/multiple_of\n"
     ]
    }
   ],
   "source": [
    "from pydantic import ValidationError\n",
    "\n",
    "\n",
    "try:\n",
    "    Automobile.model_validate(data)\n",
    "except ValidationError as ex:\n",
    "    print(ex)"
   ]
  },
  {
   "cell_type": "code",
   "execution_count": null,
   "id": "a5003579-4f63-470a-9023-f96e46b69ed8",
   "metadata": {},
   "outputs": [],
   "source": []
  }
 ],
 "metadata": {
  "kernelspec": {
   "display_name": "Python 3 (ipykernel)",
   "language": "python",
   "name": "python3"
  },
  "language_info": {
   "codemirror_mode": {
    "name": "ipython",
    "version": 3
   },
   "file_extension": ".py",
   "mimetype": "text/x-python",
   "name": "python",
   "nbconvert_exporter": "python",
   "pygments_lexer": "ipython3",
   "version": "3.12.0"
  }
 },
 "nbformat": 4,
 "nbformat_minor": 5
}
