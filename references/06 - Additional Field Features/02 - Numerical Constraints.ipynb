{
 "cells": [
  {
   "cell_type": "markdown",
   "id": "3a77ba9f-7b81-459c-b5d2-116dbf03d5ee",
   "metadata": {},
   "source": [
    "# Numerical Field Constraints"
   ]
  },
  {
   "cell_type": "markdown",
   "id": "bdebc046-3624-422e-9737-998f4745fe0d",
   "metadata": {},
   "source": [
    "Earlier we saw that some specialized types offered by Pydantic could be used to specify not just certain numeric types, but additional constraints, such as `PositiveInt`."
   ]
  },
  {
   "cell_type": "markdown",
   "id": "c16e03c0-0195-4f60-8e7e-7fd014792cfd",
   "metadata": {},
   "source": [
    "So, using `PositiveInt` is great if we need positive integers, but we don't have a specialized type to constrain an integer to be greater than `1` for example.\n",
    "\n",
    "The `Field` class offers us more flexible options to do the same thing - it some parameters we can specify that will apply specific constraints."
   ]
  },
  {
   "cell_type": "code",
   "execution_count": 1,
   "id": "40ad1b91-03d7-4d15-bfab-9e155a470d24",
   "metadata": {},
   "outputs": [],
   "source": [
    "from pydantic import BaseModel, Field, ValidationError"
   ]
  },
  {
   "cell_type": "markdown",
   "id": "2f64f742-ae01-43ad-9841-1455b7e60bc4",
   "metadata": {},
   "source": [
    "For numerical constraints, we have these arguments available:\n",
    "- `gt` -> `>`\n",
    "- `ge` -> `>=`\n",
    "- `lt` -> `<`\n",
    "- `le` -> `<=`\n",
    "- `multiple_of` -> number must a multiple of this value"
   ]
  },
  {
   "cell_type": "markdown",
   "id": "d83a358f-29d4-46bc-8c62-cd7177e5d085",
   "metadata": {},
   "source": [
    "Their usage is very straightforward:"
   ]
  },
  {
   "cell_type": "code",
   "execution_count": 2,
   "id": "5d26c49f-2edd-4d66-945b-04f3ea9fb601",
   "metadata": {},
   "outputs": [],
   "source": [
    "class Model(BaseModel):\n",
    "    number: float = Field(gt=2, le=10, multiple_of=2)"
   ]
  },
  {
   "cell_type": "code",
   "execution_count": 3,
   "id": "b9399774-a87f-44ca-99e1-76361e0e4e4d",
   "metadata": {},
   "outputs": [
    {
     "data": {
      "text/plain": [
       "Model(number=4.0)"
      ]
     },
     "execution_count": 3,
     "metadata": {},
     "output_type": "execute_result"
    }
   ],
   "source": [
    "m = Model(number=4)\n",
    "m"
   ]
  },
  {
   "cell_type": "code",
   "execution_count": 4,
   "id": "d85e0195-6f59-471e-aee0-de65a83f3375",
   "metadata": {},
   "outputs": [
    {
     "name": "stdout",
     "output_type": "stream",
     "text": [
      "1 validation error for Model\n",
      "number\n",
      "  Input should be a multiple of 2 [type=multiple_of, input_value=3, input_type=int]\n",
      "    For further information visit https://errors.pydantic.dev/2.5/v/multiple_of\n"
     ]
    }
   ],
   "source": [
    "try:\n",
    "    Model(number=3)\n",
    "except ValidationError as ex:\n",
    "    print(ex)"
   ]
  },
  {
   "cell_type": "code",
   "execution_count": 5,
   "id": "a9b9caec-08e8-4291-a0ba-58ad665d5e27",
   "metadata": {},
   "outputs": [
    {
     "name": "stdout",
     "output_type": "stream",
     "text": [
      "1 validation error for Model\n",
      "number\n",
      "  Input should be less than or equal to 10 [type=less_than_equal, input_value=14, input_type=int]\n",
      "    For further information visit https://errors.pydantic.dev/2.5/v/less_than_equal\n"
     ]
    }
   ],
   "source": [
    "try:\n",
    "    Model(number=14)\n",
    "except ValidationError as ex:\n",
    "    print(ex)"
   ]
  },
  {
   "cell_type": "markdown",
   "id": "860df103-f45b-4a73-8714-b7c53de71055",
   "metadata": {},
   "source": [
    "So, `PositiveInt` is really the same as `Field(gt=0)`."
   ]
  },
  {
   "cell_type": "markdown",
   "id": "25354ebd-0cd8-42e1-a99f-5d2ddf49b2c4",
   "metadata": {},
   "source": [
    "In fact, if you recall we had seen this when we inspected the model fields."
   ]
  },
  {
   "cell_type": "code",
   "execution_count": 6,
   "id": "06ac9be8-27e8-454f-99cc-417dd1ffbdc4",
   "metadata": {},
   "outputs": [],
   "source": [
    "class Model(BaseModel):\n",
    "    number: int = Field(gt=0)"
   ]
  },
  {
   "cell_type": "code",
   "execution_count": 7,
   "id": "c2fcc8c7-e637-4b1d-95e3-d7314349c107",
   "metadata": {},
   "outputs": [
    {
     "data": {
      "text/plain": [
       "{'number': FieldInfo(annotation=int, required=True, metadata=[Gt(gt=0)])}"
      ]
     },
     "execution_count": 7,
     "metadata": {},
     "output_type": "execute_result"
    }
   ],
   "source": [
    "Model.model_fields"
   ]
  },
  {
   "cell_type": "code",
   "execution_count": 8,
   "id": "6fc9070c-a4fc-46e6-ac32-23c4a2f39ec1",
   "metadata": {},
   "outputs": [],
   "source": [
    "from pydantic import PositiveInt\n",
    "\n",
    "class Model(BaseModel):\n",
    "    number: PositiveInt"
   ]
  },
  {
   "cell_type": "code",
   "execution_count": 9,
   "id": "2f51910c-bbfa-48f3-9b73-7dcece3fd7b0",
   "metadata": {},
   "outputs": [
    {
     "data": {
      "text/plain": [
       "{'number': FieldInfo(annotation=int, required=True, metadata=[Gt(gt=0)])}"
      ]
     },
     "execution_count": 9,
     "metadata": {},
     "output_type": "execute_result"
    }
   ],
   "source": [
    "Model.model_fields"
   ]
  },
  {
   "cell_type": "code",
   "execution_count": null,
   "id": "deb5eb49-7f76-44a5-a8cb-e8a9acee5e14",
   "metadata": {},
   "outputs": [],
   "source": []
  }
 ],
 "metadata": {
  "kernelspec": {
   "display_name": "Python 3 (ipykernel)",
   "language": "python",
   "name": "python3"
  },
  "language_info": {
   "codemirror_mode": {
    "name": "ipython",
    "version": 3
   },
   "file_extension": ".py",
   "mimetype": "text/x-python",
   "name": "python",
   "nbconvert_exporter": "python",
   "pygments_lexer": "ipython3",
   "version": "3.12.0"
  }
 },
 "nbformat": 4,
 "nbformat_minor": 5
}
