{
 "cells": [
  {
   "cell_type": "markdown",
   "id": "350b1206-9ce3-481f-b874-57c96113ec43",
   "metadata": {},
   "source": [
    "# Dependent Field Validations"
   ]
  },
  {
   "cell_type": "markdown",
   "id": "8f8efecb-3182-4518-8349-d44c4c6daaf9",
   "metadata": {},
   "source": [
    "So far we have seen validators that act upon some value being deserialized, totally unaware of other fields on the model."
   ]
  },
  {
   "cell_type": "markdown",
   "id": "27334057-83a2-4b81-ae51-1925c32a314a",
   "metadata": {},
   "source": [
    "But, when deserializing data, there might be fields, defined before the current one in the field definition order in the model class, that were already deserialized."
   ]
  },
  {
   "cell_type": "markdown",
   "id": "5eee637a-32ee-49bd-b039-98e4fc2714e2",
   "metadata": {},
   "source": [
    "Pydantic has a way for a custom validator to receive information about other fields.\n",
    "\n",
    "The catch is that it can only know about fields that have already been validated, and only those fields that passed validation.\n",
    "\n",
    "The way this works is that custom validators can receive an extra argument, typed as `ValidationInfo`."
   ]
  },
  {
   "cell_type": "markdown",
   "id": "09595b18-d4dd-484d-8c54-accc6bbcd0aa",
   "metadata": {},
   "source": [
    "Let's see a example of this:"
   ]
  },
  {
   "cell_type": "code",
   "execution_count": 1,
   "id": "07fd8c05-72b7-42e5-bfe8-270d6dd37936",
   "metadata": {},
   "outputs": [],
   "source": [
    "from pydantic import BaseModel, field_validator, ValidationError, ValidationInfo"
   ]
  },
  {
   "cell_type": "code",
   "execution_count": 2,
   "id": "3855ba51-cebe-4515-a833-3ab426b204fd",
   "metadata": {},
   "outputs": [],
   "source": [
    "class Model(BaseModel):\n",
    "    field_1: int\n",
    "    field_2: list[int]\n",
    "    field_3: str\n",
    "    field_4: list[str]\n",
    "\n",
    "    @field_validator(\"field_3\")\n",
    "    @classmethod\n",
    "    def validator(cls, value: str, validated_values: ValidationInfo):\n",
    "        print(f\"{value=}\")\n",
    "        print(f\"{validated_values=}\")\n",
    "        return value"
   ]
  },
  {
   "cell_type": "code",
   "execution_count": 3,
   "id": "ad5c1108-8abe-4606-8c58-f648d75a419c",
   "metadata": {},
   "outputs": [
    {
     "name": "stdout",
     "output_type": "stream",
     "text": [
      "value='python'\n",
      "validated_values=ValidationInfo(config={'title': 'Model'}, context=None, data={'field_1': 100, 'field_2': [1, 2, 3]}, field_name='field_3')\n"
     ]
    },
    {
     "data": {
      "text/plain": [
       "Model(field_1=100, field_2=[1, 2, 3], field_3='python', field_4=['a', 'b'])"
      ]
     },
     "execution_count": 3,
     "metadata": {},
     "output_type": "execute_result"
    }
   ],
   "source": [
    "Model(field_1=100, field_2=[1, 2, 3], field_3=\"python\", field_4=[\"a\", \"b\"])"
   ]
  },
  {
   "cell_type": "markdown",
   "id": "80b8222a-5ad8-4667-b0a0-fcb9f3895312",
   "metadata": {},
   "source": [
    "As you can see, that `ValidationInfo` object, has an attribute named `data` - it is a dictionary that contains the validated fields that were defined **before** `field_3` in this model."
   ]
  },
  {
   "cell_type": "markdown",
   "id": "85f5890e-56d3-4cfa-b049-43871846d858",
   "metadata": {},
   "source": [
    "Recall that Pydantic will keep validating fields even if one fails validation. This means that when you receive that `ValidationInfo` object, it may not contain values for all the previous fields - it only contains values that actually passed validation."
   ]
  },
  {
   "cell_type": "code",
   "execution_count": 4,
   "id": "84a0f81d-759f-442d-a439-848f62400a2e",
   "metadata": {},
   "outputs": [
    {
     "name": "stdout",
     "output_type": "stream",
     "text": [
      "value='python'\n",
      "validated_values=ValidationInfo(config={'title': 'Model'}, context=None, data={'field_1': 100}, field_name='field_3')\n",
      "2 validation errors for Model\n",
      "field_2.0\n",
      "  Input should be a valid integer, unable to parse string as an integer [type=int_parsing, input_value='a', input_type=str]\n",
      "    For further information visit https://errors.pydantic.dev/2.5/v/int_parsing\n",
      "field_2.1\n",
      "  Input should be a valid integer, unable to parse string as an integer [type=int_parsing, input_value='b', input_type=str]\n",
      "    For further information visit https://errors.pydantic.dev/2.5/v/int_parsing\n"
     ]
    }
   ],
   "source": [
    "try:\n",
    "    Model(field_1=100, field_2=[\"a\", \"b\"], field_3=\"python\", field_4=[\"a\", \"b\"])\n",
    "except ValidationError as ex:\n",
    "    print(ex)"
   ]
  },
  {
   "cell_type": "markdown",
   "id": "6226a380-ad40-431b-87fc-6fbb70706ba8",
   "metadata": {},
   "source": [
    "As you can see, `field_2` was not included in the `ValidationInfo` object, since that value failed to pass validation."
   ]
  },
  {
   "cell_type": "markdown",
   "id": "770fbebf-6c15-49cb-b7d7-e670f8085ca3",
   "metadata": {},
   "source": [
    "So, make sure you take that possibility into account."
   ]
  },
  {
   "cell_type": "markdown",
   "id": "c8ed80b9-582d-4f91-a183-465293c6e0d8",
   "metadata": {},
   "source": [
    "Let's see a typical application of this.\n",
    "\n",
    "Suppose we have a model with a start and end datetime - our validation needs to ensure that the end date is not earlier than the start date, so let's implement that."
   ]
  },
  {
   "cell_type": "markdown",
   "id": "96b4f901-cb84-48a0-9f2c-1aaa14905714",
   "metadata": {},
   "source": [
    "We'll bring back the validators we had when dealing with datetimes:"
   ]
  },
  {
   "cell_type": "code",
   "execution_count": 5,
   "id": "0d923ec4-4830-4980-b95e-1110163103ec",
   "metadata": {},
   "outputs": [],
   "source": [
    "from datetime import datetime\n",
    "from typing import Annotated, Any\n",
    "\n",
    "import pytz\n",
    "from dateutil.parser import parse\n",
    "from pydantic import AfterValidator, BeforeValidator\n",
    "\n",
    "def parse_datetime(value: Any):\n",
    "    if isinstance(value, str):\n",
    "        try:\n",
    "            return parse(value)\n",
    "        except Exception as ex:\n",
    "            raise ValueError(str(ex))\n",
    "    return value\n",
    "\n",
    "\n",
    "def make_utc(dt: datetime) -> datetime:\n",
    "    if dt.tzinfo is None:\n",
    "        dt = pytz.utc.localize(dt)\n",
    "    else:\n",
    "        dt = dt.astimezone(pytz.utc)\n",
    "    return dt\n",
    "\n",
    "DateTimeUTC = Annotated[datetime, BeforeValidator(parse_datetime), AfterValidator(make_utc)]"
   ]
  },
  {
   "cell_type": "code",
   "execution_count": 6,
   "id": "f5183549-2466-46d4-99ae-6cd279b09b89",
   "metadata": {},
   "outputs": [],
   "source": [
    "class Model(BaseModel):\n",
    "    start_dt: DateTimeUTC\n",
    "    end_dt: DateTimeUTC\n",
    "\n",
    "    @field_validator(\"end_dt\")\n",
    "    @classmethod\n",
    "    def validate_end_after_start_dt(cls, value: datetime, values: ValidationInfo):\n",
    "        data = values.data\n",
    "        if \"start_dt\" in data:\n",
    "            if value <= data[\"start_dt\"]:\n",
    "                raise ValueError(\"end_dt must come after start_dt\")\n",
    "        # if start_dt failed validation, there's not much we can check here. \n",
    "        #    So just return value as-is\n",
    "        return value  "
   ]
  },
  {
   "cell_type": "code",
   "execution_count": 7,
   "id": "bef74de2-c964-4289-bbca-ae354fbe6dad",
   "metadata": {},
   "outputs": [
    {
     "data": {
      "text/plain": [
       "Model(start_dt=datetime.datetime(2020, 1, 1, 0, 0, tzinfo=<UTC>), end_dt=datetime.datetime(2020, 12, 31, 0, 0, tzinfo=<UTC>))"
      ]
     },
     "execution_count": 7,
     "metadata": {},
     "output_type": "execute_result"
    }
   ],
   "source": [
    "Model(start_dt=\"2020/1/1\", end_dt=\"2020/12/31\")"
   ]
  },
  {
   "cell_type": "code",
   "execution_count": 8,
   "id": "39140e40-a024-478f-9e54-4043923de2af",
   "metadata": {},
   "outputs": [
    {
     "name": "stdout",
     "output_type": "stream",
     "text": [
      "1 validation error for Model\n",
      "end_dt\n",
      "  Value error, end_dt must come after start_dt [type=value_error, input_value='2012/12/31', input_type=str]\n",
      "    For further information visit https://errors.pydantic.dev/2.5/v/value_error\n"
     ]
    }
   ],
   "source": [
    "try:\n",
    "    Model(start_dt=\"2020/1/1\", end_dt=\"2012/12/31\")\n",
    "except ValidationError as ex:\n",
    "    print(ex)"
   ]
  },
  {
   "cell_type": "code",
   "execution_count": null,
   "id": "3a10fe05-ccd8-495e-8587-2d79dfdc1d21",
   "metadata": {},
   "outputs": [],
   "source": []
  }
 ],
 "metadata": {
  "kernelspec": {
   "display_name": "Python 3 (ipykernel)",
   "language": "python",
   "name": "python3"
  },
  "language_info": {
   "codemirror_mode": {
    "name": "ipython",
    "version": 3
   },
   "file_extension": ".py",
   "mimetype": "text/x-python",
   "name": "python",
   "nbconvert_exporter": "python",
   "pygments_lexer": "ipython3",
   "version": "3.12.0"
  }
 },
 "nbformat": 4,
 "nbformat_minor": 5
}
