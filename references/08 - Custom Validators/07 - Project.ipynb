{
 "cells": [
  {
   "cell_type": "markdown",
   "id": "a1202d1e-42b2-41df-9659-c27d19862a35",
   "metadata": {},
   "source": [
    "# Project (Section 8)"
   ]
  },
  {
   "cell_type": "markdown",
   "id": "74e209cd-15c5-4058-9891-ae05baa9d0a2",
   "metadata": {},
   "source": [
    "This is where we left off in the previous section project:"
   ]
  },
  {
   "cell_type": "code",
   "execution_count": 1,
   "id": "d2309abf-85d9-4b56-aaa0-71b84fe797b8",
   "metadata": {},
   "outputs": [],
   "source": [
    "from datetime import date\n",
    "from enum import Enum\n",
    "from typing import Annotated, TypeVar\n",
    "from uuid import uuid4\n",
    "from pydantic import BaseModel, ConfigDict, Field, field_serializer\n",
    "from pydantic.alias_generators import to_camel\n",
    "from pydantic import UUID4\n",
    "\n",
    "\n",
    "class AutomobileType(Enum):\n",
    "    sedan = \"Sedan\"\n",
    "    coupe = \"Coupe\"\n",
    "    convertible = \"Convertible\"\n",
    "    suv = \"SUV\"\n",
    "    truck = \"Truck\"\n",
    "\n",
    "\n",
    "T = TypeVar('T')\n",
    "BoundedString = Annotated[str, Field(min_length=2, max_length=50)]\n",
    "BoundedList = Annotated[list[T], Field(min_length=1, max_length=5)]\n",
    "\n",
    "\n",
    "class Automobile(BaseModel):\n",
    "    model_config = ConfigDict(\n",
    "        extra=\"forbid\",\n",
    "        str_strip_whitespace=True,\n",
    "        validate_default=True,\n",
    "        validate_assignment=True,\n",
    "        alias_generator=to_camel,\n",
    "    )\n",
    "\n",
    "    id_: UUID4 | None = Field(alias=\"id\", default_factory=uuid4) \n",
    "    manufacturer: BoundedString\n",
    "    series_name: BoundedString\n",
    "    type_: AutomobileType = Field(alias=\"type\")\n",
    "    is_electric: bool = False\n",
    "    manufactured_date: date = Field(validation_alias=\"completionDate\", ge=date(1980, 1, 1))\n",
    "    base_msrp_usd: float = Field(\n",
    "        validation_alias=\"msrpUSD\", \n",
    "        serialization_alias=\"baseMSRPUSD\"\n",
    "    )\n",
    "    top_features: BoundedList[BoundedString] | None = None\n",
    "    vin: BoundedString\n",
    "    number_of_doors: int = Field(\n",
    "        default=4, \n",
    "        validation_alias=\"doors\",\n",
    "        ge=2,\n",
    "        le=4,\n",
    "        multiple_of=2,\n",
    "    )\n",
    "    registration_country: BoundedString | None = None\n",
    "    license_plate: BoundedString | None = None\n",
    "\n",
    "    @field_serializer(\"manufactured_date\", when_used=\"json-unless-none\")\n",
    "    def serialize_date(self, value: date) -> str:\n",
    "        return value.strftime(\"%Y/%m/%d\")"
   ]
  },
  {
   "cell_type": "markdown",
   "id": "183c67d2-74e5-424c-b40d-d8dc57c4ab60",
   "metadata": {},
   "source": [
    "There are two main changes we are going to make on our model.\n",
    "\n",
    "First, we want to add an additional field to capture when an automobile was registered. To do so add a field named `registration_date` that is implemented as follows:\n",
    "- place it right after `registration_country` in the model\n",
    "- if should be a `date` object\n",
    "- it should be optional and default to `None`\n",
    "- it should deserialize from and serialize to the camel case version of the field name\n",
    "- if cannot be earlier than the `manufactured_date`\n",
    "- just like `manufactured_date` it should serialize the data to a `YYYY/MM/DD` format for JSON serialization. (Hint: you do not need to define a second serializer for that field! The syntax is the same as what I showed you when aplying the same decorator validator to multiple fields)\n",
    "\n",
    "\n",
    "Secondly, we want to ensure that the `registration_country` only allows values from a pre-determined list of countries.\n",
    "\n",
    "We are not going to use an enum for this, as there would simply be too many values. Instead we are going to validate the country name against a \"database\".\n",
    "\n",
    "For this exercise we are not going to use an actual database, instead you can use the dictionary provided below. The dictionary keys are going to become the accepted \"input\" value for country names, and each key's value contains a tuple consisting of the country name (properly formatted), and the 3 character country code (we won't use the country code right now, but we will later).\n",
    "\n",
    "Create a custom validator for `registration_country` that validates the data being deserialized is one of the keys in that dictionary, and replace the deserialized value with the country name from the first name in the tuple.\n",
    "\n",
    "For example, if the input data contains:\n",
    "```\n",
    "{\n",
    "    ...,\n",
    "    \"registrationCountry\": \"UK\",\n",
    "    ...\n",
    "}\n",
    "```\n",
    "then, since our \"database\" gives us this info:\n",
    "```\n",
    "\"uk\": (\"United Kingdom\", \"GBR\")\n",
    "```\n",
    "the deserialized value in our model should become `United Kingdom`. "
   ]
  },
  {
   "cell_type": "markdown",
   "id": "64164431-01bb-42ea-b6f5-31fcfffe9e6a",
   "metadata": {},
   "source": [
    "Your validator should validate a country name based on the lower-cased and stripped version of the string - i.e. input data such as `\"UK\"`, `\"Uk\"`, `\"uk \"` should all end up being matched with the key `\"uk\"` in the database.\n",
    "\n",
    "Use an annotated type to do this - name your new annotated type `Country`."
   ]
  },
  {
   "cell_type": "code",
   "execution_count": 2,
   "id": "275e54fd-79fa-414b-804d-9dbe6a372bf2",
   "metadata": {},
   "outputs": [],
   "source": [
    "countries = {\n",
    "    \"australia\": (\"Australia\", \"AUS\"),\n",
    "    \"canada\": (\"Canada\", \"CAN\"),\n",
    "    \"china\": (\"China\", \"CHN\"),\n",
    "    \"france\": (\"France\", \"FRA\"),\n",
    "    \"germany\": (\"Germany\", \"DEU\"),\n",
    "    \"india\": (\"India\", \"IND\"),\n",
    "    \"mexico\": (\"Mexico\", \"MEX\"),\n",
    "    \"norway\": (\"Norway\", \"NOR\"),\n",
    "    \"pakistan\": (\"Pakistan\", \"PAK\"),\n",
    "    \"san marino\": (\"San Marino\", \"SMR\"),\n",
    "    \"sanmarino\": (\"San Marino\", \"SMR\"),\n",
    "    \"spain\": (\"Spain\", \"ESP\"),\n",
    "    \"sweden\": (\"Sweden\", \"SWE\"),\n",
    "    \"united kingdom\": (\"United Kingdom\", \"GBR\"),\n",
    "    \"uk\": (\"United Kingdom\", \"GBR\"),\n",
    "    \"great britain\": (\"United Kingdom\", \"GBR\"),\n",
    "    \"britain\": (\"United Kingdom\", \"GBR\"),\n",
    "    \"us\": (\"United States of America\", \"USA\"),\n",
    "    \"united states\": (\"United States of America\", \"USA\"),\n",
    "    \"usa\": (\"United States of America\", \"USA\"),\n",
    "}"
   ]
  },
  {
   "cell_type": "markdown",
   "id": "3fe1aafd-5232-4786-8e66-d70e98df31a4",
   "metadata": {},
   "source": [
    "I obtained this list by selecting a small portion of the data available \n",
    "here: [https://www.iban.com/country-codes](https://www.iban.com/country-codes).\n",
    "\n",
    "Feel free to add yourself in the list if you're not already!"
   ]
  },
  {
   "cell_type": "markdown",
   "id": "44726a3b-bc1e-4ee6-8037-690943faaff3",
   "metadata": {},
   "source": [
    "Here is a sample data input and serialized output (dict and JSON):"
   ]
  },
  {
   "cell_type": "code",
   "execution_count": 3,
   "id": "a4c6b734-a14f-4aca-9848-bdca3b23c57c",
   "metadata": {},
   "outputs": [],
   "source": [
    "from uuid import UUID\n",
    "\n",
    "data = {\n",
    "    \"id\": \"c4e60f4a-3c7f-4da5-9b3f-07aee50b23e7\",\n",
    "    \"manufacturer\": \"BMW\",\n",
    "    \"seriesName\": \"M4 Competition xDrive\",\n",
    "    \"type\": \"Convertible\",\n",
    "    \"isElectric\": False,\n",
    "    \"completionDate\": \"2023-01-01\",\n",
    "    \"msrpUSD\": 93_300,\n",
    "    \"topFeatures\": [\"6 cylinders\", \"all-wheel drive\", \"convertible\"],\n",
    "    \"vin\": \"1234567890\",\n",
    "    \"doors\": 2,\n",
    "    \"registrationCountry\": \"us\",\n",
    "    \"registrationDate\": \"2023-06-01\",\n",
    "    \"licensePlate\": \"AAA-BBB\"\n",
    "}\n",
    "\n",
    "expected_by_alias = {\n",
    "    'id': UUID('c4e60f4a-3c7f-4da5-9b3f-07aee50b23e7'),\n",
    "    'manufacturer': 'BMW',\n",
    "    'seriesName': 'M4 Competition xDrive',\n",
    "    'type': AutomobileType.convertible,\n",
    "    'isElectric': False,\n",
    "    'manufacturedDate': date(2023, 1, 1),\n",
    "    'baseMSRPUSD': 93300.0,\n",
    "    'topFeatures': ['6 cylinders', 'all-wheel drive', 'convertible'],\n",
    "    'vin': '1234567890',\n",
    "    'numberOfDoors': 2,\n",
    "    'registrationCountry': 'United States of America',\n",
    "    'registrationDate': date(2023, 6, 1),\n",
    "    'licensePlate': 'AAA-BBB'\n",
    "}\n",
    "\n",
    "expected_json_by_alias = '{\"id\":\"c4e60f4a-3c7f-4da5-9b3f-07aee50b23e7\",\"manufacturer\":\"BMW\",\"seriesName\":\"M4 Competition xDrive\",\"type\":\"Convertible\",\"isElectric\":false,\"manufacturedDate\":\"2023/01/01\",\"baseMSRPUSD\":93300.0,\"topFeatures\":[\"6 cylinders\",\"all-wheel drive\",\"convertible\"],\"vin\":\"1234567890\",\"numberOfDoors\":2,\"registrationCountry\":\"United States of America\",\"registrationDate\":\"2023/06/01\",\"licensePlate\":\"AAA-BBB\"}'"
   ]
  },
  {
   "cell_type": "markdown",
   "id": "8f25d366-18a2-4367-b89e-600fea2ba29a",
   "metadata": {},
   "source": [
    "Don't forget to also test with invalid data for registration date and country name!"
   ]
  },
  {
   "cell_type": "code",
   "execution_count": null,
   "id": "97c8bb26-bed8-430d-83f7-5acd86ad9dc5",
   "metadata": {},
   "outputs": [],
   "source": []
  }
 ],
 "metadata": {
  "kernelspec": {
   "display_name": "Python 3 (ipykernel)",
   "language": "python",
   "name": "python3"
  },
  "language_info": {
   "codemirror_mode": {
    "name": "ipython",
    "version": 3
   },
   "file_extension": ".py",
   "mimetype": "text/x-python",
   "name": "python",
   "nbconvert_exporter": "python",
   "pygments_lexer": "ipython3",
   "version": "3.12.0"
  }
 },
 "nbformat": 4,
 "nbformat_minor": 5
}
