{
 "cells": [
  {
   "cell_type": "markdown",
   "id": "4f324211-40e7-4226-abcf-f02bc83aff6d",
   "metadata": {},
   "source": [
    "# After Validators"
   ]
  },
  {
   "cell_type": "markdown",
   "id": "cd21139f-000e-41e1-8e17-734fbd9b0202",
   "metadata": {},
   "source": [
    "As we saw in the lecture video, a custom validator is essentially a transformation function, that receives an input and needs to return the value that is being deserialized.\n",
    "\n",
    "We can also use the opportunity to perform validation checks, and raise an exception if appropriate.\n",
    "\n",
    "So, these custom validators, are not just validators, but are also used to transform the data being deserialized. That's an important point, because they are sometimes used for validation only, sometimes for deserialization only, and sometimes for both."
   ]
  },
  {
   "cell_type": "markdown",
   "id": "2641d894-a6b8-4b0d-be73-192f86504f1b",
   "metadata": {},
   "source": [
    "In this video we're going to start by defining custom validators using a decorator:"
   ]
  },
  {
   "cell_type": "code",
   "execution_count": 1,
   "id": "24e4eac3-c265-4efb-acd7-bc2a37613a4c",
   "metadata": {},
   "outputs": [],
   "source": [
    "from pydantic import BaseModel, Field, field_validator, ValidationError"
   ]
  },
  {
   "cell_type": "markdown",
   "id": "a00b370a-fec2-41e4-926c-1d6d0885293c",
   "metadata": {},
   "source": [
    "In this first example, we're just going to make a custom validator that checks that an integer is even.\n",
    "\n",
    "We could (and probably should) of course just use the `Field` constraint (`multiple_of`), but this will serve to illustrate a simple validator."
   ]
  },
  {
   "cell_type": "markdown",
   "id": "647f2b6b-e188-45b4-b7a7-5708b2ffa9ea",
   "metadata": {},
   "source": [
    "The default behavior of validators defined using the decorator approach, is an **AFTER** validator."
   ]
  },
  {
   "cell_type": "markdown",
   "id": "0d989467-53ef-44fd-a384-46042c111b33",
   "metadata": {},
   "source": [
    "What this means, is that the value being piped into the validator, is the one that has already been processed by Pydantic according to the field type and other constraints that were placed on the field."
   ]
  },
  {
   "cell_type": "code",
   "execution_count": 2,
   "id": "a1ed3d34-039f-49ce-8a07-adde056ca369",
   "metadata": {},
   "outputs": [],
   "source": [
    "class Model(BaseModel):\n",
    "    number: int = Field(gt=0, lt=10)"
   ]
  },
  {
   "cell_type": "markdown",
   "id": "fa04052f-a6f5-4db0-b8ad-57c819e45962",
   "metadata": {},
   "source": [
    "Notice that we have defined a field that should be an integer, greater than `0`, and less than `10`.\n",
    "\n",
    "As-is, Pydantic will run it's internal validation and coercion on input data:"
   ]
  },
  {
   "cell_type": "code",
   "execution_count": 3,
   "id": "ede2dd1d-72cf-46d1-9a20-ae242ce65267",
   "metadata": {},
   "outputs": [
    {
     "data": {
      "text/plain": [
       "Model(number=4)"
      ]
     },
     "execution_count": 3,
     "metadata": {},
     "output_type": "execute_result"
    }
   ],
   "source": [
    "Model(number=\"4\")"
   ]
  },
  {
   "cell_type": "markdown",
   "id": "a3d03ab1-4126-488a-abce-e4b831010f37",
   "metadata": {},
   "source": [
    "Notice how the string \"4\" was converted to an integer. Moreover, Pydantic will ensure that the integer number is within the specified bounds."
   ]
  },
  {
   "cell_type": "code",
   "execution_count": 4,
   "id": "40600190-c76d-4f4a-8926-bb5496fe1504",
   "metadata": {},
   "outputs": [
    {
     "name": "stdout",
     "output_type": "stream",
     "text": [
      "1 validation error for Model\n",
      "number\n",
      "  Input should be less than 10 [type=less_than, input_value=12, input_type=int]\n",
      "    For further information visit https://errors.pydantic.dev/2.5/v/less_than\n"
     ]
    }
   ],
   "source": [
    "try:\n",
    "    Model(number=12)\n",
    "except ValidationError as ex:\n",
    "    print(ex)"
   ]
  },
  {
   "cell_type": "markdown",
   "id": "54baa846-69ce-4356-a7a2-edf2dc21a503",
   "metadata": {},
   "source": [
    "Let's now add an after validator for that field.\n",
    "\n",
    "Note that custom validators are **class** methods, so they will be bound to the class, not the instance, and we have to define the function signature appropriately, as well as mark the function as a class method (don't have to, but better to do so)."
   ]
  },
  {
   "cell_type": "code",
   "execution_count": 5,
   "id": "c205928d-d2e8-481d-8d52-167cdbc8342f",
   "metadata": {},
   "outputs": [],
   "source": [
    "class Model(BaseModel):\n",
    "    number: int = Field(gt=0, lt=10)\n",
    "\n",
    "    @field_validator(\"number\")\n",
    "    @classmethod\n",
    "    def validate_even(cls, value):\n",
    "        print(\"Running custom validator\")\n",
    "        print(f\"{value=}, {type(value)=}\")\n",
    "        return value  # custom validators must return a value"
   ]
  },
  {
   "cell_type": "markdown",
   "id": "d6011324-b890-42e8-957a-ecf30d2e1113",
   "metadata": {},
   "source": [
    "Now, let's try it with valid input:"
   ]
  },
  {
   "cell_type": "code",
   "execution_count": 6,
   "id": "dc3365b5-4bf0-4565-93fc-8eb339adc4c9",
   "metadata": {},
   "outputs": [
    {
     "name": "stdout",
     "output_type": "stream",
     "text": [
      "Running custom validator\n",
      "value=3, type(value)=<class 'int'>\n"
     ]
    },
    {
     "data": {
      "text/plain": [
       "Model(number=3)"
      ]
     },
     "execution_count": 6,
     "metadata": {},
     "output_type": "execute_result"
    }
   ],
   "source": [
    "Model(number=3)"
   ]
  },
  {
   "cell_type": "markdown",
   "id": "b1f037f8-fba0-43c5-9928-4e6ef741e1a3",
   "metadata": {},
   "source": [
    "You can see that our validator function was called. Also notice how the `value` argument received by our validator was an integer. Now, you could think that's because we specified an integer when we create a model instance, but look at this:"
   ]
  },
  {
   "cell_type": "code",
   "execution_count": 7,
   "id": "ccf128c2-860e-4d63-9531-1a3da5025152",
   "metadata": {},
   "outputs": [
    {
     "name": "stdout",
     "output_type": "stream",
     "text": [
      "Running custom validator\n",
      "value=3, type(value)=<class 'int'>\n"
     ]
    },
    {
     "data": {
      "text/plain": [
       "Model(number=3)"
      ]
     },
     "execution_count": 7,
     "metadata": {},
     "output_type": "execute_result"
    }
   ],
   "source": [
    "Model(number=\"3\")"
   ]
  },
  {
   "cell_type": "markdown",
   "id": "83687654-6131-4d12-9375-c62bba89383b",
   "metadata": {},
   "source": [
    "You'll notice that our validator still received an integer."
   ]
  },
  {
   "cell_type": "markdown",
   "id": "c80fe1b2-7599-4e1f-a2e0-6305db499e3e",
   "metadata": {},
   "source": [
    "And if we try to specify a value that does not satisfy the Pydantic constraints we placed:"
   ]
  },
  {
   "cell_type": "code",
   "execution_count": 8,
   "id": "ed959402-062f-4473-b8dc-0a2b2e422ad4",
   "metadata": {},
   "outputs": [
    {
     "name": "stdout",
     "output_type": "stream",
     "text": [
      "1 validation error for Model\n",
      "number\n",
      "  Input should be less than 10 [type=less_than, input_value=12, input_type=int]\n",
      "    For further information visit https://errors.pydantic.dev/2.5/v/less_than\n"
     ]
    }
   ],
   "source": [
    "try:\n",
    "    Model(number=12)\n",
    "except ValidationError as ex:\n",
    "    print(ex)"
   ]
  },
  {
   "cell_type": "markdown",
   "id": "d4429023-70cb-46da-a114-387f11686c85",
   "metadata": {},
   "source": [
    "you'll notice that our custom validator was **NOT** called.\n",
    "\n",
    "This is how an **after** validator works - it is called, after Pydantic's own validators/deserializers have (succesfully) completed. \n",
    "\n",
    "This means that since we defined `number` to be an integer value between 0 and 10, when our validator runs, we are **assured** that `value` will satisfy the type and constraints."
   ]
  },
  {
   "cell_type": "markdown",
   "id": "d85b628c-a740-44e5-901b-6900968c070f",
   "metadata": {},
   "source": [
    "So, our validator just becomes something extra we want to validate, on top of whatever Pydantic validations that have already occurred."
   ]
  },
  {
   "cell_type": "markdown",
   "id": "f9d5ac97-8cc4-4ca8-92e9-71366971007e",
   "metadata": {},
   "source": [
    "Let's complete our validator.\n",
    "\n",
    "To indicate a validation error in our custom validator, we just raise a `ValueError` with an appropriate message."
   ]
  },
  {
   "cell_type": "code",
   "execution_count": 9,
   "id": "3ae4390a-dd87-4d23-9410-19ce076d5159",
   "metadata": {},
   "outputs": [],
   "source": [
    "class Model(BaseModel):\n",
    "    number: int = Field(gt=0, lt=10)\n",
    "\n",
    "    @field_validator(\"number\")\n",
    "    @classmethod\n",
    "    def validate_even(cls, value):\n",
    "        print(\"Running custom validator\")\n",
    "        print(f\"{value=}, {type(value)=}\")\n",
    "        if value % 2 == 0:\n",
    "            # number is even, so return it\n",
    "            return value\n",
    "        raise ValueError(\"value must be even\")"
   ]
  },
  {
   "cell_type": "markdown",
   "id": "da65ec39-e9ff-4792-832c-dca7f574a8c9",
   "metadata": {},
   "source": [
    "And let's try it out:"
   ]
  },
  {
   "cell_type": "code",
   "execution_count": 10,
   "id": "870eeb97-9418-4b6b-8df6-5f8b222c4cce",
   "metadata": {},
   "outputs": [
    {
     "name": "stdout",
     "output_type": "stream",
     "text": [
      "Running custom validator\n",
      "value=4, type(value)=<class 'int'>\n"
     ]
    },
    {
     "data": {
      "text/plain": [
       "Model(number=4)"
      ]
     },
     "execution_count": 10,
     "metadata": {},
     "output_type": "execute_result"
    }
   ],
   "source": [
    "Model(number=4)"
   ]
  },
  {
   "cell_type": "code",
   "execution_count": 11,
   "id": "04d0f30c-cae7-4396-b884-f7cc0a0ebf07",
   "metadata": {},
   "outputs": [
    {
     "name": "stdout",
     "output_type": "stream",
     "text": [
      "Running custom validator\n",
      "value=3, type(value)=<class 'int'>\n",
      "1 validation error for Model\n",
      "number\n",
      "  Value error, value must be even [type=value_error, input_value=3, input_type=int]\n",
      "    For further information visit https://errors.pydantic.dev/2.5/v/value_error\n"
     ]
    }
   ],
   "source": [
    "try:\n",
    "    Model(number=3)\n",
    "except ValidationError as ex:\n",
    "    print(ex)"
   ]
  },
  {
   "cell_type": "markdown",
   "id": "6086d49f-f48a-455e-a087-f80d04c3277a",
   "metadata": {},
   "source": [
    "Notice how the exception that was raised was a `ValidationError` exception, not a `ValueError`. Pydantic will basically catch any `ValueError` in our custom validator, and raise a `ValidationError` in its place.\n",
    "\n",
    "Other errors, such as `TypeError` for example, are not handled by Pydantic, and will bubble up unaffected:"
   ]
  },
  {
   "cell_type": "code",
   "execution_count": 12,
   "id": "f2055802-6e86-4cd7-ace6-7e133e941a4b",
   "metadata": {},
   "outputs": [],
   "source": [
    "class Model(BaseModel):\n",
    "    number: int = Field(gt=0, lt=10)\n",
    "\n",
    "    @field_validator(\"number\")\n",
    "    @classmethod\n",
    "    def validate_even(cls, value):\n",
    "        print(\"Running custom validator\")\n",
    "        print(f\"{value=}, {type(value)=}\")\n",
    "        if value % 2 == 0:\n",
    "            # number is even, so return it\n",
    "            return value\n",
    "        raise TypeError(\"value must be even\")"
   ]
  },
  {
   "cell_type": "code",
   "execution_count": 13,
   "id": "4221f00a-8f15-45b0-8558-910f7f75c951",
   "metadata": {},
   "outputs": [
    {
     "name": "stdout",
     "output_type": "stream",
     "text": [
      "Running custom validator\n",
      "value=3, type(value)=<class 'int'>\n",
      "type(ex)=<class 'TypeError'>, value must be even\n"
     ]
    }
   ],
   "source": [
    "try:\n",
    "    Model(number=3)\n",
    "except Exception as ex:\n",
    "    print(f\"{type(ex)=}, {ex}\")"
   ]
  },
  {
   "cell_type": "markdown",
   "id": "e402540f-c16e-48ff-a899-ad623665daa9",
   "metadata": {},
   "source": [
    "As you can see, the `TypeError` we raised in our custom validator bubbled up as a itself, not a validation error. So, to remain consistent with the fact that Pydantic raises `ValidationError`, we raise `ValueError`.\n",
    "\n",
    "Pydantic documentation clearly states that we should not raise a `ValidationError` ourselves - instead we raise that `ValueError` and Pydantic handles the rest."
   ]
  },
  {
   "cell_type": "markdown",
   "id": "27b6a658-7e25-4559-9485-03da4e2d4b95",
   "metadata": {},
   "source": [
    "As I mentioned earlier, a custom validator is also a good place to modify the value being deserialized if we need to."
   ]
  },
  {
   "cell_type": "markdown",
   "id": "a07d4fe9-d286-4454-9e20-e307c9d83387",
   "metadata": {},
   "source": [
    "Let's look at this simple example, where we want to have an even number for our field, and if the provided number is not even, we want to change it to the next even number.\n",
    "\n",
    "(A bit of a silly example, and we'll look at something a bit more realistic later - for now this will serve as a simple example)."
   ]
  },
  {
   "cell_type": "code",
   "execution_count": 14,
   "id": "21a44de4-2d03-42bd-946f-66cd02a758e7",
   "metadata": {},
   "outputs": [],
   "source": [
    "class Model(BaseModel):\n",
    "    even: int\n",
    "\n",
    "    @field_validator(\"even\")\n",
    "    @classmethod\n",
    "    def make_even(cls, value: int) -> int:\n",
    "        if value % 2 == 1:\n",
    "            return value + 1\n",
    "        return value"
   ]
  },
  {
   "cell_type": "markdown",
   "id": "09de18e6-8d3e-4cc5-9965-f09da1144302",
   "metadata": {},
   "source": [
    "Notice that our validator does not have to check that `value` is an integer - since it is an **after** validator, we are guaranteed that `value` is already an integer."
   ]
  },
  {
   "cell_type": "code",
   "execution_count": 15,
   "id": "3a6a1861-9ee6-4dee-960d-b263b4b7a3c3",
   "metadata": {},
   "outputs": [
    {
     "data": {
      "text/plain": [
       "Model(even=4)"
      ]
     },
     "execution_count": 15,
     "metadata": {},
     "output_type": "execute_result"
    }
   ],
   "source": [
    "Model(even=\"3\")"
   ]
  },
  {
   "cell_type": "markdown",
   "id": "13e2e4a4-a66c-414f-b582-6737c7502de5",
   "metadata": {},
   "source": [
    "Let's look at a slightly more realistic example of using a validator for modifying the value being deserialized.\n",
    "\n",
    "Suppose, we have a `datetime` object on a model, and we want to always have that value be an aware UTC datetime.\n",
    "\n",
    "In other words, if the incoming `datetime` value is naive, we assume it is already in UTC, and simply change it to be aware, but if it is aware, we convert it to UTC."
   ]
  },
  {
   "cell_type": "markdown",
   "id": "c1de1d6a-d9f0-4cc0-b928-a60f0ea3cc74",
   "metadata": {},
   "source": [
    "Basically this is similar to the example we looked at when studying custom serializers. But instead of transforming the value during serialization, we are going to do it during deserialization instead."
   ]
  },
  {
   "cell_type": "code",
   "execution_count": 16,
   "id": "a2945456-0daf-4566-8399-b0bff1e75ec3",
   "metadata": {},
   "outputs": [],
   "source": [
    "from datetime import datetime\n",
    "import pytz\n",
    "\n",
    "def make_utc(dt: datetime) -> datetime:\n",
    "    if dt.tzinfo is None:\n",
    "        dt = pytz.utc.localize(dt)\n",
    "    else:\n",
    "        dt = dt.astimezone(pytz.utc)\n",
    "    return dt"
   ]
  },
  {
   "cell_type": "markdown",
   "id": "38805701-5e90-44db-b12e-dc9abd63f266",
   "metadata": {},
   "source": [
    "This is the function we used before."
   ]
  },
  {
   "cell_type": "markdown",
   "id": "e2dfaa70-622b-4ae8-ac28-ff4809f051bc",
   "metadata": {},
   "source": [
    "Now, let's make a model that ensures datetimes are always stored as UTC aware datetimes in our model."
   ]
  },
  {
   "cell_type": "code",
   "execution_count": 17,
   "id": "08a69ba5-3a46-42a1-9bbe-add4df3b00c4",
   "metadata": {},
   "outputs": [],
   "source": [
    "class Model(BaseModel):\n",
    "    dt: datetime\n",
    "\n",
    "    @field_validator(\"dt\")\n",
    "    @classmethod\n",
    "    def make_utc(cls, dt: datetime) -> datetime:\n",
    "        if dt.tzinfo is None:\n",
    "            dt = pytz.utc.localize(dt)\n",
    "        else:\n",
    "            dt = dt.astimezone(pytz.utc)\n",
    "        return dt"
   ]
  },
  {
   "cell_type": "markdown",
   "id": "73916e56-6a3b-46f4-9b88-42dff1f042af",
   "metadata": {},
   "source": [
    "And let's try it out:"
   ]
  },
  {
   "cell_type": "code",
   "execution_count": 18,
   "id": "d215b5b4-b27b-4ece-8c62-83939f8498ff",
   "metadata": {},
   "outputs": [
    {
     "data": {
      "text/plain": [
       "Model(dt=datetime.datetime(2020, 1, 1, 3, 0, tzinfo=<UTC>))"
      ]
     },
     "execution_count": 18,
     "metadata": {},
     "output_type": "execute_result"
    }
   ],
   "source": [
    "Model(dt=\"2020-01-01T03:00:00\")"
   ]
  },
  {
   "cell_type": "markdown",
   "id": "af0c7172-9559-4fd7-835e-bbee3273c3c8",
   "metadata": {},
   "source": [
    "And if we use a datetime that is timezone aware:"
   ]
  },
  {
   "cell_type": "code",
   "execution_count": 19,
   "id": "738e3f2b-336b-4588-94d3-0fbeb33c8796",
   "metadata": {},
   "outputs": [],
   "source": [
    "eastern = pytz.timezone('US/Eastern')\n",
    "dt = eastern.localize(datetime(2020, 1, 1, 3, 0, 0))"
   ]
  },
  {
   "cell_type": "code",
   "execution_count": 20,
   "id": "798ff23c-1b52-4bb0-9ce3-e6ef10e08c1e",
   "metadata": {},
   "outputs": [
    {
     "data": {
      "text/plain": [
       "Model(dt=datetime.datetime(2020, 1, 1, 8, 0, tzinfo=<UTC>))"
      ]
     },
     "execution_count": 20,
     "metadata": {},
     "output_type": "execute_result"
    }
   ],
   "source": [
    "Model(dt=dt)"
   ]
  },
  {
   "cell_type": "markdown",
   "id": "57caa527-9b3e-4f2a-9932-204ce83976a5",
   "metadata": {},
   "source": [
    "We can always specify multiple validators for the same field.\n",
    "\n",
    "As we saw in the lecture video, the order of execution of after validators is the top to bottom definition order of the functions in the class."
   ]
  },
  {
   "cell_type": "code",
   "execution_count": 21,
   "id": "0c17bef0-1183-46d6-83d3-9f26e3ae75c6",
   "metadata": {},
   "outputs": [],
   "source": [
    "class Model(BaseModel):\n",
    "    number: int\n",
    "\n",
    "    @field_validator(\"number\")\n",
    "    @classmethod\n",
    "    def add_1(cls, value: int):\n",
    "        print(f\"running add_1({value}) -> {value + 1}\")\n",
    "        return value + 1\n",
    "\n",
    "    @field_validator(\"number\")\n",
    "    @classmethod\n",
    "    def add_2(cls, value: int):\n",
    "        print(f\"running add_2({value}) -> {value + 2}\")\n",
    "        return value + 2\n",
    "\n",
    "    @field_validator(\"number\")\n",
    "    @classmethod\n",
    "    def add_3(cls, value: int):\n",
    "        print(f\"running add_3({value}) -> {value + 3}\")\n",
    "        return value + 3\n"
   ]
  },
  {
   "cell_type": "code",
   "execution_count": 22,
   "id": "80f9fd8c-ab49-4b42-bc19-88f4aad88b8d",
   "metadata": {},
   "outputs": [
    {
     "name": "stdout",
     "output_type": "stream",
     "text": [
      "running add_1(1) -> 2\n",
      "running add_2(2) -> 4\n",
      "running add_3(4) -> 7\n"
     ]
    },
    {
     "data": {
      "text/plain": [
       "Model(number=7)"
      ]
     },
     "execution_count": 22,
     "metadata": {},
     "output_type": "execute_result"
    }
   ],
   "source": [
    "Model(number=1)"
   ]
  },
  {
   "cell_type": "markdown",
   "id": "ca486fbd-8d77-4162-a306-eaceae3ad6f8",
   "metadata": {},
   "source": [
    "As you can see, all three custom validators were executed in definition order, top to bottom."
   ]
  },
  {
   "cell_type": "markdown",
   "id": "408e8bd8-8ad4-441d-a9a9-1cf4f823835c",
   "metadata": {},
   "source": [
    "Technically, we can also apply the same validator to multiple fields.\n",
    "\n",
    "Suppose we have a class with some float values, and we want those floats to always be rounded to decimal points.\n",
    "\n",
    "We can easily do this with a custom validator:"
   ]
  },
  {
   "cell_type": "code",
   "execution_count": 23,
   "id": "1dd9b350-6f3f-4b2b-8f27-a3f013da5c9a",
   "metadata": {},
   "outputs": [],
   "source": [
    "class Model(BaseModel):\n",
    "    unit_cost: float\n",
    "    unit_price: float\n",
    "\n",
    "    @field_validator(\"unit_cost\", \"unit_price\")\n",
    "    @classmethod\n",
    "    def round_2(cls, value: float) -> float:\n",
    "        return round(value, 2)"
   ]
  },
  {
   "cell_type": "code",
   "execution_count": 24,
   "id": "879e6c6f-b2d2-48a0-a7ac-3df482029efb",
   "metadata": {},
   "outputs": [
    {
     "data": {
      "text/plain": [
       "Model(unit_cost=2.12, unit_price=5.99)"
      ]
     },
     "execution_count": 24,
     "metadata": {},
     "output_type": "execute_result"
    }
   ],
   "source": [
    "Model(unit_cost=2.12345, unit_price=5.9876)"
   ]
  },
  {
   "cell_type": "markdown",
   "id": "922ca491-715b-4e39-8c2f-2d3fd9a1df3b",
   "metadata": {},
   "source": [
    "If we wanted our validator to apply to all fields in the class, we could also use the special `\"*\"` indicator instead of field names:"
   ]
  },
  {
   "cell_type": "code",
   "execution_count": 25,
   "id": "a7a459d9-6a46-494d-8f24-682edb540945",
   "metadata": {},
   "outputs": [],
   "source": [
    "class Model(BaseModel):\n",
    "    unit_cost: float\n",
    "    unit_price: float\n",
    "\n",
    "    @field_validator(\"*\")\n",
    "    @classmethod\n",
    "    def round_2(cls, value: float) -> float:\n",
    "        return round(value, 2)"
   ]
  },
  {
   "cell_type": "code",
   "execution_count": 26,
   "id": "9ca271b7-d67e-4fe0-8170-7be1a62562a3",
   "metadata": {},
   "outputs": [
    {
     "data": {
      "text/plain": [
       "Model(unit_cost=2.12, unit_price=5.99)"
      ]
     },
     "execution_count": 26,
     "metadata": {},
     "output_type": "execute_result"
    }
   ],
   "source": [
    "Model(unit_cost=2.12345, unit_price=5.9876)"
   ]
  }
 ],
 "metadata": {
  "kernelspec": {
   "display_name": "Python 3 (ipykernel)",
   "language": "python",
   "name": "python3"
  },
  "language_info": {
   "codemirror_mode": {
    "name": "ipython",
    "version": 3
   },
   "file_extension": ".py",
   "mimetype": "text/x-python",
   "name": "python",
   "nbconvert_exporter": "python",
   "pygments_lexer": "ipython3",
   "version": "3.12.0"
  }
 },
 "nbformat": 4,
 "nbformat_minor": 5
}
