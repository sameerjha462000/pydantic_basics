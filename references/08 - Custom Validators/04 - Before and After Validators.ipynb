{
 "cells": [
  {
   "cell_type": "markdown",
   "id": "5af3f5ca-1af1-4e9b-b4ee-0cc3c7ecb759",
   "metadata": {},
   "source": [
    "# Combining Before and After Validators"
   ]
  },
  {
   "cell_type": "markdown",
   "id": "c0add6bc-03f4-4b41-a5ab-54300af9e317",
   "metadata": {},
   "source": [
    "We saw how to define before validators, and after validators.\n",
    "\n",
    "We can define as many before and after validators as we want, and we can also mix both before and after validators.\n",
    "\n",
    "The before validators will be executed first (bottom to top order), then the Pydantic validator, then the after validators (top to bottom)."
   ]
  },
  {
   "cell_type": "markdown",
   "id": "a0b6e775-3f4e-422e-9c0f-ee1ad5b0db0c",
   "metadata": {},
   "source": [
    "Using both before and after validators can be quite handy."
   ]
  },
  {
   "cell_type": "markdown",
   "id": "3261852a-f2d0-4209-9e82-069fa8b03382",
   "metadata": {},
   "source": [
    "Think back to our datetime example:"
   ]
  },
  {
   "cell_type": "code",
   "execution_count": 1,
   "id": "fed6b9d2-6690-4549-a9fa-9e1597d61e96",
   "metadata": {},
   "outputs": [],
   "source": [
    "from datetime import datetime\n",
    "from typing import Any\n",
    "\n",
    "import pytz\n",
    "from dateutil.parser import parse\n",
    "from pydantic import BaseModel, field_validator, ValidationError\n",
    "\n",
    "\n",
    "class Model(BaseModel):\n",
    "    dt: datetime\n",
    "\n",
    "    @field_validator(\"dt\", mode=\"before\")\n",
    "    @classmethod\n",
    "    def parse_datetime(cls, value: Any):\n",
    "        if isinstance(value, str):\n",
    "            try:\n",
    "                return parse(value)\n",
    "            except Exception as ex:\n",
    "                raise ValueError(str(ex))\n",
    "        return value"
   ]
  },
  {
   "cell_type": "markdown",
   "id": "3b36ef35-52b5-434d-b5f6-3efef41ae763",
   "metadata": {},
   "source": [
    "Here, we have a single validator that basically adds some customized parsing for strings, and leaves everything else as-is, leaving it to Pydantic to handle other types."
   ]
  },
  {
   "cell_type": "markdown",
   "id": "e43d56f8-df2f-4558-9027-ed74bececff4",
   "metadata": {},
   "source": [
    "In fact, Pydantic can also handle integer values - it will just treat it as epoch:"
   ]
  },
  {
   "cell_type": "code",
   "execution_count": 2,
   "id": "96b9056f-ec51-488e-b991-c91ea07cfe2e",
   "metadata": {},
   "outputs": [
    {
     "data": {
      "text/plain": [
       "Model(dt=datetime.datetime(1970, 1, 2, 3, 46, 40, tzinfo=TzInfo(UTC)))"
      ]
     },
     "execution_count": 2,
     "metadata": {},
     "output_type": "execute_result"
    }
   ],
   "source": [
    "Model(dt=100_000)"
   ]
  },
  {
   "cell_type": "markdown",
   "id": "39a4b8b5-b4f2-4466-9ee4-45372e7ed6f9",
   "metadata": {},
   "source": [
    "Now, if we look at what happens when we use a string:"
   ]
  },
  {
   "cell_type": "code",
   "execution_count": 3,
   "id": "6927ba2e-10fe-426b-af32-221ecbf4e255",
   "metadata": {},
   "outputs": [
    {
     "data": {
      "text/plain": [
       "Model(dt=datetime.datetime(2020, 1, 1, 15, 0))"
      ]
     },
     "execution_count": 3,
     "metadata": {},
     "output_type": "execute_result"
    }
   ],
   "source": [
    "Model(dt=\"2020/1/1 3pm\")"
   ]
  },
  {
   "cell_type": "markdown",
   "id": "887c2d94-55b9-4efe-be8d-2380ffbc435f",
   "metadata": {},
   "source": [
    "You can see that we have a naive datetime, whereas with the epoch, we ended up wit an aware datetime.\n",
    "\n",
    "There's a definite lack on consistency.\n",
    "\n",
    "Let's suppose we want to also add in some code that will convert all datetimes (naive or aware) into aware UTC times (like the example we saw in the `After Validators` video."
   ]
  },
  {
   "cell_type": "markdown",
   "id": "79a8aa22-667e-43cb-909d-bbe1af27bee0",
   "metadata": {},
   "source": [
    "We could certainly try and handle everything in the before validator - but that means we would have to handle all the various data types we ewant to support.\n",
    "\n",
    "Instead, we'll handle just the strings in the before validator, let Pydantic do its thing, then use an after validator (now that we are guaranteed the value is a datetime object) to transform our datetime object into a UTC aware datetime."
   ]
  },
  {
   "cell_type": "markdown",
   "id": "c55ebdbf-f13e-4592-8284-8de39f66aaf3",
   "metadata": {},
   "source": [
    "Recall the `make_utc` validator we used:"
   ]
  },
  {
   "cell_type": "code",
   "execution_count": 4,
   "id": "4395e39e-e2c7-4712-8d60-bee4f73920ce",
   "metadata": {},
   "outputs": [],
   "source": [
    "class Model(BaseModel):\n",
    "    dt: datetime\n",
    "\n",
    "    @field_validator(\"dt\")\n",
    "    @classmethod\n",
    "    def make_utc(cls, dt: datetime) -> datetime:\n",
    "        if dt.tzinfo is None:\n",
    "            dt = pytz.utc.localize(dt)\n",
    "        else:\n",
    "            dt = dt.astimezone(pytz.utc)\n",
    "        return dt"
   ]
  },
  {
   "cell_type": "markdown",
   "id": "fbd71611-8c29-4d58-a3f9-d0f4e11ec5dd",
   "metadata": {},
   "source": [
    "So now, we are going to combine both of those validators:"
   ]
  },
  {
   "cell_type": "code",
   "execution_count": 5,
   "id": "1b0499ca-853a-40db-891c-63a5d2f34f65",
   "metadata": {},
   "outputs": [],
   "source": [
    "class Model(BaseModel):\n",
    "    dt: datetime\n",
    "\n",
    "    @field_validator(\"dt\", mode=\"before\")\n",
    "    @classmethod\n",
    "    def parse_datetime(cls, value: Any):\n",
    "        if isinstance(value, str):\n",
    "            try:\n",
    "                return parse(value)\n",
    "            except Exception as ex:\n",
    "                raise ValueError(str(ex))\n",
    "        return value\n",
    "\n",
    "    @field_validator(\"dt\")\n",
    "    @classmethod\n",
    "    def make_utc(cls, dt: datetime) -> datetime:\n",
    "        if dt.tzinfo is None:\n",
    "            dt = pytz.utc.localize(dt)\n",
    "        else:\n",
    "            dt = dt.astimezone(pytz.utc)\n",
    "        return dt"
   ]
  },
  {
   "cell_type": "markdown",
   "id": "9f0efcd6-174b-4f63-85c6-64207ae42d35",
   "metadata": {},
   "source": [
    "This now implements exactly what we were looking for:"
   ]
  },
  {
   "cell_type": "code",
   "execution_count": 6,
   "id": "3f6e248c-12b3-46af-aa7e-a70393e42402",
   "metadata": {},
   "outputs": [
    {
     "data": {
      "text/plain": [
       "Model(dt=datetime.datetime(1970, 1, 2, 3, 46, 40, tzinfo=<UTC>))"
      ]
     },
     "execution_count": 6,
     "metadata": {},
     "output_type": "execute_result"
    }
   ],
   "source": [
    "Model(dt=100_000)"
   ]
  },
  {
   "cell_type": "code",
   "execution_count": 7,
   "id": "643228c6-a5bb-4980-906c-b4f92d6f153e",
   "metadata": {},
   "outputs": [
    {
     "data": {
      "text/plain": [
       "Model(dt=datetime.datetime(2020, 1, 1, 15, 0, tzinfo=<UTC>))"
      ]
     },
     "execution_count": 7,
     "metadata": {},
     "output_type": "execute_result"
    }
   ],
   "source": [
    "Model(dt=\"2020/1/1 3pm\")"
   ]
  },
  {
   "cell_type": "code",
   "execution_count": 8,
   "id": "24b4fa09-ce66-4f9f-8156-47f208c81701",
   "metadata": {},
   "outputs": [
    {
     "data": {
      "text/plain": [
       "Model(dt=datetime.datetime(2020, 1, 1, 8, 0, tzinfo=<UTC>))"
      ]
     },
     "execution_count": 8,
     "metadata": {},
     "output_type": "execute_result"
    }
   ],
   "source": [
    "eastern = pytz.timezone('US/Eastern')\n",
    "\n",
    "Model(dt=eastern.localize(datetime(2020, 1, 1, 3, 0, 0)))"
   ]
  },
  {
   "cell_type": "markdown",
   "id": "657d674a-3437-47be-99f3-a78db1f0397c",
   "metadata": {},
   "source": [
    "Lastly, before we finish up this video, I just want to illustrate what we discussed in the lecture video about the execution order when we have multiple mixed before and after validators."
   ]
  },
  {
   "cell_type": "code",
   "execution_count": 9,
   "id": "e46b1624-a59f-40e7-843c-7312983f9a54",
   "metadata": {},
   "outputs": [],
   "source": [
    "class Model(BaseModel):\n",
    "    number: int\n",
    "\n",
    "    @field_validator(\"number\")\n",
    "    @classmethod\n",
    "    def after_validator_1(cls, value):\n",
    "        print(\"after_validator_1\")\n",
    "        return value\n",
    "        \n",
    "    @field_validator(\"number\")\n",
    "    @classmethod\n",
    "    def after_validator_2(cls, value):\n",
    "        print(\"after_validator_2\")\n",
    "        return value\n",
    "        \n",
    "    @field_validator(\"number\", mode=\"before\")\n",
    "    @classmethod\n",
    "    def before_validator_1(cls, value):\n",
    "        print(\"before_validator_1\")\n",
    "        return value\n",
    "        \n",
    "    @field_validator(\"number\")\n",
    "    @classmethod\n",
    "    def after_validator_3(cls, value):\n",
    "        print(\"after_validator_3\")\n",
    "        return value\n",
    "\n",
    "    @field_validator(\"number\", mode=\"before\")\n",
    "    @classmethod\n",
    "    def before_validator_2(cls, value):\n",
    "        print(\"before_validator_2\")\n",
    "        return value"
   ]
  },
  {
   "cell_type": "code",
   "execution_count": 10,
   "id": "d6fa0cec-9082-41bb-b58e-ce1066c5c5c5",
   "metadata": {},
   "outputs": [
    {
     "name": "stdout",
     "output_type": "stream",
     "text": [
      "before_validator_2\n",
      "before_validator_1\n",
      "after_validator_1\n",
      "after_validator_2\n",
      "after_validator_3\n"
     ]
    },
    {
     "data": {
      "text/plain": [
       "Model(number=10)"
      ]
     },
     "execution_count": 10,
     "metadata": {},
     "output_type": "execute_result"
    }
   ],
   "source": [
    "Model(number=10)"
   ]
  },
  {
   "cell_type": "code",
   "execution_count": null,
   "id": "4c699546-eb1c-472d-82b4-7fff9fcad0e3",
   "metadata": {},
   "outputs": [],
   "source": []
  }
 ],
 "metadata": {
  "kernelspec": {
   "display_name": "Python 3 (ipykernel)",
   "language": "python",
   "name": "python3"
  },
  "language_info": {
   "codemirror_mode": {
    "name": "ipython",
    "version": 3
   },
   "file_extension": ".py",
   "mimetype": "text/x-python",
   "name": "python",
   "nbconvert_exporter": "python",
   "pygments_lexer": "ipython3",
   "version": "3.12.0"
  }
 },
 "nbformat": 4,
 "nbformat_minor": 5
}
