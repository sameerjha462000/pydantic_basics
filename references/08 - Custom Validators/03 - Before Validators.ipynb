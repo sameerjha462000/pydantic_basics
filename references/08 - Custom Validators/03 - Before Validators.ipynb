{
 "cells": [
  {
   "cell_type": "markdown",
   "id": "c6087ead-a422-4c00-9565-b8ce48375882",
   "metadata": {},
   "source": [
    "# Before Validators"
   ]
  },
  {
   "cell_type": "markdown",
   "id": "44989d28-bc19-4a31-8122-85516cc4c14a",
   "metadata": {},
   "source": [
    "More often that not we run our validators after Pydantic has had first crack at the data being deserialized - what are called **after validators**.\n",
    "\n",
    "The main advantage of doing this, is that our validators are guaranteed that the value they receive is of the correct type and has been validated to the extent that we specified in the model.\n",
    "\n",
    "Sometimes, however, we want to intercept the data **before** Pydantic runs its own validators - these are called \"before validators\".\n",
    "\n",
    "The reason for doing this is when we need to customize the deserialization process before Pydantic does it's own validation."
   ]
  },
  {
   "cell_type": "markdown",
   "id": "430e162c-e901-4eea-ad13-4a805ecfec44",
   "metadata": {},
   "source": [
    "For example, if we have a model with a datetime field, Pydantic's coercion of strings to datetime will work as long as the string is in a specific ISO format."
   ]
  },
  {
   "cell_type": "code",
   "execution_count": 1,
   "id": "82386f2a-d5bd-48e1-9533-3fbeba1cc0d3",
   "metadata": {},
   "outputs": [],
   "source": [
    "from datetime import datetime\n",
    "\n",
    "from pydantic import BaseModel, field_validator, ValidationError"
   ]
  },
  {
   "cell_type": "code",
   "execution_count": 2,
   "id": "d598d9c4-7fdb-467a-a63e-faecfb3d4f88",
   "metadata": {},
   "outputs": [],
   "source": [
    "class Model(BaseModel):\n",
    "    dt: datetime"
   ]
  },
  {
   "cell_type": "code",
   "execution_count": 3,
   "id": "42f2bfec-a070-49d7-aa13-063ad2371b2a",
   "metadata": {},
   "outputs": [
    {
     "data": {
      "text/plain": [
       "Model(dt=datetime.datetime(2020, 1, 1, 12, 0))"
      ]
     },
     "execution_count": 3,
     "metadata": {},
     "output_type": "execute_result"
    }
   ],
   "source": [
    "Model(dt=\"2020-01-01T12:00:00\")"
   ]
  },
  {
   "cell_type": "code",
   "execution_count": 4,
   "id": "8a2ae75f-22a4-4d4a-a2e9-4554ed4bcd21",
   "metadata": {},
   "outputs": [
    {
     "data": {
      "text/plain": [
       "Model(dt=datetime.datetime(2020, 1, 1, 12, 0, tzinfo=TzInfo(UTC)))"
      ]
     },
     "execution_count": 4,
     "metadata": {},
     "output_type": "execute_result"
    }
   ],
   "source": [
    "Model(dt=\"2020-01-01T12:00:00Z\")"
   ]
  },
  {
   "cell_type": "markdown",
   "id": "f5bb03fd-9ed7-4666-a035-88e933ceda4b",
   "metadata": {},
   "source": [
    "However, none of these will work:"
   ]
  },
  {
   "cell_type": "code",
   "execution_count": 5,
   "id": "083434f4-1226-44e3-9ec3-cef7b072b60f",
   "metadata": {},
   "outputs": [
    {
     "name": "stdout",
     "output_type": "stream",
     "text": [
      "1 validation error for Model\n",
      "dt\n",
      "  Input should be a valid datetime, invalid date separator, expected `-` [type=datetime_parsing, input_value='2020/1/1 3:00pm', input_type=str]\n",
      "    For further information visit https://errors.pydantic.dev/2.5/v/datetime_parsing\n"
     ]
    }
   ],
   "source": [
    "try:\n",
    "    Model(dt=\"2020/1/1 3:00pm\")\n",
    "except ValidationError as ex:\n",
    "    print(ex)"
   ]
  },
  {
   "cell_type": "code",
   "execution_count": 6,
   "id": "72edd3be-9078-47cb-8660-7cb80eff6ba7",
   "metadata": {},
   "outputs": [
    {
     "name": "stdout",
     "output_type": "stream",
     "text": [
      "1 validation error for Model\n",
      "dt\n",
      "  Input should be a valid datetime, invalid character in year [type=datetime_parsing, input_value='Jan 1, 2020 3:00pm', input_type=str]\n",
      "    For further information visit https://errors.pydantic.dev/2.5/v/datetime_parsing\n"
     ]
    }
   ],
   "source": [
    "try:\n",
    "    Model(dt=\"Jan 1, 2020 3:00pm\")\n",
    "except ValidationError as ex:\n",
    "    print(ex)"
   ]
  },
  {
   "cell_type": "markdown",
   "id": "3b637c67-26d1-400b-9c1b-1faf27e04c3b",
   "metadata": {},
   "source": [
    "We can write our own custom validator to basically deserialize these strings, but we cannot use an **after** validator, since Pydantic's serializers will raise a validation error before our custom validator is executed."
   ]
  },
  {
   "cell_type": "markdown",
   "id": "9b82e796-fdf2-4a42-90bf-11c9603dd3f3",
   "metadata": {},
   "source": [
    "And so, we can use a **before** validator."
   ]
  },
  {
   "cell_type": "markdown",
   "id": "26c703e7-05f9-480a-a8d1-7cbba22ba634",
   "metadata": {},
   "source": [
    "Let's first write some Python code that will be able to parse these various date strings into proper datetime objects.\n",
    "\n",
    "We'll use the `python-dateutil` 3rd party library to do this.\n",
    "\n",
    "You'll need to install in in your virtual environment, and docs for that library are located [here](https://github.com/dateutil/dateutil)"
   ]
  },
  {
   "cell_type": "markdown",
   "id": "024d3183-274d-47df-b97d-61702eb171c5",
   "metadata": {},
   "source": [
    "In particular, we'll use that library's parser."
   ]
  },
  {
   "cell_type": "code",
   "execution_count": 7,
   "id": "0fa5932d-95c3-4c07-9eba-7c592242672a",
   "metadata": {},
   "outputs": [],
   "source": [
    "from dateutil.parser import parse"
   ]
  },
  {
   "cell_type": "code",
   "execution_count": 8,
   "id": "db497f22-c3cf-4b47-94e4-0ccd2a6d0824",
   "metadata": {},
   "outputs": [
    {
     "data": {
      "text/plain": [
       "datetime.datetime(2020, 1, 1, 15, 0)"
      ]
     },
     "execution_count": 8,
     "metadata": {},
     "output_type": "execute_result"
    }
   ],
   "source": [
    "parse(\"2020/1/1 3pm\")"
   ]
  },
  {
   "cell_type": "code",
   "execution_count": 9,
   "id": "b4231b68-bc19-4c03-b232-a4434c80d1ec",
   "metadata": {},
   "outputs": [
    {
     "data": {
      "text/plain": [
       "datetime.datetime(2020, 1, 1, 15, 0)"
      ]
     },
     "execution_count": 9,
     "metadata": {},
     "output_type": "execute_result"
    }
   ],
   "source": [
    "parse(\"Jan 1, 2020 3pm\")"
   ]
  },
  {
   "cell_type": "markdown",
   "id": "67978d41-948b-4a40-9965-4d462c526427",
   "metadata": {},
   "source": [
    "However, the function will only work if passed a string, not a datetime object:"
   ]
  },
  {
   "cell_type": "code",
   "execution_count": 10,
   "id": "f53a9c53-eb87-4ca5-bcf1-1b4cdfa2cf09",
   "metadata": {},
   "outputs": [
    {
     "name": "stdout",
     "output_type": "stream",
     "text": [
      "Parser must be a string or character stream, not datetime\n"
     ]
    }
   ],
   "source": [
    "try:\n",
    "    parse(datetime(2020, 1, 1, 15, 0, 0))\n",
    "except TypeError as ex:\n",
    "    print(ex)"
   ]
  },
  {
   "cell_type": "markdown",
   "id": "6d180715-19e6-4140-88e5-1f83ec082a56",
   "metadata": {},
   "source": [
    "So, when we use our before validator, we'll receive the raw value, which could be a string, a datetime object, or any other type of object that is passed in.  \n",
    "\n",
    "We'll have to account for that in our validator."
   ]
  },
  {
   "cell_type": "markdown",
   "id": "943d711f-50f1-45e5-811d-d91444484ff5",
   "metadata": {},
   "source": [
    "Defining a **before** validator, is done the same was as an **after** validator, we just have to add an argument to indicate the validator is a **before** validator *the default is an **after** validator)."
   ]
  },
  {
   "cell_type": "markdown",
   "id": "dddd1fc1-2d22-4ad0-b397-cf933845ec75",
   "metadata": {},
   "source": [
    "Technically we don't have to return the final (model) type from our validator, since the Pydantic validators will run after, but we could if we wanted to. In this case, we're going to attempt to parse the value if it is a string, otherwise we'll just forward the value, whatever type it is, and let Pydantic handle non-string input values."
   ]
  },
  {
   "cell_type": "code",
   "execution_count": 11,
   "id": "2f91436b-1eac-446f-9647-137ce1666108",
   "metadata": {},
   "outputs": [],
   "source": [
    "from typing import Any\n",
    "\n",
    "\n",
    "class Model(BaseModel):\n",
    "    dt: datetime\n",
    "\n",
    "    @field_validator(\"dt\", mode=\"before\")\n",
    "    @classmethod\n",
    "    def parse_datetime(cls, value: Any):\n",
    "        if isinstance(value, str):\n",
    "            print(\"parsing string\")\n",
    "            try:\n",
    "                return parse(value)\n",
    "            except Exception as ex:\n",
    "                raise ValueError(str(ex))\n",
    "        print(\"pass through...\")\n",
    "        return value"
   ]
  },
  {
   "cell_type": "code",
   "execution_count": 12,
   "id": "cd1233cb-9143-4fb9-b48c-55b19e178940",
   "metadata": {},
   "outputs": [
    {
     "name": "stdout",
     "output_type": "stream",
     "text": [
      "parsing string\n"
     ]
    },
    {
     "data": {
      "text/plain": [
       "Model(dt=datetime.datetime(2020, 1, 1, 15, 0))"
      ]
     },
     "execution_count": 12,
     "metadata": {},
     "output_type": "execute_result"
    }
   ],
   "source": [
    "Model(dt=\"2020/1/1 3pm\")"
   ]
  },
  {
   "cell_type": "markdown",
   "id": "d93c372b-1108-4259-8f52-94e87f58eff4",
   "metadata": {},
   "source": [
    "Any other data type will be passed through our custom validator as-is, and then handled by Pydantic's validators:"
   ]
  },
  {
   "cell_type": "code",
   "execution_count": 13,
   "id": "0e3c7513-5085-44ea-a4bc-01053a0a0f73",
   "metadata": {},
   "outputs": [
    {
     "name": "stdout",
     "output_type": "stream",
     "text": [
      "pass through...\n"
     ]
    },
    {
     "data": {
      "text/plain": [
       "Model(dt=datetime.datetime(2020, 1, 1, 0, 0))"
      ]
     },
     "execution_count": 13,
     "metadata": {},
     "output_type": "execute_result"
    }
   ],
   "source": [
    "Model(dt=datetime(2020, 1, 1))"
   ]
  },
  {
   "cell_type": "code",
   "execution_count": 14,
   "id": "191cccdd-f262-4cb3-a42f-ed23a1c078a1",
   "metadata": {},
   "outputs": [
    {
     "name": "stdout",
     "output_type": "stream",
     "text": [
      "pass through...\n",
      "1 validation error for Model\n",
      "dt\n",
      "  Input should be a valid datetime [type=datetime_type, input_value=[1, 2, 3], input_type=list]\n",
      "    For further information visit https://errors.pydantic.dev/2.5/v/datetime_type\n"
     ]
    }
   ],
   "source": [
    "try:\n",
    "    Model(dt=[1, 2, 3])\n",
    "except ValidationError as ex:\n",
    "    print(ex)"
   ]
  },
  {
   "cell_type": "markdown",
   "id": "55e586cd-07fa-4d2c-86b9-eb7cc36e2309",
   "metadata": {},
   "source": [
    "So, just keep in mind, with **before** validators, our validator receives the **raw** value as it was received from the data being deserialized, or from a previous before validator if there was one."
   ]
  },
  {
   "cell_type": "markdown",
   "id": "76f720a5-49d1-466e-bf22-a1f7196421d2",
   "metadata": {},
   "source": [
    "We can perform any type of validation, or transformation we want, and return a value. Once it's returned, the next before validator is excecuted, and if none are present, Pydantic will then take over the rest of the validation, followed by after validators (if any)."
   ]
  },
  {
   "cell_type": "markdown",
   "id": "d3830ee9-d924-48a0-a17d-538a8c12a246",
   "metadata": {},
   "source": [
    "One last thing to look at is the order of execution when we have multiple before validators.\n",
    "\n",
    "Remember from the lecture video, we said that Pydantic will execute before validators from bottom to top of the definition order.\n",
    "\n",
    "Let's take a look at that quickly:"
   ]
  },
  {
   "cell_type": "code",
   "execution_count": 15,
   "id": "919ebf80-13b0-4bce-8b8d-f93c7cd0eb98",
   "metadata": {},
   "outputs": [],
   "source": [
    "class Model(BaseModel):\n",
    "    number: int\n",
    "\n",
    "    @field_validator(\"number\", mode=\"before\")\n",
    "    @classmethod\n",
    "    def validator_1(cls, value):\n",
    "        print(\"running validator_1\")\n",
    "        return value\n",
    "\n",
    "    @field_validator(\"number\", mode=\"before\")\n",
    "    @classmethod\n",
    "    def validator_2(cls, value):\n",
    "        print(\"running validator_2\")\n",
    "        return value\n",
    "\n",
    "    @field_validator(\"number\", mode=\"before\")\n",
    "    @classmethod\n",
    "    def validator_3(cls, value):\n",
    "        print(\"running validator_3\")\n",
    "        return value\n",
    "\n",
    "    "
   ]
  },
  {
   "cell_type": "code",
   "execution_count": 16,
   "id": "55f46f3e-0ace-4c1a-8e74-e98c3bfbff4d",
   "metadata": {},
   "outputs": [
    {
     "name": "stdout",
     "output_type": "stream",
     "text": [
      "running validator_3\n",
      "running validator_2\n",
      "running validator_1\n"
     ]
    },
    {
     "data": {
      "text/plain": [
       "Model(number=1)"
      ]
     },
     "execution_count": 16,
     "metadata": {},
     "output_type": "execute_result"
    }
   ],
   "source": [
    "Model(number=1)"
   ]
  },
  {
   "cell_type": "markdown",
   "id": "57f61e1f-6583-45bc-bff1-8dd65d7dbd77",
   "metadata": {},
   "source": [
    "As you can see, the order is bottom to top."
   ]
  },
  {
   "cell_type": "code",
   "execution_count": null,
   "id": "21f46bbc-5408-4820-aecd-eaebed7fe766",
   "metadata": {},
   "outputs": [],
   "source": []
  }
 ],
 "metadata": {
  "kernelspec": {
   "display_name": "Python 3 (ipykernel)",
   "language": "python",
   "name": "python3"
  },
  "language_info": {
   "codemirror_mode": {
    "name": "ipython",
    "version": 3
   },
   "file_extension": ".py",
   "mimetype": "text/x-python",
   "name": "python",
   "nbconvert_exporter": "python",
   "pygments_lexer": "ipython3",
   "version": "3.12.0"
  }
 },
 "nbformat": 4,
 "nbformat_minor": 5
}
