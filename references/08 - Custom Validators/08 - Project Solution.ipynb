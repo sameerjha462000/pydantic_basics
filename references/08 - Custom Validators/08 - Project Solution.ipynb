{
 "cells": [
  {
   "cell_type": "markdown",
   "id": "2a7b0e24-f660-4c8d-8c03-5366b1520c4f",
   "metadata": {},
   "source": [
    "# Project with Solution (Section 8)"
   ]
  },
  {
   "cell_type": "markdown",
   "id": "f235ad0f-30f0-4be2-ad79-e04eee7952e9",
   "metadata": {
    "jp-MarkdownHeadingCollapsed": true
   },
   "source": [
    "## Project Specs"
   ]
  },
  {
   "cell_type": "markdown",
   "id": "7bea144a-d1d5-41e6-9220-6fb905bedb00",
   "metadata": {},
   "source": [
    "This is where we left off in the previous section project:"
   ]
  },
  {
   "cell_type": "code",
   "execution_count": 1,
   "id": "122b246f-1766-417c-9b8d-b1a2c5845375",
   "metadata": {},
   "outputs": [],
   "source": [
    "from datetime import date\n",
    "from enum import Enum\n",
    "from typing import Annotated, TypeVar\n",
    "from uuid import uuid4\n",
    "from pydantic import BaseModel, ConfigDict, Field, field_serializer\n",
    "from pydantic.alias_generators import to_camel\n",
    "from pydantic import UUID4\n",
    "\n",
    "\n",
    "class AutomobileType(Enum):\n",
    "    sedan = \"Sedan\"\n",
    "    coupe = \"Coupe\"\n",
    "    convertible = \"Convertible\"\n",
    "    suv = \"SUV\"\n",
    "    truck = \"Truck\"\n",
    "\n",
    "\n",
    "T = TypeVar('T')\n",
    "BoundedString = Annotated[str, Field(min_length=2, max_length=50)]\n",
    "BoundedList = Annotated[list[T], Field(min_length=1, max_length=5)]\n",
    "\n",
    "\n",
    "class Automobile(BaseModel):\n",
    "    model_config = ConfigDict(\n",
    "        extra=\"forbid\",\n",
    "        str_strip_whitespace=True,\n",
    "        validate_default=True,\n",
    "        validate_assignment=True,\n",
    "        alias_generator=to_camel,\n",
    "    )\n",
    "\n",
    "    id_: UUID4 | None = Field(alias=\"id\", default_factory=uuid4) \n",
    "    manufacturer: BoundedString\n",
    "    series_name: BoundedString\n",
    "    type_: AutomobileType = Field(alias=\"type\")\n",
    "    is_electric: bool = False\n",
    "    manufactured_date: date = Field(validation_alias=\"completionDate\", ge=date(1980, 1, 1))\n",
    "    base_msrp_usd: float = Field(\n",
    "        validation_alias=\"msrpUSD\", \n",
    "        serialization_alias=\"baseMSRPUSD\"\n",
    "    )\n",
    "    top_features: BoundedList[BoundedString] | None = None\n",
    "    vin: BoundedString\n",
    "    number_of_doors: int = Field(\n",
    "        default=4, \n",
    "        validation_alias=\"doors\",\n",
    "        ge=2,\n",
    "        le=4,\n",
    "        multiple_of=2,\n",
    "    )\n",
    "    registration_country: BoundedString | None = None\n",
    "    license_plate: BoundedString | None = None\n",
    "\n",
    "    @field_serializer(\"manufactured_date\", when_used=\"json-unless-none\")\n",
    "    def serialize_date(self, value: date) -> str:\n",
    "        return value.strftime(\"%Y/%m/%d\")"
   ]
  },
  {
   "cell_type": "markdown",
   "id": "a2412d56-d151-4ba8-9365-3455c7199257",
   "metadata": {},
   "source": [
    "There are two main changes we are going to make on our model.\n",
    "\n",
    "First, we want to add an additional field to capture when an automobile was registered. To do so add a field named `registration_date` that is implemented as follows:\n",
    "- place it right after `registration_country` in the model\n",
    "- if should be a `date` object\n",
    "- it should be optional and default to `None`\n",
    "- it should deserialize from and serialize to the camel case version of the field name\n",
    "- if cannot be earlier than the `manufactured_date`\n",
    "- just like `manufactured_date` it should serialize the data to a `YYYY/MM/DD` format for JSON serialization. (Hint: you do not need to define a second serializer for that field! The syntax is the same as what I showed you when aplying the same decorator validator to multiple fields)\n",
    "\n",
    "\n",
    "Secondly, we want to ensure that the `registration_country` only allows values from a pre-determined list of countries.\n",
    "\n",
    "We are not going to use an enum for this, as there would simply be too many values. Instead we are going to validate the country name against a \"database\".\n",
    "\n",
    "For this exercise we are not going to use an actual database, instead you can use the dictionary provided below. The dictionary keys are going to become the accepted \"input\" value for country names, and each key's value contains a tuple consisting of the country name (properly formatted), and the 3 character country code (we won't use the country code right now, but we will later).\n",
    "\n",
    "Create a custom validator for `registration_country` that validates the data being deserialized is one of the keys in that dictionary, and replace the deserialized value with the country name from the first name in the tuple.\n",
    "\n",
    "For example, if the input data contains:\n",
    "```\n",
    "{\n",
    "    ...,\n",
    "    \"registrationCountry\": \"UK\",\n",
    "    ...\n",
    "}\n",
    "```\n",
    "then, since our \"database\" gives us this info:\n",
    "```\n",
    "\"uk\": (\"United Kingdom\", \"GBR\")\n",
    "```\n",
    "the deserialized value in our model should become `United Kingdom`. "
   ]
  },
  {
   "cell_type": "markdown",
   "id": "605a55d9-a2f5-42d4-aa3d-12830ab6f73f",
   "metadata": {},
   "source": [
    "Your validator should validate a country name based on the lower-cased and stripped version of the string - i.e. input data such as `\"UK\"`, `\"Uk\"`, `\"uk \"` should all end up being matched with the key `\"uk\"` in the database.\n",
    "\n",
    "Use an annotated type to do this - name your new annotated type `Country`."
   ]
  },
  {
   "cell_type": "code",
   "execution_count": 2,
   "id": "dae58a72-0939-471a-aa68-d0783b1f2553",
   "metadata": {},
   "outputs": [],
   "source": [
    "countries = {\n",
    "    \"australia\": (\"Australia\", \"AUS\"),\n",
    "    \"canada\": (\"Canada\", \"CAN\"),\n",
    "    \"china\": (\"China\", \"CHN\"),\n",
    "    \"france\": (\"France\", \"FRA\"),\n",
    "    \"germany\": (\"Germany\", \"DEU\"),\n",
    "    \"india\": (\"India\", \"IND\"),\n",
    "    \"mexico\": (\"Mexico\", \"MEX\"),\n",
    "    \"norway\": (\"Norway\", \"NOR\"),\n",
    "    \"pakistan\": (\"Pakistan\", \"PAK\"),\n",
    "    \"san marino\": (\"San Marino\", \"SMR\"),\n",
    "    \"sanmarino\": (\"San Marino\", \"SMR\"),\n",
    "    \"spain\": (\"Spain\", \"ESP\"),\n",
    "    \"sweden\": (\"Sweden\", \"SWE\"),\n",
    "    \"united kingdom\": (\"United Kingdom\", \"GBR\"),\n",
    "    \"uk\": (\"United Kingdom\", \"GBR\"),\n",
    "    \"great britain\": (\"United Kingdom\", \"GBR\"),\n",
    "    \"britain\": (\"United Kingdom\", \"GBR\"),\n",
    "    \"us\": (\"United States of America\", \"USA\"),\n",
    "    \"united states\": (\"United States of America\", \"USA\"),\n",
    "    \"usa\": (\"United States of America\", \"USA\"),\n",
    "}"
   ]
  },
  {
   "cell_type": "markdown",
   "id": "844b29b8-5007-4e48-8eb3-2c96cb2828bf",
   "metadata": {},
   "source": [
    "I obtained this list by selecting a small portion of the data available \n",
    "here: [https://www.iban.com/country-codes](https://www.iban.com/country-codes).\n",
    "\n",
    "Feel free to add yourself in the list if you're not already!"
   ]
  },
  {
   "cell_type": "markdown",
   "id": "c76ccc8f-983c-4bb4-93e6-67548fb3807e",
   "metadata": {},
   "source": [
    "Here is a sample data input and serialized output (dict and JSON):"
   ]
  },
  {
   "cell_type": "code",
   "execution_count": 3,
   "id": "72e4ca15-1520-41a9-94b1-09afe11b7839",
   "metadata": {},
   "outputs": [],
   "source": [
    "from uuid import UUID\n",
    "\n",
    "data = {\n",
    "    \"id\": \"c4e60f4a-3c7f-4da5-9b3f-07aee50b23e7\",\n",
    "    \"manufacturer\": \"BMW\",\n",
    "    \"seriesName\": \"M4 Competition xDrive\",\n",
    "    \"type\": \"Convertible\",\n",
    "    \"isElectric\": False,\n",
    "    \"completionDate\": \"2023-01-01\",\n",
    "    \"msrpUSD\": 93_300,\n",
    "    \"topFeatures\": [\"6 cylinders\", \"all-wheel drive\", \"convertible\"],\n",
    "    \"vin\": \"1234567890\",\n",
    "    \"doors\": 2,\n",
    "    \"registrationCountry\": \"us\",\n",
    "    \"registrationDate\": \"2023-06-01\",\n",
    "    \"licensePlate\": \"AAA-BBB\"\n",
    "}\n",
    "\n",
    "expected_by_alias = {\n",
    "    'id': UUID('c4e60f4a-3c7f-4da5-9b3f-07aee50b23e7'),\n",
    "    'manufacturer': 'BMW',\n",
    "    'seriesName': 'M4 Competition xDrive',\n",
    "    'type': AutomobileType.convertible,\n",
    "    'isElectric': False,\n",
    "    'manufacturedDate': date(2023, 1, 1),\n",
    "    'baseMSRPUSD': 93300.0,\n",
    "    'topFeatures': ['6 cylinders', 'all-wheel drive', 'convertible'],\n",
    "    'vin': '1234567890',\n",
    "    'numberOfDoors': 2,\n",
    "    'registrationCountry': 'United States of America',\n",
    "    'registrationDate': date(2023, 6, 1),\n",
    "    'licensePlate': 'AAA-BBB'\n",
    "}\n",
    "\n",
    "expected_json_by_alias = '{\"id\":\"c4e60f4a-3c7f-4da5-9b3f-07aee50b23e7\",\"manufacturer\":\"BMW\",\"seriesName\":\"M4 Competition xDrive\",\"type\":\"Convertible\",\"isElectric\":false,\"manufacturedDate\":\"2023/01/01\",\"baseMSRPUSD\":93300.0,\"topFeatures\":[\"6 cylinders\",\"all-wheel drive\",\"convertible\"],\"vin\":\"1234567890\",\"numberOfDoors\":2,\"registrationCountry\":\"United States of America\",\"registrationDate\":\"2023/06/01\",\"licensePlate\":\"AAA-BBB\"}'"
   ]
  },
  {
   "cell_type": "markdown",
   "id": "77802a0d-21a3-4ad0-a299-97a3fe9603e8",
   "metadata": {},
   "source": [
    "Don't forget to also test with invalid data for registration date and country name!"
   ]
  },
  {
   "cell_type": "markdown",
   "id": "d29f29e8-8c75-48e0-9fdb-b1f05ccf9b20",
   "metadata": {
    "jp-MarkdownHeadingCollapsed": true
   },
   "source": [
    "## Solution"
   ]
  },
  {
   "cell_type": "markdown",
   "id": "858eed14-f284-4c6b-9f81-f7cb40aa344b",
   "metadata": {},
   "source": [
    "We're going to write a lookup function that will return the country name and code given an input - we'll also perform a case-insensitive search, and strip our string (in case it's not already)."
   ]
  },
  {
   "cell_type": "markdown",
   "id": "b7c3f402-2d8f-4ec7-9391-3ab1a30bd0ee",
   "metadata": {},
   "source": [
    "I am going to pre-create a list of valid country names (based on the `countries` dictionary, so that I can return that information when country validation fails. I am not putting this code into my validator since i do not want to incur the cost of re-generating that list every time the validator is executed."
   ]
  },
  {
   "cell_type": "code",
   "execution_count": 4,
   "id": "67d92766-d7c3-4166-a824-0f5a6b2c7641",
   "metadata": {},
   "outputs": [
    {
     "data": {
      "text/plain": [
       "['australia',\n",
       " 'britain',\n",
       " 'canada',\n",
       " 'china',\n",
       " 'france',\n",
       " 'germany',\n",
       " 'great britain',\n",
       " 'india',\n",
       " 'mexico',\n",
       " 'norway',\n",
       " 'pakistan',\n",
       " 'san marino',\n",
       " 'sanmarino',\n",
       " 'spain',\n",
       " 'sweden',\n",
       " 'uk',\n",
       " 'united kingdom',\n",
       " 'united states',\n",
       " 'us',\n",
       " 'usa']"
      ]
     },
     "execution_count": 4,
     "metadata": {},
     "output_type": "execute_result"
    }
   ],
   "source": [
    "valid_country_names = sorted(countries.keys())\n",
    "valid_country_names"
   ]
  },
  {
   "cell_type": "code",
   "execution_count": 5,
   "id": "ef16f276-b581-4216-aae1-e8ea000dd70f",
   "metadata": {},
   "outputs": [],
   "source": [
    "def lookup_country(name: str) -> tuple[str, str]:\n",
    "    name = name.strip().casefold()\n",
    "    \n",
    "    try:\n",
    "        return countries[name]\n",
    "    except KeyError:\n",
    "        raise ValueError(\n",
    "            \"Unknown country name. \"\n",
    "            f\"Country name must be one of: {','.join(valid_country_names)}\"\n",
    "        )"
   ]
  },
  {
   "cell_type": "markdown",
   "id": "65a29893-4c40-45fa-b6b3-2ee59b4c3b04",
   "metadata": {},
   "source": [
    "Now let's create an annotated type for countries:"
   ]
  },
  {
   "cell_type": "code",
   "execution_count": 6,
   "id": "9dcfd9b7-b1a5-4b05-b365-6f55dac4e145",
   "metadata": {},
   "outputs": [],
   "source": [
    "from pydantic import AfterValidator\n",
    "\n",
    "Country = Annotated[str, AfterValidator(lambda name: lookup_country(name)[0])]"
   ]
  },
  {
   "cell_type": "markdown",
   "id": "5174952a-e8e4-4fd7-a68d-5e68541d2d3b",
   "metadata": {},
   "source": [
    "And now, let's use it in our model:"
   ]
  },
  {
   "cell_type": "code",
   "execution_count": 7,
   "id": "49078084-716f-4a49-b4c3-e0006fbb2493",
   "metadata": {},
   "outputs": [],
   "source": [
    "class Automobile(BaseModel):\n",
    "    model_config = ConfigDict(\n",
    "        extra=\"forbid\",\n",
    "        str_strip_whitespace=True,\n",
    "        validate_default=True,\n",
    "        validate_assignment=True,\n",
    "        alias_generator=to_camel,\n",
    "    )\n",
    "\n",
    "    id_: UUID4 | None = Field(alias=\"id\", default_factory=uuid4) \n",
    "    manufacturer: BoundedString\n",
    "    series_name: BoundedString\n",
    "    type_: AutomobileType = Field(alias=\"type\")\n",
    "    is_electric: bool = False\n",
    "    manufactured_date: date = Field(validation_alias=\"completionDate\", ge=date(1980, 1, 1))\n",
    "    base_msrp_usd: float = Field(\n",
    "        validation_alias=\"msrpUSD\", \n",
    "        serialization_alias=\"baseMSRPUSD\"\n",
    "    )\n",
    "    top_features: BoundedList[BoundedString] | None = None\n",
    "    vin: BoundedString\n",
    "    number_of_doors: int = Field(\n",
    "        default=4, \n",
    "        validation_alias=\"doors\",\n",
    "        ge=2,\n",
    "        le=4,\n",
    "        multiple_of=2,\n",
    "    )\n",
    "    registration_country: Country | None = None\n",
    "    registration_date: date | None = None\n",
    "    license_plate: BoundedString | None = None\n",
    "\n",
    "    @field_serializer(\"manufactured_date\", \"registration_date\", when_used=\"json-unless-none\")\n",
    "    def serialize_date(self, value: date) -> str:\n",
    "        return value.strftime(\"%Y/%m/%d\")"
   ]
  },
  {
   "cell_type": "markdown",
   "id": "81e196d6-6bc1-4c8b-94ec-4bc8eefe3228",
   "metadata": {},
   "source": [
    "We still have to add a custom validator for `registration_date` that will check that this date is not earlier than the `manufactured_date`.\n",
    "\n",
    "Let's add that directly in the model now:"
   ]
  },
  {
   "cell_type": "code",
   "execution_count": 8,
   "id": "d4aa3236-b062-463b-9252-638cd10973f4",
   "metadata": {},
   "outputs": [],
   "source": [
    "from pydantic import field_validator, ValidationInfo\n",
    "\n",
    "\n",
    "class Automobile(BaseModel):\n",
    "    model_config = ConfigDict(\n",
    "        extra=\"forbid\",\n",
    "        str_strip_whitespace=True,\n",
    "        validate_default=True,\n",
    "        validate_assignment=True,\n",
    "        alias_generator=to_camel,\n",
    "    )\n",
    "\n",
    "    id_: UUID4 | None = Field(alias=\"id\", default_factory=uuid4) \n",
    "    manufacturer: BoundedString\n",
    "    series_name: BoundedString\n",
    "    type_: AutomobileType = Field(alias=\"type\")\n",
    "    is_electric: bool = False\n",
    "    manufactured_date: date = Field(validation_alias=\"completionDate\", ge=date(1980, 1, 1))\n",
    "    base_msrp_usd: float = Field(\n",
    "        validation_alias=\"msrpUSD\", \n",
    "        serialization_alias=\"baseMSRPUSD\"\n",
    "    )\n",
    "    top_features: BoundedList[BoundedString] | None = None\n",
    "    vin: BoundedString\n",
    "    number_of_doors: int = Field(\n",
    "        default=4, \n",
    "        validation_alias=\"doors\",\n",
    "        ge=2,\n",
    "        le=4,\n",
    "        multiple_of=2,\n",
    "    )\n",
    "    registration_country: Country | None = None\n",
    "    registration_date: date | None = None\n",
    "    license_plate: BoundedString | None = None\n",
    "\n",
    "    @field_serializer(\"manufactured_date\", \"registration_date\", when_used=\"json-unless-none\")\n",
    "    def serialize_date(self, value: date) -> str:\n",
    "        return value.strftime(\"%Y/%m/%d\")\n",
    "        \n",
    "    @field_validator(\"registration_date\")\n",
    "    @classmethod\n",
    "    def validate_registration_date(cls, value:date, values: ValidationInfo):\n",
    "        data = values.data\n",
    "        if \"manufactured_date\" in data and data[\"manufactured_date\"] > value:\n",
    "            raise ValueError(\"Automobile cannot be registered prior to manufacture date.\")\n",
    "        return value\n",
    "            "
   ]
  },
  {
   "cell_type": "markdown",
   "id": "24f79f52-1227-455c-9f73-63ef91e4df93",
   "metadata": {},
   "source": [
    "Let's try deserializing and serializing:"
   ]
  },
  {
   "cell_type": "code",
   "execution_count": 9,
   "id": "d1c11e05-2182-495d-9dc9-253a73a6befc",
   "metadata": {},
   "outputs": [
    {
     "data": {
      "text/plain": [
       "Automobile(id_=UUID('c4e60f4a-3c7f-4da5-9b3f-07aee50b23e7'), manufacturer='BMW', series_name='M4 Competition xDrive', type_=<AutomobileType.convertible: 'Convertible'>, is_electric=False, manufactured_date=datetime.date(2023, 1, 1), base_msrp_usd=93300.0, top_features=['6 cylinders', 'all-wheel drive', 'convertible'], vin='1234567890', number_of_doors=2, registration_country='United States of America', registration_date=datetime.date(2023, 6, 1), license_plate='AAA-BBB')"
      ]
     },
     "execution_count": 9,
     "metadata": {},
     "output_type": "execute_result"
    }
   ],
   "source": [
    "car = Automobile.model_validate(data)\n",
    "car"
   ]
  },
  {
   "cell_type": "code",
   "execution_count": 10,
   "id": "3e102d15-b052-4a2b-9f2e-7f051346369e",
   "metadata": {},
   "outputs": [],
   "source": [
    "assert car.model_dump(by_alias=True) == expected_by_alias"
   ]
  },
  {
   "cell_type": "code",
   "execution_count": 11,
   "id": "d779cbf8-00bf-4cae-a1e5-f0c10b124e6f",
   "metadata": {},
   "outputs": [],
   "source": [
    "assert car.model_dump_json(by_alias=True) == expected_json_by_alias"
   ]
  },
  {
   "cell_type": "markdown",
   "id": "77244020-abe0-4858-84a4-c803f1a3832a",
   "metadata": {},
   "source": [
    "Let's test out the validation features: a registration date that's too early, and an unsupported country name:"
   ]
  },
  {
   "cell_type": "code",
   "execution_count": 12,
   "id": "c6276b6b-0ea7-4b3a-99e4-d1b1a95ceadc",
   "metadata": {},
   "outputs": [],
   "source": [
    "bad_data = {\n",
    "    \"id\": \"c4e60f4a-3c7f-4da5-9b3f-07aee50b23e7\",\n",
    "    \"manufacturer\": \"BMW\",\n",
    "    \"seriesName\": \"M4 Competition xDrive\",\n",
    "    \"type\": \"Convertible\",\n",
    "    \"isElectric\": False,\n",
    "    \"completionDate\": \"2023-01-01\",\n",
    "    \"msrpUSD\": 93_300,\n",
    "    \"topFeatures\": [\"6 cylinders\", \"all-wheel drive\", \"convertible\"],\n",
    "    \"vin\": \"1234567890\",\n",
    "    \"doors\": 2,\n",
    "    \"registrationCountry\": \"Lunar Colony\",\n",
    "    \"registrationDate\": \"2022-06-01\",\n",
    "    \"licensePlate\": \"AAA-BBB\"\n",
    "}"
   ]
  },
  {
   "cell_type": "code",
   "execution_count": 13,
   "id": "36d2949d-c936-4a7e-9243-87df03ee7fa5",
   "metadata": {
    "scrolled": true
   },
   "outputs": [
    {
     "name": "stdout",
     "output_type": "stream",
     "text": [
      "2 validation errors for Automobile\n",
      "registrationCountry\n",
      "  Value error, Unknown country name. Country name must be one of: australia,britain,canada,china,france,germany,great britain,india,mexico,norway,pakistan,san marino,sanmarino,spain,sweden,uk,united kingdom,united states,us,usa [type=value_error, input_value='Lunar Colony', input_type=str]\n",
      "    For further information visit https://errors.pydantic.dev/2.5/v/value_error\n",
      "registrationDate\n",
      "  Value error, Automobile cannot be registered prior to manufacture date. [type=value_error, input_value='2022-06-01', input_type=str]\n",
      "    For further information visit https://errors.pydantic.dev/2.5/v/value_error\n"
     ]
    }
   ],
   "source": [
    "from pydantic import ValidationError\n",
    "\n",
    "try:\n",
    "    Automobile.model_validate(bad_data)\n",
    "except ValidationError as ex:\n",
    "    print(ex)"
   ]
  },
  {
   "cell_type": "markdown",
   "id": "d897d6d1-7d20-45ab-8ffc-e63d255615c3",
   "metadata": {},
   "source": [
    "As a side note, so far we've always just printed out the Pydantic validation exceptions. But Pydantic's validation exceptions have a special method `.json()` that will return all the validation exceptions as a JSON object. In frameworks such as FastAPI we use this to return information to our API callers when validation fails.\n",
    "\n",
    "This method also supports an `indent` parameter - although we normally don't use it when returnin JSON from an API (we try to keep data as compact as possible), here we would want to use it so we can print a legible JSON object."
   ]
  },
  {
   "cell_type": "code",
   "execution_count": 14,
   "id": "769440b4-e05a-433e-8e30-fb8017f7e388",
   "metadata": {},
   "outputs": [],
   "source": [
    "try:\n",
    "    Automobile.model_validate(bad_data)\n",
    "except ValidationError as ex:\n",
    "    exceptions = ex.json(indent=2)"
   ]
  },
  {
   "cell_type": "code",
   "execution_count": 15,
   "id": "f6e562fe-12f5-4789-b9d1-fc64bf3a6c82",
   "metadata": {},
   "outputs": [
    {
     "name": "stdout",
     "output_type": "stream",
     "text": [
      "[\n",
      "  {\n",
      "    \"type\": \"value_error\",\n",
      "    \"loc\": [\n",
      "      \"registrationCountry\"\n",
      "    ],\n",
      "    \"msg\": \"Value error, Unknown country name. Country name must be one of: australia,britain,canada,china,france,germany,great britain,india,mexico,norway,pakistan,san marino,sanmarino,spain,sweden,uk,united kingdom,united states,us,usa\",\n",
      "    \"input\": \"Lunar Colony\",\n",
      "    \"ctx\": {\n",
      "      \"error\": \"Unknown country name. Country name must be one of: australia,britain,canada,china,france,germany,great britain,india,mexico,norway,pakistan,san marino,sanmarino,spain,sweden,uk,united kingdom,united states,us,usa\"\n",
      "    },\n",
      "    \"url\": \"https://errors.pydantic.dev/2.5/v/value_error\"\n",
      "  },\n",
      "  {\n",
      "    \"type\": \"value_error\",\n",
      "    \"loc\": [\n",
      "      \"registrationDate\"\n",
      "    ],\n",
      "    \"msg\": \"Value error, Automobile cannot be registered prior to manufacture date.\",\n",
      "    \"input\": \"2022-06-01\",\n",
      "    \"ctx\": {\n",
      "      \"error\": \"Automobile cannot be registered prior to manufacture date.\"\n",
      "    },\n",
      "    \"url\": \"https://errors.pydantic.dev/2.5/v/value_error\"\n",
      "  }\n",
      "]\n"
     ]
    }
   ],
   "source": [
    "print(exceptions)"
   ]
  },
  {
   "cell_type": "markdown",
   "id": "f04a53cd-3cac-4bed-8dcb-5790531f44cf",
   "metadata": {},
   "source": [
    "Of course, you can also get it as a Python object instead if you prefer:"
   ]
  },
  {
   "cell_type": "code",
   "execution_count": 16,
   "id": "4a5e5345-bc7b-46a1-8ecd-2fdde2cfb710",
   "metadata": {},
   "outputs": [],
   "source": [
    "try:\n",
    "    Automobile.model_validate(bad_data)\n",
    "except ValidationError as ex:\n",
    "    exceptions = ex.errors()"
   ]
  },
  {
   "cell_type": "code",
   "execution_count": 17,
   "id": "53626b88-94d4-48ed-b5bd-1b031d4f26f2",
   "metadata": {},
   "outputs": [
    {
     "data": {
      "text/plain": [
       "list"
      ]
     },
     "execution_count": 17,
     "metadata": {},
     "output_type": "execute_result"
    }
   ],
   "source": [
    "type(exceptions)"
   ]
  },
  {
   "cell_type": "code",
   "execution_count": 18,
   "id": "b33b7224-de6b-4414-95a0-6833dbf61ff5",
   "metadata": {},
   "outputs": [
    {
     "name": "stdout",
     "output_type": "stream",
     "text": [
      "[{'ctx': {'error': ValueError('Unknown country name. Country name must be one of: australia,britain,canada,china,france,germany,great britain,india,mexico,norway,pakistan,san marino,sanmarino,spain,sweden,uk,united kingdom,united states,us,usa')},\n",
      "  'input': 'Lunar Colony',\n",
      "  'loc': ('registrationCountry',),\n",
      "  'msg': 'Value error, Unknown country name. Country name must be one of: '\n",
      "         'australia,britain,canada,china,france,germany,great '\n",
      "         'britain,india,mexico,norway,pakistan,san '\n",
      "         'marino,sanmarino,spain,sweden,uk,united kingdom,united states,us,usa',\n",
      "  'type': 'value_error',\n",
      "  'url': 'https://errors.pydantic.dev/2.5/v/value_error'},\n",
      " {'ctx': {'error': ValueError('Automobile cannot be registered prior to manufacture date.')},\n",
      "  'input': '2022-06-01',\n",
      "  'loc': ('registrationDate',),\n",
      "  'msg': 'Value error, Automobile cannot be registered prior to manufacture '\n",
      "         'date.',\n",
      "  'type': 'value_error',\n",
      "  'url': 'https://errors.pydantic.dev/2.5/v/value_error'}]\n"
     ]
    }
   ],
   "source": [
    "from pprint import pprint\n",
    "\n",
    "pprint(exceptions)"
   ]
  },
  {
   "cell_type": "code",
   "execution_count": null,
   "id": "5ab518c7-6bac-4c10-948f-23dd036cca53",
   "metadata": {},
   "outputs": [],
   "source": []
  }
 ],
 "metadata": {
  "kernelspec": {
   "display_name": "Python 3 (ipykernel)",
   "language": "python",
   "name": "python3"
  },
  "language_info": {
   "codemirror_mode": {
    "name": "ipython",
    "version": 3
   },
   "file_extension": ".py",
   "mimetype": "text/x-python",
   "name": "python",
   "nbconvert_exporter": "python",
   "pygments_lexer": "ipython3",
   "version": "3.12.0"
  }
 },
 "nbformat": 4,
 "nbformat_minor": 5
}
