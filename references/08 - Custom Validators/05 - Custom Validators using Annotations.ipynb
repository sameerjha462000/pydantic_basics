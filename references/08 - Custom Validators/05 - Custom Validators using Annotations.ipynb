{
 "cells": [
  {
   "cell_type": "markdown",
   "id": "d53492ad-4a39-4677-867d-8086520d5938",
   "metadata": {},
   "source": [
    "# Custom Validators using Annotations"
   ]
  },
  {
   "cell_type": "markdown",
   "id": "5ba59da8-cd84-4689-a3fd-91dcf5e982c6",
   "metadata": {},
   "source": [
    "We saw earlier in this course how we could attach a `Field` object directly to a field:"
   ]
  },
  {
   "cell_type": "code",
   "execution_count": 1,
   "id": "16fd7470-88c5-40b7-b5ab-7af884bde7a8",
   "metadata": {},
   "outputs": [],
   "source": [
    "from pydantic import BaseModel, Field, ValidationError\n",
    "\n",
    "class Model(BaseModel):\n",
    "    number: int = Field(gt=0, lt=5)"
   ]
  },
  {
   "cell_type": "markdown",
   "id": "1693c2c5-c125-4a79-8e20-578b2c1bea8f",
   "metadata": {},
   "source": [
    "Or we could do it using an annotated type:"
   ]
  },
  {
   "cell_type": "code",
   "execution_count": 2,
   "id": "f6d2b487-85a4-4b56-bf40-197bb90dfe3b",
   "metadata": {},
   "outputs": [],
   "source": [
    "from typing import Annotated\n",
    "\n",
    "BoundedInt = Annotated[int, Field(gt=0, lt=5)]\n",
    "\n",
    "class Model(BaseModel):\n",
    "    number: BoundedInt"
   ]
  },
  {
   "cell_type": "markdown",
   "id": "1a2717a7-1aef-4817-9ebd-62b365c88c2e",
   "metadata": {},
   "source": [
    "We can do something similar with validators."
   ]
  },
  {
   "cell_type": "markdown",
   "id": "72b11f48-e1ad-4407-8692-37300fae4cfd",
   "metadata": {},
   "source": [
    "First, we define our validation function. Because we are essentially defining this function outside of a class, it is a regular function, not a class method (so we don't need that `cls` argument at all)."
   ]
  },
  {
   "cell_type": "markdown",
   "id": "fc15ea9f-4e87-4439-bfc8-9e058376b139",
   "metadata": {},
   "source": [
    "Let's do our datetime example, starting with a before validator:"
   ]
  },
  {
   "cell_type": "code",
   "execution_count": 3,
   "id": "7e0bac27-621e-4bb4-84ed-1d2feced47d4",
   "metadata": {},
   "outputs": [],
   "source": [
    "from datetime import datetime\n",
    "from typing import Any\n",
    "\n",
    "from dateutil.parser import parse\n",
    "\n",
    "def parse_datetime(value: Any):\n",
    "    if isinstance(value, str):\n",
    "        try:\n",
    "            return parse(value)\n",
    "        except Exception as ex:\n",
    "            raise ValueError(str(ex))\n",
    "    return value"
   ]
  },
  {
   "cell_type": "markdown",
   "id": "19828410-dceb-4b41-8f4d-07a61745af23",
   "metadata": {},
   "source": [
    "We now want to attach this, as a before validator, to a datetime type, using an annotation:"
   ]
  },
  {
   "cell_type": "code",
   "execution_count": 4,
   "id": "fb479e3f-87d9-449a-a01c-060300167043",
   "metadata": {},
   "outputs": [],
   "source": [
    "from pydantic import BeforeValidator"
   ]
  },
  {
   "cell_type": "code",
   "execution_count": 5,
   "id": "0ea0a712-bd30-4fae-9077-b49a3e45ed02",
   "metadata": {},
   "outputs": [],
   "source": [
    "DateTime = Annotated[datetime, BeforeValidator(parse_datetime)]"
   ]
  },
  {
   "cell_type": "markdown",
   "id": "19808b9d-38ef-438d-b9dc-be55d6b895c1",
   "metadata": {},
   "source": [
    "Now we can use this annotated type in any model:"
   ]
  },
  {
   "cell_type": "code",
   "execution_count": 6,
   "id": "95453a6e-637d-4f99-b67d-39a180d332f8",
   "metadata": {},
   "outputs": [],
   "source": [
    "class Model(BaseModel):\n",
    "    dt: DateTime"
   ]
  },
  {
   "cell_type": "code",
   "execution_count": 7,
   "id": "aa87c3ca-c415-4630-83e4-d742660b4aff",
   "metadata": {},
   "outputs": [
    {
     "data": {
      "text/plain": [
       "Model(dt=datetime.datetime(2020, 1, 1, 15, 0))"
      ]
     },
     "execution_count": 7,
     "metadata": {},
     "output_type": "execute_result"
    }
   ],
   "source": [
    "Model(dt=\"2020/1/1 3pm\")"
   ]
  },
  {
   "cell_type": "markdown",
   "id": "7ceef43e-7d92-4b2f-8a74-b179dab191db",
   "metadata": {},
   "source": [
    "We can also add the after validator we had, in the same way using annotations."
   ]
  },
  {
   "cell_type": "code",
   "execution_count": 8,
   "id": "72ebda0d-953b-4fab-bec9-cdbb0ce9ed14",
   "metadata": {},
   "outputs": [],
   "source": [
    "from pydantic import AfterValidator"
   ]
  },
  {
   "cell_type": "code",
   "execution_count": 9,
   "id": "97cb73c3-c949-4ff4-9224-db7425541a07",
   "metadata": {},
   "outputs": [],
   "source": [
    "import pytz\n",
    "\n",
    "def make_utc(dt: datetime) -> datetime:\n",
    "    if dt.tzinfo is None:\n",
    "        dt = pytz.utc.localize(dt)\n",
    "    else:\n",
    "        dt = dt.astimezone(pytz.utc)\n",
    "    return dt"
   ]
  },
  {
   "cell_type": "code",
   "execution_count": 10,
   "id": "a9e55e37-2d97-456e-933f-a39a20fe887a",
   "metadata": {},
   "outputs": [],
   "source": [
    "DateTimeUTC = Annotated[datetime, BeforeValidator(parse_datetime), AfterValidator(make_utc)]"
   ]
  },
  {
   "cell_type": "markdown",
   "id": "9017fb0c-4077-4947-95e3-6616b679254b",
   "metadata": {},
   "source": [
    "And we can use this in any model:"
   ]
  },
  {
   "cell_type": "code",
   "execution_count": 11,
   "id": "54517ef3-c8d8-4a9f-8b37-ce7dda46ff9f",
   "metadata": {},
   "outputs": [],
   "source": [
    "class Model(BaseModel):\n",
    "    dt: DateTimeUTC"
   ]
  },
  {
   "cell_type": "code",
   "execution_count": 12,
   "id": "9a4424d7-bac7-445c-b6df-28ed9cfb2646",
   "metadata": {},
   "outputs": [
    {
     "data": {
      "text/plain": [
       "Model(dt=datetime.datetime(2020, 1, 1, 15, 0, tzinfo=<UTC>))"
      ]
     },
     "execution_count": 12,
     "metadata": {},
     "output_type": "execute_result"
    }
   ],
   "source": [
    "Model(dt=\"2020/1/1 3pm\")"
   ]
  },
  {
   "cell_type": "code",
   "execution_count": 13,
   "id": "25795d03-aed3-4b06-9cba-aaef944734d7",
   "metadata": {},
   "outputs": [
    {
     "data": {
      "text/plain": [
       "Model(dt=datetime.datetime(2020, 1, 1, 8, 0, tzinfo=<UTC>))"
      ]
     },
     "execution_count": 13,
     "metadata": {},
     "output_type": "execute_result"
    }
   ],
   "source": [
    "eastern = pytz.timezone('US/Eastern')\n",
    "dt = eastern.localize(datetime(2020, 1, 1, 3, 0, 0))\n",
    "\n",
    "Model(dt=dt)"
   ]
  },
  {
   "cell_type": "markdown",
   "id": "59c7e807-9ae6-4286-92b8-5ae84b782344",
   "metadata": {},
   "source": [
    "We can also specify multiple before and after validators, which will get executed in this order:\n",
    "- right to left for before validators\n",
    "- Pydantic validator\n",
    "- after validators left to right\n",
    "\n",
    "(Ordering determined by the order in which they are listed in the annotation)"
   ]
  },
  {
   "cell_type": "code",
   "execution_count": 14,
   "id": "cd6c46f6-b6e1-4b20-ac1b-69a702377112",
   "metadata": {},
   "outputs": [],
   "source": [
    "def before_validator_1(value):\n",
    "    print(\"before_validator_1\")\n",
    "    return value\n",
    "\n",
    "def before_validator_2(value):\n",
    "    print(\"before_validator_2\")\n",
    "    return value\n",
    "    \n",
    "def before_validator_3(value):\n",
    "    print(\"before_validator_3\")\n",
    "    return value\n",
    "\n",
    "def after_validator_1(value):\n",
    "    print(\"after_validator_1\")\n",
    "    return value\n",
    "\n",
    "def after_validator_2(value):\n",
    "    print(\"after_validator_2\")\n",
    "    return value\n",
    "\n",
    "def after_validator_3(value):\n",
    "    print(\"after_validator_3\")\n",
    "    return value"
   ]
  },
  {
   "cell_type": "code",
   "execution_count": 15,
   "id": "c734b830-69e6-494a-9052-ff42b07c512b",
   "metadata": {},
   "outputs": [],
   "source": [
    "CustomType = Annotated[\n",
    "    int, \n",
    "    BeforeValidator(before_validator_1),\n",
    "    AfterValidator(after_validator_1),\n",
    "    BeforeValidator(before_validator_2),\n",
    "    AfterValidator(after_validator_2),\n",
    "    AfterValidator(after_validator_3),\n",
    "    BeforeValidator(before_validator_3),\n",
    "]"
   ]
  },
  {
   "cell_type": "code",
   "execution_count": 16,
   "id": "7a5c9768-0ce0-4cb5-9d46-1a81840ba6d0",
   "metadata": {},
   "outputs": [],
   "source": [
    "class Model(BaseModel):\n",
    "    number: CustomType"
   ]
  },
  {
   "cell_type": "code",
   "execution_count": 17,
   "id": "940c56a3-e364-4399-a263-f1221d2b2b36",
   "metadata": {},
   "outputs": [
    {
     "name": "stdout",
     "output_type": "stream",
     "text": [
      "before_validator_3\n",
      "before_validator_2\n",
      "before_validator_1\n",
      "after_validator_1\n",
      "after_validator_2\n",
      "after_validator_3\n"
     ]
    },
    {
     "data": {
      "text/plain": [
       "Model(number=10)"
      ]
     },
     "execution_count": 17,
     "metadata": {},
     "output_type": "execute_result"
    }
   ],
   "source": [
    "Model(number=10)"
   ]
  },
  {
   "cell_type": "markdown",
   "id": "d886899b-7b0f-4409-ba6a-9e8778336bfc",
   "metadata": {},
   "source": [
    "Let's look at another example of using annotations for validators."
   ]
  },
  {
   "cell_type": "markdown",
   "id": "fd3c2468-2c3b-42c9-a887-c63698ad0bf7",
   "metadata": {},
   "source": [
    "Suppose we want to define a field that is a list, of some type, that only contains unique elements.\n",
    "\n",
    "We'll want to make it reusable, so we'll implement this using annotations.\n",
    "\n",
    "First, we'll start with an annotated type for just integers, then we'll use the same technique I showed you earlier with TypeVar to extend this to arbitrary types."
   ]
  },
  {
   "cell_type": "markdown",
   "id": "5402b7cf-5e3c-45bf-a45b-34662d4c642e",
   "metadata": {},
   "source": [
    "Let's write our validator first:"
   ]
  },
  {
   "cell_type": "code",
   "execution_count": 18,
   "id": "110c64dc-6513-47bb-a8ff-0c13ea86bc45",
   "metadata": {},
   "outputs": [],
   "source": [
    "def are_elements_unique(values: list[Any]) -> list[Any]:\n",
    "    unique_elements = []\n",
    "    for value in values:\n",
    "        if value in unique_elements:\n",
    "            raise ValueError(\"elements must be unique\")\n",
    "        unique_elements.append(value)\n",
    "    return values"
   ]
  },
  {
   "cell_type": "markdown",
   "id": "6cfecbc1-c681-43fb-9ee9-a53d806dfa6a",
   "metadata": {},
   "source": [
    "You may be wandering why I did not use a `set` to check if all elements are unique:"
   ]
  },
  {
   "cell_type": "code",
   "execution_count": 19,
   "id": "959baf1c-931c-4dc8-af64-a8db59304191",
   "metadata": {},
   "outputs": [
    {
     "data": {
      "text/plain": [
       "True"
      ]
     },
     "execution_count": 19,
     "metadata": {},
     "output_type": "execute_result"
    }
   ],
   "source": [
    "len(set([1, 2, 3, 4, 5])) == len([1, 2, 3, 4, 5])"
   ]
  },
  {
   "cell_type": "code",
   "execution_count": 20,
   "id": "5fc174d6-92c0-4778-9ea7-9423cd1f84e3",
   "metadata": {},
   "outputs": [
    {
     "data": {
      "text/plain": [
       "False"
      ]
     },
     "execution_count": 20,
     "metadata": {},
     "output_type": "execute_result"
    }
   ],
   "source": [
    "len(set([1, 1, 3, 4, 5])) == len([1, 1, 3, 4, 5])"
   ]
  },
  {
   "cell_type": "markdown",
   "id": "fa62d969-202b-40c7-b996-6919ccf7aa0c",
   "metadata": {},
   "source": [
    "The reason is that sets can only contain hashable values - we may want out lists to be of types that are not hashable. There are probably better ways of doing this, but it will do for our purposes here."
   ]
  },
  {
   "cell_type": "markdown",
   "id": "d4268197-0ff8-4239-921e-9c2ee7b0d200",
   "metadata": {},
   "source": [
    "Next, let's create the annotated type:"
   ]
  },
  {
   "cell_type": "code",
   "execution_count": 21,
   "id": "11a56677-c33a-48c9-b502-6b63526dec3e",
   "metadata": {},
   "outputs": [],
   "source": [
    "UniqueIntegerList = Annotated[list[int], AfterValidator(are_elements_unique)]"
   ]
  },
  {
   "cell_type": "code",
   "execution_count": 22,
   "id": "40dfcb3e-cd95-4c88-b608-ab2a70983c73",
   "metadata": {},
   "outputs": [],
   "source": [
    "class Model(BaseModel):\n",
    "    numbers: UniqueIntegerList = []"
   ]
  },
  {
   "cell_type": "code",
   "execution_count": 23,
   "id": "13420170-5764-4fa0-814f-97fa7e346f98",
   "metadata": {},
   "outputs": [
    {
     "data": {
      "text/plain": [
       "Model(numbers=[1, 2, 3, 4, 5])"
      ]
     },
     "execution_count": 23,
     "metadata": {},
     "output_type": "execute_result"
    }
   ],
   "source": [
    "m = Model(numbers=(1, 2, 3, 4, 5))\n",
    "m"
   ]
  },
  {
   "cell_type": "code",
   "execution_count": 24,
   "id": "c83da0a6-df2a-49fc-b3c3-00e911edd058",
   "metadata": {},
   "outputs": [
    {
     "name": "stdout",
     "output_type": "stream",
     "text": [
      "1 validation error for Model\n",
      "numbers\n",
      "  Value error, elements must be unique [type=value_error, input_value=[1, 1, 2, 3], input_type=list]\n",
      "    For further information visit https://errors.pydantic.dev/2.5/v/value_error\n"
     ]
    }
   ],
   "source": [
    "try:\n",
    "    Model(numbers=[1, 1, 2, 3])\n",
    "except ValidationError as ex:\n",
    "    print(ex)"
   ]
  },
  {
   "cell_type": "markdown",
   "id": "c6c138cd-b676-4088-b0b4-ce166dd8d026",
   "metadata": {},
   "source": [
    "Now, let's extend this a bit further, so we can handle homogeneous lists of any particular type:"
   ]
  },
  {
   "cell_type": "code",
   "execution_count": 25,
   "id": "1cc88488-38cc-4426-9e49-207563cbed3c",
   "metadata": {},
   "outputs": [],
   "source": [
    "from typing import TypeVar"
   ]
  },
  {
   "cell_type": "code",
   "execution_count": 26,
   "id": "b02c1cbe-7921-4f36-a7f9-9df1cbd7f2bd",
   "metadata": {},
   "outputs": [],
   "source": [
    "T = TypeVar('T')"
   ]
  },
  {
   "cell_type": "code",
   "execution_count": 27,
   "id": "00571943-2afc-4ab8-9c89-2c3538647521",
   "metadata": {},
   "outputs": [],
   "source": [
    "UniqueList = Annotated[list[T], AfterValidator(are_elements_unique)]"
   ]
  },
  {
   "cell_type": "code",
   "execution_count": 28,
   "id": "7c655f40-5f84-4c84-a904-004530846833",
   "metadata": {},
   "outputs": [],
   "source": [
    "class Model(BaseModel):\n",
    "    numbers: UniqueList[int] = []\n",
    "    strings: UniqueList[str] = []"
   ]
  },
  {
   "cell_type": "code",
   "execution_count": 29,
   "id": "d3668c80-69fb-4dd2-85d6-6b4b1a99131c",
   "metadata": {},
   "outputs": [
    {
     "data": {
      "text/plain": [
       "Model(numbers=[1, 2, 3], strings=['pyt', 'hon'])"
      ]
     },
     "execution_count": 29,
     "metadata": {},
     "output_type": "execute_result"
    }
   ],
   "source": [
    "Model(numbers=[1, 2, 3], strings=[\"pyt\", \"hon\"])"
   ]
  },
  {
   "cell_type": "code",
   "execution_count": 30,
   "id": "04e3fd36-d0e6-4686-ab2d-c275e1be16c0",
   "metadata": {},
   "outputs": [
    {
     "name": "stdout",
     "output_type": "stream",
     "text": [
      "1 validation error for Model\n",
      "numbers\n",
      "  Value error, elements must be unique [type=value_error, input_value=[1, 1, 2], input_type=list]\n",
      "    For further information visit https://errors.pydantic.dev/2.5/v/value_error\n"
     ]
    }
   ],
   "source": [
    "try:\n",
    "    Model(numbers=[1, 1, 2])\n",
    "except ValidationError as ex:\n",
    "    print(ex)"
   ]
  },
  {
   "cell_type": "code",
   "execution_count": 31,
   "id": "cc73d94c-3d88-4ee0-b343-4c6c1d613a4b",
   "metadata": {},
   "outputs": [
    {
     "name": "stdout",
     "output_type": "stream",
     "text": [
      "2 validation errors for Model\n",
      "numbers.0\n",
      "  Input should be a valid integer, unable to parse string as an integer [type=int_parsing, input_value='a', input_type=str]\n",
      "    For further information visit https://errors.pydantic.dev/2.5/v/int_parsing\n",
      "strings.0\n",
      "  Input should be a valid string [type=string_type, input_value=1, input_type=int]\n",
      "    For further information visit https://errors.pydantic.dev/2.5/v/string_type\n"
     ]
    }
   ],
   "source": [
    "try:\n",
    "    Model(numbers=[\"a\", 2, 3], strings=[1, \"b\"])\n",
    "except ValidationError as ex:\n",
    "    print(ex)"
   ]
  },
  {
   "cell_type": "markdown",
   "id": "59ecffe3-d7ec-46d2-9d76-f06182189e80",
   "metadata": {},
   "source": [
    "We could take this a step further, and require not only that we have a unique list of homogeneous type, but we could also add size bounds to the list - using `Field`:"
   ]
  },
  {
   "cell_type": "code",
   "execution_count": 32,
   "id": "b33efec0-ddb6-4963-952e-f41586b2ee16",
   "metadata": {},
   "outputs": [],
   "source": [
    "UniqueList = Annotated[\n",
    "    list[T], \n",
    "    Field(min_length=1, max_length=5), \n",
    "    AfterValidator(are_elements_unique)\n",
    "]"
   ]
  },
  {
   "cell_type": "code",
   "execution_count": 33,
   "id": "df746479-dd93-483f-bfa8-4656e0b38cc0",
   "metadata": {},
   "outputs": [],
   "source": [
    "class Model(BaseModel):\n",
    "    numbers: UniqueList[int] = []\n",
    "    strings: UniqueList[str] = []"
   ]
  },
  {
   "cell_type": "code",
   "execution_count": 34,
   "id": "f7e490f2-e79b-43cc-9424-87463689a4fb",
   "metadata": {},
   "outputs": [
    {
     "data": {
      "text/plain": [
       "Model(numbers=[1, 2, 3], strings=['a', 'b', 'c'])"
      ]
     },
     "execution_count": 34,
     "metadata": {},
     "output_type": "execute_result"
    }
   ],
   "source": [
    "Model(numbers=[1, 2, 3], strings=[\"a\", \"b\", \"c\"])"
   ]
  },
  {
   "cell_type": "code",
   "execution_count": 35,
   "id": "a785755c-c23f-48bd-84eb-704f20d6b280",
   "metadata": {},
   "outputs": [
    {
     "name": "stdout",
     "output_type": "stream",
     "text": [
      "2 validation errors for Model\n",
      "numbers\n",
      "  List should have at least 1 item after validation, not 0 [type=too_short, input_value=[], input_type=list]\n",
      "    For further information visit https://errors.pydantic.dev/2.5/v/too_short\n",
      "strings\n",
      "  List should have at most 5 items after validation, not 6 [type=too_long, input_value=['p', 'y', 't', 'h', 'o', 'n'], input_type=list]\n",
      "    For further information visit https://errors.pydantic.dev/2.5/v/too_long\n"
     ]
    }
   ],
   "source": [
    "try:\n",
    "    Model(numbers=[], strings=list(\"python\"))\n",
    "except ValidationError as ex:\n",
    "    print(ex)"
   ]
  },
  {
   "cell_type": "markdown",
   "id": "79568637-e309-46cd-a369-9974a1a2aa18",
   "metadata": {},
   "source": [
    "Hopefully you noticed an issue with the defaults in our model!\n",
    "\n",
    "We now have a constraint that specifies that the lists cannot be empty, yet we set the defaults to empty lists.\n",
    "\n",
    "In this case, since I don't know what a suitable default would be, I will remove the defaults and make the fields required:"
   ]
  },
  {
   "cell_type": "code",
   "execution_count": 36,
   "id": "16e2bdbf-afeb-4a4d-9a89-9340b46b695c",
   "metadata": {},
   "outputs": [],
   "source": [
    "class Model(BaseModel):\n",
    "    numbers: UniqueList[int]\n",
    "    strings: UniqueList[str]"
   ]
  }
 ],
 "metadata": {
  "kernelspec": {
   "display_name": "Python 3 (ipykernel)",
   "language": "python",
   "name": "python3"
  },
  "language_info": {
   "codemirror_mode": {
    "name": "ipython",
    "version": 3
   },
   "file_extension": ".py",
   "mimetype": "text/x-python",
   "name": "python",
   "nbconvert_exporter": "python",
   "pygments_lexer": "ipython3",
   "version": "3.12.0"
  }
 },
 "nbformat": 4,
 "nbformat_minor": 5
}
