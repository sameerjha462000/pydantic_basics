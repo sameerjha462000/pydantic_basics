{
 "cells": [
  {
   "cell_type": "markdown",
   "id": "4c777015-fef2-40b6-8c12-29895fc10532",
   "metadata": {},
   "source": [
    "# Ingesting a CSV File"
   ]
  },
  {
   "cell_type": "markdown",
   "id": "f76007dc-9f69-43e2-9be0-9aa0f2c3639f",
   "metadata": {},
   "source": [
    "Let's look at another example, where we both want to deserialize and validate data - reading from a CSV file.\n",
    "\n",
    "CSV files do not have data types built-in - everything is purely a string, so we can use Pydantic to also coerce/convert the data as needed for our application needs."
   ]
  },
  {
   "cell_type": "markdown",
   "id": "ebd8c62a-bd4a-49e9-8102-82298d170533",
   "metadata": {},
   "source": [
    "In this directory, you will find a sample CSV file: `pop_estimates.csv`."
   ]
  },
  {
   "cell_type": "markdown",
   "id": "45e8df99-9413-4c65-9770-eefdda68c3a7",
   "metadata": {},
   "source": [
    "Let's inspect this file:"
   ]
  },
  {
   "cell_type": "code",
   "execution_count": 1,
   "id": "ddac9dca-8864-4a46-aa5a-03268dfebce4",
   "metadata": {},
   "outputs": [
    {
     "name": "stdout",
     "output_type": "stream",
     "text": [
      "['Geographic Area', 'July 1, 2001 Estimate', 'July 1, 2000 Estimate', 'April 1, 2000 Population Estimates Base']\n",
      "['United States', ' 284,796,887 ', ' 282,124,631 ', ' 281,421,906 ']\n",
      "['Alabama', ' 4,464,356 ', ' 4,451,493 ', ' 4,447,100 ']\n",
      "['Alaska', ' 634,892 ', ' 627,601 ', ' 626,932 ']\n",
      "['Arizona', ' 5,307,331 ', ' 5,165,274 ', ' 5,130,632 ']\n"
     ]
    }
   ],
   "source": [
    "import csv\n",
    "\n",
    "with open(\"pop_estimates.csv\") as f:\n",
    "    data = csv.reader(f)\n",
    "    for _ in range (5):\n",
    "        print(next(data))"
   ]
  },
  {
   "cell_type": "markdown",
   "id": "0367a1f4-df87-40f0-ac2f-05a7208941fd",
   "metadata": {},
   "source": [
    "As you can see the first row has column names, but if you look at the population estimate data, they look like this:\n",
    "```\n",
    "' 284,796,887 '\n",
    "```\n",
    "\n",
    "Now Pydantic is good, but not that good! Clearly we'll have to create a custom validator that we can use to parse values like the one above into proper integers when deserializing."
   ]
  },
  {
   "cell_type": "code",
   "execution_count": 2,
   "id": "56da2ae8-1a8e-4bff-96dc-2fc1481952dc",
   "metadata": {},
   "outputs": [],
   "source": [
    "def name_int(value: str):\n",
    "    try:\n",
    "        return int(value.strip().replace(\",\", \"\"))\n",
    "    except Exception as ex:\n",
    "        raise ValueError(\"data could be parsed into a valid integer\")"
   ]
  },
  {
   "cell_type": "markdown",
   "id": "c60994e0-f55d-4688-80bb-a190c4e5b768",
   "metadata": {},
   "source": [
    "Let's make an annotated field out of this that will incorporate this deserializer. In this case, we need to make the validator a **before** validator - since we want out field to be an `int`, if we use an **after** validator, then we'll have issues because Pydantic cannot parse those values to int."
   ]
  },
  {
   "cell_type": "code",
   "execution_count": 3,
   "id": "f26ce0c0-eabd-42c7-90e3-e0f940b1fe4e",
   "metadata": {},
   "outputs": [],
   "source": [
    "from typing import Annotated\n",
    "\n",
    "from pydantic import BeforeValidator\n",
    "\n",
    "\n",
    "FunkyInt = Annotated[int, BeforeValidator(name_int)]"
   ]
  },
  {
   "cell_type": "markdown",
   "id": "86f5aff1-1488-49dd-86ad-4b927a0c4104",
   "metadata": {},
   "source": [
    "And now let's create our model:"
   ]
  },
  {
   "cell_type": "code",
   "execution_count": 4,
   "id": "0affaf48-ce77-4737-8a89-2424d31c4452",
   "metadata": {},
   "outputs": [],
   "source": [
    "from pydantic import BaseModel"
   ]
  },
  {
   "cell_type": "code",
   "execution_count": 5,
   "id": "948f5f16-b19d-40e7-8a06-e0c5af1d5fe2",
   "metadata": {},
   "outputs": [],
   "source": [
    "class Estimate(BaseModel):\n",
    "    area: str\n",
    "    july_1_2001: FunkyInt\n",
    "    july_1_2000: FunkyInt\n",
    "    april_1_2000: FunkyInt"
   ]
  },
  {
   "cell_type": "markdown",
   "id": "93386285-f8ea-48dd-b440-45c76aa6b5d7",
   "metadata": {},
   "source": [
    "We're going to read the CSV data using `csv.DictReader` - the advantage of this is that we'll get a dictionary for every row, with the keys being the field names, so it will be easy to pass to `model_validate()`.\n",
    "\n",
    "Let's just see how that works before we use our model:"
   ]
  },
  {
   "cell_type": "code",
   "execution_count": 6,
   "id": "6bb1b852-a357-4977-98ae-1b48907322b8",
   "metadata": {},
   "outputs": [
    {
     "name": "stdout",
     "output_type": "stream",
     "text": [
      "{'area': 'Geographic Area', 'july_1_2001': 'July 1, 2001 Estimate', 'july_1_2000': 'July 1, 2000 Estimate', 'april_1_2000': 'April 1, 2000 Population Estimates Base'}\n",
      "{'area': 'United States', 'july_1_2001': ' 284,796,887 ', 'july_1_2000': ' 282,124,631 ', 'april_1_2000': ' 281,421,906 '}\n",
      "{'area': 'Alabama', 'july_1_2001': ' 4,464,356 ', 'july_1_2000': ' 4,451,493 ', 'april_1_2000': ' 4,447,100 '}\n",
      "{'area': 'Alaska', 'july_1_2001': ' 634,892 ', 'july_1_2000': ' 627,601 ', 'april_1_2000': ' 626,932 '}\n",
      "{'area': 'Arizona', 'july_1_2001': ' 5,307,331 ', 'july_1_2000': ' 5,165,274 ', 'april_1_2000': ' 5,130,632 '}\n"
     ]
    }
   ],
   "source": [
    "with open(\"pop_estimates.csv\") as f:\n",
    "    data = csv.DictReader(f, fieldnames=[\"area\", \"july_1_2001\", \"july_1_2000\", \"april_1_2000\"])\n",
    "    for _ in range (5):\n",
    "        print(next(data))"
   ]
  },
  {
   "cell_type": "markdown",
   "id": "3d212f0f-7150-4ee3-9a5d-6489066954c9",
   "metadata": {},
   "source": [
    "So, only thing is we need to skip the first row, since those are the column headers (which we neither need, nor use)."
   ]
  },
  {
   "cell_type": "markdown",
   "id": "ff5a99d2-0e88-4289-901b-bc12f9c5a9b7",
   "metadata": {},
   "source": [
    "We'll also make a generator function as it will make it easier to encpasulate the data reading part."
   ]
  },
  {
   "cell_type": "code",
   "execution_count": 7,
   "id": "1ad63844-392c-4790-8e1f-e023022d7168",
   "metadata": {},
   "outputs": [],
   "source": [
    "def estimates():\n",
    "    with open(\"pop_estimates.csv\") as f:\n",
    "        data = csv.DictReader(f, fieldnames=[\"area\", \"july_1_2001\", \"july_1_2000\", \"april_1_2000\"])\n",
    "        next(data)  # skip header row\n",
    "\n",
    "        for row in data:\n",
    "            yield Estimate.model_validate(row)"
   ]
  },
  {
   "cell_type": "markdown",
   "id": "59b48a6f-91e4-4e5a-abad-97ec8a76d01c",
   "metadata": {},
   "source": [
    "We can either just iterate through the data:"
   ]
  },
  {
   "cell_type": "code",
   "execution_count": 8,
   "id": "2f283556-adf1-488f-84b2-6f6a679d679f",
   "metadata": {},
   "outputs": [
    {
     "name": "stdout",
     "output_type": "stream",
     "text": [
      "area='United States' july_1_2001=284796887 july_1_2000=282124631 april_1_2000=281421906\n",
      "area='Alabama' july_1_2001=4464356 july_1_2000=4451493 april_1_2000=4447100\n",
      "area='Alaska' july_1_2001=634892 july_1_2000=627601 april_1_2000=626932\n",
      "area='Arizona' july_1_2001=5307331 july_1_2000=5165274 april_1_2000=5130632\n",
      "area='Arkansas' july_1_2001=2692090 july_1_2000=2678030 april_1_2000=2673400\n",
      "area='California' july_1_2001=34501130 july_1_2000=34000446 april_1_2000=33871648\n",
      "area='Colorado' july_1_2001=4417714 july_1_2000=4323410 april_1_2000=4301261\n",
      "area='Connecticut' july_1_2001=3425074 july_1_2000=3410079 april_1_2000=3405565\n",
      "area='Delaware' july_1_2001=796165 july_1_2000=786234 april_1_2000=783600\n",
      "area='District of Columbia' july_1_2001=571822 july_1_2000=571066 april_1_2000=572059\n",
      "area='Florida' july_1_2001=16396515 july_1_2000=16054328 april_1_2000=15982378\n",
      "area='Georgia' july_1_2001=8383915 july_1_2000=8229823 april_1_2000=8186453\n",
      "area='Hawaii' july_1_2001=1224398 july_1_2000=1212281 april_1_2000=1211537\n",
      "area='Idaho' july_1_2001=1321006 july_1_2000=1299258 april_1_2000=1293953\n",
      "area='Illinois' july_1_2001=12482301 july_1_2000=12435970 april_1_2000=12419293\n",
      "area='Indiana' july_1_2001=6114745 july_1_2000=6089950 april_1_2000=6080485\n",
      "area='Iowa' july_1_2001=2923179 july_1_2000=2927509 april_1_2000=2926324\n",
      "area='Kansas' july_1_2001=2694641 july_1_2000=2691750 april_1_2000=2688418\n",
      "area='Kentucky' july_1_2001=4065556 july_1_2000=4047424 april_1_2000=4041769\n",
      "area='Louisiana' july_1_2001=4465430 july_1_2000=4469970 april_1_2000=4468976\n",
      "area='Maine' july_1_2001=1286670 july_1_2000=1276961 april_1_2000=1274923\n",
      "area='Maryland' july_1_2001=5375156 july_1_2000=5310908 april_1_2000=5296486\n",
      "area='Massachusetts' july_1_2001=6379304 july_1_2000=6357072 april_1_2000=6349097\n",
      "area='Michigan' july_1_2001=9990817 july_1_2000=9952006 april_1_2000=9938444\n",
      "area='Minnesota' july_1_2001=4972294 july_1_2000=4931093 april_1_2000=4919479\n",
      "area='Mississippi' july_1_2001=2858029 july_1_2000=2849100 april_1_2000=2844658\n",
      "area='Missouri' july_1_2001=5629707 july_1_2000=5603553 april_1_2000=5595211\n",
      "area='Montana' july_1_2001=904433 july_1_2000=903157 april_1_2000=902195\n",
      "area='Nebraska' july_1_2001=1713235 july_1_2000=1712577 april_1_2000=1711263\n",
      "area='Nevada' july_1_2001=2106074 july_1_2000=2018723 april_1_2000=1998257\n",
      "area='New Hampshire' july_1_2001=1259181 july_1_2000=1239881 april_1_2000=1235786\n",
      "area='New Jersey' july_1_2001=8484431 july_1_2000=8429007 april_1_2000=8414350\n",
      "area='New Mexico' july_1_2001=1829146 july_1_2000=1821282 april_1_2000=1819046\n",
      "area='New York' july_1_2001=19011378 july_1_2000=18989332 april_1_2000=18976457\n",
      "area='North Carolina' july_1_2001=8186268 july_1_2000=8077367 april_1_2000=8049313\n",
      "area='North Dakota' july_1_2001=634448 july_1_2000=640919 april_1_2000=642200\n",
      "area='Ohio' july_1_2001=11373541 july_1_2000=11359955 april_1_2000=11353140\n",
      "area='Oklahoma' july_1_2001=3460097 july_1_2000=3453250 april_1_2000=3450654\n",
      "area='Oregon' july_1_2001=3472867 july_1_2000=3429293 april_1_2000=3421399\n",
      "area='Pennsylvania' july_1_2001=12287150 july_1_2000=12282591 april_1_2000=12281054\n",
      "area='Rhode Island' july_1_2001=1058920 july_1_2000=1050236 april_1_2000=1048319\n",
      "area='South Carolina' july_1_2001=4063011 july_1_2000=4023438 april_1_2000=4012012\n",
      "area='South Dakota' july_1_2001=756600 july_1_2000=755509 april_1_2000=754844\n",
      "area='Tennessee' july_1_2001=5740021 july_1_2000=5702027 april_1_2000=5689283\n",
      "area='Texas' july_1_2001=21325018 july_1_2000=20946503 april_1_2000=20851820\n",
      "area='Utah' july_1_2001=2269789 july_1_2000=2241555 april_1_2000=2233169\n",
      "area='Vermont' july_1_2001=613090 july_1_2000=609709 april_1_2000=608827\n",
      "area='Virginia' july_1_2001=7187734 july_1_2000=7104016 april_1_2000=7078515\n",
      "area='Washington' july_1_2001=5987973 july_1_2000=5908372 april_1_2000=5894121\n",
      "area='West Virginia' july_1_2001=1801916 july_1_2000=1807099 april_1_2000=1808344\n",
      "area='Wisconsin' july_1_2001=5401906 july_1_2000=5372243 april_1_2000=5363675\n",
      "area='Wyoming' july_1_2001=494423 july_1_2000=494001 april_1_2000=493782\n"
     ]
    }
   ],
   "source": [
    "for estimate in estimates():\n",
    "    print(estimate)"
   ]
  },
  {
   "cell_type": "markdown",
   "id": "e25a2c1a-fa59-446a-8006-04060086977f",
   "metadata": {},
   "source": [
    "or we could make it into a list and work with individual elements:"
   ]
  },
  {
   "cell_type": "code",
   "execution_count": 9,
   "id": "8f8e74bd-2c44-4007-b5fe-f9e947193df1",
   "metadata": {},
   "outputs": [],
   "source": [
    "data = list(estimates())"
   ]
  },
  {
   "cell_type": "code",
   "execution_count": 10,
   "id": "2eebe066-e72a-44e1-a1b9-9099076515b6",
   "metadata": {},
   "outputs": [
    {
     "data": {
      "text/plain": [
       "Estimate(area='United States', july_1_2001=284796887, july_1_2000=282124631, april_1_2000=281421906)"
      ]
     },
     "execution_count": 10,
     "metadata": {},
     "output_type": "execute_result"
    }
   ],
   "source": [
    "data[0]"
   ]
  },
  {
   "cell_type": "code",
   "execution_count": null,
   "id": "40314506-8089-4dcf-8282-44a78ee99c35",
   "metadata": {},
   "outputs": [],
   "source": []
  }
 ],
 "metadata": {
  "kernelspec": {
   "display_name": "Python 3 (ipykernel)",
   "language": "python",
   "name": "python3"
  },
  "language_info": {
   "codemirror_mode": {
    "name": "ipython",
    "version": 3
   },
   "file_extension": ".py",
   "mimetype": "text/x-python",
   "name": "python",
   "nbconvert_exporter": "python",
   "pygments_lexer": "ipython3",
   "version": "3.12.0"
  }
 },
 "nbformat": 4,
 "nbformat_minor": 5
}
