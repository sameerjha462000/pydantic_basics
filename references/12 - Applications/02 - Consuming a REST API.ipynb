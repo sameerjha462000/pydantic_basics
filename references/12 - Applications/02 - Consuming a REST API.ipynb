{
 "cells": [
  {
   "cell_type": "markdown",
   "id": "e6468037-673b-4f49-a557-aacf4ba647e6",
   "metadata": {},
   "source": [
    "# Consuming a REST API"
   ]
  },
  {
   "cell_type": "markdown",
   "id": "bddaa3c9-b1d2-4ba4-ab79-fecc2f795dd3",
   "metadata": {},
   "source": [
    "In this example, we're going to use the [https://www.geojs.io/](https://www.geojs.io/) REST API.\n",
    "\n",
    "It is simple, is not rate limited, and does not require auth - that way we can focus on the pydantic side of things."
   ]
  },
  {
   "cell_type": "code",
   "execution_count": 1,
   "id": "012b22c3-bae1-49e0-85dd-1bcb846e529c",
   "metadata": {},
   "outputs": [],
   "source": [
    "import requests\n",
    "from pydantic import BaseModel, ConfigDict, Field, field_validator, ValidationError, IPvAnyAddress"
   ]
  },
  {
   "cell_type": "markdown",
   "id": "8b9cd38a-f379-42fc-a333-9a4634a85fe1",
   "metadata": {},
   "source": [
    "Typically, when we use Pydantic models to read data returned from an API, we don't need to do a lot of validation - the expectation is that the API is consistent and returns what it says it does.\n",
    "\n",
    "Of course, your mileage may vary, and depending on the API you are using, you might need to be more careful about defining your models. And yes, unfortunately, there are plenty poorly design APIs out in the wild! So, you may end up having to write a lot of custom validators just to make the data you are receiving from the API consistent and easily used in your application."
   ]
  },
  {
   "cell_type": "markdown",
   "id": "b33a5dd9-2207-405f-988d-98391c640da3",
   "metadata": {},
   "source": [
    "## Endpoint"
   ]
  },
  {
   "cell_type": "markdown",
   "id": "cf4806fc-22b7-4cfd-9e05-a0e0abde25a1",
   "metadata": {},
   "source": [
    "In particular, we'll look at the `Geo` endpoints for this API. Given an IP address (or none, in which case it will use your public IP address), it returns geographic information about the ip address.\n",
    "\n",
    "This is a `get` request, so we do not have to model a JSON payload, just one for the response."
   ]
  },
  {
   "cell_type": "markdown",
   "id": "d3c49ec9-47c9-4981-9584-82eaffef8eb5",
   "metadata": {},
   "source": [
    "Unfortunately, they do not provide a JSON schema (that I could find), so we're going to have to create our pydantic model from scratch."
   ]
  },
  {
   "cell_type": "markdown",
   "id": "f04ccedd-4727-4afe-b3d3-40cce2d2ff40",
   "metadata": {},
   "source": [
    "Since I'm not interested in all the fields returned by this endpoint, I'm going to create a model with `extra=\"ignore\"`.\n",
    "\n",
    "Furthermore, this API does not use camel casing for field names, so we won't even have to worry about aliases.\n",
    "\n",
    "The documentation does not state whether response fields are nullable or not.\n",
    "\n",
    "The way I would approach this is to make non-nullable the fields which I absolutely need to be populated in order for my program to work, and make the rest nullable, dealing with null values in code.\n",
    "\n",
    "The docs do state that `organization_name` will be returned as the string `Unknown` when that field value is unknown - I don't like using special values to indicate null/None, so I'm going to use a validator (an after validator, since I do want Pydantic to at least validate/coerce a string value), and simply replace `Unknown` with `None` (making the field nullable of course)."
   ]
  },
  {
   "cell_type": "code",
   "execution_count": 2,
   "id": "8ee29013-5555-46a1-b98f-59ed3a579963",
   "metadata": {},
   "outputs": [],
   "source": [
    "class IPGeo(BaseModel):\n",
    "    model_config = ConfigDict(extra=\"ignore\")\n",
    "\n",
    "    ip: IPvAnyAddress\n",
    "    country: str | None = None\n",
    "    country_code: str | None = Field(default=None, min_length=2, max_length=2)\n",
    "    country_code3: str | None = Field(default=None, min_length=2, max_length=3)\n",
    "    city: str | None = None\n",
    "    region: str | None = None\n",
    "    timezone: str | None= None\n",
    "    organization_name: str | None = None\n",
    "\n",
    "    @field_validator(\"organization_name\", mode=\"after\")\n",
    "    @classmethod\n",
    "    def set_unknown_to_none(cls, value: str):\n",
    "        if value.casefold() == \"unknown\":\n",
    "            return None\n",
    "        return value"
   ]
  },
  {
   "cell_type": "code",
   "execution_count": 3,
   "id": "9c948e4c-a9e6-4c6f-b63c-92ed589ea806",
   "metadata": {},
   "outputs": [
    {
     "data": {
      "text/plain": [
       "IPGeo(ip=IPv4Address('8.8.8.8'), country='test', country_code=None, country_code3='USA', city=None, region=None, timezone=None, organization_name=None)"
      ]
     },
     "execution_count": 3,
     "metadata": {},
     "output_type": "execute_result"
    }
   ],
   "source": [
    "IPGeo(ip=\"8.8.8.8\", country=\"test\", country_code3 = \"USA\", organization_name=\"Unknown\")"
   ]
  },
  {
   "cell_type": "markdown",
   "id": "c45f5ba9-00cd-4c82-aaba-912d69eacc08",
   "metadata": {},
   "source": [
    "Now let's try it when calling the endpoint. Let's specify an IP address first:"
   ]
  },
  {
   "cell_type": "code",
   "execution_count": 4,
   "id": "c85f8a34-a9fa-4cad-ad15-80b755907f7d",
   "metadata": {},
   "outputs": [],
   "source": [
    "url_query = \"https://get.geojs.io/v1/geo/{ip_address}.json\""
   ]
  },
  {
   "cell_type": "code",
   "execution_count": 5,
   "id": "1a3668e8-955c-4c9e-96ab-266b20b78370",
   "metadata": {},
   "outputs": [],
   "source": [
    "url = url_query.format(ip_address=\"8.8.8.8\")\n",
    "response = requests.get(url)\n",
    "response.raise_for_status()"
   ]
  },
  {
   "cell_type": "code",
   "execution_count": 6,
   "id": "08227dbb-187f-4d9f-b2ae-63d9cc7fae6d",
   "metadata": {},
   "outputs": [],
   "source": [
    "response_json= response.json()"
   ]
  },
  {
   "cell_type": "code",
   "execution_count": 7,
   "id": "c3bcda70-44da-4226-9b76-b730d3068ff1",
   "metadata": {},
   "outputs": [
    {
     "name": "stdout",
     "output_type": "stream",
     "text": [
      "{'country': 'United States', 'country_code': 'US', 'country_code3': 'USA', 'continent_code': 'NA', 'asn': 15169, 'organization_name': 'GOOGLE', 'organization': 'AS15169 GOOGLE', 'timezone': 'America/Chicago', 'accuracy': 1000, 'ip': '8.8.8.8', 'longitude': '-97.822', 'latitude': '37.751', 'area_code': '0'}\n"
     ]
    }
   ],
   "source": [
    "print(response.json())"
   ]
  },
  {
   "cell_type": "markdown",
   "id": "830d0e6d-ecfe-40e0-b144-e416c68cee0b",
   "metadata": {},
   "source": [
    "Now, to deserialize this data, the `requests` library already deserializes the JSON string to a Pytrhon dictionary, so we use `model_validate()` not `model_validate_json()`."
   ]
  },
  {
   "cell_type": "code",
   "execution_count": 8,
   "id": "6b55bcc1-530a-4402-8dc6-3734f84348e5",
   "metadata": {},
   "outputs": [],
   "source": [
    "data = IPGeo.model_validate(response.json())"
   ]
  },
  {
   "cell_type": "code",
   "execution_count": 9,
   "id": "0fce1fe1-d730-44d3-b887-1306f8f194eb",
   "metadata": {},
   "outputs": [
    {
     "data": {
      "text/plain": [
       "IPGeo(ip=IPv4Address('8.8.8.8'), country='United States', country_code='US', country_code3='USA', city=None, region=None, timezone='America/Chicago', organization_name='GOOGLE')"
      ]
     },
     "execution_count": 9,
     "metadata": {},
     "output_type": "execute_result"
    }
   ],
   "source": [
    "data"
   ]
  },
  {
   "cell_type": "markdown",
   "id": "7961eab6-c3b7-46d4-b1c3-bd861efd060c",
   "metadata": {},
   "source": [
    "And one more:"
   ]
  },
  {
   "cell_type": "code",
   "execution_count": 10,
   "id": "f433285e-785f-448e-a588-41879b9c4c5d",
   "metadata": {},
   "outputs": [
    {
     "name": "stdout",
     "output_type": "stream",
     "text": [
      "{\n",
      "  \"ip\": \"23.62.177.155\",\n",
      "  \"country\": \"United States\",\n",
      "  \"country_code\": \"US\",\n",
      "  \"country_code3\": \"USA\",\n",
      "  \"city\": \"El Segundo\",\n",
      "  \"region\": \"California\",\n",
      "  \"timezone\": \"America/Los_Angeles\",\n",
      "  \"organization_name\": \"AKAMAI-AS\"\n",
      "}\n"
     ]
    }
   ],
   "source": [
    "url = url_query.format(ip_address=\"23.62.177.155\")\n",
    "response = requests.get(url)\n",
    "response.raise_for_status()\n",
    "data = IPGeo.model_validate(response.json())\n",
    "print(data.model_dump_json(indent=2))"
   ]
  },
  {
   "cell_type": "markdown",
   "id": "f2d6f9a2-b471-4a79-b0ae-c2525d8e8db9",
   "metadata": {},
   "source": [
    "We can also query for our own public IP (GeoJS will figure it out):"
   ]
  },
  {
   "cell_type": "markdown",
   "id": "0fa0e606-5843-4ba5-9304-20e8f0ffef4c",
   "metadata": {},
   "source": [
    "```python\n",
    "url = \"https://get.geojs.io/v1/ip/geo.json\"\n",
    "response = requests.get(url)\n",
    "response.raise_for_status\n",
    "data = IPGeo.model_validate(response.json())\n",
    "print(data.model_dump_json(indent=2))\n",
    "```"
   ]
  },
  {
   "cell_type": "markdown",
   "id": "cb73e601-6be5-49e0-ae70-a8051aed84b3",
   "metadata": {},
   "source": [
    "I am not going to run it, since I don't want to disclose my public IP address :-) "
   ]
  },
  {
   "cell_type": "code",
   "execution_count": null,
   "id": "13714b60-c22f-4ea7-a66b-8416e4361178",
   "metadata": {},
   "outputs": [],
   "source": []
  }
 ],
 "metadata": {
  "kernelspec": {
   "display_name": "Python 3 (ipykernel)",
   "language": "python",
   "name": "python3"
  },
  "language_info": {
   "codemirror_mode": {
    "name": "ipython",
    "version": 3
   },
   "file_extension": ".py",
   "mimetype": "text/x-python",
   "name": "python",
   "nbconvert_exporter": "python",
   "pygments_lexer": "ipython3",
   "version": "3.12.0"
  }
 },
 "nbformat": 4,
 "nbformat_minor": 5
}
