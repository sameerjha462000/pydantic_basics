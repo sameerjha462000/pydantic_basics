{
 "cells": [
  {
   "cell_type": "markdown",
   "id": "f46fe481-a4ab-4298-9903-efb9e8be4898",
   "metadata": {},
   "source": [
    "# Validating Function Arguments"
   ]
  },
  {
   "cell_type": "markdown",
   "id": "430d0c0a-8de4-40b9-801e-2f8ad873cfa7",
   "metadata": {},
   "source": [
    "One possible usage of Pydantic, besides validating data being serialized or deserialized, is to validate the arguments passed to a function.\n",
    "\n",
    "Admittedely, this is not static type checking - any validation exception will happen at run time, but that's a Python thing, not a Pydantic thing."
   ]
  },
  {
   "cell_type": "markdown",
   "id": "3d0bb7c8-053a-4c69-ad09-7c0f68e4ef5c",
   "metadata": {},
   "source": [
    "Consider this very simplistic example, where we have a function that requires a string argument, and the function requires that the string not be empty (or None).\n",
    "\n",
    "Here's how we might write this in plain Python:"
   ]
  },
  {
   "cell_type": "code",
   "execution_count": 1,
   "id": "a3d22229-b0a9-4794-bfe9-dce0a9ed0cae",
   "metadata": {},
   "outputs": [],
   "source": [
    "def extract_first_char(s: str):\n",
    "    if s is None:\n",
    "        raise ValueError(\"argument cannot be None\")\n",
    "    if not isinstance(s, str):\n",
    "        raise TypeError(\"argument must be a string\")\n",
    "    if len(s) == 0:\n",
    "        raise ValueError(\"argument cannot be an empty string\")\n",
    "    return s[0]"
   ]
  },
  {
   "cell_type": "code",
   "execution_count": 2,
   "id": "d566b2c3-220d-4534-ac04-48213d52c39b",
   "metadata": {},
   "outputs": [
    {
     "name": "stdout",
     "output_type": "stream",
     "text": [
      "argument must be a string\n"
     ]
    }
   ],
   "source": [
    "try:\n",
    "    extract_first_char(100)\n",
    "except TypeError as ex:\n",
    "    print(ex)"
   ]
  },
  {
   "cell_type": "code",
   "execution_count": 3,
   "id": "6557a082-1946-4e10-a63e-49f850690784",
   "metadata": {},
   "outputs": [
    {
     "name": "stdout",
     "output_type": "stream",
     "text": [
      "argument cannot be an empty string\n"
     ]
    }
   ],
   "source": [
    "try:\n",
    "    extract_first_char(\"\")\n",
    "except ValueError as ex:\n",
    "    print(ex)"
   ]
  },
  {
   "cell_type": "markdown",
   "id": "164bb005-ced9-48d2-be31-6cc51b392899",
   "metadata": {},
   "source": [
    "We could also simplify these validations slightly:"
   ]
  },
  {
   "cell_type": "code",
   "execution_count": 4,
   "id": "a0173023-0d5d-4b5b-bf6a-d93904167980",
   "metadata": {},
   "outputs": [],
   "source": [
    "def extract_first_char(s: str):\n",
    "    if not isinstance(s, str):\n",
    "        raise TypeError(\"argument must be a string\")\n",
    "    if not s:\n",
    "        raise ValueError(\"argument cannot be an empty string\")\n",
    "    return s[0]"
   ]
  },
  {
   "cell_type": "code",
   "execution_count": 5,
   "id": "4dcf6d03-600d-4ab6-b862-2c14feddcaad",
   "metadata": {
    "scrolled": true
   },
   "outputs": [
    {
     "name": "stdout",
     "output_type": "stream",
     "text": [
      "argument must be a string\n"
     ]
    }
   ],
   "source": [
    "try:\n",
    "    extract_first_char(100)\n",
    "except TypeError as ex:\n",
    "    print(ex)"
   ]
  },
  {
   "cell_type": "code",
   "execution_count": 6,
   "id": "a9b622b2-ab03-4ff3-8fbb-b1c747ab3870",
   "metadata": {},
   "outputs": [
    {
     "name": "stdout",
     "output_type": "stream",
     "text": [
      "argument cannot be an empty string\n"
     ]
    }
   ],
   "source": [
    "try:\n",
    "    extract_first_char(\"\")\n",
    "except ValueError as ex:\n",
    "    print(ex)"
   ]
  },
  {
   "cell_type": "code",
   "execution_count": 7,
   "id": "ad163ce0-caae-4ee9-9087-e002b721a908",
   "metadata": {},
   "outputs": [
    {
     "name": "stdout",
     "output_type": "stream",
     "text": [
      "argument must be a string\n"
     ]
    }
   ],
   "source": [
    "try:\n",
    "    extract_first_char(None)\n",
    "except TypeError as ex:\n",
    "    print(ex)"
   ]
  },
  {
   "cell_type": "markdown",
   "id": "f32551a7-53f7-4a5b-bef4-119ab6f7e92f",
   "metadata": {},
   "source": [
    "If you think about it, all this validation code we have is done by Pydantic when we define models.\n",
    "\n",
    "And Pydantic gives us the ability to re-use their validation logic and apply them to function arguments."
   ]
  },
  {
   "cell_type": "markdown",
   "id": "6e10d0da-7ca0-478a-9583-5f766dc2ee25",
   "metadata": {},
   "source": [
    "Let's first define an annotated type to define what that argument `s` needs to be, beyond just being a string."
   ]
  },
  {
   "cell_type": "code",
   "execution_count": 8,
   "id": "2b426a63-7f4b-425b-adf7-32638e38614b",
   "metadata": {},
   "outputs": [],
   "source": [
    "from typing import Annotated\n",
    "\n",
    "from pydantic import Field, ValidationError"
   ]
  },
  {
   "cell_type": "code",
   "execution_count": 9,
   "id": "c2454eec-6323-4219-8ec0-02e4a2d26be0",
   "metadata": {},
   "outputs": [],
   "source": [
    "NonEmptyString= Annotated[str, Field(min_length=1)] "
   ]
  },
  {
   "cell_type": "markdown",
   "id": "dba586fd-b8ed-4daa-b29c-f18988900a07",
   "metadata": {},
   "source": [
    "Now, this is just a plain annotated type, and we can use it for our function:"
   ]
  },
  {
   "cell_type": "code",
   "execution_count": 10,
   "id": "d6372663-ed45-4ef1-a0fc-fe69ba43018b",
   "metadata": {},
   "outputs": [],
   "source": [
    "def extract_first_char(s: NonEmptyString):\n",
    "    if s is None:\n",
    "        raise ValueError(\"argument cannot be None\")\n",
    "    if not isinstance(s, str):\n",
    "        raise TypeError(\"argument must be a string\")\n",
    "    if len(s) == 0:\n",
    "        raise ValueError(\"argument cannot be an empty string\")\n",
    "    return s[0]"
   ]
  },
  {
   "cell_type": "markdown",
   "id": "a779a6ca-9b4a-4536-8021-ab3775b7652a",
   "metadata": {},
   "source": [
    "Of course, this does not change any of our validation code."
   ]
  },
  {
   "cell_type": "markdown",
   "id": "66d1aee7-b38d-4915-9479-01bbc6656223",
   "metadata": {},
   "source": [
    "We, can however use a special Pydantic decorator that will run the validation of arguments being passed to the function when is being called:"
   ]
  },
  {
   "cell_type": "code",
   "execution_count": 11,
   "id": "197d0b29-182b-4c78-aafb-7b47edd98dfb",
   "metadata": {},
   "outputs": [],
   "source": [
    "from pydantic import validate_call"
   ]
  },
  {
   "cell_type": "code",
   "execution_count": 12,
   "id": "2f7d08a5-66ab-47f9-83fa-85cc06bc9026",
   "metadata": {},
   "outputs": [],
   "source": [
    "@validate_call\n",
    "def extract_first_char(s: NonEmptyString):\n",
    "    return s[0]"
   ]
  },
  {
   "cell_type": "markdown",
   "id": "6c342d6c-4358-4250-8602-5744cbc3e215",
   "metadata": {},
   "source": [
    "As you can see, we removed all our validation code, because when we call `extract_first_char()`, it is actually the decorated function, and that decorated function will first run the Pydantic validators before calling our original `extract_first_char` function:"
   ]
  },
  {
   "cell_type": "code",
   "execution_count": 13,
   "id": "45188d87-e34a-4695-9034-f0dbe6f1e2b6",
   "metadata": {},
   "outputs": [
    {
     "data": {
      "text/plain": [
       "'a'"
      ]
     },
     "execution_count": 13,
     "metadata": {},
     "output_type": "execute_result"
    }
   ],
   "source": [
    "extract_first_char(\"abc\")"
   ]
  },
  {
   "cell_type": "code",
   "execution_count": 14,
   "id": "43b5a999-598c-4048-a1dd-41b1b8de5a77",
   "metadata": {},
   "outputs": [
    {
     "name": "stdout",
     "output_type": "stream",
     "text": [
      "1 validation error for extract_first_char\n",
      "0\n",
      "  Input should be a valid string [type=string_type, input_value=None, input_type=NoneType]\n",
      "    For further information visit https://errors.pydantic.dev/2.5/v/string_type\n"
     ]
    }
   ],
   "source": [
    "try:\n",
    "    extract_first_char(None)\n",
    "except ValidationError as ex:\n",
    "    print(ex)"
   ]
  },
  {
   "cell_type": "code",
   "execution_count": 15,
   "id": "f32bf670-c970-4a3d-9891-c7da7ef2887a",
   "metadata": {},
   "outputs": [
    {
     "name": "stdout",
     "output_type": "stream",
     "text": [
      "1 validation error for extract_first_char\n",
      "0\n",
      "  String should have at least 1 character [type=string_too_short, input_value='', input_type=str]\n",
      "    For further information visit https://errors.pydantic.dev/2.5/v/string_too_short\n"
     ]
    }
   ],
   "source": [
    "try:\n",
    "    extract_first_char(\"\")\n",
    "except ValidationError as ex:\n",
    "    print(ex)"
   ]
  },
  {
   "cell_type": "code",
   "execution_count": 16,
   "id": "ccd162f4-773a-4edb-8e3b-d8fd9f1ee501",
   "metadata": {},
   "outputs": [
    {
     "name": "stdout",
     "output_type": "stream",
     "text": [
      "1 validation error for extract_first_char\n",
      "0\n",
      "  Input should be a valid string [type=string_type, input_value=100, input_type=int]\n",
      "    For further information visit https://errors.pydantic.dev/2.5/v/string_type\n"
     ]
    }
   ],
   "source": [
    "try:\n",
    "    extract_first_char(100)\n",
    "except ValidationError as ex:\n",
    "    print(ex)"
   ]
  },
  {
   "cell_type": "markdown",
   "id": "2ffb68c8-3bc3-471f-bbc4-33165bbf802f",
   "metadata": {},
   "source": [
    "Note that the exception is not trapped inside the function, it is trapped in whatever code is calling the function. So you can't use this to modify the behavior of your code inside your function - it is more often used so that you can either take corrective actions prior to calling the function, or present validation exceptions to a user of our app. This can be quite useful in REST APIs for example, where the validation exceptions can simply be reported back as some HTTP error."
   ]
  },
  {
   "cell_type": "markdown",
   "id": "3f977825-e33a-4c23-b1df-8e87c4d98a83",
   "metadata": {},
   "source": [
    "Let's look at how we can use a custom validator as well."
   ]
  },
  {
   "cell_type": "code",
   "execution_count": 17,
   "id": "978a77da-1256-4c08-9c58-c927ad74a0f1",
   "metadata": {},
   "outputs": [],
   "source": [
    "from datetime import datetime\n",
    "from typing import Any\n",
    "\n",
    "import pytz\n",
    "from dateutil.parser import parse\n",
    "\n",
    "def make_utc(dt: datetime) -> datetime:\n",
    "    print(\"make_utc called...\")\n",
    "    if dt.tzinfo is None:\n",
    "        dt = pytz.utc.localize(dt)\n",
    "    else:\n",
    "        dt = dt.astimezone(pytz.utc)\n",
    "    return dt\n",
    "    \n",
    "def parse_datetime(value: Any):\n",
    "    print(\"parse_datetime called...\")\n",
    "    if isinstance(value, str):\n",
    "        try:\n",
    "            return parse(value)\n",
    "        except Exception as ex:\n",
    "            raise ValueError(str(ex))\n",
    "    return value"
   ]
  },
  {
   "cell_type": "code",
   "execution_count": 18,
   "id": "6b86552d-86e3-45dc-bb13-bff52ed47374",
   "metadata": {},
   "outputs": [],
   "source": [
    "from pydantic import BeforeValidator, AfterValidator\n",
    "\n",
    "DatetimeUTC = Annotated[datetime, BeforeValidator(parse_datetime), AfterValidator(make_utc)]"
   ]
  },
  {
   "cell_type": "code",
   "execution_count": 19,
   "id": "d85df0fe-e6b8-4310-93eb-3ee0c1b1b9f3",
   "metadata": {},
   "outputs": [],
   "source": [
    "@validate_call\n",
    "def func(dt: DatetimeUTC):\n",
    "    return dt.isoformat()"
   ]
  },
  {
   "cell_type": "code",
   "execution_count": 20,
   "id": "443adc53-f3aa-431f-92d3-f671274b307b",
   "metadata": {},
   "outputs": [
    {
     "name": "stdout",
     "output_type": "stream",
     "text": [
      "parse_datetime called...\n",
      "make_utc called...\n"
     ]
    },
    {
     "data": {
      "text/plain": [
       "'2020-01-01T15:00:00+00:00'"
      ]
     },
     "execution_count": 20,
     "metadata": {},
     "output_type": "execute_result"
    }
   ],
   "source": [
    "func(\"2020/1/1 3pm\")"
   ]
  },
  {
   "cell_type": "markdown",
   "id": "fc546afc-5664-4777-aae7-e9d105e558a3",
   "metadata": {},
   "source": [
    "As you can see, the validation works just like with model fields - our validators can not only validate, but also modify the data being validated as it goes throiugh the before/after validation pipeline."
   ]
  },
  {
   "cell_type": "markdown",
   "id": "8c296393-7d58-43d4-b6fb-3620794df8a6",
   "metadata": {},
   "source": [
    "So this can be a handy way to not only validate function arguments, but also transform them from their raw input."
   ]
  },
  {
   "cell_type": "markdown",
   "id": "3fea6729-064c-4157-b952-22ec7df43090",
   "metadata": {},
   "source": [
    "A word of caution though, if you not already using Pydantic in your application, think twice about adding it as a dependency just to validate function arguments - maybe it's the correct choice, but it may not be, and for a one-off application, maybe just using plain Python will be more effective:"
   ]
  },
  {
   "cell_type": "code",
   "execution_count": 21,
   "id": "488cd47c-9ce8-4d80-a141-8ac0bc91e135",
   "metadata": {},
   "outputs": [],
   "source": [
    "def func(dt: datetime | str):\n",
    "    try:\n",
    "        dt = parse(dt)\n",
    "    except Exception as ex:\n",
    "        raise ValueError(str(ex))\n",
    "    dt = make_utc(dt)\n",
    "    return dt"
   ]
  },
  {
   "cell_type": "code",
   "execution_count": 22,
   "id": "f71186f8-b660-4898-93cb-4a0d75c43b37",
   "metadata": {},
   "outputs": [
    {
     "name": "stdout",
     "output_type": "stream",
     "text": [
      "make_utc called...\n"
     ]
    },
    {
     "data": {
      "text/plain": [
       "datetime.datetime(2020, 1, 1, 15, 0, tzinfo=<UTC>)"
      ]
     },
     "execution_count": 22,
     "metadata": {},
     "output_type": "execute_result"
    }
   ],
   "source": [
    "func(\"2020/1/1 3pm\")"
   ]
  },
  {
   "cell_type": "code",
   "execution_count": null,
   "id": "04587c80-5f47-4d70-bf0c-a5ba3da4ad9a",
   "metadata": {},
   "outputs": [],
   "source": []
  }
 ],
 "metadata": {
  "kernelspec": {
   "display_name": "Python 3 (ipykernel)",
   "language": "python",
   "name": "python3"
  },
  "language_info": {
   "codemirror_mode": {
    "name": "ipython",
    "version": 3
   },
   "file_extension": ".py",
   "mimetype": "text/x-python",
   "name": "python",
   "nbconvert_exporter": "python",
   "pygments_lexer": "ipython3",
   "version": "3.12.0"
  }
 },
 "nbformat": 4,
 "nbformat_minor": 5
}
