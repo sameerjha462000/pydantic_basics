{
 "cells": [
  {
   "cell_type": "markdown",
   "id": "3e3d310e-3689-44e6-b4d3-765b9e156b3f",
   "metadata": {},
   "source": [
    "# Deserialization"
   ]
  },
  {
   "cell_type": "markdown",
   "id": "5955393e-60ce-4183-afa0-fb2acf301593",
   "metadata": {},
   "source": [
    "Deserialization is the act of taking data (that can be provided in a number of ways) to create and populate a new model instance."
   ]
  },
  {
   "cell_type": "markdown",
   "id": "c278b761-3f6f-46a2-b5e9-afebc4d0fc5e",
   "metadata": {},
   "source": [
    "We already saw one way of doing this:"
   ]
  },
  {
   "cell_type": "code",
   "execution_count": 1,
   "id": "2588053a-0d42-4dbc-8163-d9c5a8796b5c",
   "metadata": {},
   "outputs": [],
   "source": [
    "from pydantic import BaseModel, ValidationError"
   ]
  },
  {
   "cell_type": "code",
   "execution_count": 2,
   "id": "56778bb0-8c36-4d41-b651-a77597eeb1fc",
   "metadata": {},
   "outputs": [],
   "source": [
    "class Person(BaseModel):\n",
    "    first_name: str\n",
    "    last_name: str\n",
    "    age: int"
   ]
  },
  {
   "cell_type": "code",
   "execution_count": 3,
   "id": "6ddbe2fb-c15b-4e37-ab54-6db8d6147e74",
   "metadata": {},
   "outputs": [],
   "source": [
    "p = Person(first_name='Isaac', last_name='Newton', age=84)"
   ]
  },
  {
   "cell_type": "markdown",
   "id": "a491e248-15b1-4f76-ba18-fe73c0dfc871",
   "metadata": {},
   "source": [
    "It may not look like deserialization, but in essence that's what happened - we went from data provided as named argument, to an initialized instance.\n",
    "\n",
    "We also saw that Pydantic will perform some validation as it does so."
   ]
  },
  {
   "cell_type": "markdown",
   "id": "6dfd531b-014c-439a-a573-c355f0080237",
   "metadata": {},
   "source": [
    "Pydantic can handle deserializing data in two other formats:\n",
    "- a Python `dict`\n",
    "- a JSON string"
   ]
  },
  {
   "cell_type": "markdown",
   "id": "281238fb-7d46-465f-9915-c2de897ba3d7",
   "metadata": {},
   "source": [
    "Let's look at `dict` first:"
   ]
  },
  {
   "cell_type": "code",
   "execution_count": 4,
   "id": "1f17ae7f-f49e-40db-8bae-205c93d2581e",
   "metadata": {},
   "outputs": [],
   "source": [
    "data = {\n",
    "    \"first_name\": \"Isaac\",\n",
    "    \"last_name\": \"Newton\",\n",
    "    \"age\": 84\n",
    "}"
   ]
  },
  {
   "cell_type": "markdown",
   "id": "d8ad51e5-3278-46ff-93cd-31c8b094cc11",
   "metadata": {},
   "source": [
    "To deserialize a dictionary we could technically use unpacking this way:"
   ]
  },
  {
   "cell_type": "code",
   "execution_count": 5,
   "id": "63a4eb51-eb5c-4a02-b566-87988fc184d2",
   "metadata": {},
   "outputs": [
    {
     "data": {
      "text/plain": [
       "Person(first_name='Isaac', last_name='Newton', age=84)"
      ]
     },
     "execution_count": 5,
     "metadata": {},
     "output_type": "execute_result"
    }
   ],
   "source": [
    "Person(**data)"
   ]
  },
  {
   "cell_type": "markdown",
   "id": "6287fb85-1cd9-4f4a-91fc-51b3584c1192",
   "metadata": {},
   "source": [
    "But this is not recommended. It works for simple models, but once you start getting into more complex models that use composition, you might run into issues."
   ]
  },
  {
   "cell_type": "markdown",
   "id": "fc3ec9cb-cec5-4441-958d-9d476aad55bb",
   "metadata": {},
   "source": [
    "Instead, Pydantic provides a specialized method to load data from a `dict` - the `model_validate()` method.\n",
    "\n",
    "And, in fact, the method name clearly indicates that Pydantic is not just loading up data, but is also performing validation."
   ]
  },
  {
   "cell_type": "code",
   "execution_count": 6,
   "id": "8b97a502-90e4-4a59-b57d-da70c7c75285",
   "metadata": {},
   "outputs": [
    {
     "data": {
      "text/plain": [
       "Person(first_name='Isaac', last_name='Newton', age=84)"
      ]
     },
     "execution_count": 6,
     "metadata": {},
     "output_type": "execute_result"
    }
   ],
   "source": [
    "p = Person.model_validate(data)\n",
    "p"
   ]
  },
  {
   "cell_type": "markdown",
   "id": "3803628e-8cc5-486e-b2ec-057022861779",
   "metadata": {},
   "source": [
    "The same validation exceptions we saw earlier will be raised when we have validation issues:"
   ]
  },
  {
   "cell_type": "code",
   "execution_count": 7,
   "id": "5900f8a7-4cd7-4be7-9977-4be7334f24c1",
   "metadata": {},
   "outputs": [
    {
     "name": "stdout",
     "output_type": "stream",
     "text": [
      "2 validation errors for Person\n",
      "first_name\n",
      "  Field required [type=missing, input_value={'last_name': 'Newton'}, input_type=dict]\n",
      "    For further information visit https://errors.pydantic.dev/2.5/v/missing\n",
      "age\n",
      "  Field required [type=missing, input_value={'last_name': 'Newton'}, input_type=dict]\n",
      "    For further information visit https://errors.pydantic.dev/2.5/v/missing\n"
     ]
    }
   ],
   "source": [
    "missing_data = {\"last_name\": \"Newton\"}\n",
    "\n",
    "try:\n",
    "    Person.model_validate(missing_data)\n",
    "except ValidationError as ex:\n",
    "    print(ex)"
   ]
  },
  {
   "cell_type": "markdown",
   "id": "7017f94c-0c55-4e61-88f2-b09226798332",
   "metadata": {},
   "source": [
    "The second data format that Pydantic can deserialize is JSON. This is of course hugely beneficial when working with REST APIs, where requests and responses are typically in JSON format.\n",
    "\n",
    "For that, Pydantic provides the `model_validate_json()` method."
   ]
  },
  {
   "cell_type": "code",
   "execution_count": 8,
   "id": "e833720a-b152-411d-a171-6eb96aed59b5",
   "metadata": {},
   "outputs": [],
   "source": [
    "data_json = '''\n",
    "{\n",
    "    \"first_name\": \"Isaac\",\n",
    "    \"last_name\": \"Newton\",\n",
    "    \"age\": 84\n",
    "}\n",
    "'''"
   ]
  },
  {
   "cell_type": "code",
   "execution_count": 9,
   "id": "22a28d86-bfed-4b69-a1b7-af4adedb391a",
   "metadata": {},
   "outputs": [
    {
     "data": {
      "text/plain": [
       "Person(first_name='Isaac', last_name='Newton', age=84)"
      ]
     },
     "execution_count": 9,
     "metadata": {},
     "output_type": "execute_result"
    }
   ],
   "source": [
    "p = Person.model_validate_json(data_json)\n",
    "p"
   ]
  },
  {
   "cell_type": "markdown",
   "id": "2ad8b93c-92c3-4808-9151-2787f92f3249",
   "metadata": {},
   "source": [
    "And validation exceptions happen just like before:"
   ]
  },
  {
   "cell_type": "code",
   "execution_count": 10,
   "id": "5113a337-a9ae-4126-ae27-c7a99767e86d",
   "metadata": {},
   "outputs": [
    {
     "name": "stdout",
     "output_type": "stream",
     "text": [
      "2 validation errors for Person\n",
      "first_name\n",
      "  Field required [type=missing, input_value={'last_name': 'Newton'}, input_type=dict]\n",
      "    For further information visit https://errors.pydantic.dev/2.5/v/missing\n",
      "age\n",
      "  Field required [type=missing, input_value={'last_name': 'Newton'}, input_type=dict]\n",
      "    For further information visit https://errors.pydantic.dev/2.5/v/missing\n"
     ]
    }
   ],
   "source": [
    "missing_data_json = '''\n",
    "{\n",
    "    \"last_name\": \"Newton\"\n",
    "}\n",
    "'''\n",
    "\n",
    "try:\n",
    "    Person.model_validate_json(missing_data_json)\n",
    "except ValidationError as ex:\n",
    "    print(ex)"
   ]
  },
  {
   "cell_type": "code",
   "execution_count": null,
   "id": "ba8b6b1e-cf03-42d9-9590-bdc78c2298dc",
   "metadata": {},
   "outputs": [],
   "source": []
  }
 ],
 "metadata": {
  "kernelspec": {
   "display_name": "Python 3 (ipykernel)",
   "language": "python",
   "name": "python3"
  },
  "language_info": {
   "codemirror_mode": {
    "name": "ipython",
    "version": 3
   },
   "file_extension": ".py",
   "mimetype": "text/x-python",
   "name": "python",
   "nbconvert_exporter": "python",
   "pygments_lexer": "ipython3",
   "version": "3.12.0"
  }
 },
 "nbformat": 4,
 "nbformat_minor": 5
}
