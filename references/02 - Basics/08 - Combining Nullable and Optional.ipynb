{
 "cells": [
  {
   "cell_type": "markdown",
   "id": "fe667879-c12b-4358-a37b-7efcf49828d6",
   "metadata": {},
   "source": [
    "# Combining Nullable and Optional"
   ]
  },
  {
   "cell_type": "markdown",
   "id": "87f1943a-1b55-4824-82e5-95270c9800a0",
   "metadata": {},
   "source": [
    "Since fields can be:\n",
    "- nullable or not nullable\n",
    "- required or optional\n",
    "\n",
    "we have four different ways to combine these attributes. \n",
    "\n",
    "This may sound rather obvious, but it can sometimes lead to confusion, so let's look at each combination separately, and make sure we understand what it means in terms of validation."
   ]
  },
  {
   "cell_type": "markdown",
   "id": "e2809c61-d860-4cd0-ba3d-64f7f9659110",
   "metadata": {},
   "source": [
    "## Required, Not Nullable"
   ]
  },
  {
   "cell_type": "markdown",
   "id": "6dd0a81f-d847-4849-b5ef-cbafc71fa8db",
   "metadata": {},
   "source": [
    "This is basically the default way of defining fields:"
   ]
  },
  {
   "cell_type": "code",
   "execution_count": 1,
   "id": "cb586bbe-ac9c-4d2b-9af5-3292f06bbf1c",
   "metadata": {},
   "outputs": [],
   "source": [
    "from pydantic import BaseModel, ValidationError"
   ]
  },
  {
   "cell_type": "code",
   "execution_count": 2,
   "id": "9ae9d75a-9364-474c-bc06-4d187d65fe06",
   "metadata": {},
   "outputs": [],
   "source": [
    "class Model(BaseModel):\n",
    "    field: int"
   ]
  },
  {
   "cell_type": "markdown",
   "id": "523dfd65-3bb5-4ae1-bb99-55f260be43e4",
   "metadata": {},
   "source": [
    "In this case `field` is required, and it only allows for integers (hence not nullable)."
   ]
  },
  {
   "cell_type": "code",
   "execution_count": 3,
   "id": "aa8c4667-93fd-4226-bde3-f79217bc83fc",
   "metadata": {},
   "outputs": [
    {
     "name": "stdout",
     "output_type": "stream",
     "text": [
      "1 validation error for Model\n",
      "field\n",
      "  Field required [type=missing, input_value={}, input_type=dict]\n",
      "    For further information visit https://errors.pydantic.dev/2.5/v/missing\n"
     ]
    }
   ],
   "source": [
    "try:\n",
    "    Model()\n",
    "except ValidationError as ex:\n",
    "    print(ex)"
   ]
  },
  {
   "cell_type": "code",
   "execution_count": 4,
   "id": "9623dde3-0407-481e-b29b-be534246be7c",
   "metadata": {},
   "outputs": [
    {
     "name": "stdout",
     "output_type": "stream",
     "text": [
      "1 validation error for Model\n",
      "field\n",
      "  Input should be a valid integer [type=int_type, input_value=None, input_type=NoneType]\n",
      "    For further information visit https://errors.pydantic.dev/2.5/v/int_type\n"
     ]
    }
   ],
   "source": [
    "try:\n",
    "    Model(field=None)\n",
    "except ValidationError as ex:\n",
    "    print(ex)"
   ]
  },
  {
   "cell_type": "markdown",
   "id": "a7251da9-afe0-4b1d-924c-0326e36d297a",
   "metadata": {},
   "source": [
    "## Required, Nullable"
   ]
  },
  {
   "cell_type": "markdown",
   "id": "69d91c86-654f-4028-9222-f364b54aaa2d",
   "metadata": {},
   "source": [
    "To make a field required, we simply do not specify a default, but we use a type hint to indicate `None` is acceptable."
   ]
  },
  {
   "cell_type": "code",
   "execution_count": 5,
   "id": "66ed799a-57ac-415d-881c-898d009c7db7",
   "metadata": {},
   "outputs": [],
   "source": [
    "class Model(BaseModel):\n",
    "    field: int | None"
   ]
  },
  {
   "cell_type": "code",
   "execution_count": 6,
   "id": "b043b697-b401-46e0-a5b4-8750735daeac",
   "metadata": {},
   "outputs": [
    {
     "name": "stdout",
     "output_type": "stream",
     "text": [
      "1 validation error for Model\n",
      "field\n",
      "  Field required [type=missing, input_value={}, input_type=dict]\n",
      "    For further information visit https://errors.pydantic.dev/2.5/v/missing\n"
     ]
    }
   ],
   "source": [
    "try:\n",
    "    Model()\n",
    "except ValidationError as ex:\n",
    "    print(ex)"
   ]
  },
  {
   "cell_type": "code",
   "execution_count": 7,
   "id": "b1f51174-7a2d-4ba2-9e32-fe8a990474e3",
   "metadata": {},
   "outputs": [
    {
     "data": {
      "text/plain": [
       "Model(field=None)"
      ]
     },
     "execution_count": 7,
     "metadata": {},
     "output_type": "execute_result"
    }
   ],
   "source": [
    "Model(field=None)"
   ]
  },
  {
   "cell_type": "markdown",
   "id": "22ca18ff-0c5c-49e7-a80d-b666684cde1e",
   "metadata": {},
   "source": [
    "## Optional, Not Nullable"
   ]
  },
  {
   "cell_type": "code",
   "execution_count": 8,
   "id": "610d5c98-766c-4b58-98a8-191c4e443909",
   "metadata": {},
   "outputs": [],
   "source": [
    "class Model(BaseModel):\n",
    "    field: int = 0"
   ]
  },
  {
   "cell_type": "markdown",
   "id": "6259c5a0-5ab6-42b9-87f3-c203b37e73da",
   "metadata": {},
   "source": [
    "As I pointed out in an earlier video, be careful not to specify `None` as the default, since the type hint does not indicate that `None` is acceptable. By default Pydantic will allow it (since it does not validate defaults), but in an upcoming video we'll see how to change that behavior."
   ]
  },
  {
   "cell_type": "code",
   "execution_count": 9,
   "id": "593f6bf1-cc48-42e9-851d-ffa9ff60fc8e",
   "metadata": {},
   "outputs": [
    {
     "data": {
      "text/plain": [
       "Model(field=0)"
      ]
     },
     "execution_count": 9,
     "metadata": {},
     "output_type": "execute_result"
    }
   ],
   "source": [
    "Model()"
   ]
  },
  {
   "cell_type": "code",
   "execution_count": 10,
   "id": "ffa7298d-0e6b-41db-9433-b2d8c83bb8a8",
   "metadata": {},
   "outputs": [
    {
     "name": "stdout",
     "output_type": "stream",
     "text": [
      "1 validation error for Model\n",
      "field\n",
      "  Input should be a valid integer [type=int_type, input_value=None, input_type=NoneType]\n",
      "    For further information visit https://errors.pydantic.dev/2.5/v/int_type\n"
     ]
    }
   ],
   "source": [
    "try:\n",
    "    Model(field=None)\n",
    "except ValidationError as ex:\n",
    "    print(ex)"
   ]
  },
  {
   "cell_type": "markdown",
   "id": "9483503d-ef1d-4e43-bf2b-673ce639fe42",
   "metadata": {},
   "source": [
    "## Optional, Nullable"
   ]
  },
  {
   "cell_type": "markdown",
   "id": "7a60b612-4650-43dc-bedf-1bcd285b6058",
   "metadata": {},
   "source": [
    "And finally, what is commonly used for nullable fields, we also make them optional, using `None` as the default:"
   ]
  },
  {
   "cell_type": "code",
   "execution_count": 11,
   "id": "a5536605-af66-4422-a3f8-f0d7cb035714",
   "metadata": {},
   "outputs": [],
   "source": [
    "class Model(BaseModel):\n",
    "    field: int | None = None"
   ]
  },
  {
   "cell_type": "code",
   "execution_count": 12,
   "id": "c92c8728-54bf-427b-8628-5a866d889c0f",
   "metadata": {},
   "outputs": [
    {
     "data": {
      "text/plain": [
       "Model(field=None)"
      ]
     },
     "execution_count": 12,
     "metadata": {},
     "output_type": "execute_result"
    }
   ],
   "source": [
    "Model()"
   ]
  },
  {
   "cell_type": "code",
   "execution_count": 13,
   "id": "520b9b5a-b379-4e5e-95e1-3188bf9fde84",
   "metadata": {},
   "outputs": [
    {
     "data": {
      "text/plain": [
       "Model(field=None)"
      ]
     },
     "execution_count": 13,
     "metadata": {},
     "output_type": "execute_result"
    }
   ],
   "source": [
    "Model(field=None)"
   ]
  },
  {
   "cell_type": "code",
   "execution_count": null,
   "id": "98209b93-1004-4231-bb3b-c5363cce6caa",
   "metadata": {},
   "outputs": [],
   "source": []
  }
 ],
 "metadata": {
  "kernelspec": {
   "display_name": "Python 3 (ipykernel)",
   "language": "python",
   "name": "python3"
  },
  "language_info": {
   "codemirror_mode": {
    "name": "ipython",
    "version": 3
   },
   "file_extension": ".py",
   "mimetype": "text/x-python",
   "name": "python",
   "nbconvert_exporter": "python",
   "pygments_lexer": "ipython3",
   "version": "3.12.0"
  }
 },
 "nbformat": 4,
 "nbformat_minor": 5
}
