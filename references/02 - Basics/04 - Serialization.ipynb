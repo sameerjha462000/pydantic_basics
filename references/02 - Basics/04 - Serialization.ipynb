{
 "cells": [
  {
   "cell_type": "markdown",
   "id": "7917c010-0cca-42a2-80fe-d4cc8d28dbfe",
   "metadata": {},
   "source": [
    "# Serialization"
   ]
  },
  {
   "cell_type": "markdown",
   "id": "e07a5338-e47f-4714-8a06-fe9c984c25e9",
   "metadata": {},
   "source": [
    "Let's start with the same model we had before:"
   ]
  },
  {
   "cell_type": "code",
   "execution_count": 1,
   "id": "0bc141b7-ebf3-4580-b084-e15d07407fb0",
   "metadata": {},
   "outputs": [],
   "source": [
    "from pydantic import BaseModel, ValidationError\n",
    "\n",
    "class Person(BaseModel):\n",
    "    first_name: str\n",
    "    last_name: str\n",
    "    age: int"
   ]
  },
  {
   "cell_type": "markdown",
   "id": "5b4a1eb1-d498-45f6-91f1-3fe68259e41a",
   "metadata": {},
   "source": [
    "And let's create a couple of instances of this model:"
   ]
  },
  {
   "cell_type": "code",
   "execution_count": 2,
   "id": "fef6864d-bf70-4e27-aea6-b2c10b1f4477",
   "metadata": {},
   "outputs": [],
   "source": [
    "galois = Person(first_name='Evariste', last_name='Galois', age=20)\n",
    "newton = Person(first_name='Isaac', last_name='Newton', age=84)"
   ]
  },
  {
   "cell_type": "markdown",
   "id": "0afcdf19-1005-44c5-946d-8c8c49f2f9e6",
   "metadata": {},
   "source": [
    "Those are standard Python objects, they even have instance dictionaries:"
   ]
  },
  {
   "cell_type": "code",
   "execution_count": 3,
   "id": "816f1ae0-0617-4993-8f42-c8db65f178e4",
   "metadata": {},
   "outputs": [
    {
     "data": {
      "text/plain": [
       "{'first_name': 'Isaac', 'last_name': 'Newton', 'age': 84}"
      ]
     },
     "execution_count": 3,
     "metadata": {},
     "output_type": "execute_result"
    }
   ],
   "source": [
    "newton.__dict__"
   ]
  },
  {
   "cell_type": "markdown",
   "id": "be048309-cdff-4bbf-a6f0-630e93e72eae",
   "metadata": {},
   "source": [
    "But because they inherited from Pydantic's `BaseModel`, we have a lot of extra functionality.\n",
    "\n",
    "For example, we can choose to generate a dictionary, or a JSON string that represents the data in the instance.\n",
    "\n",
    "Pydantic provides us two methods for this:\n",
    "- `model_dump()`\n",
    "- `model_dump_json()`"
   ]
  },
  {
   "cell_type": "markdown",
   "id": "f092e6e7-c810-4960-994c-3a7bc9678f52",
   "metadata": {},
   "source": [
    "These methods will take the data in the instance, and produce a different object - a `dict` or a `str`. \n",
    "\n",
    "This is called **serializing** the model."
   ]
  },
  {
   "cell_type": "code",
   "execution_count": 4,
   "id": "ca6d255e-cec0-4ca4-8204-c5b0768353cd",
   "metadata": {},
   "outputs": [
    {
     "data": {
      "text/plain": [
       "{'first_name': 'Evariste', 'last_name': 'Galois', 'age': 20}"
      ]
     },
     "execution_count": 4,
     "metadata": {},
     "output_type": "execute_result"
    }
   ],
   "source": [
    "galois.model_dump()"
   ]
  },
  {
   "cell_type": "markdown",
   "id": "9ea2889d-4286-4c0e-9fb6-295499f6f84f",
   "metadata": {},
   "source": [
    "This was a Python `dict` object:"
   ]
  },
  {
   "cell_type": "code",
   "execution_count": 5,
   "id": "90b28c60-491d-45cc-a509-d0b647ec444c",
   "metadata": {},
   "outputs": [
    {
     "data": {
      "text/plain": [
       "dict"
      ]
     },
     "execution_count": 5,
     "metadata": {},
     "output_type": "execute_result"
    }
   ],
   "source": [
    "type(galois.model_dump())"
   ]
  },
  {
   "cell_type": "markdown",
   "id": "b34c1f7a-40a0-4db2-9d6d-9671ee9fe6f4",
   "metadata": {},
   "source": [
    "And we can serialize to JSON:"
   ]
  },
  {
   "cell_type": "code",
   "execution_count": 6,
   "id": "b5537f86-3fe4-453b-b980-f7cdc8e2a6cc",
   "metadata": {},
   "outputs": [
    {
     "data": {
      "text/plain": [
       "'{\"first_name\":\"Isaac\",\"last_name\":\"Newton\",\"age\":84}'"
      ]
     },
     "execution_count": 6,
     "metadata": {},
     "output_type": "execute_result"
    }
   ],
   "source": [
    "newton.model_dump_json()"
   ]
  },
  {
   "cell_type": "markdown",
   "id": "fe1c408a-e539-488c-93a8-3790f8e03d8d",
   "metadata": {},
   "source": [
    "Notice the single quotes around the output above - that was a string, not a dictionary. And the string will contain valid JSON."
   ]
  },
  {
   "cell_type": "code",
   "execution_count": 7,
   "id": "3506d8c2-2b2f-405a-a6c4-4032c69bfa08",
   "metadata": {},
   "outputs": [
    {
     "data": {
      "text/plain": [
       "str"
      ]
     },
     "execution_count": 7,
     "metadata": {},
     "output_type": "execute_result"
    }
   ],
   "source": [
    "type(newton.model_dump_json())"
   ]
  },
  {
   "cell_type": "markdown",
   "id": "4aa729ba-95b0-414b-b132-8a7b9b03f017",
   "metadata": {},
   "source": [
    "Note that under the hood, Pydantic uses `dumps()` from the `json` module - which means you can technically pass arguments to it via the `model_dump_json()` method."
   ]
  },
  {
   "cell_type": "code",
   "execution_count": 8,
   "id": "1259e13c-8991-4a94-8b30-9ef61a855ae1",
   "metadata": {},
   "outputs": [
    {
     "data": {
      "text/plain": [
       "'{\\n  \"first_name\": \"Isaac\",\\n  \"last_name\": \"Newton\",\\n  \"age\": 84\\n}'"
      ]
     },
     "execution_count": 8,
     "metadata": {},
     "output_type": "execute_result"
    }
   ],
   "source": [
    "newton.model_dump_json(indent=2)"
   ]
  },
  {
   "cell_type": "markdown",
   "id": "b4c68d33-ff0c-4b5a-98f3-eac698ea9601",
   "metadata": {},
   "source": [
    "And we can `print()` this so it handles escape characters properly for display:"
   ]
  },
  {
   "cell_type": "code",
   "execution_count": 9,
   "id": "aaa4250a-63fc-49c9-a161-e3a559d4f843",
   "metadata": {},
   "outputs": [
    {
     "name": "stdout",
     "output_type": "stream",
     "text": [
      "{\n",
      "  \"first_name\": \"Isaac\",\n",
      "  \"last_name\": \"Newton\",\n",
      "  \"age\": 84\n",
      "}\n"
     ]
    }
   ],
   "source": [
    "print(newton.model_dump_json(indent=2))"
   ]
  },
  {
   "cell_type": "markdown",
   "id": "b14ac458-e786-4d29-938e-8aa0dcfdec1a",
   "metadata": {},
   "source": [
    "We can also choose whether to exclude certain fields from the serialization by using the `exclude` argument of the dump methods:"
   ]
  },
  {
   "cell_type": "code",
   "execution_count": 10,
   "id": "e7218122-431d-4e3c-b0ab-d07c7d17eac1",
   "metadata": {},
   "outputs": [
    {
     "data": {
      "text/plain": [
       "{'last_name': 'Galois'}"
      ]
     },
     "execution_count": 10,
     "metadata": {},
     "output_type": "execute_result"
    }
   ],
   "source": [
    "galois.model_dump(exclude=['first_name', 'age'])"
   ]
  },
  {
   "cell_type": "markdown",
   "id": "b035179d-b09c-4276-b510-1051d9a25379",
   "metadata": {},
   "source": [
    "Similarly with the JSON version:"
   ]
  },
  {
   "cell_type": "code",
   "execution_count": 11,
   "id": "a24ac7f4-e100-4db0-8bb8-b29deb46afc6",
   "metadata": {},
   "outputs": [
    {
     "data": {
      "text/plain": [
       "{'first_name': 'Isaac', 'last_name': 'Newton'}"
      ]
     },
     "execution_count": 11,
     "metadata": {},
     "output_type": "execute_result"
    }
   ],
   "source": [
    "newton.model_dump(exclude=['age'])"
   ]
  },
  {
   "cell_type": "markdown",
   "id": "27ed2e80-b22e-4da3-8668-febd9c16287f",
   "metadata": {},
   "source": [
    "There are a number of different ways to control the data that gets serialized, and even **how** the data gets serialized. We'll explore this in later videos."
   ]
  },
  {
   "cell_type": "markdown",
   "id": "d88af0a0-bb35-4bf9-9795-de571a01e122",
   "metadata": {},
   "source": [
    "Instead of picking which fields to exclude, we could also pick which fields to include (and it will then exclude all the others):"
   ]
  },
  {
   "cell_type": "code",
   "execution_count": 12,
   "id": "9989ddff-c0af-4883-b2ff-40e02c623d88",
   "metadata": {},
   "outputs": [
    {
     "data": {
      "text/plain": [
       "{'last_name': 'Newton'}"
      ]
     },
     "execution_count": 12,
     "metadata": {},
     "output_type": "execute_result"
    }
   ],
   "source": [
    "newton.model_dump(include=[\"last_name\"])"
   ]
  },
  {
   "cell_type": "markdown",
   "id": "a8cf78a1-0d5c-4e50-87fa-81d7bda84a29",
   "metadata": {},
   "source": [
    "This can be handy - and we'll look at an example of this later."
   ]
  },
  {
   "cell_type": "code",
   "execution_count": null,
   "id": "c1f388ca-13a8-4473-904e-ac6ac8a70db6",
   "metadata": {},
   "outputs": [],
   "source": []
  }
 ],
 "metadata": {
  "kernelspec": {
   "display_name": "Python 3 (ipykernel)",
   "language": "python",
   "name": "python3"
  },
  "language_info": {
   "codemirror_mode": {
    "name": "ipython",
    "version": 3
   },
   "file_extension": ".py",
   "mimetype": "text/x-python",
   "name": "python",
   "nbconvert_exporter": "python",
   "pygments_lexer": "ipython3",
   "version": "3.12.0"
  }
 },
 "nbformat": 4,
 "nbformat_minor": 5
}
