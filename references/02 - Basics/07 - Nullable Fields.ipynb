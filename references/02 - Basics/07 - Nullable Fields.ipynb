{
 "cells": [
  {
   "cell_type": "markdown",
   "id": "a82c2df5-ed27-4f86-a589-8a885eff948c",
   "metadata": {},
   "source": [
    "# Nullable Fields"
   ]
  },
  {
   "cell_type": "markdown",
   "id": "b973fd11-b659-4e30-ab1a-e674038276ad",
   "metadata": {},
   "source": [
    "A nullable field is slightly different from an optional field."
   ]
  },
  {
   "cell_type": "markdown",
   "id": "5d502c3b-2135-4c16-b680-2341bec6e392",
   "metadata": {},
   "source": [
    "An optional field simply means that the data being deserialized does not need to contain the **key** for that specific field, and in that case, a pre-defined default is used."
   ]
  },
  {
   "cell_type": "markdown",
   "id": "9d4e6982-d851-43a1-ba08-f5816b8d5a46",
   "metadata": {},
   "source": [
    "On the other hand, nullability of a field has nothing to do with whether it is optional or not - it basically just indicates whether a field can be set to `None` (or `null` in JSON) perspective."
   ]
  },
  {
   "cell_type": "markdown",
   "id": "1d1fdced-1437-48b7-be75-afb08983fb20",
   "metadata": {},
   "source": [
    "Let's take a look:"
   ]
  },
  {
   "cell_type": "markdown",
   "id": "87fa44bc-b95f-490a-bdce-12b48d99786e",
   "metadata": {},
   "source": [
    "Since Pydantic does type validation, if we define a field to be of some type, say `int`, trying to set that field to `None` will fail, since `None` is a distinct type in Python, and cannot be coerced to an int."
   ]
  },
  {
   "cell_type": "code",
   "execution_count": 1,
   "id": "8a05edb4-22dc-4b53-bc92-9d6bdb437697",
   "metadata": {},
   "outputs": [],
   "source": [
    "from pydantic import BaseModel, ValidationError\n",
    "\n",
    "class Model(BaseModel):\n",
    "    field: int"
   ]
  },
  {
   "cell_type": "code",
   "execution_count": 2,
   "id": "3fdc0e01-59a5-4dc6-b5bb-a84649ff1990",
   "metadata": {},
   "outputs": [
    {
     "name": "stdout",
     "output_type": "stream",
     "text": [
      "1 validation error for Model\n",
      "field\n",
      "  Input should be a valid integer [type=int_type, input_value=None, input_type=NoneType]\n",
      "    For further information visit https://errors.pydantic.dev/2.5/v/int_type\n"
     ]
    }
   ],
   "source": [
    "try:\n",
    "    Model(field=None)\n",
    "except ValidationError as ex:\n",
    "    print(ex)"
   ]
  },
  {
   "cell_type": "markdown",
   "id": "3b26597f-2b1f-434b-a05e-aa42a0e7eb71",
   "metadata": {},
   "source": [
    "As you can see, the exception we get here is saying that the data is not a valid integer, quite different from this:"
   ]
  },
  {
   "cell_type": "code",
   "execution_count": 3,
   "id": "497c5030-23aa-4aa2-98b7-4a6cba2ba096",
   "metadata": {},
   "outputs": [
    {
     "name": "stdout",
     "output_type": "stream",
     "text": [
      "1 validation error for Model\n",
      "field\n",
      "  Field required [type=missing, input_value={}, input_type=dict]\n",
      "    For further information visit https://errors.pydantic.dev/2.5/v/missing\n"
     ]
    }
   ],
   "source": [
    "try:\n",
    "    Model()\n",
    "except ValidationError as ex:\n",
    "    print(ex)"
   ]
  },
  {
   "cell_type": "markdown",
   "id": "33626e72-1684-4481-b67c-973d3c87cb62",
   "metadata": {},
   "source": [
    "where the exception has to do with a required field."
   ]
  },
  {
   "cell_type": "markdown",
   "id": "a888bc3d-f75b-4488-843e-96e60336c65c",
   "metadata": {},
   "source": [
    "To indicate to Pydantic that a field is nullable (will entertain either the actual type, or the None type), we need to specify it in the type hint."
   ]
  },
  {
   "cell_type": "code",
   "execution_count": 4,
   "id": "b93f4a28-adea-4024-9396-991bea6627ec",
   "metadata": {},
   "outputs": [],
   "source": [
    "class Model(BaseModel):\n",
    "    field: int | None"
   ]
  },
  {
   "cell_type": "markdown",
   "id": "d5569878-1b97-4be5-8571-238a6458e324",
   "metadata": {},
   "source": [
    "This type hint informs Pydantic that either an integer (or something that can be coerced to an integer) or `None` are acceptabler values for that field."
   ]
  },
  {
   "cell_type": "code",
   "execution_count": 5,
   "id": "4e0783d5-4547-4d91-9c63-375da590ded5",
   "metadata": {},
   "outputs": [
    {
     "data": {
      "text/plain": [
       "Model(field=None)"
      ]
     },
     "execution_count": 5,
     "metadata": {},
     "output_type": "execute_result"
    }
   ],
   "source": [
    "Model(field=None)"
   ]
  },
  {
   "cell_type": "code",
   "execution_count": 6,
   "id": "31bcfaa5-c6b4-44d1-b8a0-b6f519988789",
   "metadata": {},
   "outputs": [
    {
     "data": {
      "text/plain": [
       "Model(field=1)"
      ]
     },
     "execution_count": 6,
     "metadata": {},
     "output_type": "execute_result"
    }
   ],
   "source": [
    "Model(field=\"1\")"
   ]
  },
  {
   "cell_type": "markdown",
   "id": "6ee9df06-d644-498b-a43a-23c97e3fc759",
   "metadata": {},
   "source": [
    "As you can see, we now have a nullable field."
   ]
  },
  {
   "cell_type": "markdown",
   "id": "8dfebdf4-7c22-4813-8785-cea12bf60e41",
   "metadata": {},
   "source": [
    "But the field is not optional!"
   ]
  },
  {
   "cell_type": "code",
   "execution_count": 7,
   "id": "72177c01-aa64-42bb-adea-f4dd709c6768",
   "metadata": {},
   "outputs": [
    {
     "name": "stdout",
     "output_type": "stream",
     "text": [
      "1 validation error for Model\n",
      "field\n",
      "  Field required [type=missing, input_value={}, input_type=dict]\n",
      "    For further information visit https://errors.pydantic.dev/2.5/v/missing\n"
     ]
    }
   ],
   "source": [
    "try:\n",
    "    Model()\n",
    "except ValidationError as ex:\n",
    "    print(ex)"
   ]
  },
  {
   "cell_type": "markdown",
   "id": "4e4ff585-b237-405d-b5b6-b4cb3b95b972",
   "metadata": {},
   "source": [
    "Nullable fields and optional fields often go hand in hand, simply because we often choose to set the default for a field to `None`, to indicate no value has been provided in the data."
   ]
  },
  {
   "cell_type": "markdown",
   "id": "d385597f-9089-4899-9ea4-0c6d6e4fac3b",
   "metadata": {},
   "source": [
    "In a case like this, we would the field to be **both** nullable and optional.\n",
    "\n",
    "We do it this way:"
   ]
  },
  {
   "cell_type": "code",
   "execution_count": 8,
   "id": "002ac00a-c0c8-4739-b941-010d0ed8c972",
   "metadata": {},
   "outputs": [],
   "source": [
    "class Model(BaseModel):\n",
    "    field: int | None = None"
   ]
  },
  {
   "cell_type": "markdown",
   "id": "1d4be19b-c254-45c1-a217-306191e07db1",
   "metadata": {},
   "source": [
    "Now we have a field that is optional (because a default has ben provided), and is nullable (because of the `int | None` type hint).\n",
    "\n",
    "We just happened to choose `None` as a default value, but of course it could be something any integer value too."
   ]
  },
  {
   "cell_type": "markdown",
   "id": "a293c3b1-3f97-460f-bbe7-be80349d4c8c",
   "metadata": {},
   "source": [
    "I want to point out that the notation `int | None` only became available in Python 3.10."
   ]
  },
  {
   "cell_type": "markdown",
   "id": "496ffaa9-b1b1-4350-ba02-54af2ed790b9",
   "metadata": {},
   "source": [
    "Before that, we had (and still have) two additional ways of specifying this type hint."
   ]
  },
  {
   "cell_type": "markdown",
   "id": "e498d4b4-e270-4877-9ed0-4feb7279e76f",
   "metadata": {},
   "source": [
    "The first one is by using `Union` from the `typing` module:"
   ]
  },
  {
   "cell_type": "code",
   "execution_count": 9,
   "id": "c6f7aaae-6409-4a7f-a34d-8e76f1104f81",
   "metadata": {},
   "outputs": [],
   "source": [
    "from typing import Union\n",
    "\n",
    "class Model(BaseModel):\n",
    "    field: Union[int, None]"
   ]
  },
  {
   "cell_type": "markdown",
   "id": "7354baae-8a73-4c31-8915-f17aa192222d",
   "metadata": {},
   "source": [
    "This is completely equivalent to writing `int | None`."
   ]
  },
  {
   "cell_type": "code",
   "execution_count": 10,
   "id": "6f3cd075-34ae-4aae-a61c-e9997995c39a",
   "metadata": {},
   "outputs": [
    {
     "data": {
      "text/plain": [
       "Model(field=None)"
      ]
     },
     "execution_count": 10,
     "metadata": {},
     "output_type": "execute_result"
    }
   ],
   "source": [
    "Model(field=None)"
   ]
  },
  {
   "cell_type": "markdown",
   "id": "15932bb1-6da4-4669-b122-791bde8e923d",
   "metadata": {},
   "source": [
    "Yet another way is to use `Optional`, also from the `typing` module:"
   ]
  },
  {
   "cell_type": "code",
   "execution_count": 11,
   "id": "5b108636-24c4-4a2f-b5c3-31c18aaf368f",
   "metadata": {},
   "outputs": [],
   "source": [
    "from typing import Optional\n",
    "\n",
    "class Model(BaseModel):\n",
    "    field: Optional[int]"
   ]
  },
  {
   "cell_type": "markdown",
   "id": "20e6c87b-c7ad-4d13-884d-7f520a347319",
   "metadata": {},
   "source": [
    "I typically do not use `Optional` when working with Python versions prior to 3.10.\n",
    "\n",
    "The reason I do not like it, is that when working with Pydantic models, optional means something else. Here, we use `Optional` to indicate that field is **nullable**, not to indicate that it is optional."
   ]
  },
  {
   "cell_type": "markdown",
   "id": "25fcad99-4bb3-40e9-85e1-08390f19356c",
   "metadata": {},
   "source": [
    "We can verify this:"
   ]
  },
  {
   "cell_type": "code",
   "execution_count": 12,
   "id": "410ecb7f-bcfc-4e1c-bcc1-efc93698269e",
   "metadata": {},
   "outputs": [
    {
     "name": "stdout",
     "output_type": "stream",
     "text": [
      "1 validation error for Model\n",
      "field\n",
      "  Field required [type=missing, input_value={}, input_type=dict]\n",
      "    For further information visit https://errors.pydantic.dev/2.5/v/missing\n"
     ]
    }
   ],
   "source": [
    "try:\n",
    "    Model()\n",
    "except ValidationError as ex:\n",
    "    print(ex)"
   ]
  },
  {
   "cell_type": "markdown",
   "id": "da188df6-7039-4347-ae32-d39d6b03ff51",
   "metadata": {},
   "source": [
    "In order to make a field optional we have to provide a default value, like this:"
   ]
  },
  {
   "cell_type": "code",
   "execution_count": 13,
   "id": "c1c03b16-f2e6-4154-8973-77ad5cb8a6f0",
   "metadata": {},
   "outputs": [],
   "source": [
    "class Model(BaseModel):\n",
    "    field: Optional[int] = None"
   ]
  },
  {
   "cell_type": "code",
   "execution_count": 14,
   "id": "66cb1fc2-cb79-409a-8d8c-39fde27300ed",
   "metadata": {},
   "outputs": [
    {
     "data": {
      "text/plain": [
       "Model(field=None)"
      ]
     },
     "execution_count": 14,
     "metadata": {},
     "output_type": "execute_result"
    }
   ],
   "source": [
    "Model()"
   ]
  },
  {
   "cell_type": "markdown",
   "id": "f524b856-fe55-4578-bdf6-e7743789120d",
   "metadata": {},
   "source": [
    "Those tree ways of specifying nullability are completely equivalent:"
   ]
  },
  {
   "cell_type": "code",
   "execution_count": 15,
   "id": "ba5aef31-3eda-4448-a4e5-dfaac31fb051",
   "metadata": {},
   "outputs": [],
   "source": [
    "class Model(BaseModel):\n",
    "    field_1: int | None\n",
    "    field_2: Union[int, None]\n",
    "    field_3: Optional[int]"
   ]
  },
  {
   "cell_type": "markdown",
   "id": "7b523560-736c-48cb-ac77-6d6d79e330d2",
   "metadata": {},
   "source": [
    "And, in fact, when we look at the field definitions:"
   ]
  },
  {
   "cell_type": "code",
   "execution_count": 16,
   "id": "84c12a81-c9bf-483e-a097-ea03d5833c1c",
   "metadata": {},
   "outputs": [
    {
     "data": {
      "text/plain": [
       "{'field_1': FieldInfo(annotation=Union[int, NoneType], required=True),\n",
       " 'field_2': FieldInfo(annotation=Union[int, NoneType], required=True),\n",
       " 'field_3': FieldInfo(annotation=Union[int, NoneType], required=True)}"
      ]
     },
     "execution_count": 16,
     "metadata": {},
     "output_type": "execute_result"
    }
   ],
   "source": [
    "Model.model_fields"
   ]
  },
  {
   "cell_type": "markdown",
   "id": "d54cc364-2bdc-41ae-a4b1-671ceed33bca",
   "metadata": {},
   "source": [
    "You'll notice that all three fields are represented by Pydantic as `Union[int, None]`"
   ]
  },
  {
   "cell_type": "markdown",
   "id": "a3006ff3-27d4-4249-ac3a-e9b4ff3919b0",
   "metadata": {},
   "source": [
    "Both `int | None` and `Optional[int]` are just **convenience** syntax to represent `Union[int, None]`."
   ]
  },
  {
   "cell_type": "markdown",
   "id": "1a75c292-2b16-4015-8294-f484213f9065",
   "metadata": {},
   "source": [
    "A very common mistake beginners make, is to set a field default to `None` without indicating that the field is nullable.\n",
    "\n",
    "In other words I often see code like this:"
   ]
  },
  {
   "cell_type": "code",
   "execution_count": 17,
   "id": "1005e958-7ab3-49e9-99ba-0cb32fbd410a",
   "metadata": {},
   "outputs": [],
   "source": [
    "class Model(BaseModel):\n",
    "    field: int = None"
   ]
  },
  {
   "cell_type": "markdown",
   "id": "4e7ce1da-ff6b-4317-a1ec-c4eb80a18b81",
   "metadata": {},
   "source": [
    "Because of the way Pydantic does not validate defaults (by default), the above model will appear to work fine, but could cause trouble down the road:"
   ]
  },
  {
   "cell_type": "code",
   "execution_count": 18,
   "id": "dfc9c91d-68e1-4edd-8b7c-7718fb62c4a5",
   "metadata": {},
   "outputs": [
    {
     "data": {
      "text/plain": [
       "Model(field=None)"
      ]
     },
     "execution_count": 18,
     "metadata": {},
     "output_type": "execute_result"
    }
   ],
   "source": [
    "m = Model()\n",
    "m"
   ]
  },
  {
   "cell_type": "markdown",
   "id": "833ac017-20d9-4d1f-8e47-da52038a8991",
   "metadata": {},
   "source": [
    "But of course the field is not really nullable, so this would not work:"
   ]
  },
  {
   "cell_type": "code",
   "execution_count": 19,
   "id": "19ee8766-216b-4de4-a90b-d0853d980899",
   "metadata": {},
   "outputs": [
    {
     "name": "stdout",
     "output_type": "stream",
     "text": [
      "1 validation error for Model\n",
      "field\n",
      "  Input should be a valid integer [type=int_type, input_value=None, input_type=NoneType]\n",
      "    For further information visit https://errors.pydantic.dev/2.5/v/int_type\n"
     ]
    }
   ],
   "source": [
    "try:\n",
    "    Model(field=None)\n",
    "except ValidationError as ex:\n",
    "    print(ex)"
   ]
  },
  {
   "cell_type": "markdown",
   "id": "10baf7b9-a7e0-483f-9430-fc6abb71f244",
   "metadata": {},
   "source": [
    "The correct way to define this model would be:"
   ]
  },
  {
   "cell_type": "code",
   "execution_count": 20,
   "id": "6ac3d644-24e3-4788-af2c-d83f95f86ae7",
   "metadata": {},
   "outputs": [],
   "source": [
    "class Model(BaseModel):\n",
    "    field: int | None = None"
   ]
  },
  {
   "cell_type": "markdown",
   "id": "33400fff-e8b8-4692-9920-6799525f1d65",
   "metadata": {},
   "source": [
    "In fact, let's spend a little more time on the different combinations of optional and nullable for model fields - next video!"
   ]
  },
  {
   "cell_type": "code",
   "execution_count": null,
   "id": "b17933bf-df97-4d76-a6c6-63a6cbbdaf2d",
   "metadata": {},
   "outputs": [],
   "source": []
  }
 ],
 "metadata": {
  "kernelspec": {
   "display_name": "Python 3 (ipykernel)",
   "language": "python",
   "name": "python3"
  },
  "language_info": {
   "codemirror_mode": {
    "name": "ipython",
    "version": 3
   },
   "file_extension": ".py",
   "mimetype": "text/x-python",
   "name": "python",
   "nbconvert_exporter": "python",
   "pygments_lexer": "ipython3",
   "version": "3.12.0"
  }
 },
 "nbformat": 4,
 "nbformat_minor": 5
}
