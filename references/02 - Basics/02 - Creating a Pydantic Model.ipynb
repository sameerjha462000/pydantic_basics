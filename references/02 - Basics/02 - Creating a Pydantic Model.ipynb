{
 "cells": [
  {
   "cell_type": "markdown",
   "id": "2166a1fd-2b1d-4502-8452-c9397206c6f3",
   "metadata": {},
   "source": [
    "# Creating a Pydantic Model"
   ]
  },
  {
   "cell_type": "markdown",
   "id": "d0d05814-dc6a-4ce5-9e56-e0bcb8be02d0",
   "metadata": {},
   "source": [
    "To define a Pydantic model, we have to inherit from the `BaseModel` class."
   ]
  },
  {
   "cell_type": "code",
   "execution_count": 1,
   "id": "09719eda-8302-4eeb-8946-cf5ec6102d2f",
   "metadata": {},
   "outputs": [],
   "source": [
    "from pydantic import BaseModel"
   ]
  },
  {
   "cell_type": "markdown",
   "id": "6912056a-e297-40db-b0e2-5cd23a84839d",
   "metadata": {},
   "source": [
    "Think of a Pydantic model as a data structure containing named fields.\n",
    "\n",
    "Furthermore, we add information about the expected type of each field, using type hints."
   ]
  },
  {
   "cell_type": "code",
   "execution_count": 2,
   "id": "f3dcdb02-0e04-447c-ad96-b2f8f00b957d",
   "metadata": {},
   "outputs": [],
   "source": [
    "class Person(BaseModel):\n",
    "    first_name: str\n",
    "    last_name: str\n",
    "    age: int"
   ]
  },
  {
   "cell_type": "markdown",
   "id": "f70091df-947e-4583-b024-f8d47e9b884a",
   "metadata": {},
   "source": [
    "This is a basic Pydantic model. It is a Pydantic model because it **inherits** from `BaseModel`, but it is also a regular Python class, so you can choose to add your own methods properties, etc to it if you so wish.\n",
    "\n",
    "It has three fields, and each field has been provided a type hint indicating its expected type. \n",
    "\n",
    "Since Pydantic leverages Python's type hinting system, you can use any Python type hint you want here, including custom types, generics, etc.\n",
    "\n",
    "Now that we have a model defined, we can create instances of the model. We have three basic ways of doing this."
   ]
  },
  {
   "cell_type": "code",
   "execution_count": 3,
   "id": "5abb41c1-7ddf-4ebe-a130-70ada8e34187",
   "metadata": {},
   "outputs": [],
   "source": [
    "p = Person(first_name=\"Evariste\", last_name=\"Galois\", age=20)"
   ]
  },
  {
   "cell_type": "markdown",
   "id": "a515c38b-10e0-4389-b214-754dd214f399",
   "metadata": {},
   "source": [
    "Pydantic automatically provides `str` and `repr` representations:"
   ]
  },
  {
   "cell_type": "code",
   "execution_count": 4,
   "id": "afceee00-d84e-4c1e-9c7f-77c8805b7779",
   "metadata": {},
   "outputs": [
    {
     "data": {
      "text/plain": [
       "\"first_name='Evariste' last_name='Galois' age=20\""
      ]
     },
     "execution_count": 4,
     "metadata": {},
     "output_type": "execute_result"
    }
   ],
   "source": [
    "str(p)"
   ]
  },
  {
   "cell_type": "code",
   "execution_count": 5,
   "id": "9db8edae-f14f-457c-b2a1-cf730f6957b5",
   "metadata": {},
   "outputs": [
    {
     "data": {
      "text/plain": [
       "\"Person(first_name='Evariste', last_name='Galois', age=20)\""
      ]
     },
     "execution_count": 5,
     "metadata": {},
     "output_type": "execute_result"
    }
   ],
   "source": [
    "repr(p)"
   ]
  },
  {
   "cell_type": "markdown",
   "id": "4907d74f-6cab-4a17-9f03-ad2501c3a441",
   "metadata": {},
   "source": [
    "We can inspect the fields in a Pydantic model using the `model_fields` property:"
   ]
  },
  {
   "cell_type": "code",
   "execution_count": 6,
   "id": "029db143-b111-4e88-863d-947a8540a64c",
   "metadata": {},
   "outputs": [
    {
     "data": {
      "text/plain": [
       "{'first_name': FieldInfo(annotation=str, required=True),\n",
       " 'last_name': FieldInfo(annotation=str, required=True),\n",
       " 'age': FieldInfo(annotation=int, required=True)}"
      ]
     },
     "execution_count": 6,
     "metadata": {},
     "output_type": "execute_result"
    }
   ],
   "source": [
    "p.model_fields"
   ]
  },
  {
   "cell_type": "markdown",
   "id": "3271114d-8a6a-44f4-b918-75d175fc2c67",
   "metadata": {},
   "source": [
    "You'll notice that each field is listed, and one interesting thing is that `required=True` attached to each field."
   ]
  },
  {
   "cell_type": "markdown",
   "id": "28916477-0f6d-4d8c-9276-c8e4b1deee6d",
   "metadata": {},
   "source": [
    "And indeed, if we were to try and create a model instance without passing in a value for any of those fields, we would get an exception."
   ]
  },
  {
   "cell_type": "markdown",
   "id": "adb83483-75d2-4217-ae0f-17391420f820",
   "metadata": {},
   "source": [
    "Pydantic raise the `ValidationError` exception whenever something goes wrong trying to create a model instance."
   ]
  },
  {
   "cell_type": "code",
   "execution_count": 7,
   "id": "e626b245-9bd2-404b-b583-f951c6beb3f3",
   "metadata": {},
   "outputs": [],
   "source": [
    "from pydantic import ValidationError"
   ]
  },
  {
   "cell_type": "markdown",
   "id": "74a2db07-8975-41fd-9b55-ac94f19e5ef6",
   "metadata": {},
   "source": [
    "Now let's see what happens when we don't provide a required field:"
   ]
  },
  {
   "cell_type": "code",
   "execution_count": 8,
   "id": "5f617dda-b02f-4ca5-b2d4-b7634f382051",
   "metadata": {},
   "outputs": [
    {
     "name": "stdout",
     "output_type": "stream",
     "text": [
      "2 validation errors for Person\n",
      "first_name\n",
      "  Field required [type=missing, input_value={'last_name': 'Galois'}, input_type=dict]\n",
      "    For further information visit https://errors.pydantic.dev/2.5/v/missing\n",
      "age\n",
      "  Field required [type=missing, input_value={'last_name': 'Galois'}, input_type=dict]\n",
      "    For further information visit https://errors.pydantic.dev/2.5/v/missing\n"
     ]
    }
   ],
   "source": [
    "try:\n",
    "    Person(last_name='Galois')\n",
    "except ValidationError as ex:\n",
    "    print(ex)"
   ]
  },
  {
   "cell_type": "markdown",
   "id": "b58c30d4-9e41-4128-9ba4-472cc0b59e3c",
   "metadata": {},
   "source": [
    "As you can see, Pydantic reports back on **all** the validation errors it encounters.\n",
    "\n",
    "By default, Pydantic does not stop validating data when it encounters the first validation issue. Instead it continues validating everything, and then returns a complete list of all the validation errors."
   ]
  },
  {
   "cell_type": "markdown",
   "id": "e9cad774-24da-4cc0-8846-c463702a0b08",
   "metadata": {},
   "source": [
    "This can be very useful for REST APIs, where you typically want to let an API caller know **everything** that was wrong with their JSON payload."
   ]
  },
  {
   "cell_type": "markdown",
   "id": "53d44f40-8134-4dab-8fef-bb75bea5ac5e",
   "metadata": {},
   "source": [
    "I mentioned that Pydantic classes are just regular Python classes. They obtain their special functionality by inheriting from `BaseModel`, but they are standard classes. Which means we can add properties and methods to it."
   ]
  },
  {
   "cell_type": "code",
   "execution_count": 9,
   "id": "04d4d33c-cb16-4ca9-93e3-308d9357c3cb",
   "metadata": {},
   "outputs": [],
   "source": [
    "class Person(BaseModel):\n",
    "    first_name: str\n",
    "    last_name: str\n",
    "    age: int\n",
    "\n",
    "    @property\n",
    "    def display_name(self):\n",
    "        return f\"{self.first_name} {self.last_name[0]}\""
   ]
  },
  {
   "cell_type": "code",
   "execution_count": 10,
   "id": "1449b1b7-e461-49d2-b4f7-7c89ab441405",
   "metadata": {},
   "outputs": [
    {
     "data": {
      "text/plain": [
       "Person(first_name='Evariste', last_name='Galois', age=20)"
      ]
     },
     "execution_count": 10,
     "metadata": {},
     "output_type": "execute_result"
    }
   ],
   "source": [
    "p = Person(first_name=\"Evariste\", last_name=\"Galois\", age=20)\n",
    "p"
   ]
  },
  {
   "cell_type": "code",
   "execution_count": 11,
   "id": "04f3d125-da90-4ab5-9eeb-e5d872d70c90",
   "metadata": {},
   "outputs": [
    {
     "data": {
      "text/plain": [
       "'Evariste G'"
      ]
     },
     "execution_count": 11,
     "metadata": {},
     "output_type": "execute_result"
    }
   ],
   "source": [
    "p.display_name"
   ]
  },
  {
   "cell_type": "markdown",
   "id": "aeb1d0e2-44b9-4ca9-a46e-e417c83b98ff",
   "metadata": {},
   "source": [
    "Just like a normal object instance, you can also access the fields themselves using dot notation:"
   ]
  },
  {
   "cell_type": "code",
   "execution_count": 12,
   "id": "a036ca5c-71d5-42f8-b873-9ec2c1d31a8b",
   "metadata": {},
   "outputs": [
    {
     "data": {
      "text/plain": [
       "'Galois'"
      ]
     },
     "execution_count": 12,
     "metadata": {},
     "output_type": "execute_result"
    }
   ],
   "source": [
    "p.last_name"
   ]
  },
  {
   "cell_type": "markdown",
   "id": "4feca2eb-3a6a-4878-9323-4f5d1113972c",
   "metadata": {},
   "source": [
    "And, by default, you can also change field values:"
   ]
  },
  {
   "cell_type": "code",
   "execution_count": 13,
   "id": "88b7d39b-39e7-4b20-a76a-4fe86961584d",
   "metadata": {},
   "outputs": [],
   "source": [
    "p.age = 21"
   ]
  },
  {
   "cell_type": "code",
   "execution_count": 14,
   "id": "06614a96-c25b-4ba0-adf9-ec67b87e9afa",
   "metadata": {},
   "outputs": [
    {
     "data": {
      "text/plain": [
       "Person(first_name='Evariste', last_name='Galois', age=21)"
      ]
     },
     "execution_count": 14,
     "metadata": {},
     "output_type": "execute_result"
    }
   ],
   "source": [
    "p"
   ]
  },
  {
   "cell_type": "markdown",
   "id": "81fd239c-1b0f-43ae-9493-37eaae4bcd26",
   "metadata": {},
   "source": [
    "Now, we have to be a bit careful here. Pydantic will perform validation when it loads data (**deserializes** data) to create a model instance.\n",
    "\n",
    "In particular, we have type hints attached to each field:"
   ]
  },
  {
   "cell_type": "code",
   "execution_count": 15,
   "id": "09bf6210-116e-4ed4-ad6c-2a5c66ff718b",
   "metadata": {},
   "outputs": [
    {
     "name": "stdout",
     "output_type": "stream",
     "text": [
      "1 validation error for Person\n",
      "age\n",
      "  Input should be a valid integer, unable to parse string as an integer [type=int_parsing, input_value='twenty', input_type=str]\n",
      "    For further information visit https://errors.pydantic.dev/2.5/v/int_parsing\n"
     ]
    }
   ],
   "source": [
    "try:\n",
    "    Person(first_name='Evariste', last_name='Galois', age='twenty')\n",
    "except ValidationError as ex:\n",
    "    print(ex)"
   ]
  },
  {
   "cell_type": "markdown",
   "id": "b60d6b67-e650-40b3-957f-71bb64b92ed3",
   "metadata": {},
   "source": [
    "As you can see, our incorrect input for `age` is trapped by Pydantic.\n",
    "\n",
    "However, by default, this does not happen when we set a field value once the model instance has been created:"
   ]
  },
  {
   "cell_type": "code",
   "execution_count": 16,
   "id": "07ff22dd-66ab-4f2a-8627-2fd8949f630d",
   "metadata": {},
   "outputs": [
    {
     "data": {
      "text/plain": [
       "Person(first_name='Evariste', last_name='Galois', age=21)"
      ]
     },
     "execution_count": 16,
     "metadata": {},
     "output_type": "execute_result"
    }
   ],
   "source": [
    "p"
   ]
  },
  {
   "cell_type": "code",
   "execution_count": 17,
   "id": "b82691ef-e576-42db-9c18-1b8a3312e6b2",
   "metadata": {},
   "outputs": [],
   "source": [
    "p.age = \"twenty\""
   ]
  },
  {
   "cell_type": "code",
   "execution_count": 18,
   "id": "c171ccca-d544-4a94-aa2e-14d9815fbaab",
   "metadata": {},
   "outputs": [
    {
     "data": {
      "text/plain": [
       "Person(first_name='Evariste', last_name='Galois', age='twenty')"
      ]
     },
     "execution_count": 18,
     "metadata": {},
     "output_type": "execute_result"
    }
   ],
   "source": [
    "p"
   ]
  },
  {
   "cell_type": "markdown",
   "id": "9114dff6-3a45-4c67-bb8d-f74deb149018",
   "metadata": {},
   "source": [
    "See? The change went through.\n",
    "\n",
    "In a later video, I'll show you how we can configure our Pydantic model so that doing this will also raise a `ValidationError` exception."
   ]
  },
  {
   "cell_type": "code",
   "execution_count": null,
   "id": "0c1bbd84-cab3-43a4-a226-38af92e1d949",
   "metadata": {},
   "outputs": [],
   "source": []
  }
 ],
 "metadata": {
  "kernelspec": {
   "display_name": "Python 3 (ipykernel)",
   "language": "python",
   "name": "python3"
  },
  "language_info": {
   "codemirror_mode": {
    "name": "ipython",
    "version": 3
   },
   "file_extension": ".py",
   "mimetype": "text/x-python",
   "name": "python",
   "nbconvert_exporter": "python",
   "pygments_lexer": "ipython3",
   "version": "3.12.0"
  }
 },
 "nbformat": 4,
 "nbformat_minor": 5
}
