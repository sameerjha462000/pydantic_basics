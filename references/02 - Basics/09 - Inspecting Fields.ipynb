{
 "cells": [
  {
   "cell_type": "markdown",
   "id": "6ab3b15d-c034-4c62-a5db-51f2087456d9",
   "metadata": {},
   "source": [
    "# Inspecting Fields"
   ]
  },
  {
   "cell_type": "markdown",
   "id": "40989865-d5ce-4075-b192-428141511c98",
   "metadata": {},
   "source": [
    "Sometimes, we may want to inspect our model Fields, or an instance's fields."
   ]
  },
  {
   "cell_type": "markdown",
   "id": "5cc4c27c-c2eb-46fc-a661-e0ff3811c6c1",
   "metadata": {},
   "source": [
    "We've already seen one way to do it for model fields:"
   ]
  },
  {
   "cell_type": "code",
   "execution_count": 1,
   "id": "7c4d09e6-23f8-481c-87e4-5f4a95cf5739",
   "metadata": {},
   "outputs": [],
   "source": [
    "from pydantic import BaseModel"
   ]
  },
  {
   "cell_type": "code",
   "execution_count": 2,
   "id": "62d7b1d8-58f2-492b-9b97-870cc9cbfb5e",
   "metadata": {},
   "outputs": [],
   "source": [
    "class Circle(BaseModel):\n",
    "    center_x: int = 0\n",
    "    center_y: int = 0\n",
    "    radius: int = 1\n",
    "    name: str | None = None"
   ]
  },
  {
   "cell_type": "code",
   "execution_count": 3,
   "id": "ac7c0e50-6362-4d67-9592-f48c15396084",
   "metadata": {},
   "outputs": [
    {
     "data": {
      "text/plain": [
       "{'center_x': FieldInfo(annotation=int, required=False, default=0),\n",
       " 'center_y': FieldInfo(annotation=int, required=False, default=0),\n",
       " 'radius': FieldInfo(annotation=int, required=False, default=1),\n",
       " 'name': FieldInfo(annotation=Union[str, NoneType], required=False)}"
      ]
     },
     "execution_count": 3,
     "metadata": {},
     "output_type": "execute_result"
    }
   ],
   "source": [
    "Circle.model_fields"
   ]
  },
  {
   "cell_type": "markdown",
   "id": "269c1149-e310-4b1a-8176-d7c090d685d0",
   "metadata": {},
   "source": [
    "As we progress in this course, we'll start seeing a lot more data appearing in the `FieldInfo` objects."
   ]
  },
  {
   "cell_type": "markdown",
   "id": "e3537cee-463d-4e2f-824f-b7bd7f0c2292",
   "metadata": {},
   "source": [
    "We can also examine the fields in a model instance.\n",
    "\n",
    "Of course we can do this by looking at the representation, or serializing the data:"
   ]
  },
  {
   "cell_type": "code",
   "execution_count": 4,
   "id": "fa81f7bb-05ab-4f73-af20-abb06e37d94e",
   "metadata": {},
   "outputs": [
    {
     "data": {
      "text/plain": [
       "Circle(center_x=0, center_y=0, radius=2, name=None)"
      ]
     },
     "execution_count": 4,
     "metadata": {},
     "output_type": "execute_result"
    }
   ],
   "source": [
    "c1 = Circle(radius=2)\n",
    "c1"
   ]
  },
  {
   "cell_type": "code",
   "execution_count": 5,
   "id": "5073c979-0bd2-4612-b449-218b95aa4e7e",
   "metadata": {},
   "outputs": [
    {
     "data": {
      "text/plain": [
       "Circle(center_x=0, center_y=0, radius=1, name='Unit circle')"
      ]
     },
     "execution_count": 5,
     "metadata": {},
     "output_type": "execute_result"
    }
   ],
   "source": [
    "c2 = Circle(name=\"Unit circle\")\n",
    "c2"
   ]
  },
  {
   "cell_type": "code",
   "execution_count": 6,
   "id": "581029d2-8c22-4756-9c19-1e6d17c0220c",
   "metadata": {},
   "outputs": [
    {
     "data": {
      "text/plain": [
       "{'center_x': 0, 'center_y': 0, 'radius': 2, 'name': None}"
      ]
     },
     "execution_count": 6,
     "metadata": {},
     "output_type": "execute_result"
    }
   ],
   "source": [
    "c1.model_dump()"
   ]
  },
  {
   "cell_type": "code",
   "execution_count": 7,
   "id": "7310f7e0-9d64-4d7f-ba9d-5ff8471a9a4f",
   "metadata": {},
   "outputs": [
    {
     "data": {
      "text/plain": [
       "{'center_x': 0, 'center_y': 0, 'radius': 1, 'name': 'Unit circle'}"
      ]
     },
     "execution_count": 7,
     "metadata": {},
     "output_type": "execute_result"
    }
   ],
   "source": [
    "c2.model_dump()"
   ]
  },
  {
   "cell_type": "markdown",
   "id": "421460a0-b5d9-4407-acde-d58df82fa87c",
   "metadata": {},
   "source": [
    "As you can see, we get a view of all the fields in the model - some of which were populated by data, and some from defaults."
   ]
  },
  {
   "cell_type": "markdown",
   "id": "906e8f86-0499-4789-bcea-3f198d2b9bef",
   "metadata": {},
   "source": [
    "We might however be interested in knowing which fields were populated from data, and which ones from the defaults."
   ]
  },
  {
   "cell_type": "code",
   "execution_count": 8,
   "id": "f06a4cdb-2762-4253-9fae-b872c1dd16b9",
   "metadata": {},
   "outputs": [
    {
     "data": {
      "text/plain": [
       "{'radius'}"
      ]
     },
     "execution_count": 8,
     "metadata": {},
     "output_type": "execute_result"
    }
   ],
   "source": [
    "c1.model_fields_set"
   ]
  },
  {
   "cell_type": "code",
   "execution_count": 9,
   "id": "a3397a2a-456e-41a5-b41e-44ea9a4b45cd",
   "metadata": {},
   "outputs": [
    {
     "data": {
      "text/plain": [
       "{'name'}"
      ]
     },
     "execution_count": 9,
     "metadata": {},
     "output_type": "execute_result"
    }
   ],
   "source": [
    "c2.model_fields_set"
   ]
  },
  {
   "cell_type": "markdown",
   "id": "e9d38fb1-dec7-4cf3-8144-2414969ca193",
   "metadata": {},
   "source": [
    "As you can see, we get a set containing the field names that were populated from data only."
   ]
  },
  {
   "cell_type": "markdown",
   "id": "fe65ea50-6196-41d7-b436-0fc209a12a60",
   "metadata": {},
   "source": [
    "If we want to know which fields were populated from defaults, there is no direct function to do so, but it is enough to recover.\n",
    "\n",
    "Remember that `model_fields` is a dictionary with all the field names as keys.\n",
    "\n",
    "So, to get a list of the fields that were populated from defaults, we start with all the field names and substract from it the fields that were populated from data:"
   ]
  },
  {
   "cell_type": "code",
   "execution_count": 10,
   "id": "16c13889-4e4b-47e9-8c16-09764dd974d2",
   "metadata": {},
   "outputs": [
    {
     "data": {
      "text/plain": [
       "{'center_x', 'center_y', 'name'}"
      ]
     },
     "execution_count": 10,
     "metadata": {},
     "output_type": "execute_result"
    }
   ],
   "source": [
    "c1.model_fields.keys() - c1.model_fields_set"
   ]
  },
  {
   "cell_type": "markdown",
   "id": "71e78698-ed1d-44b0-8ff1-6df47f1cfc11",
   "metadata": {},
   "source": [
    "Knowing what fields were defined from the deserialized data can be helpful in certain cases.\n",
    "\n",
    "Suppose we have an API endpoint that users can post to, and send us a JSON payload. Some of the items in the payload are optional, and on our end we'll populate the defaults during validation.\n",
    "\n",
    "However, we may want to echo the user's payload back to them - if we just echoed back the serialized model as-is, it would include the defaults that were injected into the model instance.\n",
    "\n",
    "That might be perfectly fine, but we may have a requirement to return the model omitting the default values that were injected. In this case we can make use of the `model_fields_set`."
   ]
  },
  {
   "cell_type": "markdown",
   "id": "f79e9fc1-8504-420c-b527-a9e38c6dd809",
   "metadata": {},
   "source": [
    "Let's see an example of this.\n",
    "\n",
    "You should remember that when serializing a model, we can choose which fields to include or exclude."
   ]
  },
  {
   "cell_type": "code",
   "execution_count": 11,
   "id": "67f4a2b5-9f0a-45cf-b5bc-1f5c5ff0db3f",
   "metadata": {},
   "outputs": [],
   "source": [
    "class Model(BaseModel):\n",
    "    field_1: int = 1\n",
    "    field_2: int | None = None\n",
    "    field_3: str \n",
    "    field_4: str | None = \"Python\""
   ]
  },
  {
   "cell_type": "code",
   "execution_count": 12,
   "id": "cb91d334-75d4-4840-b0ec-792870cecea1",
   "metadata": {},
   "outputs": [],
   "source": [
    "m1 = Model(field_3=\"m1\")\n",
    "m2 = Model(field_1=1, field_2=None, field_3=\"m2\", field_4=\"Python\")\n",
    "m3 = Model(field_1=10, field_2=20, field_3=\"m3\", field_4=\"Pydantic\")"
   ]
  },
  {
   "cell_type": "code",
   "execution_count": 13,
   "id": "bb284e8a-7ac9-4a13-a01f-62bfe7a9cd94",
   "metadata": {},
   "outputs": [
    {
     "data": {
      "text/plain": [
       "{'field_1': 1, 'field_2': None, 'field_3': 'm1', 'field_4': 'Python'}"
      ]
     },
     "execution_count": 13,
     "metadata": {},
     "output_type": "execute_result"
    }
   ],
   "source": [
    "m1.model_dump()"
   ]
  },
  {
   "cell_type": "markdown",
   "id": "b60adebc-27f5-4ac3-b7dd-4a6c4dfa8426",
   "metadata": {},
   "source": [
    "And if we only want to see the fields that were actually set via the deserialized data:"
   ]
  },
  {
   "cell_type": "code",
   "execution_count": 14,
   "id": "b5b814cb-fad1-4578-81ef-2c52069d6df3",
   "metadata": {},
   "outputs": [
    {
     "data": {
      "text/plain": [
       "{'field_3': 'm1'}"
      ]
     },
     "execution_count": 14,
     "metadata": {},
     "output_type": "execute_result"
    }
   ],
   "source": [
    "m1.model_dump(include=m1.model_fields_set)"
   ]
  },
  {
   "cell_type": "markdown",
   "id": "aa1bc1b1-f384-4f80-b3b4-012aa7a52b96",
   "metadata": {},
   "source": [
    "Similarly with the other model instances:"
   ]
  },
  {
   "cell_type": "code",
   "execution_count": 15,
   "id": "91fb0b73-138a-431e-84ef-9c5f6b28842d",
   "metadata": {},
   "outputs": [
    {
     "data": {
      "text/plain": [
       "{'field_1': 1, 'field_2': None, 'field_3': 'm2', 'field_4': 'Python'}"
      ]
     },
     "execution_count": 15,
     "metadata": {},
     "output_type": "execute_result"
    }
   ],
   "source": [
    "m2.model_dump(include=m2.model_fields_set)"
   ]
  },
  {
   "cell_type": "code",
   "execution_count": 16,
   "id": "60130293-d58e-4414-88db-e083d023a4df",
   "metadata": {},
   "outputs": [
    {
     "data": {
      "text/plain": [
       "{'field_1': 10, 'field_2': 20, 'field_3': 'm3', 'field_4': 'Pydantic'}"
      ]
     },
     "execution_count": 16,
     "metadata": {},
     "output_type": "execute_result"
    }
   ],
   "source": [
    "m3.model_dump(include=m3.model_fields_set)"
   ]
  },
  {
   "cell_type": "code",
   "execution_count": null,
   "id": "472b3ba0-e1e6-4aba-8ba2-5b98fea7a93f",
   "metadata": {},
   "outputs": [],
   "source": []
  }
 ],
 "metadata": {
  "kernelspec": {
   "display_name": "Python 3 (ipykernel)",
   "language": "python",
   "name": "python3"
  },
  "language_info": {
   "codemirror_mode": {
    "name": "ipython",
    "version": 3
   },
   "file_extension": ".py",
   "mimetype": "text/x-python",
   "name": "python",
   "nbconvert_exporter": "python",
   "pygments_lexer": "ipython3",
   "version": "3.12.0"
  }
 },
 "nbformat": 4,
 "nbformat_minor": 5
}
