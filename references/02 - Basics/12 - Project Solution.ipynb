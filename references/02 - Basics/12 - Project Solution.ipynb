{
 "cells": [
  {
   "cell_type": "markdown",
   "id": "62ebb197-8f32-4ea9-9f43-2fc9c4e799f9",
   "metadata": {},
   "source": [
    "# Project with Solution (Section 2)"
   ]
  },
  {
   "cell_type": "markdown",
   "id": "b70844d0-80b7-43ec-addb-4aee07a798af",
   "metadata": {},
   "source": [
    "## Project Specs"
   ]
  },
  {
   "cell_type": "markdown",
   "id": "e9931a74-911c-4bae-a5fe-4cdffb7add1a",
   "metadata": {},
   "source": [
    "We are going to build a model for an automobile. \n",
    "\n",
    "Throughout the course, at the end of each section you will add on to this model, refactor some parts of it, or create related models that will then be used in conjunction with this automobile model when we get to model composition."
   ]
  },
  {
   "cell_type": "markdown",
   "id": "1b4475d8-5e57-4cb9-9142-a37700e092c1",
   "metadata": {},
   "source": [
    "To start, you should create an `Automobile` model that contains the following fields:\n",
    "- `manufacturer`, string, required, not nullable\n",
    "- `series_name`, string, required, not nullable\n",
    "- `type_`, string, required, not nullable\n",
    "- `is_electric`, boolean, defaults to `False`, not nullable\n",
    "- `manufactured_date`, date, required (hint use `date` from `datetime` module as your field type hint), not nullable\n",
    "- `base_msrp_usd`, float, required, not nullable\n",
    "- `vin`, string, required, not nullable\n",
    "- `number_of_doors`, integer, defaults to `4`, not nullable\n",
    "- `registration_country`, string, defaults to `None`\n",
    "- `license_plate`, string, defaults to `None`"
   ]
  },
  {
   "cell_type": "markdown",
   "id": "4a6ae32a-991a-4080-9edb-e8ca6afc1144",
   "metadata": {},
   "source": [
    "Once you have created your model, you should test deserializing and serializing your model and make sure everything works.\n",
    "\n",
    "To help you, in most sections, I provide some sample \"input\" and \"output\" data that you can use to check your model is working."
   ]
  },
  {
   "cell_type": "markdown",
   "id": "66ccbfca-4559-4203-8fca-5e3e8f50daab",
   "metadata": {},
   "source": [
    "You can test your model by deserializing the following input data, and comparing the serialization of each of those models to the provided Python dictionaries.\n",
    "\n",
    "In other words, test them by doing something like this for both cases:\n",
    "- create model by deserializing the data\n",
    "- check the model's serialization to `dict` is equal to the provided expected dictionary"
   ]
  },
  {
   "cell_type": "code",
   "execution_count": 1,
   "id": "21357149-0e6d-4e8f-90c4-794219332abb",
   "metadata": {},
   "outputs": [],
   "source": [
    "# Python dictionary\n",
    "from datetime import date\n",
    "\n",
    "data = {\n",
    "    \"manufacturer\": \"BMW\",\n",
    "    \"series_name\": \"M4\",\n",
    "    \"type_\": \"Convertible\",\n",
    "    \"is_electric\": False,\n",
    "    \"manufactured_date\": \"2023-01-01\",\n",
    "    \"base_msrp_usd\": 93_300,\n",
    "    \"vin\": \"1234567890\",\n",
    "    \"number_of_doors\": 2,\n",
    "    \"registration_country\": \"France\",\n",
    "    \"license_plate\": \"AAA-BBB\",\n",
    "}\n",
    "\n",
    "data_expected_serialization = {\n",
    "    'manufacturer': 'BMW',\n",
    "    'series_name': 'M4',\n",
    "    'type_': 'Convertible',\n",
    "    'is_electric': False,\n",
    "    'manufactured_date': date(2023,1,1),\n",
    "    'base_msrp_usd': 93_300,\n",
    "    'vin': '1234567890',\n",
    "    'number_of_doors': 2,\n",
    "    'registration_country': 'France',\n",
    "    'license_plate': 'AAA-BBB',\n",
    "}"
   ]
  },
  {
   "cell_type": "code",
   "execution_count": 2,
   "id": "b8c58d14-36fd-42a2-87ae-563a9ef1538d",
   "metadata": {},
   "outputs": [],
   "source": [
    "# JSON\n",
    "data_json = '''\n",
    "{\n",
    "    \"manufacturer\": \"BMW\",\n",
    "    \"series_name\": \"M4\",\n",
    "    \"type_\": \"Convertible\",\n",
    "    \"manufactured_date\": \"2023-01-01\",\n",
    "    \"base_msrp_usd\": 93300,\n",
    "    \"vin\": \"1234567890\"\n",
    "}\n",
    "'''\n",
    "\n",
    "data_json_expected_serialization = {\n",
    "    'manufacturer': 'BMW',\n",
    "    'series_name': 'M4',\n",
    "    'type_': 'Convertible',\n",
    "    'is_electric': False,\n",
    "    'manufactured_date': date(2023, 1, 1),\n",
    "    'base_msrp_usd': 93_300,\n",
    "    'vin': '1234567890',\n",
    "    'number_of_doors': 4,\n",
    "    'registration_country': None,\n",
    "    'license_plate': None,\n",
    "}"
   ]
  },
  {
   "cell_type": "markdown",
   "id": "5bc94bb3-6599-4b52-9776-d29a1917fa78",
   "metadata": {},
   "source": [
    "## Solution"
   ]
  },
  {
   "cell_type": "code",
   "execution_count": 3,
   "id": "e919475c-de01-41f9-92cb-0a2667395df9",
   "metadata": {},
   "outputs": [],
   "source": [
    "from datetime import date\n",
    "from pydantic import BaseModel\n",
    "\n",
    "\n",
    "class Automobile(BaseModel):\n",
    "    manufacturer: str\n",
    "    series_name: str\n",
    "    type_: str\n",
    "    is_electric: bool = False\n",
    "    manufactured_date: date\n",
    "    base_msrp_usd: float\n",
    "    vin: str\n",
    "    number_of_doors: int = 4\n",
    "    registration_country: str | None = None\n",
    "    license_plate: str | None = None"
   ]
  },
  {
   "cell_type": "markdown",
   "id": "9c79a8cd-1e7a-4d75-a9a0-9c476861b564",
   "metadata": {},
   "source": [
    "Let's test the model, by deserializing some data and comparing it to an expected serialization output."
   ]
  },
  {
   "cell_type": "code",
   "execution_count": 4,
   "id": "0c63d627-146b-4ae3-ba17-d71b2de263ee",
   "metadata": {},
   "outputs": [
    {
     "data": {
      "text/plain": [
       "Automobile(manufacturer='BMW', series_name='M4', type_='Convertible', is_electric=False, manufactured_date=datetime.date(2023, 1, 1), base_msrp_usd=93300.0, vin='1234567890', number_of_doors=2, registration_country='France', license_plate='AAA-BBB')"
      ]
     },
     "execution_count": 4,
     "metadata": {},
     "output_type": "execute_result"
    }
   ],
   "source": [
    "car = Automobile.model_validate(data)\n",
    "car"
   ]
  },
  {
   "cell_type": "code",
   "execution_count": 5,
   "id": "5f30d3a9-17e6-4234-a1be-49565f412bf4",
   "metadata": {},
   "outputs": [],
   "source": [
    "assert car.model_dump() == data_expected_serialization"
   ]
  },
  {
   "cell_type": "markdown",
   "id": "78c09d19-a912-4e28-9801-9fade55d053b",
   "metadata": {},
   "source": [
    "And using JSON deserialization:"
   ]
  },
  {
   "cell_type": "code",
   "execution_count": 6,
   "id": "b3def71c-f850-4937-b854-d1fd7edefc71",
   "metadata": {},
   "outputs": [
    {
     "data": {
      "text/plain": [
       "Automobile(manufacturer='BMW', series_name='M4', type_='Convertible', is_electric=False, manufactured_date=datetime.date(2023, 1, 1), base_msrp_usd=93300.0, vin='1234567890', number_of_doors=4, registration_country=None, license_plate=None)"
      ]
     },
     "execution_count": 6,
     "metadata": {},
     "output_type": "execute_result"
    }
   ],
   "source": [
    "car = Automobile.model_validate_json(data_json)\n",
    "car"
   ]
  },
  {
   "cell_type": "code",
   "execution_count": 7,
   "id": "5fead387-0e4b-4e6c-80ab-c19c2469b738",
   "metadata": {},
   "outputs": [],
   "source": [
    "assert car.model_dump() == data_json_expected_serialization"
   ]
  },
  {
   "cell_type": "code",
   "execution_count": null,
   "id": "b5a209dc-d110-4852-922f-1f5f66d9caee",
   "metadata": {},
   "outputs": [],
   "source": []
  }
 ],
 "metadata": {
  "kernelspec": {
   "display_name": "Python 3 (ipykernel)",
   "language": "python",
   "name": "python3"
  },
  "language_info": {
   "codemirror_mode": {
    "name": "ipython",
    "version": 3
   },
   "file_extension": ".py",
   "mimetype": "text/x-python",
   "name": "python",
   "nbconvert_exporter": "python",
   "pygments_lexer": "ipython3",
   "version": "3.12.0"
  }
 },
 "nbformat": 4,
 "nbformat_minor": 5
}
