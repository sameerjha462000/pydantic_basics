{
 "cells": [
  {
   "cell_type": "markdown",
   "id": "75c2f9f2-2b24-49ff-aa48-ea9e9eeea2d2",
   "metadata": {},
   "source": [
    "# Type Coercion"
   ]
  },
  {
   "cell_type": "markdown",
   "id": "992ae47d-5465-4940-abde-70d1de369222",
   "metadata": {},
   "source": [
    "When Pydantic deserializes data, one of the things it does is perform validation. This includes ensuring that the model instance data ends up as the correct type."
   ]
  },
  {
   "cell_type": "markdown",
   "id": "073bd1e5-3c08-4113-88c0-a2b77db20455",
   "metadata": {},
   "source": [
    "Let's look at an example:"
   ]
  },
  {
   "cell_type": "code",
   "execution_count": 1,
   "id": "24729a0a-eb7f-4e3d-b8b7-0aea9d11fe48",
   "metadata": {},
   "outputs": [],
   "source": [
    "from pydantic import BaseModel, ValidationError"
   ]
  },
  {
   "cell_type": "code",
   "execution_count": 2,
   "id": "3e3dec9a-8639-463d-a853-97e7fb2e00a0",
   "metadata": {},
   "outputs": [],
   "source": [
    "class Coordinates(BaseModel):\n",
    "    x: float\n",
    "    y: float"
   ]
  },
  {
   "cell_type": "markdown",
   "id": "05526181-e342-442e-b0a1-2c9bdd7384b7",
   "metadata": {},
   "source": [
    "Notice how we are insisting that `x` and `y` should be floats."
   ]
  },
  {
   "cell_type": "markdown",
   "id": "29e01485-de6c-4169-8f1f-ce2d2a21924e",
   "metadata": {},
   "source": [
    "Let's deseralize some data:"
   ]
  },
  {
   "cell_type": "code",
   "execution_count": 3,
   "id": "afce99e4-586a-4583-be3a-7719109c7648",
   "metadata": {},
   "outputs": [
    {
     "data": {
      "text/plain": [
       "Coordinates(x=1.1, y=2.2)"
      ]
     },
     "execution_count": 3,
     "metadata": {},
     "output_type": "execute_result"
    }
   ],
   "source": [
    "p1 = Coordinates(x=1.1, y=2.2)\n",
    "p1"
   ]
  },
  {
   "cell_type": "markdown",
   "id": "8e592869-3f51-4611-8e61-142d6cc3a28d",
   "metadata": {},
   "source": [
    "We can see our field definitions:"
   ]
  },
  {
   "cell_type": "code",
   "execution_count": 4,
   "id": "8b7c5539-7d74-47c9-8f2a-fffefa4d54cb",
   "metadata": {},
   "outputs": [
    {
     "data": {
      "text/plain": [
       "{'x': FieldInfo(annotation=float, required=True),\n",
       " 'y': FieldInfo(annotation=float, required=True)}"
      ]
     },
     "execution_count": 4,
     "metadata": {},
     "output_type": "execute_result"
    }
   ],
   "source": [
    "Coordinates.model_fields"
   ]
  },
  {
   "cell_type": "markdown",
   "id": "fe5efae3-d457-41fa-a669-9f6367be9326",
   "metadata": {},
   "source": [
    "As you can see, the defined type for each field is `float`. \n",
    "\n",
    "And indeed, if we check the type of the fields, we get the expected result:"
   ]
  },
  {
   "cell_type": "code",
   "execution_count": 5,
   "id": "99bddd7f-6963-41b8-95c7-884206b0d2da",
   "metadata": {},
   "outputs": [
    {
     "data": {
      "text/plain": [
       "float"
      ]
     },
     "execution_count": 5,
     "metadata": {},
     "output_type": "execute_result"
    }
   ],
   "source": [
    "type(p1.x)"
   ]
  },
  {
   "cell_type": "markdown",
   "id": "d73ab5af-aaba-43d0-8e16-ff3552062c3b",
   "metadata": {},
   "source": [
    "But what happens if the data we provide for deserializtion is not an exact type match?"
   ]
  },
  {
   "cell_type": "markdown",
   "id": "bcc2f2ef-e6b0-4193-a40b-3bc944dfa35d",
   "metadata": {},
   "source": [
    "Pydantic will attempt to \"transform\" the data into the correct type - this is called type **coercion**"
   ]
  },
  {
   "cell_type": "markdown",
   "id": "e353a190-0f5d-4311-8c5b-dab7931c595e",
   "metadata": {},
   "source": [
    "Let's see this:"
   ]
  },
  {
   "cell_type": "code",
   "execution_count": 6,
   "id": "98a5a637-2838-43e4-b1df-19337ffbbbd8",
   "metadata": {},
   "outputs": [
    {
     "data": {
      "text/plain": [
       "Coordinates(x=0.0, y=1.2)"
      ]
     },
     "execution_count": 6,
     "metadata": {},
     "output_type": "execute_result"
    }
   ],
   "source": [
    "p2 = Coordinates(x=0, y=\"1.2\")\n",
    "p2"
   ]
  },
  {
   "cell_type": "markdown",
   "id": "e88a6963-e783-4d7c-adc9-442491e09091",
   "metadata": {},
   "source": [
    "As you can see, Pydantic was able to coerce the **integer** `0`, and the **string** `\"1.2\"` to a float value:"
   ]
  },
  {
   "cell_type": "code",
   "execution_count": 7,
   "id": "6965822c-7b6f-4614-9356-8e1e59fa8e29",
   "metadata": {},
   "outputs": [
    {
     "data": {
      "text/plain": [
       "(float, float)"
      ]
     },
     "execution_count": 7,
     "metadata": {},
     "output_type": "execute_result"
    }
   ],
   "source": [
    "type(p2.x), type(p2.y)"
   ]
  },
  {
   "cell_type": "markdown",
   "id": "33edaa42-0f51-4523-a556-acc7988f1499",
   "metadata": {},
   "source": [
    "Pydantic is not always able to perform the type coercion. In fact, we can even choose the level of type coercion that we find acceptable.\n",
    "\n",
    "By default, the type coercion is termed **lax** - and it attempts a variety of type coercions.\n",
    "\n",
    "But, as we'll see later, we have the option to change that, to a **strict** mode that is far less forgiving when incorrect data types are provided in the data."
   ]
  },
  {
   "cell_type": "markdown",
   "id": "e38f46e3-e582-45c0-8e0e-c86921185cf0",
   "metadata": {},
   "source": [
    "Pydantic docs that describes what type coercions will be attempted in either of these modes, is located here:\n",
    "\n",
    "[https://docs.pydantic.dev/latest/concepts/conversion_table/](https://docs.pydantic.dev/latest/concepts/conversion_table/)"
   ]
  },
  {
   "cell_type": "markdown",
   "id": "fe6f0c2a-7a97-4573-a969-8129d8b91da0",
   "metadata": {},
   "source": [
    "If you look at that conversion table, you'll notice, for example, that in lax mode, and dealing with Python data types, input data that is float, int, or Decimal will be coerced to a float. However, strings wil be coerced to floats only under certain conditions.\n",
    "\n",
    "In strict mode, notice that string to float conversion is not supported (so it will raise a validation error)."
   ]
  },
  {
   "cell_type": "markdown",
   "id": "97c12002-89fe-45ec-8f60-98b1087e9c08",
   "metadata": {},
   "source": [
    "Use this table when considering type coercion because things are not always \"obvious\"."
   ]
  },
  {
   "cell_type": "markdown",
   "id": "810873da-b2ab-47df-8442-6fb935aacdfa",
   "metadata": {},
   "source": [
    "For example, with this model:"
   ]
  },
  {
   "cell_type": "code",
   "execution_count": 8,
   "id": "ae7006ba-ab7f-4ebc-9fce-7e0b50c80c10",
   "metadata": {},
   "outputs": [],
   "source": [
    "class Model(BaseModel):\n",
    "    field: str"
   ]
  },
  {
   "cell_type": "markdown",
   "id": "3857ce59-5368-45d9-b2f2-132d7f4dd87c",
   "metadata": {},
   "source": [
    "We know that all objects in Python have a `str()` representation, so we might expect to be able to pass any type for `field` and have Pydantic coerce it to a string.\n",
    "\n",
    "But that is not the case:"
   ]
  },
  {
   "cell_type": "code",
   "execution_count": 9,
   "id": "8483a1a8-7794-45e0-a7a6-c1b34c2d9939",
   "metadata": {},
   "outputs": [
    {
     "name": "stdout",
     "output_type": "stream",
     "text": [
      "1 validation error for Model\n",
      "field\n",
      "  Input should be a valid string [type=string_type, input_value=100, input_type=int]\n",
      "    For further information visit https://errors.pydantic.dev/2.5/v/string_type\n"
     ]
    }
   ],
   "source": [
    "try:\n",
    "    Model(field=100)\n",
    "except ValidationError as ex:\n",
    "    print(ex)"
   ]
  },
  {
   "cell_type": "markdown",
   "id": "44b13766-218d-4877-828a-a90f4dbd0ce2",
   "metadata": {},
   "source": [
    "And this is probably a good thing as allowing this could lead to unintended problems where we deserialize and object to a string when we never intended for that to happen (our source data maybe changed on us - and auto coercing to a string would hide a potential bug)."
   ]
  },
  {
   "cell_type": "markdown",
   "id": "70e8f5ae-774b-4293-8f82-e66c8653a339",
   "metadata": {},
   "source": [
    "Here's what I mean:"
   ]
  },
  {
   "cell_type": "markdown",
   "id": "b990c3ef-adb1-4ff3-9c85-c9125eaaf712",
   "metadata": {},
   "source": [
    "We are querying a REST API and getting some JSON back from that API, which we model this way:"
   ]
  },
  {
   "cell_type": "code",
   "execution_count": 10,
   "id": "86420d02-3025-4a25-b4e6-328769ab2ed0",
   "metadata": {},
   "outputs": [],
   "source": [
    "class Contact(BaseModel):\n",
    "    email: str"
   ]
  },
  {
   "cell_type": "code",
   "execution_count": 11,
   "id": "78b7cc4e-d402-4eda-ae20-48bad554cfa5",
   "metadata": {},
   "outputs": [],
   "source": [
    "initial_json_data = '''\n",
    "{\n",
    "    \"email\": \"inewton@principia.com\"\n",
    "}\n",
    "'''"
   ]
  },
  {
   "cell_type": "markdown",
   "id": "d40b6ad7-4afa-455a-bf35-59069ee86839",
   "metadata": {},
   "source": [
    "This deserializes just fine:"
   ]
  },
  {
   "cell_type": "code",
   "execution_count": 12,
   "id": "5313bb3e-4759-497a-9f91-32a9164c862a",
   "metadata": {},
   "outputs": [
    {
     "data": {
      "text/plain": [
       "Contact(email='inewton@principia.com')"
      ]
     },
     "execution_count": 12,
     "metadata": {},
     "output_type": "execute_result"
    }
   ],
   "source": [
    "Contact.model_validate_json(initial_json_data)"
   ]
  },
  {
   "cell_type": "markdown",
   "id": "ba22dc5f-9165-4172-810b-7df8c4df5e2c",
   "metadata": {},
   "source": [
    "But now, suppose that API changes it's response model, and we are unaware of the change.\n",
    "\n",
    "The response data now looks like this:"
   ]
  },
  {
   "cell_type": "code",
   "execution_count": 13,
   "id": "7f7e6fbb-e3b2-4a81-a627-d1f6e4605e4e",
   "metadata": {},
   "outputs": [],
   "source": [
    "new_json_data = '''\n",
    "{\n",
    "    \"email\": {\n",
    "        \"personal\": \"inewton@principia.com\",\n",
    "        \"work\": \"isaac.newton@themint.com\"\n",
    "    }\n",
    "}\n",
    "'''"
   ]
  },
  {
   "cell_type": "markdown",
   "id": "23fb89c8-d78b-4bc3-a68e-7c5bdb223b1b",
   "metadata": {},
   "source": [
    "Tring to deserialize this data will not work, and we'll immediately know something is wrong with our app (and we can then go in and fix it):"
   ]
  },
  {
   "cell_type": "code",
   "execution_count": 14,
   "id": "41457199-dd36-4c39-8073-f33f01f357a0",
   "metadata": {},
   "outputs": [
    {
     "name": "stdout",
     "output_type": "stream",
     "text": [
      "1 validation error for Contact\n",
      "email\n",
      "  Input should be a valid string [type=string_type, input_value={'personal': 'inewton@pri...aac.newton@themint.com'}, input_type=dict]\n",
      "    For further information visit https://errors.pydantic.dev/2.5/v/string_type\n"
     ]
    }
   ],
   "source": [
    "try:\n",
    "    Contact.model_validate_json(new_json_data)\n",
    "except ValidationError as ex:\n",
    "    print(ex)"
   ]
  },
  {
   "cell_type": "markdown",
   "id": "b2ba72da-d657-4795-98b5-6848b535d033",
   "metadata": {},
   "source": [
    "What if Pydantic had instead just decided to deserialize that `email` complex object (a nested dictionary basically) into it's string representation?"
   ]
  },
  {
   "cell_type": "markdown",
   "id": "4c453a28-3b35-46c6-b2a6-389bb0f40223",
   "metadata": {},
   "source": [
    "We can mimic the behavior this way:"
   ]
  },
  {
   "cell_type": "code",
   "execution_count": 15,
   "id": "1c059b4f-7fd6-40a8-a76a-30e273d01bdc",
   "metadata": {},
   "outputs": [],
   "source": [
    "new_data = {\n",
    "    \"email\": {\n",
    "        \"personal\": \"inewton@principia.com\",\n",
    "        \"work\": \"isaac.newton@themint.com\"\n",
    "    }\n",
    "}"
   ]
  },
  {
   "cell_type": "code",
   "execution_count": 16,
   "id": "b06156cc-9ac4-472d-a2bd-c7e85d8c7d4a",
   "metadata": {},
   "outputs": [
    {
     "data": {
      "text/plain": [
       "Contact(email=\"{'personal': 'inewton@principia.com', 'work': 'isaac.newton@themint.com'}\")"
      ]
     },
     "execution_count": 16,
     "metadata": {},
     "output_type": "execute_result"
    }
   ],
   "source": [
    "Contact(email=str(new_data['email']))"
   ]
  },
  {
   "cell_type": "markdown",
   "id": "39df85c0-2100-48e2-be48-74d2e46fcb9a",
   "metadata": {},
   "source": [
    "And you can see that we now have a string representation of the email dictionary - no exceptions, and our code is likely to break from that point forward, depending on how we use the `email` field."
   ]
  },
  {
   "cell_type": "code",
   "execution_count": null,
   "id": "71bd4917-2cef-4567-9f3f-229f698ad22d",
   "metadata": {},
   "outputs": [],
   "source": []
  }
 ],
 "metadata": {
  "kernelspec": {
   "display_name": "Python 3 (ipykernel)",
   "language": "python",
   "name": "python3"
  },
  "language_info": {
   "codemirror_mode": {
    "name": "ipython",
    "version": 3
   },
   "file_extension": ".py",
   "mimetype": "text/x-python",
   "name": "python",
   "nbconvert_exporter": "python",
   "pygments_lexer": "ipython3",
   "version": "3.12.0"
  }
 },
 "nbformat": 4,
 "nbformat_minor": 5
}
