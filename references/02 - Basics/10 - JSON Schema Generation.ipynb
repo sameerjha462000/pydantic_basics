{
 "cells": [
  {
   "cell_type": "markdown",
   "id": "ee4b460e-99ad-41cc-b319-92f62c812067",
   "metadata": {},
   "source": [
    "# JSON Schema Generation"
   ]
  },
  {
   "cell_type": "markdown",
   "id": "93132233-0b94-4b1e-8334-4d0d7ba6b37d",
   "metadata": {},
   "source": [
    "When documenting REST APIs, a common approach is to use Swagger (or OpenAPI) to auto produce these documents.\n",
    "\n",
    "It does so by being given a JSON schema for both the request (if any) and the response (if any) of the endpoint (as well as additional data)."
   ]
  },
  {
   "cell_type": "markdown",
   "id": "52698a8e-08cd-4cd3-b10c-70b4535323fc",
   "metadata": {},
   "source": [
    "Creating a JSON schema by hand is difficult, but fortunately Pydantic provides us this functionality."
   ]
  },
  {
   "cell_type": "markdown",
   "id": "ce2d6a81-8009-417c-a55a-ddbaa708f1fe",
   "metadata": {},
   "source": [
    "If you are developing using FastAPI, you won't even need to use the info I'm going to show you here. FastAPI integrates with Pydantic and takes care of a lot of this \"plumbing\" automatically for us."
   ]
  },
  {
   "cell_type": "markdown",
   "id": "03802dce-7fa2-40a0-b7ac-9f1440942430",
   "metadata": {},
   "source": [
    "Nevertheless, if you need to generate the JSON schema manually for some reason (maybe you have an API endpoint that returns a requested schema), you can produce them this way."
   ]
  },
  {
   "cell_type": "code",
   "execution_count": 1,
   "id": "888ca2b7-be3f-41d7-a3c4-3f0e9ea5d419",
   "metadata": {},
   "outputs": [],
   "source": [
    "from pydantic import BaseModel"
   ]
  },
  {
   "cell_type": "code",
   "execution_count": 2,
   "id": "bdc3f108-d6dc-4e87-8d36-75f98a94fee2",
   "metadata": {},
   "outputs": [],
   "source": [
    "class Model(BaseModel):\n",
    "    field_1: int | None = None\n",
    "    field_2: str = \"Python\""
   ]
  },
  {
   "cell_type": "code",
   "execution_count": 3,
   "id": "bf1aebaf-bef6-46d0-a82b-30035d43097e",
   "metadata": {},
   "outputs": [
    {
     "name": "stdout",
     "output_type": "stream",
     "text": [
      "{'properties': {'field_1': {'anyOf': [{'type': 'integer'}, {'type': 'null'}],\n",
      "                            'default': None,\n",
      "                            'title': 'Field 1'},\n",
      "                'field_2': {'default': 'Python',\n",
      "                            'title': 'Field 2',\n",
      "                            'type': 'string'}},\n",
      " 'title': 'Model',\n",
      " 'type': 'object'}\n"
     ]
    }
   ],
   "source": [
    "from pprint import pprint\n",
    "\n",
    "pprint(Model.model_json_schema())"
   ]
  },
  {
   "cell_type": "markdown",
   "id": "a213fdc2-acad-46c7-8df8-780a06cc1aa6",
   "metadata": {},
   "source": [
    "There are a few options available to tweak how the JSON schema is generated, mainly around the concept of field aliases, which we'll cover later.\n",
    "\n",
    "Documentation for that is [here](https://docs.pydantic.dev/latest/api/base_model/#pydantic.main.BaseModel.model_json_schema)\n",
    "\n",
    "There are also much more advanced ways to work with JSON schemas if you need to, but way beyond the scope of this course.\n",
    "\n",
    "Documentation for that is available [here](https://docs.pydantic.dev/latest/api/json_schema/)"
   ]
  },
  {
   "cell_type": "code",
   "execution_count": null,
   "id": "c8a4ee18-c30a-4396-b5f9-ece1ebaa2676",
   "metadata": {},
   "outputs": [],
   "source": []
  }
 ],
 "metadata": {
  "kernelspec": {
   "display_name": "Python 3 (ipykernel)",
   "language": "python",
   "name": "python3"
  },
  "language_info": {
   "codemirror_mode": {
    "name": "ipython",
    "version": 3
   },
   "file_extension": ".py",
   "mimetype": "text/x-python",
   "name": "python",
   "nbconvert_exporter": "python",
   "pygments_lexer": "ipython3",
   "version": "3.12.0"
  }
 },
 "nbformat": 4,
 "nbformat_minor": 5
}
