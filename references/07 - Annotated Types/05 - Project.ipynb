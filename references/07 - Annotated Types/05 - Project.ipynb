{
 "cells": [
  {
   "cell_type": "markdown",
   "id": "8f813716-db22-44d9-9aca-54049755299f",
   "metadata": {},
   "source": [
    "# Project (Section 7)"
   ]
  },
  {
   "cell_type": "markdown",
   "id": "d6aa8fe6-848c-4a22-afb3-e142b9f30487",
   "metadata": {},
   "source": [
    "This is where we left off in the previous section project:"
   ]
  },
  {
   "cell_type": "code",
   "execution_count": 1,
   "id": "f0643da0-9a8e-449d-aa13-1c605c8ba437",
   "metadata": {},
   "outputs": [],
   "source": [
    "from datetime import date\n",
    "from enum import Enum\n",
    "from uuid import uuid4\n",
    "from pydantic import BaseModel, ConfigDict, Field, field_serializer\n",
    "from pydantic.alias_generators import to_camel\n",
    "from pydantic import UUID4\n",
    "\n",
    "\n",
    "class AutomobileType(Enum):\n",
    "    sedan = \"Sedan\"\n",
    "    coupe = \"Coupe\"\n",
    "    convertible = \"Convertible\"\n",
    "    suv = \"SUV\"\n",
    "    truck = \"Truck\"\n",
    "\n",
    "\n",
    "class Automobile(BaseModel):\n",
    "    model_config = ConfigDict(\n",
    "        extra=\"forbid\",\n",
    "        str_strip_whitespace=True,\n",
    "        validate_default=True,\n",
    "        validate_assignment=True,\n",
    "        alias_generator=to_camel,\n",
    "    )\n",
    "\n",
    "    id_: UUID4 | None = Field(alias=\"id\", default_factory=uuid4) \n",
    "    manufacturer: str\n",
    "    series_name: str\n",
    "    type_: AutomobileType = Field(alias=\"type\")\n",
    "    is_electric: bool = False\n",
    "    manufactured_date: date = Field(validation_alias=\"completionDate\", ge=date(1980, 1, 1))\n",
    "    base_msrp_usd: float = Field(\n",
    "        validation_alias=\"msrpUSD\", \n",
    "        serialization_alias=\"baseMSRPUSD\"\n",
    "    )\n",
    "    vin: str\n",
    "    number_of_doors: int = Field(\n",
    "        default=4, \n",
    "        validation_alias=\"doors\",\n",
    "        ge=2,\n",
    "        le=4,\n",
    "        multiple_of=2,\n",
    "    )\n",
    "    registration_country: str | None = None\n",
    "    license_plate: str | None = None\n",
    "\n",
    "    @field_serializer(\"manufactured_date\", when_used=\"json-unless-none\")\n",
    "    def serialize_date(self, value: date) -> str:\n",
    "        return value.strftime(\"%Y/%m/%d\")"
   ]
  },
  {
   "cell_type": "markdown",
   "id": "140441d3-4ed6-4ee5-b91c-dbcf709091f7",
   "metadata": {},
   "source": [
    "Create an annotated type, named `BoundedString` to define a string that has a minimum of 2 characters, and no more than 50 characters.\n",
    "\n",
    "Modify your `Automobile` model to use this annotated type for the following fields:\n",
    "- `manufacturer`\n",
    "- `series_name`\n",
    "- `vin`\n",
    "- `registration_country`\n",
    "- `license_plate`\n",
    "\n",
    "Create an annotated type, called `BoundedList` that uses a type variable to define a list of elements with a minimum of `1` element and a maximum of `5` elements.\n",
    "\n",
    "Using this annotated type, add a new field to the model as follows:\n",
    "- field name should be `top_features`\n",
    "- place it just before the `vin` field\n",
    "- it should both deserialize from and serialize to `topFeatures`\n",
    "- if should be a bounded list of strings, which themselves shoudl be bounded to a minimum of `2` chars, and no more than `50`. (Hint: use the `BoundedString` type you create as the type when you define the field type in your model with `BoundedList`)\n",
    "- make it optional, with a default of `None`"
   ]
  },
  {
   "cell_type": "markdown",
   "id": "3fc5d875-43e9-4621-a24a-fae4aba7a643",
   "metadata": {},
   "source": [
    "Use this data to test your model:"
   ]
  },
  {
   "cell_type": "code",
   "execution_count": 2,
   "id": "22d034b1-65d6-4034-a9c3-95f876fa0d7f",
   "metadata": {},
   "outputs": [],
   "source": [
    "from uuid import UUID\n",
    "\n",
    "data = {\n",
    "    \"id\": \"c4e60f4a-3c7f-4da5-9b3f-07aee50b23e7\",\n",
    "    \"manufacturer\": \"BMW\",\n",
    "    \"seriesName\": \"M4 Competition xDrive\",\n",
    "    \"type\": \"Convertible\",\n",
    "    \"isElectric\": False,\n",
    "    \"completionDate\": \"2023-01-01\",\n",
    "    \"msrpUSD\": 93_300,\n",
    "    \"topFeatures\": [\"6 cylinders\", \"all-wheel drive\", \"convertible\"],\n",
    "    \"vin\": \"1234567890\",\n",
    "    \"doors\": 2,\n",
    "    \"registrationCountry\": \"France\",\n",
    "    \"licensePlate\": \"AAA-BBB\"\n",
    "}\n",
    "\n",
    "expected_serialized_by_alias = {\n",
    "    'id': UUID('c4e60f4a-3c7f-4da5-9b3f-07aee50b23e7'),\n",
    "    'manufacturer': 'BMW',\n",
    "    'seriesName': 'M4 Competition xDrive',\n",
    "    'type': AutomobileType.convertible,\n",
    "    'isElectric': False,\n",
    "    'manufacturedDate': date(2023, 1, 1),\n",
    "    'baseMSRPUSD': 93300.0,\n",
    "    'topFeatures': ['6 cylinders', 'all-wheel drive', 'convertible'],\n",
    "    'vin': '1234567890',\n",
    "    'numberOfDoors': 2,\n",
    "    'registrationCountry': 'France',\n",
    "    'licensePlate': 'AAA-BBB'\n",
    "}"
   ]
  },
  {
   "cell_type": "markdown",
   "id": "fd2d4f68-b978-4476-b702-4867a5494f5c",
   "metadata": {},
   "source": [
    "You should also test that you get validation errors if you attempt to deserialize data that does not conform to the constraints. \n",
    "\n",
    "> Suggestion: create simple single field models to just test your Annotated types and make sure they work as expected. Once you have done that, go ahead and use them in your main model."
   ]
  }
 ],
 "metadata": {
  "kernelspec": {
   "display_name": "Python 3 (ipykernel)",
   "language": "python",
   "name": "python3"
  },
  "language_info": {
   "codemirror_mode": {
    "name": "ipython",
    "version": 3
   },
   "file_extension": ".py",
   "mimetype": "text/x-python",
   "name": "python",
   "nbconvert_exporter": "python",
   "pygments_lexer": "ipython3",
   "version": "3.12.0"
  }
 },
 "nbformat": 4,
 "nbformat_minor": 5
}
