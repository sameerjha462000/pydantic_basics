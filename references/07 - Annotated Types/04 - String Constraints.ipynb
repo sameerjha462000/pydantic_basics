{
 "cells": [
  {
   "cell_type": "markdown",
   "id": "a387723c-7709-468c-a1d6-60033eea3847",
   "metadata": {},
   "source": [
    "# String Constraints"
   ]
  },
  {
   "cell_type": "markdown",
   "id": "c1bfa7e6-513a-4afc-982d-741f2829a788",
   "metadata": {},
   "source": [
    "We saw earlier that we had some string constraints we could define using a `Field` object:"
   ]
  },
  {
   "cell_type": "code",
   "execution_count": 1,
   "id": "9c187f94-a538-4a5a-8f1d-3bc854e173ae",
   "metadata": {},
   "outputs": [],
   "source": [
    "from pydantic import BaseModel, Field, ValidationError"
   ]
  },
  {
   "cell_type": "code",
   "execution_count": 2,
   "id": "0626831f-b84e-45d0-bb83-41d4b55d0909",
   "metadata": {},
   "outputs": [],
   "source": [
    "class Model(BaseModel):\n",
    "    name: str = Field(min_length=2, max_length=5)"
   ]
  },
  {
   "cell_type": "markdown",
   "id": "2bd8ab8b-d3af-43a7-884a-3efd6e82cb42",
   "metadata": {},
   "source": [
    "But there are other string constraints we can apply, some of which we saw when we looked at model level configuration, that we can apply at the individual field level."
   ]
  },
  {
   "cell_type": "markdown",
   "id": "91246c65-348a-4cb8-9b4a-a0adf3d0b6a8",
   "metadata": {},
   "source": [
    "To do this we need to add a `StringContraints` object to our annotated type:"
   ]
  },
  {
   "cell_type": "code",
   "execution_count": 3,
   "id": "96afcbb4-887f-45d3-a5a6-9fa1155c70cb",
   "metadata": {},
   "outputs": [],
   "source": [
    "from typing import Annotated\n",
    "\n",
    "from pydantic import StringConstraints"
   ]
  },
  {
   "cell_type": "code",
   "execution_count": 4,
   "id": "98e49d4d-ad1b-45f0-9bad-c5a2fbc3f0c3",
   "metadata": {},
   "outputs": [],
   "source": [
    "StandardString = Annotated[\n",
    "    str, \n",
    "    StringConstraints(to_lower=True, min_length=2, strip_whitespace=True)\n",
    "]"
   ]
  },
  {
   "cell_type": "code",
   "execution_count": 5,
   "id": "f697ee8d-dbc2-46a5-8868-fa5604db3d9a",
   "metadata": {},
   "outputs": [],
   "source": [
    "class Model(BaseModel):\n",
    "    code: StandardString | None = None"
   ]
  },
  {
   "cell_type": "code",
   "execution_count": 6,
   "id": "5c39ecf5-545e-4314-aa54-e90b587a5c3e",
   "metadata": {},
   "outputs": [
    {
     "data": {
      "text/plain": [
       "Model(code=None)"
      ]
     },
     "execution_count": 6,
     "metadata": {},
     "output_type": "execute_result"
    }
   ],
   "source": [
    "Model()"
   ]
  },
  {
   "cell_type": "code",
   "execution_count": 7,
   "id": "7139eb77-8d44-4b0d-843d-d9eda7d06b00",
   "metadata": {},
   "outputs": [
    {
     "data": {
      "text/plain": [
       "Model(code='abc')"
      ]
     },
     "execution_count": 7,
     "metadata": {},
     "output_type": "execute_result"
    }
   ],
   "source": [
    "Model(code=\"ABC   \")"
   ]
  },
  {
   "cell_type": "code",
   "execution_count": 8,
   "id": "510093b1-53f0-4787-b385-a27f43eb78dd",
   "metadata": {},
   "outputs": [
    {
     "name": "stdout",
     "output_type": "stream",
     "text": [
      "1 validation error for Model\n",
      "code\n",
      "  String should have at least 2 characters [type=string_too_short, input_value='   a   ', input_type=str]\n",
      "    For further information visit https://errors.pydantic.dev/2.5/v/string_too_short\n"
     ]
    }
   ],
   "source": [
    "try:\n",
    "    Model(code=\"   a   \")\n",
    "except ValidationError as ex:\n",
    "    print(ex)"
   ]
  },
  {
   "cell_type": "markdown",
   "id": "7412e487-549b-4d93-91bb-fd5473d8aa9d",
   "metadata": {},
   "source": [
    "So, if you only need min/max length requirements (or a regex pattern), you can just use a `Field` object, but if you require a bit more advanced functionality, `StringConstraints` might be what you need (and if that's not enough, custom validators)."
   ]
  },
  {
   "cell_type": "markdown",
   "id": "24b04ded-70f1-401c-b285-747ed1f8cda6",
   "metadata": {},
   "source": [
    "Documentation can be found [here](https://docs.pydantic.dev/latest/api/types/#pydantic.types.StringConstraints)"
   ]
  },
  {
   "cell_type": "code",
   "execution_count": null,
   "id": "f33355f5-7f10-46e3-b79b-cf8ac11386f5",
   "metadata": {},
   "outputs": [],
   "source": []
  }
 ],
 "metadata": {
  "kernelspec": {
   "display_name": "Python 3 (ipykernel)",
   "language": "python",
   "name": "python3"
  },
  "language_info": {
   "codemirror_mode": {
    "name": "ipython",
    "version": 3
   },
   "file_extension": ".py",
   "mimetype": "text/x-python",
   "name": "python",
   "nbconvert_exporter": "python",
   "pygments_lexer": "ipython3",
   "version": "3.12.0"
  }
 },
 "nbformat": 4,
 "nbformat_minor": 5
}
