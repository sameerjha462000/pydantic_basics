{
 "cells": [
  {
   "cell_type": "markdown",
   "id": "0f6504be-deaf-4bee-b05f-dc7d031a7055",
   "metadata": {},
   "source": [
    "# Project with Solution (Section 7)"
   ]
  },
  {
   "cell_type": "markdown",
   "id": "604a3e21-b3f7-4b28-b9b2-d3c7c244a09b",
   "metadata": {
    "jp-MarkdownHeadingCollapsed": true
   },
   "source": [
    "## Project Specs"
   ]
  },
  {
   "cell_type": "markdown",
   "id": "adb4ec6d-2ef8-47a9-8247-fcd3705125fd",
   "metadata": {},
   "source": [
    "This is where we left off in the previous section project:"
   ]
  },
  {
   "cell_type": "code",
   "execution_count": 1,
   "id": "5773b4aa-b23f-4508-a06d-f362065ebc2b",
   "metadata": {},
   "outputs": [],
   "source": [
    "from datetime import date\n",
    "from enum import Enum\n",
    "from uuid import uuid4\n",
    "from pydantic import BaseModel, ConfigDict, Field, field_serializer\n",
    "from pydantic.alias_generators import to_camel\n",
    "from pydantic import UUID4\n",
    "\n",
    "\n",
    "class AutomobileType(Enum):\n",
    "    sedan = \"Sedan\"\n",
    "    coupe = \"Coupe\"\n",
    "    convertible = \"Convertible\"\n",
    "    suv = \"SUV\"\n",
    "    truck = \"Truck\"\n",
    "\n",
    "\n",
    "class Automobile(BaseModel):\n",
    "    model_config = ConfigDict(\n",
    "        extra=\"forbid\",\n",
    "        str_strip_whitespace=True,\n",
    "        validate_default=True,\n",
    "        validate_assignment=True,\n",
    "        alias_generator=to_camel,\n",
    "    )\n",
    "\n",
    "    id_: UUID4 | None = Field(alias=\"id\", default_factory=uuid4) \n",
    "    manufacturer: str\n",
    "    series_name: str\n",
    "    type_: AutomobileType = Field(alias=\"type\")\n",
    "    is_electric: bool = False\n",
    "    manufactured_date: date = Field(validation_alias=\"completionDate\", ge=date(1980, 1, 1))\n",
    "    base_msrp_usd: float = Field(\n",
    "        validation_alias=\"msrpUSD\", \n",
    "        serialization_alias=\"baseMSRPUSD\"\n",
    "    )\n",
    "    vin: str\n",
    "    number_of_doors: int = Field(\n",
    "        default=4, \n",
    "        validation_alias=\"doors\",\n",
    "        ge=2,\n",
    "        le=4,\n",
    "        multiple_of=2,\n",
    "    )\n",
    "    registration_country: str | None = None\n",
    "    license_plate: str | None = None\n",
    "\n",
    "    @field_serializer(\"manufactured_date\", when_used=\"json-unless-none\")\n",
    "    def serialize_date(self, value: date) -> str:\n",
    "        return value.strftime(\"%Y/%m/%d\")"
   ]
  },
  {
   "cell_type": "markdown",
   "id": "42b0c27a-f4c3-4c84-8041-9d3764f0cf81",
   "metadata": {},
   "source": [
    "Create an annotated type, named `BoundedString` to define a string that has a minimum of 2 characters, and no more than 50 characters.\n",
    "\n",
    "Modify your `Automobile` model to use this annotated type for the following fields:\n",
    "- `manufacturer`\n",
    "- `series_name`\n",
    "- `vin`\n",
    "- `registration_country`\n",
    "- `license_plate`\n",
    "\n",
    "Create an annotated type, called `BoundedList` that uses a type variable to define a list of elements with a minimum of `1` element and a maximum of `5` elements.\n",
    "\n",
    "Using this annotated type, add a new field to the model as follows:\n",
    "- field name should be `top_features`\n",
    "- place it just before the `vin` field\n",
    "- it should both deserialize from and serialize to `topFeatures`\n",
    "- if should be a bounded list of strings, which themselves shoudl be bounded to a minimum of `2` chars, and no more than `50`. (Hint: use the `BoundedString` type you create as the type when you define the field type in your model with `BoundedList`)\n",
    "- make it optional, with a default of `None`"
   ]
  },
  {
   "cell_type": "markdown",
   "id": "ee87c6a3-eea9-4182-9977-e0d736987e61",
   "metadata": {},
   "source": [
    "Use this data to test your model:"
   ]
  },
  {
   "cell_type": "code",
   "execution_count": 2,
   "id": "a9770248-d417-4799-bc11-736b1da8af66",
   "metadata": {},
   "outputs": [],
   "source": [
    "from uuid import UUID\n",
    "\n",
    "data = {\n",
    "    \"id\": \"c4e60f4a-3c7f-4da5-9b3f-07aee50b23e7\",\n",
    "    \"manufacturer\": \"BMW\",\n",
    "    \"seriesName\": \"M4 Competition xDrive\",\n",
    "    \"type\": \"Convertible\",\n",
    "    \"isElectric\": False,\n",
    "    \"completionDate\": \"2023-01-01\",\n",
    "    \"msrpUSD\": 93_300,\n",
    "    \"topFeatures\": [\"6 cylinders\", \"all-wheel drive\", \"convertible\"],\n",
    "    \"vin\": \"1234567890\",\n",
    "    \"doors\": 2,\n",
    "    \"registrationCountry\": \"France\",\n",
    "    \"licensePlate\": \"AAA-BBB\"\n",
    "}\n",
    "\n",
    "expected_serialized_by_alias = {\n",
    "    'id': UUID('c4e60f4a-3c7f-4da5-9b3f-07aee50b23e7'),\n",
    "    'manufacturer': 'BMW',\n",
    "    'seriesName': 'M4 Competition xDrive',\n",
    "    'type': AutomobileType.convertible,\n",
    "    'isElectric': False,\n",
    "    'manufacturedDate': date(2023, 1, 1),\n",
    "    'baseMSRPUSD': 93300.0,\n",
    "    'topFeatures': ['6 cylinders', 'all-wheel drive', 'convertible'],\n",
    "    'vin': '1234567890',\n",
    "    'numberOfDoors': 2,\n",
    "    'registrationCountry': 'France',\n",
    "    'licensePlate': 'AAA-BBB'\n",
    "}"
   ]
  },
  {
   "cell_type": "markdown",
   "id": "b90c2590-5bb1-41dc-a93b-8d934c00dfe8",
   "metadata": {},
   "source": [
    "You should also test that you get validation errors if you attempt to deserialize data that does not conform to the constraints. \n",
    "\n",
    "> Suggestion: create simple single field models to just test your Annotated types and make sure they work as expected. Once you have done that, go ahead and use them in your main model."
   ]
  },
  {
   "cell_type": "markdown",
   "id": "d8f6803f-eeb1-4296-b8dd-b803e2ee6d0e",
   "metadata": {},
   "source": [
    "## Solution"
   ]
  },
  {
   "cell_type": "code",
   "execution_count": 3,
   "id": "812f4612-2763-4c6f-bb47-f2d4f63fbff1",
   "metadata": {},
   "outputs": [],
   "source": [
    "from typing import Annotated, TypeVar\n",
    "from pydantic import Field\n",
    "\n",
    "BoundedString = Annotated[str, Field(min_length=2, max_length=50)]\n",
    "\n",
    "T = TypeVar('T')\n",
    "\n",
    "BoundedList = Annotated[list[T], Field(min_length=1, max_length=5)]"
   ]
  },
  {
   "cell_type": "markdown",
   "id": "a94e7b1b-b950-4fac-9138-d3de449c9929",
   "metadata": {},
   "source": [
    "Let's test these out before we use them in our model:"
   ]
  },
  {
   "cell_type": "code",
   "execution_count": 4,
   "id": "ce772751-9f98-4002-96ed-0183b7d048f5",
   "metadata": {},
   "outputs": [],
   "source": [
    "class Test(BaseModel):\n",
    "    field1: BoundedString"
   ]
  },
  {
   "cell_type": "code",
   "execution_count": 5,
   "id": "48c73112-0614-430e-931e-f9a3d4eb7172",
   "metadata": {},
   "outputs": [
    {
     "data": {
      "text/plain": [
       "Test(field1='abc')"
      ]
     },
     "execution_count": 5,
     "metadata": {},
     "output_type": "execute_result"
    }
   ],
   "source": [
    "Test(field1=\"abc\")"
   ]
  },
  {
   "cell_type": "code",
   "execution_count": 6,
   "id": "a3b8e301-79c4-4879-b382-3f2b68e7ef23",
   "metadata": {},
   "outputs": [],
   "source": [
    "from pydantic import ValidationError"
   ]
  },
  {
   "cell_type": "code",
   "execution_count": 7,
   "id": "c1061cc7-c39f-493f-a50b-10d3e420ad4a",
   "metadata": {},
   "outputs": [
    {
     "name": "stdout",
     "output_type": "stream",
     "text": [
      "1 validation error for Test\n",
      "field1\n",
      "  String should have at least 2 characters [type=string_too_short, input_value='a', input_type=str]\n",
      "    For further information visit https://errors.pydantic.dev/2.5/v/string_too_short\n"
     ]
    }
   ],
   "source": [
    "try:\n",
    "    Test(field1=\"a\")\n",
    "except ValidationError as ex:\n",
    "    print(ex)"
   ]
  },
  {
   "cell_type": "code",
   "execution_count": 8,
   "id": "fef7ab07-810c-444c-9516-b066bb74d7d0",
   "metadata": {},
   "outputs": [
    {
     "name": "stdout",
     "output_type": "stream",
     "text": [
      "1 validation error for Test\n",
      "field1\n",
      "  String should have at most 50 characters [type=string_too_long, input_value='aaaaaaaaaaaaaaaaaaaaaaaa...aaaaaaaaaaaaaaaaaaaaaaa', input_type=str]\n",
      "    For further information visit https://errors.pydantic.dev/2.5/v/string_too_long\n"
     ]
    }
   ],
   "source": [
    "try:\n",
    "    Test(field1=\"a\" * 51)\n",
    "except ValidationError as ex:\n",
    "    print(ex)"
   ]
  },
  {
   "cell_type": "code",
   "execution_count": 9,
   "id": "2193af31-7ce9-4185-ad86-aca4be052694",
   "metadata": {},
   "outputs": [],
   "source": [
    "class Test(BaseModel):\n",
    "    my_list: BoundedList[int]"
   ]
  },
  {
   "cell_type": "code",
   "execution_count": 10,
   "id": "031ae989-9287-4c5d-868e-e9e7a325c089",
   "metadata": {},
   "outputs": [
    {
     "data": {
      "text/plain": [
       "Test(my_list=[1, 2, 3])"
      ]
     },
     "execution_count": 10,
     "metadata": {},
     "output_type": "execute_result"
    }
   ],
   "source": [
    "Test(my_list=[1, 2, 3])"
   ]
  },
  {
   "cell_type": "code",
   "execution_count": 11,
   "id": "1947ee0a-1952-46fa-a862-a78938da91b0",
   "metadata": {},
   "outputs": [
    {
     "name": "stdout",
     "output_type": "stream",
     "text": [
      "1 validation error for Test\n",
      "my_list\n",
      "  List should have at least 1 item after validation, not 0 [type=too_short, input_value=[], input_type=list]\n",
      "    For further information visit https://errors.pydantic.dev/2.5/v/too_short\n"
     ]
    }
   ],
   "source": [
    "try:\n",
    "    Test(my_list=[])\n",
    "except ValidationError as ex:\n",
    "    print(ex)"
   ]
  },
  {
   "cell_type": "code",
   "execution_count": 12,
   "id": "9d339a9a-ddf3-45b2-ad2b-4f9d3d2938fc",
   "metadata": {},
   "outputs": [
    {
     "name": "stdout",
     "output_type": "stream",
     "text": [
      "1 validation error for Test\n",
      "my_list\n",
      "  List should have at most 5 items after validation, not 6 [type=too_long, input_value=[1, 2, 3, 4, 5, 6], input_type=list]\n",
      "    For further information visit https://errors.pydantic.dev/2.5/v/too_long\n"
     ]
    }
   ],
   "source": [
    "try:\n",
    "    Test(my_list=[1, 2, 3, 4, 5, 6])\n",
    "except ValidationError as ex:\n",
    "    print(ex)"
   ]
  },
  {
   "cell_type": "markdown",
   "id": "7838235f-53be-4a3e-91cc-7620ed2c2670",
   "metadata": {},
   "source": [
    "And now we can combine these two to make a bounded list of bounded strings:"
   ]
  },
  {
   "cell_type": "code",
   "execution_count": 13,
   "id": "7882d50a-f913-4684-a483-dcea1dbb8318",
   "metadata": {},
   "outputs": [],
   "source": [
    "class Test(BaseModel):\n",
    "    my_list: BoundedList[BoundedString]"
   ]
  },
  {
   "cell_type": "code",
   "execution_count": 14,
   "id": "9f7aeb65-cc15-4f51-8259-b85ec3119bce",
   "metadata": {},
   "outputs": [
    {
     "data": {
      "text/plain": [
       "Test(my_list=['aa', 'bb', 'cc'])"
      ]
     },
     "execution_count": 14,
     "metadata": {},
     "output_type": "execute_result"
    }
   ],
   "source": [
    "Test(my_list=['aa', 'bb', 'cc'])"
   ]
  },
  {
   "cell_type": "code",
   "execution_count": 15,
   "id": "36421b6d-ca47-4b6e-bb7f-eec79a492263",
   "metadata": {},
   "outputs": [
    {
     "name": "stdout",
     "output_type": "stream",
     "text": [
      "1 validation error for Test\n",
      "my_list\n",
      "  List should have at least 1 item after validation, not 0 [type=too_short, input_value=[], input_type=list]\n",
      "    For further information visit https://errors.pydantic.dev/2.5/v/too_short\n"
     ]
    }
   ],
   "source": [
    "try:\n",
    "    Test(my_list=[])\n",
    "except ValidationError as ex:\n",
    "    print(ex)"
   ]
  },
  {
   "cell_type": "code",
   "execution_count": 16,
   "id": "e31165d4-1927-4c13-9ee7-672194d0bfdb",
   "metadata": {},
   "outputs": [
    {
     "name": "stdout",
     "output_type": "stream",
     "text": [
      "1 validation error for Test\n",
      "my_list.0\n",
      "  String should have at least 2 characters [type=string_too_short, input_value='a', input_type=str]\n",
      "    For further information visit https://errors.pydantic.dev/2.5/v/string_too_short\n"
     ]
    }
   ],
   "source": [
    "try:\n",
    "    Test(my_list=['a', 'bb', 'cc'])\n",
    "except ValidationError as ex:\n",
    "    print(ex)"
   ]
  },
  {
   "cell_type": "code",
   "execution_count": 17,
   "id": "3a357934-50cc-4976-b99f-d74e57c3f875",
   "metadata": {},
   "outputs": [
    {
     "name": "stdout",
     "output_type": "stream",
     "text": [
      "1 validation error for Test\n",
      "my_list.0\n",
      "  String should have at most 50 characters [type=string_too_long, input_value='aaaaaaaaaaaaaaaaaaaaaaaa...aaaaaaaaaaaaaaaaaaaaaaa', input_type=str]\n",
      "    For further information visit https://errors.pydantic.dev/2.5/v/string_too_long\n"
     ]
    }
   ],
   "source": [
    "try:\n",
    "    Test(my_list=['a' * 51, 'bb', 'cc'])\n",
    "except ValidationError as ex:\n",
    "    print(ex)"
   ]
  },
  {
   "cell_type": "markdown",
   "id": "9755dcd1-c245-4ad1-9934-4189e557f7c7",
   "metadata": {},
   "source": [
    "Ok, so those seem to work, and we can now use them in our model:"
   ]
  },
  {
   "cell_type": "code",
   "execution_count": 18,
   "id": "0cee07af-c183-4d32-b41f-fe53b17ce7f0",
   "metadata": {},
   "outputs": [],
   "source": [
    "class Automobile(BaseModel):\n",
    "    model_config = ConfigDict(\n",
    "        extra=\"forbid\",\n",
    "        str_strip_whitespace=True,\n",
    "        validate_default=True,\n",
    "        validate_assignment=True,\n",
    "        alias_generator=to_camel,\n",
    "    )\n",
    "\n",
    "    id_: UUID4 | None = Field(alias=\"id\", default_factory=uuid4) \n",
    "    manufacturer: BoundedString\n",
    "    series_name: BoundedString\n",
    "    type_: AutomobileType = Field(alias=\"type\")\n",
    "    is_electric: bool = False\n",
    "    manufactured_date: date = Field(validation_alias=\"completionDate\", ge=date(1980, 1, 1))\n",
    "    base_msrp_usd: float = Field(\n",
    "        validation_alias=\"msrpUSD\", \n",
    "        serialization_alias=\"baseMSRPUSD\"\n",
    "    )\n",
    "    top_features: BoundedList[BoundedString] | None = None\n",
    "    vin: BoundedString\n",
    "    number_of_doors: int = Field(\n",
    "        default=4, \n",
    "        validation_alias=\"doors\",\n",
    "        ge=2,\n",
    "        le=4,\n",
    "        multiple_of=2,\n",
    "    )\n",
    "    registration_country: BoundedString | None = None\n",
    "    license_plate: BoundedString | None = None\n",
    "\n",
    "    @field_serializer(\"manufactured_date\", when_used=\"json-unless-none\")\n",
    "    def serialize_date(self, value: date) -> str:\n",
    "        return value.strftime(\"%Y/%m/%d\")"
   ]
  },
  {
   "cell_type": "code",
   "execution_count": 19,
   "id": "6adb0ed4-c4d2-4074-941a-89a903dc890b",
   "metadata": {},
   "outputs": [],
   "source": [
    "data = {\n",
    "    \"id\": \"c4e60f4a-3c7f-4da5-9b3f-07aee50b23e7\",\n",
    "    \"manufacturer\": \"BMW\",\n",
    "    \"seriesName\": \"M4 Competition xDrive\",\n",
    "    \"type\": \"Convertible\",\n",
    "    \"isElectric\": False,\n",
    "    \"completionDate\": \"2023-01-01\",\n",
    "    \"msrpUSD\": 93_300,\n",
    "    \"topFeatures\": [\"6 cylinders\", \"all-wheel drive\", \"convertible\"],\n",
    "    \"vin\": \"1234567890\",\n",
    "    \"doors\": 2,\n",
    "    \"registrationCountry\": \"France\",\n",
    "    \"licensePlate\": \"AAA-BBB\"\n",
    "}\n",
    "\n",
    "expected_serialized_by_alias = {\n",
    "    'id': UUID('c4e60f4a-3c7f-4da5-9b3f-07aee50b23e7'),\n",
    "    'manufacturer': 'BMW',\n",
    "    'seriesName': 'M4 Competition xDrive',\n",
    "    'type': AutomobileType.convertible,\n",
    "    'isElectric': False,\n",
    "    'manufacturedDate': date(2023, 1, 1),\n",
    "    'baseMSRPUSD': 93300.0,\n",
    "    'topFeatures': ['6 cylinders', 'all-wheel drive', 'convertible'],\n",
    "    'vin': '1234567890',\n",
    "    'numberOfDoors': 2,\n",
    "    'registrationCountry': 'France',\n",
    "    'licensePlate': 'AAA-BBB'\n",
    "}"
   ]
  },
  {
   "cell_type": "code",
   "execution_count": 20,
   "id": "13d46454-93b3-4483-b111-552adc3baadd",
   "metadata": {},
   "outputs": [
    {
     "data": {
      "text/plain": [
       "Automobile(id_=UUID('c4e60f4a-3c7f-4da5-9b3f-07aee50b23e7'), manufacturer='BMW', series_name='M4 Competition xDrive', type_=<AutomobileType.convertible: 'Convertible'>, is_electric=False, manufactured_date=datetime.date(2023, 1, 1), base_msrp_usd=93300.0, top_features=['6 cylinders', 'all-wheel drive', 'convertible'], vin='1234567890', number_of_doors=2, registration_country='France', license_plate='AAA-BBB')"
      ]
     },
     "execution_count": 20,
     "metadata": {},
     "output_type": "execute_result"
    }
   ],
   "source": [
    "car = Automobile.model_validate(data)\n",
    "car"
   ]
  },
  {
   "cell_type": "code",
   "execution_count": 21,
   "id": "027a60b2-38e0-46c1-8e62-37644c784f1f",
   "metadata": {},
   "outputs": [],
   "source": [
    "assert car.model_dump(by_alias=True) == expected_serialized_by_alias"
   ]
  },
  {
   "cell_type": "code",
   "execution_count": null,
   "id": "0316d3ee-98af-4b7a-8f80-6e24adfa95f1",
   "metadata": {},
   "outputs": [],
   "source": []
  }
 ],
 "metadata": {
  "kernelspec": {
   "display_name": "Python 3 (ipykernel)",
   "language": "python",
   "name": "python3"
  },
  "language_info": {
   "codemirror_mode": {
    "name": "ipython",
    "version": 3
   },
   "file_extension": ".py",
   "mimetype": "text/x-python",
   "name": "python",
   "nbconvert_exporter": "python",
   "pygments_lexer": "ipython3",
   "version": "3.12.0"
  }
 },
 "nbformat": 4,
 "nbformat_minor": 5
}
