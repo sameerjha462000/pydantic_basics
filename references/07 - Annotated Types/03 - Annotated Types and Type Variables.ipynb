{
 "cells": [
  {
   "cell_type": "markdown",
   "id": "be430957-eb6d-4455-9690-ff196dd2e010",
   "metadata": {},
   "source": [
    "# Annotated Types and Type Variables"
   ]
  },
  {
   "cell_type": "markdown",
   "id": "f1391f53-ccb3-41fa-b9b6-5daa67e02e29",
   "metadata": {},
   "source": [
    "Technically this is not Pydantic specific, but it is a very commonly used technique for defining types in Pydantic models."
   ]
  },
  {
   "cell_type": "markdown",
   "id": "a5727d3b-a4c4-4fbe-a0af-e586de00ed56",
   "metadata": {},
   "source": [
    "Suppose we want to define a bounded list of elements that contains at at most 10 elements."
   ]
  },
  {
   "cell_type": "markdown",
   "id": "06bbc9cc-bade-494a-868f-053f49403d03",
   "metadata": {},
   "source": [
    "We've seen how to do this using the `Field` class:"
   ]
  },
  {
   "cell_type": "code",
   "execution_count": 1,
   "id": "2db79304-cc2b-41c7-8b18-495dca6dcbb3",
   "metadata": {},
   "outputs": [],
   "source": [
    "from typing import Annotated\n",
    "\n",
    "from pydantic import BaseModel, Field, ValidationError"
   ]
  },
  {
   "cell_type": "code",
   "execution_count": 2,
   "id": "fa68900a-2f93-404b-99d5-c470723be223",
   "metadata": {},
   "outputs": [],
   "source": [
    "class Model(BaseModel):\n",
    "    elements: list[int] = Field(default=[], max_length=10)"
   ]
  },
  {
   "cell_type": "code",
   "execution_count": 3,
   "id": "6781a204-be64-46bb-b6bd-931eb40fb199",
   "metadata": {},
   "outputs": [
    {
     "data": {
      "text/plain": [
       "Model(elements=[1, 2, 3])"
      ]
     },
     "execution_count": 3,
     "metadata": {},
     "output_type": "execute_result"
    }
   ],
   "source": [
    "m = Model(elements=[1, 2, 3])\n",
    "m"
   ]
  },
  {
   "cell_type": "code",
   "execution_count": 4,
   "id": "01f61c69-0334-43b8-a5b5-552a1ea9b3cf",
   "metadata": {},
   "outputs": [
    {
     "name": "stdout",
     "output_type": "stream",
     "text": [
      "1 validation error for Model\n",
      "elements\n",
      "  List should have at most 10 items after validation, not 20 [type=too_long, input_value=[1, 1, 1, 1, 1, 1, 1, 1, ... 1, 1, 1, 1, 1, 1, 1, 1], input_type=list]\n",
      "    For further information visit https://errors.pydantic.dev/2.5/v/too_long\n"
     ]
    }
   ],
   "source": [
    "try:\n",
    "    Model(elements = [1, ] * 20)\n",
    "except ValidationError as ex:\n",
    "    print(ex)"
   ]
  },
  {
   "cell_type": "markdown",
   "id": "83103f59-bcec-4694-acf2-70313aabb318",
   "metadata": {},
   "source": [
    "We could, for reusability, define this as an annotated type instead:"
   ]
  },
  {
   "cell_type": "code",
   "execution_count": 5,
   "id": "c9508dfe-a6b0-4a27-acad-30ccd05325de",
   "metadata": {},
   "outputs": [],
   "source": [
    "BoundedListInt = Annotated[list[int], Field(max_length=10)]"
   ]
  },
  {
   "cell_type": "markdown",
   "id": "a73ebbf4-44e2-4e80-9959-8b83b5f563dd",
   "metadata": {},
   "source": [
    "And now we can re-use it in any of our models:"
   ]
  },
  {
   "cell_type": "code",
   "execution_count": 6,
   "id": "09818c4a-4a28-4df4-8bd8-a8334452f1a4",
   "metadata": {},
   "outputs": [],
   "source": [
    "class Model(BaseModel):\n",
    "    field_1: BoundedListInt = []\n",
    "    field_2: BoundedListInt = []"
   ]
  },
  {
   "cell_type": "markdown",
   "id": "b31138ab-2da7-4785-83ef-c1e75fd8fbf4",
   "metadata": {},
   "source": [
    "So that's great, but this annotated type is for lists of integers only.\n",
    "\n",
    "What if we wanted the same thing for lists of floats?"
   ]
  },
  {
   "cell_type": "code",
   "execution_count": 7,
   "id": "847074a1-429d-4bd2-8bb9-81e53a1a1b5d",
   "metadata": {},
   "outputs": [],
   "source": [
    "BoundedListFloat = Annotated[list[float], Field(max_length=10)]"
   ]
  },
  {
   "cell_type": "markdown",
   "id": "9b28164c-277d-4be8-863b-e8fa0acb3db7",
   "metadata": {},
   "source": [
    "And for the same thing but for strings?"
   ]
  },
  {
   "cell_type": "code",
   "execution_count": 8,
   "id": "3478361a-721a-40e5-96c6-b36f6accfb24",
   "metadata": {},
   "outputs": [],
   "source": [
    "BoundedListString = Annotated[list[str], Field(max_length=10)]"
   ]
  },
  {
   "cell_type": "markdown",
   "id": "56e82a3c-67ea-4978-930f-5ecdb02ba160",
   "metadata": {},
   "source": [
    "And so on...\n",
    "\n",
    "As you can see, the only thing that changes is that the type in `list[]` changes, from `int`, to `float` to `str`. And if we wanted other types, we'd have keep creating these types that are otherwise identical."
   ]
  },
  {
   "cell_type": "markdown",
   "id": "788df61f-2a75-4e76-8803-bc053190a1c9",
   "metadata": {},
   "source": [
    "We could use the `Any` type in our annotation - but doing so we would lose the type validation Pydantic has to offer (since it would now accept lists that contained any type, including lists with mixed types) - which is probably not something we want."
   ]
  },
  {
   "cell_type": "code",
   "execution_count": 9,
   "id": "fd821eab-2381-47cb-9fff-42c04d91dd55",
   "metadata": {},
   "outputs": [],
   "source": [
    "from typing import Any\n",
    "\n",
    "BoundedList = Annotated[list[Any], Field(max_length=10)]"
   ]
  },
  {
   "cell_type": "markdown",
   "id": "7f4d0cbe-5f5f-46f4-bf89-1f8ac239ae83",
   "metadata": {},
   "source": [
    "This is where the concept of a type variables comes into play."
   ]
  },
  {
   "cell_type": "markdown",
   "id": "e71b8c1e-2646-47b6-94b6-c6825ef2da92",
   "metadata": {},
   "source": [
    "Think about how we actually defined a list of integers, or a list of strings..."
   ]
  },
  {
   "cell_type": "markdown",
   "id": "0ad63206-c932-4fd9-ba6d-4207963451db",
   "metadata": {},
   "source": [
    "We used the type `list`, then square brackets and the element type inside the square brackets, e.g. `list[int]`.\n",
    "\n",
    "That element type could have been any type we wanted, even a custom class.\n",
    "\n",
    "In other words, the type defined inside those square brackets is actually variable.\n",
    "\n",
    "That's the concept of type variables, implemented in Python using `TypeVar`."
   ]
  },
  {
   "cell_type": "markdown",
   "id": "0bc7e355-38cc-4fa0-a5c0-54d1c68d0fa9",
   "metadata": {},
   "source": [
    "Let's see how to do this for our own types."
   ]
  },
  {
   "cell_type": "markdown",
   "id": "757a9bc2-9bb9-4ca4-8399-d919057e818a",
   "metadata": {},
   "source": [
    "First we need to define a type variable - we can name it whatever we want, and here I'll just use `T`."
   ]
  },
  {
   "cell_type": "code",
   "execution_count": 10,
   "id": "a8e05559-c2ce-4451-b25b-29f7831c3b04",
   "metadata": {},
   "outputs": [],
   "source": [
    "from typing import TypeVar"
   ]
  },
  {
   "cell_type": "code",
   "execution_count": 11,
   "id": "4f6c099b-3eb7-47a9-8da3-c4a7bed07842",
   "metadata": {},
   "outputs": [],
   "source": [
    "T = TypeVar('T')"
   ]
  },
  {
   "cell_type": "markdown",
   "id": "3c81c9d8-389c-411f-8190-91286b2f3014",
   "metadata": {},
   "source": [
    "We now have a type variable, and we can use it when we create our annotated type - we'll use that variable instead of using `int` or `float`."
   ]
  },
  {
   "cell_type": "code",
   "execution_count": 12,
   "id": "f482c8d8-4c6c-4119-b7be-5fb9289689b2",
   "metadata": {},
   "outputs": [],
   "source": [
    "BoundedList = Annotated[list[T], Field(max_length=10)]"
   ]
  },
  {
   "cell_type": "markdown",
   "id": "408c0925-8535-4644-87ba-17352bdd01f6",
   "metadata": {},
   "source": [
    "Now, to create a bounded list of a specific type, we just have to specify the value for the type variable when we use the annotated type:"
   ]
  },
  {
   "cell_type": "code",
   "execution_count": 13,
   "id": "a0cfb584-6b3f-4d72-b952-b0d20eb40e92",
   "metadata": {},
   "outputs": [
    {
     "data": {
      "text/plain": [
       "typing.Annotated[list[int], FieldInfo(annotation=NoneType, required=True, metadata=[MaxLen(max_length=10)])]"
      ]
     },
     "execution_count": 13,
     "metadata": {},
     "output_type": "execute_result"
    }
   ],
   "source": [
    "BoundedList[int]"
   ]
  },
  {
   "cell_type": "code",
   "execution_count": 14,
   "id": "06f6972d-35ad-4555-bed4-c6eba9d4f968",
   "metadata": {},
   "outputs": [
    {
     "data": {
      "text/plain": [
       "typing.Annotated[list[str], FieldInfo(annotation=NoneType, required=True, metadata=[MaxLen(max_length=10)])]"
      ]
     },
     "execution_count": 14,
     "metadata": {},
     "output_type": "execute_result"
    }
   ],
   "source": [
    "BoundedList[str]"
   ]
  },
  {
   "cell_type": "markdown",
   "id": "c20f4b87-9848-42ca-b502-5132e34434e1",
   "metadata": {},
   "source": [
    "And we can use this in our models:"
   ]
  },
  {
   "cell_type": "code",
   "execution_count": 15,
   "id": "a85aff39-6958-4c58-931d-c3b3824dee9b",
   "metadata": {},
   "outputs": [],
   "source": [
    "class Model(BaseModel):\n",
    "    integers: BoundedList[int] = []\n",
    "    strings: BoundedList[str] = []"
   ]
  },
  {
   "cell_type": "code",
   "execution_count": 16,
   "id": "f622e195-21c9-4a6f-b21d-cffdda68f863",
   "metadata": {},
   "outputs": [
    {
     "data": {
      "text/plain": [
       "Model(integers=[], strings=[])"
      ]
     },
     "execution_count": 16,
     "metadata": {},
     "output_type": "execute_result"
    }
   ],
   "source": [
    "Model()"
   ]
  },
  {
   "cell_type": "code",
   "execution_count": 17,
   "id": "58a3e489-22f3-4b69-aad4-0d7624e8733a",
   "metadata": {},
   "outputs": [
    {
     "data": {
      "text/plain": [
       "Model(integers=[1, 2], strings=['abc', 'def'])"
      ]
     },
     "execution_count": 17,
     "metadata": {},
     "output_type": "execute_result"
    }
   ],
   "source": [
    "Model(integers=[1.0, 2.0], strings=[\"abc\", \"def\"])"
   ]
  },
  {
   "cell_type": "markdown",
   "id": "b331c74f-ab52-4a05-b629-269acc0d59e5",
   "metadata": {},
   "source": [
    "And the field list elements are specifically typed:"
   ]
  },
  {
   "cell_type": "code",
   "execution_count": 18,
   "id": "7eecd57b-3fc3-4b35-8185-9d6d7f7fdec2",
   "metadata": {},
   "outputs": [
    {
     "name": "stdout",
     "output_type": "stream",
     "text": [
      "1 validation error for Model\n",
      "integers.0\n",
      "  Input should be a valid integer, got a number with a fractional part [type=int_from_float, input_value=0.5, input_type=float]\n",
      "    For further information visit https://errors.pydantic.dev/2.5/v/int_from_float\n"
     ]
    }
   ],
   "source": [
    "try:\n",
    "    Model(integers=[0.5])\n",
    "except ValidationError as ex:\n",
    "    print(ex)"
   ]
  },
  {
   "cell_type": "markdown",
   "id": "e16f02d5-0ff4-4c75-bece-7382c150af5d",
   "metadata": {},
   "source": [
    "There's a lot more you can do with type variables, but this is not a course on Python typing - and although I did specify that type hinting was a pre-requisite to this course, i wanted you to be aware of this technique specifically as you will find it useful when trying to define re-usable Pydantic types."
   ]
  },
  {
   "cell_type": "code",
   "execution_count": null,
   "id": "e0e2c723-6be4-4570-a070-5d757576f36d",
   "metadata": {},
   "outputs": [],
   "source": []
  }
 ],
 "metadata": {
  "kernelspec": {
   "display_name": "Python 3 (ipykernel)",
   "language": "python",
   "name": "python3"
  },
  "language_info": {
   "codemirror_mode": {
    "name": "ipython",
    "version": 3
   },
   "file_extension": ".py",
   "mimetype": "text/x-python",
   "name": "python",
   "nbconvert_exporter": "python",
   "pygments_lexer": "ipython3",
   "version": "3.12.0"
  }
 },
 "nbformat": 4,
 "nbformat_minor": 5
}
