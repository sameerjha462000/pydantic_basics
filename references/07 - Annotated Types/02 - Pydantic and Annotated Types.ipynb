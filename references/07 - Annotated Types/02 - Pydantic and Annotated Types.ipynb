{
 "cells": [
  {
   "cell_type": "markdown",
   "id": "d70ff6d9-ae12-4567-8c15-a76cefed1c70",
   "metadata": {},
   "source": [
    "# Pydantic and Annotated Types"
   ]
  },
  {
   "cell_type": "markdown",
   "id": "2e432283-ce11-4005-a678-4d9a6c38bcc4",
   "metadata": {},
   "source": [
    "Python provides a mechanism to attach metadata to any type."
   ]
  },
  {
   "cell_type": "code",
   "execution_count": 1,
   "id": "556722f5-1b0e-41fb-a22a-7bda11a557fb",
   "metadata": {},
   "outputs": [],
   "source": [
    "from typing import Annotated"
   ]
  },
  {
   "cell_type": "markdown",
   "id": "20de1b57-fa89-4d45-b752-33adfebd26fe",
   "metadata": {},
   "source": [
    "We simply define an annotated type this way:"
   ]
  },
  {
   "cell_type": "code",
   "execution_count": 2,
   "id": "b3e25178-f15c-45e3-b25d-aa9c31f8973d",
   "metadata": {},
   "outputs": [],
   "source": [
    "SpecialInt = Annotated[int, \"metadata 1\", [1, 2, 3], 100]"
   ]
  },
  {
   "cell_type": "markdown",
   "id": "95fc417b-8fdf-4c66-9421-79c56fb15027",
   "metadata": {},
   "source": [
    "Now, there is nothing special about this annotated type in Python natively. This is not a new type, it's still an `int`, but it happens to have some extra information attached to it."
   ]
  },
  {
   "cell_type": "markdown",
   "id": "3036c8da-2c25-42ba-8076-937a4c677d2f",
   "metadata": {},
   "source": [
    "Using Python, we can recover this metadata if we wanted to use it for our own purposes."
   ]
  },
  {
   "cell_type": "code",
   "execution_count": 3,
   "id": "cd60aa44-9e62-4fb4-b86e-8ed86aa38135",
   "metadata": {},
   "outputs": [],
   "source": [
    "from typing import get_args"
   ]
  },
  {
   "cell_type": "code",
   "execution_count": 4,
   "id": "5c1d99bb-b8a2-41d2-992c-5c3c395acd79",
   "metadata": {},
   "outputs": [
    {
     "data": {
      "text/plain": [
       "(int, 'metadata 1', [1, 2, 3], 100)"
      ]
     },
     "execution_count": 4,
     "metadata": {},
     "output_type": "execute_result"
    }
   ],
   "source": [
    "get_args(SpecialInt)"
   ]
  },
  {
   "cell_type": "markdown",
   "id": "f0c43f25-4256-4f04-928b-86177c4b27cc",
   "metadata": {},
   "source": [
    "Pydantic can make use of these type annotations.\n",
    "\n",
    "They need to be annotations that Pydantic can understand (i.e. we have to use specific objects in our annotations). This provides a very flexible way to add functionality to our types, such as constraints, validators, and much more."
   ]
  },
  {
   "cell_type": "markdown",
   "id": "799d1e93-833f-421c-8829-dac37e772e44",
   "metadata": {},
   "source": [
    "Let's start with a simple example."
   ]
  },
  {
   "cell_type": "code",
   "execution_count": 5,
   "id": "201c6a44-a302-45db-8a04-622974a60c22",
   "metadata": {},
   "outputs": [],
   "source": [
    "from pydantic import BaseModel, Field"
   ]
  },
  {
   "cell_type": "code",
   "execution_count": 6,
   "id": "3d1dc3c2-392b-477d-b556-723e90be487a",
   "metadata": {},
   "outputs": [],
   "source": [
    "class Model(BaseModel):\n",
    "    x: int = Field(gt=0, le=100)\n",
    "    y: int = Field(gt=0, le=100)\n",
    "    z: int = Field(gt=0, le=100)"
   ]
  },
  {
   "cell_type": "markdown",
   "id": "4bbe8a81-d2d1-4eb6-9933-c3803c73c37f",
   "metadata": {},
   "source": [
    "Note how the fields `x`, `y`, and `z` are basically the same type."
   ]
  },
  {
   "cell_type": "code",
   "execution_count": 7,
   "id": "25fab16b-b262-4807-8620-52ea26de427c",
   "metadata": {},
   "outputs": [
    {
     "data": {
      "text/plain": [
       "{'x': FieldInfo(annotation=int, required=True, metadata=[Gt(gt=0), Le(le=100)]),\n",
       " 'y': FieldInfo(annotation=int, required=True, metadata=[Gt(gt=0), Le(le=100)]),\n",
       " 'z': FieldInfo(annotation=int, required=True, metadata=[Gt(gt=0), Le(le=100)])}"
      ]
     },
     "execution_count": 7,
     "metadata": {},
     "output_type": "execute_result"
    }
   ],
   "source": [
    "Model.model_fields"
   ]
  },
  {
   "cell_type": "markdown",
   "id": "08dfa3c9-89f7-4469-af26-6b2f525dc312",
   "metadata": {},
   "source": [
    "Let's use annotations to define an annotated int, that includes the `Field` definition in the annotations."
   ]
  },
  {
   "cell_type": "code",
   "execution_count": 8,
   "id": "cf84c12a-1c74-4f27-a1a6-6bc78ad701c8",
   "metadata": {},
   "outputs": [],
   "source": [
    "BoundedInt = Annotated[int, Field(gt=0, le=100)]"
   ]
  },
  {
   "cell_type": "markdown",
   "id": "fcb20a8c-503d-438b-bcf0-b36de0701846",
   "metadata": {},
   "source": [
    "As far as Python is concerned, this is just an `int` with some extra data attached to it. But Pydantic knows how to handled that `Field` object in the annotations."
   ]
  },
  {
   "cell_type": "code",
   "execution_count": 9,
   "id": "56baf8fb-39a9-4db2-8f98-bebe4f79e3e6",
   "metadata": {},
   "outputs": [],
   "source": [
    "class Model(BaseModel):\n",
    "    x: BoundedInt\n",
    "    y: BoundedInt\n",
    "    z: BoundedInt"
   ]
  },
  {
   "cell_type": "code",
   "execution_count": 10,
   "id": "622c779b-8f1a-4807-abc9-54ed2a891b9c",
   "metadata": {},
   "outputs": [
    {
     "data": {
      "text/plain": [
       "{'x': FieldInfo(annotation=int, required=True, metadata=[Gt(gt=0), Le(le=100)]),\n",
       " 'y': FieldInfo(annotation=int, required=True, metadata=[Gt(gt=0), Le(le=100)]),\n",
       " 'z': FieldInfo(annotation=int, required=True, metadata=[Gt(gt=0), Le(le=100)])}"
      ]
     },
     "execution_count": 10,
     "metadata": {},
     "output_type": "execute_result"
    }
   ],
   "source": [
    "Model.model_fields"
   ]
  },
  {
   "cell_type": "markdown",
   "id": "9238d3bf-d814-4fa4-b2b2-818a25a4206d",
   "metadata": {},
   "source": [
    "As you can see the field definitions are identical, using annotations, to what we had before we used annotations."
   ]
  },
  {
   "cell_type": "markdown",
   "id": "b3358cdc-6f3e-4197-8786-d1a391ffcb02",
   "metadata": {},
   "source": [
    "And validation will occur as expected:"
   ]
  },
  {
   "cell_type": "code",
   "execution_count": 11,
   "id": "b0d4aeae-34c5-47d8-8d2f-424cfa169817",
   "metadata": {},
   "outputs": [
    {
     "data": {
      "text/plain": [
       "Model(x=10, y=20, z=30)"
      ]
     },
     "execution_count": 11,
     "metadata": {},
     "output_type": "execute_result"
    }
   ],
   "source": [
    "Model(x=10, y=20, z=30)"
   ]
  },
  {
   "cell_type": "code",
   "execution_count": 12,
   "id": "5cd3b7fa-0105-40cd-ad5d-9fd741ee2f64",
   "metadata": {},
   "outputs": [
    {
     "name": "stdout",
     "output_type": "stream",
     "text": [
      "2 validation errors for Model\n",
      "x\n",
      "  Input should be greater than 0 [type=greater_than, input_value=0, input_type=int]\n",
      "    For further information visit https://errors.pydantic.dev/2.5/v/greater_than\n",
      "z\n",
      "  Input should be less than or equal to 100 [type=less_than_equal, input_value=103, input_type=int]\n",
      "    For further information visit https://errors.pydantic.dev/2.5/v/less_than_equal\n"
     ]
    }
   ],
   "source": [
    "try:\n",
    "    Model(x=0, y=10, z=103)\n",
    "except ValueError as ex:\n",
    "    print(ex)"
   ]
  },
  {
   "cell_type": "markdown",
   "id": "c49fb2f1-9be2-4137-b824-c1d6b801a2c7",
   "metadata": {},
   "source": [
    "As you can see, using annotated types can save us a lof of typing and help keep our code DRY (don't repeat yourself).\n",
    "\n",
    "Technically, you use annotated types directly in a model - you don't have to define it first and then use inside a model."
   ]
  },
  {
   "cell_type": "code",
   "execution_count": 13,
   "id": "bdf01f8c-bf9b-4ede-9ab1-41c9d8ed0183",
   "metadata": {},
   "outputs": [],
   "source": [
    "class Model(BaseModel):\n",
    "    field_1: Annotated[int, Field(gt=0)] = 1\n",
    "    field_2: Annotated[str, Field(min_length=1, max_length=10)] | None = None"
   ]
  },
  {
   "cell_type": "code",
   "execution_count": 14,
   "id": "cb62dd3b-2efb-4b1e-8271-59dde86908e8",
   "metadata": {},
   "outputs": [
    {
     "data": {
      "text/plain": [
       "Model(field_1=1, field_2=None)"
      ]
     },
     "execution_count": 14,
     "metadata": {},
     "output_type": "execute_result"
    }
   ],
   "source": [
    "Model()"
   ]
  },
  {
   "cell_type": "code",
   "execution_count": 15,
   "id": "b49843c1-3c55-4f62-a856-a485b6825185",
   "metadata": {},
   "outputs": [
    {
     "data": {
      "text/plain": [
       "Model(field_1=10, field_2=None)"
      ]
     },
     "execution_count": 15,
     "metadata": {},
     "output_type": "execute_result"
    }
   ],
   "source": [
    "Model(field_1=10)"
   ]
  },
  {
   "cell_type": "code",
   "execution_count": 16,
   "id": "94472cf4-1b51-4fde-8064-d60cee6cdea7",
   "metadata": {},
   "outputs": [
    {
     "data": {
      "text/plain": [
       "Model(field_1=1, field_2='Python')"
      ]
     },
     "execution_count": 16,
     "metadata": {},
     "output_type": "execute_result"
    }
   ],
   "source": [
    "Model(field_2=\"Python\")"
   ]
  },
  {
   "cell_type": "markdown",
   "id": "21bc0b0a-7000-4b8c-a9a3-6e3fe98fb1fe",
   "metadata": {},
   "source": [
    "And of course validation works as expected:"
   ]
  },
  {
   "cell_type": "code",
   "execution_count": 17,
   "id": "cfe7df12-e63e-4351-822b-5227dcb4d6c0",
   "metadata": {},
   "outputs": [
    {
     "name": "stdout",
     "output_type": "stream",
     "text": [
      "2 validation errors for Model\n",
      "field_1\n",
      "  Input should be greater than 0 [type=greater_than, input_value=-10, input_type=int]\n",
      "    For further information visit https://errors.pydantic.dev/2.5/v/greater_than\n",
      "field_2\n",
      "  String should have at most 10 characters [type=string_too_long, input_value='PythonPythonPython', input_type=str]\n",
      "    For further information visit https://errors.pydantic.dev/2.5/v/string_too_long\n"
     ]
    }
   ],
   "source": [
    "try:\n",
    "    Model(field_1=-10, field_2 = \"Python\" * 3)\n",
    "except ValueError as ex:\n",
    "    print(ex)"
   ]
  },
  {
   "cell_type": "markdown",
   "id": "d8e5330f-b687-4b61-8252-f5cdd8dc4f0a",
   "metadata": {},
   "source": [
    "We'll come back to using annotations in the context of validators and serializers soon."
   ]
  },
  {
   "cell_type": "code",
   "execution_count": null,
   "id": "b8af261f-3aa4-461f-9522-88b82b0bf46a",
   "metadata": {},
   "outputs": [],
   "source": []
  }
 ],
 "metadata": {
  "kernelspec": {
   "display_name": "Python 3 (ipykernel)",
   "language": "python",
   "name": "python3"
  },
  "language_info": {
   "codemirror_mode": {
    "name": "ipython",
    "version": 3
   },
   "file_extension": ".py",
   "mimetype": "text/x-python",
   "name": "python",
   "nbconvert_exporter": "python",
   "pygments_lexer": "ipython3",
   "version": "3.12.0"
  }
 },
 "nbformat": 4,
 "nbformat_minor": 5
}
