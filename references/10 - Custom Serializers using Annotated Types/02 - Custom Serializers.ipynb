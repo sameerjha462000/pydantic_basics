{
 "cells": [
  {
   "cell_type": "markdown",
   "id": "44516423-5ff2-4833-a47e-f15b7973bcba",
   "metadata": {},
   "source": [
    "# Custom Serializers using Annotated Types"
   ]
  },
  {
   "cell_type": "markdown",
   "id": "7c693832-49c7-4f42-b7b4-e3987953c645",
   "metadata": {},
   "source": [
    "We saw earlier how to customize serializers by attaching the serializer to individual fields using the `@field_serializer` decorator."
   ]
  },
  {
   "cell_type": "markdown",
   "id": "4172c213-75a8-4535-96e0-f1918ba15301",
   "metadata": {},
   "source": [
    "With validators, we can either attach the validator to a field (or multiple fields) using a decorator, or we can attache the validator to an annotated type instead.\n",
    "\n",
    "The same is true with serializers. We saw how we could attach a custom serializer to a field using a decorator, but we can also attach a custom serializer to an annotated type instead."
   ]
  },
  {
   "cell_type": "markdown",
   "id": "522ea077-abcc-4d92-aaf2-16be7986dd98",
   "metadata": {},
   "source": [
    "Suppose we want a datetime type that:\n",
    "- can serialize other datetime strings (such as `1/1/2020 3pm`)\n",
    "- always stores the datetime as an aware UTC datetime\n",
    "- serializes the datetime to a datetime object when serializing to a Python dict\n",
    "- serializes to JSON using this format: `YYYY/MM/DD HH:MM AM/PM (UTC)`"
   ]
  },
  {
   "cell_type": "markdown",
   "id": "f881e353-0f12-46e2-b53f-5e06d1ea9b36",
   "metadata": {},
   "source": [
    "We've seen how to all this using either decorators or anotated types. Let's start with the validators first, that we'll attach to an annotated type.\n",
    "\n",
    "Nothing new here, we've seen this before."
   ]
  },
  {
   "cell_type": "code",
   "execution_count": 1,
   "id": "cef30bb3-f5da-4265-992d-3cc27b9534c2",
   "metadata": {},
   "outputs": [],
   "source": [
    "from datetime import datetime\n",
    "from typing import Annotated, Any\n",
    "\n",
    "import pytz\n",
    "from dateutil.parser import parse\n",
    "\n",
    "from pydantic import BaseModel, AfterValidator, BeforeValidator\n",
    "\n",
    "\n",
    "def make_utc(dt: datetime) -> datetime:\n",
    "    if dt.tzinfo is None:\n",
    "        dt = pytz.utc.localize(dt)\n",
    "    else:\n",
    "        dt = dt.astimezone(pytz.utc)\n",
    "    return dt\n",
    "    \n",
    "def parse_datetime(value: Any):\n",
    "    if isinstance(value, str):\n",
    "        try:\n",
    "            return parse(value)\n",
    "        except Exception as ex:\n",
    "            raise ValueError(str(ex))\n",
    "    return value\n",
    "\n",
    "\n",
    "DateTimeUTC = Annotated[datetime, BeforeValidator(parse_datetime), AfterValidator(make_utc)]"
   ]
  },
  {
   "cell_type": "markdown",
   "id": "070c6f22-e511-45aa-b0bb-662b79016c41",
   "metadata": {},
   "source": [
    "And we can use this annotated type in any model:"
   ]
  },
  {
   "cell_type": "code",
   "execution_count": 2,
   "id": "2abd0636-649b-4072-abfe-540b1020e3f7",
   "metadata": {},
   "outputs": [],
   "source": [
    "class Model(BaseModel):\n",
    "    dt: DateTimeUTC"
   ]
  },
  {
   "cell_type": "markdown",
   "id": "10430736-d9d7-4bdf-8bb9-7b85764b3cd6",
   "metadata": {},
   "source": [
    "However, we also need to add a custom serializer for JSON serialization."
   ]
  },
  {
   "cell_type": "markdown",
   "id": "c00e7a80-d556-49ea-90cc-45bfcea3b2c0",
   "metadata": {},
   "source": [
    "Let's do it using a decorator first, as we learned previously.\n",
    "\n",
    "First, we'll create a function to output the string formatted datetime object:"
   ]
  },
  {
   "cell_type": "code",
   "execution_count": 3,
   "id": "4decd0c4-418c-4844-af10-afe5201f0036",
   "metadata": {},
   "outputs": [],
   "source": [
    "def dt_json_serializer(dt: datetime) -> str:\n",
    "    return dt.strftime(\"%Y/%m/%d %I:%M %p UTC\")"
   ]
  },
  {
   "cell_type": "code",
   "execution_count": 4,
   "id": "9bc0c1b5-3584-41ef-ab80-729a1c5b588b",
   "metadata": {},
   "outputs": [
    {
     "data": {
      "text/plain": [
       "'2020/01/01 03:00 PM UTC'"
      ]
     },
     "execution_count": 4,
     "metadata": {},
     "output_type": "execute_result"
    }
   ],
   "source": [
    "dt_json_serializer(datetime(2020,1,1,15,0,0))"
   ]
  },
  {
   "cell_type": "markdown",
   "id": "cdd1ed9f-d5e9-4854-94d3-f102edf1ba9c",
   "metadata": {},
   "source": [
    "Next, we need to attach this to our field in the model.\n",
    "\n",
    "Now, we only need this for JSON serialization, and only if the field is not None, so we'll define our custom serializer that way:"
   ]
  },
  {
   "cell_type": "code",
   "execution_count": 5,
   "id": "7a9725bc-8f99-40bf-8ac8-2b60d4f88234",
   "metadata": {},
   "outputs": [],
   "source": [
    "from pydantic import field_serializer"
   ]
  },
  {
   "cell_type": "code",
   "execution_count": 6,
   "id": "0573fc96-071c-4151-b960-a45d9640ad51",
   "metadata": {},
   "outputs": [],
   "source": [
    "class Model(BaseModel):\n",
    "    dt: DateTimeUTC\n",
    "\n",
    "    @field_serializer(\"dt\", when_used=\"json-unless-none\")\n",
    "    def serialize_dt_to_json(self, value: datetime) -> str:\n",
    "        return dt_json_serializer(value)"
   ]
  },
  {
   "cell_type": "markdown",
   "id": "81824513-2058-47e2-bf8b-6110d25bee70",
   "metadata": {},
   "source": [
    "Let's try out our model:"
   ]
  },
  {
   "cell_type": "code",
   "execution_count": 7,
   "id": "25bdeb04-0f6a-4508-bafe-24612a51e061",
   "metadata": {},
   "outputs": [
    {
     "data": {
      "text/plain": [
       "Model(dt=datetime.datetime(2020, 1, 1, 15, 0, tzinfo=<UTC>))"
      ]
     },
     "execution_count": 7,
     "metadata": {},
     "output_type": "execute_result"
    }
   ],
   "source": [
    "m = Model(dt=\"2020/1/1 3pm\")\n",
    "m"
   ]
  },
  {
   "cell_type": "markdown",
   "id": "a22b28f7-8ce2-417c-b510-c159a7a253e1",
   "metadata": {},
   "source": [
    "And let's serialize the model:"
   ]
  },
  {
   "cell_type": "code",
   "execution_count": 8,
   "id": "ab2b2a77-f017-4ed9-b294-05046adbaab1",
   "metadata": {},
   "outputs": [
    {
     "data": {
      "text/plain": [
       "{'dt': datetime.datetime(2020, 1, 1, 15, 0, tzinfo=<UTC>)}"
      ]
     },
     "execution_count": 8,
     "metadata": {},
     "output_type": "execute_result"
    }
   ],
   "source": [
    "m.model_dump()"
   ]
  },
  {
   "cell_type": "code",
   "execution_count": 9,
   "id": "c44dfde7-201f-4f2c-a0ce-433c860864cf",
   "metadata": {},
   "outputs": [
    {
     "data": {
      "text/plain": [
       "'{\"dt\":\"2020/01/01 03:00 PM UTC\"}'"
      ]
     },
     "execution_count": 9,
     "metadata": {},
     "output_type": "execute_result"
    }
   ],
   "source": [
    "m.model_dump_json()"
   ]
  },
  {
   "cell_type": "markdown",
   "id": "a5363f8d-c1d5-400f-a142-6eda83166842",
   "metadata": {},
   "source": [
    "Ok, so this works as we intended.\n",
    "\n",
    "But, this custom serializer could be attached to the annotated type instead of to the specific dfield directly in the model."
   ]
  },
  {
   "cell_type": "markdown",
   "id": "23e7546f-248f-47ac-9564-1cf7ed3463b5",
   "metadata": {},
   "source": [
    "To do so, we are going to use `PlainSerializer` from Pydantic.\n",
    "\n",
    "A plain serializer essentially replaces Pydantic's serializer with our own custom one (which is what we were doing with the decorator approach)."
   ]
  },
  {
   "cell_type": "code",
   "execution_count": 10,
   "id": "60f203df-ec58-4258-a5e0-4bfe846bd051",
   "metadata": {},
   "outputs": [],
   "source": [
    "from pydantic import PlainSerializer"
   ]
  },
  {
   "cell_type": "code",
   "execution_count": 11,
   "id": "8bb07f39-24d9-42ee-920b-9d339ac8d483",
   "metadata": {},
   "outputs": [],
   "source": [
    "DateTimeUTC = Annotated[\n",
    "    datetime, \n",
    "    BeforeValidator(parse_datetime), \n",
    "    AfterValidator(make_utc),\n",
    "    PlainSerializer(dt_json_serializer),\n",
    "]"
   ]
  },
  {
   "cell_type": "markdown",
   "id": "1d10636d-3580-4eb6-b43f-de2ae8121b5f",
   "metadata": {},
   "source": [
    "The only thing missing here, is **when** shoudl the serialize be used - in our case we want `json-unless-none`."
   ]
  },
  {
   "cell_type": "markdown",
   "id": "7734eaee-b939-4f06-8f3b-64ca6a6d8977",
   "metadata": {},
   "source": [
    "To add this to the serializer, we simply specify it as a named argument:"
   ]
  },
  {
   "cell_type": "code",
   "execution_count": 12,
   "id": "0544574f-e4e3-44bb-a8ed-34c88f156dca",
   "metadata": {},
   "outputs": [],
   "source": [
    "DateTimeUTC = Annotated[\n",
    "    datetime, \n",
    "    BeforeValidator(parse_datetime), \n",
    "    AfterValidator(make_utc),\n",
    "    PlainSerializer(dt_json_serializer, when_used=\"json-unless-none\"),\n",
    "]"
   ]
  },
  {
   "cell_type": "markdown",
   "id": "5830f7f2-68de-46c1-bcc5-0ca0b49c926d",
   "metadata": {},
   "source": [
    "And, now, we have a completely reuseable type that contains custom validators and a serializer."
   ]
  },
  {
   "cell_type": "code",
   "execution_count": 13,
   "id": "5de3503c-0e3d-43a1-92de-5af77517cae4",
   "metadata": {},
   "outputs": [],
   "source": [
    "class Model(BaseModel):\n",
    "    dt: DateTimeUTC"
   ]
  },
  {
   "cell_type": "markdown",
   "id": "f191d430-ed24-459f-bf60-78eba7dc2749",
   "metadata": {},
   "source": [
    "And let's try it out:"
   ]
  },
  {
   "cell_type": "code",
   "execution_count": 14,
   "id": "9f0ddfc1-7911-4a9e-9fb1-1f3359aed285",
   "metadata": {},
   "outputs": [
    {
     "data": {
      "text/plain": [
       "Model(dt=datetime.datetime(2020, 1, 1, 15, 0, tzinfo=<UTC>))"
      ]
     },
     "execution_count": 14,
     "metadata": {},
     "output_type": "execute_result"
    }
   ],
   "source": [
    "m = Model(dt=\"2020/1/1 3pm\")\n",
    "m"
   ]
  },
  {
   "cell_type": "code",
   "execution_count": 15,
   "id": "791203ca-7579-46b8-852d-d7319d00b38c",
   "metadata": {},
   "outputs": [
    {
     "data": {
      "text/plain": [
       "{'dt': datetime.datetime(2020, 1, 1, 15, 0, tzinfo=<UTC>)}"
      ]
     },
     "execution_count": 15,
     "metadata": {},
     "output_type": "execute_result"
    }
   ],
   "source": [
    "m.model_dump()"
   ]
  },
  {
   "cell_type": "code",
   "execution_count": 16,
   "id": "69739e0a-97a2-4e60-a968-6b84cf78dac8",
   "metadata": {},
   "outputs": [
    {
     "data": {
      "text/plain": [
       "'{\"dt\":\"2020/01/01 03:00 PM UTC\"}'"
      ]
     },
     "execution_count": 16,
     "metadata": {},
     "output_type": "execute_result"
    }
   ],
   "source": [
    "m.model_dump_json()"
   ]
  },
  {
   "cell_type": "code",
   "execution_count": null,
   "id": "43b7923f-a4d3-47af-be8c-0b8e8d285f7b",
   "metadata": {},
   "outputs": [],
   "source": []
  }
 ],
 "metadata": {
  "kernelspec": {
   "display_name": "Python 3 (ipykernel)",
   "language": "python",
   "name": "python3"
  },
  "language_info": {
   "codemirror_mode": {
    "name": "ipython",
    "version": 3
   },
   "file_extension": ".py",
   "mimetype": "text/x-python",
   "name": "python",
   "nbconvert_exporter": "python",
   "pygments_lexer": "ipython3",
   "version": "3.12.0"
  }
 },
 "nbformat": 4,
 "nbformat_minor": 5
}
