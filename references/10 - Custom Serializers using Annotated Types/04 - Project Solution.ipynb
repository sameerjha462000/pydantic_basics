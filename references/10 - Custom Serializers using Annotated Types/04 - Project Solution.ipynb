{
 "cells": [
  {
   "cell_type": "markdown",
   "id": "3a64ee56-0695-41cc-8b05-41532d16f0cd",
   "metadata": {},
   "source": [
    "# Project with Solution (Section 10)"
   ]
  },
  {
   "cell_type": "markdown",
   "id": "4c44a444-a717-4533-864a-a284279cf9ee",
   "metadata": {
    "jp-MarkdownHeadingCollapsed": true
   },
   "source": [
    "## Project Specs"
   ]
  },
  {
   "cell_type": "markdown",
   "id": "b819dbf5-9d16-4885-83f9-16e97aeebcdf",
   "metadata": {},
   "source": [
    "This is where we left off in the previous section project:"
   ]
  },
  {
   "cell_type": "code",
   "execution_count": 1,
   "id": "6e298ee1-bb22-4c09-8e7e-d2011289f813",
   "metadata": {},
   "outputs": [],
   "source": [
    "countries = {\n",
    "    \"australia\": (\"Australia\", \"AUS\"),\n",
    "    \"canada\": (\"Canada\", \"CAN\"),\n",
    "    \"china\": (\"China\", \"CHN\"),\n",
    "    \"france\": (\"France\", \"FRA\"),\n",
    "    \"germany\": (\"Germany\", \"DEU\"),\n",
    "    \"india\": (\"India\", \"IND\"),\n",
    "    \"mexico\": (\"Mexico\", \"MEX\"),\n",
    "    \"norway\": (\"Norway\", \"NOR\"),\n",
    "    \"pakistan\": (\"Pakistan\", \"PAK\"),\n",
    "    \"san marino\": (\"San Marino\", \"SMR\"),\n",
    "    \"sanmarino\": (\"San Marino\", \"SMR\"),\n",
    "    \"spain\": (\"Spain\", \"ESP\"),\n",
    "    \"sweden\": (\"Sweden\", \"SWE\"),\n",
    "    \"united kingdom\": (\"United Kingdom\", \"GBR\"),\n",
    "    \"uk\": (\"United Kingdom\", \"GBR\"),\n",
    "    \"great britain\": (\"United Kingdom\", \"GBR\"),\n",
    "    \"britain\": (\"United Kingdom\", \"GBR\"),\n",
    "    \"us\": (\"United States of America\", \"USA\"),\n",
    "    \"united states\": (\"United States of America\", \"USA\"),\n",
    "    \"usa\": (\"United States of America\", \"USA\"),\n",
    "}\n",
    "valid_country_names = sorted(countries.keys())\n",
    "valid_country_names\n",
    "\n",
    "def lookup_country(name: str) -> tuple[str, str]:\n",
    "    name = name.strip().casefold()\n",
    "    \n",
    "    try:\n",
    "        return countries[name]\n",
    "    except KeyError:\n",
    "        raise ValueError(\n",
    "            \"Unknown country name. \"\n",
    "            f\"Country name must be one of: {','.join(valid_country_names)}\"\n",
    "        )\n",
    "\n",
    "country_code_lookup = {\n",
    "    name: code\n",
    "    for name, code in countries.values()\n",
    "}"
   ]
  },
  {
   "cell_type": "code",
   "execution_count": 2,
   "id": "f74d226f-56f5-4a41-adbf-bce8a6b720bf",
   "metadata": {},
   "outputs": [],
   "source": [
    "from datetime import date\n",
    "from enum import Enum\n",
    "from functools import cached_property\n",
    "from typing import Annotated, TypeVar\n",
    "from uuid import uuid4\n",
    "from pydantic import (\n",
    "    AfterValidator, \n",
    "    BaseModel, \n",
    "    ConfigDict, \n",
    "    computed_field,\n",
    "    Field, \n",
    "    field_serializer, \n",
    "    field_validator,\n",
    "    UUID4,\n",
    "    ValidationInfo,\n",
    ")\n",
    "from pydantic.alias_generators import to_camel\n",
    "\n",
    "\n",
    "class AutomobileType(Enum):\n",
    "    sedan = \"Sedan\"\n",
    "    coupe = \"Coupe\"\n",
    "    convertible = \"Convertible\"\n",
    "    suv = \"SUV\"\n",
    "    truck = \"Truck\"\n",
    "\n",
    "\n",
    "T = TypeVar('T')\n",
    "BoundedString = Annotated[str, Field(min_length=2, max_length=50)]\n",
    "BoundedList = Annotated[list[T], Field(min_length=1, max_length=5)]\n",
    "\n",
    "\n",
    "Country = Annotated[str, AfterValidator(lambda name: lookup_country(name)[0])]\n",
    "\n",
    "\n",
    "class Automobile(BaseModel):\n",
    "    model_config = ConfigDict(\n",
    "        extra=\"forbid\",\n",
    "        str_strip_whitespace=True,\n",
    "        validate_default=True,\n",
    "        validate_assignment=True,\n",
    "        alias_generator=to_camel,\n",
    "    )\n",
    "\n",
    "    id_: UUID4 | None = Field(alias=\"id\", default_factory=uuid4) \n",
    "    manufacturer: BoundedString\n",
    "    series_name: BoundedString\n",
    "    type_: AutomobileType = Field(alias=\"type\")\n",
    "    is_electric: bool = Field(default=False, repr=False)\n",
    "    manufactured_date: date = Field(\n",
    "        validation_alias=\"completionDate\", \n",
    "        ge=date(1980, 1, 1), \n",
    "        repr=False\n",
    "    )\n",
    "    base_msrp_usd: float = Field(\n",
    "        validation_alias=\"msrpUSD\", \n",
    "        serialization_alias=\"baseMSRPUSD\",\n",
    "        repr=False,\n",
    "    )\n",
    "    top_features: BoundedList[BoundedString] | None = Field(default=None, repr=False)\n",
    "    vin: BoundedString = Field(repr=False)\n",
    "    number_of_doors: int = Field(\n",
    "        default=4, \n",
    "        validation_alias=\"doors\",\n",
    "        ge=2,\n",
    "        le=4,\n",
    "        multiple_of=2,\n",
    "        repr=False,\n",
    "    )\n",
    "    registration_country: Country | None = Field(default=None, repr=False)\n",
    "    \n",
    "    @computed_field(repr=False)\n",
    "    @cached_property\n",
    "    def registration_country_code(self) -> str:\n",
    "        return country_code_lookup[self.registration_country] \n",
    "    \n",
    "    registration_date: date | None = Field(default=None, repr=False)\n",
    "    license_plate: BoundedString | None = Field(default=None, repr=False)\n",
    "\n",
    "    \n",
    "    @field_serializer(\"manufactured_date\", \"registration_date\", when_used=\"json-unless-none\")\n",
    "    def serialize_date(self, value: date) -> str:\n",
    "        return value.strftime(\"%Y/%m/%d\")\n",
    "        \n",
    "    @field_validator(\"registration_date\")\n",
    "    @classmethod\n",
    "    def validate_registration_date(cls, value:date, values: ValidationInfo):\n",
    "        data = values.data\n",
    "        if \"manufactured_date\" in data and data[\"manufactured_date\"] > value:\n",
    "            raise ValueError(\"Automobile cannot be registered prior to manufacture date.\")\n",
    "        return value"
   ]
  },
  {
   "cell_type": "markdown",
   "id": "6c69fa22-72e1-41f2-8419-9c4cc6012cc9",
   "metadata": {},
   "source": [
    "Since our date serializer is being used more than once, an Annotated type might be a better approach - we can get that logic out of the model, and simplify the way our model looks a little bit.\n",
    "\n",
    "So, for this exercise, make an annotated type for the date serialization, and use that annotated type in your model. Name the annotated type `CustomDate`.\n",
    "\n",
    "You can re-use some previous sample data to test your model."
   ]
  },
  {
   "cell_type": "markdown",
   "id": "4373f6ad-916e-483c-8b73-f9b0555f7f7c",
   "metadata": {
    "jp-MarkdownHeadingCollapsed": true
   },
   "source": [
    "## Solution"
   ]
  },
  {
   "cell_type": "code",
   "execution_count": 3,
   "id": "e49a1f1b-3b3a-4ba1-8fdb-7fe0ac56fcc4",
   "metadata": {},
   "outputs": [],
   "source": [
    "def serialize_date(value: date) -> str:\n",
    "        return value.strftime(\"%Y/%m/%d\")"
   ]
  },
  {
   "cell_type": "code",
   "execution_count": 4,
   "id": "75f11aca-113e-4e12-a0b9-9c2f3fea7526",
   "metadata": {},
   "outputs": [],
   "source": [
    "from pydantic import PlainSerializer\n",
    "\n",
    "CustomDate = Annotated[\n",
    "    date, \n",
    "    PlainSerializer(serialize_date, when_used=\"json-unless-none\")\n",
    "]"
   ]
  },
  {
   "cell_type": "markdown",
   "id": "a2a53a49-ee7b-4b20-ac6f-63d5cb321ba0",
   "metadata": {},
   "source": [
    "And let's update our model:"
   ]
  },
  {
   "cell_type": "code",
   "execution_count": 5,
   "id": "4902d9d5-a5e5-466d-bb6f-387ff08d0329",
   "metadata": {},
   "outputs": [],
   "source": [
    "class Automobile(BaseModel):\n",
    "    model_config = ConfigDict(\n",
    "        extra=\"forbid\",\n",
    "        str_strip_whitespace=True,\n",
    "        validate_default=True,\n",
    "        validate_assignment=True,\n",
    "        alias_generator=to_camel,\n",
    "    )\n",
    "\n",
    "    id_: UUID4 | None = Field(alias=\"id\", default_factory=uuid4) \n",
    "    manufacturer: BoundedString\n",
    "    series_name: BoundedString\n",
    "    type_: AutomobileType = Field(alias=\"type\")\n",
    "    is_electric: bool = Field(default=False, repr=False)\n",
    "    manufactured_date: CustomDate = Field(\n",
    "        validation_alias=\"completionDate\", \n",
    "        ge=date(1980, 1, 1), \n",
    "        repr=False\n",
    "    )\n",
    "    base_msrp_usd: float = Field(\n",
    "        validation_alias=\"msrpUSD\", \n",
    "        serialization_alias=\"baseMSRPUSD\",\n",
    "        repr=False,\n",
    "    )\n",
    "    top_features: BoundedList[BoundedString] | None = Field(default=None, repr=False)\n",
    "    vin: BoundedString = Field(repr=False)\n",
    "    number_of_doors: int = Field(\n",
    "        default=4, \n",
    "        validation_alias=\"doors\",\n",
    "        ge=2,\n",
    "        le=4,\n",
    "        multiple_of=2,\n",
    "        repr=False,\n",
    "    )\n",
    "    registration_country: Country | None = Field(default=None, repr=False)\n",
    "\n",
    "    @computed_field(repr=False)\n",
    "    @cached_property\n",
    "    def registration_country_code(self) -> str:\n",
    "        return country_code_lookup[self.registration_country] \n",
    "    \n",
    "    registration_date: CustomDate | None = Field(default=None, repr=False)\n",
    "    license_plate: BoundedString | None = Field(default=None, repr=False)\n",
    "        \n",
    "    @field_validator(\"registration_date\")\n",
    "    @classmethod\n",
    "    def validate_registration_date(cls, value:date, values: ValidationInfo):\n",
    "        data = values.data\n",
    "        if \"manufactured_date\" in data and data[\"manufactured_date\"] > value:\n",
    "            raise ValueError(\"Automobile cannot be registered prior to manufacture date.\")\n",
    "        return value"
   ]
  },
  {
   "cell_type": "markdown",
   "id": "133e3ebd-0f76-479a-8e29-90088e477f1c",
   "metadata": {},
   "source": [
    "Let's test deserialization:"
   ]
  },
  {
   "cell_type": "code",
   "execution_count": 6,
   "id": "c2f3cf2e-8e34-4a8d-b13b-a0c755411761",
   "metadata": {},
   "outputs": [
    {
     "data": {
      "text/plain": [
       "Automobile(id_=UUID('c4e60f4a-3c7f-4da5-9b3f-07aee50b23e7'), manufacturer='BMW', series_name='M4 Competition xDrive', type_=<AutomobileType.convertible: 'Convertible'>)"
      ]
     },
     "execution_count": 6,
     "metadata": {},
     "output_type": "execute_result"
    }
   ],
   "source": [
    "data = {\n",
    "    \"id\": \"c4e60f4a-3c7f-4da5-9b3f-07aee50b23e7\",\n",
    "    \"manufacturer\": \"BMW\",\n",
    "    \"seriesName\": \"M4 Competition xDrive\",\n",
    "    \"type\": \"Convertible\",\n",
    "    \"isElectric\": False,\n",
    "    \"completionDate\": \"2023-01-01\",\n",
    "    \"msrpUSD\": 93_300,\n",
    "    \"topFeatures\": [\"6 cylinders\", \"all-wheel drive\", \"convertible\"],\n",
    "    \"vin\": \"1234567890\",\n",
    "    \"doors\": 2,\n",
    "    \"registrationCountry\": \"us\",\n",
    "    \"registrationDate\": \"2023-06-01\",\n",
    "    \"licensePlate\": \"AAA-BBB\"\n",
    "}\n",
    "\n",
    "car = Automobile.model_validate(data)\n",
    "car"
   ]
  },
  {
   "cell_type": "markdown",
   "id": "9c2b5d06-cd32-479d-b50b-0134c58c9d50",
   "metadata": {},
   "source": [
    "And let's make sure our deserialization works (both with dict and JSON serialization):"
   ]
  },
  {
   "cell_type": "code",
   "execution_count": 7,
   "id": "ec6699bb-c475-4f84-9e2b-079d2b132e1a",
   "metadata": {},
   "outputs": [
    {
     "data": {
      "text/plain": [
       "{'id': UUID('c4e60f4a-3c7f-4da5-9b3f-07aee50b23e7'),\n",
       " 'manufacturer': 'BMW',\n",
       " 'seriesName': 'M4 Competition xDrive',\n",
       " 'type': <AutomobileType.convertible: 'Convertible'>,\n",
       " 'isElectric': False,\n",
       " 'manufacturedDate': datetime.date(2023, 1, 1),\n",
       " 'baseMSRPUSD': 93300.0,\n",
       " 'topFeatures': ['6 cylinders', 'all-wheel drive', 'convertible'],\n",
       " 'vin': '1234567890',\n",
       " 'numberOfDoors': 2,\n",
       " 'registrationCountry': 'United States of America',\n",
       " 'registrationDate': datetime.date(2023, 6, 1),\n",
       " 'licensePlate': 'AAA-BBB',\n",
       " 'registrationCountryCode': 'USA'}"
      ]
     },
     "execution_count": 7,
     "metadata": {},
     "output_type": "execute_result"
    }
   ],
   "source": [
    "car.model_dump(by_alias=True)"
   ]
  },
  {
   "cell_type": "markdown",
   "id": "8133d8bd-95d4-4904-9625-7ebb316b6f10",
   "metadata": {},
   "source": [
    "As expected, dates serialized to `date` objects."
   ]
  },
  {
   "cell_type": "code",
   "execution_count": 8,
   "id": "bc3b40d7-31a1-4221-b890-9620d8573ce5",
   "metadata": {},
   "outputs": [
    {
     "data": {
      "text/plain": [
       "'{\"id\":\"c4e60f4a-3c7f-4da5-9b3f-07aee50b23e7\",\"manufacturer\":\"BMW\",\"seriesName\":\"M4 Competition xDrive\",\"type\":\"Convertible\",\"isElectric\":false,\"manufacturedDate\":\"2023/01/01\",\"baseMSRPUSD\":93300.0,\"topFeatures\":[\"6 cylinders\",\"all-wheel drive\",\"convertible\"],\"vin\":\"1234567890\",\"numberOfDoors\":2,\"registrationCountry\":\"United States of America\",\"registrationDate\":\"2023/06/01\",\"licensePlate\":\"AAA-BBB\",\"registrationCountryCode\":\"USA\"}'"
      ]
     },
     "execution_count": 8,
     "metadata": {},
     "output_type": "execute_result"
    }
   ],
   "source": [
    "car.model_dump_json(by_alias=True)"
   ]
  },
  {
   "cell_type": "markdown",
   "id": "03f5db77-fea1-49c0-a1db-dc2b3a52f68b",
   "metadata": {},
   "source": [
    "And custom serialization happened for both our dates in JSON output."
   ]
  }
 ],
 "metadata": {
  "kernelspec": {
   "display_name": "Python 3 (ipykernel)",
   "language": "python",
   "name": "python3"
  },
  "language_info": {
   "codemirror_mode": {
    "name": "ipython",
    "version": 3
   },
   "file_extension": ".py",
   "mimetype": "text/x-python",
   "name": "python",
   "nbconvert_exporter": "python",
   "pygments_lexer": "ipython3",
   "version": "3.12.0"
  }
 },
 "nbformat": 4,
 "nbformat_minor": 5
}
