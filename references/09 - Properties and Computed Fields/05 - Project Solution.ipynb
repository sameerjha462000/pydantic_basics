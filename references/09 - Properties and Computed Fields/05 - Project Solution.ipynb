{
 "cells": [
  {
   "cell_type": "markdown",
   "id": "92f1969e-b036-419b-bd97-c9e2d021bce5",
   "metadata": {},
   "source": [
    "# Project with Solution (Section 9)"
   ]
  },
  {
   "cell_type": "markdown",
   "id": "9959b545-f6b9-4b3f-8955-17b009ff0bb5",
   "metadata": {
    "jp-MarkdownHeadingCollapsed": true
   },
   "source": [
    "## Project Specs"
   ]
  },
  {
   "cell_type": "markdown",
   "id": "7870c6d5-7fa1-4e93-bfc5-4eff1f337630",
   "metadata": {},
   "source": [
    "This is where we left off in the previous section project:"
   ]
  },
  {
   "cell_type": "code",
   "execution_count": 1,
   "id": "79180ff5-39d9-4407-b9cd-a2b8521db917",
   "metadata": {},
   "outputs": [],
   "source": [
    "countries = {\n",
    "    \"australia\": (\"Australia\", \"AUS\"),\n",
    "    \"canada\": (\"Canada\", \"CAN\"),\n",
    "    \"china\": (\"China\", \"CHN\"),\n",
    "    \"france\": (\"France\", \"FRA\"),\n",
    "    \"germany\": (\"Germany\", \"DEU\"),\n",
    "    \"india\": (\"India\", \"IND\"),\n",
    "    \"mexico\": (\"Mexico\", \"MEX\"),\n",
    "    \"norway\": (\"Norway\", \"NOR\"),\n",
    "    \"pakistan\": (\"Pakistan\", \"PAK\"),\n",
    "    \"san marino\": (\"San Marino\", \"SMR\"),\n",
    "    \"sanmarino\": (\"San Marino\", \"SMR\"),\n",
    "    \"spain\": (\"Spain\", \"ESP\"),\n",
    "    \"sweden\": (\"Sweden\", \"SWE\"),\n",
    "    \"united kingdom\": (\"United Kingdom\", \"GBR\"),\n",
    "    \"uk\": (\"United Kingdom\", \"GBR\"),\n",
    "    \"great britain\": (\"United Kingdom\", \"GBR\"),\n",
    "    \"britain\": (\"United Kingdom\", \"GBR\"),\n",
    "    \"us\": (\"United States of America\", \"USA\"),\n",
    "    \"united states\": (\"United States of America\", \"USA\"),\n",
    "    \"usa\": (\"United States of America\", \"USA\"),\n",
    "}\n",
    "valid_country_names = sorted(countries.keys())\n",
    "valid_country_names\n",
    "\n",
    "def lookup_country(name: str) -> tuple[str, str]:\n",
    "    name = name.strip().casefold()\n",
    "    \n",
    "    try:\n",
    "        return countries[name]\n",
    "    except KeyError:\n",
    "        raise ValueError(\n",
    "            \"Unknown country name. \"\n",
    "            f\"Country name must be one of: {','.join(valid_country_names)}\"\n",
    "        )\n"
   ]
  },
  {
   "cell_type": "code",
   "execution_count": 2,
   "id": "6b00b594-058c-424d-8c5e-2506589ae987",
   "metadata": {},
   "outputs": [],
   "source": [
    "from datetime import date\n",
    "from enum import Enum\n",
    "from typing import Annotated, TypeVar\n",
    "from uuid import uuid4\n",
    "from pydantic import (\n",
    "    AfterValidator, \n",
    "    BaseModel, \n",
    "    ConfigDict, \n",
    "    Field, \n",
    "    UUID4,\n",
    "    field_serializer, \n",
    "    field_validator,\n",
    "    ValidationInfo,\n",
    ")\n",
    "from pydantic.alias_generators import to_camel\n",
    "\n",
    "\n",
    "class AutomobileType(Enum):\n",
    "    sedan = \"Sedan\"\n",
    "    coupe = \"Coupe\"\n",
    "    convertible = \"Convertible\"\n",
    "    suv = \"SUV\"\n",
    "    truck = \"Truck\"\n",
    "\n",
    "\n",
    "T = TypeVar('T')\n",
    "BoundedString = Annotated[str, Field(min_length=2, max_length=50)]\n",
    "BoundedList = Annotated[list[T], Field(min_length=1, max_length=5)]\n",
    "\n",
    "\n",
    "Country = Annotated[str, AfterValidator(lambda name: lookup_country(name)[0])]\n",
    "\n",
    "\n",
    "class Automobile(BaseModel):\n",
    "    model_config = ConfigDict(\n",
    "        extra=\"forbid\",\n",
    "        str_strip_whitespace=True,\n",
    "        validate_default=True,\n",
    "        validate_assignment=True,\n",
    "        alias_generator=to_camel,\n",
    "    )\n",
    "\n",
    "    id_: UUID4 | None = Field(alias=\"id\", default_factory=uuid4) \n",
    "    manufacturer: BoundedString\n",
    "    series_name: BoundedString\n",
    "    type_: AutomobileType = Field(alias=\"type\")\n",
    "    is_electric: bool = False\n",
    "    manufactured_date: date = Field(validation_alias=\"completionDate\", ge=date(1980, 1, 1))\n",
    "    base_msrp_usd: float = Field(\n",
    "        validation_alias=\"msrpUSD\", \n",
    "        serialization_alias=\"baseMSRPUSD\"\n",
    "    )\n",
    "    top_features: BoundedList[BoundedString] | None = None\n",
    "    vin: BoundedString\n",
    "    number_of_doors: int = Field(\n",
    "        default=4, \n",
    "        validation_alias=\"doors\",\n",
    "        ge=2,\n",
    "        le=4,\n",
    "        multiple_of=2,\n",
    "    )\n",
    "    registration_country: Country | None = None\n",
    "    registration_date: date | None = None\n",
    "    license_plate: BoundedString | None = None\n",
    "\n",
    "    @field_serializer(\"manufactured_date\", \"registration_date\", when_used=\"json-unless-none\")\n",
    "    def serialize_date(self, value: date) -> str:\n",
    "        return value.strftime(\"%Y/%m/%d\")\n",
    "        \n",
    "    @field_validator(\"registration_date\")\n",
    "    @classmethod\n",
    "    def validate_registration_date(cls, value:date, values: ValidationInfo):\n",
    "        data = values.data\n",
    "        if \"manufactured_date\" in data and data[\"manufactured_date\"] > value:\n",
    "            raise ValueError(\"Automobile cannot be registered prior to manufacture date.\")\n",
    "        return value"
   ]
  },
  {
   "cell_type": "markdown",
   "id": "d2f6ef60-f84c-4514-b0cc-3ec16d3c3082",
   "metadata": {},
   "source": [
    "Here, we want to create a computed field that will provide the 3 character country code for the registration country.\n",
    "\n",
    "Again, this is something we could look up in a database, but we'll use a variant of that dictionary of countries we defined earlier to mock this.\n",
    "\n",
    "Implement a computed field named `registration_country_code`. Make it cached - if working with a real DB this would save us a lot of network traffic and waiting for db response. The serialization name of this field should be `registrationCountryCode`.\n",
    "\n",
    "You can use the code below to generate a lookup table for country codes based on the country name:"
   ]
  },
  {
   "cell_type": "code",
   "execution_count": 3,
   "id": "6af93b1e-0d54-49bd-bd23-fccf3fbd5f67",
   "metadata": {},
   "outputs": [
    {
     "data": {
      "text/plain": [
       "{'Australia': 'AUS',\n",
       " 'Canada': 'CAN',\n",
       " 'China': 'CHN',\n",
       " 'France': 'FRA',\n",
       " 'Germany': 'DEU',\n",
       " 'India': 'IND',\n",
       " 'Mexico': 'MEX',\n",
       " 'Norway': 'NOR',\n",
       " 'Pakistan': 'PAK',\n",
       " 'San Marino': 'SMR',\n",
       " 'Spain': 'ESP',\n",
       " 'Sweden': 'SWE',\n",
       " 'United Kingdom': 'GBR',\n",
       " 'United States of America': 'USA'}"
      ]
     },
     "execution_count": 3,
     "metadata": {},
     "output_type": "execute_result"
    }
   ],
   "source": [
    "country_code_lookup = {\n",
    "    name: code\n",
    "    for name, code in countries.values()\n",
    "}\n",
    "country_code_lookup"
   ]
  },
  {
   "cell_type": "markdown",
   "id": "bcd6af68-7bc8-4010-b2e5-9ec27771886b",
   "metadata": {},
   "source": [
    "Use the lookup table `country_code_lookup` to define your calculated field."
   ]
  },
  {
   "cell_type": "markdown",
   "id": "1e456ad9-9735-47b6-8409-f0d7826e0c9b",
   "metadata": {},
   "source": [
    "Also, now would be a good time to clean up our model's representation string. Remove all fields, except for `id_`, `manufacturer`, `series_name` and `type_` from the representatino string."
   ]
  },
  {
   "cell_type": "markdown",
   "id": "734328de-bd33-4ab5-ab06-39a8e14604ef",
   "metadata": {},
   "source": [
    "Here is some sample data to help you test your model:"
   ]
  },
  {
   "cell_type": "code",
   "execution_count": 4,
   "id": "37111ffc-6103-40b6-944b-cebccd602f10",
   "metadata": {},
   "outputs": [],
   "source": [
    "from uuid import UUID\n",
    "\n",
    "data = {\n",
    "    \"id\": \"c4e60f4a-3c7f-4da5-9b3f-07aee50b23e7\",\n",
    "    \"manufacturer\": \"BMW\",\n",
    "    \"seriesName\": \"M4 Competition xDrive\",\n",
    "    \"type\": \"Convertible\",\n",
    "    \"isElectric\": False,\n",
    "    \"completionDate\": \"2023-01-01\",\n",
    "    \"msrpUSD\": 93_300,\n",
    "    \"topFeatures\": [\"6 cylinders\", \"all-wheel drive\", \"convertible\"],\n",
    "    \"vin\": \"1234567890\",\n",
    "    \"doors\": 2,\n",
    "    \"registrationCountry\": \"us\",\n",
    "    \"registrationDate\": \"2023-06-01\",\n",
    "    \"licensePlate\": \"AAA-BBB\"\n",
    "}\n",
    "\n",
    "expected_serialized_by_alias = {\n",
    "    'id': UUID('c4e60f4a-3c7f-4da5-9b3f-07aee50b23e7'),\n",
    "    'manufacturer': 'BMW',\n",
    "    'seriesName': 'M4 Competition xDrive',\n",
    "    'type': AutomobileType.convertible,\n",
    "    'isElectric': False,\n",
    "    'manufacturedDate': date(2023, 1, 1),\n",
    "    'baseMSRPUSD': 93300.0,\n",
    "    'topFeatures': ['6 cylinders', 'all-wheel drive', 'convertible'],\n",
    "    'vin': '1234567890',\n",
    "    'numberOfDoors': 2,\n",
    "    'registrationCountry': 'United States of America',\n",
    "    'registrationCountryCode': 'USA',\n",
    "    'registrationDate': date(2023, 6, 1),\n",
    "    'licensePlate': 'AAA-BBB',\n",
    "}"
   ]
  },
  {
   "cell_type": "markdown",
   "id": "6458afcd-0d5f-4e41-8810-668fbecb1d47",
   "metadata": {},
   "source": [
    "## Solution"
   ]
  },
  {
   "cell_type": "markdown",
   "id": "5cd5c83b-2edc-42d6-89b1-013fd7eb6b7f",
   "metadata": {},
   "source": [
    "To implement this we are going to use `@cached_property` and Pydantic's `@computed_field` decorators."
   ]
  },
  {
   "cell_type": "code",
   "execution_count": 5,
   "id": "9f26e3ad-69e6-465f-83b2-70d6c1f2ab3c",
   "metadata": {},
   "outputs": [],
   "source": [
    "from functools import cached_property\n",
    "from pydantic import computed_field"
   ]
  },
  {
   "cell_type": "code",
   "execution_count": 6,
   "id": "9b18046a-a3a6-4b75-9b10-4f07608ac107",
   "metadata": {},
   "outputs": [],
   "source": [
    "class Automobile(BaseModel):\n",
    "    model_config = ConfigDict(\n",
    "        extra=\"forbid\",\n",
    "        str_strip_whitespace=True,\n",
    "        validate_default=True,\n",
    "        validate_assignment=True,\n",
    "        alias_generator=to_camel,\n",
    "    )\n",
    "\n",
    "    id_: UUID4 | None = Field(alias=\"id\", default_factory=uuid4) \n",
    "    manufacturer: BoundedString\n",
    "    series_name: BoundedString\n",
    "    type_: AutomobileType = Field(alias=\"type\")\n",
    "    is_electric: bool = Field(default=False, repr=False)\n",
    "    manufactured_date: date = Field(\n",
    "        validation_alias=\"completionDate\", \n",
    "        ge=date(1980, 1, 1), \n",
    "        repr=False\n",
    "    )\n",
    "    base_msrp_usd: float = Field(\n",
    "        validation_alias=\"msrpUSD\", \n",
    "        serialization_alias=\"baseMSRPUSD\",\n",
    "        repr=False,\n",
    "    )\n",
    "    top_features: BoundedList[BoundedString] | None = Field(default=None, repr=False)\n",
    "    vin: BoundedString = Field(repr=False)\n",
    "    number_of_doors: int = Field(\n",
    "        default=4, \n",
    "        validation_alias=\"doors\",\n",
    "        ge=2,\n",
    "        le=4,\n",
    "        multiple_of=2,\n",
    "        repr=False,\n",
    "    )\n",
    "    registration_country: Country | None = Field(default=None, repr=False)\n",
    "    \n",
    "    @computed_field(repr=False)\n",
    "    @cached_property\n",
    "    def registration_country_code(self) -> str:\n",
    "        return country_code_lookup[self.registration_country] \n",
    "    \n",
    "    registration_date: date | None = Field(default=None, repr=False)\n",
    "    license_plate: BoundedString | None = Field(default=None, repr=False)\n",
    "\n",
    "    \n",
    "    @field_serializer(\"manufactured_date\", \"registration_date\", when_used=\"json-unless-none\")\n",
    "    def serialize_date(self, value: date) -> str:\n",
    "        return value.strftime(\"%Y/%m/%d\")\n",
    "        \n",
    "    @field_validator(\"registration_date\")\n",
    "    @classmethod\n",
    "    def validate_registration_date(cls, value:date, values: ValidationInfo):\n",
    "        data = values.data\n",
    "        if \"manufactured_date\" in data and data[\"manufactured_date\"] > value:\n",
    "            raise ValueError(\"Automobile cannot be registered prior to manufacture date.\")\n",
    "        return value"
   ]
  },
  {
   "cell_type": "markdown",
   "id": "2cda797c-f105-4ed2-b918-bccbf68953cc",
   "metadata": {},
   "source": [
    "And let's deserialize a model and check that the representation has been cleaned up, and the country code is now included when the model is deserialized:"
   ]
  },
  {
   "cell_type": "code",
   "execution_count": 7,
   "id": "80922c75-b9df-439e-b48b-dbf762962aeb",
   "metadata": {},
   "outputs": [
    {
     "data": {
      "text/plain": [
       "Automobile(id_=UUID('c4e60f4a-3c7f-4da5-9b3f-07aee50b23e7'), manufacturer='BMW', series_name='M4 Competition xDrive', type_=<AutomobileType.convertible: 'Convertible'>)"
      ]
     },
     "execution_count": 7,
     "metadata": {},
     "output_type": "execute_result"
    }
   ],
   "source": [
    "car = Automobile.model_validate(data)\n",
    "car"
   ]
  },
  {
   "cell_type": "code",
   "execution_count": 8,
   "id": "11625229-b744-46dc-a54e-8e28d109d8e9",
   "metadata": {},
   "outputs": [],
   "source": [
    "assert car.model_dump(by_alias=True) == expected_serialized_by_alias"
   ]
  },
  {
   "cell_type": "code",
   "execution_count": null,
   "id": "60cf8469-dc92-413f-9e43-680bc1952ffb",
   "metadata": {},
   "outputs": [],
   "source": []
  }
 ],
 "metadata": {
  "kernelspec": {
   "display_name": "Python 3 (ipykernel)",
   "language": "python",
   "name": "python3"
  },
  "language_info": {
   "codemirror_mode": {
    "name": "ipython",
    "version": 3
   },
   "file_extension": ".py",
   "mimetype": "text/x-python",
   "name": "python",
   "nbconvert_exporter": "python",
   "pygments_lexer": "ipython3",
   "version": "3.12.0"
  }
 },
 "nbformat": 4,
 "nbformat_minor": 5
}
