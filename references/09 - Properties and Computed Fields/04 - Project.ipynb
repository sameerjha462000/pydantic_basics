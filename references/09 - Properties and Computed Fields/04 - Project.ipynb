{
 "cells": [
  {
   "cell_type": "markdown",
   "id": "a4d2442a-a334-4685-a778-d6e9c3f2245e",
   "metadata": {},
   "source": [
    "# Project (Section 9)"
   ]
  },
  {
   "cell_type": "markdown",
   "id": "531f5b34-c3a8-41d1-89b6-e16b4a1ff313",
   "metadata": {},
   "source": [
    "This is where we left off in the previous section project:"
   ]
  },
  {
   "cell_type": "code",
   "execution_count": 1,
   "id": "cd3828b1-63ed-4dce-b628-3384e11422e3",
   "metadata": {},
   "outputs": [],
   "source": [
    "countries = {\n",
    "    \"australia\": (\"Australia\", \"AUS\"),\n",
    "    \"canada\": (\"Canada\", \"CAN\"),\n",
    "    \"china\": (\"China\", \"CHN\"),\n",
    "    \"france\": (\"France\", \"FRA\"),\n",
    "    \"germany\": (\"Germany\", \"DEU\"),\n",
    "    \"india\": (\"India\", \"IND\"),\n",
    "    \"mexico\": (\"Mexico\", \"MEX\"),\n",
    "    \"norway\": (\"Norway\", \"NOR\"),\n",
    "    \"pakistan\": (\"Pakistan\", \"PAK\"),\n",
    "    \"san marino\": (\"San Marino\", \"SMR\"),\n",
    "    \"sanmarino\": (\"San Marino\", \"SMR\"),\n",
    "    \"spain\": (\"Spain\", \"ESP\"),\n",
    "    \"sweden\": (\"Sweden\", \"SWE\"),\n",
    "    \"united kingdom\": (\"United Kingdom\", \"GBR\"),\n",
    "    \"uk\": (\"United Kingdom\", \"GBR\"),\n",
    "    \"great britain\": (\"United Kingdom\", \"GBR\"),\n",
    "    \"britain\": (\"United Kingdom\", \"GBR\"),\n",
    "    \"us\": (\"United States of America\", \"USA\"),\n",
    "    \"united states\": (\"United States of America\", \"USA\"),\n",
    "    \"usa\": (\"United States of America\", \"USA\"),\n",
    "}\n",
    "valid_country_names = sorted(countries.keys())\n",
    "valid_country_names\n",
    "\n",
    "def lookup_country(name: str) -> tuple[str, str]:\n",
    "    name = name.strip().casefold()\n",
    "    \n",
    "    try:\n",
    "        return countries[name]\n",
    "    except KeyError:\n",
    "        raise ValueError(\n",
    "            \"Unknown country name. \"\n",
    "            f\"Country name must be one of: {','.join(valid_country_names)}\"\n",
    "        )\n"
   ]
  },
  {
   "cell_type": "code",
   "execution_count": 2,
   "id": "9e975e7c-c45d-45ea-b53d-c1cc6231fdff",
   "metadata": {},
   "outputs": [],
   "source": [
    "from datetime import date\n",
    "from enum import Enum\n",
    "from typing import Annotated, TypeVar\n",
    "from uuid import uuid4\n",
    "from pydantic import (\n",
    "    AfterValidator, \n",
    "    BaseModel, \n",
    "    ConfigDict, \n",
    "    Field, \n",
    "    field_serializer, \n",
    "    field_validator,\n",
    "    UUID4,\n",
    "    ValidationInfo,\n",
    ")\n",
    "from pydantic.alias_generators import to_camel\n",
    "\n",
    "\n",
    "class AutomobileType(Enum):\n",
    "    sedan = \"Sedan\"\n",
    "    coupe = \"Coupe\"\n",
    "    convertible = \"Convertible\"\n",
    "    suv = \"SUV\"\n",
    "    truck = \"Truck\"\n",
    "\n",
    "\n",
    "T = TypeVar('T')\n",
    "BoundedString = Annotated[str, Field(min_length=2, max_length=50)]\n",
    "BoundedList = Annotated[list[T], Field(min_length=1, max_length=5)]\n",
    "\n",
    "\n",
    "Country = Annotated[str, AfterValidator(lambda name: lookup_country(name)[0])]\n",
    "\n",
    "\n",
    "class Automobile(BaseModel):\n",
    "    model_config = ConfigDict(\n",
    "        extra=\"forbid\",\n",
    "        str_strip_whitespace=True,\n",
    "        validate_default=True,\n",
    "        validate_assignment=True,\n",
    "        alias_generator=to_camel,\n",
    "    )\n",
    "\n",
    "    id_: UUID4 | None = Field(alias=\"id\", default_factory=uuid4) \n",
    "    manufacturer: BoundedString\n",
    "    series_name: BoundedString\n",
    "    type_: AutomobileType = Field(alias=\"type\")\n",
    "    is_electric: bool = False\n",
    "    manufactured_date: date = Field(validation_alias=\"completionDate\", ge=date(1980, 1, 1))\n",
    "    base_msrp_usd: float = Field(\n",
    "        validation_alias=\"msrpUSD\", \n",
    "        serialization_alias=\"baseMSRPUSD\"\n",
    "    )\n",
    "    top_features: BoundedList[BoundedString] | None = None\n",
    "    vin: BoundedString\n",
    "    number_of_doors: int = Field(\n",
    "        default=4, \n",
    "        validation_alias=\"doors\",\n",
    "        ge=2,\n",
    "        le=4,\n",
    "        multiple_of=2,\n",
    "    )\n",
    "    registration_country: Country | None = None\n",
    "    registration_date: date | None = None\n",
    "    license_plate: BoundedString | None = None\n",
    "\n",
    "    @field_serializer(\"manufactured_date\", \"registration_date\", when_used=\"json-unless-none\")\n",
    "    def serialize_date(self, value: date) -> str:\n",
    "        return value.strftime(\"%Y/%m/%d\")\n",
    "        \n",
    "    @field_validator(\"registration_date\")\n",
    "    @classmethod\n",
    "    def validate_registration_date(cls, value:date, values: ValidationInfo):\n",
    "        data = values.data\n",
    "        if \"manufactured_date\" in data and data[\"manufactured_date\"] > value:\n",
    "            raise ValueError(\"Automobile cannot be registered prior to manufacture date.\")\n",
    "        return value"
   ]
  },
  {
   "cell_type": "markdown",
   "id": "50913b0c-1f76-4087-bd17-9b40c5a0121f",
   "metadata": {},
   "source": [
    "Here, we want to create a computed field that will provide the 3 character country code for the registration country.\n",
    "\n",
    "Again, this is something we could look up in a database, but we'll use a variant of that dictionary of countries we defined earlier to mock this.\n",
    "\n",
    "Implement a computed field named `registration_country_code`. Make it cached - if working with a real DB this would save us a lot of network traffic and waiting for db response. The serialization name of this field should be `registrationCountryCode`.\n",
    "\n",
    "You can use the code below to generate a lookup table for country codes based on the country name:"
   ]
  },
  {
   "cell_type": "code",
   "execution_count": 3,
   "id": "abd26e62-6dc7-48c5-8d96-06483e925983",
   "metadata": {},
   "outputs": [
    {
     "data": {
      "text/plain": [
       "{'Australia': 'AUS',\n",
       " 'Canada': 'CAN',\n",
       " 'China': 'CHN',\n",
       " 'France': 'FRA',\n",
       " 'Germany': 'DEU',\n",
       " 'India': 'IND',\n",
       " 'Mexico': 'MEX',\n",
       " 'Norway': 'NOR',\n",
       " 'Pakistan': 'PAK',\n",
       " 'San Marino': 'SMR',\n",
       " 'Spain': 'ESP',\n",
       " 'Sweden': 'SWE',\n",
       " 'United Kingdom': 'GBR',\n",
       " 'United States of America': 'USA'}"
      ]
     },
     "execution_count": 3,
     "metadata": {},
     "output_type": "execute_result"
    }
   ],
   "source": [
    "country_code_lookup = {\n",
    "    name: code\n",
    "    for name, code in countries.values()\n",
    "}\n",
    "country_code_lookup"
   ]
  },
  {
   "cell_type": "markdown",
   "id": "0c255b1b-9f87-4a71-98ce-e5e94bb1f2c0",
   "metadata": {},
   "source": [
    "Use the lookup table `country_code_lookup` to define your calculated field."
   ]
  },
  {
   "cell_type": "markdown",
   "id": "8e1d1422-30ec-4d78-a25f-ba44a5368bfe",
   "metadata": {},
   "source": [
    "Also, now would be a good time to clean up our model's representation string. Remove all fields, except for `id_`, `manufacturer`, `series_name` and `type_` from the representatino string."
   ]
  },
  {
   "cell_type": "markdown",
   "id": "afceab52-abfc-4fe6-bef7-efe79e8167a6",
   "metadata": {},
   "source": [
    "Here is some sample data to help you test your model:"
   ]
  },
  {
   "cell_type": "code",
   "execution_count": 4,
   "id": "13ab9af4-1414-4038-a5e2-c82a6fa208b9",
   "metadata": {},
   "outputs": [],
   "source": [
    "from uuid import UUID\n",
    "\n",
    "data = {\n",
    "    \"id\": \"c4e60f4a-3c7f-4da5-9b3f-07aee50b23e7\",\n",
    "    \"manufacturer\": \"BMW\",\n",
    "    \"seriesName\": \"M4 Competition xDrive\",\n",
    "    \"type\": \"Convertible\",\n",
    "    \"isElectric\": False,\n",
    "    \"completionDate\": \"2023-01-01\",\n",
    "    \"msrpUSD\": 93_300,\n",
    "    \"topFeatures\": [\"6 cylinders\", \"all-wheel drive\", \"convertible\"],\n",
    "    \"vin\": \"1234567890\",\n",
    "    \"doors\": 2,\n",
    "    \"registrationCountry\": \"us\",\n",
    "    \"registrationDate\": \"2023-06-01\",\n",
    "    \"licensePlate\": \"AAA-BBB\"\n",
    "}\n",
    "\n",
    "expected_serialized_by_alias = {\n",
    "    'id': UUID('c4e60f4a-3c7f-4da5-9b3f-07aee50b23e7'),\n",
    "    'manufacturer': 'BMW',\n",
    "    'seriesName': 'M4 Competition xDrive',\n",
    "    'type': AutomobileType.convertible,\n",
    "    'isElectric': False,\n",
    "    'manufacturedDate': date(2023, 1, 1),\n",
    "    'baseMSRPUSD': 93300.0,\n",
    "    'topFeatures': ['6 cylinders', 'all-wheel drive', 'convertible'],\n",
    "    'vin': '1234567890',\n",
    "    'numberOfDoors': 2,\n",
    "    'registrationCountry': 'United States of America',\n",
    "    'registrationCountryCode': 'USA',\n",
    "    'registrationDate': date(2023, 6, 1),\n",
    "    'licensePlate': 'AAA-BBB',\n",
    "}"
   ]
  },
  {
   "cell_type": "code",
   "execution_count": null,
   "id": "2e65db38-49d0-4630-8c9a-b696f746b92c",
   "metadata": {},
   "outputs": [],
   "source": []
  }
 ],
 "metadata": {
  "kernelspec": {
   "display_name": "Python 3 (ipykernel)",
   "language": "python",
   "name": "python3"
  },
  "language_info": {
   "codemirror_mode": {
    "name": "ipython",
    "version": 3
   },
   "file_extension": ".py",
   "mimetype": "text/x-python",
   "name": "python",
   "nbconvert_exporter": "python",
   "pygments_lexer": "ipython3",
   "version": "3.12.0"
  }
 },
 "nbformat": 4,
 "nbformat_minor": 5
}
