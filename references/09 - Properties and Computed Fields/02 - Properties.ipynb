{
 "cells": [
  {
   "cell_type": "markdown",
   "id": "0a4468c1-d7e9-4281-9a89-108d2ff3306f",
   "metadata": {},
   "source": [
    "# Properties"
   ]
  },
  {
   "cell_type": "markdown",
   "id": "c51ec2f0-edf4-4885-8987-17cf708a6607",
   "metadata": {},
   "source": [
    "Since Pydantic classes are regular Python classes, we can add methods and properties to our class."
   ]
  },
  {
   "cell_type": "markdown",
   "id": "00f54edd-d9e7-4ece-88ab-0cab9f846cae",
   "metadata": {},
   "source": [
    "For example:"
   ]
  },
  {
   "cell_type": "code",
   "execution_count": 1,
   "id": "b4c5cbab-d062-4743-99f8-2fe50c1a8047",
   "metadata": {},
   "outputs": [],
   "source": [
    "from pydantic import BaseModel, Field, ValidationError"
   ]
  },
  {
   "cell_type": "code",
   "execution_count": 2,
   "id": "0bd7181c-b6b5-4e42-87aa-8c3753def3f2",
   "metadata": {},
   "outputs": [],
   "source": [
    "from math import pi\n",
    "\n",
    "\n",
    "class Circle(BaseModel):\n",
    "    center: tuple[int, int] = (0, 0)\n",
    "    radius: int = Field(default=1, gt=0)\n",
    "\n",
    "    def area(self):\n",
    "        return pi * self.radius ** 2"
   ]
  },
  {
   "cell_type": "markdown",
   "id": "3e5c8cb5-b779-47b0-88f5-397039243726",
   "metadata": {},
   "source": [
    "We can create a model instance the usual way:"
   ]
  },
  {
   "cell_type": "code",
   "execution_count": 3,
   "id": "10d6b8af-149c-4671-8392-70b176448f90",
   "metadata": {},
   "outputs": [],
   "source": [
    "c = Circle(center=(1, 1), radius=2)"
   ]
  },
  {
   "cell_type": "markdown",
   "id": "841c6e1f-96b1-42da-8b57-674165499ce8",
   "metadata": {},
   "source": [
    "When we serialize our model, we just get our fields:"
   ]
  },
  {
   "cell_type": "code",
   "execution_count": 4,
   "id": "9f93508f-d352-425c-b01d-b7f497e41958",
   "metadata": {},
   "outputs": [
    {
     "data": {
      "text/plain": [
       "{'center': (1, 1), 'radius': 2}"
      ]
     },
     "execution_count": 4,
     "metadata": {},
     "output_type": "execute_result"
    }
   ],
   "source": [
    "c.model_dump()"
   ]
  },
  {
   "cell_type": "markdown",
   "id": "1b219220-9a8f-45a1-88cd-4807b2f3da79",
   "metadata": {},
   "source": [
    "But the instance has a method `area()`:"
   ]
  },
  {
   "cell_type": "code",
   "execution_count": 5,
   "id": "177c6923-1a28-4538-92ae-45b939b86d6f",
   "metadata": {},
   "outputs": [
    {
     "data": {
      "text/plain": [
       "12.566370614359172"
      ]
     },
     "execution_count": 5,
     "metadata": {},
     "output_type": "execute_result"
    }
   ],
   "source": [
    "c.area()"
   ]
  },
  {
   "cell_type": "markdown",
   "id": "6542c612-511f-47f5-a9f5-3c25221f8a53",
   "metadata": {},
   "source": [
    "We can also add properties to our class - let's use a property instead of a method for our area:"
   ]
  },
  {
   "cell_type": "code",
   "execution_count": 6,
   "id": "d93871fa-9a3f-4f55-bf4a-7ca8a9193c71",
   "metadata": {},
   "outputs": [],
   "source": [
    "class Circle(BaseModel):\n",
    "    center: tuple[int, int] = (0, 0)\n",
    "    radius: int = Field(default=1, gt=0)\n",
    "\n",
    "    @property\n",
    "    def area(self):\n",
    "        return pi * self.radius ** 2"
   ]
  },
  {
   "cell_type": "markdown",
   "id": "86f252be-c4f1-4fb0-88da-ddc2228fb591",
   "metadata": {},
   "source": [
    "Things work like before:"
   ]
  },
  {
   "cell_type": "code",
   "execution_count": 7,
   "id": "4a024df2-42e0-4735-9eb6-4083f21b7865",
   "metadata": {},
   "outputs": [],
   "source": [
    "m = Circle()"
   ]
  },
  {
   "cell_type": "code",
   "execution_count": 8,
   "id": "93c3fc76-84c2-488c-8268-0c307916099f",
   "metadata": {},
   "outputs": [
    {
     "data": {
      "text/plain": [
       "3.141592653589793"
      ]
     },
     "execution_count": 8,
     "metadata": {},
     "output_type": "execute_result"
    }
   ],
   "source": [
    "m.area"
   ]
  },
  {
   "cell_type": "markdown",
   "id": "c79df846-e914-4c0a-893b-50ef7c6717df",
   "metadata": {},
   "source": [
    "But the property is neither represented not serialized:"
   ]
  },
  {
   "cell_type": "code",
   "execution_count": 9,
   "id": "1f947132-3801-4d6c-b066-ada8d95820bc",
   "metadata": {},
   "outputs": [
    {
     "data": {
      "text/plain": [
       "Circle(center=(0, 0), radius=1)"
      ]
     },
     "execution_count": 9,
     "metadata": {},
     "output_type": "execute_result"
    }
   ],
   "source": [
    "m"
   ]
  },
  {
   "cell_type": "code",
   "execution_count": 10,
   "id": "ec026c40-5314-40d4-802f-892ded991df7",
   "metadata": {},
   "outputs": [
    {
     "data": {
      "text/plain": [
       "{'center': (0, 0), 'radius': 1}"
      ]
     },
     "execution_count": 10,
     "metadata": {},
     "output_type": "execute_result"
    }
   ],
   "source": [
    "m.model_dump()"
   ]
  },
  {
   "cell_type": "code",
   "execution_count": 11,
   "id": "ffeba658-808b-4c85-8263-49d745cd393e",
   "metadata": {},
   "outputs": [
    {
     "data": {
      "text/plain": [
       "'{\"center\":[0,0],\"radius\":1}'"
      ]
     },
     "execution_count": 11,
     "metadata": {},
     "output_type": "execute_result"
    }
   ],
   "source": [
    "m.model_dump_json()"
   ]
  },
  {
   "cell_type": "markdown",
   "id": "9bc87c42-1116-4a61-b2d6-89526cc71e9f",
   "metadata": {},
   "source": [
    "And, if we inspect the model fields, we won't see `area` in there either:"
   ]
  },
  {
   "cell_type": "code",
   "execution_count": 12,
   "id": "8e203854-7d4b-4343-ba18-4c2816829d86",
   "metadata": {},
   "outputs": [
    {
     "data": {
      "text/plain": [
       "{'center': FieldInfo(annotation=tuple[int, int], required=False, default=(0, 0)),\n",
       " 'radius': FieldInfo(annotation=int, required=False, default=1, metadata=[Gt(gt=0)])}"
      ]
     },
     "execution_count": 12,
     "metadata": {},
     "output_type": "execute_result"
    }
   ],
   "source": [
    "m.model_fields"
   ]
  },
  {
   "cell_type": "markdown",
   "id": "f5da19db-df53-49b5-91a1-ab1fb2ec4d4e",
   "metadata": {},
   "source": [
    "So, while we can add properties to our pydantic models, they do not get serialized. We'll need to do a bit more work if we want those properties to be included in our model serialization."
   ]
  },
  {
   "cell_type": "markdown",
   "id": "fb24aa9c-72ed-4bdd-8e1b-925aa27083cd",
   "metadata": {},
   "source": [
    "Before we look at that, I want to point out that we could also choose to cache our properties.\n",
    "\n",
    "In this example, we might want to cache the `area` - but that means we need to make sure the `radius` field is immutable (frozen). We could make the entire circle frozen, or we could choose to just make `radius` frozen.\n",
    "\n",
    "I'll use the latter."
   ]
  },
  {
   "cell_type": "code",
   "execution_count": 13,
   "id": "d87efd95-d5d1-436f-8a6b-eec3bf6fa564",
   "metadata": {},
   "outputs": [],
   "source": [
    "from functools import cached_property\n",
    "\n",
    "class Circle(BaseModel):\n",
    "    center: tuple[int, int] = (0, 0)\n",
    "    radius: int = Field(default=1, gt=0, frozen=True)\n",
    "\n",
    "    @cached_property\n",
    "    def area(self):\n",
    "        print(\"calculating area...\")\n",
    "        return pi * self.radius ** 2"
   ]
  },
  {
   "cell_type": "code",
   "execution_count": 14,
   "id": "8ec2c0ff-e8e6-4ad8-b0f8-67c58a7a4677",
   "metadata": {},
   "outputs": [],
   "source": [
    "c = Circle()"
   ]
  },
  {
   "cell_type": "code",
   "execution_count": 15,
   "id": "4da7c745-6b41-4ce2-857d-989870c013cf",
   "metadata": {},
   "outputs": [
    {
     "name": "stdout",
     "output_type": "stream",
     "text": [
      "calculating area...\n"
     ]
    },
    {
     "data": {
      "text/plain": [
       "3.141592653589793"
      ]
     },
     "execution_count": 15,
     "metadata": {},
     "output_type": "execute_result"
    }
   ],
   "source": [
    "c.area"
   ]
  },
  {
   "cell_type": "markdown",
   "id": "32f0871f-dfea-4897-b41c-f39f65658d8e",
   "metadata": {},
   "source": [
    "As you see, our property code was executed, but if we access the property again:"
   ]
  },
  {
   "cell_type": "code",
   "execution_count": 16,
   "id": "af0a08d2-418e-476b-a2a4-c79ce5f86ab4",
   "metadata": {},
   "outputs": [
    {
     "data": {
      "text/plain": [
       "3.141592653589793"
      ]
     },
     "execution_count": 16,
     "metadata": {},
     "output_type": "execute_result"
    }
   ],
   "source": [
    "c.area"
   ]
  },
  {
   "cell_type": "markdown",
   "id": "a0dce6b7-f86b-49ef-b4c6-3fa6122172f1",
   "metadata": {},
   "source": [
    "our property implementation is not executed again."
   ]
  },
  {
   "cell_type": "markdown",
   "id": "bcd564e8-123b-44d6-91c7-54afb798f24d",
   "metadata": {},
   "source": [
    "And this is OK, since `radius` is now frozen:"
   ]
  },
  {
   "cell_type": "code",
   "execution_count": 17,
   "id": "8a7056eb-35b2-44fc-94ee-42f2d9067455",
   "metadata": {},
   "outputs": [
    {
     "name": "stdout",
     "output_type": "stream",
     "text": [
      "1 validation error for Circle\n",
      "radius\n",
      "  Field is frozen [type=frozen_field, input_value=2, input_type=int]\n",
      "    For further information visit https://errors.pydantic.dev/2.5/v/frozen_field\n"
     ]
    }
   ],
   "source": [
    "try:\n",
    "    c.radius=2\n",
    "except ValidationError as ex:\n",
    "    print(ex)"
   ]
  },
  {
   "cell_type": "markdown",
   "id": "c694f046-cf89-4242-b5f6-3a361cc6702c",
   "metadata": {},
   "source": [
    "Ok, so as you can see we can add any method to our Pydantic classes, as well as properties and cached properties - but properties do not show up as model fields."
   ]
  },
  {
   "cell_type": "code",
   "execution_count": null,
   "id": "344be831-f55c-4ddf-8df5-f1592b0485b3",
   "metadata": {},
   "outputs": [],
   "source": []
  }
 ],
 "metadata": {
  "kernelspec": {
   "display_name": "Python 3 (ipykernel)",
   "language": "python",
   "name": "python3"
  },
  "language_info": {
   "codemirror_mode": {
    "name": "ipython",
    "version": 3
   },
   "file_extension": ".py",
   "mimetype": "text/x-python",
   "name": "python",
   "nbconvert_exporter": "python",
   "pygments_lexer": "ipython3",
   "version": "3.12.0"
  }
 },
 "nbformat": 4,
 "nbformat_minor": 5
}
