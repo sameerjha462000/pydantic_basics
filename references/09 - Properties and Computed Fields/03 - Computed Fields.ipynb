{
 "cells": [
  {
   "cell_type": "markdown",
   "id": "bd5e44fe-64fe-47b4-90c2-aecee1097637",
   "metadata": {},
   "source": [
    "# Computed Fields"
   ]
  },
  {
   "cell_type": "markdown",
   "id": "d714bbd7-57ae-46b3-a5a0-7c6684e67fc9",
   "metadata": {},
   "source": [
    "Sometimes, we want those properties to be actual fields in our Pydantic model - which means they get serialized just like any other field."
   ]
  },
  {
   "cell_type": "markdown",
   "id": "904d10ea-a537-4741-b930-761376631ab3",
   "metadata": {},
   "source": [
    "To do that Pydantic provides us the `@computed_field` decorator. "
   ]
  },
  {
   "cell_type": "code",
   "execution_count": 1,
   "id": "08b963e1-f8b2-4995-9ca8-7368734cd341",
   "metadata": {},
   "outputs": [],
   "source": [
    "from functools import cached_property\n",
    "from math import pi\n",
    "from pydantic import BaseModel, computed_field, Field, PydanticUserError, ValidationError"
   ]
  },
  {
   "cell_type": "markdown",
   "id": "41ac17d6-58bc-406e-964d-de4259418351",
   "metadata": {},
   "source": [
    "Let's use our `Circle` example again:"
   ]
  },
  {
   "cell_type": "code",
   "execution_count": 2,
   "id": "c63bab8f-1b67-4e64-9527-4cccd9ef9bd9",
   "metadata": {},
   "outputs": [],
   "source": [
    "class Circle(BaseModel):\n",
    "    center: tuple[int, int] = (0, 0)\n",
    "    radius: int = Field(default=1, gt=0, frozen=True)\n",
    "\n",
    "    @property\n",
    "    def area(self):\n",
    "        print(\"calculating area...\")\n",
    "        return pi * self.radius ** 2    "
   ]
  },
  {
   "cell_type": "markdown",
   "id": "c15214ce-584a-4b1a-9c86-a83c888f62f2",
   "metadata": {},
   "source": [
    "All we need to do to make that property a field in our model (albeit a computed field), is to decorate it. However, since this is now a field in a Pydantic model, we **MUST** set a type hint on the property return value so taht Pydantic knows what the type for that field is.\n",
    "\n",
    "If you forget that, you'll get a `PydanticUserError` exception:"
   ]
  },
  {
   "cell_type": "code",
   "execution_count": 3,
   "id": "212dddf6-fb2c-43c8-94e6-7fdcba9724b8",
   "metadata": {},
   "outputs": [
    {
     "name": "stdout",
     "output_type": "stream",
     "text": [
      "Computed field is missing return type annotation or specifying `return_type` to the `@computed_field` decorator (e.g. `@computed_field(return_type=int|str)`)\n",
      "\n",
      "For further information visit https://errors.pydantic.dev/2.5/u/model-field-missing-annotation\n"
     ]
    }
   ],
   "source": [
    "try:\n",
    "    class Circle(BaseModel):\n",
    "        center: tuple[int, int] = (0, 0)\n",
    "        radius: int = Field(default=1, gt=0, frozen=True)\n",
    "    \n",
    "        @computed_field\n",
    "        @property\n",
    "        def area(self):\n",
    "            print(\"calculating area...\")\n",
    "            return pi * self.radius ** 2    \n",
    "except PydanticUserError as ex:\n",
    "    print(ex)"
   ]
  },
  {
   "cell_type": "markdown",
   "id": "f9a2758c-ab37-4308-b4f5-f8a1aaf84ecd",
   "metadata": {},
   "source": [
    "As the exception notes, we can either specify it as a type hint, or as an argument in the decorator - the more usual way is to use the type hint:"
   ]
  },
  {
   "cell_type": "code",
   "execution_count": 4,
   "id": "ca8fcb5c-c19d-4b71-88c7-e087b99a42cb",
   "metadata": {},
   "outputs": [],
   "source": [
    "class Circle(BaseModel):\n",
    "    center: tuple[int, int] = (0, 0)\n",
    "    radius: int = Field(default=1, gt=0, frozen=True)\n",
    "\n",
    "    @computed_field\n",
    "    @property\n",
    "    def area(self) -> float:\n",
    "        print(\"calculating area...\")\n",
    "        return pi * self.radius ** 2  "
   ]
  },
  {
   "cell_type": "markdown",
   "id": "39c8b4ba-d14c-4f13-a370-cced2afcc033",
   "metadata": {},
   "source": [
    "And now, when we create a model instance:"
   ]
  },
  {
   "cell_type": "code",
   "execution_count": 5,
   "id": "8e181a40-b7dd-4ba9-8124-12695d1d1787",
   "metadata": {},
   "outputs": [],
   "source": [
    "c = Circle()"
   ]
  },
  {
   "cell_type": "code",
   "execution_count": 6,
   "id": "693017fc-224a-487a-a00f-e90947a110d9",
   "metadata": {},
   "outputs": [
    {
     "name": "stdout",
     "output_type": "stream",
     "text": [
      "calculating area...\n"
     ]
    },
    {
     "data": {
      "text/plain": [
       "Circle(center=(0, 0), radius=1, area=3.141592653589793)"
      ]
     },
     "execution_count": 6,
     "metadata": {},
     "output_type": "execute_result"
    }
   ],
   "source": [
    "c"
   ]
  },
  {
   "cell_type": "markdown",
   "id": "24f29a45-ccce-4e62-a556-e9508959d6bf",
   "metadata": {},
   "source": [
    "As you can see, `area` is now in the representation, and is also in the serialized data:"
   ]
  },
  {
   "cell_type": "code",
   "execution_count": 7,
   "id": "46b0d2c9-ef1e-4ed6-bbe2-c777e822f66f",
   "metadata": {},
   "outputs": [
    {
     "name": "stdout",
     "output_type": "stream",
     "text": [
      "calculating area...\n"
     ]
    },
    {
     "data": {
      "text/plain": [
       "{'center': (0, 0), 'radius': 1, 'area': 3.141592653589793}"
      ]
     },
     "execution_count": 7,
     "metadata": {},
     "output_type": "execute_result"
    }
   ],
   "source": [
    "c.model_dump()"
   ]
  },
  {
   "cell_type": "code",
   "execution_count": 8,
   "id": "1951a1ed-9a75-4e38-a409-f7f7864d998c",
   "metadata": {},
   "outputs": [
    {
     "name": "stdout",
     "output_type": "stream",
     "text": [
      "calculating area...\n"
     ]
    },
    {
     "data": {
      "text/plain": [
       "'{\"center\":[0,0],\"radius\":1,\"area\":3.141592653589793}'"
      ]
     },
     "execution_count": 8,
     "metadata": {},
     "output_type": "execute_result"
    }
   ],
   "source": [
    "c.model_dump_json()"
   ]
  },
  {
   "cell_type": "markdown",
   "id": "6970017f-bdea-451b-b59d-dde44008fa86",
   "metadata": {},
   "source": [
    "First thing is we may want to give it an alias (probably not in this case, but in general you can):"
   ]
  },
  {
   "cell_type": "code",
   "execution_count": 9,
   "id": "073d5894-b0b4-4167-b873-e5ee69bd7156",
   "metadata": {},
   "outputs": [],
   "source": [
    "class Circle(BaseModel):\n",
    "    center: tuple[int, int] = (0, 0)\n",
    "    radius: int = Field(default=1, gt=0, frozen=True)\n",
    "\n",
    "    @computed_field(alias=\"AREA\")\n",
    "    @property\n",
    "    def area(self) -> float:\n",
    "        print(\"calculating area...\")\n",
    "        return pi * self.radius ** 2  "
   ]
  },
  {
   "cell_type": "code",
   "execution_count": 10,
   "id": "f7d68ad8-7941-422c-95d2-731f677a0e8d",
   "metadata": {},
   "outputs": [
    {
     "name": "stdout",
     "output_type": "stream",
     "text": [
      "calculating area...\n"
     ]
    },
    {
     "data": {
      "text/plain": [
       "{'center': (0, 0), 'radius': 1, 'AREA': 3.141592653589793}"
      ]
     },
     "execution_count": 10,
     "metadata": {},
     "output_type": "execute_result"
    }
   ],
   "source": [
    "c = Circle()\n",
    "c.model_dump(by_alias=True)"
   ]
  },
  {
   "cell_type": "markdown",
   "id": "75d7fff1-047f-4fc2-a9e7-58d2acbe3e98",
   "metadata": {},
   "source": [
    "I don't know if I showed you this before, but we can choose to omit certain fields from the instance representation:"
   ]
  },
  {
   "cell_type": "code",
   "execution_count": 11,
   "id": "951ada44-20e6-47f3-bf50-2e7646032032",
   "metadata": {},
   "outputs": [],
   "source": [
    "class Model(BaseModel):\n",
    "    field_1: int = Field(repr=False)\n",
    "    field_2: int"
   ]
  },
  {
   "cell_type": "code",
   "execution_count": 12,
   "id": "ea70ed02-7b2c-4fdc-8752-48a63a3d361e",
   "metadata": {},
   "outputs": [
    {
     "data": {
      "text/plain": [
       "Model(field_2=2)"
      ]
     },
     "execution_count": 12,
     "metadata": {},
     "output_type": "execute_result"
    }
   ],
   "source": [
    "m = Model(field_1=1, field_2=2)\n",
    "m"
   ]
  },
  {
   "cell_type": "markdown",
   "id": "98995e65-2fea-40ef-9903-5017767befa3",
   "metadata": {},
   "source": [
    "As you can see, `field_1` does not show up in the representation, but it is still a regular field, and can be accessed via dot notation, and gets serialized as usual:"
   ]
  },
  {
   "cell_type": "code",
   "execution_count": 13,
   "id": "54bcffae-c0e1-4bb4-b4c3-0c103d0a8a27",
   "metadata": {},
   "outputs": [
    {
     "data": {
      "text/plain": [
       "10"
      ]
     },
     "execution_count": 13,
     "metadata": {},
     "output_type": "execute_result"
    }
   ],
   "source": [
    "m.field_1=10\n",
    "m.field_1"
   ]
  },
  {
   "cell_type": "code",
   "execution_count": 14,
   "id": "d30db005-58ae-4155-8556-89b8c95be4a4",
   "metadata": {},
   "outputs": [
    {
     "data": {
      "text/plain": [
       "{'field_1': 10, 'field_2': 2}"
      ]
     },
     "execution_count": 14,
     "metadata": {},
     "output_type": "execute_result"
    }
   ],
   "source": [
    "m.model_dump()"
   ]
  },
  {
   "cell_type": "markdown",
   "id": "152f8e4e-6da4-4c73-af3a-a19e2d6def97",
   "metadata": {},
   "source": [
    "Now, with these computed properties, we do not have that `Field` mechanism to omit a computed field from the representation. But the `@computed_field` decorator, does enable that option, also using `repr` as an argument:"
   ]
  },
  {
   "cell_type": "code",
   "execution_count": 15,
   "id": "f0ae5e7e-ccb7-42a1-80ad-a89a12556b89",
   "metadata": {},
   "outputs": [],
   "source": [
    "class Circle(BaseModel):\n",
    "    center: tuple[int, int] = (0, 0)\n",
    "    radius: int = Field(default=1, gt=0, frozen=True)\n",
    "\n",
    "    @computed_field(alias=\"AREA\", repr=False)\n",
    "    @property\n",
    "    def area(self) -> float:\n",
    "        print(\"calculating area...\")\n",
    "        return pi * self.radius ** 2  "
   ]
  },
  {
   "cell_type": "code",
   "execution_count": 16,
   "id": "4fc95926-de17-4ae4-9902-f718bcc28ffb",
   "metadata": {},
   "outputs": [],
   "source": [
    "c = Circle()"
   ]
  },
  {
   "cell_type": "code",
   "execution_count": 17,
   "id": "b8eb7f79-4606-40ba-a668-1b7e54184274",
   "metadata": {},
   "outputs": [
    {
     "data": {
      "text/plain": [
       "Circle(center=(0, 0), radius=1)"
      ]
     },
     "execution_count": 17,
     "metadata": {},
     "output_type": "execute_result"
    }
   ],
   "source": [
    "c"
   ]
  },
  {
   "cell_type": "markdown",
   "id": "64b650c2-5f2e-40c9-9624-f2ae8b42a677",
   "metadata": {},
   "source": [
    "As you can see, `area` is not in the representation, but is accessible as usual:"
   ]
  },
  {
   "cell_type": "code",
   "execution_count": 18,
   "id": "6be0d83b-ad9b-41f3-bce3-940ea95a93d8",
   "metadata": {},
   "outputs": [
    {
     "name": "stdout",
     "output_type": "stream",
     "text": [
      "calculating area...\n"
     ]
    },
    {
     "data": {
      "text/plain": [
       "3.141592653589793"
      ]
     },
     "execution_count": 18,
     "metadata": {},
     "output_type": "execute_result"
    }
   ],
   "source": [
    "c.area"
   ]
  },
  {
   "cell_type": "markdown",
   "id": "3b816b22-8e4e-48bc-9d21-904b4769bd86",
   "metadata": {},
   "source": [
    "and serializes as normal:"
   ]
  },
  {
   "cell_type": "code",
   "execution_count": 19,
   "id": "121a354b-b8db-47b5-8c85-70143e0d3e33",
   "metadata": {},
   "outputs": [
    {
     "name": "stdout",
     "output_type": "stream",
     "text": [
      "calculating area...\n"
     ]
    },
    {
     "data": {
      "text/plain": [
       "{'center': (0, 0), 'radius': 1, 'area': 3.141592653589793}"
      ]
     },
     "execution_count": 19,
     "metadata": {},
     "output_type": "execute_result"
    }
   ],
   "source": [
    "c.model_dump()"
   ]
  },
  {
   "cell_type": "markdown",
   "id": "b9fc78e9-1178-4eda-a8c1-64d205fa316a",
   "metadata": {},
   "source": [
    "Note that a calculated field is read-only:"
   ]
  },
  {
   "cell_type": "code",
   "execution_count": 20,
   "id": "c703b437-761c-4f5a-a98c-911f885e837f",
   "metadata": {},
   "outputs": [
    {
     "name": "stdout",
     "output_type": "stream",
     "text": [
      "property 'area' of 'Circle' object has no setter\n"
     ]
    }
   ],
   "source": [
    "try:\n",
    "    c.area = 10\n",
    "except AttributeError as ex:\n",
    "    print(ex)"
   ]
  },
  {
   "cell_type": "markdown",
   "id": "9d05cf45-afe7-481f-af4e-8810daca15b3",
   "metadata": {},
   "source": [
    "Technically, Pydantic deos support the creation of a setter for a computed field - but given that I fail to see a realistic use case for it, I won't cover it here.\n",
    "\n",
    "It is relatively straightforward, and if you do happen to need this, it is documented [here](https://docs.pydantic.dev/2.0/usage/computed_fields/)"
   ]
  },
  {
   "cell_type": "markdown",
   "id": "3400c522-3a2d-4b18-a16c-5e76b7010658",
   "metadata": {},
   "source": [
    "Computed fields work with cached properties too:"
   ]
  },
  {
   "cell_type": "code",
   "execution_count": 21,
   "id": "b5f1eb15-c163-4c2b-8af5-60daf423579e",
   "metadata": {},
   "outputs": [],
   "source": [
    "class Circle(BaseModel):\n",
    "    center: tuple[int, int] = (0, 0)\n",
    "    radius: int = Field(default=1, gt=0, frozen=True)\n",
    "\n",
    "    @computed_field(alias=\"AREA\", repr=False)\n",
    "    @cached_property\n",
    "    def area(self) -> float:\n",
    "        print(\"calculating area...\")\n",
    "        return pi * self.radius ** 2  "
   ]
  },
  {
   "cell_type": "code",
   "execution_count": 22,
   "id": "6e1e2c6a-455a-4d38-8348-cbcdf6d38e39",
   "metadata": {},
   "outputs": [
    {
     "name": "stdout",
     "output_type": "stream",
     "text": [
      "calculating area...\n"
     ]
    },
    {
     "data": {
      "text/plain": [
       "3.141592653589793"
      ]
     },
     "execution_count": 22,
     "metadata": {},
     "output_type": "execute_result"
    }
   ],
   "source": [
    "c = Circle()\n",
    "c.area"
   ]
  },
  {
   "cell_type": "code",
   "execution_count": 23,
   "id": "b4fb1c87-4908-4dd1-9842-422ed6d4735e",
   "metadata": {},
   "outputs": [
    {
     "data": {
      "text/plain": [
       "3.141592653589793"
      ]
     },
     "execution_count": 23,
     "metadata": {},
     "output_type": "execute_result"
    }
   ],
   "source": [
    "c.area"
   ]
  },
  {
   "cell_type": "markdown",
   "id": "187d1262-82fb-49c8-bb42-19733c02afa2",
   "metadata": {},
   "source": [
    "As you can see, caching took effect, and second call did not actually run the computations for the area."
   ]
  },
  {
   "cell_type": "code",
   "execution_count": null,
   "id": "f418e49b-0fa4-47b7-98a2-4b26611efe60",
   "metadata": {},
   "outputs": [],
   "source": []
  }
 ],
 "metadata": {
  "kernelspec": {
   "display_name": "Python 3 (ipykernel)",
   "language": "python",
   "name": "python3"
  },
  "language_info": {
   "codemirror_mode": {
    "name": "ipython",
    "version": 3
   },
   "file_extension": ".py",
   "mimetype": "text/x-python",
   "name": "python",
   "nbconvert_exporter": "python",
   "pygments_lexer": "ipython3",
   "version": "3.12.0"
  }
 },
 "nbformat": 4,
 "nbformat_minor": 5
}
