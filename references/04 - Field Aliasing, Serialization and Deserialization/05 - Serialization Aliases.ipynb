{
 "cells": [
  {
   "cell_type": "markdown",
   "id": "2597a602-32d4-4520-9cd5-89d9cba55c41",
   "metadata": {},
   "source": [
    "# Serialization Aliases"
   ]
  },
  {
   "cell_type": "markdown",
   "id": "4ec0327f-5d23-46b3-900a-7816b02cb9ba",
   "metadata": {},
   "source": [
    "Sometimes, we want to use **different** aliases when deserializing and serializing data."
   ]
  },
  {
   "cell_type": "markdown",
   "id": "a54fc402-6437-4670-8a8d-3ae5657fd750",
   "metadata": {},
   "source": [
    "For example, we might be writing an API that contains an endpoint that queries another API and returns that data to the caller of our endpoint.\n",
    "\n",
    "The external API we are using returns field names that sometimes do not conform to the standards we have established in our own API. So, we need to handle one field name when receiving the data from the external API, but serialize the data using a different name."
   ]
  },
  {
   "cell_type": "markdown",
   "id": "5022c89b-f141-4edc-982c-c156a538bb2c",
   "metadata": {},
   "source": [
    "For example, the external API we are using might be returning JSON that looks like this:"
   ]
  },
  {
   "cell_type": "code",
   "execution_count": 1,
   "id": "2e6c92ee-730e-4a3f-972e-ec045cd25579",
   "metadata": {},
   "outputs": [],
   "source": [
    "response_json = \"\"\"\n",
    "{\n",
    "    \"ID\": 100,\n",
    "    \"FirstName\": \"Isaac\",\n",
    "    \"lastname\": \"Newton\"\n",
    "}\n",
    "\"\"\""
   ]
  },
  {
   "cell_type": "markdown",
   "id": "51d1b327-2aaa-47b8-9206-2518c0c4e2c4",
   "metadata": {},
   "source": [
    "As you can see, whoever wrote that API did not seem to care much about field naming conventions! (happens far more that you would think!)"
   ]
  },
  {
   "cell_type": "markdown",
   "id": "d14ef9c4-9380-4c74-ae5e-35a7eb32cf66",
   "metadata": {},
   "source": [
    "So, we'll need to handle this when we deserialize that data, but we will want to clean things up when we serialize it, so we can give our own users a more pleasant experience."
   ]
  },
  {
   "cell_type": "markdown",
   "id": "fa4d4249-ac96-4ccd-9c8e-4216ff6e76c8",
   "metadata": {},
   "source": [
    "This means, we need one alias for deserializing, and a different alias when serializing (since we still want our field names to stick to Python naming conventions)."
   ]
  },
  {
   "cell_type": "markdown",
   "id": "c5742aee-a2ab-4bb0-bc55-8967b9721138",
   "metadata": {},
   "source": [
    "Let's start by creating a model to handle the deserializtion:"
   ]
  },
  {
   "cell_type": "code",
   "execution_count": 2,
   "id": "5ce549b9-bd8b-457c-bfe2-a3f4a9f12199",
   "metadata": {},
   "outputs": [],
   "source": [
    "from pydantic import BaseModel, ConfigDict, Field, ValidationError"
   ]
  },
  {
   "cell_type": "code",
   "execution_count": 3,
   "id": "5a9f250d-ff2a-48c7-b9af-2ece914cfee6",
   "metadata": {},
   "outputs": [],
   "source": [
    "class Person(BaseModel):\n",
    "    id_: int = Field(alias=\"ID\")\n",
    "    first_name: str = Field(alias=\"FirstName\")\n",
    "    last_name: str = Field(alias=\"lastname\")"
   ]
  },
  {
   "cell_type": "markdown",
   "id": "b97ecf42-fb4f-4504-bc2e-5eb79561dcaa",
   "metadata": {},
   "source": [
    "With this model, we can now deserialize that JSON:"
   ]
  },
  {
   "cell_type": "code",
   "execution_count": 4,
   "id": "5e9938bc-4987-4c28-8961-aad2a26a4cd8",
   "metadata": {},
   "outputs": [
    {
     "data": {
      "text/plain": [
       "Person(id_=100, first_name='Isaac', last_name='Newton')"
      ]
     },
     "execution_count": 4,
     "metadata": {},
     "output_type": "execute_result"
    }
   ],
   "source": [
    "p = Person.model_validate_json(response_json)\n",
    "p"
   ]
  },
  {
   "cell_type": "markdown",
   "id": "22530afd-afd1-4987-aded-514efa67a844",
   "metadata": {},
   "source": [
    "We could also allow population by field name if we wanted to, but not required for this specifically, so I'll leave it out."
   ]
  },
  {
   "cell_type": "markdown",
   "id": "051136ce-ae99-4ab5-819a-b38760a047b7",
   "metadata": {},
   "source": [
    "If we serialize a `Person` instance, it's going to either use the field names:"
   ]
  },
  {
   "cell_type": "code",
   "execution_count": 5,
   "id": "01b7ceff-b85f-47ce-8cc8-f9d02893e5e4",
   "metadata": {},
   "outputs": [
    {
     "data": {
      "text/plain": [
       "{'id_': 100, 'first_name': 'Isaac', 'last_name': 'Newton'}"
      ]
     },
     "execution_count": 5,
     "metadata": {},
     "output_type": "execute_result"
    }
   ],
   "source": [
    "p.model_dump()"
   ]
  },
  {
   "cell_type": "markdown",
   "id": "30195c67-035e-4da2-bca6-edf2ba9899d3",
   "metadata": {},
   "source": [
    "or the field aliases:"
   ]
  },
  {
   "cell_type": "code",
   "execution_count": 6,
   "id": "76c0dc83-3377-4a62-a1ff-433a5e7304fe",
   "metadata": {},
   "outputs": [
    {
     "data": {
      "text/plain": [
       "{'ID': 100, 'FirstName': 'Isaac', 'lastname': 'Newton'}"
      ]
     },
     "execution_count": 6,
     "metadata": {},
     "output_type": "execute_result"
    }
   ],
   "source": [
    "p.model_dump(by_alias=True)"
   ]
  },
  {
   "cell_type": "markdown",
   "id": "fc7ff3c3-30c5-4791-84ad-19746732d1b8",
   "metadata": {},
   "source": [
    "But those field aliases are **not** the ones we want to use."
   ]
  },
  {
   "cell_type": "markdown",
   "id": "575d9130-6e2d-4792-97fa-cbe992146970",
   "metadata": {},
   "source": [
    "We can override the serialization alias, using the `Field` object:"
   ]
  },
  {
   "cell_type": "code",
   "execution_count": 7,
   "id": "99c487fb-bb84-4a31-a0e7-d22e05cfc248",
   "metadata": {},
   "outputs": [],
   "source": [
    "class Person(BaseModel):\n",
    "    id_: int = Field(alias=\"ID\", serialization_alias=\"id\")\n",
    "    first_name: str = Field(alias=\"FirstName\", serialization_alias=\"firstName\")\n",
    "    last_name: str = Field(alias=\"lastname\", serialization_alias=\"lastName\")"
   ]
  },
  {
   "cell_type": "code",
   "execution_count": 8,
   "id": "948b49a5-f436-4163-b466-88491e055758",
   "metadata": {},
   "outputs": [],
   "source": [
    "p = Person.model_validate_json(response_json)"
   ]
  },
  {
   "cell_type": "markdown",
   "id": "2b64fdc5-a91d-43be-91a4-1cffda9dbe69",
   "metadata": {},
   "source": [
    "And now, if we dump using aliases:"
   ]
  },
  {
   "cell_type": "code",
   "execution_count": 9,
   "id": "8b1f126f-6efb-48bc-94be-30d05303c135",
   "metadata": {},
   "outputs": [
    {
     "data": {
      "text/plain": [
       "{'id': 100, 'firstName': 'Isaac', 'lastName': 'Newton'}"
      ]
     },
     "execution_count": 9,
     "metadata": {},
     "output_type": "execute_result"
    }
   ],
   "source": [
    "p.model_dump(by_alias=True)"
   ]
  },
  {
   "cell_type": "markdown",
   "id": "d0f91c14-a096-4818-b435-11dda43fe24c",
   "metadata": {},
   "source": [
    "You'll see that the serialization aliases were used."
   ]
  },
  {
   "cell_type": "markdown",
   "id": "fe52215b-c9fb-4da3-a71f-25becc15d89c",
   "metadata": {},
   "source": [
    "As of writing this video, Pydantic does not offer the possibility of using a function to generate serialization aliases the way it has for generating aliases, so we have to specify the serialization alias for each field."
   ]
  },
  {
   "cell_type": "markdown",
   "id": "3308c678-8006-4db2-9deb-9658e24e02d5",
   "metadata": {},
   "source": [
    "Lastly, let's check the model field info:"
   ]
  },
  {
   "cell_type": "code",
   "execution_count": 10,
   "id": "8d930d5f-f115-44fc-b780-7fa08bd0ad7f",
   "metadata": {},
   "outputs": [
    {
     "data": {
      "text/plain": [
       "{'id_': FieldInfo(annotation=int, required=True, alias='ID', alias_priority=2, serialization_alias='id'),\n",
       " 'first_name': FieldInfo(annotation=str, required=True, alias='FirstName', alias_priority=2, serialization_alias='firstName'),\n",
       " 'last_name': FieldInfo(annotation=str, required=True, alias='lastname', alias_priority=2, serialization_alias='lastName')}"
      ]
     },
     "execution_count": 10,
     "metadata": {},
     "output_type": "execute_result"
    }
   ],
   "source": [
    "Person.model_fields"
   ]
  },
  {
   "cell_type": "markdown",
   "id": "19877f2a-9855-4de2-9b32-afecf79dd310",
   "metadata": {},
   "source": [
    "You'll see that the info now contains information about both the alias and the serialization alias."
   ]
  },
  {
   "cell_type": "code",
   "execution_count": null,
   "id": "8e9b0145-3515-4c3c-884c-794a2b382513",
   "metadata": {},
   "outputs": [],
   "source": []
  }
 ],
 "metadata": {
  "kernelspec": {
   "display_name": "Python 3 (ipykernel)",
   "language": "python",
   "name": "python3"
  },
  "language_info": {
   "codemirror_mode": {
    "name": "ipython",
    "version": 3
   },
   "file_extension": ".py",
   "mimetype": "text/x-python",
   "name": "python",
   "nbconvert_exporter": "python",
   "pygments_lexer": "ipython3",
   "version": "3.12.0"
  }
 },
 "nbformat": 4,
 "nbformat_minor": 5
}
