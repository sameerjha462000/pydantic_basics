{
 "cells": [
  {
   "cell_type": "markdown",
   "id": "97c80727-ce76-4dd2-bb9b-f0aa61370fdc",
   "metadata": {},
   "source": [
    "# Field Aliases and Default Values"
   ]
  },
  {
   "cell_type": "markdown",
   "id": "02664b1d-c90c-4e92-a53b-a8ef06a08ed1",
   "metadata": {},
   "source": [
    "So far we have seen how to define field names, types and default validation behavior using just type hinting and default values."
   ]
  },
  {
   "cell_type": "markdown",
   "id": "a77dab46-c7d9-478f-ad2f-c3e6d6a6df90",
   "metadata": {},
   "source": [
    "But Pydantic has a more powerful way of attaching field configuration to fields in our models.\n",
    "\n",
    "This is done via the `Field` object.\n",
    "\n",
    "To configure fields beyond what we've seen so far, we can create an instance of this `Field` object, configure settings on it, and attach it to a field by using it as the default value.\n",
    "\n",
    "This means we'll need a slightly different way to specify both a `Field` and a default value at the same time (we'll specify the default value in the `Field` object itself).\n",
    "\n",
    "Let's take a look at how we can use the `Field` object to define aliases for our fields."
   ]
  },
  {
   "cell_type": "code",
   "execution_count": 1,
   "id": "370c0b74-6571-4165-bc13-fcbe84d9f976",
   "metadata": {},
   "outputs": [],
   "source": [
    "from pydantic import BaseModel, Field, ValidationError"
   ]
  },
  {
   "cell_type": "code",
   "execution_count": 2,
   "id": "c0ce38cb-cafd-4954-a89c-ab71073911a5",
   "metadata": {},
   "outputs": [],
   "source": [
    "class Model(BaseModel):\n",
    "    id_: int = Field(alias=\"id\")\n",
    "    last_name: str = Field(alias=\"lastName\")"
   ]
  },
  {
   "cell_type": "markdown",
   "id": "61eaf5ae-f577-4356-b5e2-7471cae47165",
   "metadata": {},
   "source": [
    "Now we can deserialize data that uses the aliases, but get mapped to our more Pythonic field names."
   ]
  },
  {
   "cell_type": "code",
   "execution_count": 3,
   "id": "32624ed3-b024-48fa-a6a1-ae57be1a9596",
   "metadata": {},
   "outputs": [],
   "source": [
    "json_data = \"\"\"\n",
    "{\n",
    "    \"id\": 100,\n",
    "    \"lastName\": \"Gauss\"\n",
    "}\n",
    "\"\"\"\n",
    "\n",
    "m = Model.model_validate_json(json_data)"
   ]
  },
  {
   "cell_type": "code",
   "execution_count": 4,
   "id": "b1cf381f-2e45-4d73-afa0-e1128ba7f8cf",
   "metadata": {},
   "outputs": [
    {
     "data": {
      "text/plain": [
       "Model(id_=100, last_name='Gauss')"
      ]
     },
     "execution_count": 4,
     "metadata": {},
     "output_type": "execute_result"
    }
   ],
   "source": [
    "m"
   ]
  },
  {
   "cell_type": "markdown",
   "id": "0d5dcbe2-f870-4c3b-a2ec-651284894129",
   "metadata": {},
   "source": [
    "As you can see the model fields have been correctly populated."
   ]
  },
  {
   "cell_type": "markdown",
   "id": "e9c36332-ba05-4184-9d26-97209dfe39ac",
   "metadata": {},
   "source": [
    "So the data being deserialized **must** use the aliases, not the field names, including when we create an instance of a model using keyword arguments, not just when deserializing a dictionary or JSON."
   ]
  },
  {
   "cell_type": "code",
   "execution_count": 5,
   "id": "eb79dad3-33f8-4ac7-a4d0-2e005f8d0351",
   "metadata": {},
   "outputs": [
    {
     "data": {
      "text/plain": [
       "Model(id_=100, last_name='Gauss')"
      ]
     },
     "execution_count": 5,
     "metadata": {},
     "output_type": "execute_result"
    }
   ],
   "source": [
    "Model(id=100, lastName=\"Gauss\")"
   ]
  },
  {
   "cell_type": "code",
   "execution_count": 6,
   "id": "9fcd9418-df1c-4234-80c9-e7b383824eeb",
   "metadata": {},
   "outputs": [
    {
     "name": "stdout",
     "output_type": "stream",
     "text": [
      "2 validation errors for Model\n",
      "id\n",
      "  Field required [type=missing, input_value={'id_': 100, 'last_name': 'Gauss'}, input_type=dict]\n",
      "    For further information visit https://errors.pydantic.dev/2.5/v/missing\n",
      "lastName\n",
      "  Field required [type=missing, input_value={'id_': 100, 'last_name': 'Gauss'}, input_type=dict]\n",
      "    For further information visit https://errors.pydantic.dev/2.5/v/missing\n"
     ]
    }
   ],
   "source": [
    "try:\n",
    "    Model(id_=100, last_name=\"Gauss\")\n",
    "except ValidationError as ex:\n",
    "    print(ex)"
   ]
  },
  {
   "cell_type": "markdown",
   "id": "7c866004-ad37-4ca6-a6af-6491f0bed1bc",
   "metadata": {},
   "source": [
    "How about accessing the fields on the instance? alias or field name?\n",
    "\n",
    "Well, our model is a regular Python class, and the class attributes are the field names, not the aliases.\n",
    "\n",
    "So, we need to use the field names:"
   ]
  },
  {
   "cell_type": "code",
   "execution_count": 7,
   "id": "a5ed0a39-5d6d-4ecd-a19c-9853dedffdcc",
   "metadata": {},
   "outputs": [
    {
     "data": {
      "text/plain": [
       "'Gauss'"
      ]
     },
     "execution_count": 7,
     "metadata": {},
     "output_type": "execute_result"
    }
   ],
   "source": [
    "m.last_name"
   ]
  },
  {
   "cell_type": "markdown",
   "id": "6f433830-cee9-49ca-8faa-43316da9c648",
   "metadata": {},
   "source": [
    "And indeed, `lastName` is **not** an attribute of the instance:"
   ]
  },
  {
   "cell_type": "code",
   "execution_count": 8,
   "id": "1b6867b3-356c-4a53-8846-eee7cb7c0a16",
   "metadata": {},
   "outputs": [
    {
     "data": {
      "text/plain": [
       "False"
      ]
     },
     "execution_count": 8,
     "metadata": {},
     "output_type": "execute_result"
    }
   ],
   "source": [
    "hasattr(m, \"lastName\")"
   ]
  },
  {
   "cell_type": "code",
   "execution_count": 9,
   "id": "3d05c512-190b-481d-b6b3-a7b3ad34bba3",
   "metadata": {},
   "outputs": [
    {
     "data": {
      "text/plain": [
       "{'id_': 100, 'last_name': 'Gauss'}"
      ]
     },
     "execution_count": 9,
     "metadata": {},
     "output_type": "execute_result"
    }
   ],
   "source": [
    "dict(m)"
   ]
  },
  {
   "cell_type": "markdown",
   "id": "8bba81cc-96df-40f0-a2cc-bef85b200765",
   "metadata": {},
   "source": [
    "What if we also want to define a default for these fields? We can no longer use our previous approach - instead we can add the default to the `Field` object as follows:"
   ]
  },
  {
   "cell_type": "code",
   "execution_count": 10,
   "id": "eda5e783-b11b-4ad0-81be-c8ba3ac16f8b",
   "metadata": {},
   "outputs": [],
   "source": [
    "class Model(BaseModel):\n",
    "    id_: int = Field(alias=\"id\", default=100)\n",
    "    last_name: str = Field(alias=\"lastName\")"
   ]
  },
  {
   "cell_type": "code",
   "execution_count": 11,
   "id": "9eed8410-94e9-4399-9395-1d3f764efa0b",
   "metadata": {},
   "outputs": [
    {
     "data": {
      "text/plain": [
       "Model(id_=100, last_name='Gauss')"
      ]
     },
     "execution_count": 11,
     "metadata": {},
     "output_type": "execute_result"
    }
   ],
   "source": [
    "Model(lastName=\"Gauss\")"
   ]
  },
  {
   "cell_type": "code",
   "execution_count": 12,
   "id": "bb909321-5ea1-46c9-8038-198c8710a4df",
   "metadata": {},
   "outputs": [
    {
     "data": {
      "text/plain": [
       "Model(id_=1, last_name='Newton')"
      ]
     },
     "execution_count": 12,
     "metadata": {},
     "output_type": "execute_result"
    }
   ],
   "source": [
    "Model(id=1, lastName=\"Newton\")"
   ]
  },
  {
   "cell_type": "markdown",
   "id": "aaea77f8-1eb4-4307-a474-0bda4ac6890e",
   "metadata": {},
   "source": [
    "When we serialize a model, the field names, not the aliases, will be used:"
   ]
  },
  {
   "cell_type": "code",
   "execution_count": 13,
   "id": "694a2254-92c4-4f37-bc84-d1ffc9bbecf9",
   "metadata": {},
   "outputs": [
    {
     "data": {
      "text/plain": [
       "{'id_': 100, 'last_name': 'Gauss'}"
      ]
     },
     "execution_count": 13,
     "metadata": {},
     "output_type": "execute_result"
    }
   ],
   "source": [
    "m.model_dump()"
   ]
  },
  {
   "cell_type": "markdown",
   "id": "c6629181-c4c5-4510-81b8-1460dcb8fcdc",
   "metadata": {},
   "source": [
    "In other words, when we define an alias, the default behavior for Pydantic is that they are used when **deserializing** ONLY."
   ]
  },
  {
   "cell_type": "markdown",
   "id": "2da85525-ec62-47b7-9d73-618ab1209b66",
   "metadata": {},
   "source": [
    "The representation uses the field names, the attributes on the class are the field names, and serialized data used the field names."
   ]
  },
  {
   "cell_type": "markdown",
   "id": "3db34307-829f-493c-b417-3783e71507a5",
   "metadata": {},
   "source": [
    "We'll see later how we can configure our model to allow deserializing using either the alias or the field name."
   ]
  },
  {
   "cell_type": "markdown",
   "id": "368ee024-219d-42ce-9a5e-5df72e535d23",
   "metadata": {},
   "source": [
    "We can also indicate how we want the model to be serialized - the default is field names, but we can specifically request Pydantic to use the aliases(if present) instead.\n",
    "\n",
    "Let's take a look:"
   ]
  },
  {
   "cell_type": "code",
   "execution_count": 14,
   "id": "f5b292fe-257b-4b3c-9168-71a86566e704",
   "metadata": {},
   "outputs": [],
   "source": [
    "class Person(BaseModel):\n",
    "    id_: int = Field(alias=\"id\")\n",
    "    first_name: str | None = Field(alias=\"firstName\", default=None)\n",
    "    last_name: str = Field(alias=\"lastName\")\n",
    "    age: int | None = None"
   ]
  },
  {
   "cell_type": "markdown",
   "id": "e40ed712-7b45-4a2c-ba43-901ddd711116",
   "metadata": {},
   "source": [
    "As you can see all fields except `age` have an alias defined."
   ]
  },
  {
   "cell_type": "markdown",
   "id": "e758af34-fd37-424b-a9b4-6b39d750a98c",
   "metadata": {},
   "source": [
    "Let's create a model instance:"
   ]
  },
  {
   "cell_type": "code",
   "execution_count": 15,
   "id": "83a0d3e2-da31-495e-84de-bfeea882fc94",
   "metadata": {},
   "outputs": [
    {
     "data": {
      "text/plain": [
       "Person(id_=1, first_name='Isaac', last_name='Newton', age=84)"
      ]
     },
     "execution_count": 15,
     "metadata": {},
     "output_type": "execute_result"
    }
   ],
   "source": [
    "isaac = Person(id=1, firstName=\"Isaac\", lastName=\"Newton\", age=84)\n",
    "isaac"
   ]
  },
  {
   "cell_type": "code",
   "execution_count": 16,
   "id": "1ea57ebd-21ae-4d9f-a570-e0ab4f9fcbe7",
   "metadata": {},
   "outputs": [
    {
     "data": {
      "text/plain": [
       "{'id_': 1, 'first_name': 'Isaac', 'last_name': 'Newton', 'age': 84}"
      ]
     },
     "execution_count": 16,
     "metadata": {},
     "output_type": "execute_result"
    }
   ],
   "source": [
    "isaac.model_dump()"
   ]
  },
  {
   "cell_type": "markdown",
   "id": "f7900ba0-89af-4a1f-a4d0-aec36a48374f",
   "metadata": {},
   "source": [
    "The above serialization use the field names. To use the aliases instead (or the field name if no alias is defined), we supply an argument to the dump methods:"
   ]
  },
  {
   "cell_type": "code",
   "execution_count": 17,
   "id": "6dc04b0a-0345-4316-99c6-eb5fec1b54b2",
   "metadata": {},
   "outputs": [
    {
     "data": {
      "text/plain": [
       "{'id': 1, 'firstName': 'Isaac', 'lastName': 'Newton', 'age': 84}"
      ]
     },
     "execution_count": 17,
     "metadata": {},
     "output_type": "execute_result"
    }
   ],
   "source": [
    "isaac.model_dump(by_alias=True)"
   ]
  },
  {
   "cell_type": "code",
   "execution_count": 18,
   "id": "ba9c3e85-52a5-4347-82e9-8fb2d23e671b",
   "metadata": {
    "jupyter": {
     "source_hidden": true
    }
   },
   "outputs": [
    {
     "data": {
      "text/plain": [
       "'{\"id\":1,\"firstName\":\"Isaac\",\"lastName\":\"Newton\",\"age\":84}'"
      ]
     },
     "execution_count": 18,
     "metadata": {},
     "output_type": "execute_result"
    }
   ],
   "source": [
    "isaac.model_dump_json(by_alias=True)"
   ]
  },
  {
   "cell_type": "markdown",
   "id": "f88bd8a6-afeb-40ad-a83f-699f037dba83",
   "metadata": {},
   "source": [
    "Let's look at the model field info so we can see how that is now getting more complex as we add more configuration to our models and fields:"
   ]
  },
  {
   "cell_type": "code",
   "execution_count": 19,
   "id": "ff06785e-6232-49a9-876c-0eb93198ec99",
   "metadata": {},
   "outputs": [
    {
     "data": {
      "text/plain": [
       "{'id_': FieldInfo(annotation=int, required=True, alias='id', alias_priority=2),\n",
       " 'first_name': FieldInfo(annotation=Union[str, NoneType], required=False, alias='firstName', alias_priority=2),\n",
       " 'last_name': FieldInfo(annotation=str, required=True, alias='lastName', alias_priority=2),\n",
       " 'age': FieldInfo(annotation=Union[int, NoneType], required=False)}"
      ]
     },
     "execution_count": 19,
     "metadata": {},
     "output_type": "execute_result"
    }
   ],
   "source": [
    "Person.model_fields"
   ]
  },
  {
   "cell_type": "markdown",
   "id": "bd98b3bf-6a12-4c8b-bd12-0f18cdc283e1",
   "metadata": {},
   "source": [
    "You'll notice something in the properties: `alias_priority=2`.\n",
    "\n",
    "Technically Pydantic offers three configurations for aliases (I only mentioned two in the slides):\n",
    "- alias\n",
    "- validation alias\n",
    "- serialization alias\n",
    "\n",
    "  When you use all three, you can also indicate which alias takes precedence when deserializing and serializing. I never use this feature, and could not come up with a good reason to do so. So, I'm not going to cover it in this course - I find it rather confusing, and not something I see as commonly needed and beyond the scope of an essentials course."
   ]
  },
  {
   "cell_type": "code",
   "execution_count": null,
   "id": "02701db0-dc55-4799-98f0-8b3463768966",
   "metadata": {},
   "outputs": [],
   "source": []
  }
 ],
 "metadata": {
  "kernelspec": {
   "display_name": "Python 3 (ipykernel)",
   "language": "python",
   "name": "python3"
  },
  "language_info": {
   "codemirror_mode": {
    "name": "ipython",
    "version": 3
   },
   "file_extension": ".py",
   "mimetype": "text/x-python",
   "name": "python",
   "nbconvert_exporter": "python",
   "pygments_lexer": "ipython3",
   "version": "3.12.0"
  }
 },
 "nbformat": 4,
 "nbformat_minor": 5
}
