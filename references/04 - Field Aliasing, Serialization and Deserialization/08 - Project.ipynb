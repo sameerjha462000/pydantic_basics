{
 "cells": [
  {
   "cell_type": "markdown",
   "id": "c77f56f4-2009-4860-abc0-c6ae92730a87",
   "metadata": {},
   "source": [
    "# Project (Section 4)"
   ]
  },
  {
   "cell_type": "markdown",
   "id": "61b61091-57be-4e23-8fd6-1d69b27685f1",
   "metadata": {},
   "source": [
    "This was the code we ended up with in the last section's project:"
   ]
  },
  {
   "cell_type": "code",
   "execution_count": 1,
   "id": "da320bfe-7282-42c2-a12b-1e4e4c76cebd",
   "metadata": {},
   "outputs": [],
   "source": [
    "from datetime import date\n",
    "from enum import Enum\n",
    "from pydantic import BaseModel, ConfigDict\n",
    "\n",
    "\n",
    "class AutomobileType(Enum):\n",
    "    sedan = \"Sedan\"\n",
    "    coupe = \"Coupe\"\n",
    "    convertible = \"Convertible\"\n",
    "    suv = \"SUV\"\n",
    "    truck = \"Truck\"\n",
    "\n",
    "\n",
    "class Automobile(BaseModel):\n",
    "    model_config = ConfigDict(\n",
    "        extra=\"forbid\",\n",
    "        str_strip_whitespace=True,\n",
    "        validate_default=True,\n",
    "        validate_assignment=True,\n",
    "    )\n",
    "    \n",
    "    manufacturer: str\n",
    "    series_name: str\n",
    "    type_: AutomobileType\n",
    "    is_electric: bool = False\n",
    "    manufactured_date: date\n",
    "    base_msrp_usd: float\n",
    "    vin: str\n",
    "    number_of_doors: int = 4\n",
    "    registration_country: str | None = None\n",
    "    license_plate: str | None = None"
   ]
  },
  {
   "cell_type": "markdown",
   "id": "d8104f10-216b-42f9-aab6-c24822537881",
   "metadata": {},
   "source": [
    "Modify your `Automobile` model to implement the following:\n",
    "\n",
    "- auto generate camel case aliases\n",
    "- the field `type_` in our model is provided as `type` in source data, and should also serialize to `type`.\n",
    "- the data we receive contains the following field names that need to map to our own model field names - but we still want our camelized field names to be used for serialization. Account for that (without renaming the field names):\n",
    "    - `number_of_doors` is provided as `doors`\n",
    "    - `manufactured_date` is provided as `completionDate`\n",
    "- The field `base_msrp_usd` is provided as `msrpUSD`, and we want the serialization name to be `baseMSRPUSD`\n",
    "- we want the JSON serialized output of `manufactured_date` to be this pattern: `YYYY/MM/DD` (e.g. `2020/01/01`), but serializing to a Python dict should remain as a `date` object."
   ]
  },
  {
   "cell_type": "markdown",
   "id": "89fe1527-e8bd-4a6c-9668-5ce5bc90c145",
   "metadata": {},
   "source": [
    "The following source data:"
   ]
  },
  {
   "cell_type": "code",
   "execution_count": 2,
   "id": "a1c9e15d-37b7-4762-ab0e-42053990ae23",
   "metadata": {},
   "outputs": [],
   "source": [
    "data_json = '''\n",
    "{\n",
    "    \"manufacturer\": \"BMW\",\n",
    "    \"seriesName\": \"M4\",\n",
    "    \"type\": \"Convertible\",\n",
    "    \"isElectric\": false,\n",
    "    \"completionDate\": \"2023-01-01\",\n",
    "    \"msrpUSD\": 93300,\n",
    "    \"vin\": \"1234567890\",\n",
    "    \"doors\": 2,\n",
    "    \"registrationCountry\": \"France\",\n",
    "    \"licensePlate\": \"AAA-BBB\"\n",
    "}\n",
    "'''"
   ]
  },
  {
   "cell_type": "markdown",
   "id": "44180d8b-c11d-4f5b-a637-7d6db930195e",
   "metadata": {},
   "source": [
    "should deserialaze to these:"
   ]
  },
  {
   "cell_type": "code",
   "execution_count": 3,
   "id": "7dd125d3-f1d9-4912-b27e-01c230adbb1d",
   "metadata": {},
   "outputs": [],
   "source": [
    "expected_serialized_dict = {\n",
    "    'manufacturer': 'BMW',\n",
    "    'series_name': 'M4',\n",
    "    'type_': AutomobileType.convertible,\n",
    "    'is_electric': False,\n",
    "    'manufactured_date': date(2023, 1, 1),\n",
    "    'base_msrp_usd': 93300.0,\n",
    "    'vin': '1234567890',\n",
    "    'number_of_doors': 2,\n",
    "    'registration_country': 'France',\n",
    "    'license_plate': 'AAA-BBB'\n",
    "}"
   ]
  },
  {
   "cell_type": "code",
   "execution_count": 4,
   "id": "94a81942-878f-4099-a349-96ac9492c12c",
   "metadata": {},
   "outputs": [],
   "source": [
    "expected_serialized_dict_by_alias = {\n",
    "    'manufacturer': 'BMW',\n",
    "    'seriesName': 'M4',\n",
    "    'type': AutomobileType.convertible,\n",
    "    'isElectric': False,\n",
    "    'manufacturedDate': date(2023, 1, 1),\n",
    "    'baseMSRPUSD': 93300.0,\n",
    "    'vin': '1234567890',\n",
    "    'numberOfDoors': 2,\n",
    "    'registrationCountry': 'France',\n",
    "    'licensePlate': 'AAA-BBB'\n",
    "}"
   ]
  },
  {
   "cell_type": "code",
   "execution_count": 5,
   "id": "c489bd49-3d5d-42d5-bf06-06bdee1f07c7",
   "metadata": {},
   "outputs": [],
   "source": [
    "expected_serialized_json_by_alias = (\n",
    "    '{\"manufacturer\":\"BMW\",\"seriesName\":\"M4\",\"type\":\"Convertible\",'\n",
    "    '\"isElectric\":false,\"manufacturedDate\":\"2023/01/01\",\"baseMSRPUSD\":93300.0,'\n",
    "    '\"vin\":\"1234567890\",\"numberOfDoors\":2,\"registrationCountry\":\"France\",'\n",
    "    '\"licensePlate\":\"AAA-BBB\"}'\n",
    ")"
   ]
  },
  {
   "cell_type": "code",
   "execution_count": null,
   "id": "e7819cd9-e5c9-4d51-9549-1bad80e09f92",
   "metadata": {},
   "outputs": [],
   "source": []
  }
 ],
 "metadata": {
  "kernelspec": {
   "display_name": "Python 3 (ipykernel)",
   "language": "python",
   "name": "python3"
  },
  "language_info": {
   "codemirror_mode": {
    "name": "ipython",
    "version": 3
   },
   "file_extension": ".py",
   "mimetype": "text/x-python",
   "name": "python",
   "nbconvert_exporter": "python",
   "pygments_lexer": "ipython3",
   "version": "3.12.0"
  }
 },
 "nbformat": 4,
 "nbformat_minor": 5
}
