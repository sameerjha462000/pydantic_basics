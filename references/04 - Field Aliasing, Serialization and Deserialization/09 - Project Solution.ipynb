{
 "cells": [
  {
   "cell_type": "markdown",
   "id": "8fb3d158-7038-4d03-9ae9-68c243b4dc00",
   "metadata": {},
   "source": [
    "# Project with Solution (Section 4)"
   ]
  },
  {
   "cell_type": "markdown",
   "id": "accc4119-757c-4329-ad8b-d9c5ebefcb7f",
   "metadata": {
    "jp-MarkdownHeadingCollapsed": true
   },
   "source": [
    "## Project Specs"
   ]
  },
  {
   "cell_type": "markdown",
   "id": "95817090-3f00-4a84-8131-531751a2cffc",
   "metadata": {},
   "source": [
    "This was the code we ended up with in the last section's project:"
   ]
  },
  {
   "cell_type": "code",
   "execution_count": 1,
   "id": "5e7610bb-cd82-49f5-ab0c-c96622e85456",
   "metadata": {
    "jupyter": {
     "source_hidden": true
    }
   },
   "outputs": [],
   "source": [
    "from datetime import date\n",
    "from enum import Enum\n",
    "from pydantic import BaseModel, ConfigDict\n",
    "\n",
    "\n",
    "class AutomobileType(Enum):\n",
    "    sedan = \"Sedan\"\n",
    "    coupe = \"Coupe\"\n",
    "    convertible = \"Convertible\"\n",
    "    suv = \"SUV\"\n",
    "    truck = \"Truck\"\n",
    "\n",
    "\n",
    "class Automobile(BaseModel):\n",
    "    model_config = ConfigDict(\n",
    "        extra=\"forbid\",\n",
    "        str_strip_whitespace=True,\n",
    "        validate_default=True,\n",
    "        validate_assignment=True,\n",
    "    )\n",
    "    \n",
    "    manufacturer: str\n",
    "    series_name: str\n",
    "    type_: AutomobileType\n",
    "    is_electric: bool = False\n",
    "    manufactured_date: date\n",
    "    base_msrp_usd: float\n",
    "    vin: str\n",
    "    number_of_doors: int = 4\n",
    "    registration_country: str | None = None\n",
    "    license_plate: str | None = None"
   ]
  },
  {
   "cell_type": "markdown",
   "id": "56d5600a-c95f-4e06-825b-0cf514399da7",
   "metadata": {},
   "source": [
    "Modify your `Automobile` model to implement the following:\n",
    "\n",
    "- auto generate camel case aliases\n",
    "- the field `type_` in our model is provided as `type` in source data, and should also serialize to `type`.\n",
    "- the data we receive contains the following field names that need to map to our own model field names - but we still want our camelized field names to be used for serialization. Account for that (without renaming the field names):\n",
    "    - `number_of_doors` is provided as `doors`\n",
    "    - `manufactured_date` is provided as `completionDate`\n",
    "- The field `base_msrp_usd` is provided as `msrpUSD`, and we want the serialization name to be `baseMSRPUSD`\n",
    "- we want the JSON serialized output of `manufactured_date` to be this pattern: `YYYY/MM/DD` (e.g. `2020/01/01`), but serializing to a Python dict should remain as a `date` object."
   ]
  },
  {
   "cell_type": "markdown",
   "id": "6ed14c58-1a10-4f30-96dc-2398c99d3114",
   "metadata": {},
   "source": [
    "The following source data:"
   ]
  },
  {
   "cell_type": "code",
   "execution_count": 2,
   "id": "3862f462-df9d-41f7-8a29-df68ff740283",
   "metadata": {
    "jupyter": {
     "source_hidden": true
    }
   },
   "outputs": [],
   "source": [
    "data_json = '''\n",
    "{\n",
    "    \"manufacturer\": \"BMW\",\n",
    "    \"seriesName\": \"M4\",\n",
    "    \"type\": \"Convertible\",\n",
    "    \"isElectric\": false,\n",
    "    \"completionDate\": \"2023-01-01\",\n",
    "    \"msrpUSD\": 93300,\n",
    "    \"vin\": \"1234567890\",\n",
    "    \"doors\": 2,\n",
    "    \"registrationCountry\": \"France\",\n",
    "    \"licensePlate\": \"AAA-BBB\"\n",
    "}\n",
    "'''"
   ]
  },
  {
   "cell_type": "markdown",
   "id": "e9428f83-f332-4064-acc7-17fc9070a974",
   "metadata": {},
   "source": [
    "should deserialaze to these:"
   ]
  },
  {
   "cell_type": "code",
   "execution_count": 3,
   "id": "6b5a021b-1adf-442f-82b1-3c0af574a19b",
   "metadata": {
    "jupyter": {
     "source_hidden": true
    }
   },
   "outputs": [],
   "source": [
    "expected_serialized_dict = {\n",
    "    'manufacturer': 'BMW',\n",
    "    'series_name': 'M4',\n",
    "    'type_': AutomobileType.convertible,\n",
    "    'is_electric': False,\n",
    "    'manufactured_date': date(2023, 1, 1),\n",
    "    'base_msrp_usd': 93300.0,\n",
    "    'vin': '1234567890',\n",
    "    'number_of_doors': 2,\n",
    "    'registration_country': 'France',\n",
    "    'license_plate': 'AAA-BBB'\n",
    "}"
   ]
  },
  {
   "cell_type": "code",
   "execution_count": 4,
   "id": "2e835dd3-3802-4b0b-97ee-2482ff5790cd",
   "metadata": {
    "jupyter": {
     "source_hidden": true
    }
   },
   "outputs": [],
   "source": [
    "expected_serialized_dict_by_alias = {\n",
    "    'manufacturer': 'BMW',\n",
    "    'seriesName': 'M4',\n",
    "    'type': AutomobileType.convertible,\n",
    "    'isElectric': False,\n",
    "    'manufacturedDate': date(2023, 1, 1),\n",
    "    'baseMSRPUSD': 93300.0,\n",
    "    'vin': '1234567890',\n",
    "    'numberOfDoors': 2,\n",
    "    'registrationCountry': 'France',\n",
    "    'licensePlate': 'AAA-BBB'\n",
    "}"
   ]
  },
  {
   "cell_type": "code",
   "execution_count": 5,
   "id": "8cf39043-3b9f-45fd-aaee-e3426e8b5353",
   "metadata": {},
   "outputs": [],
   "source": [
    "expected_serialized_json_by_alias = (\n",
    "    '{\"manufacturer\":\"BMW\",\"seriesName\":\"M4\",\"type\":\"Convertible\",'\n",
    "    '\"isElectric\":false,\"manufacturedDate\":\"2023/01/01\",\"baseMSRPUSD\":93300.0,'\n",
    "    '\"vin\":\"1234567890\",\"numberOfDoors\":2,\"registrationCountry\":\"France\",'\n",
    "    '\"licensePlate\":\"AAA-BBB\"}'\n",
    ")"
   ]
  },
  {
   "cell_type": "markdown",
   "id": "1b9682b9-0b8f-45e9-8ab0-11ccac2ca9b0",
   "metadata": {},
   "source": [
    "## Solution"
   ]
  },
  {
   "cell_type": "code",
   "execution_count": 6,
   "id": "508f87d7-548b-42c0-822e-59661bab736e",
   "metadata": {},
   "outputs": [],
   "source": [
    "from pydantic import Field, field_serializer\n",
    "from pydantic.alias_generators import to_camel"
   ]
  },
  {
   "cell_type": "code",
   "execution_count": 7,
   "id": "5f14acd5-216e-4687-9c8b-9f30f5935024",
   "metadata": {},
   "outputs": [],
   "source": [
    "class Automobile(BaseModel):\n",
    "    model_config = ConfigDict(\n",
    "        extra=\"forbid\",\n",
    "        str_strip_whitespace=True,\n",
    "        validate_default=True,\n",
    "        validate_assignment=True,\n",
    "        alias_generator=to_camel,\n",
    "    )\n",
    "    \n",
    "    manufacturer: str\n",
    "    series_name: str\n",
    "    type_: AutomobileType = Field(alias=\"type\")\n",
    "    is_electric: bool = False\n",
    "    manufactured_date: date = Field(validation_alias=\"completionDate\")\n",
    "    base_msrp_usd: float = Field(\n",
    "        validation_alias=\"msrpUSD\", \n",
    "        serialization_alias=\"baseMSRPUSD\"\n",
    "    )\n",
    "    vin: str\n",
    "    number_of_doors: int = Field(default=4, validation_alias=\"doors\")\n",
    "    registration_country: str | None = None\n",
    "    license_plate: str | None = None\n",
    "\n",
    "    @field_serializer(\"manufactured_date\", when_used=\"json-unless-none\")\n",
    "    def serialize_date(self, value: date) -> str:\n",
    "        return value.strftime(\"%Y/%m/%d\")"
   ]
  },
  {
   "cell_type": "code",
   "execution_count": 8,
   "id": "5df2f90a-8520-4818-8b1f-27d7972f6f43",
   "metadata": {},
   "outputs": [
    {
     "data": {
      "text/plain": [
       "Automobile(manufacturer='BMW', series_name='M4', type_=<AutomobileType.convertible: 'Convertible'>, is_electric=False, manufactured_date=datetime.date(2023, 1, 1), base_msrp_usd=93300.0, vin='1234567890', number_of_doors=2, registration_country='France', license_plate='AAA-BBB')"
      ]
     },
     "execution_count": 8,
     "metadata": {},
     "output_type": "execute_result"
    }
   ],
   "source": [
    "car = Automobile.model_validate_json(data_json)\n",
    "car"
   ]
  },
  {
   "cell_type": "code",
   "execution_count": 9,
   "id": "0708b62e-a4f0-4819-8031-100dc598c843",
   "metadata": {},
   "outputs": [],
   "source": [
    "assert car.model_dump() == expected_serialized_dict"
   ]
  },
  {
   "cell_type": "code",
   "execution_count": 10,
   "id": "bbd79175-ed85-488e-89cb-0de806631586",
   "metadata": {},
   "outputs": [],
   "source": [
    "assert car.model_dump(by_alias=True) == expected_serialized_dict_by_alias"
   ]
  },
  {
   "cell_type": "code",
   "execution_count": 11,
   "id": "36d9b52c-9304-49c5-b26d-e1bc24c68a5e",
   "metadata": {},
   "outputs": [],
   "source": [
    "assert car.model_dump_json(by_alias=True) == expected_serialized_json_by_alias"
   ]
  },
  {
   "cell_type": "code",
   "execution_count": null,
   "id": "969d8ddf-1151-4dd2-8ce9-712f8b663089",
   "metadata": {},
   "outputs": [],
   "source": []
  }
 ],
 "metadata": {
  "kernelspec": {
   "display_name": "Python 3 (ipykernel)",
   "language": "python",
   "name": "python3"
  },
  "language_info": {
   "codemirror_mode": {
    "name": "ipython",
    "version": 3
   },
   "file_extension": ".py",
   "mimetype": "text/x-python",
   "name": "python",
   "nbconvert_exporter": "python",
   "pygments_lexer": "ipython3",
   "version": "3.12.0"
  }
 },
 "nbformat": 4,
 "nbformat_minor": 5
}
