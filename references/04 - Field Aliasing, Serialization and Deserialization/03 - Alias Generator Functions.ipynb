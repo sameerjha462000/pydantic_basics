{
 "cells": [
  {
   "cell_type": "markdown",
   "id": "b73b44d0-852a-4fee-949f-e569732bd96b",
   "metadata": {},
   "source": [
    "# Alias Generator Functions"
   ]
  },
  {
   "cell_type": "markdown",
   "id": "f0608545-20a2-42a0-acb4-731216b343aa",
   "metadata": {},
   "source": [
    "When working with REST APIs, using camel case for deserializing/serializing data, and snake case for field names is extremely common.\n",
    "\n",
    "One approach is to use the alias definitions we looked at in the previous video.\n",
    "\n",
    "However, doing this for hundreds of fields and dozens of models is tedious and error prone."
   ]
  },
  {
   "cell_type": "markdown",
   "id": "b3e9f17a-803e-418e-800f-0da0c3034671",
   "metadata": {},
   "source": [
    "Converting from snake case to camel case is rather systematic, and we could write a function to do this.\n",
    "\n",
    "In fact, there are 3rd party libraries that provide this very capability.\n",
    "\n",
    "Pydantic also does.\n",
    "\n",
    "These case conversion functions are documented [here](https://docs.pydantic.dev/latest/api/config/#pydantic.alias_generators)"
   ]
  },
  {
   "cell_type": "markdown",
   "id": "dfd7fab7-be63-4f7f-a3ce-1aab1d638f00",
   "metadata": {},
   "source": [
    "Let's look at them:"
   ]
  },
  {
   "cell_type": "code",
   "execution_count": 1,
   "id": "a033a0d7-4688-4358-b192-917eb36c8457",
   "metadata": {},
   "outputs": [],
   "source": [
    "from pydantic.alias_generators import to_camel, to_snake, to_pascal"
   ]
  },
  {
   "cell_type": "markdown",
   "id": "951d848c-ae18-4571-aa57-4345be610e6d",
   "metadata": {},
   "source": [
    "These are just regular functions:"
   ]
  },
  {
   "cell_type": "code",
   "execution_count": 2,
   "id": "ff04bbab-7249-4d21-86bc-2a09e757ef8d",
   "metadata": {},
   "outputs": [
    {
     "data": {
      "text/plain": [
       "'lastName'"
      ]
     },
     "execution_count": 2,
     "metadata": {},
     "output_type": "execute_result"
    }
   ],
   "source": [
    "to_camel(\"last_name\")"
   ]
  },
  {
   "cell_type": "code",
   "execution_count": 3,
   "id": "77df35bc-8d87-42a6-8583-fe01da7c7ff0",
   "metadata": {},
   "outputs": [
    {
     "data": {
      "text/plain": [
       "'last_name'"
      ]
     },
     "execution_count": 3,
     "metadata": {},
     "output_type": "execute_result"
    }
   ],
   "source": [
    "to_snake(\"lastName\")"
   ]
  },
  {
   "cell_type": "code",
   "execution_count": 4,
   "id": "8a00e0f1-2a03-4cf6-a45f-b49c67b4fd8b",
   "metadata": {},
   "outputs": [
    {
     "data": {
      "text/plain": [
       "'LastName'"
      ]
     },
     "execution_count": 4,
     "metadata": {},
     "output_type": "execute_result"
    }
   ],
   "source": [
    "to_pascal(\"last_name\")"
   ]
  },
  {
   "cell_type": "markdown",
   "id": "437c40b6-dac7-4f4c-a2f0-927cf4dd775b",
   "metadata": {},
   "source": [
    "The reason we have those functions is that we can configure our **model** to auto generate field aliases using one of those functions.\n",
    "\n",
    "But any function that converts one string (the field name) into another (an alias) can also be used.\n",
    "\n",
    "Let's take a look at auto-generating aliases that simply uppercases the field names."
   ]
  },
  {
   "cell_type": "code",
   "execution_count": 5,
   "id": "36f578fd-b72e-40c4-be7c-67b72b6f0e62",
   "metadata": {},
   "outputs": [],
   "source": [
    "def make_upper(in_str: str) -> str:\n",
    "    return in_str.upper()"
   ]
  },
  {
   "cell_type": "markdown",
   "id": "8bace6db-ee4f-4361-8c0b-a1f2d66a0dc1",
   "metadata": {},
   "source": [
    "Just a regular function:"
   ]
  },
  {
   "cell_type": "code",
   "execution_count": 6,
   "id": "146cceb0-2948-4bdd-a3e8-9a5a9f782eb8",
   "metadata": {},
   "outputs": [
    {
     "data": {
      "text/plain": [
       "'LAST_NAME'"
      ]
     },
     "execution_count": 6,
     "metadata": {},
     "output_type": "execute_result"
    }
   ],
   "source": [
    "make_upper(\"last_name\")"
   ]
  },
  {
   "cell_type": "markdown",
   "id": "f0a14c64-a36e-4384-bb6f-5f6184e1fcb2",
   "metadata": {},
   "source": [
    "Now let's attach this function to our model definition, using, of course, `model_config`:"
   ]
  },
  {
   "cell_type": "code",
   "execution_count": 7,
   "id": "a7161c37-fa33-4189-83b8-4c0004658093",
   "metadata": {},
   "outputs": [],
   "source": [
    "from pydantic import BaseModel, ConfigDict, Field, ValidationError\n",
    "\n",
    "class Person(BaseModel):\n",
    "    model_config = ConfigDict(alias_generator=make_upper)\n",
    "\n",
    "    id_: int\n",
    "    first_name: str | None = None\n",
    "    last_name: str\n",
    "    age: int | None = None"
   ]
  },
  {
   "cell_type": "markdown",
   "id": "868d2b28-dc91-41c8-8d41-d55c516c146b",
   "metadata": {},
   "source": [
    "Let's inspect the model fields:"
   ]
  },
  {
   "cell_type": "code",
   "execution_count": 8,
   "id": "daf87be6-86fa-4e49-9291-e40848cbe9d8",
   "metadata": {},
   "outputs": [
    {
     "data": {
      "text/plain": [
       "{'id_': FieldInfo(annotation=int, required=True, alias='ID_'),\n",
       " 'first_name': FieldInfo(annotation=Union[str, NoneType], required=False, alias='FIRST_NAME'),\n",
       " 'last_name': FieldInfo(annotation=str, required=True, alias='LAST_NAME'),\n",
       " 'age': FieldInfo(annotation=Union[int, NoneType], required=False, alias='AGE')}"
      ]
     },
     "execution_count": 8,
     "metadata": {},
     "output_type": "execute_result"
    }
   ],
   "source": [
    "Person.model_fields"
   ]
  },
  {
   "cell_type": "markdown",
   "id": "ce8c62b8-19b9-42ca-a49a-7bcca600e872",
   "metadata": {},
   "source": [
    "You can see that the aliases were auto generated. Let's try it out:"
   ]
  },
  {
   "cell_type": "code",
   "execution_count": 9,
   "id": "743b354a-0766-4066-abfd-b011a29e7bca",
   "metadata": {},
   "outputs": [
    {
     "data": {
      "text/plain": [
       "Person(id_=1, first_name=None, last_name='Fourier', age=62)"
      ]
     },
     "execution_count": 9,
     "metadata": {},
     "output_type": "execute_result"
    }
   ],
   "source": [
    "p = Person(ID_=1, LAST_NAME=\"Fourier\", AGE=62)\n",
    "p"
   ]
  },
  {
   "cell_type": "code",
   "execution_count": 10,
   "id": "b40402fa-ec2d-414a-a1b5-d912b97a7f7e",
   "metadata": {},
   "outputs": [
    {
     "data": {
      "text/plain": [
       "{'id_': 1, 'first_name': None, 'last_name': 'Fourier', 'age': 62}"
      ]
     },
     "execution_count": 10,
     "metadata": {},
     "output_type": "execute_result"
    }
   ],
   "source": [
    "p.model_dump()"
   ]
  },
  {
   "cell_type": "code",
   "execution_count": 11,
   "id": "0405fbea-b4fb-4267-a9ce-86e241fe61a4",
   "metadata": {},
   "outputs": [
    {
     "data": {
      "text/plain": [
       "{'ID_': 1, 'FIRST_NAME': None, 'LAST_NAME': 'Fourier', 'AGE': 62}"
      ]
     },
     "execution_count": 11,
     "metadata": {},
     "output_type": "execute_result"
    }
   ],
   "source": [
    "p.model_dump(by_alias=True)"
   ]
  },
  {
   "cell_type": "markdown",
   "id": "cf88d68b-1814-4424-886a-8290e011161b",
   "metadata": {},
   "source": [
    "You'll notice how `id_`'s alias became `ID_` - maybe we don't want that, in which case we can override it:"
   ]
  },
  {
   "cell_type": "code",
   "execution_count": 12,
   "id": "3d19b695-0e28-413a-9b07-63519a15ea91",
   "metadata": {},
   "outputs": [],
   "source": [
    "class Person(BaseModel):\n",
    "    model_config = ConfigDict(alias_generator=make_upper)\n",
    "\n",
    "    id_: int = Field(alias=\"ID\")\n",
    "    first_name: str | None = None\n",
    "    last_name: str\n",
    "    age: int | None = None"
   ]
  },
  {
   "cell_type": "code",
   "execution_count": 13,
   "id": "c330d1b2-6465-4de7-b499-01c3920b91bf",
   "metadata": {},
   "outputs": [
    {
     "data": {
      "text/plain": [
       "{'id_': FieldInfo(annotation=int, required=True, alias='ID', alias_priority=2),\n",
       " 'first_name': FieldInfo(annotation=Union[str, NoneType], required=False, alias='FIRST_NAME'),\n",
       " 'last_name': FieldInfo(annotation=str, required=True, alias='LAST_NAME'),\n",
       " 'age': FieldInfo(annotation=Union[int, NoneType], required=False, alias='AGE')}"
      ]
     },
     "execution_count": 13,
     "metadata": {},
     "output_type": "execute_result"
    }
   ],
   "source": [
    "Person.model_fields"
   ]
  },
  {
   "cell_type": "code",
   "execution_count": 14,
   "id": "aa1aa430-0ab6-42e5-8b00-4ed3f7abf422",
   "metadata": {},
   "outputs": [
    {
     "data": {
      "text/plain": [
       "Person(id_=1, first_name=None, last_name='Fourier', age=62)"
      ]
     },
     "execution_count": 14,
     "metadata": {},
     "output_type": "execute_result"
    }
   ],
   "source": [
    "p = Person(ID=1, LAST_NAME=\"Fourier\", AGE=62)\n",
    "p"
   ]
  },
  {
   "cell_type": "code",
   "execution_count": 15,
   "id": "8778f75d-e1f9-42f6-bfb3-3294d0be9758",
   "metadata": {},
   "outputs": [
    {
     "data": {
      "text/plain": [
       "{'id_': 1, 'first_name': None, 'last_name': 'Fourier', 'age': 62}"
      ]
     },
     "execution_count": 15,
     "metadata": {},
     "output_type": "execute_result"
    }
   ],
   "source": [
    "p.model_dump()"
   ]
  },
  {
   "cell_type": "code",
   "execution_count": 16,
   "id": "adc4ae0f-7bd0-42e8-8e04-16f773c91d22",
   "metadata": {},
   "outputs": [
    {
     "data": {
      "text/plain": [
       "{'ID': 1, 'FIRST_NAME': None, 'LAST_NAME': 'Fourier', 'AGE': 62}"
      ]
     },
     "execution_count": 16,
     "metadata": {},
     "output_type": "execute_result"
    }
   ],
   "source": [
    "p.model_dump(by_alias=True)"
   ]
  },
  {
   "cell_type": "markdown",
   "id": "d56ec624-abc0-4403-ad6f-fd68e7072c22",
   "metadata": {},
   "source": [
    "Normally, we simply want our aliases to be camel case versions of the field names - so we can simply use on of Pydantic's utility functions, the `to_camel` function:"
   ]
  },
  {
   "cell_type": "code",
   "execution_count": 17,
   "id": "0b5e8864-a3f3-48f0-aa07-f3ded631cd13",
   "metadata": {},
   "outputs": [],
   "source": [
    "class Person(BaseModel):\n",
    "    model_config = ConfigDict(alias_generator=to_camel)\n",
    "\n",
    "    id_: int = Field(alias=\"id\")\n",
    "    first_name: str | None = None\n",
    "    last_name: str\n",
    "    age: int | None = None"
   ]
  },
  {
   "cell_type": "markdown",
   "id": "172a40f2-0571-4a9b-925f-5bc68eaabbda",
   "metadata": {},
   "source": [
    "We can inspect the fields:"
   ]
  },
  {
   "cell_type": "code",
   "execution_count": 18,
   "id": "82663aea-2675-46fd-9694-cc77f3f83d48",
   "metadata": {},
   "outputs": [
    {
     "data": {
      "text/plain": [
       "{'id_': FieldInfo(annotation=int, required=True, alias='id', alias_priority=2),\n",
       " 'first_name': FieldInfo(annotation=Union[str, NoneType], required=False, alias='firstName'),\n",
       " 'last_name': FieldInfo(annotation=str, required=True, alias='lastName'),\n",
       " 'age': FieldInfo(annotation=Union[int, NoneType], required=False, alias='age')}"
      ]
     },
     "execution_count": 18,
     "metadata": {},
     "output_type": "execute_result"
    }
   ],
   "source": [
    "Person.model_fields"
   ]
  },
  {
   "cell_type": "markdown",
   "id": "be7caeb0-21c1-409b-bdc1-c538a1f213ef",
   "metadata": {},
   "source": [
    "As you can see we have the desired aliases, and use them in the usual manner:"
   ]
  },
  {
   "cell_type": "code",
   "execution_count": 19,
   "id": "bcfe9c22-2d45-409c-bcee-677e4fe63f68",
   "metadata": {},
   "outputs": [
    {
     "data": {
      "text/plain": [
       "Person(id_=1, first_name=None, last_name='Fourier', age=62)"
      ]
     },
     "execution_count": 19,
     "metadata": {},
     "output_type": "execute_result"
    }
   ],
   "source": [
    "p = Person(id=1, lastName=\"Fourier\", age=62)\n",
    "p"
   ]
  },
  {
   "cell_type": "code",
   "execution_count": 20,
   "id": "410d0fdf-a75b-4b53-a9bd-4df6aa3a7f9e",
   "metadata": {},
   "outputs": [
    {
     "data": {
      "text/plain": [
       "{'id_': 1, 'first_name': None, 'last_name': 'Fourier', 'age': 62}"
      ]
     },
     "execution_count": 20,
     "metadata": {},
     "output_type": "execute_result"
    }
   ],
   "source": [
    "p.model_dump()"
   ]
  },
  {
   "cell_type": "code",
   "execution_count": 21,
   "id": "8b23fafa-8abe-4722-9487-a75351c4f768",
   "metadata": {},
   "outputs": [
    {
     "data": {
      "text/plain": [
       "{'id': 1, 'firstName': None, 'lastName': 'Fourier', 'age': 62}"
      ]
     },
     "execution_count": 21,
     "metadata": {},
     "output_type": "execute_result"
    }
   ],
   "source": [
    "p.model_dump(by_alias=True)"
   ]
  },
  {
   "cell_type": "markdown",
   "id": "e04c7e5e-2c94-4d52-affd-680c65edf56e",
   "metadata": {},
   "source": [
    "It is customary, when the data we are deserializing contains Python reserved words, to simply define the field name as that name with an underscore (`_`) appended to the field name, e.g.:\n",
    "- `id` -> `id_`\n",
    "- `list` -> `list_`\n",
    "- `filter` -> `filter_`"
   ]
  },
  {
   "cell_type": "markdown",
   "id": "6b595fde-9e4e-452d-ad81-4643d431dd42",
   "metadata": {},
   "source": [
    "We could certainly use the method we just saw, setting an alias generator, and overriding these special cases one by one:"
   ]
  },
  {
   "cell_type": "code",
   "execution_count": 22,
   "id": "51b69d8b-e721-4e9c-9287-981e7b921ae5",
   "metadata": {},
   "outputs": [],
   "source": [
    "class Model(BaseModel):\n",
    "    model_config = ConfigDict(alias_generator=to_camel)\n",
    "\n",
    "    id_: int = Field(alias=\"id\")\n",
    "    list_: list[str] = Field(alias=\"list\")\n",
    "    filter_: dict = Field(alias=\"filter\")\n",
    "    number_elements: list[int]"
   ]
  },
  {
   "cell_type": "markdown",
   "id": "28bae0b5-4d8d-4823-b27f-0791f82879dc",
   "metadata": {},
   "source": [
    "When we do this we have the following aliases:"
   ]
  },
  {
   "cell_type": "code",
   "execution_count": 23,
   "id": "1b0e08be-755e-4ad8-ae14-64cedb45bb9f",
   "metadata": {},
   "outputs": [
    {
     "data": {
      "text/plain": [
       "{'id_': FieldInfo(annotation=int, required=True, alias='id', alias_priority=2),\n",
       " 'list_': FieldInfo(annotation=list[str], required=True, alias='list', alias_priority=2),\n",
       " 'filter_': FieldInfo(annotation=dict, required=True, alias='filter', alias_priority=2),\n",
       " 'number_elements': FieldInfo(annotation=list[int], required=True, alias='numberElements')}"
      ]
     },
     "execution_count": 23,
     "metadata": {},
     "output_type": "execute_result"
    }
   ],
   "source": [
    "Model.model_fields"
   ]
  },
  {
   "cell_type": "markdown",
   "id": "599bd25d-3b90-4d00-a628-0a5072e13f24",
   "metadata": {},
   "source": [
    "But since we are completely consistent with how we generate these aliases (basically we convert to camel case, then strip our any trailing underscore), we could actually do this completely with a custom alias generator function:"
   ]
  },
  {
   "cell_type": "code",
   "execution_count": 24,
   "id": "a366a389-dca8-48da-9ad5-f9fd7d8c2f03",
   "metadata": {},
   "outputs": [],
   "source": [
    "def make_alias(field_name: str) -> str:\n",
    "    alias = to_camel(field_name)\n",
    "    return alias.removesuffix(\"_\")"
   ]
  },
  {
   "cell_type": "code",
   "execution_count": 25,
   "id": "dae5ac85-1d9a-48fd-a29e-cdab7ca5cfc4",
   "metadata": {},
   "outputs": [
    {
     "data": {
      "text/plain": [
       "'id'"
      ]
     },
     "execution_count": 25,
     "metadata": {},
     "output_type": "execute_result"
    }
   ],
   "source": [
    "make_alias(\"id_\")"
   ]
  },
  {
   "cell_type": "code",
   "execution_count": 26,
   "id": "1812a61a-923c-42a7-8221-c8ff254b9d82",
   "metadata": {},
   "outputs": [
    {
     "data": {
      "text/plain": [
       "'numberElements'"
      ]
     },
     "execution_count": 26,
     "metadata": {},
     "output_type": "execute_result"
    }
   ],
   "source": [
    "make_alias(\"number_elements\")"
   ]
  },
  {
   "cell_type": "markdown",
   "id": "5253aa3f-ccde-470e-a655-80026472f7f5",
   "metadata": {},
   "source": [
    "And let's use this unction for our model now:"
   ]
  },
  {
   "cell_type": "code",
   "execution_count": 27,
   "id": "a0c69ae6-d4df-4fcc-abba-68b078224cf4",
   "metadata": {},
   "outputs": [],
   "source": [
    "class Model(BaseModel):\n",
    "    model_config = ConfigDict(alias_generator=make_alias)\n",
    "\n",
    "    id_: int\n",
    "    list_: list[str]\n",
    "    filter_: dict\n",
    "    number_elements: list[int]"
   ]
  },
  {
   "cell_type": "code",
   "execution_count": 28,
   "id": "c4ff8b5a-f167-4c48-9b86-b6713192d0a5",
   "metadata": {},
   "outputs": [
    {
     "data": {
      "text/plain": [
       "{'id_': FieldInfo(annotation=int, required=True, alias='id'),\n",
       " 'list_': FieldInfo(annotation=list[str], required=True, alias='list'),\n",
       " 'filter_': FieldInfo(annotation=dict, required=True, alias='filter'),\n",
       " 'number_elements': FieldInfo(annotation=list[int], required=True, alias='numberElements')}"
      ]
     },
     "execution_count": 28,
     "metadata": {},
     "output_type": "execute_result"
    }
   ],
   "source": [
    "Model.model_fields"
   ]
  },
  {
   "cell_type": "code",
   "execution_count": null,
   "id": "a4a9c009-513b-48c4-ac02-1e8d441d84bb",
   "metadata": {},
   "outputs": [],
   "source": []
  }
 ],
 "metadata": {
  "kernelspec": {
   "display_name": "Python 3 (ipykernel)",
   "language": "python",
   "name": "python3"
  },
  "language_info": {
   "codemirror_mode": {
    "name": "ipython",
    "version": 3
   },
   "file_extension": ".py",
   "mimetype": "text/x-python",
   "name": "python",
   "nbconvert_exporter": "python",
   "pygments_lexer": "ipython3",
   "version": "3.12.0"
  }
 },
 "nbformat": 4,
 "nbformat_minor": 5
}
