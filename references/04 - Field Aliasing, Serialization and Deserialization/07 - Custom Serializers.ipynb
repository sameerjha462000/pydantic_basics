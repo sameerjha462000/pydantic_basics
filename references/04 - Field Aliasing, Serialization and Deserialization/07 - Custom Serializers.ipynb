{
 "cells": [
  {
   "cell_type": "markdown",
   "id": "6bda956d-3a03-4fad-9822-c175fe803a99",
   "metadata": {},
   "source": [
    "# Custom Serializers"
   ]
  },
  {
   "cell_type": "markdown",
   "id": "9583284f-a848-4129-b31c-1b8eda1ee9ca",
   "metadata": {},
   "source": [
    "So far we have been happy with the way Pydantic serializes field values.\n",
    "\n",
    "But sometimes, especially with certain data types, like datetimes, we may want to control how fields get serialized.\n",
    "\n",
    "A typical example is to specify how a date or datetime object might get serialized.\n",
    "\n",
    "Another example might be standardizing the number of decimal places used for floats.\n",
    "\n",
    "Whatever your need is, you can control how field data gets serialized very easily."
   ]
  },
  {
   "cell_type": "markdown",
   "id": "d006669f-bf8c-47de-bbcf-1309fc74fe23",
   "metadata": {},
   "source": [
    "We'll need to use a **decorator** function provided by Pydantic, called `@field_serializer` which is used to control serialization at the field level."
   ]
  },
  {
   "cell_type": "code",
   "execution_count": 1,
   "id": "4c156de5-29d5-48c8-b4e6-6c4d69259bfb",
   "metadata": {},
   "outputs": [],
   "source": [
    "from pydantic import BaseModel, field_serializer"
   ]
  },
  {
   "cell_type": "markdown",
   "id": "f8ca3ca3-42e8-4168-a194-ed504d02b1c4",
   "metadata": {},
   "source": [
    "The decorator has several arguments that defines which field the serializer applies to and how the serializer needs to be applied."
   ]
  },
  {
   "cell_type": "markdown",
   "id": "91206206-7ba5-4649-9984-32252df48a97",
   "metadata": {},
   "source": [
    "One important option is:\n",
    "- `when_used`: by default the custom serializer is always used, but we have other options available:\n",
    "    - `always`: the default, serializer is executed when serializing either to a dict or to JSON\n",
    "    - `unless-none`: serializer is not used if the value is None\n",
    "    - `json`: serializer is only used when serializing to JSON\n",
    "    - `json-unless-none`: serializer used when serializing to JSON, unless the value is None"
   ]
  },
  {
   "cell_type": "markdown",
   "id": "3b7e3df3-7ce6-464b-9095-1d9464c0729f",
   "metadata": {},
   "source": [
    "There is also another option for mode plain vs wrap, but this is rarely used, and I won't cover it in this course."
   ]
  },
  {
   "cell_type": "markdown",
   "id": "4f5c0e3a-ad93-487b-ab30-5b8fd933b874",
   "metadata": {},
   "source": [
    "Let's take a look the `when_used` option and understand the circumstances when our serializer gets called."
   ]
  },
  {
   "cell_type": "code",
   "execution_count": 2,
   "id": "18bfff0d-895f-4bee-b049-ced51cc24c75",
   "metadata": {},
   "outputs": [],
   "source": [
    "from datetime import datetime\n",
    "\n",
    "class Model(BaseModel):\n",
    "    dt: datetime | None = None\n",
    "\n",
    "    @field_serializer(\"dt\", when_used=\"always\")\n",
    "    def serialize_name(self, value):\n",
    "        print(f\"type = {type(value)}\")\n",
    "        return value"
   ]
  },
  {
   "cell_type": "code",
   "execution_count": 3,
   "id": "e8265751-df54-4c46-af46-4a3ec0e247cd",
   "metadata": {},
   "outputs": [
    {
     "data": {
      "text/plain": [
       "Model(dt=datetime.datetime(2020, 1, 1, 12, 0))"
      ]
     },
     "execution_count": 3,
     "metadata": {},
     "output_type": "execute_result"
    }
   ],
   "source": [
    "m = Model(dt=\"2020-01-01T12:00:00\")\n",
    "m"
   ]
  },
  {
   "cell_type": "markdown",
   "id": "268a627d-f9e9-4bef-ae57-1b783868ca07",
   "metadata": {},
   "source": [
    "So, first thing to realize is that the serializer will run once the model has been populated - which means that `value` in our arguments will be of the valid type (or `None` in our specific example since we made the field nullable)."
   ]
  },
  {
   "cell_type": "code",
   "execution_count": 4,
   "id": "76116cc8-8aa3-4c22-954b-73a316e78077",
   "metadata": {},
   "outputs": [
    {
     "name": "stdout",
     "output_type": "stream",
     "text": [
      "type = <class 'datetime.datetime'>\n"
     ]
    },
    {
     "data": {
      "text/plain": [
       "{'dt': datetime.datetime(2020, 1, 1, 12, 0)}"
      ]
     },
     "execution_count": 4,
     "metadata": {},
     "output_type": "execute_result"
    }
   ],
   "source": [
    "m.model_dump()"
   ]
  },
  {
   "cell_type": "markdown",
   "id": "afb2c66d-b1a2-4089-b16d-c07aeb08e010",
   "metadata": {},
   "source": [
    "As you can see, our serializer was invoked - the return value is what will be used in the serialized output."
   ]
  },
  {
   "cell_type": "markdown",
   "id": "df8584f4-368c-4023-99a8-5cf3837de93e",
   "metadata": {},
   "source": [
    "Let's serialize to JSON and see what happens:"
   ]
  },
  {
   "cell_type": "code",
   "execution_count": 5,
   "id": "ef61db39-ff69-4796-a852-52b978ac0a53",
   "metadata": {},
   "outputs": [
    {
     "name": "stdout",
     "output_type": "stream",
     "text": [
      "type = <class 'datetime.datetime'>\n"
     ]
    },
    {
     "data": {
      "text/plain": [
       "'{\"dt\":\"2020-01-01T12:00:00\"}'"
      ]
     },
     "execution_count": 5,
     "metadata": {},
     "output_type": "execute_result"
    }
   ],
   "source": [
    "m.model_dump_json()"
   ]
  },
  {
   "cell_type": "markdown",
   "id": "1cd873cf-58dd-41c4-8285-be9470bba1c8",
   "metadata": {},
   "source": [
    "The data was correctly serialized, since Pydantic can correctly serialize datetime to JSON (uses ISO standard)."
   ]
  },
  {
   "cell_type": "markdown",
   "id": "503e9d3e-7332-44ca-a237-ae7aeac580e1",
   "metadata": {},
   "source": [
    "However, when serializing to JSON we may not want this datetime representation. \n",
    "\n",
    "We'll get back to that in a minute."
   ]
  },
  {
   "cell_type": "markdown",
   "id": "20e56cf9-7b9c-4e59-914f-000bb845b343",
   "metadata": {},
   "source": [
    "Let's see what happens if the value of `dt` is None:"
   ]
  },
  {
   "cell_type": "code",
   "execution_count": 6,
   "id": "c36a6da4-7386-44aa-95c2-f2469a3f3315",
   "metadata": {},
   "outputs": [
    {
     "data": {
      "text/plain": [
       "Model(dt=None)"
      ]
     },
     "execution_count": 6,
     "metadata": {},
     "output_type": "execute_result"
    }
   ],
   "source": [
    "m = Model()\n",
    "m"
   ]
  },
  {
   "cell_type": "code",
   "execution_count": 7,
   "id": "212c9305-7db6-4b1f-ae7e-3095b658fa0b",
   "metadata": {},
   "outputs": [
    {
     "name": "stdout",
     "output_type": "stream",
     "text": [
      "type = <class 'NoneType'>\n"
     ]
    },
    {
     "data": {
      "text/plain": [
       "{'dt': None}"
      ]
     },
     "execution_count": 7,
     "metadata": {},
     "output_type": "execute_result"
    }
   ],
   "source": [
    "m.model_dump()"
   ]
  },
  {
   "cell_type": "code",
   "execution_count": 8,
   "id": "dc864095-4d8d-4843-b54c-18bb11ed3be4",
   "metadata": {},
   "outputs": [
    {
     "name": "stdout",
     "output_type": "stream",
     "text": [
      "type = <class 'NoneType'>\n"
     ]
    },
    {
     "data": {
      "text/plain": [
       "'{\"dt\":null}'"
      ]
     },
     "execution_count": 8,
     "metadata": {},
     "output_type": "execute_result"
    }
   ],
   "source": [
    "m.model_dump_json()"
   ]
  },
  {
   "cell_type": "markdown",
   "id": "b4b4f9c4-d16b-49da-84d4-3f92083e162a",
   "metadata": {},
   "source": [
    "As you can see, our custom serializer was called in both cases."
   ]
  },
  {
   "cell_type": "markdown",
   "id": "2b7cf894-4493-467e-9710-2d0e8abe41ba",
   "metadata": {},
   "source": [
    "If we don't want to run our custom serializer when the field value is `None`, we can use one of the other `when_used` options:"
   ]
  },
  {
   "cell_type": "code",
   "execution_count": 9,
   "id": "19c2f5d3-fe07-4e51-8bef-b10d0bf76eec",
   "metadata": {},
   "outputs": [],
   "source": [
    "from datetime import datetime\n",
    "\n",
    "class Model(BaseModel):\n",
    "    dt: datetime | None = None\n",
    "\n",
    "    @field_serializer(\"dt\", when_used=\"unless-none\")\n",
    "    def serialize_name(self, value):\n",
    "        print(f\"type = {type(value)}\")\n",
    "        return value"
   ]
  },
  {
   "cell_type": "code",
   "execution_count": 10,
   "id": "f65f57dc-efb8-4d9a-a8dd-e9509a3d8a2b",
   "metadata": {},
   "outputs": [
    {
     "data": {
      "text/plain": [
       "Model(dt=datetime.datetime(2020, 1, 1, 12, 0))"
      ]
     },
     "execution_count": 10,
     "metadata": {},
     "output_type": "execute_result"
    }
   ],
   "source": [
    "m = Model(dt=\"2020-01-01T12:00:00\")\n",
    "m"
   ]
  },
  {
   "cell_type": "code",
   "execution_count": 11,
   "id": "0ffe09c8-f0e9-40e3-8d59-88a7630baeac",
   "metadata": {},
   "outputs": [
    {
     "name": "stdout",
     "output_type": "stream",
     "text": [
      "type = <class 'datetime.datetime'>\n"
     ]
    },
    {
     "data": {
      "text/plain": [
       "{'dt': datetime.datetime(2020, 1, 1, 12, 0)}"
      ]
     },
     "execution_count": 11,
     "metadata": {},
     "output_type": "execute_result"
    }
   ],
   "source": [
    "m.model_dump()"
   ]
  },
  {
   "cell_type": "code",
   "execution_count": 12,
   "id": "b974bbb9-f9b4-4ce4-a198-12e3ccef8d2b",
   "metadata": {},
   "outputs": [
    {
     "data": {
      "text/plain": [
       "Model(dt=None)"
      ]
     },
     "execution_count": 12,
     "metadata": {},
     "output_type": "execute_result"
    }
   ],
   "source": [
    "m = Model()\n",
    "m"
   ]
  },
  {
   "cell_type": "code",
   "execution_count": 13,
   "id": "30525ae0-f4c4-4aec-9f8a-f6d218273ba6",
   "metadata": {},
   "outputs": [
    {
     "data": {
      "text/plain": [
       "{'dt': None}"
      ]
     },
     "execution_count": 13,
     "metadata": {},
     "output_type": "execute_result"
    }
   ],
   "source": [
    "m.model_dump()"
   ]
  },
  {
   "cell_type": "code",
   "execution_count": 14,
   "id": "79a835d2-11db-41b2-8849-ae8f3d19cc07",
   "metadata": {},
   "outputs": [
    {
     "data": {
      "text/plain": [
       "'{\"dt\":null}'"
      ]
     },
     "execution_count": 14,
     "metadata": {},
     "output_type": "execute_result"
    }
   ],
   "source": [
    "m.model_dump_json()"
   ]
  },
  {
   "cell_type": "markdown",
   "id": "9c2d46cc-0d52-4c9b-a93f-3f49d2fa733c",
   "metadata": {},
   "source": [
    "As you can see, our serializer did not get called when `dt` was `None`."
   ]
  },
  {
   "cell_type": "markdown",
   "id": "4bb76061-9503-475e-8514-5eac730ed3b2",
   "metadata": {},
   "source": [
    "Let's go back to the case where we only want to change the serialization when serializing to JSON. We might be OK with the dictionary serialization, but for our JSON output we want to modify the datetime format to be formatted like this:\n",
    "\n",
    "```\n",
    "2020/1/1 12:00 PM\n",
    "```"
   ]
  },
  {
   "cell_type": "markdown",
   "id": "062c7190-3df0-481b-a34f-ed695b133e43",
   "metadata": {},
   "source": [
    "We can use the `strftime()` method to do this:"
   ]
  },
  {
   "cell_type": "code",
   "execution_count": 15,
   "id": "7bed0902-4334-405e-a0cb-cdfe9037e285",
   "metadata": {},
   "outputs": [
    {
     "data": {
      "text/plain": [
       "'2020-01-01T12:00:00'"
      ]
     },
     "execution_count": 15,
     "metadata": {},
     "output_type": "execute_result"
    }
   ],
   "source": [
    "dt = datetime(2020, 1, 1, 12, 0, 0)\n",
    "dt.isoformat()"
   ]
  },
  {
   "cell_type": "code",
   "execution_count": 16,
   "id": "c6ac0338-9baa-4eee-9d22-0ae86cc6c09e",
   "metadata": {},
   "outputs": [
    {
     "data": {
      "text/plain": [
       "'2020/1/1 12:00 PM'"
      ]
     },
     "execution_count": 16,
     "metadata": {},
     "output_type": "execute_result"
    }
   ],
   "source": [
    "dt.strftime(\"%Y/%-m/%-d %I:%M %p\")"
   ]
  },
  {
   "cell_type": "markdown",
   "id": "28f08ed3-484a-4538-a51a-1327b95052c7",
   "metadata": {},
   "source": [
    "So, let's use this in our serializer, and configure the serializer to only apply to JSON serialization, and not when the value is None:"
   ]
  },
  {
   "cell_type": "code",
   "execution_count": 17,
   "id": "95f78cce-9a48-4754-9b20-e571fb1a829e",
   "metadata": {},
   "outputs": [],
   "source": [
    "from datetime import datetime\n",
    "\n",
    "class Model(BaseModel):\n",
    "    dt: datetime | None = None\n",
    "\n",
    "    @field_serializer(\"dt\", when_used=\"json-unless-none\")\n",
    "    def serialize_name(self, value):\n",
    "        print(f\"type = {type(value)}\")\n",
    "        return value.strftime(\"%Y/%-m/%-d %I:%M %p\")"
   ]
  },
  {
   "cell_type": "code",
   "execution_count": 18,
   "id": "2fbbf6f9-7d33-46f0-88dd-ba8fdc510a56",
   "metadata": {},
   "outputs": [
    {
     "data": {
      "text/plain": [
       "Model(dt=datetime.datetime(2020, 1, 1, 12, 0))"
      ]
     },
     "execution_count": 18,
     "metadata": {},
     "output_type": "execute_result"
    }
   ],
   "source": [
    "m = Model(dt=\"2020-01-01T12:00:00\")\n",
    "m"
   ]
  },
  {
   "cell_type": "code",
   "execution_count": 19,
   "id": "b5474459-7a57-4c8c-a88c-22f82da42bd0",
   "metadata": {},
   "outputs": [
    {
     "data": {
      "text/plain": [
       "{'dt': datetime.datetime(2020, 1, 1, 12, 0)}"
      ]
     },
     "execution_count": 19,
     "metadata": {},
     "output_type": "execute_result"
    }
   ],
   "source": [
    "m.model_dump()"
   ]
  },
  {
   "cell_type": "markdown",
   "id": "ac924b51-4f90-480c-87fb-7284a6ac4c8f",
   "metadata": {},
   "source": [
    "As you can see, serializing to a dictionary did not run our serializer.\n",
    "\n",
    "However, when serializing to JSON:"
   ]
  },
  {
   "cell_type": "code",
   "execution_count": 20,
   "id": "f2939c20-3036-406a-acf0-a8356b78a55c",
   "metadata": {},
   "outputs": [
    {
     "name": "stdout",
     "output_type": "stream",
     "text": [
      "type = <class 'datetime.datetime'>\n"
     ]
    },
    {
     "data": {
      "text/plain": [
       "'{\"dt\":\"2020/1/1 12:00 PM\"}'"
      ]
     },
     "execution_count": 20,
     "metadata": {},
     "output_type": "execute_result"
    }
   ],
   "source": [
    "m.model_dump_json()"
   ]
  },
  {
   "cell_type": "markdown",
   "id": "80707f66-0b8d-48e7-abf3-a14c4bc30cce",
   "metadata": {},
   "source": [
    "And, because of our configuration, the serializer will not be invoked if the value is `None`:"
   ]
  },
  {
   "cell_type": "code",
   "execution_count": 21,
   "id": "d628c0e4-967c-4d46-b65f-4b043beb2822",
   "metadata": {},
   "outputs": [
    {
     "data": {
      "text/plain": [
       "Model(dt=None)"
      ]
     },
     "execution_count": 21,
     "metadata": {},
     "output_type": "execute_result"
    }
   ],
   "source": [
    "m = Model()\n",
    "m"
   ]
  },
  {
   "cell_type": "code",
   "execution_count": 22,
   "id": "8fef963b-933d-44aa-8dd0-6dc6c33c09de",
   "metadata": {},
   "outputs": [
    {
     "data": {
      "text/plain": [
       "'{\"dt\":null}'"
      ]
     },
     "execution_count": 22,
     "metadata": {},
     "output_type": "execute_result"
    }
   ],
   "source": [
    "m.model_dump_json()"
   ]
  },
  {
   "cell_type": "markdown",
   "id": "a43e5820-1617-4949-a572-250b1d0cb03a",
   "metadata": {},
   "source": [
    "Now suppose we want to implement a different serialization depending on whether we are serializing to a dictionary or to JSON.\n",
    "\n",
    "We need to somehow be able to figure out, inside our serializer whhich serialization we are performing and react accordingly.\n",
    "\n",
    "Pydantic implements yet another argument that we can add to our serializer function - an argument with type `FieldSerializationInfo`. Let's take a look:"
   ]
  },
  {
   "cell_type": "code",
   "execution_count": 23,
   "id": "2fd355c1-8833-4a2f-86a6-6a9d519c2233",
   "metadata": {},
   "outputs": [],
   "source": [
    "from pydantic import FieldSerializationInfo"
   ]
  },
  {
   "cell_type": "code",
   "execution_count": 24,
   "id": "a5ab5a8b-6ece-4a61-bd14-87e3ac4a452b",
   "metadata": {},
   "outputs": [],
   "source": [
    "class Model(BaseModel):\n",
    "    dt: datetime | None = None\n",
    "\n",
    "    @field_serializer(\"dt\", when_used=\"unless-none\")\n",
    "    def dt_serializer(self, value, info: FieldSerializationInfo):\n",
    "        print(f\"info={info}\")\n",
    "        return value"
   ]
  },
  {
   "cell_type": "code",
   "execution_count": 25,
   "id": "563d6f96-1724-4418-aab1-d4fa1233870b",
   "metadata": {},
   "outputs": [
    {
     "data": {
      "text/plain": [
       "Model(dt=datetime.datetime(2020, 1, 1, 0, 0))"
      ]
     },
     "execution_count": 25,
     "metadata": {},
     "output_type": "execute_result"
    }
   ],
   "source": [
    "m = Model(dt=datetime(2020, 1, 1))\n",
    "m"
   ]
  },
  {
   "cell_type": "code",
   "execution_count": 26,
   "id": "85e4f952-3fe6-4e06-8572-e682b7619cf0",
   "metadata": {},
   "outputs": [
    {
     "name": "stdout",
     "output_type": "stream",
     "text": [
      "info=SerializationInfo(include=None, exclude=None, mode='python', by_alias=False, exclude_unset=False, exclude_defaults=False, exclude_none=False, round_trip=False)\n"
     ]
    },
    {
     "data": {
      "text/plain": [
       "{'dt': datetime.datetime(2020, 1, 1, 0, 0)}"
      ]
     },
     "execution_count": 26,
     "metadata": {},
     "output_type": "execute_result"
    }
   ],
   "source": [
    "m.model_dump()"
   ]
  },
  {
   "cell_type": "markdown",
   "id": "13a73caf-ad7e-491f-9415-fdb5f44620a8",
   "metadata": {},
   "source": [
    "Notice that `mode` value in the `info` object? It is set to `python`."
   ]
  },
  {
   "cell_type": "markdown",
   "id": "3a4817f9-1079-452d-ae57-a1f840252b02",
   "metadata": {},
   "source": [
    "Now, let's dump to JSON:"
   ]
  },
  {
   "cell_type": "code",
   "execution_count": 27,
   "id": "8be7cc43-4f77-45cd-a13d-6f5d907658ff",
   "metadata": {},
   "outputs": [
    {
     "name": "stdout",
     "output_type": "stream",
     "text": [
      "info=SerializationInfo(include=None, exclude=None, mode='json', by_alias=False, exclude_unset=False, exclude_defaults=False, exclude_none=False, round_trip=False)\n"
     ]
    },
    {
     "data": {
      "text/plain": [
       "'{\"dt\":\"2020-01-01T00:00:00\"}'"
      ]
     },
     "execution_count": 27,
     "metadata": {},
     "output_type": "execute_result"
    }
   ],
   "source": [
    "m.model_dump_json()"
   ]
  },
  {
   "cell_type": "markdown",
   "id": "6e737d5e-458d-4635-ad84-88619109a696",
   "metadata": {},
   "source": [
    "Notice that the `mode` is now set to `json`.\n",
    "\n",
    "We could use that, but `FieldSerializationInfo` offers us a method named `mode_is_json` that we can use instead."
   ]
  },
  {
   "cell_type": "code",
   "execution_count": 28,
   "id": "b8afd8d2-ee0b-44f7-b066-d0d3bb6efcb2",
   "metadata": {},
   "outputs": [],
   "source": [
    "class Model(BaseModel):\n",
    "    dt: datetime | None = None\n",
    "\n",
    "    @field_serializer(\"dt\", when_used=\"unless-none\")\n",
    "    def dt_serializer(self, value, info: FieldSerializationInfo):\n",
    "        print(f\"mode_is_json={info.mode_is_json()}\")\n",
    "        return value"
   ]
  },
  {
   "cell_type": "code",
   "execution_count": 29,
   "id": "acad6c11-24b1-428b-be3a-8c3b2630f086",
   "metadata": {},
   "outputs": [],
   "source": [
    "m = Model(dt=datetime(2020, 1, 1))"
   ]
  },
  {
   "cell_type": "code",
   "execution_count": 30,
   "id": "f8a28322-a196-4fab-bc99-53785285e3d0",
   "metadata": {},
   "outputs": [
    {
     "name": "stdout",
     "output_type": "stream",
     "text": [
      "mode_is_json=False\n"
     ]
    },
    {
     "data": {
      "text/plain": [
       "{'dt': datetime.datetime(2020, 1, 1, 0, 0)}"
      ]
     },
     "execution_count": 30,
     "metadata": {},
     "output_type": "execute_result"
    }
   ],
   "source": [
    "m.model_dump()"
   ]
  },
  {
   "cell_type": "code",
   "execution_count": 31,
   "id": "77657811-f2b1-4924-862b-c5fd85112b0e",
   "metadata": {},
   "outputs": [
    {
     "name": "stdout",
     "output_type": "stream",
     "text": [
      "mode_is_json=True\n"
     ]
    },
    {
     "data": {
      "text/plain": [
       "'{\"dt\":\"2020-01-01T00:00:00\"}'"
      ]
     },
     "execution_count": 31,
     "metadata": {},
     "output_type": "execute_result"
    }
   ],
   "source": [
    "m.model_dump_json()"
   ]
  },
  {
   "cell_type": "markdown",
   "id": "e714883b-5ecc-4e47-86d2-3bc519eff4bf",
   "metadata": {},
   "source": [
    "Let's look at a situation where we might want this flexibility."
   ]
  },
  {
   "cell_type": "markdown",
   "id": "63668794-c34b-4b9d-aeeb-409b406f761b",
   "metadata": {},
   "source": [
    "Let's say we want our serializer to ensure that datetime objects are always serialized to timezone aware UTC times. Furthermore, we want the serialized value to use the `Z` notation for UTC times, instead of `+00:00` that Python's `isoformat()` function usually returns.\n",
    "\n",
    "We can easily write Python code to do this, using the `pytz`library.\n",
    "\n",
    "To complete this example, you'll need to make sure you have `pytz` installed in your virtual environment."
   ]
  },
  {
   "cell_type": "markdown",
   "id": "48ec271e-23d0-4720-94f9-07ec76a9c217",
   "metadata": {},
   "source": [
    "Let's write a simple Python function that will do the following, given a datetime object as an argument:\n",
    "- if the datetime is naive, make it aware, and assume the naive datetime was already UTC\n",
    "- if the datetime is aware, change it to be UTC"
   ]
  },
  {
   "cell_type": "code",
   "execution_count": 32,
   "id": "9787553e-c2a4-458d-90c3-efb31638b6ad",
   "metadata": {},
   "outputs": [],
   "source": [
    "import pytz\n",
    "\n",
    "def make_utc(dt: datetime) -> datetime:\n",
    "    if dt.tzinfo is None:\n",
    "        dt = pytz.utc.localize(dt)\n",
    "    else:\n",
    "        dt = dt.astimezone(pytz.utc)\n",
    "    return dt"
   ]
  },
  {
   "cell_type": "markdown",
   "id": "0ca09b89-053b-4ec6-ad49-87465b833302",
   "metadata": {},
   "source": [
    "We can use it this way:"
   ]
  },
  {
   "cell_type": "code",
   "execution_count": 33,
   "id": "3b8adc59-2b9f-4ac5-a111-38520dd37a6b",
   "metadata": {},
   "outputs": [
    {
     "data": {
      "text/plain": [
       "datetime.datetime(2023, 12, 2, 11, 15, 30, 559094, tzinfo=<UTC>)"
      ]
     },
     "execution_count": 33,
     "metadata": {},
     "output_type": "execute_result"
    }
   ],
   "source": [
    "dt = make_utc(datetime.now())\n",
    "dt"
   ]
  },
  {
   "cell_type": "code",
   "execution_count": 34,
   "id": "faf48230-79b4-4343-a86e-c5bbb2c730be",
   "metadata": {},
   "outputs": [
    {
     "data": {
      "text/plain": [
       "'2023-12-02T11:15:30.559094+00:00'"
      ]
     },
     "execution_count": 34,
     "metadata": {},
     "output_type": "execute_result"
    }
   ],
   "source": [
    "dt.isoformat()"
   ]
  },
  {
   "cell_type": "markdown",
   "id": "c448f3d8-ad9a-4469-b9bd-14f87565de40",
   "metadata": {},
   "source": [
    "We need to change the serialized format of this datetime, and since we know it will always be in UTC, this is quite simple:"
   ]
  },
  {
   "cell_type": "code",
   "execution_count": 35,
   "id": "3ad26871-2542-4730-a8d4-061aab919960",
   "metadata": {},
   "outputs": [
    {
     "data": {
      "text/plain": [
       "'2023-12-02T11:15:30Z'"
      ]
     },
     "execution_count": 35,
     "metadata": {},
     "output_type": "execute_result"
    }
   ],
   "source": [
    "dt.strftime(\"%Y-%m-%dT%H:%M:%SZ\")"
   ]
  },
  {
   "cell_type": "markdown",
   "id": "d61b73d2-86a3-45ef-a3f7-065dec19ce9b",
   "metadata": {},
   "source": [
    "Let's make a function for this:"
   ]
  },
  {
   "cell_type": "code",
   "execution_count": 36,
   "id": "9f1e232b-7faa-437c-932f-3af78cdb1532",
   "metadata": {},
   "outputs": [],
   "source": [
    "def dt_utc_json_serializer(dt: datetime) -> str:\n",
    "    dt = make_utc(dt)\n",
    "    return dt.strftime(\"%Y-%m-%dT%H:%M:%SZ\")"
   ]
  },
  {
   "cell_type": "markdown",
   "id": "3677513a-7b56-4877-ac5a-800905ea1eba",
   "metadata": {},
   "source": [
    "And now let's implement this in our custom serializer:"
   ]
  },
  {
   "cell_type": "code",
   "execution_count": 37,
   "id": "5b69d379-a044-44e7-b369-9cc6eca61525",
   "metadata": {},
   "outputs": [],
   "source": [
    "class Model(BaseModel):\n",
    "    dt: datetime | None = None\n",
    "\n",
    "    @field_serializer(\"dt\", when_used=\"unless-none\")\n",
    "    def dt_serializer(self, dt, info: FieldSerializationInfo):\n",
    "        if info.mode_is_json():\n",
    "            return dt_utc_json_serializer(dt)\n",
    "        return make_utc(dt)"
   ]
  },
  {
   "cell_type": "code",
   "execution_count": 38,
   "id": "0e5eff69-f2a3-46e5-9e21-aa892e744e5f",
   "metadata": {},
   "outputs": [
    {
     "data": {
      "text/plain": [
       "Model(dt=datetime.datetime(2020, 1, 1, 0, 0))"
      ]
     },
     "execution_count": 38,
     "metadata": {},
     "output_type": "execute_result"
    }
   ],
   "source": [
    "m = Model(dt=datetime(2020, 1, 1))\n",
    "m"
   ]
  },
  {
   "cell_type": "code",
   "execution_count": 39,
   "id": "f81ea36b-dd32-4789-af89-91832b55d7cb",
   "metadata": {},
   "outputs": [
    {
     "data": {
      "text/plain": [
       "{'dt': datetime.datetime(2020, 1, 1, 0, 0, tzinfo=<UTC>)}"
      ]
     },
     "execution_count": 39,
     "metadata": {},
     "output_type": "execute_result"
    }
   ],
   "source": [
    "m.model_dump()"
   ]
  },
  {
   "cell_type": "code",
   "execution_count": 40,
   "id": "d20c706f-fa3b-488e-9775-9e57ab0a9456",
   "metadata": {},
   "outputs": [
    {
     "data": {
      "text/plain": [
       "'{\"dt\":\"2020-01-01T00:00:00Z\"}'"
      ]
     },
     "execution_count": 40,
     "metadata": {},
     "output_type": "execute_result"
    }
   ],
   "source": [
    "m.model_dump_json()"
   ]
  },
  {
   "cell_type": "markdown",
   "id": "1cb1554d-b3d9-4387-a946-edfbc0be702a",
   "metadata": {},
   "source": [
    "And if we have an aware datetime that is not in UTC already:"
   ]
  },
  {
   "cell_type": "code",
   "execution_count": 41,
   "id": "07cc76c7-5aed-4971-aa16-db16a1f374c7",
   "metadata": {},
   "outputs": [
    {
     "data": {
      "text/plain": [
       "datetime.datetime(2020, 1, 1, 0, 0, tzinfo=<DstTzInfo 'US/Eastern' EST-1 day, 19:00:00 STD>)"
      ]
     },
     "execution_count": 41,
     "metadata": {},
     "output_type": "execute_result"
    }
   ],
   "source": [
    "eastern = pytz.timezone('US/Eastern')\n",
    "dt = eastern.localize(datetime(2020, 1, 1))\n",
    "dt"
   ]
  },
  {
   "cell_type": "markdown",
   "id": "3f346c26-c2ff-4143-9f0a-b4680737e93d",
   "metadata": {},
   "source": [
    "Now let's use it in our model:"
   ]
  },
  {
   "cell_type": "code",
   "execution_count": 42,
   "id": "c51d50bb-4c99-4f29-95b0-31652767d321",
   "metadata": {},
   "outputs": [
    {
     "data": {
      "text/plain": [
       "Model(dt=datetime.datetime(2020, 1, 1, 0, 0, tzinfo=<DstTzInfo 'US/Eastern' EST-1 day, 19:00:00 STD>))"
      ]
     },
     "execution_count": 42,
     "metadata": {},
     "output_type": "execute_result"
    }
   ],
   "source": [
    "m = Model(dt=dt)\n",
    "m"
   ]
  },
  {
   "cell_type": "code",
   "execution_count": 43,
   "id": "f0e06788-51b4-4f3c-8fe2-35d6470fc139",
   "metadata": {},
   "outputs": [
    {
     "data": {
      "text/plain": [
       "{'dt': datetime.datetime(2020, 1, 1, 5, 0, tzinfo=<UTC>)}"
      ]
     },
     "execution_count": 43,
     "metadata": {},
     "output_type": "execute_result"
    }
   ],
   "source": [
    "m.model_dump()"
   ]
  },
  {
   "cell_type": "code",
   "execution_count": 44,
   "id": "b3c03702-be8f-46e9-818c-5d63e84f7475",
   "metadata": {},
   "outputs": [
    {
     "data": {
      "text/plain": [
       "'{\"dt\":\"2020-01-01T05:00:00Z\"}'"
      ]
     },
     "execution_count": 44,
     "metadata": {},
     "output_type": "execute_result"
    }
   ],
   "source": [
    "m.model_dump_json()"
   ]
  },
  {
   "cell_type": "code",
   "execution_count": null,
   "id": "ebe80e4f-0858-43dd-a559-7f49460acea1",
   "metadata": {},
   "outputs": [],
   "source": []
  }
 ],
 "metadata": {
  "kernelspec": {
   "display_name": "Python 3 (ipykernel)",
   "language": "python",
   "name": "python3"
  },
  "language_info": {
   "codemirror_mode": {
    "name": "ipython",
    "version": 3
   },
   "file_extension": ".py",
   "mimetype": "text/x-python",
   "name": "python",
   "nbconvert_exporter": "python",
   "pygments_lexer": "ipython3",
   "version": "3.12.0"
  }
 },
 "nbformat": 4,
 "nbformat_minor": 5
}
