{
 "cells": [
  {
   "cell_type": "markdown",
   "id": "da75b942-705c-42f1-96ac-d5e0a84bf98e",
   "metadata": {},
   "source": [
    "# Deserializing by Field Name or Alias"
   ]
  },
  {
   "cell_type": "markdown",
   "id": "318392f0-5711-4918-ac99-bc1f9605c8de",
   "metadata": {},
   "source": [
    "We saw that when we deserialize data, fields that have an alias defined, must use the aliases in the data.\n",
    "\n",
    "We can modify this behavior, to allow deserializing using either the alias or the field name."
   ]
  },
  {
   "cell_type": "markdown",
   "id": "5da66797-12db-45f6-9db6-88ea7a169d77",
   "metadata": {},
   "source": [
    "We do this by configuring the model using `model_config`."
   ]
  },
  {
   "cell_type": "code",
   "execution_count": 1,
   "id": "9b2dbe36-e588-41c9-a1e1-e9b0d21fb913",
   "metadata": {},
   "outputs": [],
   "source": [
    "from pydantic import BaseModel, ConfigDict, Field, ValidationError"
   ]
  },
  {
   "cell_type": "markdown",
   "id": "24265892-0629-44ad-a48a-39d663eafe59",
   "metadata": {},
   "source": [
    "Let's just check again that deserializing by field name, by default, does not work:"
   ]
  },
  {
   "cell_type": "code",
   "execution_count": 2,
   "id": "9583af82-7093-4e1a-b80d-ad60e0216f0b",
   "metadata": {},
   "outputs": [],
   "source": [
    "class Model(BaseModel):\n",
    "    id_: int = Field(alias=\"id\")\n",
    "    first_name: str = Field(alias=\"firstName\")"
   ]
  },
  {
   "cell_type": "code",
   "execution_count": 3,
   "id": "3ebedf8f-0b56-4f1f-b1b8-d2282805583b",
   "metadata": {},
   "outputs": [
    {
     "name": "stdout",
     "output_type": "stream",
     "text": [
      "2 validation errors for Model\n",
      "id\n",
      "  Field required [type=missing, input_value={'id_': 10, 'first_name': 'Newton'}, input_type=dict]\n",
      "    For further information visit https://errors.pydantic.dev/2.5/v/missing\n",
      "firstName\n",
      "  Field required [type=missing, input_value={'id_': 10, 'first_name': 'Newton'}, input_type=dict]\n",
      "    For further information visit https://errors.pydantic.dev/2.5/v/missing\n"
     ]
    }
   ],
   "source": [
    "try:\n",
    "    Model(id_=10, first_name=\"Newton\")\n",
    "except ValidationError as ex:\n",
    "    print(ex)"
   ]
  },
  {
   "cell_type": "markdown",
   "id": "ea6f8e79-73f0-469a-b248-542da98d1640",
   "metadata": {},
   "source": [
    "And same if we try to deserialize a dict or JSON:"
   ]
  },
  {
   "cell_type": "code",
   "execution_count": 4,
   "id": "77d9f929-cb0a-49cf-8513-c722f99666d1",
   "metadata": {},
   "outputs": [
    {
     "name": "stdout",
     "output_type": "stream",
     "text": [
      "2 validation errors for Model\n",
      "id\n",
      "  Field required [type=missing, input_value={'id_': 10, 'first_name': 'Newton'}, input_type=dict]\n",
      "    For further information visit https://errors.pydantic.dev/2.5/v/missing\n",
      "firstName\n",
      "  Field required [type=missing, input_value={'id_': 10, 'first_name': 'Newton'}, input_type=dict]\n",
      "    For further information visit https://errors.pydantic.dev/2.5/v/missing\n"
     ]
    }
   ],
   "source": [
    "data = {\n",
    "    \"id_\": 10,\n",
    "    \"first_name\": \"Newton\"\n",
    "}\n",
    "\n",
    "try:\n",
    "    Model.model_validate(data)\n",
    "except ValidationError as ex:\n",
    "    print(ex)    "
   ]
  },
  {
   "cell_type": "markdown",
   "id": "fdc0b249-ec23-43d9-af9a-0035c5847b6c",
   "metadata": {},
   "source": [
    "Let's configure our model to allow this:"
   ]
  },
  {
   "cell_type": "code",
   "execution_count": 5,
   "id": "b47a0e93-15bb-416c-afec-292139a6a51c",
   "metadata": {},
   "outputs": [],
   "source": [
    "class Model(BaseModel):\n",
    "    model_config = ConfigDict(populate_by_name=True)\n",
    "    \n",
    "    id_: int = Field(alias=\"id\")\n",
    "    first_name: str = Field(alias=\"firstName\")"
   ]
  },
  {
   "cell_type": "markdown",
   "id": "3f9a4892-0da7-4375-8f44-bb30c7350d4b",
   "metadata": {},
   "source": [
    "And now we can use **either** the field name or the alias:"
   ]
  },
  {
   "cell_type": "code",
   "execution_count": 6,
   "id": "a2843c15-4da7-4e56-99f1-e775882a5d40",
   "metadata": {},
   "outputs": [
    {
     "data": {
      "text/plain": [
       "Model(id_=10, first_name='Newton')"
      ]
     },
     "execution_count": 6,
     "metadata": {},
     "output_type": "execute_result"
    }
   ],
   "source": [
    "Model(id_=10, first_name=\"Newton\")"
   ]
  },
  {
   "cell_type": "markdown",
   "id": "09a309cd-c0f3-4663-bf0c-dc2bcf76c54b",
   "metadata": {},
   "source": [
    "We can even mix it up:"
   ]
  },
  {
   "cell_type": "code",
   "execution_count": 7,
   "id": "c5f347e2-5480-4c4b-b565-6700856f828a",
   "metadata": {},
   "outputs": [
    {
     "data": {
      "text/plain": [
       "Model(id_=10, first_name='Newton')"
      ]
     },
     "execution_count": 7,
     "metadata": {},
     "output_type": "execute_result"
    }
   ],
   "source": [
    "Model(id_=10, firstName=\"Newton\")"
   ]
  },
  {
   "cell_type": "markdown",
   "id": "8dfd86b5-9b22-4bcb-8aac-ebe6b7f61594",
   "metadata": {},
   "source": [
    "And this works with dict or JSON deserialization too:"
   ]
  },
  {
   "cell_type": "code",
   "execution_count": 8,
   "id": "990e5c47-9ad7-4734-b4a7-b80bb318d591",
   "metadata": {},
   "outputs": [
    {
     "data": {
      "text/plain": [
       "Model(id_=10, first_name='Newton')"
      ]
     },
     "execution_count": 8,
     "metadata": {},
     "output_type": "execute_result"
    }
   ],
   "source": [
    "data = {\n",
    "    \"id_\": 10,\n",
    "    \"first_name\": \"Newton\"\n",
    "}\n",
    "\n",
    "Model.model_validate(data)"
   ]
  },
  {
   "cell_type": "markdown",
   "id": "ba52391a-8347-4b1b-b008-8cdbf2829b44",
   "metadata": {},
   "source": [
    "To recap what we have so far for configuring aliases and associated behaviors."
   ]
  },
  {
   "cell_type": "code",
   "execution_count": 9,
   "id": "abc0ef7e-e89f-443b-8e1f-d152774c22c6",
   "metadata": {},
   "outputs": [],
   "source": [
    "from pydantic.alias_generators import to_camel\n",
    "\n",
    "class Person(BaseModel):\n",
    "    model_config = ConfigDict(\n",
    "        alias_generator=to_camel,\n",
    "        populate_by_name=True,\n",
    "        extra=\"forbid\"\n",
    "    )\n",
    "\n",
    "    id_: int = Field(alias=\"id\", default=1)\n",
    "    first_name: str | None = None\n",
    "    last_name: str\n",
    "    age: int | None = None"
   ]
  },
  {
   "cell_type": "code",
   "execution_count": 10,
   "id": "51ed6272-1859-4e0f-af1e-75ca3baeec67",
   "metadata": {},
   "outputs": [
    {
     "data": {
      "text/plain": [
       "Person(id_=10, first_name='Isaac', last_name='Newton', age=84)"
      ]
     },
     "execution_count": 10,
     "metadata": {},
     "output_type": "execute_result"
    }
   ],
   "source": [
    "p = Person(id=10, first_name='Isaac', lastName='Newton', age=84)\n",
    "p"
   ]
  },
  {
   "cell_type": "code",
   "execution_count": 11,
   "id": "30147c5b-06de-4177-9faf-fc2e9e1d8cf1",
   "metadata": {},
   "outputs": [
    {
     "data": {
      "text/plain": [
       "Person(id_=10, first_name='Isaac', last_name='Newton', age=84)"
      ]
     },
     "execution_count": 11,
     "metadata": {},
     "output_type": "execute_result"
    }
   ],
   "source": [
    "data_json = \"\"\"\n",
    "{\n",
    "    \"id\": 10,\n",
    "    \"firstName\": \"Isaac\",\n",
    "    \"last_name\": \"Newton\",\n",
    "    \"age\": 84\n",
    "}\n",
    "\"\"\"\n",
    "\n",
    "p = Person.model_validate_json(data_json)\n",
    "p"
   ]
  },
  {
   "cell_type": "code",
   "execution_count": 12,
   "id": "297778c9-e134-4001-9f78-a00843880956",
   "metadata": {},
   "outputs": [
    {
     "data": {
      "text/plain": [
       "{'id_': 10, 'first_name': 'Isaac', 'last_name': 'Newton', 'age': 84}"
      ]
     },
     "execution_count": 12,
     "metadata": {},
     "output_type": "execute_result"
    }
   ],
   "source": [
    "p.model_dump()"
   ]
  },
  {
   "cell_type": "markdown",
   "id": "9f485912-619c-4307-bafe-0f80f060b5a4",
   "metadata": {},
   "source": [
    "Notice that the `populate_by_name` setting does not affect the names used when deserializing - the default is still to use the field name, not the alias.\n",
    "\n",
    "We need to specifically request this:"
   ]
  },
  {
   "cell_type": "code",
   "execution_count": 13,
   "id": "f5e6fb34-ce2c-4776-8a71-207804740293",
   "metadata": {},
   "outputs": [
    {
     "data": {
      "text/plain": [
       "{'id': 10, 'firstName': 'Isaac', 'lastName': 'Newton', 'age': 84}"
      ]
     },
     "execution_count": 13,
     "metadata": {},
     "output_type": "execute_result"
    }
   ],
   "source": [
    "p.model_dump(by_alias=True)"
   ]
  },
  {
   "cell_type": "code",
   "execution_count": 14,
   "id": "7ec533f5-4dfd-43b1-9209-32e9f8bf864d",
   "metadata": {},
   "outputs": [
    {
     "data": {
      "text/plain": [
       "'{\"id\":10,\"firstName\":\"Isaac\",\"lastName\":\"Newton\",\"age\":84}'"
      ]
     },
     "execution_count": 14,
     "metadata": {},
     "output_type": "execute_result"
    }
   ],
   "source": [
    "p.model_dump_json(by_alias=True)"
   ]
  },
  {
   "cell_type": "code",
   "execution_count": null,
   "id": "94050d33-693b-4d5f-8889-d342b9b8a370",
   "metadata": {},
   "outputs": [],
   "source": []
  }
 ],
 "metadata": {
  "kernelspec": {
   "display_name": "Python 3 (ipykernel)",
   "language": "python",
   "name": "python3"
  },
  "language_info": {
   "codemirror_mode": {
    "name": "ipython",
    "version": 3
   },
   "file_extension": ".py",
   "mimetype": "text/x-python",
   "name": "python",
   "nbconvert_exporter": "python",
   "pygments_lexer": "ipython3",
   "version": "3.12.0"
  }
 },
 "nbformat": 4,
 "nbformat_minor": 5
}
