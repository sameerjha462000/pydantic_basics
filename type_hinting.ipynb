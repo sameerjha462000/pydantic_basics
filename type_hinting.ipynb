{
 "cells": [
  {
   "cell_type": "markdown",
   "id": "ddca734a",
   "metadata": {},
   "source": [
    "# Type Hinting"
   ]
  },
  {
   "cell_type": "code",
   "execution_count": 2,
   "id": "f8c93f55",
   "metadata": {},
   "outputs": [],
   "source": [
    "# Type hinting is used to give hints about the data types of the function parameters\n",
    "# Python does not use static typing so it uses type hints\n",
    "# However, type hint does not check the type of the arguments passed. The code is still compiled by the\n",
    "# python compiler"
   ]
  },
  {
   "cell_type": "code",
   "execution_count": 3,
   "id": "b0496718",
   "metadata": {},
   "outputs": [],
   "source": [
    "def mult(a:int, b:int):\n",
    "    return a * b"
   ]
  },
  {
   "cell_type": "code",
   "execution_count": 4,
   "id": "95dbcfa5",
   "metadata": {},
   "outputs": [
    {
     "data": {
      "text/plain": [
       "12"
      ]
     },
     "execution_count": 4,
     "metadata": {},
     "output_type": "execute_result"
    }
   ],
   "source": [
    "mult(3,4)"
   ]
  },
  {
   "cell_type": "code",
   "execution_count": 5,
   "id": "f4b9f507",
   "metadata": {},
   "outputs": [
    {
     "data": {
      "text/plain": [
       "'aaaaa'"
      ]
     },
     "execution_count": 5,
     "metadata": {},
     "output_type": "execute_result"
    }
   ],
   "source": [
    "# This does not mean that we cannot pass anything other than int.\n",
    "mult('a', 5)"
   ]
  },
  {
   "cell_type": "code",
   "execution_count": 6,
   "id": "0dc11308",
   "metadata": {},
   "outputs": [],
   "source": [
    "# But this does not mean we can give any type according to our wish\n",
    "# The type that we give must be a valid python type"
   ]
  },
  {
   "cell_type": "code",
   "execution_count": 7,
   "id": "03387939",
   "metadata": {},
   "outputs": [
    {
     "ename": "NameError",
     "evalue": "name 'text' is not defined",
     "output_type": "error",
     "traceback": [
      "\u001b[1;31m---------------------------------------------------------------------------\u001b[0m",
      "\u001b[1;31mNameError\u001b[0m                                 Traceback (most recent call last)",
      "Cell \u001b[1;32mIn[7], line 2\u001b[0m\n\u001b[0;32m      1\u001b[0m \u001b[38;5;66;03m# This code would not compile as text is not a valid python type\u001b[39;00m\n\u001b[1;32m----> 2\u001b[0m \u001b[38;5;28;01mdef\u001b[39;00m \u001b[38;5;21mupper_\u001b[39m(name:\u001b[43mtext\u001b[49m):\n\u001b[0;32m      3\u001b[0m     \u001b[38;5;28;01mreturn\u001b[39;00m name\u001b[38;5;241m.\u001b[39mupper()\n",
      "\u001b[1;31mNameError\u001b[0m: name 'text' is not defined"
     ]
    }
   ],
   "source": [
    "# This code would not compile as text is not a valid python type\n",
    "def upper_(name:text):\n",
    "    return name.upper()"
   ]
  },
  {
   "cell_type": "code",
   "execution_count": 8,
   "id": "f4fb6d2c",
   "metadata": {},
   "outputs": [],
   "source": [
    "# We can also give multiple types for the same parameter using the pipe operator\n",
    "def func(a: int | str, b: int):\n",
    "    return a * b"
   ]
  },
  {
   "cell_type": "code",
   "execution_count": 9,
   "id": "67ef4710",
   "metadata": {},
   "outputs": [
    {
     "data": {
      "text/plain": [
       "'aaaaa'"
      ]
     },
     "execution_count": 9,
     "metadata": {},
     "output_type": "execute_result"
    }
   ],
   "source": [
    "func('a', 5)"
   ]
  },
  {
   "cell_type": "code",
   "execution_count": 10,
   "id": "1a6652cb",
   "metadata": {},
   "outputs": [],
   "source": [
    "# However we also have typing module and we can use Union from that for multiple types"
   ]
  },
  {
   "cell_type": "code",
   "execution_count": 11,
   "id": "03eb1791",
   "metadata": {},
   "outputs": [],
   "source": [
    "from typing import Union"
   ]
  },
  {
   "cell_type": "code",
   "execution_count": 12,
   "id": "8cc58186",
   "metadata": {},
   "outputs": [],
   "source": [
    "# This means that a can be an integer or string\n",
    "def func(a : Union[int, str], b : int):\n",
    "    return a * b"
   ]
  },
  {
   "cell_type": "markdown",
   "id": "979352a0",
   "metadata": {},
   "source": [
    "# Mentioning return types"
   ]
  },
  {
   "cell_type": "code",
   "execution_count": 13,
   "id": "3731fce0",
   "metadata": {},
   "outputs": [],
   "source": [
    "def func(a : int, b : int) -> int:\n",
    "    pass"
   ]
  },
  {
   "cell_type": "code",
   "execution_count": 14,
   "id": "2b8893d5",
   "metadata": {},
   "outputs": [],
   "source": [
    "def is_valid_string(a : str) -> bool:\n",
    "    # some logic\n",
    "    pass"
   ]
  },
  {
   "cell_type": "code",
   "execution_count": 15,
   "id": "da7cded3",
   "metadata": {},
   "outputs": [],
   "source": [
    "from math import pi\n",
    "def area(radius : int) -> float:\n",
    "    return pi * radius * radius"
   ]
  },
  {
   "cell_type": "code",
   "execution_count": 16,
   "id": "28ce168d",
   "metadata": {},
   "outputs": [],
   "source": [
    "def greet(name : str) -> str:\n",
    "    return f\"Hi, My name is {name}\""
   ]
  },
  {
   "cell_type": "code",
   "execution_count": 17,
   "id": "9b6e02a3",
   "metadata": {},
   "outputs": [
    {
     "data": {
      "text/plain": [
       "'Hi, My name is Abhishek'"
      ]
     },
     "execution_count": 17,
     "metadata": {},
     "output_type": "execute_result"
    }
   ],
   "source": [
    "greet('Abhishek')"
   ]
  },
  {
   "cell_type": "markdown",
   "id": "9e29ec45",
   "metadata": {},
   "source": [
    "# Type Hinting for lists"
   ]
  },
  {
   "cell_type": "code",
   "execution_count": 18,
   "id": "a20bc340",
   "metadata": {},
   "outputs": [],
   "source": [
    "# To specify generic list we use list "
   ]
  },
  {
   "cell_type": "code",
   "execution_count": 19,
   "id": "66806fe4",
   "metadata": {},
   "outputs": [],
   "source": [
    "# This means that l can be a generic list -- of strings, of integers, of floats\n",
    "def square(l: list) -> list:\n",
    "    return [ele ** 2 for ele in l]"
   ]
  },
  {
   "cell_type": "code",
   "execution_count": 20,
   "id": "c757d8e0",
   "metadata": {},
   "outputs": [],
   "source": [
    "# To specify a specific type of list we may use square bracket notation"
   ]
  },
  {
   "cell_type": "code",
   "execution_count": 21,
   "id": "87d82696",
   "metadata": {},
   "outputs": [],
   "source": [
    "# list[int] == list of integers\n",
    "# list[str] == list of strings\n",
    "def square(l : list[int]) -> list[str]:\n",
    "    return [str(ele ** 2) for ele in l]"
   ]
  },
  {
   "cell_type": "code",
   "execution_count": 22,
   "id": "dec16b97",
   "metadata": {},
   "outputs": [
    {
     "data": {
      "text/plain": [
       "['1', '4', '9', '16']"
      ]
     },
     "execution_count": 22,
     "metadata": {},
     "output_type": "execute_result"
    }
   ],
   "source": [
    "square([1,2,3,4])"
   ]
  },
  {
   "cell_type": "code",
   "execution_count": 23,
   "id": "e9f2bcf1",
   "metadata": {},
   "outputs": [],
   "source": [
    "# we can also use List from the typing module\n",
    "from typing import List"
   ]
  },
  {
   "cell_type": "code",
   "execution_count": 24,
   "id": "6ed410da",
   "metadata": {},
   "outputs": [],
   "source": [
    "def func(l: List):\n",
    "    pass"
   ]
  },
  {
   "cell_type": "code",
   "execution_count": 25,
   "id": "d72e7a5c",
   "metadata": {},
   "outputs": [],
   "source": [
    "# To specify a generic list, we may then again use square bracket notation"
   ]
  },
  {
   "cell_type": "code",
   "execution_count": 26,
   "id": "886def90",
   "metadata": {},
   "outputs": [],
   "source": [
    "def square(l:List[int]) -> List[int]:\n",
    "    return [ele ** 2 for ele in l]"
   ]
  },
  {
   "cell_type": "code",
   "execution_count": 27,
   "id": "05c3eaff",
   "metadata": {},
   "outputs": [
    {
     "data": {
      "text/plain": [
       "[1, 4, 9]"
      ]
     },
     "execution_count": 27,
     "metadata": {},
     "output_type": "execute_result"
    }
   ],
   "source": [
    "square([1,2,3])"
   ]
  },
  {
   "cell_type": "markdown",
   "id": "b8680a63",
   "metadata": {},
   "source": [
    "# Mentioning tuples"
   ]
  },
  {
   "cell_type": "code",
   "execution_count": 28,
   "id": "7b3c263d",
   "metadata": {},
   "outputs": [],
   "source": [
    "# generic tuple\n",
    "def func(t : tuple):\n",
    "    pass"
   ]
  },
  {
   "cell_type": "code",
   "execution_count": 29,
   "id": "2d75aad8",
   "metadata": {},
   "outputs": [],
   "source": [
    "from pydantic import BaseModel\n",
    "\n",
    "# tuple[int] = tuple of single integer\n",
    "class Model(BaseModel):\n",
    "    t: tuple[int]"
   ]
  },
  {
   "cell_type": "code",
   "execution_count": 30,
   "id": "513024b2",
   "metadata": {},
   "outputs": [
    {
     "data": {
      "text/plain": [
       "Model(t=(1,))"
      ]
     },
     "execution_count": 30,
     "metadata": {},
     "output_type": "execute_result"
    }
   ],
   "source": [
    "Model(t = (1,))"
   ]
  },
  {
   "cell_type": "code",
   "execution_count": 31,
   "id": "95722642",
   "metadata": {},
   "outputs": [],
   "source": [
    "# tuple[int, str] = tuple of integer and string\n",
    "def func(t : tuple[int, str]):\n",
    "    pass"
   ]
  },
  {
   "cell_type": "code",
   "execution_count": 32,
   "id": "39ecc44e",
   "metadata": {},
   "outputs": [],
   "source": [
    "from typing import Tuple"
   ]
  },
  {
   "cell_type": "code",
   "execution_count": 33,
   "id": "92dec7db",
   "metadata": {},
   "outputs": [],
   "source": [
    "class Model(BaseModel):\n",
    "    t : Tuple[int]"
   ]
  },
  {
   "cell_type": "code",
   "execution_count": 34,
   "id": "3eb177a4",
   "metadata": {},
   "outputs": [
    {
     "name": "stdout",
     "output_type": "stream",
     "text": [
      "1 validation error for Model\n",
      "t\n",
      "  Tuple should have at most 1 item after validation, not 2 [type=too_long, input_value=(1, 2), input_type=tuple]\n",
      "    For further information visit https://errors.pydantic.dev/2.3/v/too_long\n"
     ]
    }
   ],
   "source": [
    "from pydantic import ValidationError\n",
    "try:\n",
    "    Model(t = (1,2))\n",
    "except ValidationError as ex:\n",
    "    print(ex)"
   ]
  },
  {
   "cell_type": "code",
   "execution_count": 35,
   "id": "d6af8407",
   "metadata": {},
   "outputs": [],
   "source": [
    "# Tuple[int, int] = tuple whose first and second component are integers\n",
    "class Model(BaseModel):\n",
    "    t : Tuple[int, int]"
   ]
  },
  {
   "cell_type": "code",
   "execution_count": 36,
   "id": "519cf46e",
   "metadata": {},
   "outputs": [
    {
     "name": "stdout",
     "output_type": "stream",
     "text": [
      "Model(t=(1, 2))\n"
     ]
    }
   ],
   "source": [
    "try:\n",
    "    m = Model(t = (1,2))\n",
    "    print(m.__repr__())\n",
    "except ValidationError as ex:\n",
    "    print(ex)"
   ]
  },
  {
   "cell_type": "markdown",
   "id": "d6fc52d3",
   "metadata": {},
   "source": [
    "# Mentioning None types"
   ]
  },
  {
   "cell_type": "code",
   "execution_count": 37,
   "id": "24c3f7ed",
   "metadata": {},
   "outputs": [],
   "source": [
    "def func(a : int | None):\n",
    "    pass"
   ]
  },
  {
   "cell_type": "code",
   "execution_count": 38,
   "id": "3cfd03c8",
   "metadata": {},
   "outputs": [],
   "source": [
    "# We can also mention the None types using the Optional from the typing module"
   ]
  },
  {
   "cell_type": "code",
   "execution_count": 39,
   "id": "9c96ce81",
   "metadata": {},
   "outputs": [],
   "source": [
    "from typing import Optional\n",
    "\n",
    "# Optional[int] = int | None\n",
    "def func(a : Optional[int]):\n",
    "    pass"
   ]
  },
  {
   "cell_type": "code",
   "execution_count": 40,
   "id": "85a54d03",
   "metadata": {},
   "outputs": [],
   "source": [
    "def func(a : Union[int, None]):\n",
    "    pass"
   ]
  },
  {
   "cell_type": "markdown",
   "id": "91cd9714",
   "metadata": {},
   "source": [
    "# Mentioning Defaults"
   ]
  },
  {
   "cell_type": "code",
   "execution_count": 41,
   "id": "c52d476d",
   "metadata": {},
   "outputs": [],
   "source": [
    "def func(a : int = 10, b : float = pi, c : bool = True, d : str = ''):\n",
    "    pass"
   ]
  },
  {
   "cell_type": "code",
   "execution_count": 42,
   "id": "870a7379",
   "metadata": {},
   "outputs": [],
   "source": [
    "def func(a: list = [1,'a'], b : list[int] = [2,3,4], c : tuple = (1,2,3), d : tuple[int] = (1,)):\n",
    "    pass"
   ]
  },
  {
   "cell_type": "code",
   "execution_count": 43,
   "id": "c0c6239c",
   "metadata": {},
   "outputs": [],
   "source": [
    "def func(a : tuple[int, str] = (1, 'abhi')):\n",
    "    pass"
   ]
  },
  {
   "cell_type": "markdown",
   "id": "3d486d55",
   "metadata": {},
   "source": [
    "# Mentioning Sequences"
   ]
  },
  {
   "cell_type": "code",
   "execution_count": 44,
   "id": "7fc5539e",
   "metadata": {},
   "outputs": [],
   "source": [
    "from typing import Sequence"
   ]
  },
  {
   "cell_type": "code",
   "execution_count": 45,
   "id": "07bcc2c6",
   "metadata": {},
   "outputs": [],
   "source": [
    "def func(a : Sequence):\n",
    "    pass"
   ]
  },
  {
   "cell_type": "code",
   "execution_count": 46,
   "id": "6cc753e6",
   "metadata": {},
   "outputs": [],
   "source": [
    "# Sequence means that any sequence type like list, tuple, string\n",
    "class Model(BaseModel):\n",
    "    s : Sequence"
   ]
  },
  {
   "cell_type": "code",
   "execution_count": 47,
   "id": "cc5c3e3a",
   "metadata": {},
   "outputs": [],
   "source": [
    "try:\n",
    "    Model(s = 'Abhishek')\n",
    "except ValidationError as ex:\n",
    "    print(ex)"
   ]
  },
  {
   "cell_type": "code",
   "execution_count": 48,
   "id": "16688006",
   "metadata": {},
   "outputs": [],
   "source": [
    "try:\n",
    "    Model(s = [1,2,3,4])\n",
    "except ValidationError as ex:\n",
    "    print(ex)"
   ]
  },
  {
   "cell_type": "code",
   "execution_count": 49,
   "id": "7b617a23",
   "metadata": {},
   "outputs": [],
   "source": [
    "try:\n",
    "    Model(s = (1,2,3))\n",
    "except ValidationError as ex:\n",
    "    print(ex)"
   ]
  },
  {
   "cell_type": "code",
   "execution_count": 50,
   "id": "6b2c39e4",
   "metadata": {},
   "outputs": [
    {
     "name": "stdout",
     "output_type": "stream",
     "text": [
      "1 validation error for Model\n",
      "s\n",
      "  Input should be an instance of Sequence [type=is_instance_of, input_value={1, 2, 3}, input_type=set]\n",
      "    For further information visit https://errors.pydantic.dev/2.3/v/is_instance_of\n"
     ]
    }
   ],
   "source": [
    "try:\n",
    "    Model(s = {1,2,3})\n",
    "except ValidationError as ex:\n",
    "    print(ex)"
   ]
  },
  {
   "cell_type": "code",
   "execution_count": 51,
   "id": "2e66932f",
   "metadata": {},
   "outputs": [
    {
     "name": "stdout",
     "output_type": "stream",
     "text": [
      "1 validation error for Model\n",
      "s\n",
      "  Input should be an instance of Sequence [type=is_instance_of, input_value={'a': 1, 'b': 2}, input_type=dict]\n",
      "    For further information visit https://errors.pydantic.dev/2.3/v/is_instance_of\n"
     ]
    }
   ],
   "source": [
    "try:\n",
    "    Model(s = {'a': 1, 'b': 2})\n",
    "except ValidationError as ex:\n",
    "    print(ex)"
   ]
  },
  {
   "cell_type": "code",
   "execution_count": 52,
   "id": "4f9d68a7",
   "metadata": {},
   "outputs": [],
   "source": [
    "try:\n",
    "    Model(s = range(1,12))\n",
    "except ValidationError as ex:\n",
    "    print(ex)"
   ]
  },
  {
   "cell_type": "code",
   "execution_count": 53,
   "id": "91a735d7",
   "metadata": {},
   "outputs": [],
   "source": [
    "# Sequence[int] means sequence of integers\n",
    "def func(s : Sequence[int]) -> Sequence[str]:\n",
    "    return [str(ele) for ele in s]"
   ]
  },
  {
   "cell_type": "code",
   "execution_count": 54,
   "id": "5f4464f1",
   "metadata": {},
   "outputs": [],
   "source": [
    "class Model(BaseModel):\n",
    "    s : Sequence[int]"
   ]
  },
  {
   "cell_type": "code",
   "execution_count": 55,
   "id": "6cd3e902",
   "metadata": {},
   "outputs": [
    {
     "name": "stdout",
     "output_type": "stream",
     "text": [
      "2 validation errors for Model\n",
      "s.0\n",
      "  Input should be a valid integer, unable to parse string as an integer [type=int_parsing, input_value='a', input_type=str]\n",
      "    For further information visit https://errors.pydantic.dev/2.3/v/int_parsing\n",
      "s.1\n",
      "  Input should be a valid integer, unable to parse string as an integer [type=int_parsing, input_value='b', input_type=str]\n",
      "    For further information visit https://errors.pydantic.dev/2.3/v/int_parsing\n"
     ]
    }
   ],
   "source": [
    "try:\n",
    "    Model(s = ['a', 'b'])\n",
    "except ValidationError as ex:\n",
    "    print(ex)"
   ]
  },
  {
   "cell_type": "markdown",
   "id": "61a174ea",
   "metadata": {},
   "source": [
    "# Mentioning iterables"
   ]
  },
  {
   "cell_type": "code",
   "execution_count": 56,
   "id": "18f0fa1f",
   "metadata": {},
   "outputs": [],
   "source": [
    "from typing import Iterable\n",
    "\n",
    "# use Iterable from collections.abc as it would be deprecated in future from typing module\n",
    "from collections.abc import Iterable"
   ]
  },
  {
   "cell_type": "code",
   "execution_count": 57,
   "id": "7a5717c4",
   "metadata": {},
   "outputs": [],
   "source": [
    "# we know map function from python"
   ]
  },
  {
   "cell_type": "code",
   "execution_count": 58,
   "id": "b777d3d8",
   "metadata": {},
   "outputs": [
    {
     "data": {
      "text/plain": [
       "[1, 4, 9, 16]"
      ]
     },
     "execution_count": 58,
     "metadata": {},
     "output_type": "execute_result"
    }
   ],
   "source": [
    "list(map(lambda x : x ** 2, [1,2,3,4]))"
   ]
  },
  {
   "cell_type": "code",
   "execution_count": 59,
   "id": "f573b9c4",
   "metadata": {},
   "outputs": [],
   "source": [
    "# Now let us create our own custom map\n",
    "def custom_map(f, i : Iterable):\n",
    "    for ele in i:\n",
    "        yield f(ele)"
   ]
  },
  {
   "cell_type": "code",
   "execution_count": 60,
   "id": "0fceffde",
   "metadata": {},
   "outputs": [
    {
     "data": {
      "text/plain": [
       "[1, 4, 9, 16]"
      ]
     },
     "execution_count": 60,
     "metadata": {},
     "output_type": "execute_result"
    }
   ],
   "source": [
    "list(custom_map(lambda x : x ** 2, [1,2,3,4]))"
   ]
  },
  {
   "cell_type": "markdown",
   "id": "d5ea0eb0",
   "metadata": {},
   "source": [
    "# Mentioning Iterators"
   ]
  },
  {
   "cell_type": "code",
   "execution_count": 61,
   "id": "49904716",
   "metadata": {},
   "outputs": [],
   "source": [
    "from typing import Iterator\n",
    "from collections.abc import Iterator"
   ]
  },
  {
   "cell_type": "code",
   "execution_count": 62,
   "id": "9a5c7a82",
   "metadata": {},
   "outputs": [],
   "source": [
    "def custom_map(f, i : Iterable) -> Iterator:\n",
    "    for ele in i:\n",
    "        yield f(ele)"
   ]
  },
  {
   "cell_type": "markdown",
   "id": "060e6623",
   "metadata": {},
   "source": [
    "# Mentioning callables"
   ]
  },
  {
   "cell_type": "code",
   "execution_count": 63,
   "id": "09f50425",
   "metadata": {},
   "outputs": [],
   "source": [
    "from typing import Callable"
   ]
  },
  {
   "cell_type": "code",
   "execution_count": 64,
   "id": "2038b3b2",
   "metadata": {},
   "outputs": [],
   "source": [
    "# Callable takes two parameters -- The arguments type list and the type of the return value"
   ]
  },
  {
   "cell_type": "code",
   "execution_count": 65,
   "id": "5fb2c14d",
   "metadata": {},
   "outputs": [
    {
     "data": {
      "text/plain": [
       "typing.Callable[[int, int], bool]"
      ]
     },
     "execution_count": 65,
     "metadata": {},
     "output_type": "execute_result"
    }
   ],
   "source": [
    "Callable[[int, int], bool]\n",
    "# This is the type hint for function that takes 2 arguments both integers and then returns a boolean answer"
   ]
  },
  {
   "cell_type": "code",
   "execution_count": 66,
   "id": "03c27f8a",
   "metadata": {},
   "outputs": [],
   "source": [
    "def custom_map(f : Callable[Sequence[int], int], i : Iterable) -> Iterator:\n",
    "    for ele in i:\n",
    "        yield f(ele)"
   ]
  },
  {
   "cell_type": "markdown",
   "id": "b6d2fadf",
   "metadata": {},
   "source": [
    "# Any"
   ]
  },
  {
   "cell_type": "code",
   "execution_count": 67,
   "id": "9d67e707",
   "metadata": {},
   "outputs": [],
   "source": [
    "from typing import Any"
   ]
  },
  {
   "cell_type": "code",
   "execution_count": 68,
   "id": "28c282fd",
   "metadata": {},
   "outputs": [],
   "source": [
    "# Any means any type\n",
    "def func(a : Any) -> None:\n",
    "    return None"
   ]
  },
  {
   "cell_type": "code",
   "execution_count": 69,
   "id": "317c766a",
   "metadata": {},
   "outputs": [
    {
     "data": {
      "text/plain": [
       "typing.Callable[[typing.Any], bool]"
      ]
     },
     "execution_count": 69,
     "metadata": {},
     "output_type": "execute_result"
    }
   ],
   "source": [
    "Callable[[Any], bool]"
   ]
  },
  {
   "cell_type": "markdown",
   "id": "b50d363d",
   "metadata": {},
   "source": [
    "# Creating our own custom type"
   ]
  },
  {
   "cell_type": "code",
   "execution_count": 70,
   "id": "3e4c3707",
   "metadata": {},
   "outputs": [],
   "source": [
    "Vector = Sequence[int | float]"
   ]
  },
  {
   "cell_type": "code",
   "execution_count": 71,
   "id": "26de1bc6",
   "metadata": {},
   "outputs": [],
   "source": [
    "def square(v : Vector) -> List[int]:\n",
    "    return [i ** 2 for i in v]"
   ]
  },
  {
   "cell_type": "code",
   "execution_count": 72,
   "id": "b816d931",
   "metadata": {},
   "outputs": [
    {
     "data": {
      "text/plain": [
       "[1, 4, 9, 16]"
      ]
     },
     "execution_count": 72,
     "metadata": {},
     "output_type": "execute_result"
    }
   ],
   "source": [
    "square(v = [1,2,3,4])"
   ]
  },
  {
   "cell_type": "code",
   "execution_count": 73,
   "id": "47504021",
   "metadata": {},
   "outputs": [
    {
     "data": {
      "text/plain": [
       "[9.869604401089358, 39.47841760435743, 88.82643960980423, 157.91367041742973]"
      ]
     },
     "execution_count": 73,
     "metadata": {},
     "output_type": "execute_result"
    }
   ],
   "source": [
    "square(v = [pi, 2 * pi, 3 * pi, 4 * pi])"
   ]
  },
  {
   "cell_type": "code",
   "execution_count": null,
   "id": "cea1ee29",
   "metadata": {},
   "outputs": [],
   "source": []
  },
  {
   "cell_type": "code",
   "execution_count": null,
   "id": "a67183eb",
   "metadata": {},
   "outputs": [],
   "source": []
  },
  {
   "cell_type": "code",
   "execution_count": null,
   "id": "48a19213",
   "metadata": {},
   "outputs": [],
   "source": []
  },
  {
   "cell_type": "code",
   "execution_count": null,
   "id": "858c8e40",
   "metadata": {},
   "outputs": [],
   "source": []
  },
  {
   "cell_type": "code",
   "execution_count": null,
   "id": "5ece32c1",
   "metadata": {},
   "outputs": [],
   "source": []
  }
 ],
 "metadata": {
  "kernelspec": {
   "display_name": "Python 3 (ipykernel)",
   "language": "python",
   "name": "python3"
  },
  "language_info": {
   "codemirror_mode": {
    "name": "ipython",
    "version": 3
   },
   "file_extension": ".py",
   "mimetype": "text/x-python",
   "name": "python",
   "nbconvert_exporter": "python",
   "pygments_lexer": "ipython3",
   "version": "3.11.5"
  }
 },
 "nbformat": 4,
 "nbformat_minor": 5
}
