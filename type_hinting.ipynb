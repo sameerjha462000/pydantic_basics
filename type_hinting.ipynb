{
 "cells": [
  {
   "cell_type": "markdown",
   "id": "a3208f74",
   "metadata": {},
   "source": [
    "# Type Hinting"
   ]
  },
  {
   "cell_type": "code",
   "execution_count": 1,
   "id": "7b3b4230",
   "metadata": {},
   "outputs": [],
   "source": [
    "# Type hinting is used to give hints about the data types of the function parameters\n",
    "# Python does not use static typing so it uses type hints\n",
    "# However, type hint does not check the type of the arguments passed. The code is still compiled by the\n",
    "# python compiler"
   ]
  },
  {
   "cell_type": "code",
   "execution_count": 2,
   "id": "deb6800e",
   "metadata": {},
   "outputs": [],
   "source": [
    "def mult(a:int, b:int):\n",
    "    return a * b"
   ]
  },
  {
   "cell_type": "code",
   "execution_count": 3,
   "id": "7694fc7e",
   "metadata": {},
   "outputs": [
    {
     "data": {
      "text/plain": [
       "12"
      ]
     },
     "execution_count": 3,
     "metadata": {},
     "output_type": "execute_result"
    }
   ],
   "source": [
    "mult(3,4)"
   ]
  },
  {
   "cell_type": "code",
   "execution_count": 5,
   "id": "edcb5a7e",
   "metadata": {},
   "outputs": [
    {
     "data": {
      "text/plain": [
       "'aaaaa'"
      ]
     },
     "execution_count": 5,
     "metadata": {},
     "output_type": "execute_result"
    }
   ],
   "source": [
    "# This does not mean that we cannot pass anything other than int.\n",
    "mult('a', 5)"
   ]
  },
  {
   "cell_type": "code",
   "execution_count": 6,
   "id": "116d2769",
   "metadata": {},
   "outputs": [],
   "source": [
    "# But this does not mean we can give any type according to our wish\n",
    "# The type that we give must be a valid python type"
   ]
  },
  {
   "cell_type": "code",
   "execution_count": 7,
   "id": "896664de",
   "metadata": {},
   "outputs": [
    {
     "ename": "NameError",
     "evalue": "name 'text' is not defined",
     "output_type": "error",
     "traceback": [
      "\u001b[1;31m---------------------------------------------------------------------------\u001b[0m",
      "\u001b[1;31mNameError\u001b[0m                                 Traceback (most recent call last)",
      "Cell \u001b[1;32mIn[7], line 1\u001b[0m\n\u001b[1;32m----> 1\u001b[0m \u001b[38;5;28;01mdef\u001b[39;00m \u001b[38;5;21mupper_\u001b[39m(name:\u001b[43mtext\u001b[49m):\n\u001b[0;32m      2\u001b[0m     \u001b[38;5;28;01mreturn\u001b[39;00m name\u001b[38;5;241m.\u001b[39mupper()\n",
      "\u001b[1;31mNameError\u001b[0m: name 'text' is not defined"
     ]
    }
   ],
   "source": [
    "# This code would not compile as text is not a valid python type\n",
    "def upper_(name:text):\n",
    "    return name.upper()"
   ]
  },
  {
   "cell_type": "code",
   "execution_count": 8,
   "id": "6fd75990",
   "metadata": {},
   "outputs": [],
   "source": [
    "# We can also give multiple types for the same parameter using the pipe operator\n",
    "def func(a: int | str, b: int):\n",
    "    return a * b"
   ]
  },
  {
   "cell_type": "code",
   "execution_count": 9,
   "id": "c79c4c56",
   "metadata": {},
   "outputs": [
    {
     "data": {
      "text/plain": [
       "'aaaaa'"
      ]
     },
     "execution_count": 9,
     "metadata": {},
     "output_type": "execute_result"
    }
   ],
   "source": [
    "func('a', 5)"
   ]
  },
  {
   "cell_type": "code",
   "execution_count": 10,
   "id": "1c0a5b75",
   "metadata": {},
   "outputs": [],
   "source": [
    "# However we also have typing module and we can use Union from that for multiple types"
   ]
  },
  {
   "cell_type": "code",
   "execution_count": 11,
   "id": "6914952a",
   "metadata": {},
   "outputs": [],
   "source": [
    "from typing import Union"
   ]
  },
  {
   "cell_type": "code",
   "execution_count": 12,
   "id": "21ab827d",
   "metadata": {},
   "outputs": [],
   "source": [
    "# This means that a can be an integer or string\n",
    "def func(a : Union[int, str], b : int):\n",
    "    return a * b"
   ]
  },
  {
   "cell_type": "markdown",
   "id": "5e736797",
   "metadata": {},
   "source": [
    "# Mentioning return types"
   ]
  },
  {
   "cell_type": "code",
   "execution_count": 13,
   "id": "1a878e11",
   "metadata": {},
   "outputs": [],
   "source": [
    "def func(a : int, b : int) -> int:\n",
    "    pass"
   ]
  },
  {
   "cell_type": "code",
   "execution_count": 14,
   "id": "a141e790",
   "metadata": {},
   "outputs": [],
   "source": [
    "def is_valid_string(a : str) -> bool:\n",
    "    # some logic\n",
    "    pass"
   ]
  },
  {
   "cell_type": "code",
   "execution_count": 15,
   "id": "1e1844b6",
   "metadata": {},
   "outputs": [],
   "source": [
    "from math import pi\n",
    "def area(radius : int) -> float:\n",
    "    return pi * radius * radius"
   ]
  },
  {
   "cell_type": "code",
   "execution_count": 16,
   "id": "3ad05a6b",
   "metadata": {},
   "outputs": [],
   "source": [
    "def greet(name : str) -> str:\n",
    "    return f\"Hi, My name is {name}\""
   ]
  },
  {
   "cell_type": "code",
   "execution_count": 17,
   "id": "9335f40c",
   "metadata": {},
   "outputs": [
    {
     "data": {
      "text/plain": [
       "'Hi, My name is Abhishek'"
      ]
     },
     "execution_count": 17,
     "metadata": {},
     "output_type": "execute_result"
    }
   ],
   "source": [
    "greet('Abhishek')"
   ]
  },
  {
   "cell_type": "markdown",
   "id": "c110253e",
   "metadata": {},
   "source": [
    "# Type Hinting for lists"
   ]
  },
  {
   "cell_type": "code",
   "execution_count": 26,
   "id": "00ce0dad",
   "metadata": {},
   "outputs": [],
   "source": [
    "# To specify generic list we use list "
   ]
  },
  {
   "cell_type": "code",
   "execution_count": 28,
   "id": "2152b1c6",
   "metadata": {},
   "outputs": [],
   "source": [
    "# This means that l can be a generic list -- of strings, of integers, of floats\n",
    "def square(l: list) -> list:\n",
    "    return [ele ** 2 for ele in l]"
   ]
  },
  {
   "cell_type": "code",
   "execution_count": 29,
   "id": "452f480a",
   "metadata": {},
   "outputs": [],
   "source": [
    "# To specify a specific type of list we may use square bracket notation"
   ]
  },
  {
   "cell_type": "code",
   "execution_count": 30,
   "id": "c832ab68",
   "metadata": {},
   "outputs": [],
   "source": [
    "# list[int] == list of integers\n",
    "# list[str] == list of strings\n",
    "def square(l : list[int]) -> list[str]:\n",
    "    return [str(ele ** 2) for ele in l]"
   ]
  },
  {
   "cell_type": "code",
   "execution_count": 31,
   "id": "3ea1e1f6",
   "metadata": {},
   "outputs": [
    {
     "data": {
      "text/plain": [
       "['1', '4', '9', '16']"
      ]
     },
     "execution_count": 31,
     "metadata": {},
     "output_type": "execute_result"
    }
   ],
   "source": [
    "square([1,2,3,4])"
   ]
  },
  {
   "cell_type": "code",
   "execution_count": 33,
   "id": "80058585",
   "metadata": {},
   "outputs": [],
   "source": [
    "# we can also use List from the typing module\n",
    "from typing import List"
   ]
  },
  {
   "cell_type": "code",
   "execution_count": 34,
   "id": "602a630d",
   "metadata": {},
   "outputs": [],
   "source": [
    "def func(l: List):\n",
    "    pass"
   ]
  },
  {
   "cell_type": "code",
   "execution_count": 37,
   "id": "870f8be1",
   "metadata": {},
   "outputs": [],
   "source": [
    "# To specify a generic list, we may then again use square bracket notation"
   ]
  },
  {
   "cell_type": "code",
   "execution_count": 38,
   "id": "6ad1f70c",
   "metadata": {},
   "outputs": [],
   "source": [
    "def square(l:List[int]) -> List[int]:\n",
    "    return [ele ** 2 for ele in l]"
   ]
  },
  {
   "cell_type": "code",
   "execution_count": 39,
   "id": "a60c52b4",
   "metadata": {},
   "outputs": [
    {
     "data": {
      "text/plain": [
       "[1, 4, 9]"
      ]
     },
     "execution_count": 39,
     "metadata": {},
     "output_type": "execute_result"
    }
   ],
   "source": [
    "square([1,2,3])"
   ]
  },
  {
   "cell_type": "markdown",
   "id": "2a32693e",
   "metadata": {},
   "source": [
    "# Mentioning tuples"
   ]
  },
  {
   "cell_type": "code",
   "execution_count": 44,
   "id": "b8f72520",
   "metadata": {},
   "outputs": [],
   "source": [
    "# generic tuple\n",
    "def func(t : tuple):\n",
    "    pass"
   ]
  },
  {
   "cell_type": "code",
   "execution_count": 45,
   "id": "abdbd15e",
   "metadata": {},
   "outputs": [],
   "source": [
    "from pydantic import BaseModel\n",
    "\n",
    "# tuple[int] = tuple of single integer\n",
    "class Model(BaseModel):\n",
    "    t: tuple[int]"
   ]
  },
  {
   "cell_type": "code",
   "execution_count": 46,
   "id": "ea132093",
   "metadata": {},
   "outputs": [
    {
     "data": {
      "text/plain": [
       "Model(t=(1,))"
      ]
     },
     "execution_count": 46,
     "metadata": {},
     "output_type": "execute_result"
    }
   ],
   "source": [
    "Model(t = (1,))"
   ]
  },
  {
   "cell_type": "code",
   "execution_count": 49,
   "id": "8b3a12d8",
   "metadata": {},
   "outputs": [],
   "source": [
    "# tuple[int, str] = tuple of integer and string\n",
    "def func(t : tuple[int, str]):\n",
    "    pass"
   ]
  },
  {
   "cell_type": "code",
   "execution_count": 50,
   "id": "3d4ee213",
   "metadata": {},
   "outputs": [],
   "source": [
    "from typing import Tuple"
   ]
  },
  {
   "cell_type": "code",
   "execution_count": 51,
   "id": "d180665b",
   "metadata": {},
   "outputs": [],
   "source": [
    "class Model(BaseModel):\n",
    "    t : Tuple[int]"
   ]
  },
  {
   "cell_type": "code",
   "execution_count": 52,
   "id": "87525d12",
   "metadata": {},
   "outputs": [
    {
     "name": "stdout",
     "output_type": "stream",
     "text": [
      "1 validation error for Model\n",
      "t\n",
      "  Tuple should have at most 1 item after validation, not 2 [type=too_long, input_value=(1, 2), input_type=tuple]\n",
      "    For further information visit https://errors.pydantic.dev/2.3/v/too_long\n"
     ]
    }
   ],
   "source": [
    "from pydantic import ValidationError\n",
    "try:\n",
    "    Model(t = (1,2))\n",
    "except ValidationError as ex:\n",
    "    print(ex)"
   ]
  },
  {
   "cell_type": "code",
   "execution_count": 53,
   "id": "d36cc389",
   "metadata": {},
   "outputs": [],
   "source": [
    "# Tuple[int, int] = tuple whose first and second component are integers\n",
    "class Model(BaseModel):\n",
    "    t : Tuple[int, int]"
   ]
  },
  {
   "cell_type": "code",
   "execution_count": 54,
   "id": "01b877c2",
   "metadata": {},
   "outputs": [
    {
     "name": "stdout",
     "output_type": "stream",
     "text": [
      "Model(t=(1, 2))\n"
     ]
    }
   ],
   "source": [
    "try:\n",
    "    m = Model(t = (1,2))\n",
    "    print(m.__repr__())\n",
    "except ValidationError as ex:\n",
    "    print(ex)"
   ]
  },
  {
   "cell_type": "markdown",
   "id": "2101ccff",
   "metadata": {},
   "source": [
    "# Mentioning None types"
   ]
  },
  {
   "cell_type": "code",
   "execution_count": 55,
   "id": "9834bfdd",
   "metadata": {},
   "outputs": [],
   "source": [
    "def func(a : int | None):\n",
    "    pass"
   ]
  },
  {
   "cell_type": "code",
   "execution_count": 56,
   "id": "ad83101e",
   "metadata": {},
   "outputs": [],
   "source": [
    "# We can also mention the None types using the Optional from the typing module"
   ]
  },
  {
   "cell_type": "code",
   "execution_count": 58,
   "id": "257a82ff",
   "metadata": {},
   "outputs": [],
   "source": [
    "from typing import Optional\n",
    "\n",
    "# Optional[int] = int | None\n",
    "def func(a : Optional[int]):\n",
    "    pass"
   ]
  },
  {
   "cell_type": "code",
   "execution_count": 59,
   "id": "b598c564",
   "metadata": {},
   "outputs": [],
   "source": [
    "def func(a : Union[int, None]):\n",
    "    pass"
   ]
  },
  {
   "cell_type": "markdown",
   "id": "9a8eea3d",
   "metadata": {},
   "source": [
    "# Mentioning Defaults"
   ]
  },
  {
   "cell_type": "code",
   "execution_count": 61,
   "id": "f438e106",
   "metadata": {},
   "outputs": [],
   "source": [
    "def func(a : int = 10, b : float = pi, c : bool = True, d : str = ''):\n",
    "    pass"
   ]
  },
  {
   "cell_type": "code",
   "execution_count": 62,
   "id": "546a32fa",
   "metadata": {},
   "outputs": [],
   "source": [
    "def func(a: list = [1,'a'], b : list[int] = [2,3,4], c : tuple = (1,2,3), d : tuple[int] = (1,)):\n",
    "    pass"
   ]
  },
  {
   "cell_type": "code",
   "execution_count": 63,
   "id": "626b9d70",
   "metadata": {},
   "outputs": [],
   "source": [
    "def func(a : tuple[int, str] = (1, 'abhi')):\n",
    "    pass"
   ]
  },
  {
   "cell_type": "markdown",
   "id": "3cda3f43",
   "metadata": {},
   "source": [
    "# Mentioning Sequences"
   ]
  },
  {
   "cell_type": "code",
   "execution_count": 64,
   "id": "81bce988",
   "metadata": {},
   "outputs": [],
   "source": [
    "from typing import Sequence"
   ]
  },
  {
   "cell_type": "code",
   "execution_count": 65,
   "id": "6b4afa00",
   "metadata": {},
   "outputs": [],
   "source": [
    "def func(a : Sequence):\n",
    "    pass"
   ]
  },
  {
   "cell_type": "code",
   "execution_count": 66,
   "id": "41193eee",
   "metadata": {},
   "outputs": [],
   "source": [
    "# Sequence means that any sequence type like list, tuple, string\n",
    "class Model(BaseModel):\n",
    "    s : Sequence"
   ]
  },
  {
   "cell_type": "code",
   "execution_count": 67,
   "id": "d0ec8f2c",
   "metadata": {},
   "outputs": [],
   "source": [
    "try:\n",
    "    Model(s = 'Abhishek')\n",
    "except ValidationError as ex:\n",
    "    print(ex)"
   ]
  },
  {
   "cell_type": "code",
   "execution_count": 68,
   "id": "fe2ec7c3",
   "metadata": {},
   "outputs": [],
   "source": [
    "try:\n",
    "    Model(s = [1,2,3,4])\n",
    "except ValidationError as ex:\n",
    "    print(ex)"
   ]
  },
  {
   "cell_type": "code",
   "execution_count": 69,
   "id": "f02b4812",
   "metadata": {},
   "outputs": [],
   "source": [
    "try:\n",
    "    Model(s = (1,2,3))\n",
    "except ValidationError as ex:\n",
    "    print(ex)"
   ]
  },
  {
   "cell_type": "code",
   "execution_count": 70,
   "id": "8cf1ce2b",
   "metadata": {},
   "outputs": [
    {
     "name": "stdout",
     "output_type": "stream",
     "text": [
      "1 validation error for Model\n",
      "s\n",
      "  Input should be an instance of Sequence [type=is_instance_of, input_value={1, 2, 3}, input_type=set]\n",
      "    For further information visit https://errors.pydantic.dev/2.3/v/is_instance_of\n"
     ]
    }
   ],
   "source": [
    "try:\n",
    "    Model(s = {1,2,3})\n",
    "except ValidationError as ex:\n",
    "    print(ex)"
   ]
  },
  {
   "cell_type": "code",
   "execution_count": 71,
   "id": "cb4f43fc",
   "metadata": {},
   "outputs": [
    {
     "name": "stdout",
     "output_type": "stream",
     "text": [
      "1 validation error for Model\n",
      "s\n",
      "  Input should be an instance of Sequence [type=is_instance_of, input_value={'a': 1, 'b': 2}, input_type=dict]\n",
      "    For further information visit https://errors.pydantic.dev/2.3/v/is_instance_of\n"
     ]
    }
   ],
   "source": [
    "try:\n",
    "    Model(s = {'a': 1, 'b': 2})\n",
    "except ValidationError as ex:\n",
    "    print(ex)"
   ]
  },
  {
   "cell_type": "code",
   "execution_count": 72,
   "id": "454fe826",
   "metadata": {},
   "outputs": [],
   "source": [
    "try:\n",
    "    Model(s = range(1,12))\n",
    "except ValidationError as ex:\n",
    "    print(ex)"
   ]
  },
  {
   "cell_type": "code",
   "execution_count": 73,
   "id": "5141f966",
   "metadata": {},
   "outputs": [],
   "source": [
    "# Sequence[int] means sequence of integers\n",
    "def func(s : Sequence[int]) -> Sequence[str]:\n",
    "    return [str(ele) for ele in s]"
   ]
  },
  {
   "cell_type": "code",
   "execution_count": 74,
   "id": "96a54055",
   "metadata": {},
   "outputs": [],
   "source": [
    "class Model(BaseModel):\n",
    "    s : Sequence[int]"
   ]
  },
  {
   "cell_type": "code",
   "execution_count": 77,
   "id": "b2591c31",
   "metadata": {},
   "outputs": [
    {
     "name": "stdout",
     "output_type": "stream",
     "text": [
      "2 validation errors for Model\n",
      "s.0\n",
      "  Input should be a valid integer, unable to parse string as an integer [type=int_parsing, input_value='a', input_type=str]\n",
      "    For further information visit https://errors.pydantic.dev/2.3/v/int_parsing\n",
      "s.1\n",
      "  Input should be a valid integer, unable to parse string as an integer [type=int_parsing, input_value='b', input_type=str]\n",
      "    For further information visit https://errors.pydantic.dev/2.3/v/int_parsing\n"
     ]
    }
   ],
   "source": [
    "try:\n",
    "    Model(s = ['a', 'b'])\n",
    "except ValidationError as ex:\n",
    "    print(ex)"
   ]
  },
  {
   "cell_type": "markdown",
   "id": "e51b8f6f",
   "metadata": {},
   "source": [
    "# Mentioning iterables"
   ]
  },
  {
   "cell_type": "code",
   "execution_count": 78,
   "id": "d1e063b2",
   "metadata": {},
   "outputs": [],
   "source": [
    "from typing import Iterable\n",
    "\n",
    "# use Iterable from collections.abc as it would be deprecated in future from typing module\n",
    "from collections.abc import Iterable"
   ]
  },
  {
   "cell_type": "code",
   "execution_count": 79,
   "id": "b2a0ec84",
   "metadata": {},
   "outputs": [],
   "source": [
    "# we know map function from python"
   ]
  },
  {
   "cell_type": "code",
   "execution_count": 80,
   "id": "e7906a35",
   "metadata": {},
   "outputs": [
    {
     "data": {
      "text/plain": [
       "[1, 4, 9, 16]"
      ]
     },
     "execution_count": 80,
     "metadata": {},
     "output_type": "execute_result"
    }
   ],
   "source": [
    "list(map(lambda x : x ** 2, [1,2,3,4]))"
   ]
  },
  {
   "cell_type": "code",
   "execution_count": 83,
   "id": "389f0a6f",
   "metadata": {},
   "outputs": [],
   "source": [
    "# Now let us create our own custom map\n",
    "def custom_map(f, i : Iterable):\n",
    "    for ele in i:\n",
    "        yield f(ele)"
   ]
  },
  {
   "cell_type": "code",
   "execution_count": 87,
   "id": "23098f3f",
   "metadata": {},
   "outputs": [
    {
     "data": {
      "text/plain": [
       "[1, 4, 9, 16]"
      ]
     },
     "execution_count": 87,
     "metadata": {},
     "output_type": "execute_result"
    }
   ],
   "source": [
    "list(custom_map(lambda x : x ** 2, [1,2,3,4]))"
   ]
  },
  {
   "cell_type": "markdown",
   "id": "43bd6bdb",
   "metadata": {},
   "source": [
    "# Mentioning Iterators"
   ]
  },
  {
   "cell_type": "code",
   "execution_count": 94,
   "id": "05aef7d5",
   "metadata": {},
   "outputs": [],
   "source": [
    "from typing import Iterator\n",
    "from collections.abc import Iterator"
   ]
  },
  {
   "cell_type": "code",
   "execution_count": 95,
   "id": "04f9fa53",
   "metadata": {},
   "outputs": [],
   "source": [
    "def custom_map(f, i : Iterable) -> Iterator:\n",
    "    for ele in i:\n",
    "        yield f(ele)"
   ]
  },
  {
   "cell_type": "markdown",
   "id": "520da256",
   "metadata": {},
   "source": [
    "# Mentioning callables"
   ]
  },
  {
   "cell_type": "code",
   "execution_count": 96,
   "id": "11414796",
   "metadata": {},
   "outputs": [],
   "source": [
    "from typing import Callable"
   ]
  },
  {
   "cell_type": "code",
   "execution_count": 97,
   "id": "7cc8e6ce",
   "metadata": {},
   "outputs": [],
   "source": [
    "# Callable takes two parameters -- The arguments type list and the type of the return value"
   ]
  },
  {
   "cell_type": "code",
   "execution_count": 99,
   "id": "f321f9e3",
   "metadata": {},
   "outputs": [
    {
     "data": {
      "text/plain": [
       "typing.Callable[[int, int], bool]"
      ]
     },
     "execution_count": 99,
     "metadata": {},
     "output_type": "execute_result"
    }
   ],
   "source": [
    "Callable[[int, int], bool]\n",
    "# This is the type hint for function that takes 2 arguments both integers and then returns a boolean answer"
   ]
  },
  {
   "cell_type": "code",
   "execution_count": 105,
   "id": "810d4186",
   "metadata": {},
   "outputs": [],
   "source": [
    "def custom_map(f : Callable[Sequence[int], int], i : Iterable) -> Iterator:\n",
    "    for ele in i:\n",
    "        yield f(ele)"
   ]
  },
  {
   "cell_type": "markdown",
   "id": "2cb4c9f9",
   "metadata": {},
   "source": [
    "# Any"
   ]
  },
  {
   "cell_type": "code",
   "execution_count": 106,
   "id": "52f3b675",
   "metadata": {},
   "outputs": [],
   "source": [
    "from typing import Any"
   ]
  },
  {
   "cell_type": "code",
   "execution_count": 113,
   "id": "a79c680e",
   "metadata": {},
   "outputs": [],
   "source": [
    "# Any means any type\n",
    "def func(a : Any) -> None:\n",
    "    return None"
   ]
  },
  {
   "cell_type": "code",
   "execution_count": 114,
   "id": "4155ea33",
   "metadata": {},
   "outputs": [
    {
     "data": {
      "text/plain": [
       "typing.Callable[[typing.Any], bool]"
      ]
     },
     "execution_count": 114,
     "metadata": {},
     "output_type": "execute_result"
    }
   ],
   "source": [
    "Callable[[Any], bool]"
   ]
  },
  {
   "cell_type": "markdown",
   "id": "dfdd5a34",
   "metadata": {},
   "source": [
    "# Creating our own custom type"
   ]
  },
  {
   "cell_type": "code",
   "execution_count": 109,
   "id": "1ed3976c",
   "metadata": {},
   "outputs": [],
   "source": [
    "Vector = Sequence[int | float]"
   ]
  },
  {
   "cell_type": "code",
   "execution_count": 110,
   "id": "2cebc27b",
   "metadata": {},
   "outputs": [],
   "source": [
    "def square(v : Vector) -> List[int]:\n",
    "    return [i ** 2 for i in v]"
   ]
  },
  {
   "cell_type": "code",
   "execution_count": 111,
   "id": "188b68dc",
   "metadata": {},
   "outputs": [
    {
     "data": {
      "text/plain": [
       "[1, 4, 9, 16]"
      ]
     },
     "execution_count": 111,
     "metadata": {},
     "output_type": "execute_result"
    }
   ],
   "source": [
    "square(v = [1,2,3,4])"
   ]
  },
  {
   "cell_type": "code",
   "execution_count": 112,
   "id": "529237b2",
   "metadata": {},
   "outputs": [
    {
     "data": {
      "text/plain": [
       "[9.869604401089358, 39.47841760435743, 88.82643960980423, 157.91367041742973]"
      ]
     },
     "execution_count": 112,
     "metadata": {},
     "output_type": "execute_result"
    }
   ],
   "source": [
    "square(v = [pi, 2 * pi, 3 * pi, 4 * pi])"
   ]
  },
  {
   "cell_type": "code",
   "execution_count": null,
   "id": "d3c28a6e",
   "metadata": {},
   "outputs": [],
   "source": []
  },
  {
   "cell_type": "code",
   "execution_count": null,
   "id": "2dc9e772",
   "metadata": {},
   "outputs": [],
   "source": []
  },
  {
   "cell_type": "code",
   "execution_count": null,
   "id": "b3b2c646",
   "metadata": {},
   "outputs": [],
   "source": []
  },
  {
   "cell_type": "code",
   "execution_count": null,
   "id": "51c17446",
   "metadata": {},
   "outputs": [],
   "source": []
  },
  {
   "cell_type": "code",
   "execution_count": null,
   "id": "5f1438a6",
   "metadata": {},
   "outputs": [],
   "source": []
  }
 ],
 "metadata": {
  "kernelspec": {
   "display_name": "Python 3 (ipykernel)",
   "language": "python",
   "name": "python3"
  },
  "language_info": {
   "codemirror_mode": {
    "name": "ipython",
    "version": 3
   },
   "file_extension": ".py",
   "mimetype": "text/x-python",
   "name": "python",
   "nbconvert_exporter": "python",
   "pygments_lexer": "ipython3",
   "version": "3.11.5"
  }
 },
 "nbformat": 4,
 "nbformat_minor": 5
}
