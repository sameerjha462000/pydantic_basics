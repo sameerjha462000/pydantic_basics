{
 "cells": [
  {
   "cell_type": "markdown",
   "id": "0410ac98",
   "metadata": {},
   "source": [
    "# $Type  Hinting$"
   ]
  },
  {
   "cell_type": "code",
   "execution_count": 58,
   "id": "834618f0",
   "metadata": {},
   "outputs": [],
   "source": [
    "# type hinting ==> data classes ==> pydantic ==> AsyncIO ==> FastAPI ==> unit testing"
   ]
  },
  {
   "cell_type": "code",
   "execution_count": 60,
   "id": "c31e8c1a",
   "metadata": {},
   "outputs": [],
   "source": [
    "# giving the hint of typing and it is not static typing\n",
    "# it is basically used for code documentation and giving type hints to the \n",
    "# other python developers"
   ]
  },
  {
   "cell_type": "code",
   "execution_count": 61,
   "id": "919cc8d1",
   "metadata": {},
   "outputs": [],
   "source": [
    "def mult(a: int, b: int):\n",
    "    return a * b"
   ]
  },
  {
   "cell_type": "code",
   "execution_count": 62,
   "id": "31359e8b",
   "metadata": {},
   "outputs": [
    {
     "data": {
      "text/plain": [
       "12"
      ]
     },
     "execution_count": 62,
     "metadata": {},
     "output_type": "execute_result"
    }
   ],
   "source": [
    "mult(3,4)"
   ]
  },
  {
   "cell_type": "code",
   "execution_count": 63,
   "id": "ee7c529e",
   "metadata": {},
   "outputs": [
    {
     "data": {
      "text/plain": [
       "'aaa'"
      ]
     },
     "execution_count": 63,
     "metadata": {},
     "output_type": "execute_result"
    }
   ],
   "source": [
    "mult('a',3)"
   ]
  },
  {
   "cell_type": "code",
   "execution_count": 64,
   "id": "9a46e7b3",
   "metadata": {},
   "outputs": [
    {
     "ename": "NameError",
     "evalue": "name 'text' is not defined",
     "output_type": "error",
     "traceback": [
      "\u001b[1;31m---------------------------------------------------------------------------\u001b[0m",
      "\u001b[1;31mNameError\u001b[0m                                 Traceback (most recent call last)",
      "\u001b[1;32m~\\AppData\\Local\\Temp\\ipykernel_31560\\726321438.py\u001b[0m in \u001b[0;36m<module>\u001b[1;34m\u001b[0m\n\u001b[1;32m----> 1\u001b[1;33m \u001b[1;32mdef\u001b[0m \u001b[0mfunc\u001b[0m\u001b[1;33m(\u001b[0m\u001b[0ma\u001b[0m\u001b[1;33m:\u001b[0m \u001b[0mtext\u001b[0m\u001b[1;33m,\u001b[0m \u001b[0mb\u001b[0m\u001b[1;33m:\u001b[0m\u001b[0mint\u001b[0m\u001b[1;33m)\u001b[0m\u001b[1;33m:\u001b[0m\u001b[1;33m\u001b[0m\u001b[1;33m\u001b[0m\u001b[0m\n\u001b[0m\u001b[0;32m      2\u001b[0m     \u001b[1;32mpass\u001b[0m\u001b[1;33m\u001b[0m\u001b[1;33m\u001b[0m\u001b[0m\n",
      "\u001b[1;31mNameError\u001b[0m: name 'text' is not defined"
     ]
    }
   ],
   "source": [
    "def func(a: text, b:int):\n",
    "    pass"
   ]
  },
  {
   "cell_type": "code",
   "execution_count": 65,
   "id": "634966c9",
   "metadata": {},
   "outputs": [],
   "source": [
    "def func(a :int, b:float, c:bool, d:str):\n",
    "    pass"
   ]
  },
  {
   "cell_type": "code",
   "execution_count": 68,
   "id": "f72780ac",
   "metadata": {},
   "outputs": [],
   "source": [
    "def func(a:int , b :int = 1):\n",
    "    return a * b"
   ]
  },
  {
   "cell_type": "code",
   "execution_count": 69,
   "id": "b690b462",
   "metadata": {},
   "outputs": [
    {
     "data": {
      "text/plain": [
       "'a'"
      ]
     },
     "execution_count": 69,
     "metadata": {},
     "output_type": "execute_result"
    }
   ],
   "source": [
    "func('a')"
   ]
  },
  {
   "cell_type": "code",
   "execution_count": 70,
   "id": "76ca90bd",
   "metadata": {},
   "outputs": [
    {
     "data": {
      "text/plain": [
       "'aaaa'"
      ]
     },
     "execution_count": 70,
     "metadata": {},
     "output_type": "execute_result"
    }
   ],
   "source": [
    "func('a', 4)"
   ]
  },
  {
   "cell_type": "code",
   "execution_count": 71,
   "id": "713f1dc9",
   "metadata": {},
   "outputs": [],
   "source": [
    "def func(a: list, b: tuple, c: dict, d:set):\n",
    "    pass"
   ]
  },
  {
   "cell_type": "code",
   "execution_count": 72,
   "id": "a1df50e6",
   "metadata": {},
   "outputs": [],
   "source": [
    "func(1,2,3,4)"
   ]
  },
  {
   "cell_type": "code",
   "execution_count": 75,
   "id": "f831d4da",
   "metadata": {},
   "outputs": [],
   "source": [
    "from typing import Union"
   ]
  },
  {
   "cell_type": "code",
   "execution_count": 78,
   "id": "4d9a2e48",
   "metadata": {},
   "outputs": [],
   "source": [
    "def func(a: Union[int, float], b:int):\n",
    "    return a * b"
   ]
  },
  {
   "cell_type": "code",
   "execution_count": 77,
   "id": "bd85ac34",
   "metadata": {},
   "outputs": [],
   "source": [
    "def func(a : Union[int, float, bool], b:int):\n",
    "    pass"
   ]
  },
  {
   "cell_type": "code",
   "execution_count": 79,
   "id": "18d46f07",
   "metadata": {},
   "outputs": [
    {
     "data": {
      "text/plain": [
       "6"
      ]
     },
     "execution_count": 79,
     "metadata": {},
     "output_type": "execute_result"
    }
   ],
   "source": [
    "func(2,3)"
   ]
  },
  {
   "cell_type": "code",
   "execution_count": 80,
   "id": "21502eca",
   "metadata": {},
   "outputs": [],
   "source": [
    "from typing import Any\n",
    "    "
   ]
  },
  {
   "cell_type": "code",
   "execution_count": 81,
   "id": "c2fcf167",
   "metadata": {},
   "outputs": [],
   "source": [
    "def func(a : Any, b:int = 20):\n",
    "    pass"
   ]
  },
  {
   "cell_type": "code",
   "execution_count": 82,
   "id": "ba30e411",
   "metadata": {},
   "outputs": [],
   "source": [
    "def func(a : int, b: int) -> int:\n",
    "    return a * b"
   ]
  },
  {
   "cell_type": "code",
   "execution_count": 83,
   "id": "a8d3ae79",
   "metadata": {},
   "outputs": [],
   "source": [
    "def mult(a : Union[str, int], b :int) -> Union[str, int]:\n",
    "    return a * b"
   ]
  },
  {
   "cell_type": "code",
   "execution_count": 84,
   "id": "799aebbb",
   "metadata": {},
   "outputs": [],
   "source": [
    "def func(a : Union[int, None], b: int):\n",
    "    pass\n",
    "\n",
    "int | None"
   ]
  },
  {
   "cell_type": "code",
   "execution_count": 85,
   "id": "af4668c1",
   "metadata": {},
   "outputs": [],
   "source": [
    "from typing import Optional"
   ]
  },
  {
   "cell_type": "code",
   "execution_count": 86,
   "id": "949d9b3e",
   "metadata": {},
   "outputs": [],
   "source": [
    "def func(a : Optional[int], b: int):\n",
    "    pass"
   ]
  },
  {
   "cell_type": "code",
   "execution_count": 90,
   "id": "38013a71",
   "metadata": {},
   "outputs": [],
   "source": [
    "func(None, 20)"
   ]
  },
  {
   "cell_type": "code",
   "execution_count": 91,
   "id": "c8e9fdf5",
   "metadata": {},
   "outputs": [],
   "source": [
    "from typing import List"
   ]
  },
  {
   "cell_type": "code",
   "execution_count": 92,
   "id": "6e61e363",
   "metadata": {},
   "outputs": [],
   "source": [
    "def square(numbers : List[int]) -> List[int]:\n",
    "    return [ele ** 2 for ele in numbers]"
   ]
  },
  {
   "cell_type": "code",
   "execution_count": 93,
   "id": "7296f9cd",
   "metadata": {},
   "outputs": [],
   "source": [
    "def square(numbers : List[Union[int, float]]) -> List[Union[int, float]]:\n",
    "    return [ele ** 2 for ele in numbers]"
   ]
  },
  {
   "cell_type": "code",
   "execution_count": 94,
   "id": "611c700c",
   "metadata": {},
   "outputs": [],
   "source": [
    "# List[int | float] == List[Union[int, float]]"
   ]
  },
  {
   "cell_type": "code",
   "execution_count": 95,
   "id": "3e3874d2",
   "metadata": {},
   "outputs": [],
   "source": [
    "from typing import Tuple"
   ]
  },
  {
   "cell_type": "code",
   "execution_count": 96,
   "id": "96b37522",
   "metadata": {},
   "outputs": [],
   "source": [
    "def square(numbers : Tuple[int]):\n",
    "    pass"
   ]
  },
  {
   "cell_type": "code",
   "execution_count": 97,
   "id": "159f07be",
   "metadata": {},
   "outputs": [],
   "source": [
    "Vector = List[Union[int, float]]"
   ]
  },
  {
   "cell_type": "code",
   "execution_count": 98,
   "id": "973a1bf3",
   "metadata": {},
   "outputs": [],
   "source": [
    "def square(numbers : Vector) -> Vector:\n",
    "    return [ele ** 2 for ele in numbers]"
   ]
  },
  {
   "cell_type": "code",
   "execution_count": 99,
   "id": "e46044e3",
   "metadata": {},
   "outputs": [
    {
     "data": {
      "text/plain": [
       "[1, 4, 1156]"
      ]
     },
     "execution_count": 99,
     "metadata": {},
     "output_type": "execute_result"
    }
   ],
   "source": [
    "square([1,2,34])"
   ]
  },
  {
   "cell_type": "code",
   "execution_count": 100,
   "id": "7921d843",
   "metadata": {},
   "outputs": [],
   "source": [
    "# Union[List[int], Tuple[int]]\n",
    "from typing import Sequence"
   ]
  },
  {
   "cell_type": "code",
   "execution_count": 101,
   "id": "2f05460a",
   "metadata": {},
   "outputs": [],
   "source": [
    "# Sequence[int] == List[int] | Tuple[int]"
   ]
  },
  {
   "cell_type": "code",
   "execution_count": 102,
   "id": "aa37c087",
   "metadata": {},
   "outputs": [],
   "source": [
    "def square(numbers : Sequence[int]) -> List[int]:\n",
    "    return [ele ** 2 for ele in numbers]"
   ]
  },
  {
   "cell_type": "code",
   "execution_count": 105,
   "id": "6a6de4ba",
   "metadata": {},
   "outputs": [],
   "source": [
    " def custom_map(func, itrbl):\n",
    "        for ele in itrbl:\n",
    "            yield func(ele)"
   ]
  },
  {
   "cell_type": "code",
   "execution_count": 107,
   "id": "5f390c2d",
   "metadata": {},
   "outputs": [
    {
     "data": {
      "text/plain": [
       "[4, 9, 16]"
      ]
     },
     "execution_count": 107,
     "metadata": {},
     "output_type": "execute_result"
    }
   ],
   "source": [
    "list(custom_map(lambda x : x ** 2, [2,3,4]))"
   ]
  },
  {
   "cell_type": "code",
   "execution_count": 108,
   "id": "b5fe64e0",
   "metadata": {},
   "outputs": [],
   "source": [
    "from typing import Iterable, Iterator"
   ]
  },
  {
   "cell_type": "code",
   "execution_count": 111,
   "id": "a6e6c696",
   "metadata": {},
   "outputs": [],
   "source": [
    " def custom_map(func, itrbl: Iterable) -> Iterator:\n",
    "        for ele in itrbl:\n",
    "            yield func(ele)"
   ]
  },
  {
   "cell_type": "code",
   "execution_count": 112,
   "id": "ee153606",
   "metadata": {},
   "outputs": [],
   "source": [
    "from collections.abc import Iterable,Iterator"
   ]
  },
  {
   "cell_type": "code",
   "execution_count": 113,
   "id": "8f26469d",
   "metadata": {},
   "outputs": [],
   "source": [
    " def custom_map(func, itrbl: Iterable) -> Iterator:\n",
    "        for ele in itrbl:\n",
    "            yield func(ele)"
   ]
  },
  {
   "cell_type": "code",
   "execution_count": 114,
   "id": "fac6e526",
   "metadata": {},
   "outputs": [],
   "source": [
    "from typing import Callable"
   ]
  },
  {
   "cell_type": "code",
   "execution_count": 116,
   "id": "3eeb95e8",
   "metadata": {},
   "outputs": [
    {
     "data": {
      "text/plain": [
       "typing.Callable[[int, int], int]"
      ]
     },
     "execution_count": 116,
     "metadata": {},
     "output_type": "execute_result"
    }
   ],
   "source": [
    "Callable[[int, int], int]"
   ]
  },
  {
   "cell_type": "code",
   "execution_count": 117,
   "id": "7c2933d5",
   "metadata": {},
   "outputs": [],
   "source": [
    "def apply(func : Callable[[int], int], it: Iterable) -> List[int]:\n",
    "    return [func(ele) for ele in it]"
   ]
  },
  {
   "cell_type": "code",
   "execution_count": 118,
   "id": "033223b3",
   "metadata": {},
   "outputs": [
    {
     "data": {
      "text/plain": [
       "[1, 4, 9, 16]"
      ]
     },
     "execution_count": 118,
     "metadata": {},
     "output_type": "execute_result"
    }
   ],
   "source": [
    "apply(lambda x: x ** 2, [1,2,3,4])"
   ]
  },
  {
   "cell_type": "markdown",
   "id": "14ed19be",
   "metadata": {},
   "source": [
    "# Data Classes"
   ]
  },
  {
   "cell_type": "code",
   "execution_count": 1,
   "id": "eac1aa99",
   "metadata": {},
   "outputs": [],
   "source": [
    "class Circle:\n",
    "    def __init__(self, x: int, y:int, radius:int):\n",
    "        self.x = x\n",
    "        self.y = y\n",
    "        self.radius = radius"
   ]
  },
  {
   "cell_type": "code",
   "execution_count": 2,
   "id": "152efd18",
   "metadata": {},
   "outputs": [],
   "source": [
    "c = Circle(1,2,1)"
   ]
  },
  {
   "cell_type": "code",
   "execution_count": 3,
   "id": "06d389ee",
   "metadata": {},
   "outputs": [
    {
     "data": {
      "text/plain": [
       "<__main__.Circle at 0x159f6303130>"
      ]
     },
     "execution_count": 3,
     "metadata": {},
     "output_type": "execute_result"
    }
   ],
   "source": [
    "c"
   ]
  },
  {
   "cell_type": "code",
   "execution_count": 4,
   "id": "430c5a5b",
   "metadata": {},
   "outputs": [],
   "source": [
    "class Circle:\n",
    "    def __init__(self, x: int, y:int, radius:int):\n",
    "        self.x = x\n",
    "        self.y = y\n",
    "        self.radius = radius\n",
    "        \n",
    "    def __repr__(self):\n",
    "        return f\"Circle(x = {self.x}, y = {self.y}, radius = {self.radius})\""
   ]
  },
  {
   "cell_type": "code",
   "execution_count": 5,
   "id": "06c108c5",
   "metadata": {},
   "outputs": [],
   "source": [
    "c = Circle(1,2,1)"
   ]
  },
  {
   "cell_type": "code",
   "execution_count": 6,
   "id": "1894c04b",
   "metadata": {},
   "outputs": [
    {
     "data": {
      "text/plain": [
       "Circle(x = 1, y = 2, radius = 1)"
      ]
     },
     "execution_count": 6,
     "metadata": {},
     "output_type": "execute_result"
    }
   ],
   "source": [
    "c"
   ]
  },
  {
   "cell_type": "code",
   "execution_count": 7,
   "id": "1187e7f7",
   "metadata": {},
   "outputs": [],
   "source": [
    "c1 = Circle(1,2,1)"
   ]
  },
  {
   "cell_type": "code",
   "execution_count": 8,
   "id": "e7f63567",
   "metadata": {},
   "outputs": [],
   "source": [
    "c2 = Circle(1,2,1)"
   ]
  },
  {
   "cell_type": "code",
   "execution_count": 9,
   "id": "54cd3784",
   "metadata": {},
   "outputs": [
    {
     "data": {
      "text/plain": [
       "False"
      ]
     },
     "execution_count": 9,
     "metadata": {},
     "output_type": "execute_result"
    }
   ],
   "source": [
    "c1 is c2"
   ]
  },
  {
   "cell_type": "code",
   "execution_count": 10,
   "id": "94dea4ff",
   "metadata": {},
   "outputs": [
    {
     "data": {
      "text/plain": [
       "False"
      ]
     },
     "execution_count": 10,
     "metadata": {},
     "output_type": "execute_result"
    }
   ],
   "source": [
    "c1 == c2"
   ]
  },
  {
   "cell_type": "code",
   "execution_count": 11,
   "id": "cc18dd04",
   "metadata": {},
   "outputs": [],
   "source": [
    "class Circle:\n",
    "    def __init__(self, x: int, y:int, radius:int):\n",
    "        self.x = x\n",
    "        self.y = y\n",
    "        self.radius = radius\n",
    "        \n",
    "    def __repr__(self):\n",
    "        return f\"Circle(x = {self.x}, y = {self.y}, radius = {self.radius})\"\n",
    "    \n",
    "    def __eq__(self, other):\n",
    "        return (self.x, self.y, self.radius) == (other.x, other.y, other.radius)"
   ]
  },
  {
   "cell_type": "code",
   "execution_count": 12,
   "id": "944c6403",
   "metadata": {},
   "outputs": [],
   "source": [
    "c1 = Circle(1,2,1)\n",
    "c2 = Circle(1,2,1)"
   ]
  },
  {
   "cell_type": "code",
   "execution_count": 13,
   "id": "832f4c87",
   "metadata": {},
   "outputs": [
    {
     "data": {
      "text/plain": [
       "False"
      ]
     },
     "execution_count": 13,
     "metadata": {},
     "output_type": "execute_result"
    }
   ],
   "source": [
    "c1 is c2"
   ]
  },
  {
   "cell_type": "code",
   "execution_count": 14,
   "id": "4b76c7ad",
   "metadata": {},
   "outputs": [
    {
     "data": {
      "text/plain": [
       "True"
      ]
     },
     "execution_count": 14,
     "metadata": {},
     "output_type": "execute_result"
    }
   ],
   "source": [
    "c1 == c2"
   ]
  },
  {
   "cell_type": "code",
   "execution_count": 15,
   "id": "3681a9aa",
   "metadata": {},
   "outputs": [],
   "source": [
    "from dataclasses import dataclass"
   ]
  },
  {
   "cell_type": "code",
   "execution_count": 19,
   "id": "ac94ccfb",
   "metadata": {},
   "outputs": [],
   "source": [
    "@dataclass\n",
    "class CircleD:\n",
    "    x: int # type hinting\n",
    "    y: int # type hinting\n",
    "    radius:int = 1"
   ]
  },
  {
   "cell_type": "code",
   "execution_count": 20,
   "id": "8567e38d",
   "metadata": {},
   "outputs": [],
   "source": [
    "c = CircleD(1,2,1)"
   ]
  },
  {
   "cell_type": "code",
   "execution_count": 21,
   "id": "68e8fd7a",
   "metadata": {},
   "outputs": [
    {
     "data": {
      "text/plain": [
       "CircleD(x=1, y=2, radius=1)"
      ]
     },
     "execution_count": 21,
     "metadata": {},
     "output_type": "execute_result"
    }
   ],
   "source": [
    "c"
   ]
  },
  {
   "cell_type": "code",
   "execution_count": 22,
   "id": "51531f39",
   "metadata": {},
   "outputs": [],
   "source": [
    "c1 = CircleD(1,2,1)\n",
    "c2 = CircleD(1,2,1)"
   ]
  },
  {
   "cell_type": "code",
   "execution_count": 23,
   "id": "09613479",
   "metadata": {},
   "outputs": [
    {
     "data": {
      "text/plain": [
       "(False, True)"
      ]
     },
     "execution_count": 23,
     "metadata": {},
     "output_type": "execute_result"
    }
   ],
   "source": [
    "c1 is c2, c1 == c2"
   ]
  },
  {
   "cell_type": "code",
   "execution_count": 28,
   "id": "55b62510",
   "metadata": {},
   "outputs": [
    {
     "ename": "TypeError",
     "evalue": "unhashable type: 'CircleD'",
     "output_type": "error",
     "traceback": [
      "\u001b[1;31m---------------------------------------------------------------------------\u001b[0m",
      "\u001b[1;31mTypeError\u001b[0m                                 Traceback (most recent call last)",
      "\u001b[1;32m~\\AppData\\Local\\Temp\\ipykernel_35716\\3843108512.py\u001b[0m in \u001b[0;36m<module>\u001b[1;34m\u001b[0m\n\u001b[1;32m----> 1\u001b[1;33m \u001b[1;33m{\u001b[0m\u001b[0mc1\u001b[0m\u001b[1;33m,\u001b[0m \u001b[0mc2\u001b[0m\u001b[1;33m}\u001b[0m\u001b[1;33m\u001b[0m\u001b[1;33m\u001b[0m\u001b[0m\n\u001b[0m",
      "\u001b[1;31mTypeError\u001b[0m: unhashable type: 'CircleD'"
     ]
    }
   ],
   "source": [
    "{c1, c2}"
   ]
  },
  {
   "cell_type": "code",
   "execution_count": 29,
   "id": "94abf0fd",
   "metadata": {},
   "outputs": [],
   "source": [
    "t1 = (1,2)"
   ]
  },
  {
   "cell_type": "code",
   "execution_count": 30,
   "id": "05781419",
   "metadata": {},
   "outputs": [],
   "source": [
    "t2 = (1,2)"
   ]
  },
  {
   "cell_type": "code",
   "execution_count": 31,
   "id": "06fd432c",
   "metadata": {},
   "outputs": [
    {
     "data": {
      "text/plain": [
       "False"
      ]
     },
     "execution_count": 31,
     "metadata": {},
     "output_type": "execute_result"
    }
   ],
   "source": [
    "t1 is t2"
   ]
  },
  {
   "cell_type": "code",
   "execution_count": 32,
   "id": "505fb8f5",
   "metadata": {},
   "outputs": [
    {
     "data": {
      "text/plain": [
       "True"
      ]
     },
     "execution_count": 32,
     "metadata": {},
     "output_type": "execute_result"
    }
   ],
   "source": [
    "t1 == t2"
   ]
  },
  {
   "cell_type": "code",
   "execution_count": 33,
   "id": "0806726c",
   "metadata": {},
   "outputs": [
    {
     "data": {
      "text/plain": [
       "True"
      ]
     },
     "execution_count": 33,
     "metadata": {},
     "output_type": "execute_result"
    }
   ],
   "source": [
    "hash(t1) == hash(t2)"
   ]
  },
  {
   "cell_type": "code",
   "execution_count": 36,
   "id": "d993512f",
   "metadata": {},
   "outputs": [
    {
     "data": {
      "text/plain": [
       "{(1, 2)}"
      ]
     },
     "execution_count": 36,
     "metadata": {},
     "output_type": "execute_result"
    }
   ],
   "source": [
    "s = {t1, t2}\n",
    "s"
   ]
  },
  {
   "cell_type": "code",
   "execution_count": 37,
   "id": "3fbf1086",
   "metadata": {},
   "outputs": [
    {
     "name": "stdout",
     "output_type": "stream",
     "text": [
      "(1, 2)\n"
     ]
    }
   ],
   "source": [
    "for ele in s:\n",
    "    print(ele)"
   ]
  },
  {
   "cell_type": "code",
   "execution_count": 39,
   "id": "a6f5ccf9",
   "metadata": {},
   "outputs": [],
   "source": [
    "@dataclass(frozen = True)\n",
    "class CircleD:\n",
    "    x:int = 0\n",
    "    y:int = 0\n",
    "    radius:int = 1\n"
   ]
  },
  {
   "cell_type": "code",
   "execution_count": 40,
   "id": "d9f7f8a0",
   "metadata": {},
   "outputs": [],
   "source": [
    "c1 = CircleD()"
   ]
  },
  {
   "cell_type": "code",
   "execution_count": 41,
   "id": "0da1bd79",
   "metadata": {},
   "outputs": [],
   "source": [
    "c2 = CircleD(1,1)"
   ]
  },
  {
   "cell_type": "code",
   "execution_count": 42,
   "id": "e240cc97",
   "metadata": {},
   "outputs": [],
   "source": [
    "c3 = CircleD()"
   ]
  },
  {
   "cell_type": "code",
   "execution_count": 43,
   "id": "0fd5b9f7",
   "metadata": {},
   "outputs": [
    {
     "data": {
      "text/plain": [
       "(CircleD(x=0, y=0, radius=1),\n",
       " CircleD(x=1, y=1, radius=1),\n",
       " CircleD(x=0, y=0, radius=1))"
      ]
     },
     "execution_count": 43,
     "metadata": {},
     "output_type": "execute_result"
    }
   ],
   "source": [
    "c1, c2, c3"
   ]
  },
  {
   "cell_type": "code",
   "execution_count": 44,
   "id": "41c06877",
   "metadata": {},
   "outputs": [
    {
     "data": {
      "text/plain": [
       "(False, False)"
      ]
     },
     "execution_count": 44,
     "metadata": {},
     "output_type": "execute_result"
    }
   ],
   "source": [
    "c1 == c2, c2 == c3"
   ]
  },
  {
   "cell_type": "code",
   "execution_count": 45,
   "id": "ad00d7a1",
   "metadata": {},
   "outputs": [
    {
     "data": {
      "text/plain": [
       "True"
      ]
     },
     "execution_count": 45,
     "metadata": {},
     "output_type": "execute_result"
    }
   ],
   "source": [
    "c1 == c3"
   ]
  },
  {
   "cell_type": "code",
   "execution_count": 46,
   "id": "bc634a3e",
   "metadata": {},
   "outputs": [
    {
     "ename": "FrozenInstanceError",
     "evalue": "cannot assign to field 'x'",
     "output_type": "error",
     "traceback": [
      "\u001b[1;31m---------------------------------------------------------------------------\u001b[0m",
      "\u001b[1;31mFrozenInstanceError\u001b[0m                       Traceback (most recent call last)",
      "\u001b[1;32m~\\AppData\\Local\\Temp\\ipykernel_35716\\3732114060.py\u001b[0m in \u001b[0;36m<module>\u001b[1;34m\u001b[0m\n\u001b[1;32m----> 1\u001b[1;33m \u001b[0mc1\u001b[0m\u001b[1;33m.\u001b[0m\u001b[0mx\u001b[0m \u001b[1;33m=\u001b[0m \u001b[1;36m100\u001b[0m\u001b[1;33m\u001b[0m\u001b[1;33m\u001b[0m\u001b[0m\n\u001b[0m",
      "\u001b[1;32m<string>\u001b[0m in \u001b[0;36m__setattr__\u001b[1;34m(self, name, value)\u001b[0m\n",
      "\u001b[1;31mFrozenInstanceError\u001b[0m: cannot assign to field 'x'"
     ]
    }
   ],
   "source": [
    "c1.x = 100"
   ]
  },
  {
   "cell_type": "code",
   "execution_count": 47,
   "id": "af8a2858",
   "metadata": {},
   "outputs": [
    {
     "data": {
      "text/plain": [
       "-1882636517035687140"
      ]
     },
     "execution_count": 47,
     "metadata": {},
     "output_type": "execute_result"
    }
   ],
   "source": [
    "hash(c1)"
   ]
  },
  {
   "cell_type": "code",
   "execution_count": 48,
   "id": "9d751352",
   "metadata": {},
   "outputs": [
    {
     "data": {
      "text/plain": [
       "5750192569890809213"
      ]
     },
     "execution_count": 48,
     "metadata": {},
     "output_type": "execute_result"
    }
   ],
   "source": [
    "hash(c2)"
   ]
  },
  {
   "cell_type": "code",
   "execution_count": 49,
   "id": "56b92fec",
   "metadata": {},
   "outputs": [
    {
     "data": {
      "text/plain": [
       "-1882636517035687140"
      ]
     },
     "execution_count": 49,
     "metadata": {},
     "output_type": "execute_result"
    }
   ],
   "source": [
    "hash(c3)"
   ]
  },
  {
   "cell_type": "code",
   "execution_count": 50,
   "id": "0da2fefd",
   "metadata": {},
   "outputs": [],
   "source": [
    "s = {c1,c3}"
   ]
  },
  {
   "cell_type": "code",
   "execution_count": 51,
   "id": "357f3eb4",
   "metadata": {},
   "outputs": [
    {
     "data": {
      "text/plain": [
       "{CircleD(x=0, y=0, radius=1)}"
      ]
     },
     "execution_count": 51,
     "metadata": {},
     "output_type": "execute_result"
    }
   ],
   "source": [
    "s"
   ]
  },
  {
   "cell_type": "code",
   "execution_count": 52,
   "id": "a9ba1313",
   "metadata": {},
   "outputs": [],
   "source": [
    "d = {c1:'circle 1', c3:'circle 3'}"
   ]
  },
  {
   "cell_type": "code",
   "execution_count": 53,
   "id": "44bcec89",
   "metadata": {},
   "outputs": [
    {
     "data": {
      "text/plain": [
       "{CircleD(x=0, y=0, radius=1): 'circle 3'}"
      ]
     },
     "execution_count": 53,
     "metadata": {},
     "output_type": "execute_result"
    }
   ],
   "source": [
    "d"
   ]
  },
  {
   "cell_type": "code",
   "execution_count": 54,
   "id": "10ccdbd2",
   "metadata": {},
   "outputs": [],
   "source": [
    "from functools import total_ordering\n",
    "@total_ordering\n",
    "class Circle:\n",
    "    def __init__(self, x: int = 0, y: int = 0, radius: int = 1):\n",
    "        self._x = x\n",
    "        self._y = y\n",
    "        self._radius = radius\n",
    "\n",
    "    @property\n",
    "    def x(self):\n",
    "        return self._x\n",
    "    \n",
    "    @property\n",
    "    def y(self):\n",
    "        return self._y\n",
    "    \n",
    "    @property\n",
    "    def radius(self):\n",
    "        return self._radius\n",
    "    \n",
    "    def __repr__(self):\n",
    "        return f\"{self.__class__.__qualname__}(x={self.x}, y={self.y}, radius={self.radius})\"\n",
    "    \n",
    "    def __eq__(self, other):\n",
    "        if self.__class__ == other.__class__:\n",
    "            return (self.x, self.y, self.radius) == (other.x, other.y, other.radius)\n",
    "        return NotImplemented\n",
    "    \n",
    "    def __hash__(self):\n",
    "        return hash((self.x, self.y, self.radius))\n",
    "    \n",
    "    def __lt__(self, other):\n",
    "        return (self.x, self.y, self.radius) < (other.x, other.y, other.radius)"
   ]
  },
  {
   "cell_type": "code",
   "execution_count": 55,
   "id": "41138e84",
   "metadata": {},
   "outputs": [],
   "source": [
    "@dataclass(frozen = True, order = True)\n",
    "class CircleD:\n",
    "    x:int = 0\n",
    "    y:int = 0\n",
    "    radius:int = 1"
   ]
  },
  {
   "cell_type": "code",
   "execution_count": 57,
   "id": "da168c70",
   "metadata": {},
   "outputs": [],
   "source": [
    "from dataclasses import asdict, astuple"
   ]
  },
  {
   "cell_type": "code",
   "execution_count": 58,
   "id": "3af15845",
   "metadata": {},
   "outputs": [
    {
     "data": {
      "text/plain": [
       "{'x': 0, 'y': 0, 'radius': 1}"
      ]
     },
     "execution_count": 58,
     "metadata": {},
     "output_type": "execute_result"
    }
   ],
   "source": [
    "asdict(c1)"
   ]
  },
  {
   "cell_type": "code",
   "execution_count": 60,
   "id": "ca548afd",
   "metadata": {},
   "outputs": [
    {
     "data": {
      "text/plain": [
       "{'x': 1, 'y': 1, 'radius': 1}"
      ]
     },
     "execution_count": 60,
     "metadata": {},
     "output_type": "execute_result"
    }
   ],
   "source": [
    "asdict(c2)"
   ]
  },
  {
   "cell_type": "code",
   "execution_count": 61,
   "id": "53f96075",
   "metadata": {},
   "outputs": [],
   "source": [
    "from dataclasses import fields"
   ]
  },
  {
   "cell_type": "code",
   "execution_count": 68,
   "id": "19293c10",
   "metadata": {},
   "outputs": [
    {
     "name": "stdout",
     "output_type": "stream",
     "text": [
      "Field(name='x',type=<class 'int'>,default=0,default_factory=<dataclasses._MISSING_TYPE object at 0x00000159F5876310>,init=True,repr=True,hash=None,compare=True,metadata=mappingproxy({}),_field_type=_FIELD)\n",
      "-----------------------------------\n",
      "\n",
      "-----------------------------------\n",
      "Field(name='y',type=<class 'int'>,default=0,default_factory=<dataclasses._MISSING_TYPE object at 0x00000159F5876310>,init=True,repr=True,hash=None,compare=True,metadata=mappingproxy({}),_field_type=_FIELD)\n",
      "-----------------------------------\n",
      "\n",
      "-----------------------------------\n",
      "Field(name='radius',type=<class 'int'>,default=1,default_factory=<dataclasses._MISSING_TYPE object at 0x00000159F5876310>,init=True,repr=True,hash=None,compare=True,metadata=mappingproxy({}),_field_type=_FIELD)\n",
      "-----------------------------------\n",
      "\n",
      "-----------------------------------\n"
     ]
    }
   ],
   "source": [
    "for field in fields(c1):\n",
    "    print(field,end = '\\n-----------------------------------\\n\\n-----------------------------------\\n')"
   ]
  },
  {
   "cell_type": "code",
   "execution_count": 69,
   "id": "19c8bcca",
   "metadata": {},
   "outputs": [
    {
     "ename": "SyntaxError",
     "evalue": "not a chance (3905450354.py, line 1)",
     "output_type": "error",
     "traceback": [
      "\u001b[1;36m  File \u001b[1;32m\"C:\\Users\\HU496FA\\AppData\\Local\\Temp\\ipykernel_35716\\3905450354.py\"\u001b[1;36m, line \u001b[1;32m1\u001b[0m\n\u001b[1;33m    from __future__ import braces\u001b[0m\n\u001b[1;37m    ^\u001b[0m\n\u001b[1;31mSyntaxError\u001b[0m\u001b[1;31m:\u001b[0m not a chance\n"
     ]
    }
   ],
   "source": [
    "from __future__ import braces"
   ]
  },
  {
   "cell_type": "code",
   "execution_count": 83,
   "id": "83d01b88",
   "metadata": {},
   "outputs": [],
   "source": [
    "from dataclasses import InitVar\n",
    "@dataclass\n",
    "class CircleD:\n",
    "    x:int \n",
    "    y:int\n",
    "    radius:int\n",
    "    transform_x:InitVar[int] = 10\n",
    "    transform_y:InitVar[int] = 20\n",
    "        \n",
    "        \n",
    "#     def __post_init__(self,transform_x, transform_y):\n",
    "#         self.x += transform_x\n",
    "#         self.y += transform_y"
   ]
  },
  {
   "cell_type": "code",
   "execution_count": 84,
   "id": "5119da5c",
   "metadata": {},
   "outputs": [],
   "source": [
    "c = CircleD(1,1,10)"
   ]
  },
  {
   "cell_type": "code",
   "execution_count": 85,
   "id": "4bb71ccd",
   "metadata": {},
   "outputs": [
    {
     "data": {
      "text/plain": [
       "CircleD(x=1, y=1, radius=10)"
      ]
     },
     "execution_count": 85,
     "metadata": {},
     "output_type": "execute_result"
    }
   ],
   "source": [
    "c"
   ]
  },
  {
   "cell_type": "code",
   "execution_count": 86,
   "id": "c3e62bb2",
   "metadata": {},
   "outputs": [],
   "source": [
    "c = CircleD('a','b','c')"
   ]
  },
  {
   "cell_type": "code",
   "execution_count": 87,
   "id": "b607dd6d",
   "metadata": {},
   "outputs": [],
   "source": [
    "from pydantic import BaseModel\n"
   ]
  },
  {
   "cell_type": "code",
   "execution_count": 88,
   "id": "934f432a",
   "metadata": {},
   "outputs": [],
   "source": [
    "class Circle(BaseModel):\n",
    "    x:int\n",
    "    y:int\n",
    "    radius:int"
   ]
  },
  {
   "cell_type": "code",
   "execution_count": 90,
   "id": "bab8de42",
   "metadata": {},
   "outputs": [
    {
     "ename": "ValidationError",
     "evalue": "3 validation errors for Circle\nx\n  Input should be a valid integer, unable to parse string as an integer [type=int_parsing, input_value='a', input_type=str]\n    For further information visit https://errors.pydantic.dev/2.5/v/int_parsing\ny\n  Input should be a valid integer, unable to parse string as an integer [type=int_parsing, input_value='b', input_type=str]\n    For further information visit https://errors.pydantic.dev/2.5/v/int_parsing\nradius\n  Input should be a valid integer, unable to parse string as an integer [type=int_parsing, input_value='c', input_type=str]\n    For further information visit https://errors.pydantic.dev/2.5/v/int_parsing",
     "output_type": "error",
     "traceback": [
      "\u001b[1;31m---------------------------------------------------------------------------\u001b[0m",
      "\u001b[1;31mValidationError\u001b[0m                           Traceback (most recent call last)",
      "\u001b[1;32m~\\AppData\\Local\\Temp\\ipykernel_35716\\2536051616.py\u001b[0m in \u001b[0;36m<module>\u001b[1;34m\u001b[0m\n\u001b[1;32m----> 1\u001b[1;33m \u001b[0mCircle\u001b[0m\u001b[1;33m(\u001b[0m\u001b[0mx\u001b[0m \u001b[1;33m=\u001b[0m \u001b[1;34m'a'\u001b[0m\u001b[1;33m,\u001b[0m\u001b[0my\u001b[0m \u001b[1;33m=\u001b[0m \u001b[1;34m'b'\u001b[0m\u001b[1;33m,\u001b[0m\u001b[0mradius\u001b[0m \u001b[1;33m=\u001b[0m \u001b[1;34m'c'\u001b[0m\u001b[1;33m)\u001b[0m\u001b[1;33m\u001b[0m\u001b[1;33m\u001b[0m\u001b[0m\n\u001b[0m",
      "\u001b[1;32m~\\Anaconda3\\lib\\site-packages\\pydantic\\main.py\u001b[0m in \u001b[0;36m__init__\u001b[1;34m(__pydantic_self__, **data)\u001b[0m\n\u001b[0;32m    162\u001b[0m         \u001b[1;31m# `__tracebackhide__` tells pytest and some other tools to omit this function from tracebacks\u001b[0m\u001b[1;33m\u001b[0m\u001b[1;33m\u001b[0m\u001b[0m\n\u001b[0;32m    163\u001b[0m         \u001b[0m__tracebackhide__\u001b[0m \u001b[1;33m=\u001b[0m \u001b[1;32mTrue\u001b[0m\u001b[1;33m\u001b[0m\u001b[1;33m\u001b[0m\u001b[0m\n\u001b[1;32m--> 164\u001b[1;33m         \u001b[0m__pydantic_self__\u001b[0m\u001b[1;33m.\u001b[0m\u001b[0m__pydantic_validator__\u001b[0m\u001b[1;33m.\u001b[0m\u001b[0mvalidate_python\u001b[0m\u001b[1;33m(\u001b[0m\u001b[0mdata\u001b[0m\u001b[1;33m,\u001b[0m \u001b[0mself_instance\u001b[0m\u001b[1;33m=\u001b[0m\u001b[0m__pydantic_self__\u001b[0m\u001b[1;33m)\u001b[0m\u001b[1;33m\u001b[0m\u001b[1;33m\u001b[0m\u001b[0m\n\u001b[0m\u001b[0;32m    165\u001b[0m \u001b[1;33m\u001b[0m\u001b[0m\n\u001b[0;32m    166\u001b[0m     \u001b[1;31m# The following line sets a flag that we use to determine when `__init__` gets overridden by the user\u001b[0m\u001b[1;33m\u001b[0m\u001b[1;33m\u001b[0m\u001b[0m\n",
      "\u001b[1;31mValidationError\u001b[0m: 3 validation errors for Circle\nx\n  Input should be a valid integer, unable to parse string as an integer [type=int_parsing, input_value='a', input_type=str]\n    For further information visit https://errors.pydantic.dev/2.5/v/int_parsing\ny\n  Input should be a valid integer, unable to parse string as an integer [type=int_parsing, input_value='b', input_type=str]\n    For further information visit https://errors.pydantic.dev/2.5/v/int_parsing\nradius\n  Input should be a valid integer, unable to parse string as an integer [type=int_parsing, input_value='c', input_type=str]\n    For further information visit https://errors.pydantic.dev/2.5/v/int_parsing"
     ]
    }
   ],
   "source": [
    "Circle(x = 'a',y = 'b',radius = 'c')"
   ]
  },
  {
   "cell_type": "code",
   "execution_count": 91,
   "id": "c38c0ed5",
   "metadata": {},
   "outputs": [],
   "source": [
    "c = Circle(x = 1, y = 1, radius = 10)"
   ]
  },
  {
   "cell_type": "code",
   "execution_count": 92,
   "id": "a1990d88",
   "metadata": {},
   "outputs": [
    {
     "data": {
      "text/plain": [
       "Circle(x=1, y=1, radius=10)"
      ]
     },
     "execution_count": 92,
     "metadata": {},
     "output_type": "execute_result"
    }
   ],
   "source": [
    "c"
   ]
  },
  {
   "cell_type": "code",
   "execution_count": 93,
   "id": "696a92b8",
   "metadata": {},
   "outputs": [
    {
     "data": {
      "text/plain": [
       "'Circle(x=1, y=1, radius=10)'"
      ]
     },
     "execution_count": 93,
     "metadata": {},
     "output_type": "execute_result"
    }
   ],
   "source": [
    "repr(c)"
   ]
  },
  {
   "cell_type": "code",
   "execution_count": 94,
   "id": "0258787f",
   "metadata": {},
   "outputs": [
    {
     "data": {
      "text/plain": [
       "'Circle(x=1, y=1, radius=10)'"
      ]
     },
     "execution_count": 94,
     "metadata": {},
     "output_type": "execute_result"
    }
   ],
   "source": [
    "c.__repr__()"
   ]
  },
  {
   "cell_type": "code",
   "execution_count": 95,
   "id": "0c6bc301",
   "metadata": {},
   "outputs": [
    {
     "data": {
      "text/plain": [
       "'x=1 y=1 radius=10'"
      ]
     },
     "execution_count": 95,
     "metadata": {},
     "output_type": "execute_result"
    }
   ],
   "source": [
    "str(c)"
   ]
  },
  {
   "cell_type": "code",
   "execution_count": 96,
   "id": "b089f234",
   "metadata": {},
   "outputs": [
    {
     "data": {
      "text/plain": [
       "'x=1 y=1 radius=10'"
      ]
     },
     "execution_count": 96,
     "metadata": {},
     "output_type": "execute_result"
    }
   ],
   "source": [
    "c.__str__()"
   ]
  },
  {
   "cell_type": "code",
   "execution_count": 100,
   "id": "6028857b",
   "metadata": {},
   "outputs": [],
   "source": [
    "c.model_fields\n",
    "from pydantic import ValidationError"
   ]
  },
  {
   "cell_type": "code",
   "execution_count": 101,
   "id": "2a94a14e",
   "metadata": {},
   "outputs": [
    {
     "name": "stdout",
     "output_type": "stream",
     "text": [
      "3 validation errors for Circle\n",
      "x\n",
      "  Input should be a valid integer, unable to parse string as an integer [type=int_parsing, input_value='a', input_type=str]\n",
      "    For further information visit https://errors.pydantic.dev/2.5/v/int_parsing\n",
      "y\n",
      "  Input should be a valid integer, unable to parse string as an integer [type=int_parsing, input_value='b', input_type=str]\n",
      "    For further information visit https://errors.pydantic.dev/2.5/v/int_parsing\n",
      "radius\n",
      "  Input should be a valid integer, unable to parse string as an integer [type=int_parsing, input_value='one', input_type=str]\n",
      "    For further information visit https://errors.pydantic.dev/2.5/v/int_parsing\n"
     ]
    }
   ],
   "source": [
    "try:\n",
    "    Circle(x = 'a', y = 'b', radius = 'one')\n",
    "except ValidationError as ex:\n",
    "    print(ex)"
   ]
  },
  {
   "cell_type": "code",
   "execution_count": 102,
   "id": "08c4cde8",
   "metadata": {},
   "outputs": [],
   "source": [
    "c = Circle(x = 1, y = 1, radius = 1)"
   ]
  },
  {
   "cell_type": "code",
   "execution_count": 103,
   "id": "4046160a",
   "metadata": {},
   "outputs": [
    {
     "data": {
      "text/plain": [
       "Circle(x=1, y=1, radius=1)"
      ]
     },
     "execution_count": 103,
     "metadata": {},
     "output_type": "execute_result"
    }
   ],
   "source": [
    "c"
   ]
  },
  {
   "cell_type": "code",
   "execution_count": 105,
   "id": "cff72cbe",
   "metadata": {},
   "outputs": [],
   "source": [
    "c.radius = 'twenty'\n",
    "# This does not however raise a error"
   ]
  },
  {
   "cell_type": "markdown",
   "id": "e19627da",
   "metadata": {},
   "source": [
    "# Serealizing"
   ]
  },
  {
   "cell_type": "code",
   "execution_count": 106,
   "id": "2a979abb",
   "metadata": {},
   "outputs": [],
   "source": [
    "class Person(BaseModel):\n",
    "    first_name : str\n",
    "    last_name : str\n",
    "    age : int\n",
    "    "
   ]
  },
  {
   "cell_type": "code",
   "execution_count": 107,
   "id": "f7a4a985",
   "metadata": {},
   "outputs": [],
   "source": [
    "p = Person(last_name = 'Evariste', first_name = 'Galois', age = 20)"
   ]
  },
  {
   "cell_type": "code",
   "execution_count": 108,
   "id": "d733a999",
   "metadata": {},
   "outputs": [
    {
     "data": {
      "text/plain": [
       "Person(first_name='Galois', last_name='Evariste', age=20)"
      ]
     },
     "execution_count": 108,
     "metadata": {},
     "output_type": "execute_result"
    }
   ],
   "source": [
    "p"
   ]
  },
  {
   "cell_type": "code",
   "execution_count": 109,
   "id": "a737e360",
   "metadata": {},
   "outputs": [
    {
     "data": {
      "text/plain": [
       "{'first_name': 'Galois', 'last_name': 'Evariste', 'age': 20}"
      ]
     },
     "execution_count": 109,
     "metadata": {},
     "output_type": "execute_result"
    }
   ],
   "source": [
    "p.__dict__"
   ]
  },
  {
   "cell_type": "code",
   "execution_count": 110,
   "id": "1c62c4bc",
   "metadata": {},
   "outputs": [
    {
     "data": {
      "text/plain": [
       "{'first_name': 'Galois', 'last_name': 'Evariste', 'age': 20}"
      ]
     },
     "execution_count": 110,
     "metadata": {},
     "output_type": "execute_result"
    }
   ],
   "source": [
    "p.model_dump()"
   ]
  },
  {
   "cell_type": "code",
   "execution_count": 111,
   "id": "687412a8",
   "metadata": {},
   "outputs": [
    {
     "data": {
      "text/plain": [
       "{'first_name': 'Galois', 'age': 20}"
      ]
     },
     "execution_count": 111,
     "metadata": {},
     "output_type": "execute_result"
    }
   ],
   "source": [
    "p.model_dump(exclude = ['last_name'])"
   ]
  },
  {
   "cell_type": "code",
   "execution_count": 112,
   "id": "4d26356c",
   "metadata": {},
   "outputs": [
    {
     "data": {
      "text/plain": [
       "{'age': 20}"
      ]
     },
     "execution_count": 112,
     "metadata": {},
     "output_type": "execute_result"
    }
   ],
   "source": [
    "p.model_dump(include = ['age'])"
   ]
  },
  {
   "cell_type": "code",
   "execution_count": 113,
   "id": "448e53ca",
   "metadata": {},
   "outputs": [
    {
     "data": {
      "text/plain": [
       "'{\"first_name\":\"Galois\",\"last_name\":\"Evariste\",\"age\":20}'"
      ]
     },
     "execution_count": 113,
     "metadata": {},
     "output_type": "execute_result"
    }
   ],
   "source": [
    "p.model_dump_json()"
   ]
  },
  {
   "cell_type": "code",
   "execution_count": 115,
   "id": "264982a1",
   "metadata": {},
   "outputs": [
    {
     "data": {
      "text/plain": [
       "str"
      ]
     },
     "execution_count": 115,
     "metadata": {},
     "output_type": "execute_result"
    }
   ],
   "source": [
    "type(p.model_dump_json())"
   ]
  },
  {
   "cell_type": "code",
   "execution_count": 116,
   "id": "75d59a89",
   "metadata": {},
   "outputs": [
    {
     "data": {
      "text/plain": [
       "'{\\n  \"first_name\": \"Galois\",\\n  \"last_name\": \"Evariste\",\\n  \"age\": 20\\n}'"
      ]
     },
     "execution_count": 116,
     "metadata": {},
     "output_type": "execute_result"
    }
   ],
   "source": [
    "p.model_dump_json(indent = 2)"
   ]
  },
  {
   "cell_type": "code",
   "execution_count": 117,
   "id": "688169db",
   "metadata": {},
   "outputs": [
    {
     "name": "stdout",
     "output_type": "stream",
     "text": [
      "{\n",
      "  \"first_name\": \"Galois\",\n",
      "  \"last_name\": \"Evariste\",\n",
      "  \"age\": 20\n",
      "}\n"
     ]
    }
   ],
   "source": [
    "print(p.model_dump_json(indent = 2))"
   ]
  },
  {
   "cell_type": "code",
   "execution_count": 118,
   "id": "c7e088ba",
   "metadata": {},
   "outputs": [
    {
     "data": {
      "text/plain": [
       "'{\"first_name\":\"Galois\"}'"
      ]
     },
     "execution_count": 118,
     "metadata": {},
     "output_type": "execute_result"
    }
   ],
   "source": [
    "p.model_dump_json(include = ['first_name'])"
   ]
  },
  {
   "cell_type": "code",
   "execution_count": 119,
   "id": "fe2e7a2f",
   "metadata": {},
   "outputs": [
    {
     "data": {
      "text/plain": [
       "'{\"first_name\":\"Galois\",\"last_name\":\"Evariste\"}'"
      ]
     },
     "execution_count": 119,
     "metadata": {},
     "output_type": "execute_result"
    }
   ],
   "source": [
    "p.model_dump_json(exclude = ['age'])"
   ]
  },
  {
   "cell_type": "markdown",
   "id": "117c8281",
   "metadata": {},
   "source": [
    "# Deserializing"
   ]
  },
  {
   "cell_type": "code",
   "execution_count": 129,
   "id": "c94e3e22",
   "metadata": {},
   "outputs": [],
   "source": [
    "galois = '{\"first_name\":\"Galois\",\"last_name\":\"Evariste\", \"age\" : 20}'"
   ]
  },
  {
   "cell_type": "code",
   "execution_count": 130,
   "id": "783ff3fc",
   "metadata": {},
   "outputs": [
    {
     "name": "stdout",
     "output_type": "stream",
     "text": [
      "{\"first_name\":\"Galois\",\"last_name\":\"Evariste\", \"age\" : 20}\n"
     ]
    }
   ],
   "source": [
    "print(galois)"
   ]
  },
  {
   "cell_type": "code",
   "execution_count": 131,
   "id": "ae9d3f2f",
   "metadata": {},
   "outputs": [],
   "source": [
    "newton = {\n",
    "    'first_name' : \"Issac\",\n",
    "    'last_name' : \"Newton\",\n",
    "    'age' :84\n",
    "}"
   ]
  },
  {
   "cell_type": "code",
   "execution_count": 132,
   "id": "0f73076a",
   "metadata": {},
   "outputs": [
    {
     "data": {
      "text/plain": [
       "Person(first_name='Issac', last_name='Newton', age=84)"
      ]
     },
     "execution_count": 132,
     "metadata": {},
     "output_type": "execute_result"
    }
   ],
   "source": [
    "Person.model_validate(newton)"
   ]
  },
  {
   "cell_type": "code",
   "execution_count": 133,
   "id": "99cb24b1",
   "metadata": {},
   "outputs": [
    {
     "data": {
      "text/plain": [
       "Person(first_name='Galois', last_name='Evariste', age=20)"
      ]
     },
     "execution_count": 133,
     "metadata": {},
     "output_type": "execute_result"
    }
   ],
   "source": [
    "Person.model_validate_json(galois)"
   ]
  },
  {
   "cell_type": "code",
   "execution_count": 144,
   "id": "33fc7fe4",
   "metadata": {},
   "outputs": [],
   "source": [
    "from dataclasses import dataclass\n",
    "from typing import Tuple\n",
    "@dataclass\n",
    "class Person:\n",
    "    x : Tuple[int, int, int]"
   ]
  },
  {
   "cell_type": "code",
   "execution_count": 145,
   "id": "7188046d",
   "metadata": {},
   "outputs": [],
   "source": [
    "from dataclasses import fields"
   ]
  },
  {
   "cell_type": "code",
   "execution_count": 146,
   "id": "c6c41302",
   "metadata": {},
   "outputs": [
    {
     "data": {
      "text/plain": [
       "(Field(name='x',type=typing.Tuple[int, int, int],default=<dataclasses._MISSING_TYPE object at 0x00000159F5876310>,default_factory=<dataclasses._MISSING_TYPE object at 0x00000159F5876310>,init=True,repr=True,hash=None,compare=True,metadata=mappingproxy({}),_field_type=_FIELD),)"
      ]
     },
     "execution_count": 146,
     "metadata": {},
     "output_type": "execute_result"
    }
   ],
   "source": [
    "fields(Person(x = ()))"
   ]
  },
  {
   "cell_type": "code",
   "execution_count": 152,
   "id": "9c956ba9",
   "metadata": {},
   "outputs": [],
   "source": [
    "class Circle(BaseModel):\n",
    "    center: tuple[int]\n",
    "    radius:int"
   ]
  },
  {
   "cell_type": "code",
   "execution_count": 153,
   "id": "70d561ab",
   "metadata": {},
   "outputs": [
    {
     "ename": "ValidationError",
     "evalue": "1 validation error for Circle\ncenter\n  Tuple should have at most 1 item after validation, not 2 [type=too_long, input_value=(1, 2), input_type=tuple]\n    For further information visit https://errors.pydantic.dev/2.5/v/too_long",
     "output_type": "error",
     "traceback": [
      "\u001b[1;31m---------------------------------------------------------------------------\u001b[0m",
      "\u001b[1;31mValidationError\u001b[0m                           Traceback (most recent call last)",
      "\u001b[1;32m~\\AppData\\Local\\Temp\\ipykernel_35716\\2213347900.py\u001b[0m in \u001b[0;36m<module>\u001b[1;34m\u001b[0m\n\u001b[1;32m----> 1\u001b[1;33m \u001b[0mCircle\u001b[0m\u001b[1;33m(\u001b[0m\u001b[0mcenter\u001b[0m \u001b[1;33m=\u001b[0m \u001b[1;33m(\u001b[0m\u001b[1;36m1\u001b[0m\u001b[1;33m,\u001b[0m\u001b[1;36m2\u001b[0m\u001b[1;33m)\u001b[0m\u001b[1;33m,\u001b[0m \u001b[0mradius\u001b[0m \u001b[1;33m=\u001b[0m \u001b[1;36m2\u001b[0m\u001b[1;33m)\u001b[0m\u001b[1;33m\u001b[0m\u001b[1;33m\u001b[0m\u001b[0m\n\u001b[0m",
      "\u001b[1;32m~\\Anaconda3\\lib\\site-packages\\pydantic\\main.py\u001b[0m in \u001b[0;36m__init__\u001b[1;34m(__pydantic_self__, **data)\u001b[0m\n\u001b[0;32m    162\u001b[0m         \u001b[1;31m# `__tracebackhide__` tells pytest and some other tools to omit this function from tracebacks\u001b[0m\u001b[1;33m\u001b[0m\u001b[1;33m\u001b[0m\u001b[0m\n\u001b[0;32m    163\u001b[0m         \u001b[0m__tracebackhide__\u001b[0m \u001b[1;33m=\u001b[0m \u001b[1;32mTrue\u001b[0m\u001b[1;33m\u001b[0m\u001b[1;33m\u001b[0m\u001b[0m\n\u001b[1;32m--> 164\u001b[1;33m         \u001b[0m__pydantic_self__\u001b[0m\u001b[1;33m.\u001b[0m\u001b[0m__pydantic_validator__\u001b[0m\u001b[1;33m.\u001b[0m\u001b[0mvalidate_python\u001b[0m\u001b[1;33m(\u001b[0m\u001b[0mdata\u001b[0m\u001b[1;33m,\u001b[0m \u001b[0mself_instance\u001b[0m\u001b[1;33m=\u001b[0m\u001b[0m__pydantic_self__\u001b[0m\u001b[1;33m)\u001b[0m\u001b[1;33m\u001b[0m\u001b[1;33m\u001b[0m\u001b[0m\n\u001b[0m\u001b[0;32m    165\u001b[0m \u001b[1;33m\u001b[0m\u001b[0m\n\u001b[0;32m    166\u001b[0m     \u001b[1;31m# The following line sets a flag that we use to determine when `__init__` gets overridden by the user\u001b[0m\u001b[1;33m\u001b[0m\u001b[1;33m\u001b[0m\u001b[0m\n",
      "\u001b[1;31mValidationError\u001b[0m: 1 validation error for Circle\ncenter\n  Tuple should have at most 1 item after validation, not 2 [type=too_long, input_value=(1, 2), input_type=tuple]\n    For further information visit https://errors.pydantic.dev/2.5/v/too_long"
     ]
    }
   ],
   "source": [
    "Circle(center = (1,2), radius = 2)"
   ]
  },
  {
   "cell_type": "markdown",
   "id": "3c213bca",
   "metadata": {},
   "source": [
    "# Data classes"
   ]
  },
  {
   "cell_type": "code",
   "execution_count": 154,
   "id": "20bfc828",
   "metadata": {},
   "outputs": [],
   "source": [
    "class Circle:\n",
    "    def __init__(self, x, y, radius):\n",
    "        self.x = x\n",
    "        self.y = y\n",
    "        self.radius = radius"
   ]
  },
  {
   "cell_type": "code",
   "execution_count": 155,
   "id": "337c6878",
   "metadata": {},
   "outputs": [],
   "source": [
    "c = Circle(0,0,1)"
   ]
  },
  {
   "cell_type": "code",
   "execution_count": 156,
   "id": "42c62c39",
   "metadata": {},
   "outputs": [
    {
     "data": {
      "text/plain": [
       "<__main__.Circle at 0x159f94bf2b0>"
      ]
     },
     "execution_count": 156,
     "metadata": {},
     "output_type": "execute_result"
    }
   ],
   "source": [
    "c"
   ]
  },
  {
   "cell_type": "code",
   "execution_count": 157,
   "id": "d1f9b15c",
   "metadata": {},
   "outputs": [],
   "source": [
    "class Circle:\n",
    "    def __init__(self, x, y, radius):\n",
    "        self.x = x\n",
    "        self.y = y\n",
    "        self.radius = radius\n",
    "        \n",
    "    def __repr__(self):\n",
    "        return f\"Circle(x = {self.x}, y = {self.y}, radius = {self.radius})\""
   ]
  },
  {
   "cell_type": "code",
   "execution_count": 158,
   "id": "08dfc77f",
   "metadata": {},
   "outputs": [],
   "source": [
    "c = Circle(0,0,1)"
   ]
  },
  {
   "cell_type": "code",
   "execution_count": 159,
   "id": "186797d7",
   "metadata": {},
   "outputs": [
    {
     "data": {
      "text/plain": [
       "Circle(x = 0, y = 0, radius = 1)"
      ]
     },
     "execution_count": 159,
     "metadata": {},
     "output_type": "execute_result"
    }
   ],
   "source": [
    "c"
   ]
  },
  {
   "cell_type": "code",
   "execution_count": 160,
   "id": "257cd4c5",
   "metadata": {},
   "outputs": [],
   "source": [
    "# dataclasses -- boilerplate code (code inserter)\n",
    "# It is a function or a (decorator)\n",
    "# It is used to add some code into your custom python class\n",
    "\n",
    "from dataclasses import dataclass"
   ]
  },
  {
   "cell_type": "code",
   "execution_count": 161,
   "id": "38973ffc",
   "metadata": {},
   "outputs": [],
   "source": [
    "class Circle:\n",
    "    x : int\n",
    "    y : int\n",
    "    radius: int"
   ]
  },
  {
   "cell_type": "code",
   "execution_count": 163,
   "id": "5aeb9f27",
   "metadata": {},
   "outputs": [],
   "source": [
    "@dataclass\n",
    "class CircleD:\n",
    "    x : int\n",
    "    y : int\n",
    "    radius: int"
   ]
  },
  {
   "cell_type": "code",
   "execution_count": 164,
   "id": "a6ecd1c8",
   "metadata": {},
   "outputs": [
    {
     "data": {
      "text/plain": [
       "CircleD(x=0, y=0, radius=1)"
      ]
     },
     "execution_count": 164,
     "metadata": {},
     "output_type": "execute_result"
    }
   ],
   "source": [
    "c = CircleD(0,0,1)\n",
    "c"
   ]
  },
  {
   "cell_type": "code",
   "execution_count": 165,
   "id": "d33a55a2",
   "metadata": {},
   "outputs": [],
   "source": [
    "class Circle:\n",
    "    def __init__(self, x, y, radius):\n",
    "        self.x = x\n",
    "        self.y = y\n",
    "        self.radius = radius\n",
    "        \n",
    "    def __repr__(self):\n",
    "        return f\"Circle(x = {self.x}, y = {self.y}, radius = {self.radius})\""
   ]
  },
  {
   "cell_type": "code",
   "execution_count": 167,
   "id": "920db3a0",
   "metadata": {},
   "outputs": [],
   "source": [
    "c1 = Circle(0,0,1)\n",
    "c2 = Circle(0,0,1)"
   ]
  },
  {
   "cell_type": "code",
   "execution_count": 168,
   "id": "ccea80d3",
   "metadata": {},
   "outputs": [
    {
     "data": {
      "text/plain": [
       "False"
      ]
     },
     "execution_count": 168,
     "metadata": {},
     "output_type": "execute_result"
    }
   ],
   "source": [
    "c1 is c2"
   ]
  },
  {
   "cell_type": "code",
   "execution_count": 169,
   "id": "18b0cd99",
   "metadata": {},
   "outputs": [
    {
     "data": {
      "text/plain": [
       "False"
      ]
     },
     "execution_count": 169,
     "metadata": {},
     "output_type": "execute_result"
    }
   ],
   "source": [
    "c1 == c2"
   ]
  },
  {
   "cell_type": "code",
   "execution_count": 170,
   "id": "5fb30cb1",
   "metadata": {},
   "outputs": [],
   "source": [
    "class Circle:\n",
    "    def __init__(self, x, y, radius):\n",
    "        self.x = x\n",
    "        self.y = y\n",
    "        self.radius = radius\n",
    "        \n",
    "    def __repr__(self):\n",
    "        return f\"Circle(x = {self.x}, y = {self.y}, radius = {self.radius})\"\n",
    "    \n",
    "    def __eq__(self, other):\n",
    "        if self.__class__ == other.__class__:\n",
    "            return (self.x, self.y, self.radius)  == (other.x, other.y, other.radius)\n",
    "        return NotImplemented"
   ]
  },
  {
   "cell_type": "code",
   "execution_count": 183,
   "id": "c6c9dbde",
   "metadata": {},
   "outputs": [
    {
     "data": {
      "text/plain": [
       "False"
      ]
     },
     "execution_count": 183,
     "metadata": {},
     "output_type": "execute_result"
    }
   ],
   "source": [
    "c1 = Circle(0,0,1)\n",
    "c2 = Circle(0,0,1)\n",
    "\n",
    "c1 == 56"
   ]
  },
  {
   "cell_type": "code",
   "execution_count": 172,
   "id": "19b3411a",
   "metadata": {},
   "outputs": [
    {
     "data": {
      "text/plain": [
       "False"
      ]
     },
     "execution_count": 172,
     "metadata": {},
     "output_type": "execute_result"
    }
   ],
   "source": [
    "c1 is c2"
   ]
  },
  {
   "cell_type": "code",
   "execution_count": 173,
   "id": "d83824f8",
   "metadata": {},
   "outputs": [
    {
     "data": {
      "text/plain": [
       "True"
      ]
     },
     "execution_count": 173,
     "metadata": {},
     "output_type": "execute_result"
    }
   ],
   "source": [
    "c1 == c2"
   ]
  },
  {
   "cell_type": "code",
   "execution_count": 174,
   "id": "4f4fc76b",
   "metadata": {},
   "outputs": [],
   "source": [
    "@dataclass\n",
    "class CircleD:\n",
    "    x : int\n",
    "    y : int\n",
    "    radius: int"
   ]
  },
  {
   "cell_type": "code",
   "execution_count": 175,
   "id": "555f9e9a",
   "metadata": {},
   "outputs": [],
   "source": [
    "c1 = CircleD(0,0,1)\n",
    "c2 = CircleD(0,0,1)"
   ]
  },
  {
   "cell_type": "code",
   "execution_count": 176,
   "id": "cca7406f",
   "metadata": {},
   "outputs": [
    {
     "data": {
      "text/plain": [
       "False"
      ]
     },
     "execution_count": 176,
     "metadata": {},
     "output_type": "execute_result"
    }
   ],
   "source": [
    "c1 is c2"
   ]
  },
  {
   "cell_type": "code",
   "execution_count": 177,
   "id": "a1b8068f",
   "metadata": {},
   "outputs": [
    {
     "data": {
      "text/plain": [
       "True"
      ]
     },
     "execution_count": 177,
     "metadata": {},
     "output_type": "execute_result"
    }
   ],
   "source": [
    "c1  == c2"
   ]
  },
  {
   "cell_type": "markdown",
   "id": "50fdf44f",
   "metadata": {},
   "source": [
    "# Hashability"
   ]
  },
  {
   "cell_type": "code",
   "execution_count": 181,
   "id": "c5edf438",
   "metadata": {},
   "outputs": [
    {
     "data": {
      "text/plain": [
       "(-3550055125485641917, -3550055125485641917, False, True)"
      ]
     },
     "execution_count": 181,
     "metadata": {},
     "output_type": "execute_result"
    }
   ],
   "source": [
    "t1 = (1,2)\n",
    "t2 = (1,2)\n",
    "\n",
    "hash(t1), hash(t2), t1 is t2, t1 == t2\n",
    "\n",
    "# hashing code is written in such a way that it is consistent"
   ]
  },
  {
   "cell_type": "code",
   "execution_count": 182,
   "id": "44fc6cf5",
   "metadata": {},
   "outputs": [
    {
     "data": {
      "text/plain": [
       "{(1, 2)}"
      ]
     },
     "execution_count": 182,
     "metadata": {},
     "output_type": "execute_result"
    }
   ],
   "source": [
    "{t1, t2} # hash code ke basis pr insertion , t1 == t2"
   ]
  },
  {
   "cell_type": "code",
   "execution_count": 192,
   "id": "06f4511b",
   "metadata": {},
   "outputs": [],
   "source": [
    "# sometimes we need that our class states do not change\n",
    "\n",
    "@dataclass\n",
    "class Circle:\n",
    "    x:int\n",
    "    y:int\n",
    "    radius:int"
   ]
  },
  {
   "cell_type": "code",
   "execution_count": 193,
   "id": "e3f3b17a",
   "metadata": {},
   "outputs": [],
   "source": [
    "c =Circle(0,0,1)"
   ]
  },
  {
   "cell_type": "code",
   "execution_count": 194,
   "id": "f524ee56",
   "metadata": {},
   "outputs": [
    {
     "data": {
      "text/plain": [
       "Circle(x=0, y=0, radius=1)"
      ]
     },
     "execution_count": 194,
     "metadata": {},
     "output_type": "execute_result"
    }
   ],
   "source": [
    "c"
   ]
  },
  {
   "cell_type": "code",
   "execution_count": 195,
   "id": "989d33d6",
   "metadata": {},
   "outputs": [],
   "source": [
    "c.x = 10"
   ]
  },
  {
   "cell_type": "code",
   "execution_count": 196,
   "id": "f3885442",
   "metadata": {},
   "outputs": [
    {
     "data": {
      "text/plain": [
       "Circle(x=10, y=0, radius=1)"
      ]
     },
     "execution_count": 196,
     "metadata": {},
     "output_type": "execute_result"
    }
   ],
   "source": [
    "c"
   ]
  },
  {
   "cell_type": "code",
   "execution_count": 197,
   "id": "f20837cb",
   "metadata": {},
   "outputs": [],
   "source": [
    "@dataclass(frozen = True)\n",
    "class Circle:\n",
    "    x:int\n",
    "    y:int\n",
    "    radius:int"
   ]
  },
  {
   "cell_type": "code",
   "execution_count": 198,
   "id": "6a1d657a",
   "metadata": {},
   "outputs": [],
   "source": [
    "c = Circle(0,0,1)"
   ]
  },
  {
   "cell_type": "code",
   "execution_count": 199,
   "id": "0472c64e",
   "metadata": {},
   "outputs": [
    {
     "data": {
      "text/plain": [
       "Circle(x=0, y=0, radius=1)"
      ]
     },
     "execution_count": 199,
     "metadata": {},
     "output_type": "execute_result"
    }
   ],
   "source": [
    "c"
   ]
  },
  {
   "cell_type": "code",
   "execution_count": 200,
   "id": "4936ee67",
   "metadata": {},
   "outputs": [
    {
     "ename": "FrozenInstanceError",
     "evalue": "cannot assign to field 'x'",
     "output_type": "error",
     "traceback": [
      "\u001b[1;31m---------------------------------------------------------------------------\u001b[0m",
      "\u001b[1;31mFrozenInstanceError\u001b[0m                       Traceback (most recent call last)",
      "\u001b[1;32m~\\AppData\\Local\\Temp\\ipykernel_35716\\1204206269.py\u001b[0m in \u001b[0;36m<module>\u001b[1;34m\u001b[0m\n\u001b[1;32m----> 1\u001b[1;33m \u001b[0mc\u001b[0m\u001b[1;33m.\u001b[0m\u001b[0mx\u001b[0m \u001b[1;33m=\u001b[0m \u001b[1;36m10\u001b[0m\u001b[1;33m\u001b[0m\u001b[1;33m\u001b[0m\u001b[0m\n\u001b[0m",
      "\u001b[1;32m<string>\u001b[0m in \u001b[0;36m__setattr__\u001b[1;34m(self, name, value)\u001b[0m\n",
      "\u001b[1;31mFrozenInstanceError\u001b[0m: cannot assign to field 'x'"
     ]
    }
   ],
   "source": [
    "c.x = 10"
   ]
  },
  {
   "cell_type": "code",
   "execution_count": 201,
   "id": "7bb5f3b1",
   "metadata": {},
   "outputs": [
    {
     "data": {
      "text/plain": [
       "-1882636517035687140"
      ]
     },
     "execution_count": 201,
     "metadata": {},
     "output_type": "execute_result"
    }
   ],
   "source": [
    "hash(c)"
   ]
  },
  {
   "cell_type": "code",
   "execution_count": 202,
   "id": "8c8419b6",
   "metadata": {},
   "outputs": [],
   "source": [
    "@dataclass\n",
    "class Circle:\n",
    "    x:int\n",
    "    y:int\n",
    "    radius:int"
   ]
  },
  {
   "cell_type": "code",
   "execution_count": 203,
   "id": "58028aaf",
   "metadata": {},
   "outputs": [],
   "source": [
    "c = Circle(0,0,1)"
   ]
  },
  {
   "cell_type": "code",
   "execution_count": 204,
   "id": "de7de119",
   "metadata": {},
   "outputs": [
    {
     "ename": "TypeError",
     "evalue": "unhashable type: 'Circle'",
     "output_type": "error",
     "traceback": [
      "\u001b[1;31m---------------------------------------------------------------------------\u001b[0m",
      "\u001b[1;31mTypeError\u001b[0m                                 Traceback (most recent call last)",
      "\u001b[1;32m~\\AppData\\Local\\Temp\\ipykernel_35716\\102067548.py\u001b[0m in \u001b[0;36m<module>\u001b[1;34m\u001b[0m\n\u001b[1;32m----> 1\u001b[1;33m \u001b[0mhash\u001b[0m\u001b[1;33m(\u001b[0m\u001b[0mc\u001b[0m\u001b[1;33m)\u001b[0m\u001b[1;33m\u001b[0m\u001b[1;33m\u001b[0m\u001b[0m\n\u001b[0m",
      "\u001b[1;31mTypeError\u001b[0m: unhashable type: 'Circle'"
     ]
    }
   ],
   "source": [
    "hash(c)"
   ]
  },
  {
   "cell_type": "code",
   "execution_count": 205,
   "id": "97ff09c7",
   "metadata": {},
   "outputs": [],
   "source": [
    "@dataclass\n",
    "class Circle:\n",
    "    x:int\n",
    "    y:int\n",
    "    radius:int"
   ]
  },
  {
   "cell_type": "code",
   "execution_count": 206,
   "id": "3cdaafb5",
   "metadata": {},
   "outputs": [],
   "source": [
    "c1 = Circle(0,0,2)\n",
    "c2 = Circle(0,0,3)"
   ]
  },
  {
   "cell_type": "code",
   "execution_count": 207,
   "id": "e737af23",
   "metadata": {},
   "outputs": [
    {
     "ename": "TypeError",
     "evalue": "'<' not supported between instances of 'Circle' and 'Circle'",
     "output_type": "error",
     "traceback": [
      "\u001b[1;31m---------------------------------------------------------------------------\u001b[0m",
      "\u001b[1;31mTypeError\u001b[0m                                 Traceback (most recent call last)",
      "\u001b[1;32m~\\AppData\\Local\\Temp\\ipykernel_35716\\1975436.py\u001b[0m in \u001b[0;36m<module>\u001b[1;34m\u001b[0m\n\u001b[1;32m----> 1\u001b[1;33m \u001b[0mc1\u001b[0m \u001b[1;33m<\u001b[0m \u001b[0mc2\u001b[0m\u001b[1;33m\u001b[0m\u001b[1;33m\u001b[0m\u001b[0m\n\u001b[0m",
      "\u001b[1;31mTypeError\u001b[0m: '<' not supported between instances of 'Circle' and 'Circle'"
     ]
    }
   ],
   "source": [
    "c1 < c2"
   ]
  },
  {
   "cell_type": "code",
   "execution_count": 208,
   "id": "a9ea202f",
   "metadata": {},
   "outputs": [],
   "source": [
    "@dataclass(order = True)\n",
    "class Circle:\n",
    "    x:int\n",
    "    y:int\n",
    "    radius:int"
   ]
  },
  {
   "cell_type": "code",
   "execution_count": 209,
   "id": "bc5889d8",
   "metadata": {},
   "outputs": [],
   "source": [
    "c1 = Circle(0,0,2)\n",
    "c2 = Circle(0,0,3)"
   ]
  },
  {
   "cell_type": "code",
   "execution_count": 212,
   "id": "9742913a",
   "metadata": {},
   "outputs": [
    {
     "data": {
      "text/plain": [
       "(True, True, False, False)"
      ]
     },
     "execution_count": 212,
     "metadata": {},
     "output_type": "execute_result"
    }
   ],
   "source": [
    "c1 < c2, c1 <= c2, c1 > c2, c1 >= c2"
   ]
  },
  {
   "cell_type": "code",
   "execution_count": 216,
   "id": "155295e6",
   "metadata": {},
   "outputs": [],
   "source": [
    "from math import pi\n",
    "@dataclass(frozen = True, order = True)\n",
    "class Circle:\n",
    "    x : int\n",
    "    y: int\n",
    "    radius : int\n",
    "        \n",
    "    def circumference(self):\n",
    "        return 2 * pi * self.radius\n",
    "    \n",
    "    "
   ]
  },
  {
   "cell_type": "code",
   "execution_count": 217,
   "id": "a05080cf",
   "metadata": {},
   "outputs": [],
   "source": [
    "c = Circle(0,0,1)"
   ]
  },
  {
   "cell_type": "code",
   "execution_count": 218,
   "id": "31b44951",
   "metadata": {},
   "outputs": [
    {
     "data": {
      "text/plain": [
       "6.283185307179586"
      ]
     },
     "execution_count": 218,
     "metadata": {},
     "output_type": "execute_result"
    }
   ],
   "source": [
    "c.circumference()"
   ]
  },
  {
   "cell_type": "code",
   "execution_count": 219,
   "id": "082c65d5",
   "metadata": {},
   "outputs": [],
   "source": [
    "from math import pi\n",
    "@dataclass(frozen = True, order = True)\n",
    "class Circle:\n",
    "    x : int\n",
    "    y: int\n",
    "    radius : int\n",
    "        \n",
    "    def circumference(self):\n",
    "        return 2 * pi * self.radius\n",
    "    \n",
    "    @property\n",
    "    def area(self):\n",
    "        return pi * (self.radius ** 2)\n",
    "    "
   ]
  },
  {
   "cell_type": "code",
   "execution_count": 220,
   "id": "0822d6e2",
   "metadata": {},
   "outputs": [],
   "source": [
    "c = Circle(0,0,1)"
   ]
  },
  {
   "cell_type": "code",
   "execution_count": 221,
   "id": "c5a93b7c",
   "metadata": {},
   "outputs": [
    {
     "data": {
      "text/plain": [
       "Circle(x=0, y=0, radius=1)"
      ]
     },
     "execution_count": 221,
     "metadata": {},
     "output_type": "execute_result"
    }
   ],
   "source": [
    "c"
   ]
  },
  {
   "cell_type": "code",
   "execution_count": 222,
   "id": "7374e2a2",
   "metadata": {},
   "outputs": [
    {
     "data": {
      "text/plain": [
       "3.141592653589793"
      ]
     },
     "execution_count": 222,
     "metadata": {},
     "output_type": "execute_result"
    }
   ],
   "source": [
    "c.area"
   ]
  },
  {
   "cell_type": "code",
   "execution_count": 223,
   "id": "6de83b64",
   "metadata": {},
   "outputs": [
    {
     "ename": "FrozenInstanceError",
     "evalue": "cannot assign to field 'area'",
     "output_type": "error",
     "traceback": [
      "\u001b[1;31m---------------------------------------------------------------------------\u001b[0m",
      "\u001b[1;31mFrozenInstanceError\u001b[0m                       Traceback (most recent call last)",
      "\u001b[1;32m~\\AppData\\Local\\Temp\\ipykernel_35716\\3433335674.py\u001b[0m in \u001b[0;36m<module>\u001b[1;34m\u001b[0m\n\u001b[1;32m----> 1\u001b[1;33m \u001b[0mc\u001b[0m\u001b[1;33m.\u001b[0m\u001b[0marea\u001b[0m \u001b[1;33m=\u001b[0m \u001b[1;36m34\u001b[0m\u001b[1;33m\u001b[0m\u001b[1;33m\u001b[0m\u001b[0m\n\u001b[0m",
      "\u001b[1;32m<string>\u001b[0m in \u001b[0;36m__setattr__\u001b[1;34m(self, name, value)\u001b[0m\n",
      "\u001b[1;31mFrozenInstanceError\u001b[0m: cannot assign to field 'area'"
     ]
    }
   ],
   "source": [
    "c.area = 34"
   ]
  },
  {
   "cell_type": "code",
   "execution_count": 224,
   "id": "4ef6d24d",
   "metadata": {},
   "outputs": [],
   "source": [
    "from typing import Tuple\n",
    "# python 3.9"
   ]
  },
  {
   "cell_type": "code",
   "execution_count": 226,
   "id": "7b38028a",
   "metadata": {},
   "outputs": [],
   "source": [
    "def func(a : tuple[int]) -> int:\n",
    "    pass"
   ]
  },
  {
   "cell_type": "code",
   "execution_count": 227,
   "id": "f92a8efb",
   "metadata": {},
   "outputs": [],
   "source": [
    "def func(a : tuple[int, str]) -> int:\n",
    "    pass"
   ]
  },
  {
   "cell_type": "code",
   "execution_count": 228,
   "id": "8ba62952",
   "metadata": {},
   "outputs": [
    {
     "data": {
      "text/plain": [
       "[1, 4, 9, 16]"
      ]
     },
     "execution_count": 228,
     "metadata": {},
     "output_type": "execute_result"
    }
   ],
   "source": [
    "list(map(lambda x: x** 2, [1,2,3,4]))"
   ]
  },
  {
   "cell_type": "code",
   "execution_count": 229,
   "id": "acf70ccc",
   "metadata": {},
   "outputs": [],
   "source": [
    "from collections.abc import Iterable\n",
    "# from typing import Iterable\n",
    "from typing import Callable\n",
    "\n",
    "def func(f: Callable[[int], int], it: Iterable):\n",
    "    pass"
   ]
  },
  {
   "cell_type": "code",
   "execution_count": 230,
   "id": "f2305133",
   "metadata": {},
   "outputs": [],
   "source": [
    "@dataclass\n",
    "class Circle:\n",
    "    x:int\n",
    "    y:int\n",
    "    radius:int\n"
   ]
  },
  {
   "cell_type": "code",
   "execution_count": 231,
   "id": "53432e15",
   "metadata": {},
   "outputs": [],
   "source": [
    "from dataclasses import fields"
   ]
  },
  {
   "cell_type": "code",
   "execution_count": 232,
   "id": "2a81f400",
   "metadata": {},
   "outputs": [],
   "source": [
    "c = Circle(0,0,1)"
   ]
  },
  {
   "cell_type": "code",
   "execution_count": 237,
   "id": "140ff1e4",
   "metadata": {},
   "outputs": [
    {
     "name": "stdout",
     "output_type": "stream",
     "text": [
      "Field(name='x',type=<class 'int'>,default=<dataclasses._MISSING_TYPE object at 0x00000159F5876310>,default_factory=<dataclasses._MISSING_TYPE object at 0x00000159F5876310>,init=True,repr=True,hash=None,compare=True,metadata=mappingproxy({}),_field_type=_FIELD)\n",
      "============================\n",
      "\n",
      "============================\n",
      "Field(name='y',type=<class 'int'>,default=<dataclasses._MISSING_TYPE object at 0x00000159F5876310>,default_factory=<dataclasses._MISSING_TYPE object at 0x00000159F5876310>,init=True,repr=True,hash=None,compare=True,metadata=mappingproxy({}),_field_type=_FIELD)\n",
      "============================\n",
      "\n",
      "============================\n",
      "Field(name='radius',type=<class 'int'>,default=<dataclasses._MISSING_TYPE object at 0x00000159F5876310>,default_factory=<dataclasses._MISSING_TYPE object at 0x00000159F5876310>,init=True,repr=True,hash=None,compare=True,metadata=mappingproxy({}),_field_type=_FIELD)\n",
      "============================\n",
      "\n",
      "============================\n"
     ]
    }
   ],
   "source": [
    "for field in fields(c):\n",
    "    print(field, end = '\\n============================\\n\\n============================\\n')"
   ]
  },
  {
   "cell_type": "code",
   "execution_count": 1,
   "id": "18919de9",
   "metadata": {},
   "outputs": [],
   "source": [
    "#"
   ]
  },
  {
   "cell_type": "code",
   "execution_count": 2,
   "id": "58ea4d7b",
   "metadata": {},
   "outputs": [],
   "source": [
    "from pydantic import BaseModel, ValidationError"
   ]
  },
  {
   "cell_type": "code",
   "execution_count": 7,
   "id": "bd718885",
   "metadata": {},
   "outputs": [],
   "source": [
    "class Person(BaseModel):\n",
    "    first_name : str\n",
    "    last_name : str\n",
    "    age : int"
   ]
  },
  {
   "cell_type": "code",
   "execution_count": 8,
   "id": "c9e3d269",
   "metadata": {},
   "outputs": [],
   "source": [
    "newton = Person(first_name = \"Issac\", last_name = \"Newton\", age = 84)"
   ]
  },
  {
   "cell_type": "code",
   "execution_count": 9,
   "id": "abd82c39",
   "metadata": {},
   "outputs": [],
   "source": [
    "galois = Person(first_name = 'Evariste', last_name = 'Galois', age = 20)\n",
    "# field theory ==> galois theory ==> 5 (galois theory)\n",
    "# jail ==> jailer\n",
    "# open problem ==> Not solved till now (350)\n",
    "# IQ > toddler"
   ]
  },
  {
   "cell_type": "code",
   "execution_count": 10,
   "id": "e22a94ab",
   "metadata": {},
   "outputs": [],
   "source": [
    "# Pydantic works on the concept of Inheritance whereas dataclasses does not.\n",
    "# data classes acts as code generator and do not perform any type checking\n",
    "# however, pydantic performs type checking. Due to this reason pydantic is somewhat slower than \n",
    "# dataclasses.\n",
    "# What to use then ? depends on the use-case"
   ]
  },
  {
   "cell_type": "code",
   "execution_count": 11,
   "id": "eb92e54b",
   "metadata": {},
   "outputs": [],
   "source": [
    "# If you do not want to strictly perform type checking then use dataclasses\n",
    "# otherwise pydantic ko use kro\n",
    "# Pydantic V1, Pydantic V2 --- rust\n",
    "# It performs type checking only when we create an object\n",
    "# If we try to mutate the field of a model after it has been created then it wont perform\n",
    "# type validation by default."
   ]
  },
  {
   "cell_type": "code",
   "execution_count": 12,
   "id": "8310da75",
   "metadata": {},
   "outputs": [
    {
     "data": {
      "text/plain": [
       "Person(first_name='Issac', last_name='Newton', age=84)"
      ]
     },
     "execution_count": 12,
     "metadata": {},
     "output_type": "execute_result"
    }
   ],
   "source": [
    "newton\n",
    "# so it automatically implements the __repr__() method"
   ]
  },
  {
   "cell_type": "code",
   "execution_count": 13,
   "id": "59e3cc4e",
   "metadata": {},
   "outputs": [
    {
     "ename": "ValidationError",
     "evalue": "1 validation error for Person\nage\n  Input should be a valid integer, unable to parse string as an integer [type=int_parsing, input_value='twenty-three', input_type=str]\n    For further information visit https://errors.pydantic.dev/2.3/v/int_parsing",
     "output_type": "error",
     "traceback": [
      "\u001b[1;31m---------------------------------------------------------------------------\u001b[0m",
      "\u001b[1;31mValidationError\u001b[0m                           Traceback (most recent call last)",
      "Cell \u001b[1;32mIn[13], line 1\u001b[0m\n\u001b[1;32m----> 1\u001b[0m \u001b[43mPerson\u001b[49m\u001b[43m(\u001b[49m\u001b[43mfirst_name\u001b[49m\u001b[43m \u001b[49m\u001b[38;5;241;43m=\u001b[39;49m\u001b[43m \u001b[49m\u001b[38;5;124;43m'\u001b[39;49m\u001b[38;5;124;43mAbhishek\u001b[39;49m\u001b[38;5;124;43m'\u001b[39;49m\u001b[43m,\u001b[49m\u001b[43m \u001b[49m\u001b[43mlast_name\u001b[49m\u001b[43m \u001b[49m\u001b[38;5;241;43m=\u001b[39;49m\u001b[43m \u001b[49m\u001b[38;5;124;43m'\u001b[39;49m\u001b[38;5;124;43mjha\u001b[39;49m\u001b[38;5;124;43m'\u001b[39;49m\u001b[43m,\u001b[49m\u001b[43m \u001b[49m\u001b[43mage\u001b[49m\u001b[43m \u001b[49m\u001b[38;5;241;43m=\u001b[39;49m\u001b[43m \u001b[49m\u001b[38;5;124;43m'\u001b[39;49m\u001b[38;5;124;43mtwenty-three\u001b[39;49m\u001b[38;5;124;43m'\u001b[39;49m\u001b[43m)\u001b[49m\n",
      "File \u001b[1;32m~\\AppData\\Local\\Programs\\Python\\Python311\\Lib\\site-packages\\pydantic\\main.py:165\u001b[0m, in \u001b[0;36mBaseModel.__init__\u001b[1;34m(__pydantic_self__, **data)\u001b[0m\n\u001b[0;32m    163\u001b[0m \u001b[38;5;66;03m# `__tracebackhide__` tells pytest and some other tools to omit this function from tracebacks\u001b[39;00m\n\u001b[0;32m    164\u001b[0m __tracebackhide__ \u001b[38;5;241m=\u001b[39m \u001b[38;5;28;01mTrue\u001b[39;00m\n\u001b[1;32m--> 165\u001b[0m \u001b[43m__pydantic_self__\u001b[49m\u001b[38;5;241;43m.\u001b[39;49m\u001b[43m__pydantic_validator__\u001b[49m\u001b[38;5;241;43m.\u001b[39;49m\u001b[43mvalidate_python\u001b[49m\u001b[43m(\u001b[49m\u001b[43mdata\u001b[49m\u001b[43m,\u001b[49m\u001b[43m \u001b[49m\u001b[43mself_instance\u001b[49m\u001b[38;5;241;43m=\u001b[39;49m\u001b[43m__pydantic_self__\u001b[49m\u001b[43m)\u001b[49m\n",
      "\u001b[1;31mValidationError\u001b[0m: 1 validation error for Person\nage\n  Input should be a valid integer, unable to parse string as an integer [type=int_parsing, input_value='twenty-three', input_type=str]\n    For further information visit https://errors.pydantic.dev/2.3/v/int_parsing"
     ]
    }
   ],
   "source": [
    "Person(first_name = 'Abhishek', last_name = 'jha', age = 'twenty-three')"
   ]
  },
  {
   "cell_type": "code",
   "execution_count": 14,
   "id": "ff0d8570",
   "metadata": {},
   "outputs": [],
   "source": [
    "from pydantic import ValidationError"
   ]
  },
  {
   "cell_type": "code",
   "execution_count": 15,
   "id": "3e7c1a09",
   "metadata": {},
   "outputs": [
    {
     "name": "stdout",
     "output_type": "stream",
     "text": [
      "1 validation error for Person\n",
      "age\n",
      "  Input should be a valid integer, unable to parse string as an integer [type=int_parsing, input_value='twenty-three', input_type=str]\n",
      "    For further information visit https://errors.pydantic.dev/2.3/v/int_parsing\n"
     ]
    }
   ],
   "source": [
    "try:\n",
    "    Person(first_name = 'Abhishek', last_name = 'jha', age = 'twenty-three')\n",
    "except ValidationError as ex:\n",
    "    print(ex)"
   ]
  },
  {
   "cell_type": "markdown",
   "id": "58002a87",
   "metadata": {},
   "source": [
    "# All the fields are required"
   ]
  },
  {
   "cell_type": "code",
   "execution_count": 16,
   "id": "ca120d1c",
   "metadata": {},
   "outputs": [
    {
     "data": {
      "text/plain": [
       "5"
      ]
     },
     "execution_count": 16,
     "metadata": {},
     "output_type": "execute_result"
    }
   ],
   "source": [
    "2 + 3"
   ]
  },
  {
   "cell_type": "code",
   "execution_count": 17,
   "id": "c9adffb0",
   "metadata": {},
   "outputs": [],
   "source": [
    "from pydantic import BaseModel"
   ]
  },
  {
   "cell_type": "code",
   "execution_count": 19,
   "id": "40f2fbb9",
   "metadata": {},
   "outputs": [],
   "source": [
    "class Model(BaseModel):\n",
    "    field : int | None  = None"
   ]
  },
  {
   "cell_type": "code",
   "execution_count": 21,
   "id": "df6d1e7c",
   "metadata": {},
   "outputs": [
    {
     "data": {
      "text/plain": [
       "Model(field=None)"
      ]
     },
     "execution_count": 21,
     "metadata": {},
     "output_type": "execute_result"
    }
   ],
   "source": [
    "Model()"
   ]
  },
  {
   "cell_type": "code",
   "execution_count": 25,
   "id": "f8bb66d7",
   "metadata": {},
   "outputs": [],
   "source": [
    "try:\n",
    "    Model(field = '23')\n",
    "except ValidationError as ex:\n",
    "    print(ex)\n",
    "    \n",
    "    \n",
    "# Type coercion"
   ]
  },
  {
   "cell_type": "code",
   "execution_count": 26,
   "id": "417fe704",
   "metadata": {},
   "outputs": [],
   "source": [
    "from pprint import pprint"
   ]
  },
  {
   "cell_type": "code",
   "execution_count": 27,
   "id": "dbf4b37e",
   "metadata": {},
   "outputs": [
    {
     "name": "stdout",
     "output_type": "stream",
     "text": [
      "2\n"
     ]
    }
   ],
   "source": [
    "pprint(2)"
   ]
  },
  {
   "cell_type": "code",
   "execution_count": 33,
   "id": "4b736f50",
   "metadata": {},
   "outputs": [
    {
     "name": "stdout",
     "output_type": "stream",
     "text": [
      "{'age': 23, 'name': 'Abhishek', 'she': 'Amrusha'}\n"
     ]
    }
   ],
   "source": [
    "pprint({'name' : 'Abhishek', 'age' : 23, 'she':'Amrusha'})"
   ]
  },
  {
   "cell_type": "code",
   "execution_count": 34,
   "id": "76906d91",
   "metadata": {},
   "outputs": [],
   "source": [
    "pprint?"
   ]
  },
  {
   "cell_type": "code",
   "execution_count": 1,
   "id": "810b3494",
   "metadata": {},
   "outputs": [],
   "source": [
    "from pydantic import BaseModel, ConfigDict, ValidationError, Field"
   ]
  },
  {
   "cell_type": "code",
   "execution_count": null,
   "id": "e3b3ad6b",
   "metadata": {},
   "outputs": [],
   "source": [
    "class Model(BaseModel):\n",
    "    field:int = Field(alias = 'Field', serialization_alias =)"
   ]
  }
 ],
 "metadata": {
  "kernelspec": {
   "display_name": "Python 3 (ipykernel)",
   "language": "python",
   "name": "python3"
  },
  "language_info": {
   "codemirror_mode": {
    "name": "ipython",
    "version": 3
   },
   "file_extension": ".py",
   "mimetype": "text/x-python",
   "name": "python",
   "nbconvert_exporter": "python",
   "pygments_lexer": "ipython3",
   "version": "3.11.5"
  }
 },
 "nbformat": 4,
 "nbformat_minor": 5
}
