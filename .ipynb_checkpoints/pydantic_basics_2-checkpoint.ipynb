{
 "cells": [
  {
   "cell_type": "markdown",
   "id": "eae05277",
   "metadata": {},
   "source": [
    "# Deserealizing data"
   ]
  },
  {
   "cell_type": "code",
   "execution_count": 1,
   "id": "25fab6a8",
   "metadata": {},
   "outputs": [],
   "source": [
    "from pydantic import BaseModel, ValidationError"
   ]
  },
  {
   "cell_type": "code",
   "execution_count": 2,
   "id": "e2921244",
   "metadata": {},
   "outputs": [],
   "source": [
    "class Person(BaseModel):\n",
    "    first_name:str\n",
    "    last_name:str\n",
    "    age:int"
   ]
  },
  {
   "cell_type": "code",
   "execution_count": 3,
   "id": "bd990242",
   "metadata": {},
   "outputs": [],
   "source": [
    "d = {\n",
    "    \"first_name\":\"Abhishek\",\n",
    "    \"last_name\":\"Jha\",\n",
    "    \"age\":23\n",
    "}"
   ]
  },
  {
   "cell_type": "code",
   "execution_count": 4,
   "id": "b1486a87",
   "metadata": {},
   "outputs": [
    {
     "data": {
      "text/plain": [
       "Person(first_name='Abhishek', last_name='Jha', age=23)"
      ]
     },
     "execution_count": 4,
     "metadata": {},
     "output_type": "execute_result"
    }
   ],
   "source": [
    "p = Person.model_validate(d) # deserealizing the data\n",
    "p"
   ]
  },
  {
   "cell_type": "code",
   "execution_count": 5,
   "id": "d81d2460",
   "metadata": {},
   "outputs": [],
   "source": [
    "data_json = '''\n",
    "{\n",
    "    \"first_name\":\"Abhishek\",\n",
    "    \"last_name\":\"Jha\",\n",
    "    \"age\": 23\n",
    "}\n",
    "'''"
   ]
  },
  {
   "cell_type": "code",
   "execution_count": 6,
   "id": "f6756e9f",
   "metadata": {},
   "outputs": [
    {
     "data": {
      "text/plain": [
       "Person(first_name='Abhishek', last_name='Jha', age=23)"
      ]
     },
     "execution_count": 6,
     "metadata": {},
     "output_type": "execute_result"
    }
   ],
   "source": [
    "Person.model_validate_json(data_json)"
   ]
  },
  {
   "cell_type": "code",
   "execution_count": 7,
   "id": "fc9f62be",
   "metadata": {},
   "outputs": [],
   "source": [
    "d = {\"last_name\": \"Galois\"}"
   ]
  },
  {
   "cell_type": "code",
   "execution_count": 8,
   "id": "31253591",
   "metadata": {},
   "outputs": [
    {
     "name": "stdout",
     "output_type": "stream",
     "text": [
      "2 validation errors for Person\n",
      "first_name\n",
      "  Field required [type=missing, input_value={'last_name': 'Galois'}, input_type=dict]\n",
      "    For further information visit https://errors.pydantic.dev/2.3/v/missing\n",
      "age\n",
      "  Field required [type=missing, input_value={'last_name': 'Galois'}, input_type=dict]\n",
      "    For further information visit https://errors.pydantic.dev/2.3/v/missing\n"
     ]
    }
   ],
   "source": [
    "try:\n",
    "    Person.model_validate(d)\n",
    "except ValidationError as ex:\n",
    "    print(ex)"
   ]
  },
  {
   "cell_type": "code",
   "execution_count": 9,
   "id": "286241b0",
   "metadata": {},
   "outputs": [
    {
     "name": "stdout",
     "output_type": "stream",
     "text": [
      "1 validation error for Person\n",
      "  Input should be a valid dictionary or instance of Person [type=model_type, input_value='\\n{\"last_name\": \"Galois\"}\\n', input_type=str]\n",
      "    For further information visit https://errors.pydantic.dev/2.3/v/model_type\n"
     ]
    }
   ],
   "source": [
    "data_json = '''\n",
    "{\"last_name\": \"Galois\"}\n",
    "'''\n",
    "\n",
    "try:\n",
    "    Person.model_validate(data_json)\n",
    "except ValidationError as ex:\n",
    "    print(ex)"
   ]
  },
  {
   "cell_type": "markdown",
   "id": "69cbc8b2",
   "metadata": {},
   "source": [
    "# Serealizing the model"
   ]
  },
  {
   "cell_type": "code",
   "execution_count": 10,
   "id": "b8227a3a",
   "metadata": {},
   "outputs": [],
   "source": [
    "class Person(BaseModel):\n",
    "    first_name:str\n",
    "    last_name:str\n",
    "    age:int"
   ]
  },
  {
   "cell_type": "code",
   "execution_count": 11,
   "id": "ab9f4747",
   "metadata": {},
   "outputs": [],
   "source": [
    "p = Person(first_name = 'Abhishek', last_name = 'jha', age = 23)"
   ]
  },
  {
   "cell_type": "code",
   "execution_count": 12,
   "id": "56dd2e8c",
   "metadata": {},
   "outputs": [
    {
     "data": {
      "text/plain": [
       "({'first_name': 'Abhishek', 'last_name': 'jha', 'age': 23}, dict)"
      ]
     },
     "execution_count": 12,
     "metadata": {},
     "output_type": "execute_result"
    }
   ],
   "source": [
    "p.model_dump(), type(p.model_dump())"
   ]
  },
  {
   "cell_type": "code",
   "execution_count": 13,
   "id": "75096b8e",
   "metadata": {},
   "outputs": [
    {
     "data": {
      "text/plain": [
       "('{\"first_name\":\"Abhishek\",\"last_name\":\"jha\",\"age\":23}', str)"
      ]
     },
     "execution_count": 13,
     "metadata": {},
     "output_type": "execute_result"
    }
   ],
   "source": [
    "p.model_dump_json(), type(p.model_dump_json())"
   ]
  },
  {
   "cell_type": "markdown",
   "id": "dad21b74",
   "metadata": {},
   "source": [
    "# Field Introspection"
   ]
  },
  {
   "cell_type": "code",
   "execution_count": 14,
   "id": "6ea16efe",
   "metadata": {},
   "outputs": [],
   "source": [
    "class Person(BaseModel):\n",
    "    first_name:str\n",
    "    last_name:str\n",
    "    middle_name:str|None = None\n",
    "    age:int\n",
    "    country:str = 'India'\n",
    "    city:str = 'New Delhi'\n",
    "    pincode:int|None = 110025"
   ]
  },
  {
   "cell_type": "code",
   "execution_count": 15,
   "id": "e053aad5",
   "metadata": {},
   "outputs": [],
   "source": [
    "abhi = Person(first_name = 'Abhishek', last_name = 'Jha', age = 23)"
   ]
  },
  {
   "cell_type": "code",
   "execution_count": 16,
   "id": "b55d0a79",
   "metadata": {},
   "outputs": [
    {
     "data": {
      "text/plain": [
       "{'age', 'first_name', 'last_name'}"
      ]
     },
     "execution_count": 16,
     "metadata": {},
     "output_type": "execute_result"
    }
   ],
   "source": [
    "abhi.model_fields_set"
   ]
  },
  {
   "cell_type": "code",
   "execution_count": 17,
   "id": "30d94a95",
   "metadata": {},
   "outputs": [
    {
     "data": {
      "text/plain": [
       "dict_keys(['first_name', 'last_name', 'middle_name', 'age', 'country', 'city', 'pincode'])"
      ]
     },
     "execution_count": 17,
     "metadata": {},
     "output_type": "execute_result"
    }
   ],
   "source": [
    "abhi.model_fields.keys()"
   ]
  },
  {
   "cell_type": "code",
   "execution_count": 18,
   "id": "e04c9b8f",
   "metadata": {},
   "outputs": [
    {
     "data": {
      "text/plain": [
       "{'city', 'country', 'middle_name', 'pincode'}"
      ]
     },
     "execution_count": 18,
     "metadata": {},
     "output_type": "execute_result"
    }
   ],
   "source": [
    "abhi.model_fields.keys() - abhi.model_fields_set #defaults"
   ]
  },
  {
   "cell_type": "code",
   "execution_count": 19,
   "id": "8db38f33",
   "metadata": {},
   "outputs": [
    {
     "data": {
      "text/plain": [
       "{'first_name': 'Abhishek', 'last_name': 'Jha', 'age': 23}"
      ]
     },
     "execution_count": 19,
     "metadata": {},
     "output_type": "execute_result"
    }
   ],
   "source": [
    "abhi.model_dump(include = abhi.model_fields_set)"
   ]
  },
  {
   "cell_type": "code",
   "execution_count": 20,
   "id": "df20e92e",
   "metadata": {},
   "outputs": [
    {
     "data": {
      "text/plain": [
       "{'first_name': 'Abhishek',\n",
       " 'last_name': 'Jha',\n",
       " 'middle_name': None,\n",
       " 'age': 23,\n",
       " 'country': 'India',\n",
       " 'city': 'New Delhi',\n",
       " 'pincode': 110025}"
      ]
     },
     "execution_count": 20,
     "metadata": {},
     "output_type": "execute_result"
    }
   ],
   "source": [
    "abhi.model_dump()"
   ]
  },
  {
   "cell_type": "code",
   "execution_count": 21,
   "id": "cdcf119a",
   "metadata": {},
   "outputs": [
    {
     "data": {
      "text/plain": [
       "{'middle_name': None,\n",
       " 'country': 'India',\n",
       " 'city': 'New Delhi',\n",
       " 'pincode': 110025}"
      ]
     },
     "execution_count": 21,
     "metadata": {},
     "output_type": "execute_result"
    }
   ],
   "source": [
    "abhi.model_dump(include = abhi.model_fields.keys() - abhi.model_fields_set)"
   ]
  },
  {
   "cell_type": "markdown",
   "id": "f0f35775",
   "metadata": {},
   "source": [
    "# Validating Assignments"
   ]
  },
  {
   "cell_type": "code",
   "execution_count": 22,
   "id": "bef7213b",
   "metadata": {},
   "outputs": [],
   "source": [
    "from pydantic import BaseModel, ValidationError, ConfigDict"
   ]
  },
  {
   "cell_type": "code",
   "execution_count": 23,
   "id": "719c90ca",
   "metadata": {},
   "outputs": [],
   "source": [
    "class Circle(BaseModel):\n",
    "    center : tuple[int, int]\n",
    "    radius : int"
   ]
  },
  {
   "cell_type": "code",
   "execution_count": 24,
   "id": "f5e207c0",
   "metadata": {},
   "outputs": [],
   "source": [
    "c = Circle(center = (1,2), radius = 2)"
   ]
  },
  {
   "cell_type": "code",
   "execution_count": 25,
   "id": "30893292",
   "metadata": {},
   "outputs": [
    {
     "data": {
      "text/plain": [
       "Circle(center=(1, 2), radius=2)"
      ]
     },
     "execution_count": 25,
     "metadata": {},
     "output_type": "execute_result"
    }
   ],
   "source": [
    "c"
   ]
  },
  {
   "cell_type": "code",
   "execution_count": 26,
   "id": "23de5603",
   "metadata": {},
   "outputs": [],
   "source": [
    "c.radius = 'two' # No validation was performed"
   ]
  },
  {
   "cell_type": "code",
   "execution_count": 27,
   "id": "0309134e",
   "metadata": {},
   "outputs": [
    {
     "data": {
      "text/plain": [
       "Circle(center=(1, 2), radius='two')"
      ]
     },
     "execution_count": 27,
     "metadata": {},
     "output_type": "execute_result"
    }
   ],
   "source": [
    "c"
   ]
  },
  {
   "cell_type": "code",
   "execution_count": 28,
   "id": "b0da4049",
   "metadata": {},
   "outputs": [],
   "source": [
    "class Circle(BaseModel):\n",
    "    model_config = ConfigDict(validate_assignment = True)\n",
    "    center: tuple[int, int]\n",
    "    radius: int"
   ]
  },
  {
   "cell_type": "code",
   "execution_count": 29,
   "id": "8a3e2de5",
   "metadata": {},
   "outputs": [],
   "source": [
    "c = Circle(center = (1,2), radius = 2)"
   ]
  },
  {
   "cell_type": "code",
   "execution_count": 30,
   "id": "69945e59",
   "metadata": {},
   "outputs": [
    {
     "data": {
      "text/plain": [
       "Circle(center=(1, 2), radius=2)"
      ]
     },
     "execution_count": 30,
     "metadata": {},
     "output_type": "execute_result"
    }
   ],
   "source": [
    "c"
   ]
  },
  {
   "cell_type": "code",
   "execution_count": 31,
   "id": "56a1a322",
   "metadata": {},
   "outputs": [
    {
     "name": "stdout",
     "output_type": "stream",
     "text": [
      "1 validation error for Circle\n",
      "radius\n",
      "  Input should be a valid integer, unable to parse string as an integer [type=int_parsing, input_value='two', input_type=str]\n",
      "    For further information visit https://errors.pydantic.dev/2.3/v/int_parsing\n"
     ]
    }
   ],
   "source": [
    "try:\n",
    "    c.radius = 'two'\n",
    "except ValidationError as ex:\n",
    "    print(ex)"
   ]
  },
  {
   "cell_type": "markdown",
   "id": "71ec3cc8",
   "metadata": {},
   "source": [
    "# Validating defaults"
   ]
  },
  {
   "cell_type": "code",
   "execution_count": 32,
   "id": "9228f3be",
   "metadata": {},
   "outputs": [],
   "source": [
    "class Circle(BaseModel):\n",
    "    center: tuple[int, int] = 'junk'\n",
    "    radius: int"
   ]
  },
  {
   "cell_type": "code",
   "execution_count": 33,
   "id": "f1379799",
   "metadata": {},
   "outputs": [
    {
     "data": {
      "text/plain": [
       "Circle(center='junk', radius=2)"
      ]
     },
     "execution_count": 33,
     "metadata": {},
     "output_type": "execute_result"
    }
   ],
   "source": [
    "c = Circle(radius = 2)\n",
    "c"
   ]
  },
  {
   "cell_type": "code",
   "execution_count": 34,
   "id": "43e374f0",
   "metadata": {},
   "outputs": [],
   "source": [
    "class Circle(BaseModel):\n",
    "    model_config = ConfigDict(validate_default = True)\n",
    "    center: tuple[int, int] = 'junk'\n",
    "    radius: int\n",
    "        "
   ]
  },
  {
   "cell_type": "code",
   "execution_count": 35,
   "id": "6e0f51c2",
   "metadata": {},
   "outputs": [
    {
     "name": "stdout",
     "output_type": "stream",
     "text": [
      "1 validation error for Circle\n",
      "center\n",
      "  Input should be a valid tuple [type=tuple_type, input_value='junk', input_type=str]\n",
      "    For further information visit https://errors.pydantic.dev/2.3/v/tuple_type\n"
     ]
    }
   ],
   "source": [
    "try:\n",
    "    Circle(radius = 2)\n",
    "except ValidationError as ex:\n",
    "    print(ex)"
   ]
  },
  {
   "cell_type": "markdown",
   "id": "29ca6330",
   "metadata": {},
   "source": [
    "# Mutability"
   ]
  },
  {
   "cell_type": "code",
   "execution_count": 36,
   "id": "9eff6688",
   "metadata": {},
   "outputs": [],
   "source": [
    "class Model(BaseModel):\n",
    "    field: int"
   ]
  },
  {
   "cell_type": "code",
   "execution_count": 37,
   "id": "a1859d27",
   "metadata": {},
   "outputs": [],
   "source": [
    "m = Model(field = 10)"
   ]
  },
  {
   "cell_type": "code",
   "execution_count": 38,
   "id": "3d1c283a",
   "metadata": {},
   "outputs": [
    {
     "name": "stdout",
     "output_type": "stream",
     "text": [
      "unhashable type: 'Model'\n"
     ]
    }
   ],
   "source": [
    "try:\n",
    "    {m:'does not work like this'}\n",
    "except TypeError as ex:\n",
    "    print(ex)"
   ]
  },
  {
   "cell_type": "code",
   "execution_count": 39,
   "id": "b1e754b1",
   "metadata": {},
   "outputs": [],
   "source": [
    "# To make a Pydantic model mutable we again use ConfigDict"
   ]
  },
  {
   "cell_type": "code",
   "execution_count": 40,
   "id": "332b3130",
   "metadata": {},
   "outputs": [],
   "source": [
    "class Model(BaseModel):\n",
    "    model_config = ConfigDict(frozen = True)\n",
    "    field:int"
   ]
  },
  {
   "cell_type": "code",
   "execution_count": 41,
   "id": "26584838",
   "metadata": {},
   "outputs": [],
   "source": [
    "m = Model(field = 10)"
   ]
  },
  {
   "cell_type": "code",
   "execution_count": 42,
   "id": "9283b643",
   "metadata": {},
   "outputs": [
    {
     "data": {
      "text/plain": [
       "Model(field=10)"
      ]
     },
     "execution_count": 42,
     "metadata": {},
     "output_type": "execute_result"
    }
   ],
   "source": [
    "m"
   ]
  },
  {
   "cell_type": "code",
   "execution_count": 43,
   "id": "36fdb3b2",
   "metadata": {},
   "outputs": [
    {
     "name": "stdout",
     "output_type": "stream",
     "text": [
      "1 validation error for Model\n",
      "field\n",
      "  Instance is frozen [type=frozen_instance, input_value=20, input_type=int]\n",
      "    For further information visit https://errors.pydantic.dev/2.3/v/frozen_instance\n"
     ]
    }
   ],
   "source": [
    "try:\n",
    "    m.field = 20\n",
    "except ValidationError as ex:\n",
    "    print(ex)"
   ]
  },
  {
   "cell_type": "code",
   "execution_count": 44,
   "id": "fb9d465a",
   "metadata": {},
   "outputs": [],
   "source": [
    "# Now we can use the field as a key in the dictionary"
   ]
  },
  {
   "cell_type": "code",
   "execution_count": 45,
   "id": "c4c88218",
   "metadata": {},
   "outputs": [
    {
     "data": {
      "text/plain": [
       "{Model(field=10): 'This does work'}"
      ]
     },
     "execution_count": 45,
     "metadata": {},
     "output_type": "execute_result"
    }
   ],
   "source": [
    "try:\n",
    "    d = {m: \"This does work\"}\n",
    "except ValidationError as ex:\n",
    "    print(ex)\n",
    "d # as the model instance was frozen (immutable)"
   ]
  },
  {
   "cell_type": "markdown",
   "id": "dfe2bcfe",
   "metadata": {},
   "source": [
    "# Handling extra fields"
   ]
  },
  {
   "cell_type": "code",
   "execution_count": 46,
   "id": "6a43faf4",
   "metadata": {},
   "outputs": [],
   "source": [
    "class Model(BaseModel):\n",
    "    field_1:int"
   ]
  },
  {
   "cell_type": "code",
   "execution_count": 47,
   "id": "34f89c4e",
   "metadata": {},
   "outputs": [
    {
     "data": {
      "text/plain": [
       "Model(field_1=10)"
      ]
     },
     "execution_count": 47,
     "metadata": {},
     "output_type": "execute_result"
    }
   ],
   "source": [
    "Model(field_1 = 10, field_2 = 20)"
   ]
  },
  {
   "cell_type": "code",
   "execution_count": 48,
   "id": "2aee4f49",
   "metadata": {},
   "outputs": [],
   "source": [
    "m.model_extra"
   ]
  },
  {
   "cell_type": "code",
   "execution_count": 49,
   "id": "077ed111",
   "metadata": {},
   "outputs": [
    {
     "data": {
      "text/plain": [
       "{'field': 10}"
      ]
     },
     "execution_count": 49,
     "metadata": {},
     "output_type": "execute_result"
    }
   ],
   "source": [
    "m.model_dump()"
   ]
  },
  {
   "cell_type": "code",
   "execution_count": 50,
   "id": "de532df8",
   "metadata": {},
   "outputs": [
    {
     "data": {
      "text/plain": [
       "{'field': FieldInfo(annotation=int, required=True)}"
      ]
     },
     "execution_count": 50,
     "metadata": {},
     "output_type": "execute_result"
    }
   ],
   "source": [
    "m.model_fields"
   ]
  },
  {
   "cell_type": "code",
   "execution_count": 51,
   "id": "3b54f635",
   "metadata": {},
   "outputs": [],
   "source": [
    "class Model(BaseModel):\n",
    "    model_config = ConfigDict(extra = 'forbid')\n",
    "    field_1:int"
   ]
  },
  {
   "cell_type": "code",
   "execution_count": 52,
   "id": "99434085",
   "metadata": {},
   "outputs": [
    {
     "name": "stdout",
     "output_type": "stream",
     "text": [
      "1 validation error for Model\n",
      "field_2\n",
      "  Extra inputs are not permitted [type=extra_forbidden, input_value=20, input_type=int]\n",
      "    For further information visit https://errors.pydantic.dev/2.3/v/extra_forbidden\n"
     ]
    }
   ],
   "source": [
    "try:\n",
    "    Model(field_1 = 10, field_2 = 20)\n",
    "except ValidationError as ex:\n",
    "    print(ex)"
   ]
  },
  {
   "cell_type": "code",
   "execution_count": 53,
   "id": "4f0546be",
   "metadata": {},
   "outputs": [],
   "source": [
    "class Model(BaseModel):\n",
    "    model_config = ConfigDict(extra = 'allow')\n",
    "    field_1:int"
   ]
  },
  {
   "cell_type": "code",
   "execution_count": 54,
   "id": "6a84f2b2",
   "metadata": {},
   "outputs": [],
   "source": [
    "m = Model(field_1 = 10, field_2 = 20)"
   ]
  },
  {
   "cell_type": "code",
   "execution_count": 55,
   "id": "555cbb9f",
   "metadata": {},
   "outputs": [
    {
     "data": {
      "text/plain": [
       "Model(field_1=10, field_2=20)"
      ]
     },
     "execution_count": 55,
     "metadata": {},
     "output_type": "execute_result"
    }
   ],
   "source": [
    "m"
   ]
  },
  {
   "cell_type": "code",
   "execution_count": 56,
   "id": "cd291a14",
   "metadata": {},
   "outputs": [
    {
     "data": {
      "text/plain": [
       "{'field_2': 20}"
      ]
     },
     "execution_count": 56,
     "metadata": {},
     "output_type": "execute_result"
    }
   ],
   "source": [
    "m.model_extra"
   ]
  },
  {
   "cell_type": "code",
   "execution_count": 57,
   "id": "73aea30d",
   "metadata": {},
   "outputs": [
    {
     "data": {
      "text/plain": [
       "{'field_1': 10, 'field_2': 20}"
      ]
     },
     "execution_count": 57,
     "metadata": {},
     "output_type": "execute_result"
    }
   ],
   "source": [
    "m.model_dump()"
   ]
  },
  {
   "cell_type": "code",
   "execution_count": 58,
   "id": "3ba14ba0",
   "metadata": {},
   "outputs": [
    {
     "data": {
      "text/plain": [
       "{'field_1': 10}"
      ]
     },
     "execution_count": 58,
     "metadata": {},
     "output_type": "execute_result"
    }
   ],
   "source": [
    "m.model_dump(exclude = m.model_extra.keys())"
   ]
  },
  {
   "cell_type": "markdown",
   "id": "0e8b7f09",
   "metadata": {},
   "source": [
    "# case converters in Pydantic"
   ]
  },
  {
   "cell_type": "code",
   "execution_count": 59,
   "id": "ee59b77c",
   "metadata": {},
   "outputs": [],
   "source": [
    "from pydantic.alias_generators import to_camel, to_snake, to_pascal"
   ]
  },
  {
   "cell_type": "code",
   "execution_count": 60,
   "id": "2642f024",
   "metadata": {},
   "outputs": [
    {
     "data": {
      "text/plain": [
       "'isaacNewton'"
      ]
     },
     "execution_count": 60,
     "metadata": {},
     "output_type": "execute_result"
    }
   ],
   "source": [
    "to_camel('isaac_newton')"
   ]
  },
  {
   "cell_type": "code",
   "execution_count": 61,
   "id": "8cb05b82",
   "metadata": {},
   "outputs": [
    {
     "data": {
      "text/plain": [
       "'rohan_dixit'"
      ]
     },
     "execution_count": 61,
     "metadata": {},
     "output_type": "execute_result"
    }
   ],
   "source": [
    "to_snake('rohanDixit')"
   ]
  },
  {
   "cell_type": "code",
   "execution_count": 62,
   "id": "c6406349",
   "metadata": {},
   "outputs": [
    {
     "data": {
      "text/plain": [
       "'Abhishekjha'"
      ]
     },
     "execution_count": 62,
     "metadata": {},
     "output_type": "execute_result"
    }
   ],
   "source": [
    "to_pascal('abhishekJha')"
   ]
  },
  {
   "cell_type": "markdown",
   "id": "a2653800",
   "metadata": {},
   "source": [
    "# Field Aliasing"
   ]
  },
  {
   "cell_type": "code",
   "execution_count": 63,
   "id": "d1948aed",
   "metadata": {},
   "outputs": [],
   "source": [
    "from pydantic import BaseModel, ValidationError, Field, ConfigDict"
   ]
  },
  {
   "cell_type": "code",
   "execution_count": 64,
   "id": "2167d014",
   "metadata": {},
   "outputs": [],
   "source": [
    "class Person(BaseModel):\n",
    "    first_name:str\n",
    "    last_name:str\n",
    "    age:int"
   ]
  },
  {
   "cell_type": "code",
   "execution_count": 65,
   "id": "f8efd20d",
   "metadata": {},
   "outputs": [
    {
     "data": {
      "text/plain": [
       "Person(first_name='Abhishek', last_name='Jha', age=23)"
      ]
     },
     "execution_count": 65,
     "metadata": {},
     "output_type": "execute_result"
    }
   ],
   "source": [
    "Person(first_name = 'Abhishek', last_name = 'Jha', age = 23)"
   ]
  },
  {
   "cell_type": "code",
   "execution_count": 66,
   "id": "c92af098",
   "metadata": {},
   "outputs": [
    {
     "name": "stdout",
     "output_type": "stream",
     "text": [
      "2 validation errors for Person\n",
      "first_name\n",
      "  Field required [type=missing, input_value={'firstName': 'Abhishek',...Name': 'Jha', 'age': 23}, input_type=dict]\n",
      "    For further information visit https://errors.pydantic.dev/2.3/v/missing\n",
      "last_name\n",
      "  Field required [type=missing, input_value={'firstName': 'Abhishek',...Name': 'Jha', 'age': 23}, input_type=dict]\n",
      "    For further information visit https://errors.pydantic.dev/2.3/v/missing\n"
     ]
    }
   ],
   "source": [
    "try:\n",
    "    Person(firstName = 'Abhishek', lastName = 'Jha', age = 23)\n",
    "except ValidationError as ex:\n",
    "    print(ex)"
   ]
  },
  {
   "cell_type": "code",
   "execution_count": 67,
   "id": "5ffcf337",
   "metadata": {},
   "outputs": [],
   "source": [
    "class Person(BaseModel):\n",
    "    id_:int = Field(alias = 'id')\n",
    "    first_name:str = Field(alias = 'firstName')\n",
    "    last_name:str = Field(alias =\"lastName\")\n",
    "    age:int"
   ]
  },
  {
   "cell_type": "code",
   "execution_count": 68,
   "id": "5b7a4a95",
   "metadata": {},
   "outputs": [],
   "source": [
    "data_json = '''{\n",
    "    \"id\" : 1,\n",
    "    \"firstName\":\"Abhishek\",\n",
    "    \"lastName\":\"Jha\",\n",
    "    \"age\":23\n",
    "}'''"
   ]
  },
  {
   "cell_type": "code",
   "execution_count": 69,
   "id": "15450241",
   "metadata": {},
   "outputs": [
    {
     "data": {
      "text/plain": [
       "Person(id_=1, first_name='Abhishek', last_name='Jha', age=23)"
      ]
     },
     "execution_count": 69,
     "metadata": {},
     "output_type": "execute_result"
    }
   ],
   "source": [
    "Person.model_validate_json(data_json)"
   ]
  },
  {
   "cell_type": "code",
   "execution_count": 70,
   "id": "c547dac5",
   "metadata": {},
   "outputs": [
    {
     "name": "stdout",
     "output_type": "stream",
     "text": [
      "3 validation errors for Person\n",
      "id\n",
      "  Field required [type=missing, input_value={'id_': 2, 'first_name': ...e': 'Newton', 'age': 84}, input_type=dict]\n",
      "    For further information visit https://errors.pydantic.dev/2.3/v/missing\n",
      "firstName\n",
      "  Field required [type=missing, input_value={'id_': 2, 'first_name': ...e': 'Newton', 'age': 84}, input_type=dict]\n",
      "    For further information visit https://errors.pydantic.dev/2.3/v/missing\n",
      "lastName\n",
      "  Field required [type=missing, input_value={'id_': 2, 'first_name': ...e': 'Newton', 'age': 84}, input_type=dict]\n",
      "    For further information visit https://errors.pydantic.dev/2.3/v/missing\n"
     ]
    }
   ],
   "source": [
    "try:\n",
    "    Person(id_=2, first_name = 'Issac', last_name = 'Newton', age = 84)\n",
    "except ValidationError as ex:\n",
    "    print(ex)\n",
    "# When we deserealize the data then we need to pass the field names a mentioned in the aliases"
   ]
  },
  {
   "cell_type": "code",
   "execution_count": 71,
   "id": "b9df5163",
   "metadata": {},
   "outputs": [],
   "source": [
    "try:\n",
    "    p = Person(id = 20, firstName = 'Isaac', lastName = 'Newton', age = 84)\n",
    "except ValidationError as ex:\n",
    "    print(ex)"
   ]
  },
  {
   "cell_type": "code",
   "execution_count": 72,
   "id": "b2478b5b",
   "metadata": {},
   "outputs": [],
   "source": [
    "# while serealizing also Pydantic uses fields by default"
   ]
  },
  {
   "cell_type": "code",
   "execution_count": 73,
   "id": "6e8fb4f6",
   "metadata": {},
   "outputs": [
    {
     "data": {
      "text/plain": [
       "Person(id_=20, first_name='Isaac', last_name='Newton', age=84)"
      ]
     },
     "execution_count": 73,
     "metadata": {},
     "output_type": "execute_result"
    }
   ],
   "source": [
    "p"
   ]
  },
  {
   "cell_type": "code",
   "execution_count": 74,
   "id": "260b8843",
   "metadata": {},
   "outputs": [
    {
     "data": {
      "text/plain": [
       "{'id_': 20, 'first_name': 'Isaac', 'last_name': 'Newton', 'age': 84}"
      ]
     },
     "execution_count": 74,
     "metadata": {},
     "output_type": "execute_result"
    }
   ],
   "source": [
    "p.model_dump()"
   ]
  },
  {
   "cell_type": "code",
   "execution_count": 75,
   "id": "55318245",
   "metadata": {},
   "outputs": [
    {
     "data": {
      "text/plain": [
       "'{\"id_\":20,\"first_name\":\"Isaac\",\"last_name\":\"Newton\",\"age\":84}'"
      ]
     },
     "execution_count": 75,
     "metadata": {},
     "output_type": "execute_result"
    }
   ],
   "source": [
    "p.model_dump_json()"
   ]
  },
  {
   "cell_type": "code",
   "execution_count": 76,
   "id": "1eca2827",
   "metadata": {},
   "outputs": [],
   "source": [
    "# If we want that Pydantic uses the aliases while serealizing then we need to set some option"
   ]
  },
  {
   "cell_type": "code",
   "execution_count": 77,
   "id": "6674c387",
   "metadata": {},
   "outputs": [
    {
     "data": {
      "text/plain": [
       "{'id': 20, 'firstName': 'Isaac', 'lastName': 'Newton', 'age': 84}"
      ]
     },
     "execution_count": 77,
     "metadata": {},
     "output_type": "execute_result"
    }
   ],
   "source": [
    "p.model_dump(by_alias = True)"
   ]
  },
  {
   "cell_type": "code",
   "execution_count": 78,
   "id": "8b1e65bf",
   "metadata": {},
   "outputs": [
    {
     "data": {
      "text/plain": [
       "'{\"id\":20,\"firstName\":\"Isaac\",\"lastName\":\"Newton\",\"age\":84}'"
      ]
     },
     "execution_count": 78,
     "metadata": {},
     "output_type": "execute_result"
    }
   ],
   "source": [
    "p.model_dump_json(by_alias = True)"
   ]
  },
  {
   "cell_type": "code",
   "execution_count": 79,
   "id": "7b90de09",
   "metadata": {},
   "outputs": [],
   "source": [
    "from pprint import pprint"
   ]
  },
  {
   "cell_type": "code",
   "execution_count": 80,
   "id": "802c52a1",
   "metadata": {},
   "outputs": [
    {
     "name": "stdout",
     "output_type": "stream",
     "text": [
      "'{\"id\":20,\"firstName\":\"Isaac\",\"lastName\":\"Newton\",\"age\":84}'\n"
     ]
    }
   ],
   "source": [
    "pprint(p.model_dump_json(by_alias =True))"
   ]
  },
  {
   "cell_type": "markdown",
   "id": "9ed45fed",
   "metadata": {},
   "source": [
    "# Alias Generator functions"
   ]
  },
  {
   "cell_type": "code",
   "execution_count": 81,
   "id": "0b664d4d",
   "metadata": {},
   "outputs": [],
   "source": [
    "def make_alias(field:str) -> str:\n",
    "    return field.upper()"
   ]
  },
  {
   "cell_type": "code",
   "execution_count": 82,
   "id": "2bf0ab2b",
   "metadata": {},
   "outputs": [
    {
     "data": {
      "text/plain": [
       "'ABHISHEK'"
      ]
     },
     "execution_count": 82,
     "metadata": {},
     "output_type": "execute_result"
    }
   ],
   "source": [
    "make_alias('abhishek')"
   ]
  },
  {
   "cell_type": "code",
   "execution_count": 83,
   "id": "5fc0816c",
   "metadata": {},
   "outputs": [],
   "source": [
    "from pydantic import BaseModel, ConfigDict, ValidationError, Field"
   ]
  },
  {
   "cell_type": "code",
   "execution_count": 84,
   "id": "ef88f892",
   "metadata": {},
   "outputs": [],
   "source": [
    "from pydantic.alias_generators import to_camel, to_pascal, to_snake"
   ]
  },
  {
   "cell_type": "code",
   "execution_count": 85,
   "id": "16547fab",
   "metadata": {},
   "outputs": [
    {
     "data": {
      "text/plain": [
       "'abhishek_jha'"
      ]
     },
     "execution_count": 85,
     "metadata": {},
     "output_type": "execute_result"
    }
   ],
   "source": [
    "to_snake('AbhishekJha')"
   ]
  },
  {
   "cell_type": "code",
   "execution_count": 86,
   "id": "29b1d02d",
   "metadata": {},
   "outputs": [],
   "source": [
    "class Person(BaseModel):\n",
    "    model_config = ConfigDict(alias_generator = to_camel)\n",
    "    first_name: str\n",
    "    last_name:str\n",
    "    age:int"
   ]
  },
  {
   "cell_type": "code",
   "execution_count": 87,
   "id": "495b4b6c",
   "metadata": {},
   "outputs": [
    {
     "data": {
      "text/plain": [
       "{'first_name': FieldInfo(annotation=str, required=True, alias='firstName', alias_priority=1),\n",
       " 'last_name': FieldInfo(annotation=str, required=True, alias='lastName', alias_priority=1),\n",
       " 'age': FieldInfo(annotation=int, required=True, alias='age', alias_priority=1)}"
      ]
     },
     "execution_count": 87,
     "metadata": {},
     "output_type": "execute_result"
    }
   ],
   "source": [
    "Person.model_fields"
   ]
  },
  {
   "cell_type": "code",
   "execution_count": 88,
   "id": "44dd5a2f",
   "metadata": {},
   "outputs": [],
   "source": [
    "class Person(BaseModel):\n",
    "    model_config = ConfigDict(alias_generator = to_camel)\n",
    "    id_: int = Field(alias = 'id')\n",
    "    first_name:str\n",
    "    last_name:str\n",
    "    age:int"
   ]
  },
  {
   "cell_type": "code",
   "execution_count": 89,
   "id": "07a4ba28",
   "metadata": {},
   "outputs": [
    {
     "data": {
      "text/plain": [
       "{'id_': FieldInfo(annotation=int, required=True, alias='id', alias_priority=2),\n",
       " 'first_name': FieldInfo(annotation=str, required=True, alias='firstName', alias_priority=1),\n",
       " 'last_name': FieldInfo(annotation=str, required=True, alias='lastName', alias_priority=1),\n",
       " 'age': FieldInfo(annotation=int, required=True, alias='age', alias_priority=1)}"
      ]
     },
     "execution_count": 89,
     "metadata": {},
     "output_type": "execute_result"
    }
   ],
   "source": [
    "Person.model_fields"
   ]
  },
  {
   "cell_type": "markdown",
   "id": "34879f61",
   "metadata": {},
   "source": [
    "# By Field Name or aliases"
   ]
  },
  {
   "cell_type": "code",
   "execution_count": 90,
   "id": "b68c8a5f",
   "metadata": {},
   "outputs": [],
   "source": [
    "class Person(BaseModel):\n",
    "    model_config = ConfigDict(alias_generator = to_camel)\n",
    "    id_:int\n",
    "    first_name:str\n",
    "    last_name:str\n",
    "    age:int"
   ]
  },
  {
   "cell_type": "code",
   "execution_count": 91,
   "id": "8bfbedc2",
   "metadata": {},
   "outputs": [],
   "source": [
    "def alias(field:str) -> str:\n",
    "    return to_camel(field.removesuffix('_'))"
   ]
  },
  {
   "cell_type": "code",
   "execution_count": 92,
   "id": "571d5a69",
   "metadata": {},
   "outputs": [],
   "source": [
    "class Person(BaseModel):\n",
    "    model_config = ConfigDict(alias_generator = alias)\n",
    "    id_:int\n",
    "    first_name:str\n",
    "    last_name:str\n",
    "    age:int"
   ]
  },
  {
   "cell_type": "code",
   "execution_count": 93,
   "id": "abe49ccf",
   "metadata": {},
   "outputs": [
    {
     "data": {
      "text/plain": [
       "{'id_': FieldInfo(annotation=int, required=True, alias='id', alias_priority=1),\n",
       " 'first_name': FieldInfo(annotation=str, required=True, alias='firstName', alias_priority=1),\n",
       " 'last_name': FieldInfo(annotation=str, required=True, alias='lastName', alias_priority=1),\n",
       " 'age': FieldInfo(annotation=int, required=True, alias='age', alias_priority=1)}"
      ]
     },
     "execution_count": 93,
     "metadata": {},
     "output_type": "execute_result"
    }
   ],
   "source": [
    "Person.model_fields"
   ]
  },
  {
   "cell_type": "code",
   "execution_count": 94,
   "id": "4e687374",
   "metadata": {},
   "outputs": [
    {
     "name": "stdout",
     "output_type": "stream",
     "text": [
      "3 validation errors for Person\n",
      "id\n",
      "  Field required [type=missing, input_value={'id_': 2, 'first_name': ...e': 'Newton', 'age': 84}, input_type=dict]\n",
      "    For further information visit https://errors.pydantic.dev/2.3/v/missing\n",
      "firstName\n",
      "  Field required [type=missing, input_value={'id_': 2, 'first_name': ...e': 'Newton', 'age': 84}, input_type=dict]\n",
      "    For further information visit https://errors.pydantic.dev/2.3/v/missing\n",
      "lastName\n",
      "  Field required [type=missing, input_value={'id_': 2, 'first_name': ...e': 'Newton', 'age': 84}, input_type=dict]\n",
      "    For further information visit https://errors.pydantic.dev/2.3/v/missing\n"
     ]
    }
   ],
   "source": [
    "try:\n",
    "    Person(id_ = 2, first_name = 'Isaac', last_name = 'Newton', age = 84)\n",
    "except ValidationError as ex:\n",
    "    print(ex)"
   ]
  },
  {
   "cell_type": "code",
   "execution_count": 95,
   "id": "b7b5435a",
   "metadata": {},
   "outputs": [],
   "source": [
    "class Person(BaseModel):\n",
    "    model_config = ConfigDict(alias_generator = alias, populate_by_name = True)\n",
    "    id_:int\n",
    "    first_name:str\n",
    "    last_name:str\n",
    "    age:int"
   ]
  },
  {
   "cell_type": "code",
   "execution_count": 96,
   "id": "ac2ff5ee",
   "metadata": {},
   "outputs": [
    {
     "name": "stdout",
     "output_type": "stream",
     "text": [
      "Person(id_=2, first_name='Isaac', last_name='Newton', age=84)\n"
     ]
    }
   ],
   "source": [
    "try:\n",
    "    p = Person(id_ = 2, first_name = 'Isaac', last_name = 'Newton', age = 84)\n",
    "    print(p.__repr__())\n",
    "except ValidationError as ex:\n",
    "    print(ex)"
   ]
  },
  {
   "cell_type": "code",
   "execution_count": 97,
   "id": "8a488054",
   "metadata": {},
   "outputs": [
    {
     "data": {
      "text/plain": [
       "{'id_': 2, 'first_name': 'Isaac', 'last_name': 'Newton', 'age': 84}"
      ]
     },
     "execution_count": 97,
     "metadata": {},
     "output_type": "execute_result"
    }
   ],
   "source": [
    "p.model_dump()"
   ]
  },
  {
   "cell_type": "code",
   "execution_count": 98,
   "id": "67f2b420",
   "metadata": {},
   "outputs": [
    {
     "data": {
      "text/plain": [
       "{'id': 2, 'firstName': 'Isaac', 'lastName': 'Newton', 'age': 84}"
      ]
     },
     "execution_count": 98,
     "metadata": {},
     "output_type": "execute_result"
    }
   ],
   "source": [
    "p.model_dump(by_alias = True)"
   ]
  },
  {
   "cell_type": "markdown",
   "id": "670aff9d",
   "metadata": {},
   "source": [
    "# Serialization Aliases"
   ]
  },
  {
   "cell_type": "code",
   "execution_count": 99,
   "id": "1803ce4f",
   "metadata": {},
   "outputs": [],
   "source": [
    "class Person(BaseModel):\n",
    "    model_config = ConfigDict(alias_generator = alias, populate_by_name = True)\n",
    "    id_:int = Field(serialization_alias=\"##id_##\")\n",
    "    first_name:str = Field(serialization_alias='##first_name##')\n",
    "    last_name:str = Field(serialization_alias=\"##last_name##\")\n",
    "    age:int = Field(serialization_alias = \"##age##\")"
   ]
  },
  {
   "cell_type": "code",
   "execution_count": 100,
   "id": "0afc0503",
   "metadata": {},
   "outputs": [
    {
     "name": "stdout",
     "output_type": "stream",
     "text": [
      "Person(id_=2, first_name='Isaac', last_name='Newton', age=84)\n"
     ]
    }
   ],
   "source": [
    "try:\n",
    "    p = Person(id_ = 2, first_name = 'Isaac', last_name = 'Newton', age = 84)\n",
    "    print(p.__repr__())\n",
    "except ValidationError as ex:\n",
    "    print(ex)"
   ]
  },
  {
   "cell_type": "code",
   "execution_count": 101,
   "id": "ea9cfa15",
   "metadata": {},
   "outputs": [
    {
     "data": {
      "text/plain": [
       "{'id_': 2, 'first_name': 'Isaac', 'last_name': 'Newton', 'age': 84}"
      ]
     },
     "execution_count": 101,
     "metadata": {},
     "output_type": "execute_result"
    }
   ],
   "source": [
    "p.model_dump()"
   ]
  },
  {
   "cell_type": "code",
   "execution_count": 102,
   "id": "d83de9c6",
   "metadata": {},
   "outputs": [
    {
     "name": "stdout",
     "output_type": "stream",
     "text": [
      "{ '##age##': 84,\n",
      "  '##first_name##': 'Isaac',\n",
      "  '##id_##': 2,\n",
      "  '##last_name##': 'Newton'}\n"
     ]
    }
   ],
   "source": [
    "pprint(p.model_dump(by_alias = True), indent = 2)"
   ]
  },
  {
   "cell_type": "markdown",
   "id": "faa52ad2",
   "metadata": {},
   "source": [
    "```In General, Pydantic uses se```"
   ]
  },
  {
   "cell_type": "code",
   "execution_count": null,
   "id": "b50e331a",
   "metadata": {},
   "outputs": [],
   "source": []
  },
  {
   "cell_type": "code",
   "execution_count": null,
   "id": "5f2abf39",
   "metadata": {},
   "outputs": [],
   "source": []
  },
  {
   "cell_type": "code",
   "execution_count": null,
   "id": "4bb00d3b",
   "metadata": {},
   "outputs": [],
   "source": []
  }
 ],
 "metadata": {
  "kernelspec": {
   "display_name": "Python 3 (ipykernel)",
   "language": "python",
   "name": "python3"
  },
  "language_info": {
   "codemirror_mode": {
    "name": "ipython",
    "version": 3
   },
   "file_extension": ".py",
   "mimetype": "text/x-python",
   "name": "python",
   "nbconvert_exporter": "python",
   "pygments_lexer": "ipython3",
   "version": "3.11.5"
  }
 },
 "nbformat": 4,
 "nbformat_minor": 5
}
