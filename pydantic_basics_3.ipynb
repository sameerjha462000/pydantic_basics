{
 "cells": [
  {
   "cell_type": "markdown",
   "id": "9d3b317e",
   "metadata": {},
   "source": [
    "# Deserialization"
   ]
  },
  {
   "cell_type": "code",
   "execution_count": 1,
   "id": "3079ab88",
   "metadata": {},
   "outputs": [],
   "source": [
    "# Model is Pydantic class\n",
    "# The attributes of Pydantic model are called fields"
   ]
  },
  {
   "cell_type": "code",
   "execution_count": 2,
   "id": "335346bc",
   "metadata": {},
   "outputs": [],
   "source": [
    "from pydantic import BaseModel"
   ]
  },
  {
   "cell_type": "code",
   "execution_count": 3,
   "id": "70ff218a",
   "metadata": {},
   "outputs": [],
   "source": [
    "class Person(BaseModel):\n",
    "    name : str\n",
    "    age : int"
   ]
  },
  {
   "cell_type": "code",
   "execution_count": 4,
   "id": "ef5ee9f4",
   "metadata": {},
   "outputs": [],
   "source": [
    "# Person is Pydantic model\n",
    "# name and age are fields of Person"
   ]
  },
  {
   "cell_type": "code",
   "execution_count": 5,
   "id": "3b68f7db",
   "metadata": {},
   "outputs": [],
   "source": [
    "# Deserialization == converting data into a Pydantic model\n",
    "# raw data ==> dictionary, json"
   ]
  },
  {
   "cell_type": "code",
   "execution_count": 6,
   "id": "3761aa14",
   "metadata": {},
   "outputs": [],
   "source": [
    "abhi = {\n",
    "    'name':'Abhishek',\n",
    "    'age' : 23\n",
    "}"
   ]
  },
  {
   "cell_type": "code",
   "execution_count": 8,
   "id": "968ff707",
   "metadata": {},
   "outputs": [
    {
     "data": {
      "text/plain": [
       "Person(name='Abhishek', age=23)"
      ]
     },
     "execution_count": 8,
     "metadata": {},
     "output_type": "execute_result"
    }
   ],
   "source": [
    "# method 1\n",
    "Person(**abhi)\n",
    "# Person(name = 'Abhishek', age = 23)"
   ]
  },
  {
   "cell_type": "code",
   "execution_count": 9,
   "id": "d742b97a",
   "metadata": {},
   "outputs": [
    {
     "data": {
      "text/plain": [
       "Person(name='Abhishek', age=23)"
      ]
     },
     "execution_count": 9,
     "metadata": {},
     "output_type": "execute_result"
    }
   ],
   "source": [
    "# method 2\n",
    "Person.model_validate(abhi)"
   ]
  },
  {
   "cell_type": "code",
   "execution_count": 10,
   "id": "1affd9c3",
   "metadata": {},
   "outputs": [],
   "source": [
    "abhi_json = '''\n",
    "    {\n",
    "        \"name\":\"Abhishek\",\n",
    "        \"age\":23\n",
    "    }\n",
    "'''"
   ]
  },
  {
   "cell_type": "code",
   "execution_count": 11,
   "id": "ac40a87c",
   "metadata": {},
   "outputs": [
    {
     "data": {
      "text/plain": [
       "Person(name='Abhishek', age=23)"
      ]
     },
     "execution_count": 11,
     "metadata": {},
     "output_type": "execute_result"
    }
   ],
   "source": [
    "Person.model_validate_json(abhi_json)"
   ]
  },
  {
   "cell_type": "code",
   "execution_count": 12,
   "id": "11ba7b2f",
   "metadata": {},
   "outputs": [],
   "source": [
    "users = [\n",
    "    {\n",
    "        'name':\"Newton\",\n",
    "        'age':84\n",
    "    },\n",
    "    {\n",
    "        'name':\"Galois\",\n",
    "        'age': 20\n",
    "    },\n",
    "    {\n",
    "        'name':\"Abhishek\",\n",
    "        'age': 23\n",
    "    }\n",
    "]"
   ]
  },
  {
   "cell_type": "code",
   "execution_count": 13,
   "id": "e3b75d4b",
   "metadata": {},
   "outputs": [
    {
     "data": {
      "text/plain": [
       "[Person(name='Newton', age=84),\n",
       " Person(name='Galois', age=20),\n",
       " Person(name='Abhishek', age=23)]"
      ]
     },
     "execution_count": 13,
     "metadata": {},
     "output_type": "execute_result"
    }
   ],
   "source": [
    "user_models = [Person.model_validate(user) for user in users]\n",
    "user_models"
   ]
  },
  {
   "cell_type": "markdown",
   "id": "2e80d6f6",
   "metadata": {},
   "source": [
    "# Serialization"
   ]
  },
  {
   "cell_type": "code",
   "execution_count": 14,
   "id": "e02e71ad",
   "metadata": {},
   "outputs": [],
   "source": [
    "# model_data ==> dictionary, json"
   ]
  },
  {
   "cell_type": "code",
   "execution_count": 16,
   "id": "35832ae8",
   "metadata": {},
   "outputs": [],
   "source": [
    "class Person(BaseModel):\n",
    "    first_name:str\n",
    "    last_name:str\n",
    "    age:int"
   ]
  },
  {
   "cell_type": "code",
   "execution_count": 17,
   "id": "0b2b0060",
   "metadata": {},
   "outputs": [],
   "source": [
    "newton = Person(first_name = 'Isaac', last_name = 'Newton', age = 84)"
   ]
  },
  {
   "cell_type": "code",
   "execution_count": 18,
   "id": "227a68c6",
   "metadata": {},
   "outputs": [
    {
     "data": {
      "text/plain": [
       "Person(first_name='Isaac', last_name='Newton', age=84)"
      ]
     },
     "execution_count": 18,
     "metadata": {},
     "output_type": "execute_result"
    }
   ],
   "source": [
    "newton"
   ]
  },
  {
   "cell_type": "code",
   "execution_count": 20,
   "id": "0eb58c22",
   "metadata": {},
   "outputs": [
    {
     "data": {
      "text/plain": [
       "({'first_name': 'Isaac', 'last_name': 'Newton', 'age': 84}, dict)"
      ]
     },
     "execution_count": 20,
     "metadata": {},
     "output_type": "execute_result"
    }
   ],
   "source": [
    "newton_dict = newton.model_dump()\n",
    "newton_dict, type(newton_dict)"
   ]
  },
  {
   "cell_type": "code",
   "execution_count": 21,
   "id": "0c301d71",
   "metadata": {},
   "outputs": [
    {
     "data": {
      "text/plain": [
       "('{\"first_name\":\"Isaac\",\"last_name\":\"Newton\",\"age\":84}', str)"
      ]
     },
     "execution_count": 21,
     "metadata": {},
     "output_type": "execute_result"
    }
   ],
   "source": [
    "newton_json = newton.model_dump_json()\n",
    "newton_json, type(newton_json)"
   ]
  },
  {
   "cell_type": "code",
   "execution_count": 22,
   "id": "7048fcd2",
   "metadata": {},
   "outputs": [
    {
     "data": {
      "text/plain": [
       "{'first_name': 'Isaac', 'age': 84}"
      ]
     },
     "execution_count": 22,
     "metadata": {},
     "output_type": "execute_result"
    }
   ],
   "source": [
    "# include and exclude\n",
    "newton.model_dump(include = ['first_name', 'age'])"
   ]
  },
  {
   "cell_type": "code",
   "execution_count": 23,
   "id": "34aeb556",
   "metadata": {},
   "outputs": [
    {
     "data": {
      "text/plain": [
       "{'first_name': 'Isaac', 'age': 84}"
      ]
     },
     "execution_count": 23,
     "metadata": {},
     "output_type": "execute_result"
    }
   ],
   "source": [
    "newton.model_dump(exclude = ['last_name'])"
   ]
  },
  {
   "cell_type": "code",
   "execution_count": 24,
   "id": "7eb03b9f",
   "metadata": {},
   "outputs": [
    {
     "ename": "ModuleNotFoundError",
     "evalue": "No module named 'cv2'",
     "output_type": "error",
     "traceback": [
      "\u001b[1;31m---------------------------------------------------------------------------\u001b[0m",
      "\u001b[1;31mModuleNotFoundError\u001b[0m                       Traceback (most recent call last)",
      "Cell \u001b[1;32mIn[24], line 1\u001b[0m\n\u001b[1;32m----> 1\u001b[0m \u001b[38;5;28;01mimport\u001b[39;00m \u001b[38;5;21;01mcv2\u001b[39;00m\n",
      "\u001b[1;31mModuleNotFoundError\u001b[0m: No module named 'cv2'"
     ]
    }
   ],
   "source": []
  },
  {
   "cell_type": "code",
   "execution_count": 2,
   "id": "6fa4c345",
   "metadata": {},
   "outputs": [],
   "source": [
    "from pydantic import BaseModel, ConfigDict, ValidationError, Field"
   ]
  },
  {
   "cell_type": "code",
   "execution_count": 11,
   "id": "a2c161f0",
   "metadata": {},
   "outputs": [],
   "source": [
    "class Model(BaseModel):\n",
    "    field:int = Field(alias = 'alias_field')"
   ]
  },
  {
   "cell_type": "code",
   "execution_count": 14,
   "id": "4fd6f778",
   "metadata": {},
   "outputs": [
    {
     "name": "stdout",
     "output_type": "stream",
     "text": [
      "1 validation error for Model\n",
      "alias_field\n",
      "  Field required [type=missing, input_value={'field': 10}, input_type=dict]\n",
      "    For further information visit https://errors.pydantic.dev/2.3/v/missing\n"
     ]
    }
   ],
   "source": [
    "try:\n",
    "    Model(field = 10)\n",
    "except ValidationError as ex:\n",
    "    print(ex)"
   ]
  },
  {
   "cell_type": "code",
   "execution_count": 15,
   "id": "d717e8de",
   "metadata": {},
   "outputs": [],
   "source": [
    "m = Model(alias_field = 10)"
   ]
  },
  {
   "cell_type": "code",
   "execution_count": 16,
   "id": "0236fa39",
   "metadata": {},
   "outputs": [
    {
     "data": {
      "text/plain": [
       "Model(field=10)"
      ]
     },
     "execution_count": 16,
     "metadata": {},
     "output_type": "execute_result"
    }
   ],
   "source": [
    "m"
   ]
  },
  {
   "cell_type": "code",
   "execution_count": 17,
   "id": "e8683a5f",
   "metadata": {},
   "outputs": [
    {
     "data": {
      "text/plain": [
       "{'field': 10}"
      ]
     },
     "execution_count": 17,
     "metadata": {},
     "output_type": "execute_result"
    }
   ],
   "source": [
    "m.model_dump()"
   ]
  },
  {
   "cell_type": "code",
   "execution_count": 18,
   "id": "90e2fc06",
   "metadata": {},
   "outputs": [
    {
     "data": {
      "text/plain": [
       "{'alias_field': 10}"
      ]
     },
     "execution_count": 18,
     "metadata": {},
     "output_type": "execute_result"
    }
   ],
   "source": [
    "m.model_dump(by_alias = True)"
   ]
  },
  {
   "cell_type": "code",
   "execution_count": 19,
   "id": "f6f31e6b",
   "metadata": {},
   "outputs": [],
   "source": [
    "class Model(BaseModel):\n",
    "    model_config = ConfigDict(populate_by_name = True)\n",
    "    field: int = Field(alias = 'alias_field')"
   ]
  },
  {
   "cell_type": "code",
   "execution_count": 20,
   "id": "f227b818",
   "metadata": {},
   "outputs": [],
   "source": [
    "m = Model(field = 10)"
   ]
  },
  {
   "cell_type": "code",
   "execution_count": 22,
   "id": "64be87bb",
   "metadata": {},
   "outputs": [
    {
     "data": {
      "text/plain": [
       "Model(field=10)"
      ]
     },
     "execution_count": 22,
     "metadata": {},
     "output_type": "execute_result"
    }
   ],
   "source": [
    "m"
   ]
  },
  {
   "cell_type": "code",
   "execution_count": 23,
   "id": "98ab9aa8",
   "metadata": {},
   "outputs": [],
   "source": [
    "m = Model(alias_field = 10)"
   ]
  },
  {
   "cell_type": "code",
   "execution_count": 24,
   "id": "5a42811e",
   "metadata": {},
   "outputs": [
    {
     "data": {
      "text/plain": [
       "Model(field=10)"
      ]
     },
     "execution_count": 24,
     "metadata": {},
     "output_type": "execute_result"
    }
   ],
   "source": [
    "m"
   ]
  },
  {
   "cell_type": "code",
   "execution_count": 25,
   "id": "b2fb7450",
   "metadata": {},
   "outputs": [
    {
     "data": {
      "text/plain": [
       "{'field': 10}"
      ]
     },
     "execution_count": 25,
     "metadata": {},
     "output_type": "execute_result"
    }
   ],
   "source": [
    "m.model_dump()"
   ]
  },
  {
   "cell_type": "code",
   "execution_count": 26,
   "id": "a348c9dd",
   "metadata": {},
   "outputs": [
    {
     "data": {
      "text/plain": [
       "{'alias_field': 10}"
      ]
     },
     "execution_count": 26,
     "metadata": {},
     "output_type": "execute_result"
    }
   ],
   "source": [
    "m.model_dump(by_alias = True)"
   ]
  },
  {
   "cell_type": "code",
   "execution_count": 27,
   "id": "a5a30180",
   "metadata": {},
   "outputs": [],
   "source": [
    "class Model(BaseModel):\n",
    "    field : int = Field(serialization_alias = 'serilization_field')"
   ]
  },
  {
   "cell_type": "code",
   "execution_count": 30,
   "id": "29ab236a",
   "metadata": {},
   "outputs": [],
   "source": [
    "try:\n",
    "    m = Model(field = 10)\n",
    "except ValidationError as ex:\n",
    "    print(ex)"
   ]
  },
  {
   "cell_type": "code",
   "execution_count": 31,
   "id": "a1e70554",
   "metadata": {},
   "outputs": [
    {
     "data": {
      "text/plain": [
       "Model(field=10)"
      ]
     },
     "execution_count": 31,
     "metadata": {},
     "output_type": "execute_result"
    }
   ],
   "source": [
    "m"
   ]
  },
  {
   "cell_type": "code",
   "execution_count": 32,
   "id": "e59862cc",
   "metadata": {},
   "outputs": [
    {
     "data": {
      "text/plain": [
       "{'field': 10}"
      ]
     },
     "execution_count": 32,
     "metadata": {},
     "output_type": "execute_result"
    }
   ],
   "source": [
    "m.model_dump()"
   ]
  },
  {
   "cell_type": "code",
   "execution_count": 33,
   "id": "9a238ff0",
   "metadata": {},
   "outputs": [
    {
     "data": {
      "text/plain": [
       "{'serilization_field': 10}"
      ]
     },
     "execution_count": 33,
     "metadata": {},
     "output_type": "execute_result"
    }
   ],
   "source": [
    "m.model_dump(by_alias = True)"
   ]
  },
  {
   "cell_type": "code",
   "execution_count": 34,
   "id": "50e4b89d",
   "metadata": {},
   "outputs": [],
   "source": [
    "class Model(BaseModel):\n",
    "    field:int = Field(alias = 'alias_field', serialization_alias = 'serialization_field')"
   ]
  },
  {
   "cell_type": "code",
   "execution_count": 37,
   "id": "3f0fa401",
   "metadata": {},
   "outputs": [
    {
     "name": "stdout",
     "output_type": "stream",
     "text": [
      "1 validation error for Model\n",
      "alias_field\n",
      "  Field required [type=missing, input_value={'field': 10}, input_type=dict]\n",
      "    For further information visit https://errors.pydantic.dev/2.3/v/missing\n"
     ]
    }
   ],
   "source": [
    "try:\n",
    "    Model(field = 10)\n",
    "except ValidationError as  ex:\n",
    "    print(ex)"
   ]
  },
  {
   "cell_type": "code",
   "execution_count": 38,
   "id": "56c3593c",
   "metadata": {},
   "outputs": [],
   "source": [
    "m = Model(alias_field = 10)"
   ]
  },
  {
   "cell_type": "code",
   "execution_count": 39,
   "id": "af01532e",
   "metadata": {},
   "outputs": [
    {
     "data": {
      "text/plain": [
       "Model(field=10)"
      ]
     },
     "execution_count": 39,
     "metadata": {},
     "output_type": "execute_result"
    }
   ],
   "source": [
    "m"
   ]
  },
  {
   "cell_type": "code",
   "execution_count": 40,
   "id": "7760732c",
   "metadata": {},
   "outputs": [
    {
     "data": {
      "text/plain": [
       "{'field': 10}"
      ]
     },
     "execution_count": 40,
     "metadata": {},
     "output_type": "execute_result"
    }
   ],
   "source": [
    "m.model_dump()"
   ]
  },
  {
   "cell_type": "code",
   "execution_count": 41,
   "id": "8e285e45",
   "metadata": {},
   "outputs": [
    {
     "data": {
      "text/plain": [
       "{'serialization_field': 10}"
      ]
     },
     "execution_count": 41,
     "metadata": {},
     "output_type": "execute_result"
    }
   ],
   "source": [
    "m.model_dump(by_alias = True)"
   ]
  },
  {
   "cell_type": "code",
   "execution_count": 42,
   "id": "7ffba0cd",
   "metadata": {},
   "outputs": [],
   "source": [
    "class Model(BaseModel):\n",
    "    model_config = ConfigDict(populate_by_name = True)\n",
    "    field:int = Field(alias = 'alias_field', serialization_alias = 'serialization_field')"
   ]
  },
  {
   "cell_type": "code",
   "execution_count": 43,
   "id": "1290d12f",
   "metadata": {},
   "outputs": [
    {
     "name": "stdout",
     "output_type": "stream",
     "text": [
      "Model(field=10)\n"
     ]
    }
   ],
   "source": [
    "try:\n",
    "    m = Model(field = 10)\n",
    "    print(m.__repr__())\n",
    "except ValidationError as ex:\n",
    "    print(ex)"
   ]
  },
  {
   "cell_type": "code",
   "execution_count": 44,
   "id": "5f0547d9",
   "metadata": {},
   "outputs": [
    {
     "data": {
      "text/plain": [
       "{'field': 10}"
      ]
     },
     "execution_count": 44,
     "metadata": {},
     "output_type": "execute_result"
    }
   ],
   "source": [
    "m.model_dump()"
   ]
  },
  {
   "cell_type": "code",
   "execution_count": 45,
   "id": "15fadae7",
   "metadata": {},
   "outputs": [
    {
     "data": {
      "text/plain": [
       "{'serialization_field': 10}"
      ]
     },
     "execution_count": 45,
     "metadata": {},
     "output_type": "execute_result"
    }
   ],
   "source": [
    "m.model_dump(by_alias = True)"
   ]
  },
  {
   "cell_type": "markdown",
   "id": "4df2349d",
   "metadata": {},
   "source": [
    "# Validation_alias"
   ]
  },
  {
   "cell_type": "code",
   "execution_count": 46,
   "id": "3330b447",
   "metadata": {},
   "outputs": [],
   "source": [
    "class Model(BaseModel):\n",
    "    field:int = Field(validation_alias = 'validation_field')"
   ]
  },
  {
   "cell_type": "code",
   "execution_count": 48,
   "id": "2dd6c789",
   "metadata": {},
   "outputs": [
    {
     "name": "stdout",
     "output_type": "stream",
     "text": [
      "1 validation error for Model\n",
      "validation_field\n",
      "  Field required [type=missing, input_value={'field': 10}, input_type=dict]\n",
      "    For further information visit https://errors.pydantic.dev/2.3/v/missing\n"
     ]
    }
   ],
   "source": [
    "try:\n",
    "    Model(field = 10)\n",
    "except ValidationError as  ex:\n",
    "    print(ex)"
   ]
  },
  {
   "cell_type": "code",
   "execution_count": 50,
   "id": "332a3773",
   "metadata": {},
   "outputs": [
    {
     "data": {
      "text/plain": [
       "Model(field=10)"
      ]
     },
     "execution_count": 50,
     "metadata": {},
     "output_type": "execute_result"
    }
   ],
   "source": [
    "m = Model(validation_field = 10)\n",
    "m"
   ]
  },
  {
   "cell_type": "code",
   "execution_count": 51,
   "id": "d849a9b3",
   "metadata": {},
   "outputs": [
    {
     "data": {
      "text/plain": [
       "{'field': 10}"
      ]
     },
     "execution_count": 51,
     "metadata": {},
     "output_type": "execute_result"
    }
   ],
   "source": [
    "m.model_dump()"
   ]
  },
  {
   "cell_type": "code",
   "execution_count": 52,
   "id": "42fca866",
   "metadata": {},
   "outputs": [
    {
     "data": {
      "text/plain": [
       "{'field': 10}"
      ]
     },
     "execution_count": 52,
     "metadata": {},
     "output_type": "execute_result"
    }
   ],
   "source": [
    "m.model_dump(by_alias = True)"
   ]
  },
  {
   "cell_type": "code",
   "execution_count": 53,
   "id": "e8848406",
   "metadata": {},
   "outputs": [],
   "source": [
    "class Model(BaseModel):\n",
    "    field: int = Field(alias = 'alias_field', validation_alias = 'validation_field')"
   ]
  },
  {
   "cell_type": "code",
   "execution_count": 57,
   "id": "80804eff",
   "metadata": {},
   "outputs": [
    {
     "name": "stdout",
     "output_type": "stream",
     "text": [
      "1 validation error for Model\n",
      "validation_field\n",
      "  Field required [type=missing, input_value={'alias_field': 10}, input_type=dict]\n",
      "    For further information visit https://errors.pydantic.dev/2.3/v/missing\n"
     ]
    }
   ],
   "source": [
    "try:\n",
    "    Model(alias_field = 10)\n",
    "except ValidationError as ex:\n",
    "    print(ex)"
   ]
  },
  {
   "cell_type": "code",
   "execution_count": 59,
   "id": "e72839ec",
   "metadata": {},
   "outputs": [
    {
     "name": "stdout",
     "output_type": "stream",
     "text": [
      "1 validation error for Model\n",
      "validation_field\n",
      "  Field required [type=missing, input_value={'field': 10}, input_type=dict]\n",
      "    For further information visit https://errors.pydantic.dev/2.3/v/missing\n"
     ]
    }
   ],
   "source": [
    "try:\n",
    "    Model(field = 10)\n",
    "except ValidationError as ex:\n",
    "    print(ex)"
   ]
  },
  {
   "cell_type": "code",
   "execution_count": 60,
   "id": "9a3f19cc",
   "metadata": {},
   "outputs": [],
   "source": [
    "class Model(BaseModel):\n",
    "    model_config = ConfigDict(populate_by_name = True)\n",
    "    field:int = Field(alias = 'alias_field', validation_alias = 'validation_field')"
   ]
  },
  {
   "cell_type": "code",
   "execution_count": 61,
   "id": "6907d267",
   "metadata": {},
   "outputs": [],
   "source": [
    "try:\n",
    "    Model(field = 10)\n",
    "except ValidationError as  ex:\n",
    "    print(ex)"
   ]
  },
  {
   "cell_type": "code",
   "execution_count": 62,
   "id": "902dc783",
   "metadata": {},
   "outputs": [
    {
     "name": "stdout",
     "output_type": "stream",
     "text": [
      "1 validation error for Model\n",
      "validation_field\n",
      "  Field required [type=missing, input_value={'alias_field': 10}, input_type=dict]\n",
      "    For further information visit https://errors.pydantic.dev/2.3/v/missing\n"
     ]
    }
   ],
   "source": [
    "try:\n",
    "    Model(alias_field = 10)\n",
    "except ValidationError as ex:\n",
    "    print(ex)"
   ]
  },
  {
   "cell_type": "code",
   "execution_count": 63,
   "id": "661f631f",
   "metadata": {},
   "outputs": [],
   "source": [
    "try:\n",
    "    m = Model(validation_field = 10)\n",
    "except ValidationError as ex:\n",
    "    print(ex)"
   ]
  },
  {
   "cell_type": "code",
   "execution_count": 64,
   "id": "18eda29d",
   "metadata": {},
   "outputs": [
    {
     "data": {
      "text/plain": [
       "Model(field=10)"
      ]
     },
     "execution_count": 64,
     "metadata": {},
     "output_type": "execute_result"
    }
   ],
   "source": [
    "m"
   ]
  },
  {
   "cell_type": "code",
   "execution_count": 65,
   "id": "2f4b2854",
   "metadata": {},
   "outputs": [
    {
     "data": {
      "text/plain": [
       "{'field': 10}"
      ]
     },
     "execution_count": 65,
     "metadata": {},
     "output_type": "execute_result"
    }
   ],
   "source": [
    "m.model_dump()"
   ]
  },
  {
   "cell_type": "code",
   "execution_count": 66,
   "id": "1e9684f5",
   "metadata": {},
   "outputs": [
    {
     "data": {
      "text/plain": [
       "{'alias_field': 10}"
      ]
     },
     "execution_count": 66,
     "metadata": {},
     "output_type": "execute_result"
    }
   ],
   "source": [
    "m.model_dump(by_alias = True)"
   ]
  },
  {
   "cell_type": "code",
   "execution_count": 68,
   "id": "7293eb4f",
   "metadata": {},
   "outputs": [],
   "source": [
    "class Model(BaseModel):\n",
    "    model_config = ConfigDict(populate_by_name = True)\n",
    "    field:int = Field(\n",
    "                        alias = 'alias_field',\n",
    "                        validation_alias = 'validation_field',\n",
    "                        serialization_alias = 'serialization_field'\n",
    "                     )"
   ]
  },
  {
   "cell_type": "code",
   "execution_count": 69,
   "id": "fb95050a",
   "metadata": {},
   "outputs": [
    {
     "name": "stdout",
     "output_type": "stream",
     "text": [
      "1 validation error for Model\n",
      "validation_field\n",
      "  Field required [type=missing, input_value={'alias_field': 10}, input_type=dict]\n",
      "    For further information visit https://errors.pydantic.dev/2.3/v/missing\n"
     ]
    }
   ],
   "source": [
    "try:\n",
    "    Model(alias_field = 10)\n",
    "except ValidationError as ex:\n",
    "    print(ex)"
   ]
  },
  {
   "cell_type": "code",
   "execution_count": 70,
   "id": "e797daac",
   "metadata": {},
   "outputs": [],
   "source": [
    "try:\n",
    "    Model(field = 10)\n",
    "except ValidationError as ex:\n",
    "    print(ex)"
   ]
  },
  {
   "cell_type": "code",
   "execution_count": 73,
   "id": "63f2a2d1",
   "metadata": {},
   "outputs": [
    {
     "name": "stdout",
     "output_type": "stream",
     "text": [
      "Model(field=10)\n"
     ]
    }
   ],
   "source": [
    "try:\n",
    "    m = Model(validation_field = 10)\n",
    "    print(m.__repr__())\n",
    "except ValidationError as ex:\n",
    "    print(ex)"
   ]
  },
  {
   "cell_type": "code",
   "execution_count": 74,
   "id": "bf45107c",
   "metadata": {},
   "outputs": [
    {
     "data": {
      "text/plain": [
       "Model(field=10)"
      ]
     },
     "execution_count": 74,
     "metadata": {},
     "output_type": "execute_result"
    }
   ],
   "source": [
    "m"
   ]
  },
  {
   "cell_type": "code",
   "execution_count": 75,
   "id": "6fab1abf",
   "metadata": {},
   "outputs": [
    {
     "data": {
      "text/plain": [
       "{'field': 10}"
      ]
     },
     "execution_count": 75,
     "metadata": {},
     "output_type": "execute_result"
    }
   ],
   "source": [
    "m.model_dump()"
   ]
  },
  {
   "cell_type": "code",
   "execution_count": 76,
   "id": "8ec67063",
   "metadata": {},
   "outputs": [
    {
     "data": {
      "text/plain": [
       "{'serialization_field': 10}"
      ]
     },
     "execution_count": 76,
     "metadata": {},
     "output_type": "execute_result"
    }
   ],
   "source": [
    "m.model_dump(by_alias = True)"
   ]
  },
  {
   "cell_type": "markdown",
   "id": "25128804",
   "metadata": {},
   "source": [
    "# AliasChoices"
   ]
  },
  {
   "cell_type": "code",
   "execution_count": 77,
   "id": "6815ca2d",
   "metadata": {},
   "outputs": [],
   "source": [
    "from pydantic import AliasChoices"
   ]
  },
  {
   "cell_type": "code",
   "execution_count": 78,
   "id": "d1eb632a",
   "metadata": {},
   "outputs": [],
   "source": [
    "class Model(BaseModel):\n",
    "    field : int = Field(validation_alias = AliasChoices('v_alias_1', 'v_alias_2', 'v_alias_3'))"
   ]
  },
  {
   "cell_type": "code",
   "execution_count": 79,
   "id": "70a28c02",
   "metadata": {},
   "outputs": [
    {
     "name": "stdout",
     "output_type": "stream",
     "text": [
      "1 validation error for Model\n",
      "v_alias_1\n",
      "  Field required [type=missing, input_value={'field': 10}, input_type=dict]\n",
      "    For further information visit https://errors.pydantic.dev/2.3/v/missing\n"
     ]
    }
   ],
   "source": [
    "try:\n",
    "    Model(field = 10)\n",
    "except ValidationError as ex:\n",
    "    print(ex)"
   ]
  },
  {
   "cell_type": "code",
   "execution_count": 88,
   "id": "a707e138",
   "metadata": {},
   "outputs": [],
   "source": [
    "try:\n",
    "    m = Model(v_alias_3 = 10)\n",
    "except ValidationError as ex:\n",
    "    print(ex)"
   ]
  },
  {
   "cell_type": "code",
   "execution_count": 89,
   "id": "b3a4e6d3",
   "metadata": {},
   "outputs": [
    {
     "data": {
      "text/plain": [
       "Model(field=10)"
      ]
     },
     "execution_count": 89,
     "metadata": {},
     "output_type": "execute_result"
    }
   ],
   "source": [
    "m"
   ]
  },
  {
   "cell_type": "markdown",
   "id": "09aa2d2e",
   "metadata": {},
   "source": [
    "```12:00:00 12 PM```"
   ]
  },
  {
   "cell_type": "code",
   "execution_count": 90,
   "id": "d860cc4f",
   "metadata": {},
   "outputs": [],
   "source": [
    "from pydantic import PositiveInt, BaseModel, ValidationError"
   ]
  },
  {
   "cell_type": "code",
   "execution_count": 91,
   "id": "213a39de",
   "metadata": {},
   "outputs": [],
   "source": [
    "class Model(BaseModel):\n",
    "    field: PositiveInt"
   ]
  },
  {
   "cell_type": "code",
   "execution_count": 95,
   "id": "4c2747af",
   "metadata": {},
   "outputs": [
    {
     "name": "stdout",
     "output_type": "stream",
     "text": [
      "1 validation error for Model\n",
      "field\n",
      "  Input should be greater than 0 [type=greater_than, input_value=0, input_type=int]\n",
      "    For further information visit https://errors.pydantic.dev/2.3/v/greater_than\n"
     ]
    }
   ],
   "source": [
    "try:\n",
    "    Model(field = 0)\n",
    "except ValidationError as ex:\n",
    "    print(ex)"
   ]
  },
  {
   "cell_type": "code",
   "execution_count": 96,
   "id": "c8ba76ee",
   "metadata": {},
   "outputs": [],
   "source": [
    "from uuid import uuid4"
   ]
  },
  {
   "cell_type": "code",
   "execution_count": 97,
   "id": "c14e3325",
   "metadata": {},
   "outputs": [
    {
     "data": {
      "text/plain": [
       "UUID('f3d68ecf-5f07-4013-a98c-288973a3856a')"
      ]
     },
     "execution_count": 97,
     "metadata": {},
     "output_type": "execute_result"
    }
   ],
   "source": [
    "uuid4()"
   ]
  },
  {
   "cell_type": "code",
   "execution_count": 98,
   "id": "1e486b58",
   "metadata": {},
   "outputs": [
    {
     "data": {
      "text/plain": [
       "UUID('cbacf82a-d117-40b6-8bdd-bac9df17dd14')"
      ]
     },
     "execution_count": 98,
     "metadata": {},
     "output_type": "execute_result"
    }
   ],
   "source": [
    "uuid4()"
   ]
  },
  {
   "cell_type": "code",
   "execution_count": 99,
   "id": "2689c51f",
   "metadata": {},
   "outputs": [],
   "source": [
    "from pydantic import BaseModel, ConfigDict, ValidationError, PositiveInt, UUID4, Field"
   ]
  },
  {
   "cell_type": "code",
   "execution_count": 105,
   "id": "c87f9bb9",
   "metadata": {},
   "outputs": [],
   "source": [
    "class Model(BaseModel):\n",
    "    id_: UUID4 = Field(default = uuid4())"
   ]
  },
  {
   "cell_type": "code",
   "execution_count": 107,
   "id": "275954ed",
   "metadata": {},
   "outputs": [
    {
     "data": {
      "text/plain": [
       "Model(id_=UUID('08fb6625-2006-4b44-bbd1-7c986e1abda2'))"
      ]
     },
     "execution_count": 107,
     "metadata": {},
     "output_type": "execute_result"
    }
   ],
   "source": [
    "Model()"
   ]
  },
  {
   "cell_type": "code",
   "execution_count": null,
   "id": "3873b84f",
   "metadata": {},
   "outputs": [],
   "source": []
  },
  {
   "cell_type": "code",
   "execution_count": 108,
   "id": "75894a8a",
   "metadata": {},
   "outputs": [
    {
     "data": {
      "text/plain": [
       "Model(id_=UUID('08fb6625-2006-4b44-bbd1-7c986e1abda2'))"
      ]
     },
     "execution_count": 108,
     "metadata": {},
     "output_type": "execute_result"
    }
   ],
   "source": [
    "Model()"
   ]
  },
  {
   "cell_type": "code",
   "execution_count": 109,
   "id": "98a8e4ca",
   "metadata": {},
   "outputs": [],
   "source": [
    "m = Model(id_ = uuid4())"
   ]
  },
  {
   "cell_type": "code",
   "execution_count": 110,
   "id": "2b6b5bbd",
   "metadata": {},
   "outputs": [
    {
     "data": {
      "text/plain": [
       "Model(id_=UUID('a53b0bef-9a0e-4ef7-b3b9-7d9d75094860'))"
      ]
     },
     "execution_count": 110,
     "metadata": {},
     "output_type": "execute_result"
    }
   ],
   "source": [
    "m"
   ]
  },
  {
   "cell_type": "code",
   "execution_count": 111,
   "id": "db7b7624",
   "metadata": {},
   "outputs": [
    {
     "data": {
      "text/plain": [
       "{'id_': UUID('a53b0bef-9a0e-4ef7-b3b9-7d9d75094860')}"
      ]
     },
     "execution_count": 111,
     "metadata": {},
     "output_type": "execute_result"
    }
   ],
   "source": [
    "m.model_dump()"
   ]
  },
  {
   "cell_type": "code",
   "execution_count": 112,
   "id": "d4e31c9f",
   "metadata": {},
   "outputs": [
    {
     "data": {
      "text/plain": [
       "'{\"id_\":\"a53b0bef-9a0e-4ef7-b3b9-7d9d75094860\"}'"
      ]
     },
     "execution_count": 112,
     "metadata": {},
     "output_type": "execute_result"
    }
   ],
   "source": [
    "m.model_dump_json()"
   ]
  },
  {
   "cell_type": "code",
   "execution_count": null,
   "id": "c94158c9",
   "metadata": {},
   "outputs": [],
   "source": [
    "# Numbers\n",
    "\n",
    "# Basic maths refresher\n",
    "# positive numbers -- > 3.14,\n",
    "# negative numbers -- \n",
    "# 0 ?? -- neither positive nor negative -- zero\n",
    "# non-negative -- positive numbers + zero\n",
    "# non-positive -- negative numbers + zero\n",
    "# Natural numbers -- 1,2,3,\n",
    "# whole numbers -- 0,1,2,3\n",
    "# integers -- negative numbers + zero + positive numbers\n",
    "# rational numbers -- p/q\n",
    "# irrational numbers -- p/q -- root(2) = 1.41```` root(3) = 1.73``\n",
    "# Every integer is a rational number (why?) -- 5/1\n",
    "# python + maths + data"
   ]
  },
  {
   "cell_type": "code",
   "execution_count": null,
   "id": "1e232149",
   "metadata": {},
   "outputs": [],
   "source": [
    "# Integers, Float(decimal numbers -- 1.0 )\n",
    "# boolean values -- True and False\n",
    "# String data type"
   ]
  },
  {
   "cell_type": "code",
   "execution_count": 123,
   "id": "de940224",
   "metadata": {},
   "outputs": [
    {
     "data": {
      "text/plain": [
       "int"
      ]
     },
     "execution_count": 123,
     "metadata": {},
     "output_type": "execute_result"
    }
   ],
   "source": [
    "type(1)"
   ]
  },
  {
   "cell_type": "code",
   "execution_count": 117,
   "id": "4425612b",
   "metadata": {},
   "outputs": [
    {
     "data": {
      "text/plain": [
       "float"
      ]
     },
     "execution_count": 117,
     "metadata": {},
     "output_type": "execute_result"
    }
   ],
   "source": [
    "type(10.5)"
   ]
  },
  {
   "cell_type": "code",
   "execution_count": 119,
   "id": "11ca4e8d",
   "metadata": {},
   "outputs": [
    {
     "data": {
      "text/plain": [
       "float"
      ]
     },
     "execution_count": 119,
     "metadata": {},
     "output_type": "execute_result"
    }
   ],
   "source": [
    "type(1.)"
   ]
  },
  {
   "cell_type": "code",
   "execution_count": 120,
   "id": "80329994",
   "metadata": {},
   "outputs": [
    {
     "data": {
      "text/plain": [
       "bool"
      ]
     },
     "execution_count": 120,
     "metadata": {},
     "output_type": "execute_result"
    }
   ],
   "source": [
    "type(True)"
   ]
  },
  {
   "cell_type": "code",
   "execution_count": 121,
   "id": "7d907078",
   "metadata": {},
   "outputs": [
    {
     "data": {
      "text/plain": [
       "bool"
      ]
     },
     "execution_count": 121,
     "metadata": {},
     "output_type": "execute_result"
    }
   ],
   "source": [
    "type(False)"
   ]
  },
  {
   "cell_type": "code",
   "execution_count": 122,
   "id": "63bac549",
   "metadata": {},
   "outputs": [
    {
     "data": {
      "text/plain": [
       "str"
      ]
     },
     "execution_count": 122,
     "metadata": {},
     "output_type": "execute_result"
    }
   ],
   "source": [
    "type('Abhishek')"
   ]
  },
  {
   "cell_type": "code",
   "execution_count": 125,
   "id": "4bed65f3",
   "metadata": {},
   "outputs": [],
   "source": [
    "age = 23\n",
    "# variables -- naming convention"
   ]
  },
  {
   "cell_type": "code",
   "execution_count": 128,
   "id": "08bd2a7f",
   "metadata": {},
   "outputs": [
    {
     "data": {
      "text/plain": [
       "'Abhishek'"
      ]
     },
     "execution_count": 128,
     "metadata": {},
     "output_type": "execute_result"
    }
   ],
   "source": [
    "name = 'Abhishek'\n",
    "name"
   ]
  },
  {
   "cell_type": "code",
   "execution_count": 129,
   "id": "5cdd0faf",
   "metadata": {},
   "outputs": [],
   "source": [
    "# naming convention\n",
    "\n",
    "# snake case for naming variables\n",
    "# special symbols are not allowed other than underscore\n",
    "# digits 0--9(should not start with a digit)"
   ]
  },
  {
   "cell_type": "code",
   "execution_count": 134,
   "id": "efc4b524",
   "metadata": {},
   "outputs": [
    {
     "ename": "SyntaxError",
     "evalue": "cannot assign to expression here. Maybe you meant '==' instead of '='? (2964098415.py, line 1)",
     "output_type": "error",
     "traceback": [
      "\u001b[1;36m  Cell \u001b[1;32mIn[134], line 1\u001b[1;36m\u001b[0m\n\u001b[1;33m    abh@i_name = 'Abhishek'\u001b[0m\n\u001b[1;37m    ^\u001b[0m\n\u001b[1;31mSyntaxError\u001b[0m\u001b[1;31m:\u001b[0m cannot assign to expression here. Maybe you meant '==' instead of '='?\n"
     ]
    }
   ],
   "source": [
    "abhi_name = 'Abhishek'"
   ]
  },
  {
   "cell_type": "code",
   "execution_count": 1,
   "id": "dbbff274",
   "metadata": {},
   "outputs": [],
   "source": [
    "# a-z, A-Z, 0-9, _\n",
    "# variable name cant start with a digits\n",
    "# snake_case"
   ]
  },
  {
   "cell_type": "code",
   "execution_count": 2,
   "id": "64f90c03",
   "metadata": {},
   "outputs": [],
   "source": [
    "from pydantic import BaseModel, ConfigDict, ValidationError, Field, field_serializer"
   ]
  },
  {
   "cell_type": "code",
   "execution_count": 3,
   "id": "ebfd8f99",
   "metadata": {},
   "outputs": [],
   "source": [
    "from pydantic import NameEmail, EmailStr"
   ]
  },
  {
   "cell_type": "code",
   "execution_count": 4,
   "id": "87718804",
   "metadata": {},
   "outputs": [],
   "source": [
    "class Model(BaseModel):\n",
    "    email: EmailStr"
   ]
  },
  {
   "cell_type": "code",
   "execution_count": 6,
   "id": "1611e6dc",
   "metadata": {},
   "outputs": [],
   "source": [
    "try:\n",
    "    m = Model(email = 'sameerjha462000@gmail.com')\n",
    "except ValidationError as ex:\n",
    "    print(ex)"
   ]
  },
  {
   "cell_type": "code",
   "execution_count": 7,
   "id": "665a7c15",
   "metadata": {},
   "outputs": [
    {
     "name": "stdout",
     "output_type": "stream",
     "text": [
      "Model(email='sameerjha462000@gmail.com')\n"
     ]
    }
   ],
   "source": [
    "print(m.__repr__())"
   ]
  },
  {
   "cell_type": "code",
   "execution_count": 8,
   "id": "39b4f8da",
   "metadata": {},
   "outputs": [
    {
     "name": "stdout",
     "output_type": "stream",
     "text": [
      "1 validation error for Model\n",
      "email\n",
      "  value is not a valid email address: The email address is not valid. It must have exactly one @-sign. [type=value_error, input_value='Abhishek Jha', input_type=str]\n"
     ]
    }
   ],
   "source": [
    "try:\n",
    "    Model(email = 'Abhishek Jha')\n",
    "except ValidationError as ex:\n",
    "    print(ex)"
   ]
  },
  {
   "cell_type": "code",
   "execution_count": 9,
   "id": "0510f5c1",
   "metadata": {},
   "outputs": [],
   "source": [
    "class Model(BaseModel):\n",
    "    email: NameEmail"
   ]
  },
  {
   "cell_type": "code",
   "execution_count": 10,
   "id": "34dafafe",
   "metadata": {},
   "outputs": [],
   "source": [
    "m = Model(email = 'sameerjha462000@gmail.com')"
   ]
  },
  {
   "cell_type": "code",
   "execution_count": 11,
   "id": "18d9a117",
   "metadata": {},
   "outputs": [
    {
     "data": {
      "text/plain": [
       "Model(email=NameEmail(name='sameerjha462000', email='sameerjha462000@gmail.com'))"
      ]
     },
     "execution_count": 11,
     "metadata": {},
     "output_type": "execute_result"
    }
   ],
   "source": [
    "m"
   ]
  },
  {
   "cell_type": "code",
   "execution_count": 12,
   "id": "7085afad",
   "metadata": {},
   "outputs": [
    {
     "data": {
      "text/plain": [
       "'sameerjha462000'"
      ]
     },
     "execution_count": 12,
     "metadata": {},
     "output_type": "execute_result"
    }
   ],
   "source": [
    "m.email.name"
   ]
  },
  {
   "cell_type": "code",
   "execution_count": 13,
   "id": "d66cb81d",
   "metadata": {},
   "outputs": [
    {
     "data": {
      "text/plain": [
       "'sameerjha462000@gmail.com'"
      ]
     },
     "execution_count": 13,
     "metadata": {},
     "output_type": "execute_result"
    }
   ],
   "source": [
    "m.email.email"
   ]
  },
  {
   "cell_type": "code",
   "execution_count": 15,
   "id": "564063b8",
   "metadata": {},
   "outputs": [],
   "source": [
    "m = Model(email = 'Abhishek Jha <sameerjha462000@gmail.com>')"
   ]
  },
  {
   "cell_type": "code",
   "execution_count": 16,
   "id": "0b263422",
   "metadata": {},
   "outputs": [
    {
     "data": {
      "text/plain": [
       "Model(email=NameEmail(name='Abhishek Jha', email='sameerjha462000@gmail.com'))"
      ]
     },
     "execution_count": 16,
     "metadata": {},
     "output_type": "execute_result"
    }
   ],
   "source": [
    "m"
   ]
  },
  {
   "cell_type": "code",
   "execution_count": 17,
   "id": "2db85f91",
   "metadata": {},
   "outputs": [
    {
     "data": {
      "text/plain": [
       "'Abhishek Jha'"
      ]
     },
     "execution_count": 17,
     "metadata": {},
     "output_type": "execute_result"
    }
   ],
   "source": [
    "m.email.name"
   ]
  },
  {
   "cell_type": "code",
   "execution_count": 18,
   "id": "61f0978e",
   "metadata": {},
   "outputs": [
    {
     "data": {
      "text/plain": [
       "'sameerjha462000@gmail.com'"
      ]
     },
     "execution_count": 18,
     "metadata": {},
     "output_type": "execute_result"
    }
   ],
   "source": [
    "m.email.email"
   ]
  },
  {
   "cell_type": "code",
   "execution_count": 19,
   "id": "a1dda109",
   "metadata": {},
   "outputs": [],
   "source": [
    "from pydantic import AnyUrl"
   ]
  },
  {
   "cell_type": "code",
   "execution_count": 20,
   "id": "a3ee558e",
   "metadata": {},
   "outputs": [
    {
     "data": {
      "text/plain": [
       "Url('https://www.google.com/search/q?=amrusha%20gurjar')"
      ]
     },
     "execution_count": 20,
     "metadata": {},
     "output_type": "execute_result"
    }
   ],
   "source": [
    "AnyUrl('https://www.google.com/search/q?=amrusha gurjar')"
   ]
  },
  {
   "cell_type": "code",
   "execution_count": 21,
   "id": "fde54b75",
   "metadata": {},
   "outputs": [
    {
     "data": {
      "text/plain": [
       "Url('https://www.google.com/search?q=amrusha+gurjar')"
      ]
     },
     "execution_count": 21,
     "metadata": {},
     "output_type": "execute_result"
    }
   ],
   "source": [
    "AnyUrl('https://www.google.com/search?q=amrusha+gurjar')"
   ]
  },
  {
   "cell_type": "code",
   "execution_count": 22,
   "id": "9ca953c7",
   "metadata": {},
   "outputs": [],
   "source": [
    "from pydantic import HttpUrl"
   ]
  },
  {
   "cell_type": "code",
   "execution_count": 25,
   "id": "e481aed9",
   "metadata": {},
   "outputs": [
    {
     "data": {
      "text/plain": [
       "Url('https://www.example.com/')"
      ]
     },
     "execution_count": 25,
     "metadata": {},
     "output_type": "execute_result"
    }
   ],
   "source": [
    "HttpUrl('https://www.example.com')"
   ]
  },
  {
   "cell_type": "code",
   "execution_count": 26,
   "id": "6b3a63d5",
   "metadata": {},
   "outputs": [],
   "source": [
    "class Model(BaseModel):\n",
    "    url: HttpUrl"
   ]
  },
  {
   "cell_type": "code",
   "execution_count": 28,
   "id": "d2f756cb",
   "metadata": {},
   "outputs": [
    {
     "name": "stdout",
     "output_type": "stream",
     "text": [
      "Model(url=Url('https://www.example.com/'))\n"
     ]
    }
   ],
   "source": [
    "try:\n",
    "    m = Model(url = 'https://www.example.com')\n",
    "    print(m.__repr__())\n",
    "except ValidationError as ex:\n",
    "    print(ex)"
   ]
  },
  {
   "cell_type": "code",
   "execution_count": 29,
   "id": "6205a998",
   "metadata": {},
   "outputs": [],
   "source": [
    "# eazy peasy lemon squeezy"
   ]
  },
  {
   "cell_type": "code",
   "execution_count": 30,
   "id": "5755093f",
   "metadata": {},
   "outputs": [
    {
     "name": "stdout",
     "output_type": "stream",
     "text": [
      "1 validation error for Model\n",
      "url\n",
      "  Input should be a valid URL, relative URL without a base [type=url_parsing, input_value='www.google.com', input_type=str]\n",
      "    For further information visit https://errors.pydantic.dev/2.3/v/url_parsing\n"
     ]
    }
   ],
   "source": [
    "try:\n",
    "    Model(url = 'www.google.com')\n",
    "except ValidationError as ex:\n",
    "    print(ex)"
   ]
  },
  {
   "cell_type": "code",
   "execution_count": 31,
   "id": "699cae1a",
   "metadata": {},
   "outputs": [],
   "source": [
    "from pydantic import BaseModel, ConfigDict, ValidationError, Field"
   ]
  },
  {
   "cell_type": "code",
   "execution_count": 33,
   "id": "5a8ece34",
   "metadata": {},
   "outputs": [],
   "source": [
    "class Model(BaseModel):\n",
    "    positive: int = Field(gt = 0)"
   ]
  },
  {
   "cell_type": "code",
   "execution_count": 34,
   "id": "5284da12",
   "metadata": {},
   "outputs": [
    {
     "data": {
      "text/plain": [
       "{'positive': FieldInfo(annotation=int, required=True, metadata=[Gt(gt=0)])}"
      ]
     },
     "execution_count": 34,
     "metadata": {},
     "output_type": "execute_result"
    }
   ],
   "source": [
    "Model.model_fields"
   ]
  },
  {
   "cell_type": "code",
   "execution_count": 35,
   "id": "e9d21aea",
   "metadata": {},
   "outputs": [],
   "source": [
    "class Model(BaseModel):\n",
    "    positive: int = Field(gt = 0, le = 4)"
   ]
  },
  {
   "cell_type": "code",
   "execution_count": 36,
   "id": "f0f214af",
   "metadata": {},
   "outputs": [],
   "source": [
    "try:\n",
    "    Model(positive = 3)\n",
    "except ValidationError as ex:\n",
    "    print(ex)"
   ]
  },
  {
   "cell_type": "code",
   "execution_count": 37,
   "id": "60a921d0",
   "metadata": {},
   "outputs": [],
   "source": [
    "class Model(BaseModel):\n",
    "    positive: int = Field(gt = 0, le = 4, multiple_of=2)"
   ]
  },
  {
   "cell_type": "code",
   "execution_count": 38,
   "id": "29f8b78c",
   "metadata": {},
   "outputs": [
    {
     "name": "stdout",
     "output_type": "stream",
     "text": [
      "1 validation error for Model\n",
      "positive\n",
      "  Input should be a multiple of 2 [type=multiple_of, input_value=3, input_type=int]\n",
      "    For further information visit https://errors.pydantic.dev/2.3/v/multiple_of\n"
     ]
    }
   ],
   "source": [
    "try:\n",
    "    Model(positive = 3)\n",
    "except ValidationError as ex:\n",
    "    print(ex)"
   ]
  },
  {
   "cell_type": "code",
   "execution_count": 41,
   "id": "1ea57517",
   "metadata": {},
   "outputs": [
    {
     "name": "stdout",
     "output_type": "stream",
     "text": [
      "1 validation error for Model\n",
      "positive\n",
      "  Input should be less than or equal to 4 [type=less_than_equal, input_value=6, input_type=int]\n",
      "    For further information visit https://errors.pydantic.dev/2.3/v/less_than_equal\n"
     ]
    }
   ],
   "source": [
    "try:\n",
    "    Model(positive = 6)\n",
    "except ValidationError as ex:\n",
    "    print(ex)"
   ]
  },
  {
   "cell_type": "code",
   "execution_count": 43,
   "id": "9bec298b",
   "metadata": {},
   "outputs": [],
   "source": [
    "class Model(BaseModel):\n",
    "    name:str = Field(min_length=1, max_length = 5)"
   ]
  },
  {
   "cell_type": "code",
   "execution_count": 44,
   "id": "f8f1786d",
   "metadata": {},
   "outputs": [
    {
     "name": "stdout",
     "output_type": "stream",
     "text": [
      "1 validation error for Model\n",
      "name\n",
      "  String should have at most 5 characters [type=string_too_long, input_value='Abhishek Jha', input_type=str]\n",
      "    For further information visit https://errors.pydantic.dev/2.3/v/string_too_long\n"
     ]
    }
   ],
   "source": [
    "try:\n",
    "    Model(name = 'Abhishek Jha')\n",
    "except ValidationError as ex:\n",
    "    print(ex)"
   ]
  },
  {
   "cell_type": "code",
   "execution_count": 45,
   "id": "68d6b2a8",
   "metadata": {},
   "outputs": [],
   "source": [
    "class Model(BaseModel):\n",
    "    field: tuple[int]"
   ]
  },
  {
   "cell_type": "code",
   "execution_count": 46,
   "id": "3a8627b8",
   "metadata": {},
   "outputs": [
    {
     "name": "stdout",
     "output_type": "stream",
     "text": [
      "1 validation error for Model\n",
      "field\n",
      "  Tuple should have at most 1 item after validation, not 2 [type=too_long, input_value=(1, 2), input_type=tuple]\n",
      "    For further information visit https://errors.pydantic.dev/2.3/v/too_long\n"
     ]
    }
   ],
   "source": [
    "try:\n",
    "    Model(field = (1,2))\n",
    "except ValidationError as ex:\n",
    "    print(ex)"
   ]
  },
  {
   "cell_type": "markdown",
   "id": "7cf15664",
   "metadata": {},
   "source": [
    "# Model level configuration"
   ]
  },
  {
   "cell_type": "code",
   "execution_count": 47,
   "id": "9d25417f",
   "metadata": {},
   "outputs": [],
   "source": [
    "# configDict -- configuration dictionary\n",
    "class Model(BaseModel):\n",
    "    field:int"
   ]
  },
  {
   "cell_type": "code",
   "execution_count": 48,
   "id": "426d22ca",
   "metadata": {},
   "outputs": [],
   "source": [
    "m = Model(field = 10)"
   ]
  },
  {
   "cell_type": "code",
   "execution_count": 49,
   "id": "82f47349",
   "metadata": {},
   "outputs": [],
   "source": [
    "m.field = 20"
   ]
  },
  {
   "cell_type": "code",
   "execution_count": 50,
   "id": "957f2808",
   "metadata": {},
   "outputs": [
    {
     "data": {
      "text/plain": [
       "Model(field=20)"
      ]
     },
     "execution_count": 50,
     "metadata": {},
     "output_type": "execute_result"
    }
   ],
   "source": [
    "m"
   ]
  },
  {
   "cell_type": "code",
   "execution_count": 52,
   "id": "3793d0b4",
   "metadata": {},
   "outputs": [],
   "source": [
    "# ConfigDict -- typed dictionary -- it has some configurations"
   ]
  },
  {
   "cell_type": "code",
   "execution_count": 53,
   "id": "8422356d",
   "metadata": {},
   "outputs": [],
   "source": [
    "from pydantic import BaseModel, ConfigDict, ValidationError"
   ]
  },
  {
   "cell_type": "code",
   "execution_count": 54,
   "id": "966919f2",
   "metadata": {},
   "outputs": [],
   "source": [
    "class Model(BaseModel):\n",
    "    model_config = ConfigDict(frozen = True)\n",
    "    \n",
    "    field:int"
   ]
  },
  {
   "cell_type": "code",
   "execution_count": 55,
   "id": "fde2408e",
   "metadata": {},
   "outputs": [],
   "source": [
    "m = Model(field = 10)"
   ]
  },
  {
   "cell_type": "code",
   "execution_count": 56,
   "id": "2b093678",
   "metadata": {},
   "outputs": [
    {
     "data": {
      "text/plain": [
       "Model(field=10)"
      ]
     },
     "execution_count": 56,
     "metadata": {},
     "output_type": "execute_result"
    }
   ],
   "source": [
    "m"
   ]
  },
  {
   "cell_type": "code",
   "execution_count": 58,
   "id": "b5414715",
   "metadata": {},
   "outputs": [
    {
     "name": "stdout",
     "output_type": "stream",
     "text": [
      "1 validation error for Model\n",
      "field\n",
      "  Instance is frozen [type=frozen_instance, input_value=20, input_type=int]\n",
      "    For further information visit https://errors.pydantic.dev/2.3/v/frozen_instance\n"
     ]
    }
   ],
   "source": [
    "try:\n",
    "    m.field = 20\n",
    "except ValidationError as ex:\n",
    "    print(ex)"
   ]
  },
  {
   "cell_type": "code",
   "execution_count": 59,
   "id": "d885c03f",
   "metadata": {},
   "outputs": [],
   "source": [
    "class Model(BaseModel):\n",
    "    field:int"
   ]
  },
  {
   "cell_type": "code",
   "execution_count": 60,
   "id": "f24a9fe0",
   "metadata": {},
   "outputs": [],
   "source": [
    "m = Model(field = 10)"
   ]
  },
  {
   "cell_type": "code",
   "execution_count": 61,
   "id": "21d0a6d4",
   "metadata": {},
   "outputs": [
    {
     "data": {
      "text/plain": [
       "Model(field=10)"
      ]
     },
     "execution_count": 61,
     "metadata": {},
     "output_type": "execute_result"
    }
   ],
   "source": [
    "m"
   ]
  },
  {
   "cell_type": "code",
   "execution_count": 62,
   "id": "ef47d12d",
   "metadata": {},
   "outputs": [],
   "source": [
    "m.field = 'junk'"
   ]
  },
  {
   "cell_type": "code",
   "execution_count": 63,
   "id": "fd034f92",
   "metadata": {},
   "outputs": [
    {
     "data": {
      "text/plain": [
       "Model(field='junk')"
      ]
     },
     "execution_count": 63,
     "metadata": {},
     "output_type": "execute_result"
    }
   ],
   "source": [
    "m"
   ]
  },
  {
   "cell_type": "code",
   "execution_count": 64,
   "id": "4540849c",
   "metadata": {},
   "outputs": [],
   "source": [
    "# ConfigDict"
   ]
  },
  {
   "cell_type": "code",
   "execution_count": 65,
   "id": "2ec835e6",
   "metadata": {},
   "outputs": [],
   "source": [
    "class Model(BaseModel):\n",
    "    model_config = ConfigDict(validate_assignment = True)\n",
    "    field:int"
   ]
  },
  {
   "cell_type": "code",
   "execution_count": 66,
   "id": "6a30f63f",
   "metadata": {},
   "outputs": [
    {
     "data": {
      "text/plain": [
       "Model(field=10)"
      ]
     },
     "execution_count": 66,
     "metadata": {},
     "output_type": "execute_result"
    }
   ],
   "source": [
    "m = Model(field = 10)\n",
    "m"
   ]
  },
  {
   "cell_type": "code",
   "execution_count": 67,
   "id": "4eb4d380",
   "metadata": {},
   "outputs": [],
   "source": [
    "m.field = 20"
   ]
  },
  {
   "cell_type": "code",
   "execution_count": 69,
   "id": "6c256fb4",
   "metadata": {},
   "outputs": [
    {
     "name": "stdout",
     "output_type": "stream",
     "text": [
      "1 validation error for Model\n",
      "field\n",
      "  Input should be a valid integer, unable to parse string as an integer [type=int_parsing, input_value='', input_type=str]\n",
      "    For further information visit https://errors.pydantic.dev/2.3/v/int_parsing\n"
     ]
    }
   ],
   "source": [
    "try:\n",
    "    m.field = ''\n",
    "except ValidationError as ex:\n",
    "    print(ex)"
   ]
  },
  {
   "cell_type": "code",
   "execution_count": 70,
   "id": "ef70946f",
   "metadata": {},
   "outputs": [],
   "source": [
    "class Model(BaseModel):\n",
    "    field:int = (0, 0)"
   ]
  },
  {
   "cell_type": "code",
   "execution_count": 71,
   "id": "3f0900f3",
   "metadata": {},
   "outputs": [
    {
     "data": {
      "text/plain": [
       "Model(field=(0, 0))"
      ]
     },
     "execution_count": 71,
     "metadata": {},
     "output_type": "execute_result"
    }
   ],
   "source": [
    "Model()"
   ]
  },
  {
   "cell_type": "code",
   "execution_count": 72,
   "id": "a66a9e5f",
   "metadata": {},
   "outputs": [],
   "source": [
    "class Model(BaseModel):\n",
    "    model_config = ConfigDict(validate_default = True)\n",
    "    \n",
    "    field:int = (0, 0)"
   ]
  },
  {
   "cell_type": "code",
   "execution_count": 74,
   "id": "8525b801",
   "metadata": {},
   "outputs": [
    {
     "name": "stdout",
     "output_type": "stream",
     "text": [
      "1 validation error for Model\n",
      "field\n",
      "  Input should be a valid integer [type=int_type, input_value=(0, 0), input_type=tuple]\n",
      "    For further information visit https://errors.pydantic.dev/2.3/v/int_type\n"
     ]
    }
   ],
   "source": [
    "try:\n",
    "    Model()\n",
    "except ValidationError as ex:\n",
    "    print(ex)"
   ]
  },
  {
   "cell_type": "code",
   "execution_count": 75,
   "id": "3e744b61",
   "metadata": {},
   "outputs": [],
   "source": [
    "class Person(BaseModel):\n",
    "    model_config = ConfigDict(str_to_upper = True)\n",
    "    first_name:str\n",
    "    last_name:str"
   ]
  },
  {
   "cell_type": "code",
   "execution_count": 76,
   "id": "39222c63",
   "metadata": {},
   "outputs": [
    {
     "data": {
      "text/plain": [
       "Person(first_name='ABHISHEK', last_name='JHA')"
      ]
     },
     "execution_count": 76,
     "metadata": {},
     "output_type": "execute_result"
    }
   ],
   "source": [
    "Person(first_name = 'abhishek', last_name = 'jha')"
   ]
  },
  {
   "cell_type": "code",
   "execution_count": 77,
   "id": "da493b49",
   "metadata": {},
   "outputs": [],
   "source": [
    "class Person(BaseModel):\n",
    "    model_config = ConfigDict(str_to_lower = True)\n",
    "    first_name:str\n",
    "    last_name:str"
   ]
  },
  {
   "cell_type": "code",
   "execution_count": 81,
   "id": "3f76c1f5",
   "metadata": {},
   "outputs": [
    {
     "data": {
      "text/plain": [
       "'jha'"
      ]
     },
     "execution_count": 81,
     "metadata": {},
     "output_type": "execute_result"
    }
   ],
   "source": [
    "p = Person(first_name = 'ABHISHEK', last_name = 'JHA')\n",
    "p.first_name\n",
    "p.last_name"
   ]
  },
  {
   "cell_type": "code",
   "execution_count": null,
   "id": "9f3ba5f4",
   "metadata": {},
   "outputs": [],
   "source": [
    "# Python -- library, framework, module\n",
    "# Fast"
   ]
  }
 ],
 "metadata": {
  "kernelspec": {
   "display_name": "Python 3 (ipykernel)",
   "language": "python",
   "name": "python3"
  },
  "language_info": {
   "codemirror_mode": {
    "name": "ipython",
    "version": 3
   },
   "file_extension": ".py",
   "mimetype": "text/x-python",
   "name": "python",
   "nbconvert_exporter": "python",
   "pygments_lexer": "ipython3",
   "version": "3.11.5"
  }
 },
 "nbformat": 4,
 "nbformat_minor": 5
}
