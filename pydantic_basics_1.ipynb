{
 "cells": [
  {
   "cell_type": "code",
   "execution_count": 1,
   "id": "266e13f6",
   "metadata": {},
   "outputs": [],
   "source": [
    "from pydantic import BaseModel, ValidationError"
   ]
  },
  {
   "cell_type": "code",
   "execution_count": 2,
   "id": "1676824d",
   "metadata": {},
   "outputs": [],
   "source": [
    "class Person(BaseModel):\n",
    "    first_name: str\n",
    "    last_name : str\n",
    "    age : int"
   ]
  },
  {
   "cell_type": "code",
   "execution_count": 3,
   "id": "074ea4f6",
   "metadata": {},
   "outputs": [
    {
     "data": {
      "text/plain": [
       "{'first_name': FieldInfo(annotation=str, required=True),\n",
       " 'last_name': FieldInfo(annotation=str, required=True),\n",
       " 'age': FieldInfo(annotation=int, required=True)}"
      ]
     },
     "execution_count": 3,
     "metadata": {},
     "output_type": "execute_result"
    }
   ],
   "source": [
    "Person.model_fields"
   ]
  },
  {
   "cell_type": "code",
   "execution_count": 4,
   "id": "b64b491a",
   "metadata": {},
   "outputs": [
    {
     "name": "stdout",
     "output_type": "stream",
     "text": [
      "BaseModel.__init__() takes 1 positional argument but 4 were given\n"
     ]
    }
   ],
   "source": [
    "try:\n",
    "    Person(\"Abhishek\", \"jha\", 23)\n",
    "except Exception as ex:\n",
    "    print(ex)"
   ]
  },
  {
   "cell_type": "code",
   "execution_count": 5,
   "id": "a4d8eb54",
   "metadata": {},
   "outputs": [
    {
     "data": {
      "text/plain": [
       "Person(first_name='Issac', last_name='Newton', age=84)"
      ]
     },
     "execution_count": 5,
     "metadata": {},
     "output_type": "execute_result"
    }
   ],
   "source": [
    "newton = Person(first_name = 'Issac', last_name = 'Newton', age = 84)\n",
    "newton"
   ]
  },
  {
   "cell_type": "code",
   "execution_count": 6,
   "id": "2a0f57e3",
   "metadata": {},
   "outputs": [],
   "source": [
    "# dataclass are faster than pydantic -- dataclass (No type validation)\n",
    "# Pydantic V1, Pydantic V2 ==> Pydantic V2 is faster becoz it has been written in Rust language."
   ]
  },
  {
   "cell_type": "code",
   "execution_count": 7,
   "id": "356cb361",
   "metadata": {},
   "outputs": [],
   "source": [
    "from dataclasses import dataclass"
   ]
  },
  {
   "cell_type": "code",
   "execution_count": 8,
   "id": "96c72e34",
   "metadata": {},
   "outputs": [],
   "source": [
    "@dataclass\n",
    "class PersonD:\n",
    "    first_name:str\n",
    "    last_name:str\n",
    "    age:int"
   ]
  },
  {
   "cell_type": "code",
   "execution_count": 9,
   "id": "6e167588",
   "metadata": {},
   "outputs": [
    {
     "data": {
      "text/plain": [
       "PersonD(first_name='Abhishek', last_name='Jha', age='twenty-three')"
      ]
     },
     "execution_count": 9,
     "metadata": {},
     "output_type": "execute_result"
    }
   ],
   "source": [
    "PersonD('Abhishek', 'Jha', 'twenty-three')\n",
    "# Data class do not perform type validation\n",
    "# Due to this reason dataclasses are comparatively faster than Pydantic models\n",
    "# Dataclass acts as a code generator"
   ]
  },
  {
   "cell_type": "code",
   "execution_count": 10,
   "id": "8f4e7d6b",
   "metadata": {},
   "outputs": [],
   "source": [
    "class Person(BaseModel):\n",
    "    first_name: str\n",
    "    last_name : str\n",
    "    age : int"
   ]
  },
  {
   "cell_type": "code",
   "execution_count": 11,
   "id": "b6a8094a",
   "metadata": {},
   "outputs": [
    {
     "name": "stdout",
     "output_type": "stream",
     "text": [
      "1 validation error for Person\n",
      "age\n",
      "  Input should be a valid integer, unable to parse string as an integer [type=int_parsing, input_value='twenty-three', input_type=str]\n",
      "    For further information visit https://errors.pydantic.dev/2.3/v/int_parsing\n"
     ]
    }
   ],
   "source": [
    "try:\n",
    "    Person(first_name = 'Abhishek', last_name = 'jha', age = 'twenty-three')\n",
    "except Exception as ex:\n",
    "    print(ex)"
   ]
  },
  {
   "cell_type": "code",
   "execution_count": 12,
   "id": "3c523415",
   "metadata": {},
   "outputs": [
    {
     "data": {
      "text/plain": [
       "Person(first_name='Issac', last_name='Newton', age=84)"
      ]
     },
     "execution_count": 12,
     "metadata": {},
     "output_type": "execute_result"
    }
   ],
   "source": [
    "# Pydantic models do not perform validation after the model instance has been created\n",
    "newton"
   ]
  },
  {
   "cell_type": "code",
   "execution_count": 13,
   "id": "c6efe092",
   "metadata": {},
   "outputs": [],
   "source": [
    "newton.age = 'eighty-four' # str"
   ]
  },
  {
   "cell_type": "code",
   "execution_count": 14,
   "id": "a968490e",
   "metadata": {},
   "outputs": [
    {
     "data": {
      "text/plain": [
       "Person(first_name='Issac', last_name='Newton', age='eighty-four')"
      ]
     },
     "execution_count": 14,
     "metadata": {},
     "output_type": "execute_result"
    }
   ],
   "source": [
    "newton"
   ]
  },
  {
   "cell_type": "code",
   "execution_count": 15,
   "id": "88f93dce",
   "metadata": {},
   "outputs": [
    {
     "ename": "ValidationError",
     "evalue": "2 validation errors for Person\nlast_name\n  Field required [type=missing, input_value={'first_name': 'Evariste'}, input_type=dict]\n    For further information visit https://errors.pydantic.dev/2.3/v/missing\nage\n  Field required [type=missing, input_value={'first_name': 'Evariste'}, input_type=dict]\n    For further information visit https://errors.pydantic.dev/2.3/v/missing",
     "output_type": "error",
     "traceback": [
      "\u001b[1;31m---------------------------------------------------------------------------\u001b[0m",
      "\u001b[1;31mValidationError\u001b[0m                           Traceback (most recent call last)",
      "Cell \u001b[1;32mIn[15], line 1\u001b[0m\n\u001b[1;32m----> 1\u001b[0m \u001b[43mPerson\u001b[49m\u001b[43m(\u001b[49m\u001b[43mfirst_name\u001b[49m\u001b[43m \u001b[49m\u001b[38;5;241;43m=\u001b[39;49m\u001b[43m \u001b[49m\u001b[38;5;124;43m'\u001b[39;49m\u001b[38;5;124;43mEvariste\u001b[39;49m\u001b[38;5;124;43m'\u001b[39;49m\u001b[43m)\u001b[49m\n",
      "File \u001b[1;32m~\\AppData\\Local\\Programs\\Python\\Python311\\Lib\\site-packages\\pydantic\\main.py:165\u001b[0m, in \u001b[0;36mBaseModel.__init__\u001b[1;34m(__pydantic_self__, **data)\u001b[0m\n\u001b[0;32m    163\u001b[0m \u001b[38;5;66;03m# `__tracebackhide__` tells pytest and some other tools to omit this function from tracebacks\u001b[39;00m\n\u001b[0;32m    164\u001b[0m __tracebackhide__ \u001b[38;5;241m=\u001b[39m \u001b[38;5;28;01mTrue\u001b[39;00m\n\u001b[1;32m--> 165\u001b[0m \u001b[43m__pydantic_self__\u001b[49m\u001b[38;5;241;43m.\u001b[39;49m\u001b[43m__pydantic_validator__\u001b[49m\u001b[38;5;241;43m.\u001b[39;49m\u001b[43mvalidate_python\u001b[49m\u001b[43m(\u001b[49m\u001b[43mdata\u001b[49m\u001b[43m,\u001b[49m\u001b[43m \u001b[49m\u001b[43mself_instance\u001b[49m\u001b[38;5;241;43m=\u001b[39;49m\u001b[43m__pydantic_self__\u001b[49m\u001b[43m)\u001b[49m\n",
      "\u001b[1;31mValidationError\u001b[0m: 2 validation errors for Person\nlast_name\n  Field required [type=missing, input_value={'first_name': 'Evariste'}, input_type=dict]\n    For further information visit https://errors.pydantic.dev/2.3/v/missing\nage\n  Field required [type=missing, input_value={'first_name': 'Evariste'}, input_type=dict]\n    For further information visit https://errors.pydantic.dev/2.3/v/missing"
     ]
    }
   ],
   "source": [
    "Person(first_name = 'Evariste')\n",
    "# Pydantic is very verbose"
   ]
  },
  {
   "cell_type": "code",
   "execution_count": 16,
   "id": "c4434a21",
   "metadata": {},
   "outputs": [
    {
     "name": "stdout",
     "output_type": "stream",
     "text": [
      "2 validation errors for Person\n",
      "last_name\n",
      "  Field required [type=missing, input_value={'first_name': 'Abhishek'}, input_type=dict]\n",
      "    For further information visit https://errors.pydantic.dev/2.3/v/missing\n",
      "age\n",
      "  Field required [type=missing, input_value={'first_name': 'Abhishek'}, input_type=dict]\n",
      "    For further information visit https://errors.pydantic.dev/2.3/v/missing\n"
     ]
    }
   ],
   "source": [
    "try:\n",
    "    Person(first_name = 'Abhishek')\n",
    "except ValidationError as ex:\n",
    "    print(ex)"
   ]
  },
  {
   "cell_type": "markdown",
   "id": "cebdd758",
   "metadata": {},
   "source": [
    "# Required Fields"
   ]
  },
  {
   "cell_type": "code",
   "execution_count": 17,
   "id": "a668d45f",
   "metadata": {},
   "outputs": [],
   "source": [
    "class Person(BaseModel):\n",
    "    first_name: str\n",
    "    last_name : str\n",
    "    age : int"
   ]
  },
  {
   "cell_type": "code",
   "execution_count": 18,
   "id": "31c0419f",
   "metadata": {},
   "outputs": [
    {
     "data": {
      "text/plain": [
       "{'first_name': FieldInfo(annotation=str, required=True),\n",
       " 'last_name': FieldInfo(annotation=str, required=True),\n",
       " 'age': FieldInfo(annotation=int, required=True)}"
      ]
     },
     "execution_count": 18,
     "metadata": {},
     "output_type": "execute_result"
    }
   ],
   "source": [
    "Person.model_fields"
   ]
  },
  {
   "cell_type": "markdown",
   "id": "1e4330b2",
   "metadata": {},
   "source": [
    "# Optional fields(fields those are not required)"
   ]
  },
  {
   "cell_type": "code",
   "execution_count": 19,
   "id": "5240b8a1",
   "metadata": {},
   "outputs": [],
   "source": [
    "class Circle(BaseModel):\n",
    "    center: tuple[int, int]\n",
    "    radius:int"
   ]
  },
  {
   "cell_type": "code",
   "execution_count": 20,
   "id": "3e9a7a0c",
   "metadata": {},
   "outputs": [
    {
     "data": {
      "text/plain": [
       "{'center': FieldInfo(annotation=tuple[int, int], required=True),\n",
       " 'radius': FieldInfo(annotation=int, required=True)}"
      ]
     },
     "execution_count": 20,
     "metadata": {},
     "output_type": "execute_result"
    }
   ],
   "source": [
    "Circle.model_fields"
   ]
  },
  {
   "cell_type": "code",
   "execution_count": 22,
   "id": "c14c7129",
   "metadata": {},
   "outputs": [],
   "source": [
    "class Circle(BaseModel):\n",
    "    center: tuple[int, int] = (0, 0) # default value\n",
    "    radius:int\n",
    "\n",
    "# center -- is not a required field, ==> center is an optional field"
   ]
  },
  {
   "cell_type": "code",
   "execution_count": 23,
   "id": "786702e4",
   "metadata": {},
   "outputs": [
    {
     "data": {
      "text/plain": [
       "Circle(center=(0, 0), radius=1)"
      ]
     },
     "execution_count": 23,
     "metadata": {},
     "output_type": "execute_result"
    }
   ],
   "source": [
    "Circle(radius = 1)"
   ]
  },
  {
   "cell_type": "code",
   "execution_count": 24,
   "id": "a08daffe",
   "metadata": {},
   "outputs": [
    {
     "name": "stdout",
     "output_type": "stream",
     "text": [
      "1 validation error for Circle\n",
      "radius\n",
      "  Field required [type=missing, input_value={}, input_type=dict]\n",
      "    For further information visit https://errors.pydantic.dev/2.3/v/missing\n"
     ]
    }
   ],
   "source": [
    "try:\n",
    "    Circle()\n",
    "except ValidationError as ex:\n",
    "    print(ex)"
   ]
  },
  {
   "cell_type": "code",
   "execution_count": 25,
   "id": "f5f5d7e6",
   "metadata": {},
   "outputs": [
    {
     "data": {
      "text/plain": [
       "{'center': FieldInfo(annotation=tuple[int, int], required=False, default=(0, 0)),\n",
       " 'radius': FieldInfo(annotation=int, required=True)}"
      ]
     },
     "execution_count": 25,
     "metadata": {},
     "output_type": "execute_result"
    }
   ],
   "source": [
    "Circle.model_fields"
   ]
  },
  {
   "cell_type": "code",
   "execution_count": 26,
   "id": "06601b17",
   "metadata": {},
   "outputs": [],
   "source": [
    "# To make a field optional just provide it with a default value"
   ]
  },
  {
   "cell_type": "code",
   "execution_count": 27,
   "id": "60421fdd",
   "metadata": {},
   "outputs": [],
   "source": [
    "# Mistake"
   ]
  },
  {
   "cell_type": "code",
   "execution_count": 28,
   "id": "6a9e9fc8",
   "metadata": {},
   "outputs": [],
   "source": [
    "# Pydantic does not perform type validation for default values"
   ]
  },
  {
   "cell_type": "code",
   "execution_count": 29,
   "id": "58cc2add",
   "metadata": {},
   "outputs": [],
   "source": [
    "class Circle(BaseModel):\n",
    "    center:tuple[int,int] = 'junk'\n",
    "    radius:int"
   ]
  },
  {
   "cell_type": "code",
   "execution_count": 30,
   "id": "4a0d2063",
   "metadata": {},
   "outputs": [
    {
     "data": {
      "text/plain": [
       "Circle(center='junk', radius=2)"
      ]
     },
     "execution_count": 30,
     "metadata": {},
     "output_type": "execute_result"
    }
   ],
   "source": [
    "Circle(radius = 2)"
   ]
  },
  {
   "cell_type": "code",
   "execution_count": 31,
   "id": "82c71728",
   "metadata": {},
   "outputs": [],
   "source": [
    "# Pydantic trusts on the developer -- So it expects ki we provide it with a type consistent default value"
   ]
  },
  {
   "cell_type": "markdown",
   "id": "5b556df6",
   "metadata": {},
   "source": [
    "# Nullable fields"
   ]
  },
  {
   "cell_type": "code",
   "execution_count": 32,
   "id": "12ef918c",
   "metadata": {},
   "outputs": [],
   "source": [
    "# Nullable fields are those which can have None values"
   ]
  },
  {
   "cell_type": "code",
   "execution_count": 33,
   "id": "d007d82d",
   "metadata": {},
   "outputs": [],
   "source": [
    "class Person(BaseModel):\n",
    "    first_name :str\n",
    "    middle_name:str\n",
    "    last_name:str\n",
    "    age:int"
   ]
  },
  {
   "cell_type": "code",
   "execution_count": 34,
   "id": "0ca3c54c",
   "metadata": {},
   "outputs": [
    {
     "data": {
      "text/plain": [
       "{'first_name': FieldInfo(annotation=str, required=True),\n",
       " 'middle_name': FieldInfo(annotation=str, required=True),\n",
       " 'last_name': FieldInfo(annotation=str, required=True),\n",
       " 'age': FieldInfo(annotation=int, required=True)}"
      ]
     },
     "execution_count": 34,
     "metadata": {},
     "output_type": "execute_result"
    }
   ],
   "source": [
    "Person.model_fields"
   ]
  },
  {
   "cell_type": "code",
   "execution_count": 35,
   "id": "f103ceeb",
   "metadata": {},
   "outputs": [],
   "source": [
    "class Person(BaseModel):\n",
    "    first_name :str\n",
    "    middle_name:str\n",
    "    last_name:str\n",
    "    age:int"
   ]
  },
  {
   "cell_type": "code",
   "execution_count": 37,
   "id": "4e9f66c3",
   "metadata": {},
   "outputs": [
    {
     "name": "stdout",
     "output_type": "stream",
     "text": [
      "1 validation error for Person\n",
      "middle_name\n",
      "  Input should be a valid string [type=string_type, input_value=None, input_type=NoneType]\n",
      "    For further information visit https://errors.pydantic.dev/2.3/v/string_type\n"
     ]
    }
   ],
   "source": [
    "try:\n",
    "    Person(first_name = 'Abhishek', last_name = 'jha', age = 23, middle_name = None)\n",
    "except ValidationError as ex:\n",
    "    print(ex)"
   ]
  },
  {
   "cell_type": "code",
   "execution_count": 38,
   "id": "49f3f286",
   "metadata": {},
   "outputs": [],
   "source": [
    "class Person(BaseModel):\n",
    "    first_name :str\n",
    "    middle_name:str | None # Nullable field\n",
    "    last_name:str\n",
    "    age:int"
   ]
  },
  {
   "cell_type": "code",
   "execution_count": 40,
   "id": "644aa4d8",
   "metadata": {},
   "outputs": [
    {
     "data": {
      "text/plain": [
       "Person(first_name='Abhishek', middle_name=None, last_name='jha', age=23)"
      ]
     },
     "execution_count": 40,
     "metadata": {},
     "output_type": "execute_result"
    }
   ],
   "source": [
    "try:\n",
    "    p = Person(first_name = 'Abhishek', last_name = 'jha', age = 23, middle_name = None)\n",
    "except ValidationError as ex:\n",
    "    print(ex)\n",
    "p # middle_name was a Nullable field"
   ]
  },
  {
   "cell_type": "code",
   "execution_count": 41,
   "id": "8547c5af",
   "metadata": {},
   "outputs": [],
   "source": [
    "class Person(BaseModel):\n",
    "    first_name :str | None = None\n",
    "    middle_name:str | None = None\n",
    "    last_name:str | None = None\n",
    "    age:int = 0"
   ]
  },
  {
   "cell_type": "code",
   "execution_count": 43,
   "id": "37d086b1",
   "metadata": {},
   "outputs": [],
   "source": [
    "# Required field Vs Optional field\n",
    "# Nullable field Vs Non-Nullable field\n",
    "from typing import Optional\n",
    "class Person(BaseModel):\n",
    "    first_name : Optional[str] = None\n",
    "    middle_name:str | None = None\n",
    "    last_name:str | None = None\n",
    "    age:int = 0"
   ]
  },
  {
   "cell_type": "code",
   "execution_count": 45,
   "id": "30ed7365",
   "metadata": {},
   "outputs": [],
   "source": [
    "class Model(BaseModel):\n",
    "    field: Optional[int]\n",
    "        \n",
    "# Optional --- field is Optional XX -- int | None"
   ]
  },
  {
   "cell_type": "code",
   "execution_count": 48,
   "id": "65e9dcc9",
   "metadata": {},
   "outputs": [
    {
     "name": "stdout",
     "output_type": "stream",
     "text": [
      "1 validation error for Model\n",
      "field\n",
      "  Field required [type=missing, input_value={}, input_type=dict]\n",
      "    For further information visit https://errors.pydantic.dev/2.3/v/missing\n"
     ]
    }
   ],
   "source": [
    "try:\n",
    "    Model()\n",
    "except ValidationError as ex:\n",
    "    print(ex)"
   ]
  },
  {
   "cell_type": "code",
   "execution_count": 47,
   "id": "0df56fce",
   "metadata": {},
   "outputs": [
    {
     "data": {
      "text/plain": [
       "Model(field=None)"
      ]
     },
     "execution_count": 47,
     "metadata": {},
     "output_type": "execute_result"
    }
   ],
   "source": [
    "Model(field = None)"
   ]
  },
  {
   "cell_type": "code",
   "execution_count": 49,
   "id": "339126d1",
   "metadata": {},
   "outputs": [],
   "source": [
    "class Model(BaseModel):\n",
    "    field: int"
   ]
  },
  {
   "cell_type": "code",
   "execution_count": 50,
   "id": "86c915c0",
   "metadata": {},
   "outputs": [
    {
     "name": "stdout",
     "output_type": "stream",
     "text": [
      "1 validation error for Model\n",
      "field\n",
      "  Input should be a valid integer [type=int_type, input_value=None, input_type=NoneType]\n",
      "    For further information visit https://errors.pydantic.dev/2.3/v/int_type\n"
     ]
    }
   ],
   "source": [
    "try:\n",
    "    Model(field = None)\n",
    "except ValidationError as ex:\n",
    "    print(ex)"
   ]
  },
  {
   "cell_type": "markdown",
   "id": "0a247d1b",
   "metadata": {},
   "source": [
    "# 4 cases"
   ]
  },
  {
   "cell_type": "code",
   "execution_count": 51,
   "id": "7469b929",
   "metadata": {},
   "outputs": [],
   "source": [
    "# Nullable + Required,\n",
    "# Non-Nullable + Required\n",
    "# Nullable + Optional\n",
    "# Non-Nullable + Optional"
   ]
  },
  {
   "cell_type": "code",
   "execution_count": 52,
   "id": "77b540b4",
   "metadata": {},
   "outputs": [],
   "source": [
    "# Required Not Nullable == default case"
   ]
  },
  {
   "cell_type": "code",
   "execution_count": 53,
   "id": "1af6354e",
   "metadata": {},
   "outputs": [],
   "source": [
    "class Model(BaseModel):\n",
    "    field:int"
   ]
  },
  {
   "cell_type": "code",
   "execution_count": 54,
   "id": "6cf50334",
   "metadata": {},
   "outputs": [],
   "source": [
    "# field == required(no default value was given) + Not Nullable"
   ]
  },
  {
   "cell_type": "code",
   "execution_count": 55,
   "id": "7206a603",
   "metadata": {},
   "outputs": [],
   "source": [
    "# Required Nullable\n",
    "class Model(BaseModel):\n",
    "    field: int | None"
   ]
  },
  {
   "cell_type": "code",
   "execution_count": 56,
   "id": "8240c10f",
   "metadata": {},
   "outputs": [
    {
     "data": {
      "text/plain": [
       "{'field': FieldInfo(annotation=Union[int, NoneType], required=True)}"
      ]
     },
     "execution_count": 56,
     "metadata": {},
     "output_type": "execute_result"
    }
   ],
   "source": [
    "Model.model_fields"
   ]
  },
  {
   "cell_type": "code",
   "execution_count": 57,
   "id": "63c77cc7",
   "metadata": {},
   "outputs": [],
   "source": [
    "# Optional + ~Nullable"
   ]
  },
  {
   "cell_type": "code",
   "execution_count": 58,
   "id": "e0d52b25",
   "metadata": {},
   "outputs": [],
   "source": [
    "class Model(BaseModel):\n",
    "    field:int = 0"
   ]
  },
  {
   "cell_type": "code",
   "execution_count": 59,
   "id": "e7566f4a",
   "metadata": {},
   "outputs": [
    {
     "name": "stdout",
     "output_type": "stream",
     "text": [
      "1 validation error for Model\n",
      "field\n",
      "  Input should be a valid integer [type=int_type, input_value=None, input_type=NoneType]\n",
      "    For further information visit https://errors.pydantic.dev/2.3/v/int_type\n"
     ]
    }
   ],
   "source": [
    "try:\n",
    "    Model(field = None)\n",
    "except ValidationError as ex:\n",
    "    print(ex)"
   ]
  },
  {
   "cell_type": "code",
   "execution_count": 60,
   "id": "d37b377e",
   "metadata": {},
   "outputs": [],
   "source": [
    "# Optional + Nullable"
   ]
  },
  {
   "cell_type": "code",
   "execution_count": 61,
   "id": "139c4150",
   "metadata": {},
   "outputs": [],
   "source": [
    "class Model(BaseModel):\n",
    "    field: int | None =  None"
   ]
  },
  {
   "cell_type": "code",
   "execution_count": 62,
   "id": "c453a05e",
   "metadata": {},
   "outputs": [
    {
     "data": {
      "text/plain": [
       "Model(field=None)"
      ]
     },
     "execution_count": 62,
     "metadata": {},
     "output_type": "execute_result"
    }
   ],
   "source": [
    "Model()"
   ]
  },
  {
   "cell_type": "code",
   "execution_count": 63,
   "id": "7accbe6d",
   "metadata": {},
   "outputs": [
    {
     "data": {
      "text/plain": [
       "Model(field=None)"
      ]
     },
     "execution_count": 63,
     "metadata": {},
     "output_type": "execute_result"
    }
   ],
   "source": [
    "Model(field = None)"
   ]
  },
  {
   "cell_type": "code",
   "execution_count": 64,
   "id": "2b9a1a6c",
   "metadata": {},
   "outputs": [],
   "source": [
    "# To start, you should create an Automobile model that contains the following fields:\n",
    "\n",
    "# manufacturer, string, required, not nullable\n",
    "# series_name, string, required, not nullable\n",
    "# type_, string, required, not nullable\n",
    "# is_electric, boolean, defaults to False, not nullable\n",
    "# manufactured_date, date, required (hint use date from datetime module as your field type hint), not nullable\n",
    "# base_msrp_usd, float, required, not nullable\n",
    "# vin, string, required, not nullable\n",
    "# number_of_doors, integer, defaults to 4, not nullable\n",
    "# registration_country, string, defaults to None\n",
    "# license_plate, string, defaults to None"
   ]
  },
  {
   "cell_type": "code",
   "execution_count": 65,
   "id": "cccc0c69",
   "metadata": {},
   "outputs": [],
   "source": [
    "from datetime import date\n",
    "class Automobile(BaseModel):\n",
    "    manufacturer: str\n",
    "    series_name:str\n",
    "    type_:str\n",
    "    is_electric:bool = False\n",
    "    manufactured_date: date\n",
    "    base_msrp_usd:float\n",
    "    vin:str\n",
    "    number_of_doors:int = 4\n",
    "    registration_country:str | None = None\n",
    "    license_plate: str | None = None"
   ]
  },
  {
   "cell_type": "code",
   "execution_count": null,
   "id": "0151378a",
   "metadata": {},
   "outputs": [],
   "source": []
  }
 ],
 "metadata": {
  "kernelspec": {
   "display_name": "Python 3 (ipykernel)",
   "language": "python",
   "name": "python3"
  },
  "language_info": {
   "codemirror_mode": {
    "name": "ipython",
    "version": 3
   },
   "file_extension": ".py",
   "mimetype": "text/x-python",
   "name": "python",
   "nbconvert_exporter": "python",
   "pygments_lexer": "ipython3",
   "version": "3.11.5"
  }
 },
 "nbformat": 4,
 "nbformat_minor": 5
}
